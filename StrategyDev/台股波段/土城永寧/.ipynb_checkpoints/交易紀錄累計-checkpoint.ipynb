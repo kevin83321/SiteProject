{
 "cells": [
  {
   "cell_type": "code",
   "execution_count": 2,
   "metadata": {
    "ExecuteTime": {
     "end_time": "2022-06-14T11:57:56.815915Z",
     "start_time": "2022-06-14T11:57:56.799923Z"
    }
   },
   "outputs": [],
   "source": [
    "from datetime import datetime, timedelta\n",
    "from pandas import DataFrame, concat, date_range, ExcelWriter, read_csv\n",
    "# from pandas import DataFrame, ExcelWriter, date_range, to_datetime\n",
    "import os\n",
    "from numpy import isnan\n",
    "import time\n",
    "\n",
    "import warnings\n",
    "warnings.filterwarnings(\"ignore\")\n",
    "\n",
    "parent = os.path.dirname(os.path.abspath(\"__file__\"))\n",
    "record_path = os.path.join(parent, \"FollowBroker\")\n",
    "if not os.path.isdir(record_path):\n",
    "    os.makedirs(record_path)"
   ]
  },
  {
   "cell_type": "code",
   "execution_count": 9,
   "metadata": {
    "ExecuteTime": {
     "end_time": "2022-06-14T12:13:50.628337Z",
     "start_time": "2022-06-14T12:13:50.612341Z"
    }
   },
   "outputs": [],
   "source": [
    "def readDailyRecord(date:datetime):\n",
    "    ob_f_path = os.path.join(record_path, f'{date.strftime(\"%Y%m%d\")}_OverBuy.csv')\n",
    "    os_f_path = os.path.join(record_path, f'{date.strftime(\"%Y%m%d\")}_OverSell.csv')\n",
    "    ob_df, os_df = DataFrame(), DataFrame()\n",
    "    if os.path.isfile(ob_f_path):\n",
    "        try:\n",
    "            ob_df = read_csv(ob_f_path, dtype=str)\n",
    "        except:\n",
    "            pass\n",
    "        try:\n",
    "            os_df = read_csv(os_f_path, dtype=str)\n",
    "        except:\n",
    "            pass\n",
    "    return ob_df, os_df"
   ]
  },
  {
   "cell_type": "markdown",
   "metadata": {},
   "source": [
    "# First Time Aggregate"
   ]
  },
  {
   "cell_type": "code",
   "execution_count": 15,
   "metadata": {
    "ExecuteTime": {
     "end_time": "2022-06-14T12:15:01.420922Z",
     "start_time": "2022-06-14T12:14:59.250820Z"
    }
   },
   "outputs": [],
   "source": [
    "ob_dfs = {}\n",
    "os_dfs = {}\n",
    "for date in date_range(datetime(2021,1,1), datetime.today()):\n",
    "    ob_df, os_df = readDailyRecord(date)\n",
    "    if ob_df.empty and os_df.empty:\n",
    "        continue\n",
    "    ob_dfs[date] = ob_df\n",
    "    os_dfs[date] = os_df"
   ]
  },
  {
   "cell_type": "code",
   "execution_count": 16,
   "metadata": {
    "ExecuteTime": {
     "end_time": "2022-06-14T12:16:33.689944Z",
     "start_time": "2022-06-14T12:16:33.670955Z"
    }
   },
   "outputs": [],
   "source": [
    "keys = sorted(set(ob_dfs.keys()).intersection(os_dfs.keys()))"
   ]
  },
  {
   "cell_type": "code",
   "execution_count": 18,
   "metadata": {
    "ExecuteTime": {
     "end_time": "2022-06-14T12:26:50.170264Z",
     "start_time": "2022-06-14T12:26:50.146272Z"
    }
   },
   "outputs": [
    {
     "data": {
      "text/html": [
       "<div>\n",
       "<style scoped>\n",
       "    .dataframe tbody tr th:only-of-type {\n",
       "        vertical-align: middle;\n",
       "    }\n",
       "\n",
       "    .dataframe tbody tr th {\n",
       "        vertical-align: top;\n",
       "    }\n",
       "\n",
       "    .dataframe thead th {\n",
       "        text-align: right;\n",
       "    }\n",
       "</style>\n",
       "<table border=\"1\" class=\"dataframe\">\n",
       "  <thead>\n",
       "    <tr style=\"text-align: right;\">\n",
       "      <th></th>\n",
       "      <th>Ticker</th>\n",
       "      <th>名稱</th>\n",
       "      <th>差額(張數)</th>\n",
       "      <th>差額(金額)</th>\n",
       "      <th>買入均價</th>\n",
       "      <th>成交量</th>\n",
       "      <th>買入占比</th>\n",
       "    </tr>\n",
       "  </thead>\n",
       "  <tbody>\n",
       "    <tr>\n",
       "      <th>0</th>\n",
       "      <td>'2618</td>\n",
       "      <td>長榮航</td>\n",
       "      <td>130</td>\n",
       "      <td>4,171</td>\n",
       "      <td>32.08</td>\n",
       "      <td>124737</td>\n",
       "      <td>0.1</td>\n",
       "    </tr>\n",
       "    <tr>\n",
       "      <th>1</th>\n",
       "      <td>'3037</td>\n",
       "      <td>欣興</td>\n",
       "      <td>753</td>\n",
       "      <td>151,328</td>\n",
       "      <td>200.97</td>\n",
       "      <td>18938</td>\n",
       "      <td>3.98</td>\n",
       "    </tr>\n",
       "    <tr>\n",
       "      <th>2</th>\n",
       "      <td>'6026</td>\n",
       "      <td>福邦證</td>\n",
       "      <td>100</td>\n",
       "      <td>1,698</td>\n",
       "      <td>16.98</td>\n",
       "      <td>1137</td>\n",
       "      <td>8.8</td>\n",
       "    </tr>\n",
       "    <tr>\n",
       "      <th>3</th>\n",
       "      <td>'6235</td>\n",
       "      <td>華孚</td>\n",
       "      <td>332</td>\n",
       "      <td>14,315</td>\n",
       "      <td>43.12</td>\n",
       "      <td>24116</td>\n",
       "      <td>1.38</td>\n",
       "    </tr>\n",
       "  </tbody>\n",
       "</table>\n",
       "</div>"
      ],
      "text/plain": [
       "  Ticker   名稱 差額(張數)   差額(金額)    買入均價     成交量  買入占比\n",
       "0  '2618  長榮航    130    4,171   32.08  124737   0.1\n",
       "1  '3037   欣興    753  151,328  200.97   18938  3.98\n",
       "2  '6026  福邦證    100    1,698   16.98    1137   8.8\n",
       "3  '6235   華孚    332   14,315   43.12   24116  1.38"
      ]
     },
     "execution_count": 18,
     "metadata": {},
     "output_type": "execute_result"
    }
   ],
   "source": [
    "ob_dfs[date]"
   ]
  },
  {
   "cell_type": "code",
   "execution_count": null,
   "metadata": {},
   "outputs": [],
   "source": [
    "Agg_df = DataFrame()"
   ]
  },
  {
   "cell_type": "code",
   "execution_count": null,
   "metadata": {},
   "outputs": [],
   "source": [
    "for key in keys:\n",
    "    tmp_ob = ob_dfs[key].copy(deep=True)\n",
    "    tmp_os = os_dfs[key].copy(deep=True)\n",
    "    \n",
    "    if not tmp_ob.empty:\n",
    "        tmp_ob['Date'] = date\n",
    "    if not tmp_os.empty:\n",
    "        tmp_os['Date'] = date"
   ]
  }
 ],
 "metadata": {
  "hide_input": false,
  "kernelspec": {
   "display_name": "Python 3",
   "language": "python",
   "name": "python3"
  },
  "language_info": {
   "codemirror_mode": {
    "name": "ipython",
    "version": 3
   },
   "file_extension": ".py",
   "mimetype": "text/x-python",
   "name": "python",
   "nbconvert_exporter": "python",
   "pygments_lexer": "ipython3",
   "version": "3.7.8"
  },
  "toc": {
   "base_numbering": 1,
   "nav_menu": {},
   "number_sections": true,
   "sideBar": true,
   "skip_h1_title": false,
   "title_cell": "Table of Contents",
   "title_sidebar": "Contents",
   "toc_cell": false,
   "toc_position": {},
   "toc_section_display": true,
   "toc_window_display": false
  },
  "varInspector": {
   "cols": {
    "lenName": 16,
    "lenType": 16,
    "lenVar": 40
   },
   "kernels_config": {
    "python": {
     "delete_cmd_postfix": "",
     "delete_cmd_prefix": "del ",
     "library": "var_list.py",
     "varRefreshCmd": "print(var_dic_list())"
    },
    "r": {
     "delete_cmd_postfix": ") ",
     "delete_cmd_prefix": "rm(",
     "library": "var_list.r",
     "varRefreshCmd": "cat(var_dic_list()) "
    }
   },
   "types_to_exclude": [
    "module",
    "function",
    "builtin_function_or_method",
    "instance",
    "_Feature"
   ],
   "window_display": false
  }
 },
 "nbformat": 4,
 "nbformat_minor": 4
}
