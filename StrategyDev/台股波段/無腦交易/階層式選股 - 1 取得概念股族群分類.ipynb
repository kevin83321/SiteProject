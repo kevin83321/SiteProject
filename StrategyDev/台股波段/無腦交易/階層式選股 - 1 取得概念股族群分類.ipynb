{
 "cells": [
  {
   "cell_type": "markdown",
   "metadata": {},
   "source": [
    "# Import Modules"
   ]
  },
  {
   "cell_type": "code",
   "execution_count": 1,
   "metadata": {
    "ExecuteTime": {
     "end_time": "2022-09-08T16:09:37.847900Z",
     "start_time": "2022-09-08T16:09:37.570910Z"
    }
   },
   "outputs": [],
   "source": [
    "import requests\n",
    "from bs4 import BeautifulSoup as bs\n",
    "import time"
   ]
  },
  {
   "cell_type": "markdown",
   "metadata": {},
   "source": [
    "# 爬取概念股分類"
   ]
  },
  {
   "cell_type": "code",
   "execution_count": 2,
   "metadata": {
    "ExecuteTime": {
     "end_time": "2022-09-08T16:09:39.359087Z",
     "start_time": "2022-09-08T16:09:39.338087Z"
    }
   },
   "outputs": [],
   "source": [
    "def getConceptGroup():\n",
    "    class_url = \"https://tw.stock.yahoo.com/class/\"\n",
    "    res = requests.get(class_url)\n",
    "    soup = bs(res.content, 'lxml')\n",
    "\n",
    "    concept_groups = soup.find_all('div', {'id':'CONCEPT_STOCK'})\n",
    "    groups = {}\n",
    "    for concept_g in concept_groups[0].find_all('div')[2:]:\n",
    "        tmp_input = concept_g.find_all('a')[0].get('href')\n",
    "        tmp_input = tmp_input[tmp_input.index('?')+1:].split('&')\n",
    "        groups[concept_g.text] = dict((value.split('=')[0], value.split('=')[1]) for value in tmp_input)\n",
    "#         groups[concept_g.text]['PRID'] = getPRID(groups, concept_g.text)\n",
    "#         time.sleep(3)\n",
    "    return groups\n",
    "\n",
    "def getPRID(group, key):\n",
    "    try:\n",
    "        category = key\n",
    "        categoryLabel = group[key]['categoryLabel']\n",
    "        stocks_url = f'https://tw.stock.yahoo.com/class-quote?category={key}&categoryLabel={categoryLabel}'\n",
    "        res_stock = requests.get(stocks_url)\n",
    "        stock_soup = bs(res_stock.content, 'lxml')\n",
    "        tmp_text = str(stock_soup)[str(stock_soup).index('\"prid\"'):]\n",
    "        tmp_text = tmp_text[:tmp_text.index(',')]\n",
    "    except:\n",
    "        print(key)\n",
    "        print(stock_soup)\n",
    "    else:\n",
    "        return tmp_text.split(':')[1].replace('\\\"', '')"
   ]
  },
  {
   "cell_type": "code",
   "execution_count": 3,
   "metadata": {
    "ExecuteTime": {
     "end_time": "2022-09-08T16:09:42.105157Z",
     "start_time": "2022-09-08T16:09:41.721992Z"
    }
   },
   "outputs": [],
   "source": [
    "conceptGroup = getConceptGroup()"
   ]
  },
  {
   "cell_type": "code",
   "execution_count": 4,
   "metadata": {
    "ExecuteTime": {
     "end_time": "2022-09-08T16:09:43.606878Z",
     "start_time": "2022-09-08T16:09:43.594882Z"
    },
    "scrolled": true
   },
   "outputs": [],
   "source": [
    "def getGroupStocks(conceptGroup):\n",
    "    stock_url = 'https://tw.stock.yahoo.com/_td-stock/api/resource/StockServices.getClassQuotes;category={0};categoryLabel={1};categoryName={0};offset={2}?bkt=&device=desktop&ecma=modern&feature=ecmaModern%2CuseNewQuoteTabColor&intl=tw&lang=zh-Hant-TW&partner=none&prid={3}&region=TW&site=finance&tz=Asia%2FTaipei&ver=1.2.1466&returnMeta=true'\n",
    "    offset = 0\n",
    "    output = {}\n",
    "    for k, v in conceptGroup.items():\n",
    "        output[k] = output.get(k, [])\n",
    "        while offset >= 0:\n",
    "            url_ = stock_url.format(v['category'], v['categoryLabel'], offset, '') # v['PRID'] if v['PRID'] else \n",
    "            res_ = requests.get(url_)\n",
    "            output[k] += res_.json()['data']['list']\n",
    "            if res_.json()['data']['pagination']['nextOffset']:\n",
    "                offset = int(res_.json()['data']['pagination']['nextOffset'])\n",
    "            else:\n",
    "                offset = 0\n",
    "                break\n",
    "            time.sleep(3)\n",
    "    return output\n",
    "        "
   ]
  },
  {
   "cell_type": "code",
   "execution_count": 5,
   "metadata": {
    "ExecuteTime": {
     "end_time": "2022-09-08T16:12:21.187634Z",
     "start_time": "2022-09-08T16:10:38.565994Z"
    }
   },
   "outputs": [],
   "source": [
    "output = getGroupStocks(conceptGroup)"
   ]
  }
 ],
 "metadata": {
  "hide_input": false,
  "kernelspec": {
   "display_name": "Python 3",
   "language": "python",
   "name": "python3"
  },
  "language_info": {
   "codemirror_mode": {
    "name": "ipython",
    "version": 3
   },
   "file_extension": ".py",
   "mimetype": "text/x-python",
   "name": "python",
   "nbconvert_exporter": "python",
   "pygments_lexer": "ipython3",
   "version": "3.7.8"
  },
  "toc": {
   "base_numbering": 1,
   "nav_menu": {},
   "number_sections": true,
   "sideBar": true,
   "skip_h1_title": false,
   "title_cell": "Table of Contents",
   "title_sidebar": "Contents",
   "toc_cell": false,
   "toc_position": {},
   "toc_section_display": true,
   "toc_window_display": false
  },
  "varInspector": {
   "cols": {
    "lenName": 16,
    "lenType": 16,
    "lenVar": 40
   },
   "kernels_config": {
    "python": {
     "delete_cmd_postfix": "",
     "delete_cmd_prefix": "del ",
     "library": "var_list.py",
     "varRefreshCmd": "print(var_dic_list())"
    },
    "r": {
     "delete_cmd_postfix": ") ",
     "delete_cmd_prefix": "rm(",
     "library": "var_list.r",
     "varRefreshCmd": "cat(var_dic_list()) "
    }
   },
   "types_to_exclude": [
    "module",
    "function",
    "builtin_function_or_method",
    "instance",
    "_Feature"
   ],
   "window_display": false
  }
 },
 "nbformat": 4,
 "nbformat_minor": 4
}
