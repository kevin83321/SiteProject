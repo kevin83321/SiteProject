{
 "cells": [
  {
   "cell_type": "markdown",
   "metadata": {},
   "source": [
    "# Import Modules"
   ]
  },
  {
   "cell_type": "code",
   "execution_count": 1,
   "metadata": {
    "ExecuteTime": {
     "end_time": "2022-09-08T16:59:36.013246Z",
     "start_time": "2022-09-08T16:59:34.052265Z"
    }
   },
   "outputs": [
    {
     "name": "stderr",
     "output_type": "stream",
     "text": [
      "c:\\users\\kevin\\appdata\\local\\programs\\python\\python37\\lib\\site-packages\\mpl_finance.py:22: DeprecationWarning: \n",
      "\n",
      "  =================================================================\n",
      "\n",
      "   WARNING: `mpl_finance` is deprecated:\n",
      "\n",
      "    Please use `mplfinance` instead (no hyphen, no underscore).\n",
      "\n",
      "    To install: `pip install --upgrade mplfinance` \n",
      "\n",
      "   For more information, see: https://pypi.org/project/mplfinance/\n",
      "\n",
      "  =================================================================\n",
      "\n",
      "  category=DeprecationWarning)\n"
     ]
    }
   ],
   "source": [
    "from utils import *"
   ]
  },
  {
   "cell_type": "markdown",
   "metadata": {},
   "source": [
    "# 從資料庫取得資料"
   ]
  },
  {
   "cell_type": "code",
   "execution_count": 3,
   "metadata": {
    "ExecuteTime": {
     "end_time": "2022-09-08T17:02:40.395467Z",
     "start_time": "2022-09-08T17:02:40.377476Z"
    }
   },
   "outputs": [],
   "source": [
    "client = getclient()\n",
    "schema = client['admin']"
   ]
  },
  {
   "cell_type": "markdown",
   "metadata": {},
   "source": [
    "## 從資料庫取得概念股族群"
   ]
  },
  {
   "cell_type": "code",
   "execution_count": 10,
   "metadata": {
    "ExecuteTime": {
     "end_time": "2022-09-08T17:05:47.970934Z",
     "start_time": "2022-09-08T17:05:47.777936Z"
    }
   },
   "outputs": [],
   "source": [
    "group_table = schema['ConceptGroups']\n",
    "update_date = sorted(group_table.distinct(\"UpdateDate\"))[-1]\n",
    "groups_data = pd.DataFrame(list(group_table.find({\"UpdateDate\":{\"$eq\":update_date}})))\n",
    "del groups_data['_id']"
   ]
  },
  {
   "cell_type": "code",
   "execution_count": 11,
   "metadata": {
    "ExecuteTime": {
     "end_time": "2022-09-08T17:05:48.708779Z",
     "start_time": "2022-09-08T17:05:48.677787Z"
    }
   },
   "outputs": [
    {
     "data": {
      "text/html": [
       "<div>\n",
       "<style scoped>\n",
       "    .dataframe tbody tr th:only-of-type {\n",
       "        vertical-align: middle;\n",
       "    }\n",
       "\n",
       "    .dataframe tbody tr th {\n",
       "        vertical-align: top;\n",
       "    }\n",
       "\n",
       "    .dataframe thead th {\n",
       "        text-align: right;\n",
       "    }\n",
       "</style>\n",
       "<table border=\"1\" class=\"dataframe\">\n",
       "  <thead>\n",
       "    <tr style=\"text-align: right;\">\n",
       "      <th></th>\n",
       "      <th>UpdateDate</th>\n",
       "      <th>Ticker</th>\n",
       "      <th>Name</th>\n",
       "      <th>Market</th>\n",
       "      <th>sectorName</th>\n",
       "      <th>Group</th>\n",
       "    </tr>\n",
       "  </thead>\n",
       "  <tbody>\n",
       "    <tr>\n",
       "      <th>0</th>\n",
       "      <td>2022-09-09</td>\n",
       "      <td>00917</td>\n",
       "      <td>中信特選金融</td>\n",
       "      <td>TWSE</td>\n",
       "      <td>ETF</td>\n",
       "      <td>新掛牌</td>\n",
       "    </tr>\n",
       "    <tr>\n",
       "      <th>1</th>\n",
       "      <td>2022-09-09</td>\n",
       "      <td>1101</td>\n",
       "      <td>台泥</td>\n",
       "      <td>TWSE</td>\n",
       "      <td>水泥</td>\n",
       "      <td>一帶一路</td>\n",
       "    </tr>\n",
       "    <tr>\n",
       "      <th>2</th>\n",
       "      <td>2022-09-09</td>\n",
       "      <td>1101</td>\n",
       "      <td>台泥</td>\n",
       "      <td>TWSE</td>\n",
       "      <td>水泥</td>\n",
       "      <td>台資在中國高獲利</td>\n",
       "    </tr>\n",
       "    <tr>\n",
       "      <th>3</th>\n",
       "      <td>2022-09-09</td>\n",
       "      <td>1101</td>\n",
       "      <td>台泥</td>\n",
       "      <td>TWSE</td>\n",
       "      <td>水泥</td>\n",
       "      <td>海外掛牌</td>\n",
       "    </tr>\n",
       "    <tr>\n",
       "      <th>4</th>\n",
       "      <td>2022-09-09</td>\n",
       "      <td>1102</td>\n",
       "      <td>亞泥</td>\n",
       "      <td>TWSE</td>\n",
       "      <td>水泥</td>\n",
       "      <td>一帶一路</td>\n",
       "    </tr>\n",
       "    <tr>\n",
       "      <th>...</th>\n",
       "      <td>...</td>\n",
       "      <td>...</td>\n",
       "      <td>...</td>\n",
       "      <td>...</td>\n",
       "      <td>...</td>\n",
       "      <td>...</td>\n",
       "    </tr>\n",
       "    <tr>\n",
       "      <th>2403</th>\n",
       "      <td>2022-09-09</td>\n",
       "      <td>9951</td>\n",
       "      <td>皇田</td>\n",
       "      <td>OTC</td>\n",
       "      <td>櫃電機</td>\n",
       "      <td>中國台商汽車組件</td>\n",
       "    </tr>\n",
       "    <tr>\n",
       "      <th>2404</th>\n",
       "      <td>2022-09-09</td>\n",
       "      <td>9951</td>\n",
       "      <td>皇田</td>\n",
       "      <td>OTC</td>\n",
       "      <td>櫃電機</td>\n",
       "      <td>歐元貶值</td>\n",
       "    </tr>\n",
       "    <tr>\n",
       "      <th>2405</th>\n",
       "      <td>2022-09-09</td>\n",
       "      <td>9955</td>\n",
       "      <td>佳龍</td>\n",
       "      <td>TWSE</td>\n",
       "      <td>其他</td>\n",
       "      <td>再生循環</td>\n",
       "    </tr>\n",
       "    <tr>\n",
       "      <th>2406</th>\n",
       "      <td>2022-09-09</td>\n",
       "      <td>9958</td>\n",
       "      <td>世紀鋼</td>\n",
       "      <td>TWSE</td>\n",
       "      <td>鋼鐵</td>\n",
       "      <td>丹麥沃旭</td>\n",
       "    </tr>\n",
       "    <tr>\n",
       "      <th>2407</th>\n",
       "      <td>2022-09-09</td>\n",
       "      <td>9958</td>\n",
       "      <td>世紀鋼</td>\n",
       "      <td>TWSE</td>\n",
       "      <td>鋼鐵</td>\n",
       "      <td>風力發電/離岸風電</td>\n",
       "    </tr>\n",
       "  </tbody>\n",
       "</table>\n",
       "<p>2408 rows × 6 columns</p>\n",
       "</div>"
      ],
      "text/plain": [
       "      UpdateDate Ticker    Name Market sectorName      Group\n",
       "0     2022-09-09  00917  中信特選金融   TWSE        ETF        新掛牌\n",
       "1     2022-09-09   1101      台泥   TWSE         水泥       一帶一路\n",
       "2     2022-09-09   1101      台泥   TWSE         水泥   台資在中國高獲利\n",
       "3     2022-09-09   1101      台泥   TWSE         水泥       海外掛牌\n",
       "4     2022-09-09   1102      亞泥   TWSE         水泥       一帶一路\n",
       "...          ...    ...     ...    ...        ...        ...\n",
       "2403  2022-09-09   9951      皇田    OTC        櫃電機   中國台商汽車組件\n",
       "2404  2022-09-09   9951      皇田    OTC        櫃電機       歐元貶值\n",
       "2405  2022-09-09   9955      佳龍   TWSE         其他       再生循環\n",
       "2406  2022-09-09   9958     世紀鋼   TWSE         鋼鐵       丹麥沃旭\n",
       "2407  2022-09-09   9958     世紀鋼   TWSE         鋼鐵  風力發電/離岸風電\n",
       "\n",
       "[2408 rows x 6 columns]"
      ]
     },
     "execution_count": 11,
     "metadata": {},
     "output_type": "execute_result"
    }
   ],
   "source": [
    "groups_data"
   ]
  },
  {
   "cell_type": "markdown",
   "metadata": {},
   "source": [
    "## 從資料庫取得產業類股"
   ]
  },
  {
   "cell_type": "code",
   "execution_count": 15,
   "metadata": {
    "ExecuteTime": {
     "end_time": "2022-09-08T17:16:48.410833Z",
     "start_time": "2022-09-08T17:16:48.150156Z"
    }
   },
   "outputs": [],
   "source": [
    "info_table = schema['TWSE.StockList']\n",
    "update_date_info = sorted(info_table.distinct(\"UpdateDate\"))[-1]\n",
    "info_data = pd.DataFrame(list(info_table.find({\"UpdateDate\":{\"$eq\":update_date_info}, \n",
    "                                               'AssetType':{\"$in\":[\"股票\", \"台灣存託憑證(TDR)\",\n",
    "                                                                   \"台灣存託憑證\", \"普通股\"]}})))\n",
    "del info_data['_id']"
   ]
  },
  {
   "cell_type": "code",
   "execution_count": 16,
   "metadata": {
    "ExecuteTime": {
     "end_time": "2022-09-08T17:16:49.238498Z",
     "start_time": "2022-09-08T17:16:49.209502Z"
    }
   },
   "outputs": [
    {
     "data": {
      "text/html": [
       "<div>\n",
       "<style scoped>\n",
       "    .dataframe tbody tr th:only-of-type {\n",
       "        vertical-align: middle;\n",
       "    }\n",
       "\n",
       "    .dataframe tbody tr th {\n",
       "        vertical-align: top;\n",
       "    }\n",
       "\n",
       "    .dataframe thead th {\n",
       "        text-align: right;\n",
       "    }\n",
       "</style>\n",
       "<table border=\"1\" class=\"dataframe\">\n",
       "  <thead>\n",
       "    <tr style=\"text-align: right;\">\n",
       "      <th></th>\n",
       "      <th>CFICode</th>\n",
       "      <th>ISINCode</th>\n",
       "      <th>Industry</th>\n",
       "      <th>IssueDate</th>\n",
       "      <th>Market</th>\n",
       "      <th>Name</th>\n",
       "      <th>Ticker</th>\n",
       "      <th>UpdateDate</th>\n",
       "      <th>AssetType</th>\n",
       "    </tr>\n",
       "  </thead>\n",
       "  <tbody>\n",
       "    <tr>\n",
       "      <th>0</th>\n",
       "      <td>ESVUFR</td>\n",
       "      <td>TW0001101004</td>\n",
       "      <td>水泥工業</td>\n",
       "      <td>1962-02-09</td>\n",
       "      <td>上市</td>\n",
       "      <td>台泥</td>\n",
       "      <td>1101</td>\n",
       "      <td>2022-09-08</td>\n",
       "      <td>股票</td>\n",
       "    </tr>\n",
       "    <tr>\n",
       "      <th>1</th>\n",
       "      <td>ESVUFR</td>\n",
       "      <td>TW0001102002</td>\n",
       "      <td>水泥工業</td>\n",
       "      <td>1962-06-08</td>\n",
       "      <td>上市</td>\n",
       "      <td>亞泥</td>\n",
       "      <td>1102</td>\n",
       "      <td>2022-09-08</td>\n",
       "      <td>股票</td>\n",
       "    </tr>\n",
       "    <tr>\n",
       "      <th>2</th>\n",
       "      <td>ESVUFR</td>\n",
       "      <td>TW0001103000</td>\n",
       "      <td>水泥工業</td>\n",
       "      <td>1969-11-14</td>\n",
       "      <td>上市</td>\n",
       "      <td>嘉泥</td>\n",
       "      <td>1103</td>\n",
       "      <td>2022-09-08</td>\n",
       "      <td>股票</td>\n",
       "    </tr>\n",
       "    <tr>\n",
       "      <th>3</th>\n",
       "      <td>ESVUFR</td>\n",
       "      <td>TW0001104008</td>\n",
       "      <td>水泥工業</td>\n",
       "      <td>1971-02-01</td>\n",
       "      <td>上市</td>\n",
       "      <td>環泥</td>\n",
       "      <td>1104</td>\n",
       "      <td>2022-09-08</td>\n",
       "      <td>股票</td>\n",
       "    </tr>\n",
       "    <tr>\n",
       "      <th>4</th>\n",
       "      <td>ESVUFR</td>\n",
       "      <td>TW0001108009</td>\n",
       "      <td>水泥工業</td>\n",
       "      <td>1990-06-06</td>\n",
       "      <td>上市</td>\n",
       "      <td>幸福</td>\n",
       "      <td>1108</td>\n",
       "      <td>2022-09-08</td>\n",
       "      <td>股票</td>\n",
       "    </tr>\n",
       "    <tr>\n",
       "      <th>...</th>\n",
       "      <td>...</td>\n",
       "      <td>...</td>\n",
       "      <td>...</td>\n",
       "      <td>...</td>\n",
       "      <td>...</td>\n",
       "      <td>...</td>\n",
       "      <td>...</td>\n",
       "      <td>...</td>\n",
       "      <td>...</td>\n",
       "    </tr>\n",
       "    <tr>\n",
       "      <th>1763</th>\n",
       "      <td>ESVUFR</td>\n",
       "      <td>KYG7148D1025</td>\n",
       "      <td>半導體業</td>\n",
       "      <td>2022-08-18</td>\n",
       "      <td>上市臺灣創新板</td>\n",
       "      <td>錼創科技-KY創</td>\n",
       "      <td>6854</td>\n",
       "      <td>2022-09-08</td>\n",
       "      <td>普通股</td>\n",
       "    </tr>\n",
       "    <tr>\n",
       "      <th>1764</th>\n",
       "      <td>ESVUFR</td>\n",
       "      <td>TW0003715009</td>\n",
       "      <td>電子零組件業</td>\n",
       "      <td>2022-08-25</td>\n",
       "      <td>上市</td>\n",
       "      <td>定穎投控</td>\n",
       "      <td>3715</td>\n",
       "      <td>2022-09-08</td>\n",
       "      <td>股票</td>\n",
       "    </tr>\n",
       "    <tr>\n",
       "      <th>1765</th>\n",
       "      <td>ESVUFR</td>\n",
       "      <td>TW0006830003</td>\n",
       "      <td>其他電子業</td>\n",
       "      <td>2022-08-31</td>\n",
       "      <td>上市</td>\n",
       "      <td>汎銓</td>\n",
       "      <td>6830</td>\n",
       "      <td>2022-09-08</td>\n",
       "      <td>股票</td>\n",
       "    </tr>\n",
       "    <tr>\n",
       "      <th>1766</th>\n",
       "      <td>ESVUFR</td>\n",
       "      <td>TW0006834005</td>\n",
       "      <td>電子零組件業</td>\n",
       "      <td>2022-09-01</td>\n",
       "      <td>上市</td>\n",
       "      <td>天二科技</td>\n",
       "      <td>6834</td>\n",
       "      <td>2022-09-08</td>\n",
       "      <td>股票</td>\n",
       "    </tr>\n",
       "    <tr>\n",
       "      <th>1767</th>\n",
       "      <td>ESVUFR</td>\n",
       "      <td>TW0003430005</td>\n",
       "      <td>化學工業</td>\n",
       "      <td>2022-09-08</td>\n",
       "      <td>上櫃</td>\n",
       "      <td>奇鈦科</td>\n",
       "      <td>3430</td>\n",
       "      <td>2022-09-08</td>\n",
       "      <td>股票</td>\n",
       "    </tr>\n",
       "  </tbody>\n",
       "</table>\n",
       "<p>1768 rows × 9 columns</p>\n",
       "</div>"
      ],
      "text/plain": [
       "     CFICode      ISINCode Industry   IssueDate   Market      Name Ticker  \\\n",
       "0     ESVUFR  TW0001101004     水泥工業  1962-02-09       上市        台泥   1101   \n",
       "1     ESVUFR  TW0001102002     水泥工業  1962-06-08       上市        亞泥   1102   \n",
       "2     ESVUFR  TW0001103000     水泥工業  1969-11-14       上市        嘉泥   1103   \n",
       "3     ESVUFR  TW0001104008     水泥工業  1971-02-01       上市        環泥   1104   \n",
       "4     ESVUFR  TW0001108009     水泥工業  1990-06-06       上市        幸福   1108   \n",
       "...      ...           ...      ...         ...      ...       ...    ...   \n",
       "1763  ESVUFR  KYG7148D1025     半導體業  2022-08-18  上市臺灣創新板  錼創科技-KY創   6854   \n",
       "1764  ESVUFR  TW0003715009   電子零組件業  2022-08-25       上市      定穎投控   3715   \n",
       "1765  ESVUFR  TW0006830003    其他電子業  2022-08-31       上市        汎銓   6830   \n",
       "1766  ESVUFR  TW0006834005   電子零組件業  2022-09-01       上市      天二科技   6834   \n",
       "1767  ESVUFR  TW0003430005     化學工業  2022-09-08       上櫃       奇鈦科   3430   \n",
       "\n",
       "      UpdateDate AssetType  \n",
       "0     2022-09-08        股票  \n",
       "1     2022-09-08        股票  \n",
       "2     2022-09-08        股票  \n",
       "3     2022-09-08        股票  \n",
       "4     2022-09-08        股票  \n",
       "...          ...       ...  \n",
       "1763  2022-09-08       普通股  \n",
       "1764  2022-09-08        股票  \n",
       "1765  2022-09-08        股票  \n",
       "1766  2022-09-08        股票  \n",
       "1767  2022-09-08        股票  \n",
       "\n",
       "[1768 rows x 9 columns]"
      ]
     },
     "execution_count": 16,
     "metadata": {},
     "output_type": "execute_result"
    }
   ],
   "source": [
    "info_data"
   ]
  },
  {
   "cell_type": "markdown",
   "metadata": {},
   "source": [
    "## 從資料庫取得類股指數"
   ]
  },
  {
   "cell_type": "code",
   "execution_count": 2,
   "metadata": {
    "ExecuteTime": {
     "end_time": "2022-09-08T16:09:39.359087Z",
     "start_time": "2022-09-08T16:09:39.338087Z"
    }
   },
   "outputs": [],
   "source": [
    "def getConceptGroup():\n",
    "    class_url = \"https://tw.stock.yahoo.com/class/\"\n",
    "    res = requests.get(class_url)\n",
    "    soup = bs(res.content, 'lxml')\n",
    "\n",
    "    concept_groups = soup.find_all('div', {'id':'CONCEPT_STOCK'})\n",
    "    groups = {}\n",
    "    for concept_g in concept_groups[0].find_all('div')[2:]:\n",
    "        tmp_input = concept_g.find_all('a')[0].get('href')\n",
    "        tmp_input = tmp_input[tmp_input.index('?')+1:].split('&')\n",
    "        groups[concept_g.text] = dict((value.split('=')[0], value.split('=')[1]) for value in tmp_input)\n",
    "#         groups[concept_g.text]['PRID'] = getPRID(groups, concept_g.text)\n",
    "#         time.sleep(3)\n",
    "    return groups\n",
    "\n",
    "def getPRID(group, key):\n",
    "    try:\n",
    "        category = key\n",
    "        categoryLabel = group[key]['categoryLabel']\n",
    "        stocks_url = f'https://tw.stock.yahoo.com/class-quote?category={key}&categoryLabel={categoryLabel}'\n",
    "        res_stock = requests.get(stocks_url)\n",
    "        stock_soup = bs(res_stock.content, 'lxml')\n",
    "        tmp_text = str(stock_soup)[str(stock_soup).index('\"prid\"'):]\n",
    "        tmp_text = tmp_text[:tmp_text.index(',')]\n",
    "    except:\n",
    "        print(key)\n",
    "        print(stock_soup)\n",
    "    else:\n",
    "        return tmp_text.split(':')[1].replace('\\\"', '')"
   ]
  },
  {
   "cell_type": "code",
   "execution_count": 3,
   "metadata": {
    "ExecuteTime": {
     "end_time": "2022-09-08T16:09:42.105157Z",
     "start_time": "2022-09-08T16:09:41.721992Z"
    }
   },
   "outputs": [],
   "source": [
    "conceptGroup = getConceptGroup()"
   ]
  },
  {
   "cell_type": "code",
   "execution_count": 4,
   "metadata": {
    "ExecuteTime": {
     "end_time": "2022-09-08T16:09:43.606878Z",
     "start_time": "2022-09-08T16:09:43.594882Z"
    },
    "scrolled": true
   },
   "outputs": [],
   "source": [
    "def getGroupStocks(conceptGroup):\n",
    "    stock_url = 'https://tw.stock.yahoo.com/_td-stock/api/resource/StockServices.getClassQuotes;category={0};categoryLabel={1};categoryName={0};offset={2}?bkt=&device=desktop&ecma=modern&feature=ecmaModern%2CuseNewQuoteTabColor&intl=tw&lang=zh-Hant-TW&partner=none&prid={3}&region=TW&site=finance&tz=Asia%2FTaipei&ver=1.2.1466&returnMeta=true'\n",
    "    offset = 0\n",
    "    output = {}\n",
    "    for k, v in conceptGroup.items():\n",
    "        output[k] = output.get(k, [])\n",
    "        while offset >= 0:\n",
    "            url_ = stock_url.format(v['category'], v['categoryLabel'], offset, '') # v['PRID'] if v['PRID'] else \n",
    "            res_ = requests.get(url_)\n",
    "            output[k] += res_.json()['data']['list']\n",
    "            if res_.json()['data']['pagination']['nextOffset']:\n",
    "                offset = int(res_.json()['data']['pagination']['nextOffset'])\n",
    "            else:\n",
    "                offset = 0\n",
    "                break\n",
    "            time.sleep(3)\n",
    "    return output\n",
    "        "
   ]
  },
  {
   "cell_type": "code",
   "execution_count": 5,
   "metadata": {
    "ExecuteTime": {
     "end_time": "2022-09-08T16:12:21.187634Z",
     "start_time": "2022-09-08T16:10:38.565994Z"
    }
   },
   "outputs": [],
   "source": [
    "output = getGroupStocks(conceptGroup)"
   ]
  }
 ],
 "metadata": {
  "hide_input": false,
  "kernelspec": {
   "display_name": "Python 3",
   "language": "python",
   "name": "python3"
  },
  "language_info": {
   "codemirror_mode": {
    "name": "ipython",
    "version": 3
   },
   "file_extension": ".py",
   "mimetype": "text/x-python",
   "name": "python",
   "nbconvert_exporter": "python",
   "pygments_lexer": "ipython3",
   "version": "3.7.8"
  },
  "toc": {
   "base_numbering": 1,
   "nav_menu": {},
   "number_sections": true,
   "sideBar": true,
   "skip_h1_title": false,
   "title_cell": "Table of Contents",
   "title_sidebar": "Contents",
   "toc_cell": false,
   "toc_position": {},
   "toc_section_display": true,
   "toc_window_display": false
  },
  "varInspector": {
   "cols": {
    "lenName": 16,
    "lenType": 16,
    "lenVar": 40
   },
   "kernels_config": {
    "python": {
     "delete_cmd_postfix": "",
     "delete_cmd_prefix": "del ",
     "library": "var_list.py",
     "varRefreshCmd": "print(var_dic_list())"
    },
    "r": {
     "delete_cmd_postfix": ") ",
     "delete_cmd_prefix": "rm(",
     "library": "var_list.r",
     "varRefreshCmd": "cat(var_dic_list()) "
    }
   },
   "types_to_exclude": [
    "module",
    "function",
    "builtin_function_or_method",
    "instance",
    "_Feature"
   ],
   "window_display": false
  }
 },
 "nbformat": 4,
 "nbformat_minor": 4
}
