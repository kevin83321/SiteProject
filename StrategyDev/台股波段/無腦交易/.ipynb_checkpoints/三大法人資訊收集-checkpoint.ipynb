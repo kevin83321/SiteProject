{
 "cells": [
  {
   "cell_type": "markdown",
   "metadata": {},
   "source": [
    "# Description"
   ]
  },
  {
   "cell_type": "markdown",
   "metadata": {},
   "source": [
    "投本比 = 投信單日買超(賣超) / 在外流通股數 > 0.2% <br>\n",
    "外本比 = 外資單日買超(賣超) / 在外流通股數 > 0.2%"
   ]
  },
  {
   "cell_type": "markdown",
   "metadata": {},
   "source": [
    "# Modules"
   ]
  },
  {
   "cell_type": "code",
   "execution_count": 1,
   "metadata": {
    "ExecuteTime": {
     "end_time": "2022-07-07T06:48:04.561229Z",
     "start_time": "2022-07-07T06:48:04.446009Z"
    }
   },
   "outputs": [],
   "source": [
    "import requests\n",
    "from datetime import datetime"
   ]
  },
  {
   "cell_type": "markdown",
   "metadata": {},
   "source": [
    "# 持股張數/比率"
   ]
  },
  {
   "cell_type": "code",
   "execution_count": 37,
   "metadata": {
    "ExecuteTime": {
     "end_time": "2022-07-07T07:00:14.621985Z",
     "start_time": "2022-07-07T07:00:14.601993Z"
    }
   },
   "outputs": [],
   "source": [
    "def getInvestorsHoldings(ticker='2330'):\n",
    "\n",
    "    url = f'https://www.cmoney.tw/finance/ashx/mainpage.ashx?action=GetInstitutionalInvestorsShareholding&stockId={ticker}&cmkey=8AC3KrCktONfgtX2/rN8Jg==&_=1657176944884' # \n",
    "    headers = {\n",
    "        \"Accept\": \"application/json, text/javascript, */*; q=0.01\",\n",
    "    #     \"Accept-Encoding\": \"gzip, deflate, br\",\n",
    "    #     \"Accept-Language\": \"zh-TW,zh;q=0.9,en-US;q=0.8,en;q=0.7\",\n",
    "    #     \"Connection\": \"keep-alive\",\n",
    "    #     \"Cookie\": \"AviviD_uuid=6f56c243-5c32-4f63-960f-803c566f9204; webuserid=ee01b649-9214-9a8f-7abb-96d05dad5a1f; AviviD_sw_version=1.0.868.210701; AviviD_tid_rmed=1; __retuid=9921f8c5-4043-6fc7-562d-af49362e7be2; __fpid=2fe7b8564b9fc8870ea293b892e675f0; AviviD_refresh_uuid_status=2; AviviD_main_uuid=null; AspSession=13pqmyfply12rjnna2mupdsa; ASP.NET_SessionId=0b1smgbe2xtxbfm5eazvlbfk; _gid=GA1.2.681745620.1657175926; __asc=872cd216181d761e55e47f1a06a; __auc=872cd216181d761e55e47f1a06a; _fbp=fb.1.1657175926589.2078579904; __gads=ID=7ffc755411533e32:T=1657175928:S=ALNI_MazzQmew47edbM1xhozBzPgzlEpgA; __gpi=UID=0000077089fd2ef9:T=1657175928:RT=1657175928:S=ALNI_MZX3eGwOrZNkFLWw-1mjGlcW_FFQQ; AviviD_already_exist=1; AviviD_show_sub=1; AviviD_waterfall_status=0; AviviD_token_retake=0; _gat_UA-30929682-4=1; _gat_UA-30929682-1=1; _gat_real=1; page_view=3; _ga=GA1.2.1647502330.1657175926; _ga_6P4X22LDKK=GS1.1.1657175925.1.1.1657175994.0; _ga_SG15L0JFQ7=GS1.1.1657175925.1.1.1657175994.53; _ga_LNLNZDREEJ=GS1.1.1657175925.1.1.1657175994.0\",\n",
    "    #     \"Host\": \"www.cmoney.tw\",\n",
    "        \"Referer\": f\"https://www.cmoney.tw/finance/{ticker}/f00036\",\n",
    "    #     \"sec-ch-ua\": '\".Not/A)Brand\";v=\"99\", \"Google Chrome\";v=\"103\", \"Chromium\";v=\"103\"',\n",
    "    #     \"sec-ch-ua-mobile\": \"?0\",\n",
    "    #     \"sec-ch-ua-platform\": '\"Windows\"',\n",
    "    #     \"Sec-Fetch-Dest\": \"empty\",\n",
    "    #     \"Sec-Fetch-Mode\": \"cors\",\n",
    "    #     \"Sec-Fetch-Site\": \"same-origin\",\n",
    "        \"User-Agent\": \"Mozilla/5.0 (Windows NT 10.0; Win64; x64) AppleWebKit/537.36 (KHTML, like Gecko) Chrome/103.0.0.0 Safari/537.36\",\n",
    "        \"X-Requested-With\": \"XMLHttpRequest\",\n",
    "    }\n",
    "    pay_load = {\n",
    "        \"action\": \"GetInstitutionalInvestorsShareholding\",\n",
    "        \"stockId\": ticker,\n",
    "        \"cmkey\": \"8AC3KrCktONfgtX2/rN8Jg==\"\n",
    "    }\n",
    "    return requests.get(url, headers=headers, data=pay_load)"
   ]
  },
  {
   "cell_type": "code",
   "execution_count": 44,
   "metadata": {
    "ExecuteTime": {
     "end_time": "2022-07-07T07:01:53.468442Z",
     "start_time": "2022-07-07T07:01:53.451447Z"
    },
    "scrolled": true
   },
   "outputs": [],
   "source": [
    "res_Investors = res.json()"
   ]
  },
  {
   "cell_type": "code",
   "execution_count": 45,
   "metadata": {
    "ExecuteTime": {
     "end_time": "2022-07-07T07:01:58.426796Z",
     "start_time": "2022-07-07T07:01:58.414802Z"
    }
   },
   "outputs": [
    {
     "data": {
      "text/plain": [
       "[{'Date': '20220706',\n",
       "  'ForeignInvestorsBuySell': '1722.360',\n",
       "  'InvestmentTrustBuySell': '-256.000',\n",
       "  'DealerBuySell': '242.073',\n",
       "  'ForeignInvestorsShareholding': '18615441.316',\n",
       "  'InvestmentTrustShareholding': '144363.852',\n",
       "  'DealerShareholding': '223853.606',\n",
       "  'ForeignInvestorsShareholdingRate': '71.79',\n",
       "  'InvestmentTrustShareholdingRate': '0.56',\n",
       "  'DealerShareholdingRate': '0.86'},\n",
       " {'Date': '20220705',\n",
       "  'ForeignInvestorsBuySell': '5272.513',\n",
       "  'InvestmentTrustBuySell': '-59.000',\n",
       "  'DealerBuySell': '2308.582',\n",
       "  'ForeignInvestorsShareholding': '18613718.956',\n",
       "  'InvestmentTrustShareholding': '144619.852',\n",
       "  'DealerShareholding': '223611.533',\n",
       "  'ForeignInvestorsShareholdingRate': '71.78',\n",
       "  'InvestmentTrustShareholdingRate': '0.56',\n",
       "  'DealerShareholdingRate': '0.86'},\n",
       " {'Date': '20220704',\n",
       "  'ForeignInvestorsBuySell': '-5639.055',\n",
       "  'InvestmentTrustBuySell': '284.000',\n",
       "  'DealerBuySell': '3296.276',\n",
       "  'ForeignInvestorsShareholding': '18609311.613',\n",
       "  'InvestmentTrustShareholding': '144678.852',\n",
       "  'DealerShareholding': '221302.951',\n",
       "  'ForeignInvestorsShareholdingRate': '71.76',\n",
       "  'InvestmentTrustShareholdingRate': '0.56',\n",
       "  'DealerShareholdingRate': '0.85'},\n",
       " {'Date': '20220701',\n",
       "  'ForeignInvestorsBuySell': '-10263.861',\n",
       "  'InvestmentTrustBuySell': '283.000',\n",
       "  'DealerBuySell': '2853.947',\n",
       "  'ForeignInvestorsShareholding': '18613976.668',\n",
       "  'InvestmentTrustShareholding': '144394.852',\n",
       "  'DealerShareholding': '218006.675',\n",
       "  'ForeignInvestorsShareholdingRate': '71.78',\n",
       "  'InvestmentTrustShareholdingRate': '0.56',\n",
       "  'DealerShareholdingRate': '0.84'},\n",
       " {'Date': '20220630',\n",
       "  'ForeignInvestorsBuySell': '-11498.838',\n",
       "  'InvestmentTrustBuySell': '-97.000',\n",
       "  'DealerBuySell': '-644.401',\n",
       "  'ForeignInvestorsShareholding': '18625603.489',\n",
       "  'InvestmentTrustShareholding': '144111.852',\n",
       "  'DealerShareholding': '215152.728',\n",
       "  'ForeignInvestorsShareholdingRate': '71.82',\n",
       "  'InvestmentTrustShareholdingRate': '0.56',\n",
       "  'DealerShareholdingRate': '0.83'}]"
      ]
     },
     "execution_count": 45,
     "metadata": {},
     "output_type": "execute_result"
    }
   ],
   "source": [
    "res_Investors"
   ]
  },
  {
   "cell_type": "markdown",
   "metadata": {},
   "source": [
    "## 實收資本額"
   ]
  },
  {
   "cell_type": "code",
   "execution_count": 40,
   "metadata": {
    "ExecuteTime": {
     "end_time": "2022-07-07T07:01:18.993605Z",
     "start_time": "2022-07-07T07:01:18.983613Z"
    }
   },
   "outputs": [],
   "source": [
    "def getInfo(ticker='2330'):\n",
    "\n",
    "    url = f'https://www.cmoney.tw/finance/ashx/mainpage.ashx?action=GetStockBasicInfo&stockId={ticker}&cmkey=yDW3Gc6baoRY%2B7JKrCgMfQ==' # \n",
    "    headers = {\n",
    "        \"Accept\": \"application/json, text/javascript, */*; q=0.01\",\n",
    "    #     \"Accept-Encoding\": \"gzip, deflate, br\",\n",
    "    #     \"Accept-Language\": \"zh-TW,zh;q=0.9,en-US;q=0.8,en;q=0.7\",\n",
    "    #     \"Connection\": \"keep-alive\",\n",
    "    #     \"Cookie\": \"AviviD_uuid=6f56c243-5c32-4f63-960f-803c566f9204; webuserid=ee01b649-9214-9a8f-7abb-96d05dad5a1f; AviviD_sw_version=1.0.868.210701; AviviD_tid_rmed=1; __retuid=9921f8c5-4043-6fc7-562d-af49362e7be2; __fpid=2fe7b8564b9fc8870ea293b892e675f0; AviviD_refresh_uuid_status=2; AviviD_main_uuid=null; AspSession=13pqmyfply12rjnna2mupdsa; ASP.NET_SessionId=0b1smgbe2xtxbfm5eazvlbfk; _gid=GA1.2.681745620.1657175926; __asc=872cd216181d761e55e47f1a06a; __auc=872cd216181d761e55e47f1a06a; _fbp=fb.1.1657175926589.2078579904; __gads=ID=7ffc755411533e32:T=1657175928:S=ALNI_MazzQmew47edbM1xhozBzPgzlEpgA; __gpi=UID=0000077089fd2ef9:T=1657175928:RT=1657175928:S=ALNI_MZX3eGwOrZNkFLWw-1mjGlcW_FFQQ; AviviD_already_exist=1; AviviD_show_sub=1; AviviD_waterfall_status=0; AviviD_token_retake=0; _gat_UA-30929682-4=1; _gat_UA-30929682-1=1; _gat_real=1; page_view=3; _ga=GA1.2.1647502330.1657175926; _ga_6P4X22LDKK=GS1.1.1657175925.1.1.1657175994.0; _ga_SG15L0JFQ7=GS1.1.1657175925.1.1.1657175994.53; _ga_LNLNZDREEJ=GS1.1.1657175925.1.1.1657175994.0\",\n",
    "    #     \"Host\": \"www.cmoney.tw\",\n",
    "        \"Referer\": f\"https://www.cmoney.tw/finance/{ticker}/f00026\",\n",
    "    #     \"sec-ch-ua\": '\".Not/A)Brand\";v=\"99\", \"Google Chrome\";v=\"103\", \"Chromium\";v=\"103\"',\n",
    "    #     \"sec-ch-ua-mobile\": \"?0\",\n",
    "    #     \"sec-ch-ua-platform\": '\"Windows\"',\n",
    "    #     \"Sec-Fetch-Dest\": \"empty\",\n",
    "    #     \"Sec-Fetch-Mode\": \"cors\",\n",
    "    #     \"Sec-Fetch-Site\": \"same-origin\",\n",
    "        \"User-Agent\": \"Mozilla/5.0 (Windows NT 10.0; Win64; x64) AppleWebKit/537.36 (KHTML, like Gecko) Chrome/103.0.0.0 Safari/537.36\",\n",
    "        \"X-Requested-With\": \"XMLHttpRequest\",\n",
    "    }\n",
    "    pay_load = {\n",
    "        \"action\": \"GetInstitutionalInvestorsShareholding\",\n",
    "        \"stockId\": ticker,\n",
    "        \"cmkey\": \"yDW3Gc6baoRY%2B7JKrCgMfQ==\"\n",
    "    }\n",
    "    return requests.get(url, headers=headers, data=pay_load)"
   ]
  },
  {
   "cell_type": "code",
   "execution_count": 43,
   "metadata": {
    "ExecuteTime": {
     "end_time": "2022-07-07T07:01:44.511833Z",
     "start_time": "2022-07-07T07:01:44.430841Z"
    }
   },
   "outputs": [
    {
     "data": {
      "text/plain": [
       "[{'Date': '2022',\n",
       "  'CompanyName': '台灣積體電路製造股份有限公司',\n",
       "  'EnglishAbbreviation': 'TSMC',\n",
       "  'Industry': '電子–半導體',\n",
       "  'SubIndustry': '電子上游-IC-代工',\n",
       "  'DomesticShare': '11.71',\n",
       "  'ExportShare': '88.29',\n",
       "  'TseOtc': '1',\n",
       "  'PaidInCapital': '259304',\n",
       "  'DateOfEstablishment': '19870221',\n",
       "  'ChairmanOfTheBoard': '劉德音',\n",
       "  'GeneralManager': '總裁:魏哲家',\n",
       "  'SpokesPerson': '黃仁昭',\n",
       "  'SpokesPersonTitle': '副總經理暨財務長',\n",
       "  'Phone': '03-5636688',\n",
       "  'VisaCertifiedPublicAccountants': '勤業眾信聯合會計師事務所',\n",
       "  'StockTransferAgency': '中國信託商業銀行代理部',\n",
       "  'StockTransferAgencyPhone': '02-6636-5566',\n",
       "  'URL': 'https://www.tsmc.com',\n",
       "  'Address': '新竹科學園區力行六路8號',\n",
       "  'Business': '依客戶之訂單與其提供之產品設計說明，以從事製造與銷售積體電路、以及其他晶圓半導體裝置、提供前述產品之封裝與測試服務、積體電、路之電腦輔助設計技術服務、提供製造光罩及其設計服務、',\n",
       "  'ListingDate': '19940905',\n",
       "  'OtcDate': '',\n",
       "  'PER': '13.6',\n",
       "  'PBR': '5.13',\n",
       "  'MonthlyRevenue': '185705425',\n",
       "  'MonthlyRevenueYearGrowth': '65.28',\n",
       "  'MarketPrice': '118631.6'}]"
      ]
     },
     "execution_count": 43,
     "metadata": {},
     "output_type": "execute_result"
    }
   ],
   "source": [
    "res_info = getInfo().json()\n",
    "res_info"
   ]
  },
  {
   "cell_type": "code",
   "execution_count": null,
   "metadata": {},
   "outputs": [],
   "source": []
  },
  {
   "cell_type": "code",
   "execution_count": null,
   "metadata": {},
   "outputs": [],
   "source": []
  }
 ],
 "metadata": {
  "hide_input": false,
  "kernelspec": {
   "display_name": "Python 3",
   "language": "python",
   "name": "python3"
  },
  "language_info": {
   "codemirror_mode": {
    "name": "ipython",
    "version": 3
   },
   "file_extension": ".py",
   "mimetype": "text/x-python",
   "name": "python",
   "nbconvert_exporter": "python",
   "pygments_lexer": "ipython3",
   "version": "3.7.8"
  },
  "toc": {
   "base_numbering": 1,
   "nav_menu": {},
   "number_sections": true,
   "sideBar": true,
   "skip_h1_title": false,
   "title_cell": "Table of Contents",
   "title_sidebar": "Contents",
   "toc_cell": false,
   "toc_position": {},
   "toc_section_display": true,
   "toc_window_display": false
  },
  "varInspector": {
   "cols": {
    "lenName": 16,
    "lenType": 16,
    "lenVar": 40
   },
   "kernels_config": {
    "python": {
     "delete_cmd_postfix": "",
     "delete_cmd_prefix": "del ",
     "library": "var_list.py",
     "varRefreshCmd": "print(var_dic_list())"
    },
    "r": {
     "delete_cmd_postfix": ") ",
     "delete_cmd_prefix": "rm(",
     "library": "var_list.r",
     "varRefreshCmd": "cat(var_dic_list()) "
    }
   },
   "types_to_exclude": [
    "module",
    "function",
    "builtin_function_or_method",
    "instance",
    "_Feature"
   ],
   "window_display": false
  }
 },
 "nbformat": 4,
 "nbformat_minor": 4
}
