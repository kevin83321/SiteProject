{
 "cells": [
  {
   "cell_type": "markdown",
   "metadata": {},
   "source": [
    "# Description"
   ]
  },
  {
   "cell_type": "markdown",
   "metadata": {},
   "source": [
    "投本比 = 投信單日買超(賣超) / 在外流通股數 > 0.2% <br>\n",
    "外本比 = 外資單日買超(賣超) / 在外流通股數 > 0.2%"
   ]
  },
  {
   "cell_type": "markdown",
   "metadata": {},
   "source": [
    "# Modules"
   ]
  },
  {
   "cell_type": "code",
   "execution_count": 1,
   "metadata": {
    "ExecuteTime": {
     "end_time": "2022-07-07T06:48:04.561229Z",
     "start_time": "2022-07-07T06:48:04.446009Z"
    }
   },
   "outputs": [],
   "source": [
    "import requests\n",
    "from datetime import datetime"
   ]
  },
  {
   "cell_type": "markdown",
   "metadata": {},
   "source": [
    "# 持股張數/比率"
   ]
  },
  {
   "cell_type": "code",
   "execution_count": 37,
   "metadata": {
    "ExecuteTime": {
     "end_time": "2022-07-07T07:00:14.621985Z",
     "start_time": "2022-07-07T07:00:14.601993Z"
    }
   },
   "outputs": [],
   "source": [
    "def getInvestorsHoldings(ticker='2330'):\n",
    "\n",
    "    url = f'https://www.cmoney.tw/finance/ashx/mainpage.ashx?action=GetInstitutionalInvestorsShareholding&stockId={ticker}&cmkey=8AC3KrCktONfgtX2/rN8Jg==&_=1657176944884' # \n",
    "    headers = {\n",
    "        \"Accept\": \"application/json, text/javascript, */*; q=0.01\",\n",
    "    #     \"Accept-Encoding\": \"gzip, deflate, br\",\n",
    "    #     \"Accept-Language\": \"zh-TW,zh;q=0.9,en-US;q=0.8,en;q=0.7\",\n",
    "    #     \"Connection\": \"keep-alive\",\n",
    "    #     \"Cookie\": \"AviviD_uuid=6f56c243-5c32-4f63-960f-803c566f9204; webuserid=ee01b649-9214-9a8f-7abb-96d05dad5a1f; AviviD_sw_version=1.0.868.210701; AviviD_tid_rmed=1; __retuid=9921f8c5-4043-6fc7-562d-af49362e7be2; __fpid=2fe7b8564b9fc8870ea293b892e675f0; AviviD_refresh_uuid_status=2; AviviD_main_uuid=null; AspSession=13pqmyfply12rjnna2mupdsa; ASP.NET_SessionId=0b1smgbe2xtxbfm5eazvlbfk; _gid=GA1.2.681745620.1657175926; __asc=872cd216181d761e55e47f1a06a; __auc=872cd216181d761e55e47f1a06a; _fbp=fb.1.1657175926589.2078579904; __gads=ID=7ffc755411533e32:T=1657175928:S=ALNI_MazzQmew47edbM1xhozBzPgzlEpgA; __gpi=UID=0000077089fd2ef9:T=1657175928:RT=1657175928:S=ALNI_MZX3eGwOrZNkFLWw-1mjGlcW_FFQQ; AviviD_already_exist=1; AviviD_show_sub=1; AviviD_waterfall_status=0; AviviD_token_retake=0; _gat_UA-30929682-4=1; _gat_UA-30929682-1=1; _gat_real=1; page_view=3; _ga=GA1.2.1647502330.1657175926; _ga_6P4X22LDKK=GS1.1.1657175925.1.1.1657175994.0; _ga_SG15L0JFQ7=GS1.1.1657175925.1.1.1657175994.53; _ga_LNLNZDREEJ=GS1.1.1657175925.1.1.1657175994.0\",\n",
    "    #     \"Host\": \"www.cmoney.tw\",\n",
    "        \"Referer\": f\"https://www.cmoney.tw/finance/{ticker}/f00036\",\n",
    "    #     \"sec-ch-ua\": '\".Not/A)Brand\";v=\"99\", \"Google Chrome\";v=\"103\", \"Chromium\";v=\"103\"',\n",
    "    #     \"sec-ch-ua-mobile\": \"?0\",\n",
    "    #     \"sec-ch-ua-platform\": '\"Windows\"',\n",
    "    #     \"Sec-Fetch-Dest\": \"empty\",\n",
    "    #     \"Sec-Fetch-Mode\": \"cors\",\n",
    "    #     \"Sec-Fetch-Site\": \"same-origin\",\n",
    "        \"User-Agent\": \"Mozilla/5.0 (Windows NT 10.0; Win64; x64) AppleWebKit/537.36 (KHTML, like Gecko) Chrome/103.0.0.0 Safari/537.36\",\n",
    "        \"X-Requested-With\": \"XMLHttpRequest\",\n",
    "    }\n",
    "    pay_load = {\n",
    "        \"action\": \"GetInstitutionalInvestorsShareholding\",\n",
    "        \"stockId\": ticker,\n",
    "        \"cmkey\": \"8AC3KrCktONfgtX2/rN8Jg==\"\n",
    "    }\n",
    "    return requests.get(url, headers=headers, data=pay_load)"
   ]
  },
  {
   "cell_type": "code",
   "execution_count": 82,
   "metadata": {
    "ExecuteTime": {
     "end_time": "2022-07-07T15:21:58.691546Z",
     "start_time": "2022-07-07T15:21:58.609452Z"
    },
    "scrolled": true
   },
   "outputs": [],
   "source": [
    "res_Investors = getInvestorsHoldings('6279')"
   ]
  },
  {
   "cell_type": "code",
   "execution_count": 83,
   "metadata": {
    "ExecuteTime": {
     "end_time": "2022-07-07T15:21:59.403884Z",
     "start_time": "2022-07-07T15:21:59.388887Z"
    },
    "scrolled": true
   },
   "outputs": [
    {
     "data": {
      "text/plain": [
       "[{'Date': '20220707',\n",
       "  'ForeignInvestorsBuySell': '305.000',\n",
       "  'InvestmentTrustBuySell': '2846.000',\n",
       "  'DealerBuySell': '59.189',\n",
       "  'ForeignInvestorsShareholding': '11240.927',\n",
       "  'InvestmentTrustShareholding': '8972.303',\n",
       "  'DealerShareholding': '255.733',\n",
       "  'ForeignInvestorsShareholdingRate': '11.27',\n",
       "  'InvestmentTrustShareholdingRate': '9.00',\n",
       "  'DealerShareholdingRate': '0.26'},\n",
       " {'Date': '20220706',\n",
       "  'ForeignInvestorsBuySell': '83.000',\n",
       "  'InvestmentTrustBuySell': '938.000',\n",
       "  'DealerBuySell': '-73.000',\n",
       "  'ForeignInvestorsShareholding': '10961.927',\n",
       "  'InvestmentTrustShareholding': '6126.303',\n",
       "  'DealerShareholding': '196.544',\n",
       "  'ForeignInvestorsShareholdingRate': '10.99',\n",
       "  'InvestmentTrustShareholdingRate': '6.14',\n",
       "  'DealerShareholdingRate': '0.20'},\n",
       " {'Date': '20220705',\n",
       "  'ForeignInvestorsBuySell': '-508.000',\n",
       "  'InvestmentTrustBuySell': '-44.000',\n",
       "  'DealerBuySell': '-92.000',\n",
       "  'ForeignInvestorsShareholding': '10876.927',\n",
       "  'InvestmentTrustShareholding': '5188.303',\n",
       "  'DealerShareholding': '269.544',\n",
       "  'ForeignInvestorsShareholdingRate': '10.91',\n",
       "  'InvestmentTrustShareholdingRate': '5.20',\n",
       "  'DealerShareholdingRate': '0.27'},\n",
       " {'Date': '20220704',\n",
       "  'ForeignInvestorsBuySell': '-171.000',\n",
       "  'InvestmentTrustBuySell': '374.000',\n",
       "  'DealerBuySell': '128.997',\n",
       "  'ForeignInvestorsShareholding': '11380.927',\n",
       "  'InvestmentTrustShareholding': '5232.303',\n",
       "  'DealerShareholding': '361.544',\n",
       "  'ForeignInvestorsShareholdingRate': '11.42',\n",
       "  'InvestmentTrustShareholdingRate': '5.25',\n",
       "  'DealerShareholdingRate': '0.36'},\n",
       " {'Date': '20220701',\n",
       "  'ForeignInvestorsBuySell': '304.000',\n",
       "  'InvestmentTrustBuySell': '652.000',\n",
       "  'DealerBuySell': '-37.000',\n",
       "  'ForeignInvestorsShareholding': '11479.927',\n",
       "  'InvestmentTrustShareholding': '4858.303',\n",
       "  'DealerShareholding': '232.547',\n",
       "  'ForeignInvestorsShareholdingRate': '11.51',\n",
       "  'InvestmentTrustShareholdingRate': '4.87',\n",
       "  'DealerShareholdingRate': '0.23'}]"
      ]
     },
     "execution_count": 83,
     "metadata": {},
     "output_type": "execute_result"
    }
   ],
   "source": [
    "res_Investors.json()"
   ]
  },
  {
   "cell_type": "markdown",
   "metadata": {},
   "source": [
    "## 實收資本額"
   ]
  },
  {
   "cell_type": "code",
   "execution_count": 40,
   "metadata": {
    "ExecuteTime": {
     "end_time": "2022-07-07T07:01:18.993605Z",
     "start_time": "2022-07-07T07:01:18.983613Z"
    }
   },
   "outputs": [],
   "source": [
    "def getInfo(ticker='2330'):\n",
    "\n",
    "    url = f'https://www.cmoney.tw/finance/ashx/mainpage.ashx?action=GetStockBasicInfo&stockId={ticker}&cmkey=yDW3Gc6baoRY%2B7JKrCgMfQ==' # \n",
    "    headers = {\n",
    "        \"Accept\": \"application/json, text/javascript, */*; q=0.01\",\n",
    "    #     \"Accept-Encoding\": \"gzip, deflate, br\",\n",
    "    #     \"Accept-Language\": \"zh-TW,zh;q=0.9,en-US;q=0.8,en;q=0.7\",\n",
    "    #     \"Connection\": \"keep-alive\",\n",
    "    #     \"Cookie\": \"AviviD_uuid=6f56c243-5c32-4f63-960f-803c566f9204; webuserid=ee01b649-9214-9a8f-7abb-96d05dad5a1f; AviviD_sw_version=1.0.868.210701; AviviD_tid_rmed=1; __retuid=9921f8c5-4043-6fc7-562d-af49362e7be2; __fpid=2fe7b8564b9fc8870ea293b892e675f0; AviviD_refresh_uuid_status=2; AviviD_main_uuid=null; AspSession=13pqmyfply12rjnna2mupdsa; ASP.NET_SessionId=0b1smgbe2xtxbfm5eazvlbfk; _gid=GA1.2.681745620.1657175926; __asc=872cd216181d761e55e47f1a06a; __auc=872cd216181d761e55e47f1a06a; _fbp=fb.1.1657175926589.2078579904; __gads=ID=7ffc755411533e32:T=1657175928:S=ALNI_MazzQmew47edbM1xhozBzPgzlEpgA; __gpi=UID=0000077089fd2ef9:T=1657175928:RT=1657175928:S=ALNI_MZX3eGwOrZNkFLWw-1mjGlcW_FFQQ; AviviD_already_exist=1; AviviD_show_sub=1; AviviD_waterfall_status=0; AviviD_token_retake=0; _gat_UA-30929682-4=1; _gat_UA-30929682-1=1; _gat_real=1; page_view=3; _ga=GA1.2.1647502330.1657175926; _ga_6P4X22LDKK=GS1.1.1657175925.1.1.1657175994.0; _ga_SG15L0JFQ7=GS1.1.1657175925.1.1.1657175994.53; _ga_LNLNZDREEJ=GS1.1.1657175925.1.1.1657175994.0\",\n",
    "    #     \"Host\": \"www.cmoney.tw\",\n",
    "        \"Referer\": f\"https://www.cmoney.tw/finance/{ticker}/f00026\",\n",
    "    #     \"sec-ch-ua\": '\".Not/A)Brand\";v=\"99\", \"Google Chrome\";v=\"103\", \"Chromium\";v=\"103\"',\n",
    "    #     \"sec-ch-ua-mobile\": \"?0\",\n",
    "    #     \"sec-ch-ua-platform\": '\"Windows\"',\n",
    "    #     \"Sec-Fetch-Dest\": \"empty\",\n",
    "    #     \"Sec-Fetch-Mode\": \"cors\",\n",
    "    #     \"Sec-Fetch-Site\": \"same-origin\",\n",
    "        \"User-Agent\": \"Mozilla/5.0 (Windows NT 10.0; Win64; x64) AppleWebKit/537.36 (KHTML, like Gecko) Chrome/103.0.0.0 Safari/537.36\",\n",
    "        \"X-Requested-With\": \"XMLHttpRequest\",\n",
    "    }\n",
    "    pay_load = {\n",
    "        \"action\": \"GetInstitutionalInvestorsShareholding\",\n",
    "        \"stockId\": ticker,\n",
    "        \"cmkey\": \"yDW3Gc6baoRY%2B7JKrCgMfQ==\"\n",
    "    }\n",
    "    return requests.get(url, headers=headers, data=pay_load)"
   ]
  },
  {
   "cell_type": "code",
   "execution_count": 86,
   "metadata": {
    "ExecuteTime": {
     "end_time": "2022-07-07T15:24:03.155089Z",
     "start_time": "2022-07-07T15:24:03.045091Z"
    }
   },
   "outputs": [
    {
     "data": {
      "text/plain": [
       "[{'Date': '2022',\n",
       "  'CompanyName': '胡連精密股份有限公司',\n",
       "  'EnglishAbbreviation': 'HU LANE',\n",
       "  'Industry': '電子–電子零組件',\n",
       "  'SubIndustry': '傳產-汽車零組件',\n",
       "  'DomesticShare': '10.21',\n",
       "  'ExportShare': '89.79',\n",
       "  'TseOtc': '2',\n",
       "  'PaidInCapital': '997',\n",
       "  'DateOfEstablishment': '19770709',\n",
       "  'ChairmanOfTheBoard': '張子雄',\n",
       "  'GeneralManager': '胡盛清',\n",
       "  'SpokesPerson': '高士翔',\n",
       "  'SpokesPersonTitle': '集團財務處IR經理',\n",
       "  'Phone': '26940551',\n",
       "  'VisaCertifiedPublicAccountants': '勤業眾信聯合會計師事務所',\n",
       "  'StockTransferAgency': '永豐金證券股份有限公司',\n",
       "  'StockTransferAgencyPhone': '02-23816288',\n",
       "  'URL': 'http://www.hulane.com',\n",
       "  'Address': '新北市汐止區福德一路342巷1號',\n",
       "  'Business': '電子零件(端子)五金機械配件等製造加工及買賣(模具端子壓著機)、塑膠件、模具製造，電子零組件製造業(端子)及電子材料，模具批發零售',\n",
       "  'ListingDate': '',\n",
       "  'OtcDate': '20031126',\n",
       "  'PER': '16.8',\n",
       "  'PBR': '2.65',\n",
       "  'MonthlyRevenue': '444740',\n",
       "  'MonthlyRevenueYearGrowth': '11.62',\n",
       "  'MarketPrice': '140.6'}]"
      ]
     },
     "execution_count": 86,
     "metadata": {},
     "output_type": "execute_result"
    }
   ],
   "source": [
    "res_info = getInfo('6279').json()\n",
    "res_info"
   ]
  },
  {
   "cell_type": "code",
   "execution_count": 93,
   "metadata": {
    "ExecuteTime": {
     "end_time": "2022-07-07T15:26:46.610610Z",
     "start_time": "2022-07-07T15:26:46.596610Z"
    }
   },
   "outputs": [],
   "source": [
    "def getInvestorHolding(ticker, date = datetime.today()):\n",
    "    output = {}\n",
    "    res_Investors = getInvestorsHoldings(ticker)\n",
    "    data_Investors = res_Investors.json()\n",
    "    print(data_Investors)\n",
    "    idx = -1\n",
    "    for i in range(len(data_Investors)):\n",
    "        print(data_Investors[i]['Date'], date.strftime(\"%Y%m%d\"))\n",
    "        if data_Investors[i]['Date'] == date.strftime(\"%Y%m%d\"):\n",
    "            idx = i\n",
    "            break\n",
    "    if idx < 0:\n",
    "        return output\n",
    "    InvestmentTrustShareholdingRate = float(data_Investors[idx]['InvestmentTrustShareholdingRate']) # 投信持股張數\n",
    "    ForeignInvestorsShareholdingRate = float(data_Investors[idx]['ForeignInvestorsShareholdingRate']) # 外資持股張數\n",
    "\n",
    "    ForeignInvestorsBuySell = float(data_Investors[idx]['ForeignInvestorsBuySell']) # 外資買賣超\n",
    "    InvestmentTrustBuySell = float(data_Investors[idx]['InvestmentTrustBuySell']) # 投信買賣超\n",
    "    \n",
    "    res_info = getInfo(ticker)\n",
    "    data_info = res_info.json()\n",
    "    \n",
    "    outstanding = float(data_info[0]['PaidInCapital']) * 1e6 / 10\n",
    "    output = {\n",
    "#         \"外資持股比例\":round(ForeignInvestorsShareholding * 1e3 / outstanding, 4),\n",
    "        \"外資持股比例\":ForeignInvestorsShareholdingRate,\n",
    "        \"外本比\":round(ForeignInvestorsBuySell * 1e3 / outstanding, 4),\n",
    "#         \"投信持股比例\":round(InvestmentTrustShareholding * 1e3 / outstanding, 4),\n",
    "        \"投信持股比例\":InvestmentTrustShareholdingRate,\n",
    "        \"投本比\":round(InvestmentTrustBuySell * 1e3 / outstanding, 4)\n",
    "    }\n",
    "    return output"
   ]
  },
  {
   "cell_type": "code",
   "execution_count": 94,
   "metadata": {
    "ExecuteTime": {
     "end_time": "2022-07-07T15:26:47.488435Z",
     "start_time": "2022-07-07T15:26:47.311395Z"
    }
   },
   "outputs": [
    {
     "name": "stdout",
     "output_type": "stream",
     "text": [
      "[{'Date': '20220707', 'ForeignInvestorsBuySell': '305.000', 'InvestmentTrustBuySell': '2846.000', 'DealerBuySell': '59.189', 'ForeignInvestorsShareholding': '11240.927', 'InvestmentTrustShareholding': '8972.303', 'DealerShareholding': '255.733', 'ForeignInvestorsShareholdingRate': '11.27', 'InvestmentTrustShareholdingRate': '9.00', 'DealerShareholdingRate': '0.26'}, {'Date': '20220706', 'ForeignInvestorsBuySell': '83.000', 'InvestmentTrustBuySell': '938.000', 'DealerBuySell': '-73.000', 'ForeignInvestorsShareholding': '10961.927', 'InvestmentTrustShareholding': '6126.303', 'DealerShareholding': '196.544', 'ForeignInvestorsShareholdingRate': '10.99', 'InvestmentTrustShareholdingRate': '6.14', 'DealerShareholdingRate': '0.20'}, {'Date': '20220705', 'ForeignInvestorsBuySell': '-508.000', 'InvestmentTrustBuySell': '-44.000', 'DealerBuySell': '-92.000', 'ForeignInvestorsShareholding': '10876.927', 'InvestmentTrustShareholding': '5188.303', 'DealerShareholding': '269.544', 'ForeignInvestorsShareholdingRate': '10.91', 'InvestmentTrustShareholdingRate': '5.20', 'DealerShareholdingRate': '0.27'}, {'Date': '20220704', 'ForeignInvestorsBuySell': '-171.000', 'InvestmentTrustBuySell': '374.000', 'DealerBuySell': '128.997', 'ForeignInvestorsShareholding': '11380.927', 'InvestmentTrustShareholding': '5232.303', 'DealerShareholding': '361.544', 'ForeignInvestorsShareholdingRate': '11.42', 'InvestmentTrustShareholdingRate': '5.25', 'DealerShareholdingRate': '0.36'}, {'Date': '20220701', 'ForeignInvestorsBuySell': '304.000', 'InvestmentTrustBuySell': '652.000', 'DealerBuySell': '-37.000', 'ForeignInvestorsShareholding': '11479.927', 'InvestmentTrustShareholding': '4858.303', 'DealerShareholding': '232.547', 'ForeignInvestorsShareholdingRate': '11.51', 'InvestmentTrustShareholdingRate': '4.87', 'DealerShareholdingRate': '0.23'}]\n",
      "20220707 20220706\n",
      "20220706 20220706\n"
     ]
    },
    {
     "data": {
      "text/plain": [
       "{'外資持股比例': 10.99, '外本比': 0.0008, '投信持股比例': 6.14, '投本比': 0.0094}"
      ]
     },
     "execution_count": 94,
     "metadata": {},
     "output_type": "execute_result"
    }
   ],
   "source": [
    "getInvestorHolding('6279', datetime(2022,7,6))"
   ]
  },
  {
   "cell_type": "code",
   "execution_count": null,
   "metadata": {},
   "outputs": [],
   "source": []
  }
 ],
 "metadata": {
  "hide_input": false,
  "kernelspec": {
   "display_name": "Python 3",
   "language": "python",
   "name": "python3"
  },
  "language_info": {
   "codemirror_mode": {
    "name": "ipython",
    "version": 3
   },
   "file_extension": ".py",
   "mimetype": "text/x-python",
   "name": "python",
   "nbconvert_exporter": "python",
   "pygments_lexer": "ipython3",
   "version": "3.7.8"
  },
  "toc": {
   "base_numbering": 1,
   "nav_menu": {},
   "number_sections": true,
   "sideBar": true,
   "skip_h1_title": false,
   "title_cell": "Table of Contents",
   "title_sidebar": "Contents",
   "toc_cell": false,
   "toc_position": {},
   "toc_section_display": true,
   "toc_window_display": false
  },
  "varInspector": {
   "cols": {
    "lenName": 16,
    "lenType": 16,
    "lenVar": 40
   },
   "kernels_config": {
    "python": {
     "delete_cmd_postfix": "",
     "delete_cmd_prefix": "del ",
     "library": "var_list.py",
     "varRefreshCmd": "print(var_dic_list())"
    },
    "r": {
     "delete_cmd_postfix": ") ",
     "delete_cmd_prefix": "rm(",
     "library": "var_list.r",
     "varRefreshCmd": "cat(var_dic_list()) "
    }
   },
   "types_to_exclude": [
    "module",
    "function",
    "builtin_function_or_method",
    "instance",
    "_Feature"
   ],
   "window_display": false
  }
 },
 "nbformat": 4,
 "nbformat_minor": 4
}
