{
 "cells": [
  {
   "cell_type": "code",
   "execution_count": 141,
   "metadata": {
    "ExecuteTime": {
     "end_time": "2022-04-06T09:40:24.957086Z",
     "start_time": "2022-04-06T09:40:24.947142Z"
    }
   },
   "outputs": [],
   "source": [
    "import requests\n",
    "from bs4 import BeautifulSoup as bs\n",
    "import re\n",
    "from datetime import datetime, timedelta\n",
    "from pandas import DataFrame, concat, date_range, ExcelWriter\n",
    "# from pandas import DataFrame, ExcelWriter, date_range, to_datetime\n",
    "import os\n",
    "from numpy import isnan\n",
    "import time\n",
    "\n",
    "import warnings\n",
    "warnings.filterwarnings(\"ignore\")\n",
    "\n",
    "parent = os.path.dirname(os.path.abspath(\"__file__\"))\n",
    "output_path = os.path.join(parent, \"FollowBroker\")\n",
    "if not os.path.isdir(output_path):\n",
    "    os.makedirs(output_path)"
   ]
  },
  {
   "cell_type": "code",
   "execution_count": 2,
   "metadata": {
    "ExecuteTime": {
     "end_time": "2022-03-29T09:52:37.265606Z",
     "start_time": "2022-03-29T09:52:37.247654Z"
    },
    "code_folding": [
     0,
     19
    ]
   },
   "outputs": [],
   "source": [
    "def ParseSymbol(jsStr):\n",
    "    try:\n",
    "        # parse symbol\n",
    "        tmp_symbol, tmp_name = str(jsStr).split(',')\n",
    "        symbol_p = re.compile(\"GenLink2stk\\(*\")\n",
    "        symbol_p.search(tmp_symbol)\n",
    "        symbol = symbol_p.split(tmp_symbol)[1].replace(\"\\'\",\"\").replace(\"AS\",\"\")\n",
    "        # parse name\n",
    "        name = tmp_name.split(\")\")[0].replace(\"\\'\", \"\")\n",
    "        return symbol + \" \" + name\n",
    "    except:\n",
    "        raw_name = jsStr.text.strip()\n",
    "        tmp_symbol, tmp_name = str(jsStr).split(';')\n",
    "        symbol_p = re.compile(\"Link2Stk\\(*\")\n",
    "        symbol_p.search(tmp_symbol)\n",
    "        symbol = symbol_p.split(tmp_symbol)[1][:-1].replace(\"\\'\", \"\")\n",
    "        name = raw_name.replace(symbol, \"\")\n",
    "        return symbol + \" \" + name\n",
    "    \n",
    "def ParseHtml(table, table_type=\"E\"):\n",
    "    cols = []\n",
    "    datas = []\n",
    "    for i, tr in enumerate(table.find_all('tr')):\n",
    "        if not i: continue\n",
    "        if i == 1:\n",
    "            cols = [td.text.strip() for td in tr.find_all('td')]\n",
    "            cols[0] = \"代碼名稱\"\n",
    "            cols[-1] += \"(張數)\" if table_type == \"E\" else \"(金額)\"\n",
    "            continue\n",
    "        else:\n",
    "            tds = [td.text.strip() for td in tr.find_all('td')]\n",
    "            if \"無此券商分點交易資料\" in tds: return None\n",
    "            tds[0] = ParseSymbol(tr.find_all('td', {'id':'oAddCheckbox'})[0])\n",
    "            datas.append(dict((col, value) for col, value in zip(cols, tds)))\n",
    "    return datas\n"
   ]
  },
  {
   "cell_type": "markdown",
   "metadata": {},
   "source": [
    "# Parse Broker, SubBroker"
   ]
  },
  {
   "cell_type": "code",
   "execution_count": 3,
   "metadata": {
    "ExecuteTime": {
     "end_time": "2022-03-29T09:52:41.311562Z",
     "start_time": "2022-03-29T09:52:39.812865Z"
    }
   },
   "outputs": [
    {
     "name": "stderr",
     "output_type": "stream",
     "text": [
      "[WDM] - ====== WebDriver manager ======\n",
      "[WDM] - Current google-chrome version is 99.0.4844\n",
      "[WDM] - Get LATEST driver version for 99.0.4844\n"
     ]
    },
    {
     "name": "stdout",
     "output_type": "stream",
     "text": [
      "\n",
      "\n"
     ]
    },
    {
     "name": "stderr",
     "output_type": "stream",
     "text": [
      "[WDM] - Driver [C:\\Users\\User2\\.wdm\\drivers\\chromedriver\\win32\\99.0.4844.51\\chromedriver.exe] found in cache\n"
     ]
    }
   ],
   "source": [
    "from selenium import webdriver\n",
    "from webdriver_manager.chrome import ChromeDriverManager\n",
    "from time import sleep\n",
    "import json\n",
    "\n",
    "driver = webdriver.Chrome(ChromeDriverManager().install())"
   ]
  },
  {
   "cell_type": "code",
   "execution_count": 4,
   "metadata": {
    "ExecuteTime": {
     "end_time": "2022-03-29T06:58:46.363756Z",
     "start_time": "2022-03-29T06:56:08.186498Z"
    }
   },
   "outputs": [],
   "source": [
    "# session = requests.session()\n",
    "headers = {\n",
    "    'Upgrade-Insecure-Requests': '1',\n",
    "'User-Agent': 'Mozilla/5.0 (Windows NT 10.0; Win64; x64) AppleWebKit/537.36 (KHTML, like Gecko) Chrome/91.0.4472.164 Safari/537.36'\n",
    "}\n",
    "\n",
    "url = 'http://jsjustweb.jihsun.com.tw/z/zg/zgb/zgb0.djhtm'\n",
    "# js = session.get(url, headers=headers)\n",
    "driver.get(url)#, header=headers)\n",
    "soup = bs(driver.page_source, 'lxml')\n",
    "\n",
    "# td = soup.find_all(\"td\", {\"class\",\"t10\"})\n",
    "# print(td)\n",
    "brokers = {}\n",
    "for i, select in enumerate(soup.find_all(\"select\")):#, {\"name\",\"sel_Broker\"}\n",
    "#     print(i, select, '\\n')\n",
    "    if not i:\n",
    "        for broker in select.find_all(\"option\"):\n",
    "            brokers.update({broker.text.strip(): {'broker_id' : broker.get(\"value\")}})\n",
    "#             print(broker.text.strip(), broker.get(\"value\"))\n",
    "    \n",
    "\n",
    "for key, value in brokers.items():\n",
    "    sub_url = url + f\"?a={value['broker_id']}\"\n",
    "    driver.get(sub_url)\n",
    "    soup = bs(driver.page_source, 'lxml')\n",
    "    for i, select in enumerate(soup.find_all(\"select\")):#, {\"name\",\"sel_Broker\"}\n",
    "        if not i: continue\n",
    "        if i == 1:\n",
    "            for broker_branch in select.find_all(\"option\"):\n",
    "                value.update({ broker_branch.text.strip(): broker_branch.get(\"value\")})\n",
    "            brokers.update({key: value})\n",
    "    sleep(1)\n",
    "\n",
    "with open('jihsun_Broker_id_map.json', 'w') as f:\n",
    "#     json.dump(f, json.dumps(brokers))\n",
    "    json.dump(brokers, f)\n",
    "\n",
    "driver.close()"
   ]
  },
  {
   "cell_type": "markdown",
   "metadata": {},
   "source": [
    "# Parse Indeed"
   ]
  },
  {
   "cell_type": "code",
   "execution_count": 4,
   "metadata": {
    "ExecuteTime": {
     "end_time": "2022-03-29T09:52:48.995855Z",
     "start_time": "2022-03-29T09:52:48.981893Z"
    }
   },
   "outputs": [],
   "source": [
    "with open('jihsun_Broker_id_map.json', 'r') as f:\n",
    "    brokers= json.load(f)"
   ]
  },
  {
   "cell_type": "code",
   "execution_count": 5,
   "metadata": {
    "ExecuteTime": {
     "end_time": "2022-03-29T09:52:50.159963Z",
     "start_time": "2022-03-29T09:52:50.151957Z"
    },
    "code_folding": []
   },
   "outputs": [],
   "source": [
    "def GetBrokerTable(broker_id,branch_id, date=datetime.today(), table_type=\"E\"):\n",
    "    dateStr = date.strftime(\"%Y-%m-%d\")\n",
    "    headers = {\n",
    "        \"Accept\": \"text/html,application/xhtml+xml,application/xml;q=0.9,image/avif,image/webp,image/apng,*/*;q=0.8,application/signed-exchange;v=b3;q=0.9\",\n",
    "        \"Accept-Encoding\": \"gzip, deflate\",\n",
    "        \"Accept-Language\": \"zh-TW,zh;q=0.9,en-US;q=0.8,en;q=0.7\",\n",
    "        \"Connection\": \"keep-alive\",\n",
    "        \"Host\": \"jsjustweb.jihsun.com.tw\",\n",
    "        # Referer: http://jsjustweb.jihsun.com.tw/z/zg/zgb/zgb0.djhtm?a=9200&b=9217&c=B&e=2021-7-14&f=2021-7-14\n",
    "        'Upgrade-Insecure-Requests': \"1\",\n",
    "        'User-Agent': 'Mozilla/5.0 (Windows NT 10.0; Win64; x64) AppleWebKit/537.36 (KHTML, like Gecko) Chrome/91.0.4472.164 Safari/537.36',\n",
    "    }\n",
    "\n",
    "    url = f'http://jsjustweb.jihsun.com.tw/z/zg/zgb/zgb0.djhtm?a={broker_id}&b={branch_id}&c={table_type}&e={dateStr}&f={dateStr}'\n",
    "#     url_KShares = 'http://jsjustweb.jihsun.com.tw/z/zg/zgb/zgb0.djhtm?a=9200&b=9217&c=E&e=2021-7-21&f=2021-7-21'\n",
    "#     url_dollar = 'http://jsjustweb.jihsun.com.tw/z/zg/zgb/zgb0.djhtm?a=9200&b=9217&c=B&e=2021-7-14&f=2021-7-14'\n",
    "\n",
    "    js = requests.get(url, headers=headers)\n",
    "\n",
    "    soup = bs(js.text, 'lxml')\n",
    "\n",
    "    return soup.find_all('table', {\"class\":\"t0\"})"
   ]
  },
  {
   "cell_type": "code",
   "execution_count": 6,
   "metadata": {
    "ExecuteTime": {
     "end_time": "2022-03-29T09:52:51.274322Z",
     "start_time": "2022-03-29T09:52:51.264320Z"
    },
    "code_folding": [
     0
    ]
   },
   "outputs": [],
   "source": [
    "def ConbineData(over_Sell_data_Share, over_Buy_data_Share, over_Sell_data_Dollar, over_Buy_data_Dollar,\n",
    "               today_up_limit_tickers=None, last_up_limit_tickers=None):\n",
    "    # Share Table Parse\n",
    "    over_Sell_df_Share = DataFrame(over_Sell_data_Share)\n",
    "    over_Sell_df_Share[\"Ticker\"] = over_Sell_df_Share[\"代碼名稱\"].apply(lambda x: x.split(' ')[0])\n",
    "    over_Sell_df_Share = over_Sell_df_Share.set_index([\"代碼名稱\", 'Ticker'])\n",
    "    over_Buy_df_Share = DataFrame(over_Buy_data_Share)\n",
    "    over_Buy_df_Share[\"Ticker\"] = over_Buy_df_Share[\"代碼名稱\"].apply(lambda x: x.split(' ')[0])\n",
    "    over_Buy_df_Share = over_Buy_df_Share.set_index([\"代碼名稱\", 'Ticker'])\n",
    "    \n",
    "#     print(over_Sell_df_Share)\n",
    "#     print(over_Buy_df_Share)\n",
    "#     over_Buy_df_Share = UplimitFilter(over_Buy_df_Share, today_up_limit_tickers)\n",
    "#     over_Sell_df_Share = UplimitFilter(over_Sell_df_Share, last_up_limit_tickers)\n",
    "#     del over_Buy_df_Share['Ticker']\n",
    "#     del over_Sell_df_Share['Ticker']    \n",
    "    \n",
    "    # Dollar Table Parse\n",
    "    over_Sell_df_Dollar = DataFrame(over_Sell_data_Dollar)\n",
    "    over_Sell_df_Dollar[\"Ticker\"] = over_Sell_df_Dollar[\"代碼名稱\"].apply(lambda x: x.split(' ')[0])\n",
    "    over_Sell_df_Dollar = over_Sell_df_Dollar.set_index([\"代碼名稱\", 'Ticker'])\n",
    "    over_Buy_df_Dollar = DataFrame(over_Buy_data_Dollar)\n",
    "    over_Buy_df_Dollar[\"Ticker\"] = over_Buy_df_Dollar[\"代碼名稱\"].apply(lambda x: x.split(' ')[0])\n",
    "    over_Buy_df_Dollar = over_Buy_df_Dollar.set_index([\"代碼名稱\", 'Ticker'])\n",
    "    \n",
    "    \n",
    "#     over_Buy_df_Dollar = UplimitFilter(over_Buy_df_Dollar, today_up_limit_tickers)\n",
    "#     over_Sell_df_Dollar = UplimitFilter(over_Sell_df_Dollar, last_up_limit_tickers)\n",
    "#     del over_Buy_df_Dollar['Ticker']\n",
    "#     del over_Sell_df_Dollar['Ticker']\n",
    "    \n",
    "    over_buy_df = concat([over_Buy_df_Share, over_Buy_df_Dollar], axis=1)\n",
    "    over_Sell_df = concat([over_Sell_df_Share, over_Sell_df_Dollar], axis=1)\n",
    "    return over_buy_df, over_Sell_df\n",
    "\n",
    "def UplimitFilter(df, filter_df):\n",
    "    return df[df.Ticker.isin(filter_df.index)]"
   ]
  },
  {
   "cell_type": "code",
   "execution_count": 7,
   "metadata": {
    "ExecuteTime": {
     "end_time": "2022-03-29T09:52:57.798333Z",
     "start_time": "2022-03-29T09:52:57.790354Z"
    }
   },
   "outputs": [],
   "source": [
    "indeed_broker ={\n",
    "    '元大':['土城永寧'],  # ,'竹科'\n",
    "#     '日盛':['文化'],\n",
    "#     '永豐金':['松山'],\n",
    "#     '凱基':['大直','松山','市政','信義'],\n",
    "#     '富邦':['建國','員林'],\n",
    "#     '群益金鼎':['大安']\n",
    "}"
   ]
  },
  {
   "cell_type": "code",
   "execution_count": 99,
   "metadata": {
    "ExecuteTime": {
     "end_time": "2022-03-31T03:40:24.481946Z",
     "start_time": "2022-03-31T03:40:24.458009Z"
    },
    "scrolled": true
   },
   "outputs": [],
   "source": [
    "# date = datetime.today()\n",
    "def GetData(date = datetime.today()):\n",
    "    \n",
    "    # date = datetime(2021,7,21)\n",
    "    dateStr = date.strftime(\"%Y%m%d\")\n",
    "    output_path = os.path.join(parent, \"Output\", dateStr)\n",
    "    if not os.path.isdir(output_path):\n",
    "        os.makedirs(output_path)\n",
    "    for broker, branchs in indeed_broker.items():\n",
    "        for branch in branchs:\n",
    "            print(broker, branch)\n",
    "            tmp_broker = brokers[broker]\n",
    "            broker_id = tmp_broker['broker_id']\n",
    "            branch_id = tmp_broker[broker+'-'+branch]\n",
    "            #---------------------\n",
    "            # Today Data\n",
    "            #---------------------\n",
    "            Share_tables = GetBrokerTable(broker_id, branch_id, date)\n",
    "            Dollar_tables = GetBrokerTable(broker_id, branch_id, date, table_type = \"B\")\n",
    "\n",
    "            # Share Table Parse\n",
    "            over_Sell_data_Share = ParseHtml(Share_tables[1])\n",
    "            over_Buy_data_Share = ParseHtml(Share_tables[0])\n",
    "\n",
    "            # Dollar Table Parse\n",
    "            over_Sell_data_Dollar = ParseHtml(Dollar_tables[1], \"B\")\n",
    "            over_Buy_data_Dollar = ParseHtml(Dollar_tables[0], \"B\")\n",
    "            over_buy_df = DataFrame()\n",
    "            over_sell_df = DataFrame()\n",
    "            if all([over_Sell_data_Share, over_Buy_data_Share, over_Sell_data_Dollar, over_Buy_data_Dollar]):\n",
    "                over_buy_df, over_sell_df = ConbineData(over_Sell_data_Share, over_Buy_data_Share, \n",
    "                                                        over_Sell_data_Dollar, over_Buy_data_Dollar)\n",
    "#                 ,\n",
    "#                                                         today_up_limit_tickers, last_up_limit_tickers)\n",
    "\n",
    "                tmp_over_sell_df = over_sell_df.dropna()#[over_sell_df.index.isin(yes_over_buy_df.index)].dropna()\n",
    "\n",
    "                tmp_over_sell_df['賣出均價'] = tmp_over_sell_df['賣出金額'].apply(lambda x: abs(int(str(x).replace(\",\", \"\")))) / tmp_over_sell_df['賣出張數'].apply(lambda x: abs(int(str(x).replace(\",\", \"\"))))\n",
    "                over_sell_df = concat([over_sell_df, tmp_over_sell_df[['賣出均價']]], axis=1)\n",
    "            else:\n",
    "                print(f'No Data {dateStr}')\n",
    "    return over_buy_df.reset_index(), over_sell_df.reset_index()"
   ]
  },
  {
   "cell_type": "code",
   "execution_count": 9,
   "metadata": {
    "ExecuteTime": {
     "end_time": "2022-03-29T09:53:09.562942Z",
     "start_time": "2022-03-29T09:53:09.546380Z"
    },
    "code_folding": [
     0,
     10,
     20,
     40,
     46,
     80,
     98
    ]
   },
   "outputs": [],
   "source": [
    "def GetAssetList():\n",
    "    url = 'http://192.168.1.105:8000/api/v1/TSE/List/Asset'\n",
    "    pay_load = {\n",
    "        'market':'TW',\n",
    "        'market_type':'',\n",
    "        'asset_type':'股票',\n",
    "        'industry':'',\n",
    "    }\n",
    "    return [x[\"Ticker\"] for x in GetJsonData(url, pay_load)]\n",
    "\n",
    "def GetAssetInfo(tickers):\n",
    "    url = 'http://192.168.1.105:8000/api/v1/TSE/List/Asset'\n",
    "    pay_load = {\n",
    "        'market':'TW',\n",
    "        'market_type':'',\n",
    "        'asset_type':'股票',\n",
    "        'industry':'',\n",
    "    }\n",
    "    return [x for x in GetJsonData(url, pay_load) if x['Ticker'] in tickers]\n",
    "\n",
    "def StockInterDay(start_date:[str,datetime]=datetime(2021,4,14), \n",
    "                  end_date:[str,datetime]=datetime(2021,4,14),\n",
    "                  tickers=''):\n",
    "    if isinstance(start_date, datetime):\n",
    "        start_date = start_date.strftime(\"%Y-%m-%d\")\n",
    "    if isinstance(end_date, datetime):\n",
    "        end_date = end_date.strftime(\"%Y-%m-%d\")\n",
    "    url = 'http://192.168.1.105:8000/api/v1/TSE/Stock'\n",
    "    pay_load = {\n",
    "        'start_date':start_date,#'2021-04-14',\n",
    "        'end_date':end_date,#'2021-04-14',\n",
    "        'tickers':tickers,\n",
    "        'DB':'Inter',\n",
    "        'response':'json',\n",
    "        'Groups':'股票',\n",
    "        'TPeriod':'',\n",
    "        'Fillflag':''\n",
    "    }\n",
    "    return GetJsonData(url, pay_load)\n",
    "\n",
    "def GetJsonData(url, pay_load):\n",
    "    res = requests.post(url, data=json.dumps(pay_load))\n",
    "    js = res.json()\n",
    "    return js['GridData']\n",
    "\n",
    "\n",
    "def GetUplimitTicker(date):\n",
    "    raw_data = StockInterDay(date, date)\n",
    "    i = 1\n",
    "    while 1:\n",
    "        last_date = date - timedelta(i)\n",
    "        last_data = StockInterDay(last_date, last_date)\n",
    "        if last_data:\n",
    "            last_close = dict((d['Ticker'], d['Close']) for d in last_data)\n",
    "            break\n",
    "        i += 1\n",
    "\n",
    "    data = []\n",
    "    while raw_data:\n",
    "        d = raw_data.pop(0)\n",
    "        try:\n",
    "            if not isnan(last_close[d['Ticker']]):\n",
    "                d['uplimit'], d['dnlimit'] = CalculateUpDnLimit(last_close[d['Ticker']])\n",
    "        except Exception as e:\n",
    "            print(e)\n",
    "            pass\n",
    "        else:\n",
    "            if 'uplimit' in d.keys():\n",
    "                if d['Close'] == d['uplimit']:\n",
    "                    data.append(d)\n",
    "    \n",
    "    AssetInfo = GetAssetInfo([x['Ticker'] for x in data])\n",
    "    df = DataFrame(data)\n",
    "\n",
    "    # Concat Data and its Information\n",
    "    final = concat([df['Ticker,Close,Volume'.split(',')].set_index('Ticker'), \n",
    "           DataFrame(AssetInfo)['Ticker,Name,Industry'.split(',')].set_index('Ticker')], axis=1).dropna()\n",
    "    \n",
    "    return final\n",
    "\n",
    "def CalculateUpDnLimit(price):\n",
    "    tmp_up = tmp_dn = price\n",
    "    while 1:\n",
    "        tmp_tick_up = GetMinimumTick(tmp_up)\n",
    "        tmp_up = round(tmp_up+tmp_tick_up,2)\n",
    "        if tmp_up / price > 1.1:\n",
    "            up_limit = tmp_up - tmp_tick_up\n",
    "            break\n",
    "\n",
    "    while 1:\n",
    "        tmp_tick_dn = GetMinimumTick(tmp_dn)\n",
    "        # tmp_dn -= tmp_tick_dn\n",
    "        tmp_dn = round(tmp_dn - tmp_tick_dn,2)\n",
    "        if tmp_dn / price < 0.9:\n",
    "            dn_limit = tmp_dn + tmp_tick_dn\n",
    "            break\n",
    "    return round(up_limit, 2), round(dn_limit, 2)\n",
    "\n",
    "def GetMinimumTick(price):\n",
    "    if price < 10:\n",
    "        tick = 0.01\n",
    "    elif price < 50:\n",
    "        tick = 0.05\n",
    "    elif price < 100:\n",
    "        tick = 0.1\n",
    "    elif price < 500:\n",
    "        tick = 0.5\n",
    "    elif price < 1000:\n",
    "        tick = 1\n",
    "    else:\n",
    "        tick = 5\n",
    "    return tick"
   ]
  },
  {
   "cell_type": "code",
   "execution_count": 103,
   "metadata": {
    "ExecuteTime": {
     "end_time": "2022-03-31T03:41:15.662055Z",
     "start_time": "2022-03-31T03:41:15.649089Z"
    },
    "code_folding": []
   },
   "outputs": [],
   "source": [
    "from dataclasses import dataclass\n",
    "from typing import List\n",
    "\n",
    "@dataclass\n",
    "class Inventory:\n",
    "    Symbol:str\n",
    "    avgPrice:float\n",
    "    date:datetime\n",
    "    qty:int=0\n",
    "    Name:str=\"\"\n",
    "    \n",
    "        \n",
    "    def __post_init__(self):\n",
    "        self.holding_date=[]\n",
    "        \n",
    "@dataclass\n",
    "class PnL:\n",
    "    Symbol:str\n",
    "    avgBuy:float\n",
    "    avgSell:float\n",
    "    entry_date:datetime\n",
    "    exit_date:datetime\n",
    "    qty:int=0\n",
    "    Name:str=\"\"\n",
    "    shares:int = 1000\n",
    "        \n",
    "    def __post_init__(self):\n",
    "        self.entry_commission = self.avgBuy * self.shares * self.qty  * 1.425e-3\n",
    "        self.exit_commission = self.avgSell * self.shares * self.qty  * 1.425e-3\n",
    "        self.fee = self.avgSell * self.shares * self.qty  * 3e-3\n",
    "        self.pnl = (self.avgSell - self.avgBuy) * self.qty * self.shares\n",
    "        self.total_cost = self.entry_commission + self.exit_commission + self.fee\n",
    "        self.Net = self.pnl - self.total_cost\n",
    "\n"
   ]
  },
  {
   "cell_type": "code",
   "execution_count": 101,
   "metadata": {
    "ExecuteTime": {
     "end_time": "2022-03-31T03:41:00.837679Z",
     "start_time": "2022-03-31T03:41:00.813743Z"
    },
    "code_folding": []
   },
   "outputs": [],
   "source": [
    "def AggregateData(date:datetime(2021,7,23), holdings={}, pnls=[], EndHolding=[]):\n",
    "    print(f\"========= 開始抓取 {date.strftime('%Y-%m-%d')} 紀錄=========\")\n",
    "    overBuy_df, overSell_df = GetData(date)\n",
    "    if overBuy_df.empty or overSell_df.empty:\n",
    "        print(\"No data\")\n",
    "        return holdings, pnls\n",
    "    new_overBuy = overBuy_df[overBuy_df['差額(張數)'].apply(lambda x: float(str(x).replace(',','')))>= 200]\n",
    "    new_overBuy['買進均價'] = new_overBuy['買進金額'].apply(lambda x: float(str(x).replace(',','')))/new_overBuy['買進張數'].apply(lambda x: float(str(x).replace(',','')))\n",
    "    new_overSell = overSell_df[overSell_df['差額(張數)'].apply(lambda x: abs(float(str(x).replace(',',''))))>= 200]\n",
    "    \n",
    "    for ticker in new_overBuy.Ticker.unique():\n",
    "        tmp_OB = new_overBuy[new_overBuy.Ticker == ticker]\n",
    "        name = str(tmp_OB.代碼名稱).split(' ')[5].split('\\n')[0]\n",
    "        avgprice = round(float(tmp_OB.買進均價), 2)\n",
    "        qty = int(tmp_OB['差額(張數)'].apply(lambda x: float(str(x).replace(',',''))))\n",
    "        if ticker not in holdings.keys():\n",
    "            holdings[ticker] = []\n",
    "            for _ in range(qty):\n",
    "                holdings[ticker].append(Inventory(ticker, avgprice, date, 1, name))\n",
    "#             holdings[ticker].holding_date.append((date, qty, avgprice))\n",
    "        else:\n",
    "            for _ in range(qty):\n",
    "                holdings[ticker].append(Inventory(ticker, avgprice, date, 1, name))\n",
    "#             old_price = holdings[ticker].avgPrice\n",
    "#             old_qty = holdings[ticker].qty\n",
    "#             holdings[ticker].avgPrice = round((old_price * old_qty + avgprice * qty) / (old_qty + qty), 2)\n",
    "#             holdings[ticker].qty += qty\n",
    "#             holdings[ticker].holding_date.append((date, qty, avgprice))\n",
    "            \n",
    "    for ticker in new_overSell.Ticker.unique():\n",
    "        tmp_OS = new_overSell[new_overSell.Ticker == ticker]\n",
    "        name = str(tmp_OS.代碼名稱).split(' ')[5].split('\\n')[0]\n",
    "        avgprice = round(float(tmp_OS.賣出均價), 2)\n",
    "        qty = abs(int(tmp_OS['差額(張數)'].apply(lambda x: float(str(x).replace(',','')))))\n",
    "        if ticker in holdings.keys():\n",
    "            for _ in range(qty):\n",
    "                if holdings[ticker]:\n",
    "                    unwind = holdings[ticker].pop(0)\n",
    "#             old_qty = holdings[ticker].qty\n",
    "#             exit_qty = qty\n",
    "#             if qty > old_qty:\n",
    "#                 exit_qty = old_qty\n",
    "            \n",
    "#             holdings[ticker].qty -= exit_qty\n",
    "                    pnls.append(\n",
    "                        PnL(ticker, unwind.avgPrice, avgprice, \n",
    "                            unwind.date, date,\n",
    "                           1,name)\n",
    "                    )\n",
    "#                 if not holdings[ticker]:\n",
    "#                     EndHolding.append(holdings.pop(ticker))\n",
    "    \n",
    "    return holdings, pnls#, EndHolding\n"
   ]
  },
  {
   "cell_type": "code",
   "execution_count": 119,
   "metadata": {
    "ExecuteTime": {
     "end_time": "2022-03-31T04:25:01.015273Z",
     "start_time": "2022-03-31T03:56:02.754977Z"
    },
    "scrolled": true
   },
   "outputs": [
    {
     "name": "stdout",
     "output_type": "stream",
     "text": [
      "========= 開始抓取 2021-01-03 紀錄=========\n",
      "元大 土城永寧\n",
      "No Data 20210103\n",
      "No data\n",
      "========= 開始抓取 2021-01-04 紀錄=========\n",
      "元大 土城永寧\n",
      "========= 開始抓取 2021-01-05 紀錄=========\n",
      "元大 土城永寧\n",
      "========= 開始抓取 2021-01-06 紀錄=========\n",
      "元大 土城永寧\n",
      "========= 開始抓取 2021-01-07 紀錄=========\n",
      "元大 土城永寧\n",
      "========= 開始抓取 2021-01-08 紀錄=========\n",
      "元大 土城永寧\n",
      "========= 開始抓取 2021-01-09 紀錄=========\n",
      "元大 土城永寧\n",
      "No Data 20210109\n",
      "No data\n",
      "========= 開始抓取 2021-01-10 紀錄=========\n",
      "元大 土城永寧\n",
      "No Data 20210110\n",
      "No data\n",
      "========= 開始抓取 2021-01-11 紀錄=========\n",
      "元大 土城永寧\n",
      "========= 開始抓取 2021-01-12 紀錄=========\n",
      "元大 土城永寧\n",
      "========= 開始抓取 2021-01-13 紀錄=========\n",
      "元大 土城永寧\n",
      "========= 開始抓取 2021-01-14 紀錄=========\n",
      "元大 土城永寧\n",
      "========= 開始抓取 2021-01-15 紀錄=========\n",
      "元大 土城永寧\n",
      "========= 開始抓取 2021-01-16 紀錄=========\n",
      "元大 土城永寧\n",
      "No Data 20210116\n",
      "No data\n",
      "========= 開始抓取 2021-01-17 紀錄=========\n",
      "元大 土城永寧\n",
      "No Data 20210117\n",
      "No data\n",
      "========= 開始抓取 2021-01-18 紀錄=========\n",
      "元大 土城永寧\n",
      "========= 開始抓取 2021-01-19 紀錄=========\n",
      "元大 土城永寧\n",
      "========= 開始抓取 2021-01-20 紀錄=========\n",
      "元大 土城永寧\n",
      "========= 開始抓取 2021-01-21 紀錄=========\n",
      "元大 土城永寧\n",
      "========= 開始抓取 2021-01-22 紀錄=========\n",
      "元大 土城永寧\n",
      "========= 開始抓取 2021-01-23 紀錄=========\n",
      "元大 土城永寧\n",
      "No Data 20210123\n",
      "No data\n",
      "========= 開始抓取 2021-01-24 紀錄=========\n",
      "元大 土城永寧\n",
      "No Data 20210124\n",
      "No data\n",
      "========= 開始抓取 2021-01-25 紀錄=========\n",
      "元大 土城永寧\n",
      "========= 開始抓取 2021-01-26 紀錄=========\n",
      "元大 土城永寧\n",
      "========= 開始抓取 2021-01-27 紀錄=========\n",
      "元大 土城永寧\n",
      "========= 開始抓取 2021-01-28 紀錄=========\n",
      "元大 土城永寧\n",
      "========= 開始抓取 2021-01-29 紀錄=========\n",
      "元大 土城永寧\n",
      "========= 開始抓取 2021-01-30 紀錄=========\n",
      "元大 土城永寧\n",
      "No Data 20210130\n",
      "No data\n",
      "========= 開始抓取 2021-01-31 紀錄=========\n",
      "元大 土城永寧\n",
      "No Data 20210131\n",
      "No data\n",
      "========= 開始抓取 2021-02-01 紀錄=========\n",
      "元大 土城永寧\n",
      "========= 開始抓取 2021-02-02 紀錄=========\n",
      "元大 土城永寧\n",
      "========= 開始抓取 2021-02-03 紀錄=========\n",
      "元大 土城永寧\n",
      "========= 開始抓取 2021-02-04 紀錄=========\n",
      "元大 土城永寧\n",
      "========= 開始抓取 2021-02-05 紀錄=========\n",
      "元大 土城永寧\n",
      "========= 開始抓取 2021-02-06 紀錄=========\n",
      "元大 土城永寧\n",
      "No Data 20210206\n",
      "No data\n",
      "========= 開始抓取 2021-02-07 紀錄=========\n",
      "元大 土城永寧\n",
      "No Data 20210207\n",
      "No data\n",
      "========= 開始抓取 2021-02-08 紀錄=========\n",
      "元大 土城永寧\n",
      "No Data 20210208\n",
      "No data\n",
      "========= 開始抓取 2021-02-09 紀錄=========\n",
      "元大 土城永寧\n",
      "No Data 20210209\n",
      "No data\n",
      "========= 開始抓取 2021-02-10 紀錄=========\n",
      "元大 土城永寧\n",
      "No Data 20210210\n",
      "No data\n",
      "========= 開始抓取 2021-02-11 紀錄=========\n",
      "元大 土城永寧\n",
      "No Data 20210211\n",
      "No data\n",
      "========= 開始抓取 2021-02-12 紀錄=========\n",
      "元大 土城永寧\n",
      "No Data 20210212\n",
      "No data\n",
      "========= 開始抓取 2021-02-13 紀錄=========\n",
      "元大 土城永寧\n",
      "No Data 20210213\n",
      "No data\n",
      "========= 開始抓取 2021-02-14 紀錄=========\n",
      "元大 土城永寧\n",
      "No Data 20210214\n",
      "No data\n",
      "========= 開始抓取 2021-02-15 紀錄=========\n",
      "元大 土城永寧\n",
      "No Data 20210215\n",
      "No data\n",
      "========= 開始抓取 2021-02-16 紀錄=========\n",
      "元大 土城永寧\n",
      "No Data 20210216\n",
      "No data\n",
      "========= 開始抓取 2021-02-17 紀錄=========\n",
      "元大 土城永寧\n",
      "========= 開始抓取 2021-02-18 紀錄=========\n",
      "元大 土城永寧\n",
      "========= 開始抓取 2021-02-19 紀錄=========\n",
      "元大 土城永寧\n",
      "========= 開始抓取 2021-02-20 紀錄=========\n",
      "元大 土城永寧\n",
      "No Data 20210220\n",
      "No data\n",
      "========= 開始抓取 2021-02-21 紀錄=========\n",
      "元大 土城永寧\n",
      "No Data 20210221\n",
      "No data\n",
      "========= 開始抓取 2021-02-22 紀錄=========\n",
      "元大 土城永寧\n",
      "========= 開始抓取 2021-02-23 紀錄=========\n",
      "元大 土城永寧\n",
      "========= 開始抓取 2021-02-24 紀錄=========\n",
      "元大 土城永寧\n",
      "========= 開始抓取 2021-02-25 紀錄=========\n",
      "元大 土城永寧\n",
      "========= 開始抓取 2021-02-26 紀錄=========\n",
      "元大 土城永寧\n",
      "========= 開始抓取 2021-02-27 紀錄=========\n",
      "元大 土城永寧\n",
      "No Data 20210227\n",
      "No data\n",
      "========= 開始抓取 2021-02-28 紀錄=========\n",
      "元大 土城永寧\n",
      "No Data 20210228\n",
      "No data\n",
      "========= 開始抓取 2021-03-01 紀錄=========\n",
      "元大 土城永寧\n",
      "No Data 20210301\n",
      "No data\n",
      "========= 開始抓取 2021-03-02 紀錄=========\n",
      "元大 土城永寧\n",
      "========= 開始抓取 2021-03-03 紀錄=========\n",
      "元大 土城永寧\n",
      "========= 開始抓取 2021-03-04 紀錄=========\n",
      "元大 土城永寧\n",
      "========= 開始抓取 2021-03-05 紀錄=========\n",
      "元大 土城永寧\n",
      "========= 開始抓取 2021-03-06 紀錄=========\n",
      "元大 土城永寧\n",
      "No Data 20210306\n",
      "No data\n",
      "========= 開始抓取 2021-03-07 紀錄=========\n",
      "元大 土城永寧\n",
      "No Data 20210307\n",
      "No data\n",
      "========= 開始抓取 2021-03-08 紀錄=========\n",
      "元大 土城永寧\n",
      "========= 開始抓取 2021-03-09 紀錄=========\n",
      "元大 土城永寧\n",
      "========= 開始抓取 2021-03-10 紀錄=========\n",
      "元大 土城永寧\n",
      "========= 開始抓取 2021-03-11 紀錄=========\n",
      "元大 土城永寧\n",
      "========= 開始抓取 2021-03-12 紀錄=========\n",
      "元大 土城永寧\n",
      "========= 開始抓取 2021-03-13 紀錄=========\n",
      "元大 土城永寧\n",
      "No Data 20210313\n",
      "No data\n",
      "========= 開始抓取 2021-03-14 紀錄=========\n",
      "元大 土城永寧\n",
      "No Data 20210314\n",
      "No data\n",
      "========= 開始抓取 2021-03-15 紀錄=========\n",
      "元大 土城永寧\n",
      "========= 開始抓取 2021-03-16 紀錄=========\n",
      "元大 土城永寧\n",
      "========= 開始抓取 2021-03-17 紀錄=========\n",
      "元大 土城永寧\n",
      "========= 開始抓取 2021-03-18 紀錄=========\n",
      "元大 土城永寧\n",
      "========= 開始抓取 2021-03-19 紀錄=========\n",
      "元大 土城永寧\n",
      "========= 開始抓取 2021-03-20 紀錄=========\n",
      "元大 土城永寧\n",
      "No Data 20210320\n",
      "No data\n",
      "========= 開始抓取 2021-03-21 紀錄=========\n",
      "元大 土城永寧\n",
      "No Data 20210321\n",
      "No data\n",
      "========= 開始抓取 2021-03-22 紀錄=========\n",
      "元大 土城永寧\n",
      "========= 開始抓取 2021-03-23 紀錄=========\n",
      "元大 土城永寧\n",
      "========= 開始抓取 2021-03-24 紀錄=========\n",
      "元大 土城永寧\n",
      "========= 開始抓取 2021-03-25 紀錄=========\n",
      "元大 土城永寧\n",
      "========= 開始抓取 2021-03-26 紀錄=========\n",
      "元大 土城永寧\n",
      "========= 開始抓取 2021-03-27 紀錄=========\n",
      "元大 土城永寧\n",
      "No Data 20210327\n",
      "No data\n",
      "========= 開始抓取 2021-03-28 紀錄=========\n",
      "元大 土城永寧\n",
      "No Data 20210328\n",
      "No data\n",
      "========= 開始抓取 2021-03-29 紀錄=========\n",
      "元大 土城永寧\n",
      "========= 開始抓取 2021-03-30 紀錄=========\n",
      "元大 土城永寧\n",
      "========= 開始抓取 2021-03-31 紀錄=========\n",
      "元大 土城永寧\n",
      "========= 開始抓取 2021-04-01 紀錄=========\n",
      "元大 土城永寧\n",
      "========= 開始抓取 2021-04-02 紀錄=========\n",
      "元大 土城永寧\n",
      "No Data 20210402\n",
      "No data\n",
      "========= 開始抓取 2021-04-03 紀錄=========\n",
      "元大 土城永寧\n",
      "No Data 20210403\n",
      "No data\n",
      "========= 開始抓取 2021-04-04 紀錄=========\n",
      "元大 土城永寧\n",
      "No Data 20210404\n",
      "No data\n",
      "========= 開始抓取 2021-04-05 紀錄=========\n",
      "元大 土城永寧\n",
      "No Data 20210405\n",
      "No data\n",
      "========= 開始抓取 2021-04-06 紀錄=========\n",
      "元大 土城永寧\n",
      "========= 開始抓取 2021-04-07 紀錄=========\n",
      "元大 土城永寧\n",
      "========= 開始抓取 2021-04-08 紀錄=========\n",
      "元大 土城永寧\n",
      "========= 開始抓取 2021-04-09 紀錄=========\n",
      "元大 土城永寧\n",
      "========= 開始抓取 2021-04-10 紀錄=========\n",
      "元大 土城永寧\n",
      "No Data 20210410\n",
      "No data\n",
      "========= 開始抓取 2021-04-11 紀錄=========\n",
      "元大 土城永寧\n",
      "No Data 20210411\n",
      "No data\n",
      "========= 開始抓取 2021-04-12 紀錄=========\n",
      "元大 土城永寧\n",
      "========= 開始抓取 2021-04-13 紀錄=========\n",
      "元大 土城永寧\n",
      "========= 開始抓取 2021-04-14 紀錄=========\n",
      "元大 土城永寧\n",
      "========= 開始抓取 2021-04-15 紀錄=========\n",
      "元大 土城永寧\n",
      "========= 開始抓取 2021-04-16 紀錄=========\n",
      "元大 土城永寧\n",
      "========= 開始抓取 2021-04-17 紀錄=========\n",
      "元大 土城永寧\n",
      "No Data 20210417\n",
      "No data\n",
      "========= 開始抓取 2021-04-18 紀錄=========\n",
      "元大 土城永寧\n",
      "No Data 20210418\n",
      "No data\n",
      "========= 開始抓取 2021-04-19 紀錄=========\n",
      "元大 土城永寧\n",
      "========= 開始抓取 2021-04-20 紀錄=========\n",
      "元大 土城永寧\n",
      "========= 開始抓取 2021-04-21 紀錄=========\n",
      "元大 土城永寧\n",
      "========= 開始抓取 2021-04-22 紀錄=========\n",
      "元大 土城永寧\n",
      "========= 開始抓取 2021-04-23 紀錄=========\n",
      "元大 土城永寧\n",
      "========= 開始抓取 2021-04-24 紀錄=========\n",
      "元大 土城永寧\n",
      "No Data 20210424\n",
      "No data\n",
      "========= 開始抓取 2021-04-25 紀錄=========\n",
      "元大 土城永寧\n",
      "No Data 20210425\n",
      "No data\n",
      "========= 開始抓取 2021-04-26 紀錄=========\n",
      "元大 土城永寧\n",
      "========= 開始抓取 2021-04-27 紀錄=========\n",
      "元大 土城永寧\n",
      "========= 開始抓取 2021-04-28 紀錄=========\n",
      "元大 土城永寧\n",
      "========= 開始抓取 2021-04-29 紀錄=========\n",
      "元大 土城永寧\n",
      "========= 開始抓取 2021-04-30 紀錄=========\n",
      "元大 土城永寧\n",
      "No Data 20210430\n",
      "No data\n",
      "========= 開始抓取 2021-05-01 紀錄=========\n",
      "元大 土城永寧\n",
      "No Data 20210501\n",
      "No data\n",
      "========= 開始抓取 2021-05-02 紀錄=========\n",
      "元大 土城永寧\n",
      "No Data 20210502\n",
      "No data\n",
      "========= 開始抓取 2021-05-03 紀錄=========\n",
      "元大 土城永寧\n",
      "========= 開始抓取 2021-05-04 紀錄=========\n",
      "元大 土城永寧\n",
      "========= 開始抓取 2021-05-05 紀錄=========\n",
      "元大 土城永寧\n",
      "========= 開始抓取 2021-05-06 紀錄=========\n",
      "元大 土城永寧\n",
      "========= 開始抓取 2021-05-07 紀錄=========\n",
      "元大 土城永寧\n",
      "========= 開始抓取 2021-05-08 紀錄=========\n",
      "元大 土城永寧\n",
      "No Data 20210508\n",
      "No data\n",
      "========= 開始抓取 2021-05-09 紀錄=========\n",
      "元大 土城永寧\n",
      "No Data 20210509\n",
      "No data\n",
      "========= 開始抓取 2021-05-10 紀錄=========\n",
      "元大 土城永寧\n",
      "========= 開始抓取 2021-05-11 紀錄=========\n",
      "元大 土城永寧\n",
      "========= 開始抓取 2021-05-12 紀錄=========\n",
      "元大 土城永寧\n",
      "========= 開始抓取 2021-05-13 紀錄=========\n",
      "元大 土城永寧\n",
      "========= 開始抓取 2021-05-14 紀錄=========\n",
      "元大 土城永寧\n",
      "========= 開始抓取 2021-05-15 紀錄=========\n",
      "元大 土城永寧\n",
      "No Data 20210515\n",
      "No data\n",
      "========= 開始抓取 2021-05-16 紀錄=========\n",
      "元大 土城永寧\n",
      "No Data 20210516\n",
      "No data\n",
      "========= 開始抓取 2021-05-17 紀錄=========\n",
      "元大 土城永寧\n",
      "========= 開始抓取 2021-05-18 紀錄=========\n",
      "元大 土城永寧\n",
      "========= 開始抓取 2021-05-19 紀錄=========\n",
      "元大 土城永寧\n",
      "========= 開始抓取 2021-05-20 紀錄=========\n",
      "元大 土城永寧\n",
      "========= 開始抓取 2021-05-21 紀錄=========\n",
      "元大 土城永寧\n",
      "========= 開始抓取 2021-05-22 紀錄=========\n",
      "元大 土城永寧\n",
      "No Data 20210522\n",
      "No data\n",
      "========= 開始抓取 2021-05-23 紀錄=========\n",
      "元大 土城永寧\n",
      "No Data 20210523\n",
      "No data\n",
      "========= 開始抓取 2021-05-24 紀錄=========\n",
      "元大 土城永寧\n",
      "========= 開始抓取 2021-05-25 紀錄=========\n",
      "元大 土城永寧\n",
      "========= 開始抓取 2021-05-26 紀錄=========\n",
      "元大 土城永寧\n",
      "========= 開始抓取 2021-05-27 紀錄=========\n",
      "元大 土城永寧\n",
      "========= 開始抓取 2021-05-28 紀錄=========\n",
      "元大 土城永寧\n",
      "========= 開始抓取 2021-05-29 紀錄=========\n",
      "元大 土城永寧\n",
      "No Data 20210529\n",
      "No data\n",
      "========= 開始抓取 2021-05-30 紀錄=========\n",
      "元大 土城永寧\n",
      "No Data 20210530\n",
      "No data\n",
      "========= 開始抓取 2021-05-31 紀錄=========\n",
      "元大 土城永寧\n"
     ]
    },
    {
     "name": "stdout",
     "output_type": "stream",
     "text": [
      "========= 開始抓取 2021-06-01 紀錄=========\n",
      "元大 土城永寧\n",
      "========= 開始抓取 2021-06-02 紀錄=========\n",
      "元大 土城永寧\n",
      "========= 開始抓取 2021-06-03 紀錄=========\n",
      "元大 土城永寧\n",
      "========= 開始抓取 2021-06-04 紀錄=========\n",
      "元大 土城永寧\n",
      "========= 開始抓取 2021-06-05 紀錄=========\n",
      "元大 土城永寧\n",
      "No Data 20210605\n",
      "No data\n",
      "========= 開始抓取 2021-06-06 紀錄=========\n",
      "元大 土城永寧\n",
      "No Data 20210606\n",
      "No data\n",
      "========= 開始抓取 2021-06-07 紀錄=========\n",
      "元大 土城永寧\n",
      "========= 開始抓取 2021-06-08 紀錄=========\n",
      "元大 土城永寧\n",
      "========= 開始抓取 2021-06-09 紀錄=========\n",
      "元大 土城永寧\n",
      "========= 開始抓取 2021-06-10 紀錄=========\n",
      "元大 土城永寧\n",
      "========= 開始抓取 2021-06-11 紀錄=========\n",
      "元大 土城永寧\n",
      "========= 開始抓取 2021-06-12 紀錄=========\n",
      "元大 土城永寧\n",
      "No Data 20210612\n",
      "No data\n",
      "========= 開始抓取 2021-06-13 紀錄=========\n",
      "元大 土城永寧\n",
      "No Data 20210613\n",
      "No data\n",
      "========= 開始抓取 2021-06-14 紀錄=========\n",
      "元大 土城永寧\n",
      "No Data 20210614\n",
      "No data\n",
      "========= 開始抓取 2021-06-15 紀錄=========\n",
      "元大 土城永寧\n",
      "========= 開始抓取 2021-06-16 紀錄=========\n",
      "元大 土城永寧\n",
      "========= 開始抓取 2021-06-17 紀錄=========\n",
      "元大 土城永寧\n",
      "========= 開始抓取 2021-06-18 紀錄=========\n",
      "元大 土城永寧\n",
      "========= 開始抓取 2021-06-19 紀錄=========\n",
      "元大 土城永寧\n",
      "No Data 20210619\n",
      "No data\n",
      "========= 開始抓取 2021-06-20 紀錄=========\n",
      "元大 土城永寧\n",
      "No Data 20210620\n",
      "No data\n",
      "========= 開始抓取 2021-06-21 紀錄=========\n",
      "元大 土城永寧\n",
      "========= 開始抓取 2021-06-22 紀錄=========\n",
      "元大 土城永寧\n",
      "========= 開始抓取 2021-06-23 紀錄=========\n",
      "元大 土城永寧\n",
      "========= 開始抓取 2021-06-24 紀錄=========\n",
      "元大 土城永寧\n",
      "========= 開始抓取 2021-06-25 紀錄=========\n",
      "元大 土城永寧\n",
      "========= 開始抓取 2021-06-26 紀錄=========\n",
      "元大 土城永寧\n",
      "No Data 20210626\n",
      "No data\n",
      "========= 開始抓取 2021-06-27 紀錄=========\n",
      "元大 土城永寧\n",
      "No Data 20210627\n",
      "No data\n",
      "========= 開始抓取 2021-06-28 紀錄=========\n",
      "元大 土城永寧\n",
      "========= 開始抓取 2021-06-29 紀錄=========\n",
      "元大 土城永寧\n",
      "========= 開始抓取 2021-06-30 紀錄=========\n",
      "元大 土城永寧\n",
      "========= 開始抓取 2021-07-01 紀錄=========\n",
      "元大 土城永寧\n",
      "========= 開始抓取 2021-07-02 紀錄=========\n",
      "元大 土城永寧\n",
      "========= 開始抓取 2021-07-03 紀錄=========\n",
      "元大 土城永寧\n",
      "No Data 20210703\n",
      "No data\n",
      "========= 開始抓取 2021-07-04 紀錄=========\n",
      "元大 土城永寧\n",
      "No Data 20210704\n",
      "No data\n",
      "========= 開始抓取 2021-07-05 紀錄=========\n",
      "元大 土城永寧\n",
      "========= 開始抓取 2021-07-06 紀錄=========\n",
      "元大 土城永寧\n",
      "========= 開始抓取 2021-07-07 紀錄=========\n",
      "元大 土城永寧\n",
      "========= 開始抓取 2021-07-08 紀錄=========\n",
      "元大 土城永寧\n",
      "========= 開始抓取 2021-07-09 紀錄=========\n",
      "元大 土城永寧\n",
      "========= 開始抓取 2021-07-10 紀錄=========\n",
      "元大 土城永寧\n",
      "No Data 20210710\n",
      "No data\n",
      "========= 開始抓取 2021-07-11 紀錄=========\n",
      "元大 土城永寧\n",
      "No Data 20210711\n",
      "No data\n",
      "========= 開始抓取 2021-07-12 紀錄=========\n",
      "元大 土城永寧\n",
      "========= 開始抓取 2021-07-13 紀錄=========\n",
      "元大 土城永寧\n",
      "========= 開始抓取 2021-07-14 紀錄=========\n",
      "元大 土城永寧\n",
      "========= 開始抓取 2021-07-15 紀錄=========\n",
      "元大 土城永寧\n",
      "========= 開始抓取 2021-07-16 紀錄=========\n",
      "元大 土城永寧\n",
      "========= 開始抓取 2021-07-17 紀錄=========\n",
      "元大 土城永寧\n",
      "No Data 20210717\n",
      "No data\n",
      "========= 開始抓取 2021-07-18 紀錄=========\n",
      "元大 土城永寧\n",
      "No Data 20210718\n",
      "No data\n",
      "========= 開始抓取 2021-07-19 紀錄=========\n",
      "元大 土城永寧\n",
      "========= 開始抓取 2021-07-20 紀錄=========\n",
      "元大 土城永寧\n",
      "========= 開始抓取 2021-07-21 紀錄=========\n",
      "元大 土城永寧\n",
      "========= 開始抓取 2021-07-22 紀錄=========\n",
      "元大 土城永寧\n",
      "========= 開始抓取 2021-07-23 紀錄=========\n",
      "元大 土城永寧\n",
      "========= 開始抓取 2021-07-24 紀錄=========\n",
      "元大 土城永寧\n",
      "No Data 20210724\n",
      "No data\n",
      "========= 開始抓取 2021-07-25 紀錄=========\n",
      "元大 土城永寧\n",
      "No Data 20210725\n",
      "No data\n",
      "========= 開始抓取 2021-07-26 紀錄=========\n",
      "元大 土城永寧\n",
      "========= 開始抓取 2021-07-27 紀錄=========\n",
      "元大 土城永寧\n",
      "========= 開始抓取 2021-07-28 紀錄=========\n",
      "元大 土城永寧\n",
      "========= 開始抓取 2021-07-29 紀錄=========\n",
      "元大 土城永寧\n",
      "========= 開始抓取 2021-07-30 紀錄=========\n",
      "元大 土城永寧\n",
      "========= 開始抓取 2021-07-31 紀錄=========\n",
      "元大 土城永寧\n",
      "No Data 20210731\n",
      "No data\n",
      "========= 開始抓取 2021-08-01 紀錄=========\n",
      "元大 土城永寧\n",
      "No Data 20210801\n",
      "No data\n",
      "========= 開始抓取 2021-08-02 紀錄=========\n",
      "元大 土城永寧\n",
      "========= 開始抓取 2021-08-03 紀錄=========\n",
      "元大 土城永寧\n",
      "========= 開始抓取 2021-08-04 紀錄=========\n",
      "元大 土城永寧\n",
      "========= 開始抓取 2021-08-05 紀錄=========\n",
      "元大 土城永寧\n",
      "========= 開始抓取 2021-08-06 紀錄=========\n",
      "元大 土城永寧\n",
      "========= 開始抓取 2021-08-07 紀錄=========\n",
      "元大 土城永寧\n",
      "No Data 20210807\n",
      "No data\n",
      "========= 開始抓取 2021-08-08 紀錄=========\n",
      "元大 土城永寧\n",
      "No Data 20210808\n",
      "No data\n",
      "========= 開始抓取 2021-08-09 紀錄=========\n",
      "元大 土城永寧\n",
      "========= 開始抓取 2021-08-10 紀錄=========\n",
      "元大 土城永寧\n",
      "========= 開始抓取 2021-08-11 紀錄=========\n",
      "元大 土城永寧\n",
      "========= 開始抓取 2021-08-12 紀錄=========\n",
      "元大 土城永寧\n",
      "========= 開始抓取 2021-08-13 紀錄=========\n",
      "元大 土城永寧\n",
      "========= 開始抓取 2021-08-14 紀錄=========\n",
      "元大 土城永寧\n",
      "No Data 20210814\n",
      "No data\n",
      "========= 開始抓取 2021-08-15 紀錄=========\n",
      "元大 土城永寧\n",
      "No Data 20210815\n",
      "No data\n",
      "========= 開始抓取 2021-08-16 紀錄=========\n",
      "元大 土城永寧\n",
      "========= 開始抓取 2021-08-17 紀錄=========\n",
      "元大 土城永寧\n",
      "========= 開始抓取 2021-08-18 紀錄=========\n",
      "元大 土城永寧\n",
      "========= 開始抓取 2021-08-19 紀錄=========\n",
      "元大 土城永寧\n",
      "========= 開始抓取 2021-08-20 紀錄=========\n",
      "元大 土城永寧\n",
      "========= 開始抓取 2021-08-21 紀錄=========\n",
      "元大 土城永寧\n",
      "No Data 20210821\n",
      "No data\n",
      "========= 開始抓取 2021-08-22 紀錄=========\n",
      "元大 土城永寧\n",
      "No Data 20210822\n",
      "No data\n",
      "========= 開始抓取 2021-08-23 紀錄=========\n",
      "元大 土城永寧\n",
      "========= 開始抓取 2021-08-24 紀錄=========\n",
      "元大 土城永寧\n",
      "========= 開始抓取 2021-08-25 紀錄=========\n",
      "元大 土城永寧\n",
      "========= 開始抓取 2021-08-26 紀錄=========\n",
      "元大 土城永寧\n",
      "========= 開始抓取 2021-08-27 紀錄=========\n",
      "元大 土城永寧\n",
      "========= 開始抓取 2021-08-28 紀錄=========\n",
      "元大 土城永寧\n",
      "No Data 20210828\n",
      "No data\n",
      "========= 開始抓取 2021-08-29 紀錄=========\n",
      "元大 土城永寧\n",
      "No Data 20210829\n",
      "No data\n",
      "========= 開始抓取 2021-08-30 紀錄=========\n",
      "元大 土城永寧\n",
      "========= 開始抓取 2021-08-31 紀錄=========\n",
      "元大 土城永寧\n",
      "========= 開始抓取 2021-09-01 紀錄=========\n",
      "元大 土城永寧\n",
      "========= 開始抓取 2021-09-02 紀錄=========\n",
      "元大 土城永寧\n",
      "========= 開始抓取 2021-09-03 紀錄=========\n",
      "元大 土城永寧\n",
      "========= 開始抓取 2021-09-04 紀錄=========\n",
      "元大 土城永寧\n",
      "No Data 20210904\n",
      "No data\n",
      "========= 開始抓取 2021-09-05 紀錄=========\n",
      "元大 土城永寧\n",
      "No Data 20210905\n",
      "No data\n",
      "========= 開始抓取 2021-09-06 紀錄=========\n",
      "元大 土城永寧\n",
      "========= 開始抓取 2021-09-07 紀錄=========\n",
      "元大 土城永寧\n",
      "========= 開始抓取 2021-09-08 紀錄=========\n",
      "元大 土城永寧\n",
      "========= 開始抓取 2021-09-09 紀錄=========\n",
      "元大 土城永寧\n",
      "========= 開始抓取 2021-09-10 紀錄=========\n",
      "元大 土城永寧\n",
      "========= 開始抓取 2021-09-11 紀錄=========\n",
      "元大 土城永寧\n",
      "No Data 20210911\n",
      "No data\n",
      "========= 開始抓取 2021-09-12 紀錄=========\n",
      "元大 土城永寧\n",
      "No Data 20210912\n",
      "No data\n",
      "========= 開始抓取 2021-09-13 紀錄=========\n",
      "元大 土城永寧\n",
      "========= 開始抓取 2021-09-14 紀錄=========\n",
      "元大 土城永寧\n",
      "========= 開始抓取 2021-09-15 紀錄=========\n",
      "元大 土城永寧\n",
      "========= 開始抓取 2021-09-16 紀錄=========\n",
      "元大 土城永寧\n",
      "========= 開始抓取 2021-09-17 紀錄=========\n",
      "元大 土城永寧\n",
      "========= 開始抓取 2021-09-18 紀錄=========\n",
      "元大 土城永寧\n",
      "No Data 20210918\n",
      "No data\n",
      "========= 開始抓取 2021-09-19 紀錄=========\n",
      "元大 土城永寧\n",
      "No Data 20210919\n",
      "No data\n",
      "========= 開始抓取 2021-09-20 紀錄=========\n",
      "元大 土城永寧\n",
      "No Data 20210920\n",
      "No data\n",
      "========= 開始抓取 2021-09-21 紀錄=========\n",
      "元大 土城永寧\n",
      "No Data 20210921\n",
      "No data\n",
      "========= 開始抓取 2021-09-22 紀錄=========\n",
      "元大 土城永寧\n",
      "========= 開始抓取 2021-09-23 紀錄=========\n",
      "元大 土城永寧\n",
      "========= 開始抓取 2021-09-24 紀錄=========\n",
      "元大 土城永寧\n",
      "========= 開始抓取 2021-09-25 紀錄=========\n",
      "元大 土城永寧\n",
      "No Data 20210925\n",
      "No data\n",
      "========= 開始抓取 2021-09-26 紀錄=========\n",
      "元大 土城永寧\n",
      "No Data 20210926\n",
      "No data\n",
      "========= 開始抓取 2021-09-27 紀錄=========\n",
      "元大 土城永寧\n",
      "========= 開始抓取 2021-09-28 紀錄=========\n",
      "元大 土城永寧\n",
      "========= 開始抓取 2021-09-29 紀錄=========\n",
      "元大 土城永寧\n",
      "========= 開始抓取 2021-09-30 紀錄=========\n",
      "元大 土城永寧\n",
      "========= 開始抓取 2021-10-01 紀錄=========\n",
      "元大 土城永寧\n",
      "========= 開始抓取 2021-10-02 紀錄=========\n",
      "元大 土城永寧\n",
      "No Data 20211002\n",
      "No data\n",
      "========= 開始抓取 2021-10-03 紀錄=========\n",
      "元大 土城永寧\n",
      "No Data 20211003\n",
      "No data\n",
      "========= 開始抓取 2021-10-04 紀錄=========\n",
      "元大 土城永寧\n",
      "========= 開始抓取 2021-10-05 紀錄=========\n",
      "元大 土城永寧\n",
      "========= 開始抓取 2021-10-06 紀錄=========\n",
      "元大 土城永寧\n",
      "========= 開始抓取 2021-10-07 紀錄=========\n",
      "元大 土城永寧\n",
      "========= 開始抓取 2021-10-08 紀錄=========\n",
      "元大 土城永寧\n",
      "========= 開始抓取 2021-10-09 紀錄=========\n",
      "元大 土城永寧\n",
      "No Data 20211009\n",
      "No data\n",
      "========= 開始抓取 2021-10-10 紀錄=========\n",
      "元大 土城永寧\n",
      "No Data 20211010\n",
      "No data\n",
      "========= 開始抓取 2021-10-11 紀錄=========\n",
      "元大 土城永寧\n",
      "No Data 20211011\n",
      "No data\n",
      "========= 開始抓取 2021-10-12 紀錄=========\n",
      "元大 土城永寧\n",
      "========= 開始抓取 2021-10-13 紀錄=========\n",
      "元大 土城永寧\n",
      "========= 開始抓取 2021-10-14 紀錄=========\n",
      "元大 土城永寧\n",
      "========= 開始抓取 2021-10-15 紀錄=========\n",
      "元大 土城永寧\n",
      "========= 開始抓取 2021-10-16 紀錄=========\n",
      "元大 土城永寧\n",
      "No Data 20211016\n",
      "No data\n",
      "========= 開始抓取 2021-10-17 紀錄=========\n",
      "元大 土城永寧\n",
      "No Data 20211017\n",
      "No data\n",
      "========= 開始抓取 2021-10-18 紀錄=========\n",
      "元大 土城永寧\n",
      "========= 開始抓取 2021-10-19 紀錄=========\n",
      "元大 土城永寧\n",
      "========= 開始抓取 2021-10-20 紀錄=========\n",
      "元大 土城永寧\n",
      "========= 開始抓取 2021-10-21 紀錄=========\n",
      "元大 土城永寧\n",
      "========= 開始抓取 2021-10-22 紀錄=========\n",
      "元大 土城永寧\n",
      "========= 開始抓取 2021-10-23 紀錄=========\n",
      "元大 土城永寧\n",
      "No Data 20211023\n",
      "No data\n",
      "========= 開始抓取 2021-10-24 紀錄=========\n",
      "元大 土城永寧\n",
      "No Data 20211024\n",
      "No data\n",
      "========= 開始抓取 2021-10-25 紀錄=========\n",
      "元大 土城永寧\n",
      "========= 開始抓取 2021-10-26 紀錄=========\n",
      "元大 土城永寧\n",
      "========= 開始抓取 2021-10-27 紀錄=========\n",
      "元大 土城永寧\n",
      "========= 開始抓取 2021-10-28 紀錄=========\n",
      "元大 土城永寧\n",
      "========= 開始抓取 2021-10-29 紀錄=========\n",
      "元大 土城永寧\n",
      "========= 開始抓取 2021-10-30 紀錄=========\n",
      "元大 土城永寧\n",
      "No Data 20211030\n",
      "No data\n",
      "========= 開始抓取 2021-10-31 紀錄=========\n",
      "元大 土城永寧\n"
     ]
    },
    {
     "name": "stdout",
     "output_type": "stream",
     "text": [
      "list index out of range\n"
     ]
    }
   ],
   "source": [
    "holdings = {}\n",
    "pnls = []\n",
    "EndHolding=[]\n",
    "start_date = datetime(2021,1,3)\n",
    "end_date = datetime(2022,3,30)\n",
    "for date in date_range(start_date, end_date):\n",
    "    try:\n",
    "        holdings, pnls = AggregateData(date, holdings, pnls, EndHolding)\n",
    "#         holdings, pnls, EndHolding = \n",
    "    except Exception as e:\n",
    "        print(e)\n",
    "        break\n",
    "    time.sleep(5)\n",
    "#     break"
   ]
  },
  {
   "cell_type": "code",
   "execution_count": 120,
   "metadata": {
    "ExecuteTime": {
     "end_time": "2022-03-31T04:25:05.121297Z",
     "start_time": "2022-03-31T04:25:01.016270Z"
    }
   },
   "outputs": [],
   "source": [
    "cum_pnl_detail = {}\n",
    "for pnl in pnls:\n",
    "#     print(\"==========紀錄結果==========\")\n",
    "#     print(f\"標的名稱 : {pnl.Symbol}\")\n",
    "#     print(f\"進場日 : {pnl.entry_date.strftime('%Y-%m-%d')}, 價格 : {pnl.avgBuy}\")\n",
    "#     print(f\"出場日 : {pnl.exit_date.strftime('%Y-%m-%d')}, 價格 : {pnl.avgSell}\")\n",
    "#     print(f\"持有時間 : {(pnl.exit_date - pnl.entry_date).days}\")\n",
    "#     print(f'持倉數量 : {pnl.qty}')\n",
    "#     print(f\"淨損益 : {pnl.Net}\\n\")\n",
    "    \n",
    "    cum_pnl_detail[pnl.Symbol] = cum_pnl_detail.get(pnl.Symbol, {})\n",
    "    cum_pnl_detail[pnl.Symbol][pnl.exit_date] = cum_pnl_detail[pnl.Symbol].get(pnl.exit_date, [])\n",
    "    cum_pnl_detail[pnl.Symbol][pnl.exit_date].append({\n",
    "        'EntryDate':pnl.entry_date,\n",
    "        \"ExitDate\":pnl.exit_date,\n",
    "        \"qty\":1,\n",
    "        \"PnL\":pnl.Net\n",
    "    })\n",
    "cum_pnl = []\n",
    "for symbol, v in cum_pnl_detail.items():\n",
    "    for exit_date, pnls in v.items():\n",
    "        cum_pnl.append({\n",
    "            \"Symbol\":symbol,\n",
    "            \"ExitDate\":exit_date,\n",
    "            \"PnL\":DataFrame(pnls).PnL.sum(),\n",
    "        })"
   ]
  },
  {
   "cell_type": "code",
   "execution_count": 130,
   "metadata": {
    "ExecuteTime": {
     "end_time": "2022-03-31T05:17:34.124236Z",
     "start_time": "2022-03-31T05:17:34.117254Z"
    }
   },
   "outputs": [],
   "source": [
    "result_detail = DataFrame([{\"Symbol\":\"--\",\n",
    "            \"ExitDate\":start_date,\n",
    "            \"PnL\":0}]).append(DataFrame(cum_pnl))"
   ]
  },
  {
   "cell_type": "code",
   "execution_count": 131,
   "metadata": {
    "ExecuteTime": {
     "end_time": "2022-03-31T05:18:08.588704Z",
     "start_time": "2022-03-31T05:18:08.519888Z"
    }
   },
   "outputs": [],
   "source": [
    "groups = result_detail.groupby(\"ExitDate\")\n",
    "result = []\n",
    "for exit_date in groups.groups:\n",
    "    tmp_ = groups.get_group(exit_date)\n",
    "    result.append({\n",
    "        \"ExitDate\":exit_date,\n",
    "        \"PnL\":tmp_.PnL.sum()\n",
    "    })\n",
    "    "
   ]
  },
  {
   "cell_type": "code",
   "execution_count": 133,
   "metadata": {
    "ExecuteTime": {
     "end_time": "2022-03-31T05:18:25.046452Z",
     "start_time": "2022-03-31T05:18:24.905801Z"
    }
   },
   "outputs": [
    {
     "data": {
      "text/plain": [
       "<AxesSubplot:xlabel='ExitDate'>"
      ]
     },
     "execution_count": 133,
     "metadata": {},
     "output_type": "execute_result"
    },
    {
     "data": {
      "image/png": "[encoded data removed]",
      "text/plain": [
       "<Figure size 1152x576 with 1 Axes>"
      ]
     },
     "metadata": {
      "needs_background": "light"
     },
     "output_type": "display_data"
    }
   ],
   "source": [
    "DataFrame(result).set_index(\"ExitDate\").PnL.cumsum().plot(figsize=(16,8))"
   ]
  },
  {
   "cell_type": "code",
   "execution_count": 39,
   "metadata": {
    "ExecuteTime": {
     "end_time": "2022-03-29T13:56:03.905340Z",
     "start_time": "2022-03-29T13:56:03.898358Z"
    }
   },
   "outputs": [
    {
     "data": {
      "text/plain": [
       "[Inventory(Symbol='2603', avgPrice=44.68, qty=0, Name='長榮'),\n",
       " Inventory(Symbol='2328', avgPrice=34.06, qty=0, Name='廣宇'),\n",
       " Inventory(Symbol='3374', avgPrice=199.7, qty=0, Name='精材'),\n",
       " Inventory(Symbol='3374', avgPrice=204.95, qty=0, Name='精材'),\n",
       " Inventory(Symbol='3016', avgPrice=77.59, qty=0, Name='嘉晶'),\n",
       " Inventory(Symbol='3105', avgPrice=398.06, qty=0, Name='穩懋'),\n",
       " Inventory(Symbol='3231', avgPrice=30.4, qty=0, Name='緯創'),\n",
       " Inventory(Symbol='3545', avgPrice=105.95, qty=0, Name='敦泰'),\n",
       " Inventory(Symbol='1402', avgPrice=28.43, qty=0, Name='遠東新'),\n",
       " Inventory(Symbol='2328', avgPrice=38.0, qty=0, Name='廣宇'),\n",
       " Inventory(Symbol='2609', avgPrice=29.16, qty=0, Name='陽明'),\n",
       " Inventory(Symbol='2317', avgPrice=114.09, qty=0, Name='鴻海'),\n",
       " Inventory(Symbol='2330', avgPrice=619.79, qty=0, Name='台積電'),\n",
       " Inventory(Symbol='2303', avgPrice=51.87, qty=0, Name='聯電'),\n",
       " Inventory(Symbol='2328', avgPrice=40.44, qty=0, Name='廣宇'),\n",
       " Inventory(Symbol='00637L', avgPrice=30.6, qty=0, Name='元大滬深300正2'),\n",
       " Inventory(Symbol='2317', avgPrice=120.97, qty=0, Name='鴻海'),\n",
       " Inventory(Symbol='8086', avgPrice=165.92, qty=0, Name='宏捷科'),\n",
       " Inventory(Symbol='00632R', avgPrice=6.53, qty=0, Name='元大台灣50反1'),\n",
       " Inventory(Symbol='00677U', avgPrice=3.21, qty=0, Name='期富邦VIX'),\n",
       " Inventory(Symbol='3231', avgPrice=29.98, qty=0, Name='緯創'),\n",
       " Inventory(Symbol='5471', avgPrice=76.19, qty=0, Name='松翰'),\n",
       " Inventory(Symbol='2353', avgPrice=26.4, qty=0, Name='宏��'),\n",
       " Inventory(Symbol='2375', avgPrice=106.99, qty=0, Name='凱美'),\n",
       " Inventory(Symbol='00632R', avgPrice=6.61, qty=0, Name='元大台灣50反1'),\n",
       " Inventory(Symbol='2344', avgPrice=28.76, qty=0, Name='華邦電'),\n",
       " Inventory(Symbol='8046', avgPrice=253.35, qty=0, Name='南電'),\n",
       " Inventory(Symbol='2409', avgPrice=17.2, qty=0, Name='友達'),\n",
       " Inventory(Symbol='2603', avgPrice=34.44, qty=0, Name='長榮'),\n",
       " Inventory(Symbol='8358', avgPrice=59.18, qty=0, Name='金居'),\n",
       " Inventory(Symbol='2492', avgPrice=259.4, qty=0, Name='華新科'),\n",
       " Inventory(Symbol='3006', avgPrice=69.07, qty=0, Name='晶豪科'),\n",
       " Inventory(Symbol='3711', avgPrice=116.0, qty=0, Name='日月光投控'),\n",
       " Inventory(Symbol='6488', avgPrice=697.0, qty=0, Name='環球晶'),\n",
       " Inventory(Symbol='2337', avgPrice=44.95, qty=0, Name='旺宏'),\n",
       " Inventory(Symbol='2609', avgPrice=26.5, qty=0, Name='陽明'),\n",
       " Inventory(Symbol='3078', avgPrice=52.38, qty=0, Name='僑威'),\n",
       " Inventory(Symbol='00632R', avgPrice=6.17, qty=0, Name='元大台灣50反1'),\n",
       " Inventory(Symbol='2354', avgPrice=67.7, qty=0, Name='鴻準'),\n",
       " Inventory(Symbol='3481', avgPrice=13.06, qty=0, Name='群創'),\n",
       " Inventory(Symbol='4743', avgPrice=280.61, qty=0, Name='合一'),\n",
       " Inventory(Symbol='2014', avgPrice=17.3, qty=0, Name='中鴻'),\n",
       " Inventory(Symbol='2610', avgPrice=13.02, qty=0, Name='華航'),\n",
       " Inventory(Symbol='1402', avgPrice=26.95, qty=0, Name='遠東新'),\n",
       " Inventory(Symbol='8183', avgPrice=29.93, qty=0, Name='精星'),\n",
       " Inventory(Symbol='00677U', avgPrice=3.44, qty=0, Name='期富邦VIX'),\n",
       " Inventory(Symbol='1402', avgPrice=29.41, qty=0, Name='遠東新'),\n",
       " Inventory(Symbol='6138', avgPrice=106.46, qty=0, Name='茂達'),\n",
       " Inventory(Symbol='2338', avgPrice=49.29, qty=0, Name='光罩'),\n",
       " Inventory(Symbol='2458', avgPrice=189.05, qty=0, Name='義隆'),\n",
       " Inventory(Symbol='2486', avgPrice=20.7, qty=0, Name='一詮'),\n",
       " Inventory(Symbol='3169', avgPrice=124.42, qty=0, Name='亞信'),\n",
       " Inventory(Symbol='3545', avgPrice=111.12, qty=0, Name='敦泰'),\n",
       " Inventory(Symbol='6237', avgPrice=100.81, qty=0, Name='驊訊'),\n",
       " Inventory(Symbol='6485', avgPrice=100.61, qty=0, Name='點序'),\n",
       " Inventory(Symbol='2610', avgPrice=14.01, qty=0, Name='華航'),\n",
       " Inventory(Symbol='4961', avgPrice=230.83, qty=0, Name='天鈺'),\n",
       " Inventory(Symbol='1402', avgPrice=29.65, qty=0, Name='遠東新'),\n",
       " Inventory(Symbol='3231', avgPrice=31.19, qty=0, Name='緯創'),\n",
       " Inventory(Symbol='8383', avgPrice=46.58, qty=0, Name='千附'),\n",
       " Inventory(Symbol='2609', avgPrice=31.55, qty=0, Name='陽明'),\n",
       " Inventory(Symbol='3169', avgPrice=154.53, qty=0, Name='亞信'),\n",
       " Inventory(Symbol='6116', avgPrice=12.69, qty=0, Name='彩晶'),\n",
       " Inventory(Symbol='4746', avgPrice=56.6, qty=0, Name='台耀'),\n",
       " Inventory(Symbol='2890', avgPrice=11.32, qty=0, Name='永豐金'),\n",
       " Inventory(Symbol='4142', avgPrice=61.37, qty=0, Name='國光生'),\n",
       " Inventory(Symbol='1310', avgPrice=18.49, qty=0, Name='台苯'),\n",
       " Inventory(Symbol='2486', avgPrice=30.99, qty=0, Name='一詮'),\n",
       " Inventory(Symbol='3006', avgPrice=94.86, qty=0, Name='晶豪科'),\n",
       " Inventory(Symbol='1304', avgPrice=21.91, qty=0, Name='台聚'),\n",
       " Inventory(Symbol='00677U', avgPrice=nan, qty=0, Name='期富邦VIX'),\n",
       " Inventory(Symbol='2014', avgPrice=20.96, qty=0, Name='中鴻'),\n",
       " Inventory(Symbol='6706', avgPrice=179.93, qty=0, Name='惠特'),\n",
       " Inventory(Symbol='2027', avgPrice=34.75, qty=0, Name='大成鋼'),\n",
       " Inventory(Symbol='2609', avgPrice=42.64, qty=0, Name='陽明'),\n",
       " Inventory(Symbol='2009', avgPrice=35.25, qty=0, Name='第一銅'),\n",
       " Inventory(Symbol='2338', avgPrice=87.43, qty=0, Name='光罩'),\n",
       " Inventory(Symbol='3006', avgPrice=131.42, qty=0, Name='晶豪科'),\n",
       " Inventory(Symbol='6182', avgPrice=47.71, qty=0, Name='合晶'),\n",
       " Inventory(Symbol='2344', avgPrice=33.76, qty=0, Name='華邦電'),\n",
       " Inventory(Symbol='1909', avgPrice=27.68, qty=0, Name='榮成'),\n",
       " Inventory(Symbol='2002', avgPrice=33.18, qty=0, Name='中鋼'),\n",
       " Inventory(Symbol='2013', avgPrice=46.86, qty=0, Name='中鋼構'),\n",
       " Inventory(Symbol='4919', avgPrice=66.66, qty=0, Name='新唐'),\n",
       " Inventory(Symbol='3532', avgPrice=152.0, qty=0, Name='台勝科'),\n",
       " Inventory(Symbol='6116', avgPrice=18.85, qty=0, Name='彩晶'),\n",
       " Inventory(Symbol='8261', avgPrice=68.3, qty=0, Name='富鼎'),\n",
       " Inventory(Symbol='5483', avgPrice=189.95, qty=0, Name='中美晶'),\n",
       " Inventory(Symbol='1303', avgPrice=82.49, qty=0, Name='南亞'),\n",
       " Inventory(Symbol='3006', avgPrice=129.14, qty=0, Name='晶豪科'),\n",
       " Inventory(Symbol='2002', avgPrice=38.13, qty=0, Name='中鋼'),\n",
       " Inventory(Symbol='6182', avgPrice=54.13, qty=0, Name='合晶'),\n",
       " Inventory(Symbol='2609', avgPrice=44.71, qty=0, Name='陽明'),\n",
       " Inventory(Symbol='6188', avgPrice=51.27, qty=0, Name='廣明'),\n",
       " Inventory(Symbol='3545', avgPrice=193.52, qty=0, Name='敦泰'),\n",
       " Inventory(Symbol='3037', avgPrice=112.5, qty=0, Name='欣興'),\n",
       " Inventory(Symbol='1216', avgPrice=73.23, qty=0, Name='統一'),\n",
       " Inventory(Symbol='1409', avgPrice=23.79, qty=0, Name='新纖'),\n",
       " Inventory(Symbol='2014', avgPrice=42.56, qty=0, Name='中鴻'),\n",
       " Inventory(Symbol='2892', avgPrice=21.25, qty=0, Name='第一金'),\n",
       " Inventory(Symbol='2609', avgPrice=79.12, qty=0, Name='陽明'),\n",
       " Inventory(Symbol='2618', avgPrice=17.64, qty=0, Name='長榮航'),\n",
       " Inventory(Symbol='2882', avgPrice=53.9, qty=0, Name='國泰金'),\n",
       " Inventory(Symbol='1609', avgPrice=34.05, qty=0, Name='大亞'),\n",
       " Inventory(Symbol='2637', avgPrice=65.9, qty=0, Name='慧洋-KY'),\n",
       " Inventory(Symbol='2882', avgPrice=54.89, qty=0, Name='國泰金'),\n",
       " Inventory(Symbol='1402', avgPrice=31.98, qty=0, Name='遠東新'),\n",
       " Inventory(Symbol='6589', avgPrice=154.59, qty=0, Name='台康生技'),\n",
       " Inventory(Symbol='2610', avgPrice=17.9, qty=0, Name='華航'),\n",
       " Inventory(Symbol='6116', avgPrice=25.82, qty=0, Name='彩晶'),\n",
       " Inventory(Symbol='2328', avgPrice=48.82, qty=0, Name='廣宇'),\n",
       " Inventory(Symbol='2002', avgPrice=35.08, qty=0, Name='中鋼'),\n",
       " Inventory(Symbol='4961', avgPrice=231.32, qty=0, Name='天鈺'),\n",
       " Inventory(Symbol='1802', avgPrice=33.96, qty=0, Name='台玻'),\n",
       " Inventory(Symbol='3545', avgPrice=185.16, qty=0, Name='敦泰'),\n",
       " Inventory(Symbol='4961', avgPrice=275.74, qty=0, Name='天鈺'),\n",
       " Inventory(Symbol='6116', avgPrice=20.1, qty=0, Name='彩晶'),\n",
       " Inventory(Symbol='2609', avgPrice=79.57, qty=0, Name='陽明'),\n",
       " Inventory(Symbol='00642U', avgPrice=11.11, qty=0, Name='期元大S＆P石油'),\n",
       " Inventory(Symbol='2014', avgPrice=46.21, qty=0, Name='中鴻'),\n",
       " Inventory(Symbol='2023', avgPrice=22.73, qty=0, Name='燁輝'),\n",
       " Inventory(Symbol='2027', avgPrice=44.95, qty=0, Name='大成鋼'),\n",
       " Inventory(Symbol='2888', avgPrice=9.76, qty=0, Name='新光金'),\n",
       " Inventory(Symbol='2027', avgPrice=47.88, qty=0, Name='大成鋼'),\n",
       " Inventory(Symbol='2609', avgPrice=112.19, qty=0, Name='陽明'),\n",
       " Inventory(Symbol='3545', avgPrice=202.82, qty=0, Name='敦泰'),\n",
       " Inventory(Symbol='2884', avgPrice=25.5, qty=0, Name='玉山金'),\n",
       " Inventory(Symbol='5452', avgPrice=27.81, qty=0, Name='佶優'),\n",
       " Inventory(Symbol='1313', avgPrice=25.0, qty=0, Name='聯成'),\n",
       " Inventory(Symbol='1905', avgPrice=29.89, qty=0, Name='華紙'),\n",
       " Inventory(Symbol='2618', avgPrice=20.05, qty=0, Name='長榮航'),\n",
       " Inventory(Symbol='6672', avgPrice=128.53, qty=0, Name='騰輝電子-KY'),\n",
       " Inventory(Symbol='2014', avgPrice=46.45, qty=0, Name='中鴻'),\n",
       " Inventory(Symbol='3711', avgPrice=121.08, qty=0, Name='日月光投控'),\n",
       " Inventory(Symbol='5608', avgPrice=39.72, qty=0, Name='四維航'),\n",
       " Inventory(Symbol='3189', avgPrice=127.38, qty=0, Name='景碩'),\n",
       " Inventory(Symbol='2609', avgPrice=124.07, qty=0, Name='陽明'),\n",
       " Inventory(Symbol='2642', avgPrice=97.98, qty=0, Name='宅配通'),\n",
       " Inventory(Symbol='5609', avgPrice=132.42, qty=0, Name='中菲行'),\n",
       " Inventory(Symbol='2883', avgPrice=11.4, qty=0, Name='開發金'),\n",
       " Inventory(Symbol='2481', avgPrice=69.71, qty=0, Name='強茂'),\n",
       " Inventory(Symbol='2014', avgPrice=48.7, qty=0, Name='中鴻'),\n",
       " Inventory(Symbol='2606', avgPrice=82.89, qty=0, Name='裕民'),\n",
       " Inventory(Symbol='6485', avgPrice=131.79, qty=0, Name='點序'),\n",
       " Inventory(Symbol='1909', avgPrice=26.68, qty=0, Name='榮成'),\n",
       " Inventory(Symbol='2002', avgPrice=36.85, qty=0, Name='中鋼'),\n",
       " Inventory(Symbol='2014', avgPrice=57.17, qty=0, Name='中鴻'),\n",
       " Inventory(Symbol='3006', avgPrice=156.8, qty=0, Name='晶豪科'),\n",
       " Inventory(Symbol='3141', avgPrice=127.97, qty=0, Name='晶宏'),\n",
       " Inventory(Symbol='1314', avgPrice=13.9, qty=0, Name='中石化'),\n",
       " Inventory(Symbol='2023', avgPrice=27.94, qty=0, Name='燁輝'),\n",
       " Inventory(Symbol='2069', avgPrice=43.77, qty=0, Name='運錩'),\n",
       " Inventory(Symbol='3006', avgPrice=173.69, qty=0, Name='晶豪科'),\n",
       " Inventory(Symbol='4739', avgPrice=112.49, qty=0, Name='康普'),\n",
       " Inventory(Symbol='2017', avgPrice=33.65, qty=0, Name='官田鋼'),\n",
       " Inventory(Symbol='00632R', avgPrice=5.83, qty=0, Name='元大台灣50反1'),\n",
       " Inventory(Symbol='5014', avgPrice=25.59, qty=0, Name='建錩'),\n",
       " Inventory(Symbol='2030', avgPrice=40.05, qty=0, Name='彰源'),\n",
       " Inventory(Symbol='4919', avgPrice=105.39, qty=0, Name='新唐'),\n",
       " Inventory(Symbol='4739', avgPrice=122.49, qty=0, Name='康普'),\n",
       " Inventory(Symbol='4919', avgPrice=122.99, qty=0, Name='新唐'),\n",
       " Inventory(Symbol='5475', avgPrice=47.24, qty=0, Name='德宏'),\n",
       " Inventory(Symbol='8261', avgPrice=100.4, qty=0, Name='富鼎'),\n",
       " Inventory(Symbol='3588', avgPrice=125.09, qty=0, Name='通嘉'),\n",
       " Inventory(Symbol='2618', avgPrice=22.09, qty=0, Name='長榮航'),\n",
       " Inventory(Symbol='3016', avgPrice=99.83, qty=0, Name='嘉晶'),\n",
       " Inventory(Symbol='5351', avgPrice=41.69, qty=0, Name='鈺創'),\n",
       " Inventory(Symbol='6182', avgPrice=68.49, qty=0, Name='合晶'),\n",
       " Inventory(Symbol='2022', avgPrice=21.78, qty=0, Name='聚亨'),\n",
       " Inventory(Symbol='6485', avgPrice=156.34, qty=0, Name='點序'),\n",
       " Inventory(Symbol='8016', avgPrice=366.43, qty=0, Name='矽創'),\n",
       " Inventory(Symbol='00637L', avgPrice=22.9, qty=0, Name='元大滬深300正2'),\n",
       " Inventory(Symbol='1802', avgPrice=39.93, qty=0, Name='台玻'),\n",
       " Inventory(Symbol='2481', avgPrice=110.9, qty=0, Name='強茂'),\n",
       " Inventory(Symbol='3016', avgPrice=107.43, qty=0, Name='嘉晶'),\n",
       " Inventory(Symbol='2330', avgPrice=596.8, qty=0, Name='台積電'),\n",
       " Inventory(Symbol='5347', avgPrice=133.5, qty=0, Name='世界'),\n",
       " Inventory(Symbol='1314', avgPrice=14.19, qty=0, Name='中石化'),\n",
       " Inventory(Symbol='4919', avgPrice=154.05, qty=0, Name='新唐'),\n",
       " Inventory(Symbol='3707', avgPrice=103.31, qty=0, Name='漢磊'),\n",
       " Inventory(Symbol='00632R', avgPrice=5.55, qty=0, Name='元大台灣50反1'),\n",
       " Inventory(Symbol='00671R', avgPrice=5.36, qty=0, Name='富邦NASDAQ反1'),\n",
       " Inventory(Symbol='1909', avgPrice=32.72, qty=0, Name='榮成'),\n",
       " Inventory(Symbol='6104', avgPrice=127.8, qty=0, Name='創惟'),\n",
       " Inventory(Symbol='2368', avgPrice=68.3, qty=0, Name='金像電'),\n",
       " Inventory(Symbol='6104', avgPrice=109.42, qty=0, Name='創惟'),\n",
       " Inventory(Symbol='3707', avgPrice=103.96, qty=0, Name='漢磊'),\n",
       " Inventory(Symbol='6509', avgPrice=58.97, qty=0, Name='聚和'),\n",
       " Inventory(Symbol='1905', avgPrice=31.59, qty=0, Name='華紙'),\n",
       " Inventory(Symbol='2371', avgPrice=28.58, qty=0, Name='大同'),\n",
       " Inventory(Symbol='9105', avgPrice=5.47, qty=0, Name='泰金寶-DR'),\n",
       " Inventory(Symbol='3264', avgPrice=68.91, qty=0, Name='欣銓'),\n",
       " Inventory(Symbol='6104', avgPrice=126.5, qty=0, Name='創惟'),\n",
       " Inventory(Symbol='2371', avgPrice=31.94, qty=0, Name='大同'),\n",
       " Inventory(Symbol='2303', avgPrice=49.91, qty=0, Name='聯電'),\n",
       " Inventory(Symbol='1303', avgPrice=84.74, qty=0, Name='南亞'),\n",
       " Inventory(Symbol='4721', avgPrice=127.69, qty=0, Name='美琪瑪'),\n",
       " Inventory(Symbol='00632R', avgPrice=5.72, qty=0, Name='元大台灣50反1'),\n",
       " Inventory(Symbol='1711', avgPrice=24.64, qty=0, Name='永光'),\n",
       " Inventory(Symbol='1727', avgPrice=31.74, qty=0, Name='中華化'),\n",
       " Inventory(Symbol='9958', avgPrice=115.58, qty=0, Name='世紀鋼'),\n",
       " Inventory(Symbol='1308', avgPrice=46.14, qty=0, Name='亞聚'),\n",
       " Inventory(Symbol='1727', avgPrice=31.56, qty=0, Name='中華化'),\n",
       " Inventory(Symbol='2606', avgPrice=71.31, qty=0, Name='裕民'),\n",
       " Inventory(Symbol='3141', avgPrice=149.08, qty=0, Name='晶宏'),\n",
       " Inventory(Symbol='3443', avgPrice=415.66, qty=0, Name='創意'),\n",
       " Inventory(Symbol='1727', avgPrice=36.23, qty=0, Name='中華化'),\n",
       " Inventory(Symbol='1718', avgPrice=13.2, qty=0, Name='中纖'),\n",
       " Inventory(Symbol='6217', avgPrice=53.89, qty=0, Name='中探針'),\n",
       " Inventory(Symbol='6531', avgPrice=683.73, qty=0, Name='愛普*'),\n",
       " Inventory(Symbol='8069', avgPrice=80.04, qty=0, Name='元太'),\n",
       " Inventory(Symbol='3189', avgPrice=237.47, qty=0, Name='景碩'),\n",
       " Inventory(Symbol='2337', avgPrice=36.22, qty=0, Name='旺宏'),\n",
       " Inventory(Symbol='2498', avgPrice=56.84, qty=0, Name='宏達電'),\n",
       " Inventory(Symbol='3141', avgPrice=208.67, qty=0, Name='晶宏'),\n",
       " Inventory(Symbol='00632R', avgPrice=5.53, qty=0, Name='元大台灣50反1'),\n",
       " Inventory(Symbol='3037', avgPrice=169.99, qty=0, Name='欣興'),\n",
       " Inventory(Symbol='6509', avgPrice=71.44, qty=0, Name='聚和'),\n",
       " Inventory(Symbol='2388', avgPrice=60.94, qty=0, Name='威盛'),\n",
       " Inventory(Symbol='3141', avgPrice=237.5, qty=0, Name='晶宏'),\n",
       " Inventory(Symbol='3504', avgPrice=143.87, qty=0, Name='揚明光'),\n",
       " Inventory(Symbol='4743', avgPrice=222.72, qty=0, Name='合一'),\n",
       " Inventory(Symbol='8121', avgPrice=53.2, qty=0, Name='越峰'),\n",
       " Inventory(Symbol='1727', avgPrice=51.53, qty=0, Name='中華化'),\n",
       " Inventory(Symbol='2303', avgPrice=60.85, qty=0, Name='聯電'),\n",
       " Inventory(Symbol='5263', avgPrice=147.5, qty=0, Name='智崴'),\n",
       " Inventory(Symbol='2498', avgPrice=67.44, qty=0, Name='宏達電'),\n",
       " Inventory(Symbol='3037', avgPrice=199.15, qty=0, Name='欣興'),\n",
       " Inventory(Symbol='3491', avgPrice=136.12, qty=0, Name='昇達科'),\n",
       " Inventory(Symbol='2618', avgPrice=26.78, qty=0, Name='長榮航'),\n",
       " Inventory(Symbol='2610', avgPrice=20.65, qty=0, Name='華航'),\n",
       " Inventory(Symbol='4721', avgPrice=153.35, qty=0, Name='美琪瑪'),\n",
       " Inventory(Symbol='5236', avgPrice=167.5, qty=0, Name='凌陽創新'),\n",
       " Inventory(Symbol='6271', avgPrice=302.56, qty=0, Name='同欣電'),\n",
       " Inventory(Symbol='8069', avgPrice=116.0, qty=0, Name='元太'),\n",
       " Inventory(Symbol='5351', avgPrice=87.56, qty=0, Name='鈺創'),\n",
       " Inventory(Symbol='6182', avgPrice=76.39, qty=0, Name='合晶'),\n",
       " Inventory(Symbol='6182', avgPrice=77.4, qty=0, Name='合晶'),\n",
       " Inventory(Symbol='8183', avgPrice=68.63, qty=0, Name='精星'),\n",
       " Inventory(Symbol='3019', avgPrice=100.87, qty=0, Name='亞光'),\n",
       " Inventory(Symbol='2465', avgPrice=79.4, qty=0, Name='麗臺'),\n",
       " Inventory(Symbol='2880', avgPrice=18.93, qty=0, Name='華南金'),\n",
       " Inventory(Symbol='8110', avgPrice=19.45, qty=0, Name='華東'),\n",
       " Inventory(Symbol='1560', avgPrice=106.25, qty=0, Name='中砂'),\n",
       " Inventory(Symbol='2405', avgPrice=19.15, qty=0, Name='浩鑫'),\n",
       " Inventory(Symbol='2344', avgPrice=34.29, qty=0, Name='華邦電'),\n",
       " Inventory(Symbol='3094', avgPrice=45.95, qty=0, Name='聯傑'),\n",
       " Inventory(Symbol='00632R', avgPrice=5.47, qty=0, Name='元大台灣50反1'),\n",
       " Inventory(Symbol='3714', avgPrice=82.96, qty=0, Name='富采'),\n",
       " Inventory(Symbol='2882', avgPrice=56.1, qty=0, Name='國泰金'),\n",
       " Inventory(Symbol='00632R', avgPrice=5.11, qty=0, Name='元大台灣50反1'),\n",
       " Inventory(Symbol='8069', avgPrice=142.3, qty=0, Name='元太'),\n",
       " Inventory(Symbol='2883', avgPrice=16.41, qty=0, Name='開發金'),\n",
       " Inventory(Symbol='3624', avgPrice=87.64, qty=0, Name='光頡'),\n",
       " Inventory(Symbol='2618', avgPrice=25.67, qty=0, Name='長榮航'),\n",
       " Inventory(Symbol='00632R', avgPrice=5.26, qty=0, Name='元大台灣50反1'),\n",
       " Inventory(Symbol='5701', avgPrice=nan, qty=0, Name='劍湖山'),\n",
       " Inventory(Symbol='1795', avgPrice=112.97, qty=0, Name='美時'),\n",
       " Inventory(Symbol='8150', avgPrice=51.99, qty=0, Name='南茂'),\n",
       " Inventory(Symbol='1560', avgPrice=116.5, qty=0, Name='中砂'),\n",
       " Inventory(Symbol='00664R', avgPrice=6.47, qty=0, Name='國泰臺灣加權反1'),\n",
       " Inventory(Symbol='2353', avgPrice=28.4, qty=0, Name='宏��'),\n",
       " Inventory(Symbol='3006', avgPrice=170.8, qty=0, Name='晶豪科'),\n",
       " Inventory(Symbol='6116', avgPrice=17.3, qty=0, Name='彩晶'),\n",
       " Inventory(Symbol='1560', avgPrice=128.97, qty=0, Name='中砂'),\n",
       " Inventory(Symbol='3017', avgPrice=121.39, qty=0, Name='奇鋐')]"
      ]
     },
     "execution_count": 39,
     "metadata": {},
     "output_type": "execute_result"
    }
   ],
   "source": [
    "EndHolding"
   ]
  },
  {
   "cell_type": "code",
   "execution_count": 84,
   "metadata": {
    "ExecuteTime": {
     "end_time": "2022-03-30T05:28:18.541227Z",
     "start_time": "2022-03-30T05:28:18.524244Z"
    },
    "code_folding": [
     17
    ]
   },
   "outputs": [],
   "source": [
    "def readDailyData(ticker, end_date):\n",
    "    start_date = end_date + timedelta(-70)\n",
    "    url = 'http://192.168.1.105:8000/api/v1/TSE/Stock'\n",
    "    pay_load = {\n",
    "        'start_date':start_date.strftime(\"%Y-%m-%d\"),\n",
    "        'end_date' : end_date.strftime(\"%Y-%m-%d\"),\n",
    "        'tickers' : ticker, # 多個商品代碼請以逗點分隔例如 : '0050,0051,0056'\n",
    "        'DB' : 'Inter', # 股票分為Inter: 日資料, Intra: tick資料\n",
    "        'response' : 'json' # 回傳格式有兩種，一種是csv, 其餘不論是否傳送response:json，都用json回傳。\n",
    "    }\n",
    "\n",
    "    # 以json格式取資料, 可以直接被DataFrame格式化\n",
    "    res = requests.post(url, data=json.dumps(pay_load))\n",
    "    js = res.json()\n",
    "    data = js['GridData']\n",
    "    return DataFrame(data).set_index('Date')\n",
    "    \n",
    "def changeType(x):\n",
    "    try:\n",
    "        return float(x)\n",
    "    except:\n",
    "        if '-' in x:\n",
    "            return float('nan')\n",
    "        return x\n",
    "\n",
    "# def PlotKBar(symbol, start_date, end_date, df=None):\n",
    "def PlotKBar(pnl, df=None):\n",
    "    import pandas as pd\n",
    "    import plotly.graph_objects as go\n",
    "    from plotly.subplots import make_subplots\n",
    "    \n",
    "    symbol = pnl.Symbol\n",
    "    start_date = pnl.entry_date\n",
    "    end_date = pnl.exit_date\n",
    "    avgBuy = pnl.avgBuy\n",
    "    avgSell = pnl.avgSell\n",
    "    \n",
    "    # data\n",
    "    if not df:\n",
    "        df = readDailyData(symbol, end_date)\n",
    "    for col in 'Open,High,Low,Close,Volume'.split(','):\n",
    "        df[col] = df[col].apply(changeType)\n",
    "    df['Adj V'] = df.Volume / 1000\n",
    "    \n",
    "    df['MA5'] = df.Close.rolling(5).mean()\n",
    "    df['MA10'] = df.Close.rolling(10).mean()\n",
    "    df['MA20'] = df.Close.rolling(20).mean()\n",
    "\n",
    "    # Create subplots and mention plot grid size\n",
    "    fig = make_subplots(rows=2, cols=1, shared_xaxes=True, \n",
    "                   vertical_spacing=0.03, subplot_titles=(f\"{symbol} 過去2個月K線圖\", 'Volume'), \n",
    "                   row_width=[0.2, 0.7])\n",
    "\n",
    "    # Plot OHLC on 1st row\n",
    "    fig.add_trace(go.Candlestick(x=pd.to_datetime(df.index), open=df[\"Open\"], high=df[\"High\"],\n",
    "                    low=df[\"Low\"], close=df[\"Close\"], name='OHLC'), \n",
    "                    row=1, col=1\n",
    "    )\n",
    "    fig.add_trace(\n",
    "        go.Scatter(x=[start_date],\n",
    "                  y=[avgBuy],\n",
    "                  name=\"Entry\",\n",
    "                  marker_symbol=[5],\n",
    "                  marker_size=15),\n",
    "        row=1, col=1,\n",
    "                \n",
    "    )\n",
    "    fig.add_trace(\n",
    "        go.Scatter(x=[end_date],\n",
    "                  y=[avgSell],\n",
    "                  name=\"Exit\",\n",
    "                  marker_symbol=[6],\n",
    "                  marker_size=15),\n",
    "        row=1, col=1\n",
    "    )\n",
    "    fig.add_trace(\n",
    "        go.Scatter(x=pd.to_datetime(df.index),\n",
    "                  y=df.MA5,\n",
    "                  name=\"MA5\"),row=1, col=1\n",
    "    )\n",
    "    fig.add_trace(\n",
    "        go.Scatter(x=pd.to_datetime(df.index),\n",
    "                  y=df.MA10,\n",
    "                  name=\"MA10\"),row=1, col=1\n",
    "    )\n",
    "    fig.add_trace(\n",
    "        go.Scatter(x=pd.to_datetime(df.index),\n",
    "                  y=df.MA20,\n",
    "                  name=\"MA20\"),row=1, col=1\n",
    "    )\n",
    "\n",
    "    # Bar trace for volumes on 2nd row without legend\n",
    "    fig.add_trace(go.Bar(x=pd.to_datetime(df.index), y=df['Adj V'], showlegend=False), row=2, col=1)\n",
    "\n",
    "    # Do not show OHLC's rangeslider plot \n",
    "    fig.update(layout_xaxis_rangeslider_visible=False)\n",
    "    fig.show()\n",
    "    \n",
    "    print(\"==========紀錄結果==========\")\n",
    "    print(f\"標的名稱 : {pnl.Symbol}\")\n",
    "    print(f\"進場日 : {pnl.entry_date.strftime('%Y-%m-%d')}, 價格 : {pnl.avgBuy}\")\n",
    "    print(f\"出場日 : {pnl.exit_date.strftime('%Y-%m-%d')}, 價格 : {pnl.avgSell}\")\n",
    "    print(f\"持有時間 : {(pnl.exit_date - pnl.entry_date).days}\")\n",
    "    print(f'持倉數量 : {pnl.qty}')\n",
    "    print(f\"淨損益 : {pnl.Net}\\n\")"
   ]
  },
  {
   "cell_type": "code",
   "execution_count": 88,
   "metadata": {
    "ExecuteTime": {
     "end_time": "2022-03-30T05:37:31.971216Z",
     "start_time": "2022-03-30T05:37:31.954285Z"
    }
   },
   "outputs": [],
   "source": [
    "ShortTerm = []\n",
    "CrossDay = []\n",
    "for pnl in pnls:\n",
    "    if (pnl.exit_date - pnl.entry_date).days > 1:\n",
    "        if pnl.exit_date.isocalendar()[-1] == 1 and pnl.entry_date.isocalendar()[-1] == 5:\n",
    "            CrossDay.append(pnl)\n",
    "        else:\n",
    "            ShortTerm.append(pnl)\n",
    "    else:\n",
    "        CrossDay.append(pnl)"
   ]
  },
  {
   "cell_type": "code",
   "execution_count": 143,
   "metadata": {
    "ExecuteTime": {
     "end_time": "2022-04-06T09:41:42.557568Z",
     "start_time": "2022-04-06T09:41:42.345298Z"
    }
   },
   "outputs": [],
   "source": [
    "shortTerm_df = DataFrame([x.__dict__ for x in ShortTerm])\n",
    "shortTerm_df.entry_date = shortTerm_df.entry_date.apply(lambda x: x.strftime(\"%Y-%m-%d\"))\n",
    "shortTerm_df.exit_date = shortTerm_df.exit_date.apply(lambda x: x.strftime(\"%Y-%m-%d\"))\n",
    "crossDay_df = DataFrame([x.__dict__ for x in CrossDay])\n",
    "crossDay_df.entry_date = crossDay_df.entry_date.apply(lambda x: x.strftime(\"%Y-%m-%d\"))\n",
    "crossDay_df.exit_date = crossDay_df.exit_date.apply(lambda x: x.strftime(\"%Y-%m-%d\"))\n",
    "with ExcelWriter(os.path.join(output_path, f'{date.strftime(\"%Y_%m_%d\")}_元大_土城永寧.xlsx')) as writer:\n",
    "    workbook  = writer.book\n",
    "    fmt = workbook.add_format({'align': 'center', 'valign': 'vcenter'})\n",
    "    shortTerm_df.to_excel(writer, sheet_name=\"短波段交易\", encoding='utf-8-sig', index=False)\n",
    "    crossDay_df.to_excel(writer, sheet_name=\"隔日沖\", encoding='utf-8-sig', index=False)\n",
    "    for sheet_name in '短波段交易,隔日沖'.split(','):\n",
    "        worksheet = writer.sheets[sheet_name]\n",
    "        worksheet.set_column('A:Z', None, fmt)"
   ]
  },
  {
   "cell_type": "code",
   "execution_count": null,
   "metadata": {},
   "outputs": [],
   "source": []
  },
  {
   "cell_type": "code",
   "execution_count": 135,
   "metadata": {
    "ExecuteTime": {
     "end_time": "2022-04-06T09:35:53.367455Z",
     "start_time": "2022-04-06T09:35:53.127944Z"
    }
   },
   "outputs": [
    {
     "data": {
      "application/vnd.plotly.v1+json": {
       "config": {
        "plotlyServerURL": "https://plot.ly"
       },
       "data": [
        {
         "close": [
          11.6,
          11.75,
          12.5,
          12.25,
          12.9,
          14.1,
          13.6,
          13.55,
          12.35,
          12.5,
          12.5,
          12.5,
          13,
          12.75,
          12.8,
          13,
          13.05,
          13.6,
          13.55,
          13.6,
          13.25,
          13.05,
          12.9,
          12.75,
          12.85,
          12.85,
          14.05,
          14.4,
          14.35,
          13.7,
          15.05,
          15.55,
          15.85,
          15.7,
          17.25,
          18.95,
          18.55,
          20.4,
          21,
          23.1,
          25.4,
          27.9,
          27.5,
          29.25,
          32.15,
          32,
          28.8,
          25.95,
          27.3,
          28.55
         ],
         "high": [
          11.85,
          11.95,
          12.6,
          12.6,
          13.2,
          14.15,
          14.5,
          13.75,
          13.15,
          12.8,
          12.8,
          12.6,
          13.25,
          13,
          12.85,
          13.1,
          13.35,
          13.7,
          13.95,
          13.7,
          13.7,
          13.35,
          13.25,
          13.15,
          12.85,
          13.05,
          14.05,
          14.9,
          14.85,
          14.35,
          15.05,
          16.5,
          16.2,
          16.05,
          17.25,
          18.95,
          20,
          20.4,
          21.5,
          23.1,
          25.4,
          27.9,
          28.05,
          29.25,
          32.15,
          32,
          32,
          28.6,
          27.4,
          28.55
         ],
         "low": [
          11.4,
          11.5,
          11.6,
          12.05,
          12.2,
          12.85,
          12.95,
          12.45,
          12.2,
          12.2,
          12.4,
          12.1,
          12.5,
          12.6,
          12.55,
          12.8,
          13,
          13.15,
          13.25,
          13.4,
          13.25,
          12.6,
          12.65,
          12.7,
          12.65,
          12.7,
          13.1,
          13.8,
          14.15,
          13.5,
          13.8,
          15.15,
          15.15,
          15.45,
          15.9,
          17.5,
          17.8,
          17.5,
          19.7,
          22.35,
          24.3,
          25.4,
          25.65,
          27.25,
          30.7,
          30,
          28.8,
          25.95,
          25.65,
          28
         ],
         "name": "OHLC",
         "open": [
          11.7,
          11.7,
          11.95,
          12.4,
          12.35,
          13,
          14.15,
          13.55,
          13.1,
          12.4,
          12.7,
          12.45,
          12.5,
          13,
          12.7,
          13,
          13.15,
          13.25,
          13.75,
          13.55,
          13.65,
          13.3,
          13.1,
          12.9,
          12.85,
          12.95,
          13.15,
          14.05,
          14.45,
          14.3,
          13.85,
          15.35,
          15.65,
          15.8,
          16,
          17.65,
          19.2,
          18.85,
          20.35,
          23.1,
          24.3,
          27.9,
          27.3,
          27.5,
          30.7,
          31.6,
          32,
          28.6,
          25.65,
          28
         ],
         "type": "candlestick",
         "x": [
          "2020-11-02T00:00:00",
          "2020-11-03T00:00:00",
          "2020-11-04T00:00:00",
          "2020-11-05T00:00:00",
          "2020-11-06T00:00:00",
          "2020-11-09T00:00:00",
          "2020-11-10T00:00:00",
          "2020-11-11T00:00:00",
          "2020-11-12T00:00:00",
          "2020-11-13T00:00:00",
          "2020-11-16T00:00:00",
          "2020-11-17T00:00:00",
          "2020-11-18T00:00:00",
          "2020-11-19T00:00:00",
          "2020-11-20T00:00:00",
          "2020-11-23T00:00:00",
          "2020-11-24T00:00:00",
          "2020-11-25T00:00:00",
          "2020-11-26T00:00:00",
          "2020-11-27T00:00:00",
          "2020-11-30T00:00:00",
          "2020-12-01T00:00:00",
          "2020-12-02T00:00:00",
          "2020-12-03T00:00:00",
          "2020-12-04T00:00:00",
          "2020-12-07T00:00:00",
          "2020-12-08T00:00:00",
          "2020-12-09T00:00:00",
          "2020-12-10T00:00:00",
          "2020-12-11T00:00:00",
          "2020-12-14T00:00:00",
          "2020-12-15T00:00:00",
          "2020-12-16T00:00:00",
          "2020-12-17T00:00:00",
          "2020-12-18T00:00:00",
          "2020-12-21T00:00:00",
          "2020-12-22T00:00:00",
          "2020-12-23T00:00:00",
          "2020-12-24T00:00:00",
          "2020-12-25T00:00:00",
          "2020-12-28T00:00:00",
          "2020-12-29T00:00:00",
          "2020-12-30T00:00:00",
          "2020-12-31T00:00:00",
          "2021-01-04T00:00:00",
          "2021-01-05T00:00:00",
          "2021-01-06T00:00:00",
          "2021-01-07T00:00:00",
          "2021-01-08T00:00:00",
          "2021-01-11T00:00:00"
         ],
         "xaxis": "x",
         "yaxis": "y"
        },
        {
         "marker": {
          "size": 15,
          "symbol": [
           5
          ]
         },
         "name": "Entry",
         "type": "scatter",
         "x": [
          "2021-01-05T00:00:00"
         ],
         "xaxis": "x",
         "y": [
          29.16
         ],
         "yaxis": "y"
        },
        {
         "marker": {
          "size": 15,
          "symbol": [
           6
          ]
         },
         "name": "Exit",
         "type": "scatter",
         "x": [
          "2021-01-11T00:00:00"
         ],
         "xaxis": "x",
         "y": [
          28.2
         ],
         "yaxis": "y"
        },
        {
         "name": "MA5",
         "type": "scatter",
         "x": [
          "2020-11-02T00:00:00",
          "2020-11-03T00:00:00",
          "2020-11-04T00:00:00",
          "2020-11-05T00:00:00",
          "2020-11-06T00:00:00",
          "2020-11-09T00:00:00",
          "2020-11-10T00:00:00",
          "2020-11-11T00:00:00",
          "2020-11-12T00:00:00",
          "2020-11-13T00:00:00",
          "2020-11-16T00:00:00",
          "2020-11-17T00:00:00",
          "2020-11-18T00:00:00",
          "2020-11-19T00:00:00",
          "2020-11-20T00:00:00",
          "2020-11-23T00:00:00",
          "2020-11-24T00:00:00",
          "2020-11-25T00:00:00",
          "2020-11-26T00:00:00",
          "2020-11-27T00:00:00",
          "2020-11-30T00:00:00",
          "2020-12-01T00:00:00",
          "2020-12-02T00:00:00",
          "2020-12-03T00:00:00",
          "2020-12-04T00:00:00",
          "2020-12-07T00:00:00",
          "2020-12-08T00:00:00",
          "2020-12-09T00:00:00",
          "2020-12-10T00:00:00",
          "2020-12-11T00:00:00",
          "2020-12-14T00:00:00",
          "2020-12-15T00:00:00",
          "2020-12-16T00:00:00",
          "2020-12-17T00:00:00",
          "2020-12-18T00:00:00",
          "2020-12-21T00:00:00",
          "2020-12-22T00:00:00",
          "2020-12-23T00:00:00",
          "2020-12-24T00:00:00",
          "2020-12-25T00:00:00",
          "2020-12-28T00:00:00",
          "2020-12-29T00:00:00",
          "2020-12-30T00:00:00",
          "2020-12-31T00:00:00",
          "2021-01-04T00:00:00",
          "2021-01-05T00:00:00",
          "2021-01-06T00:00:00",
          "2021-01-07T00:00:00",
          "2021-01-08T00:00:00",
          "2021-01-11T00:00:00"
         ],
         "xaxis": "x",
         "y": [
          null,
          null,
          null,
          null,
          12.2,
          12.7,
          13.069999999999999,
          13.280000000000001,
          13.3,
          13.219999999999999,
          12.9,
          12.680000000000001,
          12.57,
          12.65,
          12.709999999999999,
          12.809999999999999,
          12.919999999999998,
          13.040000000000001,
          13.2,
          13.36,
          13.41,
          13.41,
          13.270000000000001,
          13.11,
          12.959999999999999,
          12.88,
          13.080000000000002,
          13.379999999999999,
          13.7,
          13.87,
          14.309999999999999,
          14.610000000000003,
          14.9,
          15.170000000000002,
          15.88,
          16.66,
          17.26,
          18.169999999999998,
          19.229999999999997,
          20.4,
          21.69,
          23.560000000000002,
          24.98,
          26.630000000000003,
          28.439999999999998,
          29.76,
          29.939999999999998,
          29.629999999999995,
          29.24,
          28.52
         ],
         "yaxis": "y"
        },
        {
         "name": "MA10",
         "type": "scatter",
         "x": [
          "2020-11-02T00:00:00",
          "2020-11-03T00:00:00",
          "2020-11-04T00:00:00",
          "2020-11-05T00:00:00",
          "2020-11-06T00:00:00",
          "2020-11-09T00:00:00",
          "2020-11-10T00:00:00",
          "2020-11-11T00:00:00",
          "2020-11-12T00:00:00",
          "2020-11-13T00:00:00",
          "2020-11-16T00:00:00",
          "2020-11-17T00:00:00",
          "2020-11-18T00:00:00",
          "2020-11-19T00:00:00",
          "2020-11-20T00:00:00",
          "2020-11-23T00:00:00",
          "2020-11-24T00:00:00",
          "2020-11-25T00:00:00",
          "2020-11-26T00:00:00",
          "2020-11-27T00:00:00",
          "2020-11-30T00:00:00",
          "2020-12-01T00:00:00",
          "2020-12-02T00:00:00",
          "2020-12-03T00:00:00",
          "2020-12-04T00:00:00",
          "2020-12-07T00:00:00",
          "2020-12-08T00:00:00",
          "2020-12-09T00:00:00",
          "2020-12-10T00:00:00",
          "2020-12-11T00:00:00",
          "2020-12-14T00:00:00",
          "2020-12-15T00:00:00",
          "2020-12-16T00:00:00",
          "2020-12-17T00:00:00",
          "2020-12-18T00:00:00",
          "2020-12-21T00:00:00",
          "2020-12-22T00:00:00",
          "2020-12-23T00:00:00",
          "2020-12-24T00:00:00",
          "2020-12-25T00:00:00",
          "2020-12-28T00:00:00",
          "2020-12-29T00:00:00",
          "2020-12-30T00:00:00",
          "2020-12-31T00:00:00",
          "2021-01-04T00:00:00",
          "2021-01-05T00:00:00",
          "2021-01-06T00:00:00",
          "2021-01-07T00:00:00",
          "2021-01-08T00:00:00",
          "2021-01-11T00:00:00"
         ],
         "xaxis": "x",
         "y": [
          null,
          null,
          null,
          null,
          null,
          null,
          null,
          null,
          null,
          12.709999999999999,
          12.8,
          12.875,
          12.925,
          12.975,
          12.965,
          12.855,
          12.8,
          12.805000000000001,
          12.925,
          13.035,
          13.11,
          13.165000000000001,
          13.155000000000001,
          13.155000000000001,
          13.16,
          13.145,
          13.245,
          13.325,
          13.404999999999998,
          13.415000000000001,
          13.594999999999999,
          13.844999999999999,
          14.14,
          14.434999999999999,
          14.875,
          15.485,
          15.934999999999999,
          16.535,
          17.2,
          18.14,
          19.175,
          20.409999999999997,
          21.575,
          22.93,
          24.419999999999998,
          25.725,
          26.75,
          27.305,
          27.934999999999995,
          28.48
         ],
         "yaxis": "y"
        },
        {
         "name": "MA20",
         "type": "scatter",
         "x": [
          "2020-11-02T00:00:00",
          "2020-11-03T00:00:00",
          "2020-11-04T00:00:00",
          "2020-11-05T00:00:00",
          "2020-11-06T00:00:00",
          "2020-11-09T00:00:00",
          "2020-11-10T00:00:00",
          "2020-11-11T00:00:00",
          "2020-11-12T00:00:00",
          "2020-11-13T00:00:00",
          "2020-11-16T00:00:00",
          "2020-11-17T00:00:00",
          "2020-11-18T00:00:00",
          "2020-11-19T00:00:00",
          "2020-11-20T00:00:00",
          "2020-11-23T00:00:00",
          "2020-11-24T00:00:00",
          "2020-11-25T00:00:00",
          "2020-11-26T00:00:00",
          "2020-11-27T00:00:00",
          "2020-11-30T00:00:00",
          "2020-12-01T00:00:00",
          "2020-12-02T00:00:00",
          "2020-12-03T00:00:00",
          "2020-12-04T00:00:00",
          "2020-12-07T00:00:00",
          "2020-12-08T00:00:00",
          "2020-12-09T00:00:00",
          "2020-12-10T00:00:00",
          "2020-12-11T00:00:00",
          "2020-12-14T00:00:00",
          "2020-12-15T00:00:00",
          "2020-12-16T00:00:00",
          "2020-12-17T00:00:00",
          "2020-12-18T00:00:00",
          "2020-12-21T00:00:00",
          "2020-12-22T00:00:00",
          "2020-12-23T00:00:00",
          "2020-12-24T00:00:00",
          "2020-12-25T00:00:00",
          "2020-12-28T00:00:00",
          "2020-12-29T00:00:00",
          "2020-12-30T00:00:00",
          "2020-12-31T00:00:00",
          "2021-01-04T00:00:00",
          "2021-01-05T00:00:00",
          "2021-01-06T00:00:00",
          "2021-01-07T00:00:00",
          "2021-01-08T00:00:00",
          "2021-01-11T00:00:00"
         ],
         "xaxis": "x",
         "y": [
          null,
          null,
          null,
          null,
          null,
          null,
          null,
          null,
          null,
          null,
          null,
          null,
          null,
          null,
          null,
          null,
          null,
          null,
          null,
          12.872499999999999,
          12.955000000000002,
          13.020000000000001,
          13.040000000000001,
          13.065000000000001,
          13.0625,
          13,
          13.022499999999999,
          13.065000000000001,
          13.165000000000001,
          13.225,
          13.352500000000001,
          13.505,
          13.647499999999999,
          13.795000000000002,
          14.017500000000002,
          14.315000000000001,
          14.589999999999998,
          14.930000000000001,
          15.3025,
          15.777499999999998,
          16.384999999999998,
          17.127499999999998,
          17.857499999999998,
          18.682499999999997,
          19.6475,
          20.605,
          21.342499999999998,
          21.92,
          22.5675,
          23.31
         ],
         "yaxis": "y"
        },
        {
         "showlegend": false,
         "type": "bar",
         "x": [
          "2020-11-02T00:00:00",
          "2020-11-03T00:00:00",
          "2020-11-04T00:00:00",
          "2020-11-05T00:00:00",
          "2020-11-06T00:00:00",
          "2020-11-09T00:00:00",
          "2020-11-10T00:00:00",
          "2020-11-11T00:00:00",
          "2020-11-12T00:00:00",
          "2020-11-13T00:00:00",
          "2020-11-16T00:00:00",
          "2020-11-17T00:00:00",
          "2020-11-18T00:00:00",
          "2020-11-19T00:00:00",
          "2020-11-20T00:00:00",
          "2020-11-23T00:00:00",
          "2020-11-24T00:00:00",
          "2020-11-25T00:00:00",
          "2020-11-26T00:00:00",
          "2020-11-27T00:00:00",
          "2020-11-30T00:00:00",
          "2020-12-01T00:00:00",
          "2020-12-02T00:00:00",
          "2020-12-03T00:00:00",
          "2020-12-04T00:00:00",
          "2020-12-07T00:00:00",
          "2020-12-08T00:00:00",
          "2020-12-09T00:00:00",
          "2020-12-10T00:00:00",
          "2020-12-11T00:00:00",
          "2020-12-14T00:00:00",
          "2020-12-15T00:00:00",
          "2020-12-16T00:00:00",
          "2020-12-17T00:00:00",
          "2020-12-18T00:00:00",
          "2020-12-21T00:00:00",
          "2020-12-22T00:00:00",
          "2020-12-23T00:00:00",
          "2020-12-24T00:00:00",
          "2020-12-25T00:00:00",
          "2020-12-28T00:00:00",
          "2020-12-29T00:00:00",
          "2020-12-30T00:00:00",
          "2020-12-31T00:00:00",
          "2021-01-04T00:00:00",
          "2021-01-05T00:00:00",
          "2021-01-06T00:00:00",
          "2021-01-07T00:00:00",
          "2021-01-08T00:00:00",
          "2021-01-11T00:00:00"
         ],
         "xaxis": "x2",
         "y": [
          32654.403,
          29608.928,
          65400.435,
          58581.95,
          69864.715,
          115298.067,
          117678.333,
          113516.298,
          90102.455,
          61265.62,
          42815.152,
          53068.43,
          84199.187,
          44322.016,
          35197.134,
          58823.672,
          61262.857,
          100667.788,
          92557.33,
          41678.498,
          58170.129,
          66054.68,
          45337.669,
          35195.883,
          28201.469,
          34846.938,
          137177.362,
          133020.551,
          89946.504,
          100878.749,
          126195.343,
          236049.036,
          126364.128,
          79684.685,
          206360.797,
          223996.421,
          291542.811,
          224886.565,
          218649.885,
          180477.681,
          83468.746,
          316446.204,
          111570.443,
          100773.024,
          102044.301,
          49151.441,
          64941.633,
          49450.852,
          79753.945,
          47981.188
         ],
         "yaxis": "y2"
        }
       ],
       "layout": {
        "annotations": [
         {
          "font": {
           "size": 16
          },
          "showarrow": false,
          "text": "2609 過去2個月K線圖",
          "x": 0.5,
          "xanchor": "center",
          "xref": "paper",
          "y": 1,
          "yanchor": "bottom",
          "yref": "paper"
         },
         {
          "font": {
           "size": 16
          },
          "showarrow": false,
          "text": "Volume",
          "x": 0.5,
          "xanchor": "center",
          "xref": "paper",
          "y": 0.21555555555555558,
          "yanchor": "bottom",
          "yref": "paper"
         }
        ],
        "template": {
         "data": {
          "bar": [
           {
            "error_x": {
             "color": "#2a3f5f"
            },
            "error_y": {
             "color": "#2a3f5f"
            },
            "marker": {
             "line": {
              "color": "#E5ECF6",
              "width": 0.5
             }
            },
            "type": "bar"
           }
          ],
          "barpolar": [
           {
            "marker": {
             "line": {
              "color": "#E5ECF6",
              "width": 0.5
             }
            },
            "type": "barpolar"
           }
          ],
          "carpet": [
           {
            "aaxis": {
             "endlinecolor": "#2a3f5f",
             "gridcolor": "white",
             "linecolor": "white",
             "minorgridcolor": "white",
             "startlinecolor": "#2a3f5f"
            },
            "baxis": {
             "endlinecolor": "#2a3f5f",
             "gridcolor": "white",
             "linecolor": "white",
             "minorgridcolor": "white",
             "startlinecolor": "#2a3f5f"
            },
            "type": "carpet"
           }
          ],
          "choropleth": [
           {
            "colorbar": {
             "outlinewidth": 0,
             "ticks": ""
            },
            "type": "choropleth"
           }
          ],
          "contour": [
           {
            "colorbar": {
             "outlinewidth": 0,
             "ticks": ""
            },
            "colorscale": [
             [
              0,
              "#0d0887"
             ],
             [
              0.1111111111111111,
              "#46039f"
             ],
             [
              0.2222222222222222,
              "#7201a8"
             ],
             [
              0.3333333333333333,
              "#9c179e"
             ],
             [
              0.4444444444444444,
              "#bd3786"
             ],
             [
              0.5555555555555556,
              "#d8576b"
             ],
             [
              0.6666666666666666,
              "#ed7953"
             ],
             [
              0.7777777777777778,
              "#fb9f3a"
             ],
             [
              0.8888888888888888,
              "#fdca26"
             ],
             [
              1,
              "#f0f921"
             ]
            ],
            "type": "contour"
           }
          ],
          "contourcarpet": [
           {
            "colorbar": {
             "outlinewidth": 0,
             "ticks": ""
            },
            "type": "contourcarpet"
           }
          ],
          "heatmap": [
           {
            "colorbar": {
             "outlinewidth": 0,
             "ticks": ""
            },
            "colorscale": [
             [
              0,
              "#0d0887"
             ],
             [
              0.1111111111111111,
              "#46039f"
             ],
             [
              0.2222222222222222,
              "#7201a8"
             ],
             [
              0.3333333333333333,
              "#9c179e"
             ],
             [
              0.4444444444444444,
              "#bd3786"
             ],
             [
              0.5555555555555556,
              "#d8576b"
             ],
             [
              0.6666666666666666,
              "#ed7953"
             ],
             [
              0.7777777777777778,
              "#fb9f3a"
             ],
             [
              0.8888888888888888,
              "#fdca26"
             ],
             [
              1,
              "#f0f921"
             ]
            ],
            "type": "heatmap"
           }
          ],
          "heatmapgl": [
           {
            "colorbar": {
             "outlinewidth": 0,
             "ticks": ""
            },
            "colorscale": [
             [
              0,
              "#0d0887"
             ],
             [
              0.1111111111111111,
              "#46039f"
             ],
             [
              0.2222222222222222,
              "#7201a8"
             ],
             [
              0.3333333333333333,
              "#9c179e"
             ],
             [
              0.4444444444444444,
              "#bd3786"
             ],
             [
              0.5555555555555556,
              "#d8576b"
             ],
             [
              0.6666666666666666,
              "#ed7953"
             ],
             [
              0.7777777777777778,
              "#fb9f3a"
             ],
             [
              0.8888888888888888,
              "#fdca26"
             ],
             [
              1,
              "#f0f921"
             ]
            ],
            "type": "heatmapgl"
           }
          ],
          "histogram": [
           {
            "marker": {
             "colorbar": {
              "outlinewidth": 0,
              "ticks": ""
             }
            },
            "type": "histogram"
           }
          ],
          "histogram2d": [
           {
            "colorbar": {
             "outlinewidth": 0,
             "ticks": ""
            },
            "colorscale": [
             [
              0,
              "#0d0887"
             ],
             [
              0.1111111111111111,
              "#46039f"
             ],
             [
              0.2222222222222222,
              "#7201a8"
             ],
             [
              0.3333333333333333,
              "#9c179e"
             ],
             [
              0.4444444444444444,
              "#bd3786"
             ],
             [
              0.5555555555555556,
              "#d8576b"
             ],
             [
              0.6666666666666666,
              "#ed7953"
             ],
             [
              0.7777777777777778,
              "#fb9f3a"
             ],
             [
              0.8888888888888888,
              "#fdca26"
             ],
             [
              1,
              "#f0f921"
             ]
            ],
            "type": "histogram2d"
           }
          ],
          "histogram2dcontour": [
           {
            "colorbar": {
             "outlinewidth": 0,
             "ticks": ""
            },
            "colorscale": [
             [
              0,
              "#0d0887"
             ],
             [
              0.1111111111111111,
              "#46039f"
             ],
             [
              0.2222222222222222,
              "#7201a8"
             ],
             [
              0.3333333333333333,
              "#9c179e"
             ],
             [
              0.4444444444444444,
              "#bd3786"
             ],
             [
              0.5555555555555556,
              "#d8576b"
             ],
             [
              0.6666666666666666,
              "#ed7953"
             ],
             [
              0.7777777777777778,
              "#fb9f3a"
             ],
             [
              0.8888888888888888,
              "#fdca26"
             ],
             [
              1,
              "#f0f921"
             ]
            ],
            "type": "histogram2dcontour"
           }
          ],
          "mesh3d": [
           {
            "colorbar": {
             "outlinewidth": 0,
             "ticks": ""
            },
            "type": "mesh3d"
           }
          ],
          "parcoords": [
           {
            "line": {
             "colorbar": {
              "outlinewidth": 0,
              "ticks": ""
             }
            },
            "type": "parcoords"
           }
          ],
          "pie": [
           {
            "automargin": true,
            "type": "pie"
           }
          ],
          "scatter": [
           {
            "marker": {
             "colorbar": {
              "outlinewidth": 0,
              "ticks": ""
             }
            },
            "type": "scatter"
           }
          ],
          "scatter3d": [
           {
            "line": {
             "colorbar": {
              "outlinewidth": 0,
              "ticks": ""
             }
            },
            "marker": {
             "colorbar": {
              "outlinewidth": 0,
              "ticks": ""
             }
            },
            "type": "scatter3d"
           }
          ],
          "scattercarpet": [
           {
            "marker": {
             "colorbar": {
              "outlinewidth": 0,
              "ticks": ""
             }
            },
            "type": "scattercarpet"
           }
          ],
          "scattergeo": [
           {
            "marker": {
             "colorbar": {
              "outlinewidth": 0,
              "ticks": ""
             }
            },
            "type": "scattergeo"
           }
          ],
          "scattergl": [
           {
            "marker": {
             "colorbar": {
              "outlinewidth": 0,
              "ticks": ""
             }
            },
            "type": "scattergl"
           }
          ],
          "scattermapbox": [
           {
            "marker": {
             "colorbar": {
              "outlinewidth": 0,
              "ticks": ""
             }
            },
            "type": "scattermapbox"
           }
          ],
          "scatterpolar": [
           {
            "marker": {
             "colorbar": {
              "outlinewidth": 0,
              "ticks": ""
             }
            },
            "type": "scatterpolar"
           }
          ],
          "scatterpolargl": [
           {
            "marker": {
             "colorbar": {
              "outlinewidth": 0,
              "ticks": ""
             }
            },
            "type": "scatterpolargl"
           }
          ],
          "scatterternary": [
           {
            "marker": {
             "colorbar": {
              "outlinewidth": 0,
              "ticks": ""
             }
            },
            "type": "scatterternary"
           }
          ],
          "surface": [
           {
            "colorbar": {
             "outlinewidth": 0,
             "ticks": ""
            },
            "colorscale": [
             [
              0,
              "#0d0887"
             ],
             [
              0.1111111111111111,
              "#46039f"
             ],
             [
              0.2222222222222222,
              "#7201a8"
             ],
             [
              0.3333333333333333,
              "#9c179e"
             ],
             [
              0.4444444444444444,
              "#bd3786"
             ],
             [
              0.5555555555555556,
              "#d8576b"
             ],
             [
              0.6666666666666666,
              "#ed7953"
             ],
             [
              0.7777777777777778,
              "#fb9f3a"
             ],
             [
              0.8888888888888888,
              "#fdca26"
             ],
             [
              1,
              "#f0f921"
             ]
            ],
            "type": "surface"
           }
          ],
          "table": [
           {
            "cells": {
             "fill": {
              "color": "#EBF0F8"
             },
             "line": {
              "color": "white"
             }
            },
            "header": {
             "fill": {
              "color": "#C8D4E3"
             },
             "line": {
              "color": "white"
             }
            },
            "type": "table"
           }
          ]
         },
         "layout": {
          "annotationdefaults": {
           "arrowcolor": "#2a3f5f",
           "arrowhead": 0,
           "arrowwidth": 1
          },
          "autotypenumbers": "strict",
          "coloraxis": {
           "colorbar": {
            "outlinewidth": 0,
            "ticks": ""
           }
          },
          "colorscale": {
           "diverging": [
            [
             0,
             "#8e0152"
            ],
            [
             0.1,
             "#c51b7d"
            ],
            [
             0.2,
             "#de77ae"
            ],
            [
             0.3,
             "#f1b6da"
            ],
            [
             0.4,
             "#fde0ef"
            ],
            [
             0.5,
             "#f7f7f7"
            ],
            [
             0.6,
             "#e6f5d0"
            ],
            [
             0.7,
             "#b8e186"
            ],
            [
             0.8,
             "#7fbc41"
            ],
            [
             0.9,
             "#4d9221"
            ],
            [
             1,
             "#276419"
            ]
           ],
           "sequential": [
            [
             0,
             "#0d0887"
            ],
            [
             0.1111111111111111,
             "#46039f"
            ],
            [
             0.2222222222222222,
             "#7201a8"
            ],
            [
             0.3333333333333333,
             "#9c179e"
            ],
            [
             0.4444444444444444,
             "#bd3786"
            ],
            [
             0.5555555555555556,
             "#d8576b"
            ],
            [
             0.6666666666666666,
             "#ed7953"
            ],
            [
             0.7777777777777778,
             "#fb9f3a"
            ],
            [
             0.8888888888888888,
             "#fdca26"
            ],
            [
             1,
             "#f0f921"
            ]
           ],
           "sequentialminus": [
            [
             0,
             "#0d0887"
            ],
            [
             0.1111111111111111,
             "#46039f"
            ],
            [
             0.2222222222222222,
             "#7201a8"
            ],
            [
             0.3333333333333333,
             "#9c179e"
            ],
            [
             0.4444444444444444,
             "#bd3786"
            ],
            [
             0.5555555555555556,
             "#d8576b"
            ],
            [
             0.6666666666666666,
             "#ed7953"
            ],
            [
             0.7777777777777778,
             "#fb9f3a"
            ],
            [
             0.8888888888888888,
             "#fdca26"
            ],
            [
             1,
             "#f0f921"
            ]
           ]
          },
          "colorway": [
           "#636efa",
           "#EF553B",
           "#00cc96",
           "#ab63fa",
           "#FFA15A",
           "#19d3f3",
           "#FF6692",
           "#B6E880",
           "#FF97FF",
           "#FECB52"
          ],
          "font": {
           "color": "#2a3f5f"
          },
          "geo": {
           "bgcolor": "white",
           "lakecolor": "white",
           "landcolor": "#E5ECF6",
           "showlakes": true,
           "showland": true,
           "subunitcolor": "white"
          },
          "hoverlabel": {
           "align": "left"
          },
          "hovermode": "closest",
          "mapbox": {
           "style": "light"
          },
          "paper_bgcolor": "white",
          "plot_bgcolor": "#E5ECF6",
          "polar": {
           "angularaxis": {
            "gridcolor": "white",
            "linecolor": "white",
            "ticks": ""
           },
           "bgcolor": "#E5ECF6",
           "radialaxis": {
            "gridcolor": "white",
            "linecolor": "white",
            "ticks": ""
           }
          },
          "scene": {
           "xaxis": {
            "backgroundcolor": "#E5ECF6",
            "gridcolor": "white",
            "gridwidth": 2,
            "linecolor": "white",
            "showbackground": true,
            "ticks": "",
            "zerolinecolor": "white"
           },
           "yaxis": {
            "backgroundcolor": "#E5ECF6",
            "gridcolor": "white",
            "gridwidth": 2,
            "linecolor": "white",
            "showbackground": true,
            "ticks": "",
            "zerolinecolor": "white"
           },
           "zaxis": {
            "backgroundcolor": "#E5ECF6",
            "gridcolor": "white",
            "gridwidth": 2,
            "linecolor": "white",
            "showbackground": true,
            "ticks": "",
            "zerolinecolor": "white"
           }
          },
          "shapedefaults": {
           "line": {
            "color": "#2a3f5f"
           }
          },
          "ternary": {
           "aaxis": {
            "gridcolor": "white",
            "linecolor": "white",
            "ticks": ""
           },
           "baxis": {
            "gridcolor": "white",
            "linecolor": "white",
            "ticks": ""
           },
           "bgcolor": "#E5ECF6",
           "caxis": {
            "gridcolor": "white",
            "linecolor": "white",
            "ticks": ""
           }
          },
          "title": {
           "x": 0.05
          },
          "xaxis": {
           "automargin": true,
           "gridcolor": "white",
           "linecolor": "white",
           "ticks": "",
           "title": {
            "standoff": 15
           },
           "zerolinecolor": "white",
           "zerolinewidth": 2
          },
          "yaxis": {
           "automargin": true,
           "gridcolor": "white",
           "linecolor": "white",
           "ticks": "",
           "title": {
            "standoff": 15
           },
           "zerolinecolor": "white",
           "zerolinewidth": 2
          }
         }
        },
        "xaxis": {
         "anchor": "y",
         "domain": [
          0,
          1
         ],
         "matches": "x2",
         "rangeslider": {
          "visible": false
         },
         "showticklabels": false
        },
        "xaxis2": {
         "anchor": "y2",
         "domain": [
          0,
          1
         ]
        },
        "yaxis": {
         "anchor": "x",
         "domain": [
          0.24555555555555558,
          1
         ]
        },
        "yaxis2": {
         "anchor": "x2",
         "domain": [
          0,
          0.21555555555555558
         ]
        }
       }
      },
      "text/html": [
       "<div>                            <div id=\"5f9304b1-6944-4bdc-94be-108c855d6d8e\" class=\"plotly-graph-div\" style=\"height:525px; width:100%;\"></div>            <script type=\"text/javascript\">                require([\"plotly\"], function(Plotly) {                    window.PLOTLYENV=window.PLOTLYENV || {};                                    if (document.getElementById(\"5f9304b1-6944-4bdc-94be-108c855d6d8e\")) {                    Plotly.newPlot(                        \"5f9304b1-6944-4bdc-94be-108c855d6d8e\",                        [{\"close\": [11.6, 11.75, 12.5, 12.25, 12.9, 14.1, 13.6, 13.55, 12.35, 12.5, 12.5, 12.5, 13.0, 12.75, 12.8, 13.0, 13.05, 13.6, 13.55, 13.6, 13.25, 13.05, 12.9, 12.75, 12.85, 12.85, 14.05, 14.4, 14.35, 13.7, 15.05, 15.55, 15.85, 15.7, 17.25, 18.95, 18.55, 20.4, 21.0, 23.1, 25.4, 27.9, 27.5, 29.25, 32.15, 32.0, 28.8, 25.95, 27.3, 28.55], \"high\": [11.85, 11.95, 12.6, 12.6, 13.2, 14.15, 14.5, 13.75, 13.15, 12.8, 12.8, 12.6, 13.25, 13.0, 12.85, 13.1, 13.35, 13.7, 13.95, 13.7, 13.7, 13.35, 13.25, 13.15, 12.85, 13.05, 14.05, 14.9, 14.85, 14.35, 15.05, 16.5, 16.2, 16.05, 17.25, 18.95, 20.0, 20.4, 21.5, 23.1, 25.4, 27.9, 28.05, 29.25, 32.15, 32.0, 32.0, 28.6, 27.4, 28.55], \"low\": [11.4, 11.5, 11.6, 12.05, 12.2, 12.85, 12.95, 12.45, 12.2, 12.2, 12.4, 12.1, 12.5, 12.6, 12.55, 12.8, 13.0, 13.15, 13.25, 13.4, 13.25, 12.6, 12.65, 12.7, 12.65, 12.7, 13.1, 13.8, 14.15, 13.5, 13.8, 15.15, 15.15, 15.45, 15.9, 17.5, 17.8, 17.5, 19.7, 22.35, 24.3, 25.4, 25.65, 27.25, 30.7, 30.0, 28.8, 25.95, 25.65, 28.0], \"name\": \"OHLC\", \"open\": [11.7, 11.7, 11.95, 12.4, 12.35, 13.0, 14.15, 13.55, 13.1, 12.4, 12.7, 12.45, 12.5, 13.0, 12.7, 13.0, 13.15, 13.25, 13.75, 13.55, 13.65, 13.3, 13.1, 12.9, 12.85, 12.95, 13.15, 14.05, 14.45, 14.3, 13.85, 15.35, 15.65, 15.8, 16.0, 17.65, 19.2, 18.85, 20.35, 23.1, 24.3, 27.9, 27.3, 27.5, 30.7, 31.6, 32.0, 28.6, 25.65, 28.0], \"type\": \"candlestick\", \"x\": [\"2020-11-02T00:00:00\", \"2020-11-03T00:00:00\", \"2020-11-04T00:00:00\", \"2020-11-05T00:00:00\", \"2020-11-06T00:00:00\", \"2020-11-09T00:00:00\", \"2020-11-10T00:00:00\", \"2020-11-11T00:00:00\", \"2020-11-12T00:00:00\", \"2020-11-13T00:00:00\", \"2020-11-16T00:00:00\", \"2020-11-17T00:00:00\", \"2020-11-18T00:00:00\", \"2020-11-19T00:00:00\", \"2020-11-20T00:00:00\", \"2020-11-23T00:00:00\", \"2020-11-24T00:00:00\", \"2020-11-25T00:00:00\", \"2020-11-26T00:00:00\", \"2020-11-27T00:00:00\", \"2020-11-30T00:00:00\", \"2020-12-01T00:00:00\", \"2020-12-02T00:00:00\", \"2020-12-03T00:00:00\", \"2020-12-04T00:00:00\", \"2020-12-07T00:00:00\", \"2020-12-08T00:00:00\", \"2020-12-09T00:00:00\", \"2020-12-10T00:00:00\", \"2020-12-11T00:00:00\", \"2020-12-14T00:00:00\", \"2020-12-15T00:00:00\", \"2020-12-16T00:00:00\", \"2020-12-17T00:00:00\", \"2020-12-18T00:00:00\", \"2020-12-21T00:00:00\", \"2020-12-22T00:00:00\", \"2020-12-23T00:00:00\", \"2020-12-24T00:00:00\", \"2020-12-25T00:00:00\", \"2020-12-28T00:00:00\", \"2020-12-29T00:00:00\", \"2020-12-30T00:00:00\", \"2020-12-31T00:00:00\", \"2021-01-04T00:00:00\", \"2021-01-05T00:00:00\", \"2021-01-06T00:00:00\", \"2021-01-07T00:00:00\", \"2021-01-08T00:00:00\", \"2021-01-11T00:00:00\"], \"xaxis\": \"x\", \"yaxis\": \"y\"}, {\"marker\": {\"size\": 15, \"symbol\": [5]}, \"name\": \"Entry\", \"type\": \"scatter\", \"x\": [\"2021-01-05T00:00:00\"], \"xaxis\": \"x\", \"y\": [29.16], \"yaxis\": \"y\"}, {\"marker\": {\"size\": 15, \"symbol\": [6]}, \"name\": \"Exit\", \"type\": \"scatter\", \"x\": [\"2021-01-11T00:00:00\"], \"xaxis\": \"x\", \"y\": [28.2], \"yaxis\": \"y\"}, {\"name\": \"MA5\", \"type\": \"scatter\", \"x\": [\"2020-11-02T00:00:00\", \"2020-11-03T00:00:00\", \"2020-11-04T00:00:00\", \"2020-11-05T00:00:00\", \"2020-11-06T00:00:00\", \"2020-11-09T00:00:00\", \"2020-11-10T00:00:00\", \"2020-11-11T00:00:00\", \"2020-11-12T00:00:00\", \"2020-11-13T00:00:00\", \"2020-11-16T00:00:00\", \"2020-11-17T00:00:00\", \"2020-11-18T00:00:00\", \"2020-11-19T00:00:00\", \"2020-11-20T00:00:00\", \"2020-11-23T00:00:00\", \"2020-11-24T00:00:00\", \"2020-11-25T00:00:00\", \"2020-11-26T00:00:00\", \"2020-11-27T00:00:00\", \"2020-11-30T00:00:00\", \"2020-12-01T00:00:00\", \"2020-12-02T00:00:00\", \"2020-12-03T00:00:00\", \"2020-12-04T00:00:00\", \"2020-12-07T00:00:00\", \"2020-12-08T00:00:00\", \"2020-12-09T00:00:00\", \"2020-12-10T00:00:00\", \"2020-12-11T00:00:00\", \"2020-12-14T00:00:00\", \"2020-12-15T00:00:00\", \"2020-12-16T00:00:00\", \"2020-12-17T00:00:00\", \"2020-12-18T00:00:00\", \"2020-12-21T00:00:00\", \"2020-12-22T00:00:00\", \"2020-12-23T00:00:00\", \"2020-12-24T00:00:00\", \"2020-12-25T00:00:00\", \"2020-12-28T00:00:00\", \"2020-12-29T00:00:00\", \"2020-12-30T00:00:00\", \"2020-12-31T00:00:00\", \"2021-01-04T00:00:00\", \"2021-01-05T00:00:00\", \"2021-01-06T00:00:00\", \"2021-01-07T00:00:00\", \"2021-01-08T00:00:00\", \"2021-01-11T00:00:00\"], \"xaxis\": \"x\", \"y\": [null, null, null, null, 12.2, 12.7, 13.069999999999999, 13.280000000000001, 13.3, 13.219999999999999, 12.9, 12.680000000000001, 12.57, 12.65, 12.709999999999999, 12.809999999999999, 12.919999999999998, 13.040000000000001, 13.2, 13.36, 13.41, 13.41, 13.270000000000001, 13.11, 12.959999999999999, 12.88, 13.080000000000002, 13.379999999999999, 13.7, 13.87, 14.309999999999999, 14.610000000000003, 14.9, 15.170000000000002, 15.88, 16.66, 17.26, 18.169999999999998, 19.229999999999997, 20.4, 21.69, 23.560000000000002, 24.98, 26.630000000000003, 28.439999999999998, 29.76, 29.939999999999998, 29.629999999999995, 29.24, 28.52], \"yaxis\": \"y\"}, {\"name\": \"MA10\", \"type\": \"scatter\", \"x\": [\"2020-11-02T00:00:00\", \"2020-11-03T00:00:00\", \"2020-11-04T00:00:00\", \"2020-11-05T00:00:00\", \"2020-11-06T00:00:00\", \"2020-11-09T00:00:00\", \"2020-11-10T00:00:00\", \"2020-11-11T00:00:00\", \"2020-11-12T00:00:00\", \"2020-11-13T00:00:00\", \"2020-11-16T00:00:00\", \"2020-11-17T00:00:00\", \"2020-11-18T00:00:00\", \"2020-11-19T00:00:00\", \"2020-11-20T00:00:00\", \"2020-11-23T00:00:00\", \"2020-11-24T00:00:00\", \"2020-11-25T00:00:00\", \"2020-11-26T00:00:00\", \"2020-11-27T00:00:00\", \"2020-11-30T00:00:00\", \"2020-12-01T00:00:00\", \"2020-12-02T00:00:00\", \"2020-12-03T00:00:00\", \"2020-12-04T00:00:00\", \"2020-12-07T00:00:00\", \"2020-12-08T00:00:00\", \"2020-12-09T00:00:00\", \"2020-12-10T00:00:00\", \"2020-12-11T00:00:00\", \"2020-12-14T00:00:00\", \"2020-12-15T00:00:00\", \"2020-12-16T00:00:00\", \"2020-12-17T00:00:00\", \"2020-12-18T00:00:00\", \"2020-12-21T00:00:00\", \"2020-12-22T00:00:00\", \"2020-12-23T00:00:00\", \"2020-12-24T00:00:00\", \"2020-12-25T00:00:00\", \"2020-12-28T00:00:00\", \"2020-12-29T00:00:00\", \"2020-12-30T00:00:00\", \"2020-12-31T00:00:00\", \"2021-01-04T00:00:00\", \"2021-01-05T00:00:00\", \"2021-01-06T00:00:00\", \"2021-01-07T00:00:00\", \"2021-01-08T00:00:00\", \"2021-01-11T00:00:00\"], \"xaxis\": \"x\", \"y\": [null, null, null, null, null, null, null, null, null, 12.709999999999999, 12.8, 12.875, 12.925, 12.975, 12.965, 12.855, 12.8, 12.805000000000001, 12.925, 13.035, 13.11, 13.165000000000001, 13.155000000000001, 13.155000000000001, 13.16, 13.145, 13.245, 13.325, 13.404999999999998, 13.415000000000001, 13.594999999999999, 13.844999999999999, 14.14, 14.434999999999999, 14.875, 15.485, 15.934999999999999, 16.535, 17.2, 18.14, 19.175, 20.409999999999997, 21.575, 22.93, 24.419999999999998, 25.725, 26.75, 27.305, 27.934999999999995, 28.48], \"yaxis\": \"y\"}, {\"name\": \"MA20\", \"type\": \"scatter\", \"x\": [\"2020-11-02T00:00:00\", \"2020-11-03T00:00:00\", \"2020-11-04T00:00:00\", \"2020-11-05T00:00:00\", \"2020-11-06T00:00:00\", \"2020-11-09T00:00:00\", \"2020-11-10T00:00:00\", \"2020-11-11T00:00:00\", \"2020-11-12T00:00:00\", \"2020-11-13T00:00:00\", \"2020-11-16T00:00:00\", \"2020-11-17T00:00:00\", \"2020-11-18T00:00:00\", \"2020-11-19T00:00:00\", \"2020-11-20T00:00:00\", \"2020-11-23T00:00:00\", \"2020-11-24T00:00:00\", \"2020-11-25T00:00:00\", \"2020-11-26T00:00:00\", \"2020-11-27T00:00:00\", \"2020-11-30T00:00:00\", \"2020-12-01T00:00:00\", \"2020-12-02T00:00:00\", \"2020-12-03T00:00:00\", \"2020-12-04T00:00:00\", \"2020-12-07T00:00:00\", \"2020-12-08T00:00:00\", \"2020-12-09T00:00:00\", \"2020-12-10T00:00:00\", \"2020-12-11T00:00:00\", \"2020-12-14T00:00:00\", \"2020-12-15T00:00:00\", \"2020-12-16T00:00:00\", \"2020-12-17T00:00:00\", \"2020-12-18T00:00:00\", \"2020-12-21T00:00:00\", \"2020-12-22T00:00:00\", \"2020-12-23T00:00:00\", \"2020-12-24T00:00:00\", \"2020-12-25T00:00:00\", \"2020-12-28T00:00:00\", \"2020-12-29T00:00:00\", \"2020-12-30T00:00:00\", \"2020-12-31T00:00:00\", \"2021-01-04T00:00:00\", \"2021-01-05T00:00:00\", \"2021-01-06T00:00:00\", \"2021-01-07T00:00:00\", \"2021-01-08T00:00:00\", \"2021-01-11T00:00:00\"], \"xaxis\": \"x\", \"y\": [null, null, null, null, null, null, null, null, null, null, null, null, null, null, null, null, null, null, null, 12.872499999999999, 12.955000000000002, 13.020000000000001, 13.040000000000001, 13.065000000000001, 13.0625, 13.0, 13.022499999999999, 13.065000000000001, 13.165000000000001, 13.225, 13.352500000000001, 13.505, 13.647499999999999, 13.795000000000002, 14.017500000000002, 14.315000000000001, 14.589999999999998, 14.930000000000001, 15.3025, 15.777499999999998, 16.384999999999998, 17.127499999999998, 17.857499999999998, 18.682499999999997, 19.6475, 20.605, 21.342499999999998, 21.92, 22.5675, 23.31], \"yaxis\": \"y\"}, {\"showlegend\": false, \"type\": \"bar\", \"x\": [\"2020-11-02T00:00:00\", \"2020-11-03T00:00:00\", \"2020-11-04T00:00:00\", \"2020-11-05T00:00:00\", \"2020-11-06T00:00:00\", \"2020-11-09T00:00:00\", \"2020-11-10T00:00:00\", \"2020-11-11T00:00:00\", \"2020-11-12T00:00:00\", \"2020-11-13T00:00:00\", \"2020-11-16T00:00:00\", \"2020-11-17T00:00:00\", \"2020-11-18T00:00:00\", \"2020-11-19T00:00:00\", \"2020-11-20T00:00:00\", \"2020-11-23T00:00:00\", \"2020-11-24T00:00:00\", \"2020-11-25T00:00:00\", \"2020-11-26T00:00:00\", \"2020-11-27T00:00:00\", \"2020-11-30T00:00:00\", \"2020-12-01T00:00:00\", \"2020-12-02T00:00:00\", \"2020-12-03T00:00:00\", \"2020-12-04T00:00:00\", \"2020-12-07T00:00:00\", \"2020-12-08T00:00:00\", \"2020-12-09T00:00:00\", \"2020-12-10T00:00:00\", \"2020-12-11T00:00:00\", \"2020-12-14T00:00:00\", \"2020-12-15T00:00:00\", \"2020-12-16T00:00:00\", \"2020-12-17T00:00:00\", \"2020-12-18T00:00:00\", \"2020-12-21T00:00:00\", \"2020-12-22T00:00:00\", \"2020-12-23T00:00:00\", \"2020-12-24T00:00:00\", \"2020-12-25T00:00:00\", \"2020-12-28T00:00:00\", \"2020-12-29T00:00:00\", \"2020-12-30T00:00:00\", \"2020-12-31T00:00:00\", \"2021-01-04T00:00:00\", \"2021-01-05T00:00:00\", \"2021-01-06T00:00:00\", \"2021-01-07T00:00:00\", \"2021-01-08T00:00:00\", \"2021-01-11T00:00:00\"], \"xaxis\": \"x2\", \"y\": [32654.403, 29608.928, 65400.435, 58581.95, 69864.715, 115298.067, 117678.333, 113516.298, 90102.455, 61265.62, 42815.152, 53068.43, 84199.187, 44322.016, 35197.134, 58823.672, 61262.857, 100667.788, 92557.33, 41678.498, 58170.129, 66054.68, 45337.669, 35195.883, 28201.469, 34846.938, 137177.362, 133020.551, 89946.504, 100878.749, 126195.343, 236049.036, 126364.128, 79684.685, 206360.797, 223996.421, 291542.811, 224886.565, 218649.885, 180477.681, 83468.746, 316446.204, 111570.443, 100773.024, 102044.301, 49151.441, 64941.633, 49450.852, 79753.945, 47981.188], \"yaxis\": \"y2\"}],                        {\"annotations\": [{\"font\": {\"size\": 16}, \"showarrow\": false, \"text\": \"2609 \\u904e\\u53bb2\\u500b\\u6708K\\u7dda\\u5716\", \"x\": 0.5, \"xanchor\": \"center\", \"xref\": \"paper\", \"y\": 1.0, \"yanchor\": \"bottom\", \"yref\": \"paper\"}, {\"font\": {\"size\": 16}, \"showarrow\": false, \"text\": \"Volume\", \"x\": 0.5, \"xanchor\": \"center\", \"xref\": \"paper\", \"y\": 0.21555555555555558, \"yanchor\": \"bottom\", \"yref\": \"paper\"}], \"template\": {\"data\": {\"bar\": [{\"error_x\": {\"color\": \"#2a3f5f\"}, \"error_y\": {\"color\": \"#2a3f5f\"}, \"marker\": {\"line\": {\"color\": \"#E5ECF6\", \"width\": 0.5}}, \"type\": \"bar\"}], \"barpolar\": [{\"marker\": {\"line\": {\"color\": \"#E5ECF6\", \"width\": 0.5}}, \"type\": \"barpolar\"}], \"carpet\": [{\"aaxis\": {\"endlinecolor\": \"#2a3f5f\", \"gridcolor\": \"white\", \"linecolor\": \"white\", \"minorgridcolor\": \"white\", \"startlinecolor\": \"#2a3f5f\"}, \"baxis\": {\"endlinecolor\": \"#2a3f5f\", \"gridcolor\": \"white\", \"linecolor\": \"white\", \"minorgridcolor\": \"white\", \"startlinecolor\": \"#2a3f5f\"}, \"type\": \"carpet\"}], \"choropleth\": [{\"colorbar\": {\"outlinewidth\": 0, \"ticks\": \"\"}, \"type\": \"choropleth\"}], \"contour\": [{\"colorbar\": {\"outlinewidth\": 0, \"ticks\": \"\"}, \"colorscale\": [[0.0, \"#0d0887\"], [0.1111111111111111, \"#46039f\"], [0.2222222222222222, \"#7201a8\"], [0.3333333333333333, \"#9c179e\"], [0.4444444444444444, \"#bd3786\"], [0.5555555555555556, \"#d8576b\"], [0.6666666666666666, \"#ed7953\"], [0.7777777777777778, \"#fb9f3a\"], [0.8888888888888888, \"#fdca26\"], [1.0, \"#f0f921\"]], \"type\": \"contour\"}], \"contourcarpet\": [{\"colorbar\": {\"outlinewidth\": 0, \"ticks\": \"\"}, \"type\": \"contourcarpet\"}], \"heatmap\": [{\"colorbar\": {\"outlinewidth\": 0, \"ticks\": \"\"}, \"colorscale\": [[0.0, \"#0d0887\"], [0.1111111111111111, \"#46039f\"], [0.2222222222222222, \"#7201a8\"], [0.3333333333333333, \"#9c179e\"], [0.4444444444444444, \"#bd3786\"], [0.5555555555555556, \"#d8576b\"], [0.6666666666666666, \"#ed7953\"], [0.7777777777777778, \"#fb9f3a\"], [0.8888888888888888, \"#fdca26\"], [1.0, \"#f0f921\"]], \"type\": \"heatmap\"}], \"heatmapgl\": [{\"colorbar\": {\"outlinewidth\": 0, \"ticks\": \"\"}, \"colorscale\": [[0.0, \"#0d0887\"], [0.1111111111111111, \"#46039f\"], [0.2222222222222222, \"#7201a8\"], [0.3333333333333333, \"#9c179e\"], [0.4444444444444444, \"#bd3786\"], [0.5555555555555556, \"#d8576b\"], [0.6666666666666666, \"#ed7953\"], [0.7777777777777778, \"#fb9f3a\"], [0.8888888888888888, \"#fdca26\"], [1.0, \"#f0f921\"]], \"type\": \"heatmapgl\"}], \"histogram\": [{\"marker\": {\"colorbar\": {\"outlinewidth\": 0, \"ticks\": \"\"}}, \"type\": \"histogram\"}], \"histogram2d\": [{\"colorbar\": {\"outlinewidth\": 0, \"ticks\": \"\"}, \"colorscale\": [[0.0, \"#0d0887\"], [0.1111111111111111, \"#46039f\"], [0.2222222222222222, \"#7201a8\"], [0.3333333333333333, \"#9c179e\"], [0.4444444444444444, \"#bd3786\"], [0.5555555555555556, \"#d8576b\"], [0.6666666666666666, \"#ed7953\"], [0.7777777777777778, \"#fb9f3a\"], [0.8888888888888888, \"#fdca26\"], [1.0, \"#f0f921\"]], \"type\": \"histogram2d\"}], \"histogram2dcontour\": [{\"colorbar\": {\"outlinewidth\": 0, \"ticks\": \"\"}, \"colorscale\": [[0.0, \"#0d0887\"], [0.1111111111111111, \"#46039f\"], [0.2222222222222222, \"#7201a8\"], [0.3333333333333333, \"#9c179e\"], [0.4444444444444444, \"#bd3786\"], [0.5555555555555556, \"#d8576b\"], [0.6666666666666666, \"#ed7953\"], [0.7777777777777778, \"#fb9f3a\"], [0.8888888888888888, \"#fdca26\"], [1.0, \"#f0f921\"]], \"type\": \"histogram2dcontour\"}], \"mesh3d\": [{\"colorbar\": {\"outlinewidth\": 0, \"ticks\": \"\"}, \"type\": \"mesh3d\"}], \"parcoords\": [{\"line\": {\"colorbar\": {\"outlinewidth\": 0, \"ticks\": \"\"}}, \"type\": \"parcoords\"}], \"pie\": [{\"automargin\": true, \"type\": \"pie\"}], \"scatter\": [{\"marker\": {\"colorbar\": {\"outlinewidth\": 0, \"ticks\": \"\"}}, \"type\": \"scatter\"}], \"scatter3d\": [{\"line\": {\"colorbar\": {\"outlinewidth\": 0, \"ticks\": \"\"}}, \"marker\": {\"colorbar\": {\"outlinewidth\": 0, \"ticks\": \"\"}}, \"type\": \"scatter3d\"}], \"scattercarpet\": [{\"marker\": {\"colorbar\": {\"outlinewidth\": 0, \"ticks\": \"\"}}, \"type\": \"scattercarpet\"}], \"scattergeo\": [{\"marker\": {\"colorbar\": {\"outlinewidth\": 0, \"ticks\": \"\"}}, \"type\": \"scattergeo\"}], \"scattergl\": [{\"marker\": {\"colorbar\": {\"outlinewidth\": 0, \"ticks\": \"\"}}, \"type\": \"scattergl\"}], \"scattermapbox\": [{\"marker\": {\"colorbar\": {\"outlinewidth\": 0, \"ticks\": \"\"}}, \"type\": \"scattermapbox\"}], \"scatterpolar\": [{\"marker\": {\"colorbar\": {\"outlinewidth\": 0, \"ticks\": \"\"}}, \"type\": \"scatterpolar\"}], \"scatterpolargl\": [{\"marker\": {\"colorbar\": {\"outlinewidth\": 0, \"ticks\": \"\"}}, \"type\": \"scatterpolargl\"}], \"scatterternary\": [{\"marker\": {\"colorbar\": {\"outlinewidth\": 0, \"ticks\": \"\"}}, \"type\": \"scatterternary\"}], \"surface\": [{\"colorbar\": {\"outlinewidth\": 0, \"ticks\": \"\"}, \"colorscale\": [[0.0, \"#0d0887\"], [0.1111111111111111, \"#46039f\"], [0.2222222222222222, \"#7201a8\"], [0.3333333333333333, \"#9c179e\"], [0.4444444444444444, \"#bd3786\"], [0.5555555555555556, \"#d8576b\"], [0.6666666666666666, \"#ed7953\"], [0.7777777777777778, \"#fb9f3a\"], [0.8888888888888888, \"#fdca26\"], [1.0, \"#f0f921\"]], \"type\": \"surface\"}], \"table\": [{\"cells\": {\"fill\": {\"color\": \"#EBF0F8\"}, \"line\": {\"color\": \"white\"}}, \"header\": {\"fill\": {\"color\": \"#C8D4E3\"}, \"line\": {\"color\": \"white\"}}, \"type\": \"table\"}]}, \"layout\": {\"annotationdefaults\": {\"arrowcolor\": \"#2a3f5f\", \"arrowhead\": 0, \"arrowwidth\": 1}, \"autotypenumbers\": \"strict\", \"coloraxis\": {\"colorbar\": {\"outlinewidth\": 0, \"ticks\": \"\"}}, \"colorscale\": {\"diverging\": [[0, \"#8e0152\"], [0.1, \"#c51b7d\"], [0.2, \"#de77ae\"], [0.3, \"#f1b6da\"], [0.4, \"#fde0ef\"], [0.5, \"#f7f7f7\"], [0.6, \"#e6f5d0\"], [0.7, \"#b8e186\"], [0.8, \"#7fbc41\"], [0.9, \"#4d9221\"], [1, \"#276419\"]], \"sequential\": [[0.0, \"#0d0887\"], [0.1111111111111111, \"#46039f\"], [0.2222222222222222, \"#7201a8\"], [0.3333333333333333, \"#9c179e\"], [0.4444444444444444, \"#bd3786\"], [0.5555555555555556, \"#d8576b\"], [0.6666666666666666, \"#ed7953\"], [0.7777777777777778, \"#fb9f3a\"], [0.8888888888888888, \"#fdca26\"], [1.0, \"#f0f921\"]], \"sequentialminus\": [[0.0, \"#0d0887\"], [0.1111111111111111, \"#46039f\"], [0.2222222222222222, \"#7201a8\"], [0.3333333333333333, \"#9c179e\"], [0.4444444444444444, \"#bd3786\"], [0.5555555555555556, \"#d8576b\"], [0.6666666666666666, \"#ed7953\"], [0.7777777777777778, \"#fb9f3a\"], [0.8888888888888888, \"#fdca26\"], [1.0, \"#f0f921\"]]}, \"colorway\": [\"#636efa\", \"#EF553B\", \"#00cc96\", \"#ab63fa\", \"#FFA15A\", \"#19d3f3\", \"#FF6692\", \"#B6E880\", \"#FF97FF\", \"#FECB52\"], \"font\": {\"color\": \"#2a3f5f\"}, \"geo\": {\"bgcolor\": \"white\", \"lakecolor\": \"white\", \"landcolor\": \"#E5ECF6\", \"showlakes\": true, \"showland\": true, \"subunitcolor\": \"white\"}, \"hoverlabel\": {\"align\": \"left\"}, \"hovermode\": \"closest\", \"mapbox\": {\"style\": \"light\"}, \"paper_bgcolor\": \"white\", \"plot_bgcolor\": \"#E5ECF6\", \"polar\": {\"angularaxis\": {\"gridcolor\": \"white\", \"linecolor\": \"white\", \"ticks\": \"\"}, \"bgcolor\": \"#E5ECF6\", \"radialaxis\": {\"gridcolor\": \"white\", \"linecolor\": \"white\", \"ticks\": \"\"}}, \"scene\": {\"xaxis\": {\"backgroundcolor\": \"#E5ECF6\", \"gridcolor\": \"white\", \"gridwidth\": 2, \"linecolor\": \"white\", \"showbackground\": true, \"ticks\": \"\", \"zerolinecolor\": \"white\"}, \"yaxis\": {\"backgroundcolor\": \"#E5ECF6\", \"gridcolor\": \"white\", \"gridwidth\": 2, \"linecolor\": \"white\", \"showbackground\": true, \"ticks\": \"\", \"zerolinecolor\": \"white\"}, \"zaxis\": {\"backgroundcolor\": \"#E5ECF6\", \"gridcolor\": \"white\", \"gridwidth\": 2, \"linecolor\": \"white\", \"showbackground\": true, \"ticks\": \"\", \"zerolinecolor\": \"white\"}}, \"shapedefaults\": {\"line\": {\"color\": \"#2a3f5f\"}}, \"ternary\": {\"aaxis\": {\"gridcolor\": \"white\", \"linecolor\": \"white\", \"ticks\": \"\"}, \"baxis\": {\"gridcolor\": \"white\", \"linecolor\": \"white\", \"ticks\": \"\"}, \"bgcolor\": \"#E5ECF6\", \"caxis\": {\"gridcolor\": \"white\", \"linecolor\": \"white\", \"ticks\": \"\"}}, \"title\": {\"x\": 0.05}, \"xaxis\": {\"automargin\": true, \"gridcolor\": \"white\", \"linecolor\": \"white\", \"ticks\": \"\", \"title\": {\"standoff\": 15}, \"zerolinecolor\": \"white\", \"zerolinewidth\": 2}, \"yaxis\": {\"automargin\": true, \"gridcolor\": \"white\", \"linecolor\": \"white\", \"ticks\": \"\", \"title\": {\"standoff\": 15}, \"zerolinecolor\": \"white\", \"zerolinewidth\": 2}}}, \"xaxis\": {\"anchor\": \"y\", \"domain\": [0.0, 1.0], \"matches\": \"x2\", \"rangeslider\": {\"visible\": false}, \"showticklabels\": false}, \"xaxis2\": {\"anchor\": \"y2\", \"domain\": [0.0, 1.0]}, \"yaxis\": {\"anchor\": \"x\", \"domain\": [0.24555555555555558, 1.0]}, \"yaxis2\": {\"anchor\": \"x2\", \"domain\": [0.0, 0.21555555555555558]}},                        {\"responsive\": true}                    ).then(function(){\n",
       "                            \n",
       "var gd = document.getElementById('5f9304b1-6944-4bdc-94be-108c855d6d8e');\n",
       "var x = new MutationObserver(function (mutations, observer) {{\n",
       "        var display = window.getComputedStyle(gd).display;\n",
       "        if (!display || display === 'none') {{\n",
       "            console.log([gd, 'removed!']);\n",
       "            Plotly.purge(gd);\n",
       "            observer.disconnect();\n",
       "        }}\n",
       "}});\n",
       "\n",
       "// Listen for the removal of the full notebook cells\n",
       "var notebookContainer = gd.closest('#notebook-container');\n",
       "if (notebookContainer) {{\n",
       "    x.observe(notebookContainer, {childList: true});\n",
       "}}\n",
       "\n",
       "// Listen for the clearing of the current output cell\n",
       "var outputEl = gd.closest('.output');\n",
       "if (outputEl) {{\n",
       "    x.observe(outputEl, {childList: true});\n",
       "}}\n",
       "\n",
       "                        })                };                });            </script>        </div>"
      ]
     },
     "metadata": {},
     "output_type": "display_data"
    },
    {
     "name": "stdout",
     "output_type": "stream",
     "text": [
      "==========紀錄結果==========\n",
      "標的名稱 : 2609\n",
      "進場日 : 2021-01-05, 價格 : 29.16\n",
      "出場日 : 2021-01-11, 價格 : 28.2\n",
      "持有時間 : 6\n",
      "持倉數量 : 712\n",
      "淨損益 : -801952.6560000007\n",
      "\n"
     ]
    }
   ],
   "source": [
    "PlotKBar(ShortTerm[2])"
   ]
  }
 ],
 "metadata": {
  "hide_input": false,
  "kernelspec": {
   "display_name": "Python 3",
   "language": "python",
   "name": "python3"
  },
  "language_info": {
   "codemirror_mode": {
    "name": "ipython",
    "version": 3
   },
   "file_extension": ".py",
   "mimetype": "text/x-python",
   "name": "python",
   "nbconvert_exporter": "python",
   "pygments_lexer": "ipython3",
   "version": "3.7.8"
  },
  "toc": {
   "base_numbering": 1,
   "nav_menu": {},
   "number_sections": true,
   "sideBar": true,
   "skip_h1_title": false,
   "title_cell": "Table of Contents",
   "title_sidebar": "Contents",
   "toc_cell": false,
   "toc_position": {},
   "toc_section_display": true,
   "toc_window_display": false
  },
  "varInspector": {
   "cols": {
    "lenName": 16,
    "lenType": 16,
    "lenVar": 40
   },
   "kernels_config": {
    "python": {
     "delete_cmd_postfix": "",
     "delete_cmd_prefix": "del ",
     "library": "var_list.py",
     "varRefreshCmd": "print(var_dic_list())"
    },
    "r": {
     "delete_cmd_postfix": ") ",
     "delete_cmd_prefix": "rm(",
     "library": "var_list.r",
     "varRefreshCmd": "cat(var_dic_list()) "
    }
   },
   "types_to_exclude": [
    "module",
    "function",
    "builtin_function_or_method",
    "instance",
    "_Feature"
   ],
   "window_display": false
  }
 },
 "nbformat": 4,
 "nbformat_minor": 5
}
