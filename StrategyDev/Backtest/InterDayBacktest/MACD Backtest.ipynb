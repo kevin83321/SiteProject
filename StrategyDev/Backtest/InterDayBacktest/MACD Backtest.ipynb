{
 "cells": [
  {
   "cell_type": "code",
   "execution_count": 3,
   "metadata": {
    "ExecuteTime": {
     "end_time": "2021-10-17T08:51:03.511402Z",
     "start_time": "2021-10-17T08:51:03.508397Z"
    }
   },
   "outputs": [],
   "source": [
    "import requests\n",
    "from datetime import datetime"
   ]
  },
  {
   "cell_type": "code",
   "execution_count": 17,
   "metadata": {
    "ExecuteTime": {
     "end_time": "2021-10-17T08:54:48.668108Z",
     "start_time": "2021-10-17T08:54:48.658114Z"
    }
   },
   "outputs": [],
   "source": [
    "def get_minimum_tick(cost):\n",
    "    \n",
    "    if cost < 10:\n",
    "        return 0.01\n",
    "    elif cost < 50:\n",
    "        return 0.05\n",
    "    elif cost < 100:\n",
    "        return 0.1\n",
    "    elif cost < 500:\n",
    "        return 0.5\n",
    "    elif cost < 1000:\n",
    "        return 1\n",
    "    else:\n",
    "        return 5\n",
    "    \n",
    "\n",
    "def get_commission(cost, multiplier, qty, direction):\n",
    "\n",
    "    commission = cost * multiplier * qty * (0.1425 / 100) \n",
    "    commission = 20 if commission < 20 else commission\n",
    "    \n",
    "    if direction == Direction.SHORT:\n",
    "        \n",
    "        fee = cost * multiplier * qty  * (0.3 / 100) \n",
    "        \n",
    "        return commission + fee\n",
    "    \n",
    "    else:\n",
    "        return commission\n",
    "    \n",
    "def ReadDailyData(ticker:str, start_date:datetime, end_date:datetime):\n",
    "    url = 'http://127.0.0.1:8080/Api/Quote/TWSE/DAILY'\n",
    "    params = {\n",
    "        'Ticker':ticker,\n",
    "        'StartDate':start_date.strftime(\"%Y-%m-%d\"),\n",
    "        'EndDate':end_date.strftime(\"%Y-%m-%d\"),\n",
    "    }\n",
    "    res = requests.post(url, params=params)\n",
    "    js = res.json()\n",
    "    return js['GridData']"
   ]
  },
  {
   "cell_type": "code",
   "execution_count": 20,
   "metadata": {
    "ExecuteTime": {
     "end_time": "2021-10-17T08:55:59.140816Z",
     "start_time": "2021-10-17T08:55:58.387784Z"
    }
   },
   "outputs": [],
   "source": [
    "data = ReadDailyData('2330', datetime(2004,10,15), datetime(2021,10,15))"
   ]
  },
  {
   "cell_type": "code",
   "execution_count": null,
   "metadata": {},
   "outputs": [],
   "source": [
    "ma1_length = 23\n",
    "ma2_length = 67\n",
    "ma1_list = []\n",
    "ma2_list = []\n",
    "\n",
    "\n",
    "for bar in data:\n",
    "    "
   ]
  }
 ],
 "metadata": {
  "hide_input": false,
  "kernelspec": {
   "display_name": "Python 3",
   "language": "python",
   "name": "python3"
  },
  "language_info": {
   "codemirror_mode": {
    "name": "ipython",
    "version": 3
   },
   "file_extension": ".py",
   "mimetype": "text/x-python",
   "name": "python",
   "nbconvert_exporter": "python",
   "pygments_lexer": "ipython3",
   "version": "3.7.8"
  },
  "toc": {
   "base_numbering": 1,
   "nav_menu": {},
   "number_sections": true,
   "sideBar": true,
   "skip_h1_title": false,
   "title_cell": "Table of Contents",
   "title_sidebar": "Contents",
   "toc_cell": false,
   "toc_position": {},
   "toc_section_display": true,
   "toc_window_display": false
  },
  "varInspector": {
   "cols": {
    "lenName": 16,
    "lenType": 16,
    "lenVar": 40
   },
   "kernels_config": {
    "python": {
     "delete_cmd_postfix": "",
     "delete_cmd_prefix": "del ",
     "library": "var_list.py",
     "varRefreshCmd": "print(var_dic_list())"
    },
    "r": {
     "delete_cmd_postfix": ") ",
     "delete_cmd_prefix": "rm(",
     "library": "var_list.r",
     "varRefreshCmd": "cat(var_dic_list()) "
    }
   },
   "types_to_exclude": [
    "module",
    "function",
    "builtin_function_or_method",
    "instance",
    "_Feature"
   ],
   "window_display": false
  }
 },
 "nbformat": 4,
 "nbformat_minor": 4
}
