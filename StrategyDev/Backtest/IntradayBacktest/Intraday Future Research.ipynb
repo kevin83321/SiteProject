{
 "cells": [
  {
   "cell_type": "code",
   "execution_count": 1,
   "metadata": {
    "ExecuteTime": {
     "end_time": "2022-03-19T14:30:54.426977Z",
     "start_time": "2022-03-19T14:30:51.734469Z"
    }
   },
   "outputs": [],
   "source": [
    "import shioaji as sj\n",
    "from datetime import datetime, timedelta\n",
    "import pandas as pd\n",
    "import pytz\n",
    "import json\n",
    "import matplotlib.pyplot as plt\n",
    "import time\n",
    "import plotly.graph_objects as go\n",
    "import numpy as np\n",
    "\n",
    "%matplotlib inline\n",
    "\n",
    "import os\n",
    "parent = os.path.dirname(os.path.abspath(\"__file__\"))"
   ]
  },
  {
   "cell_type": "code",
   "execution_count": 2,
   "metadata": {
    "ExecuteTime": {
     "end_time": "2022-03-19T14:30:58.338233Z",
     "start_time": "2022-03-19T14:30:56.118035Z"
    }
   },
   "outputs": [
    {
     "name": "stdout",
     "output_type": "stream",
     "text": [
      "Response Code: 0 | Event Code: 0 | Info: host '203.66.91.161:80', hostname '203.66.91.161:80' IP 203.66.91.161:80 (host 1 of 1) (host connection attempt 1 of 1) (total connection attempt 1 of 1) | Event: Session up\n"
     ]
    },
    {
     "data": {
      "text/plain": [
       "[FutureAccount(person_id='F128497445', broker_id='F002000', account_id='1473661', signed=True, username='鄭圳宏'),\n",
       " Account(account_type=<AccountType.H: 'H'>, person_id='F128497445', broker_id='9A92', account_id='0011645', username='鄭圳宏'),\n",
       " StockAccount(person_id='F128497445', broker_id='9A92', account_id='0231901', signed=True, username='鄭圳宏\\u3000\\u3000')]"
      ]
     },
     "execution_count": 2,
     "metadata": {},
     "output_type": "execute_result"
    }
   ],
   "source": [
    "api = sj.Shioaji()\n",
    "\n",
    "api.login('F128497445', '89118217k')"
   ]
  },
  {
   "cell_type": "code",
   "execution_count": 3,
   "metadata": {
    "ExecuteTime": {
     "end_time": "2022-03-19T14:31:00.691519Z",
     "start_time": "2022-03-19T14:31:00.489514Z"
    },
    "code_folding": [
     8,
     13,
     18,
     25,
     32,
     42,
     130
    ]
   },
   "outputs": [],
   "source": [
    "from typing import Callable, List\n",
    "from enum import Enum\n",
    "\n",
    "from datetime import datetime, timedelta\n",
    "\n",
    "from typing import List\n",
    "from copy import deepcopy\n",
    "\n",
    "class AttrDict(dict):\n",
    "    def __init__(self, *args, **kwargs):\n",
    "        super(AttrDict, self).__init__(*args, **kwargs)\n",
    "        self.__dict__ = self\n",
    "        \n",
    "class BaseData(AttrDict):\n",
    "    \n",
    "    def __init__(self, *args, **kwargs):\n",
    "        super(BaseData, self).__init__(*args, **kwargs)\n",
    "        \n",
    "class TickData(BaseData):\n",
    "    \"\"\"\n",
    "    儲存即時收到的Info報價\n",
    "    \"\"\"\n",
    "    def __init__(self, *args, **kwargs):\n",
    "        super(TickData, self).__init__(*args, **kwargs)\n",
    "        \n",
    "class BarData(BaseData):\n",
    "    \"\"\"\n",
    "    儲存即時收到的Info報價\n",
    "    \"\"\"\n",
    "    def __init__(self, *args, **kwargs):\n",
    "        super(BarData, self).__init__(*args, **kwargs)\n",
    "\n",
    "class TradeMode(Enum):\n",
    "    \"\"\"\n",
    "    交易模式\n",
    "    \"\"\"\n",
    "    REALTIME = '實盤交易'\n",
    "    SIMULATION = '模擬交易'\n",
    "    BACKTEST = '回測'\n",
    "    BACKTESTINTRADAY = '日內回測'\n",
    "\n",
    "# 資料格式 (RealTime)\n",
    "class Interval(Enum):\n",
    "    \"\"\"\n",
    "    資料頻率\n",
    "    \"\"\"\n",
    "    TICK = '逐筆'\n",
    "    MINUTE = '分K'\n",
    "    HOUR = '小時K'\n",
    "    DAILY = '日K'\n",
    "\n",
    "class BarGenerator:\n",
    "    \"\"\"\n",
    "    For:\n",
    "    1. generateing x minute bar/x hour bar data from tick data\n",
    "\n",
    "    Notice:\n",
    "    1. x can be any number\n",
    "    \"\"\"\n",
    "\n",
    "    def __init__(self, ticker: str, interval: Interval = Interval.MINUTE, window: int = 5,\n",
    "                 trademode: TradeMode = TradeMode.REALTIME, \n",
    "                 callback: Callable = None, size=15, date=datetime.today()):\n",
    "        \"\"\"\n",
    "        Constructor\n",
    "        \"\"\"\n",
    "        self.ticker = ticker\n",
    "        self.interval = interval\n",
    "        self.window = window\n",
    "        self._trademode = trademode\n",
    "        self.callback = callback\n",
    "\n",
    "        self.date = date\n",
    "        self.setupBarCycle(interval, window)\n",
    "        self.bars: List[BarData] = []\n",
    "        self.inited = False\n",
    "        self.barCount = 0\n",
    "        self.size = size\n",
    "\n",
    "    def setupBarCycle(self, interval, window) -> None:\n",
    "        if self._trademode in [TradeMode.REALTIME, TradeMode.SIMULATION]:\n",
    "            self.current = self.date.replace(hour=8,minute=45,second=0,microsecond=0)#datetime.now().replace(second=0)\n",
    "        elif self._trademode == TradeMode.BACKTESTINTRADAY:\n",
    "            self.current = 84500\n",
    "#         print(self.current)\n",
    "        self._intervalCycle(interval, window)\n",
    "\n",
    "    def _intervalCycle(self, interval: Interval, window: int):\n",
    "        if self._trademode in [TradeMode.REALTIME, TradeMode.SIMULATION]:\n",
    "            if interval == Interval.MINUTE:\n",
    "                self.cycle = timedelta(seconds=60 * window)\n",
    "            elif interval == Interval.HOUR:\n",
    "                self.cycle = timedelta(seconds=60 * 60 * window)\n",
    "        elif self._trademode == TradeMode.BACKTESTINTRADAY:\n",
    "            if interval == Interval.MINUTE:\n",
    "                self.cycle = 100 * window\n",
    "            elif interval == Interval.HOUR:\n",
    "                self.cycle = 100 * 100 * window\n",
    "\n",
    "    def updateBar(self, tick: TickData):\n",
    "        try:\n",
    "            if self._trademode == TradeMode.BACKTESTINTRADAY:\n",
    "                return self._updateBarBacktest(tick)\n",
    "            return self._updateBar(tick)\n",
    "        except:\n",
    "            raise\n",
    "\n",
    "    def _updateBar(self, tick: TickData):\n",
    "        try:\n",
    "            try:\n",
    "                time, close, volume = tick.time, tick.close, tick.volume\n",
    "            except:\n",
    "                # print(tick)\n",
    "                time, close, volume = tick['time'], tick['close'], tick['volume']\n",
    "#             print(tick, '\\t', self.current)\n",
    "            if not self.bars or time > self.current:\n",
    "                self.bars.append(self._createNewBar(time, close, volume))\n",
    "                self._updateCurBarTime()\n",
    "                if len(self.bars) >= self.size:\n",
    "                    self.inited = True\n",
    "                if len(self.bars) > 1:\n",
    "#                     print(self.bars[-2])\n",
    "                    return self.bars[-2]\n",
    "                    if self.callback:\n",
    "                        self.callback(self.bars[-2])\n",
    "            else:\n",
    "                self._updateCurBar(close, volume)\n",
    "        except Exception as e:\n",
    "            print(e)\n",
    "            raise\n",
    "\n",
    "    def _updateBarBacktest(self, tick: TickData):\n",
    "        time, close, volume = tick.time, tick.close, tick.volume\n",
    "        if not self.bars or time > self.current:\n",
    "            self.bars.append(self._createNewBar(time, close, volume))\n",
    "            self._updateCurBarTime()\n",
    "            if len(self.bars) >= self.size:\n",
    "                self.inited = True\n",
    "            if len(self.bars) > 1:\n",
    "                self.callback(self.bars[-2])\n",
    "        else:\n",
    "            self._updateCurBar(close, volume)\n",
    "            \n",
    "    def _createNewBar(self, time, close, volume):\n",
    "        return BarData(\n",
    "                    symbol=self.ticker,\n",
    "                    time=time,\n",
    "                    open=close,\n",
    "                    high=close,\n",
    "                    low=close,\n",
    "                    close=close,\n",
    "                    volume=volume\n",
    "                )\n",
    "    \n",
    "    def _updateCurBar(self, close, volume):\n",
    "        curBar = self.bars[-1]\n",
    "        curBar.high = max(curBar.high, close)\n",
    "        curBar.low = min(curBar.low, close)\n",
    "        curBar.close = close\n",
    "        curBar.volume += volume\n",
    "        self.bars[-1] = curBar\n",
    "\n",
    "    def _updateCurBarTime(self):\n",
    "        self.current += self.cycle\n",
    "#         if self._trademode in [TradeMode.REALTIME, TradeMode.SIMULATION]:\n",
    "#             return\n",
    "        if self._trademode == TradeMode.BACKTESTINTRADAY:\n",
    "            timeList = self._intTolist(self.current)\n",
    "            if self.interval == Interval.MINUTE:\n",
    "                if timeList[1] >= 60:\n",
    "                    timeList[0] += 1\n",
    "                    timeList[1] -= 60\n",
    "            if timeList[0] >= 24:\n",
    "                timeList[0] -= 24\n",
    "            self.current = int(''.join([str(int(x)) for x in timeList]))\n",
    "\n",
    "    def _intTolist(self, t):\n",
    "        ss = t % 100\n",
    "        t /= 100\n",
    "        mm = t % 100\n",
    "        hh = t / 100\n",
    "        return [int(hh), int(mm), int(ss)]\n",
    "\n",
    "    @property\n",
    "    def closes(self):\n",
    "        return [getattr(bar, 'close') for bar in self.bars][:-1]\n",
    "\n",
    "    @property\n",
    "    def opens(self):\n",
    "        return [getattr(bar, 'open') for bar in self.bars][:-1]\n",
    "\n",
    "    @property\n",
    "    def highs(self):\n",
    "        return [getattr(bar, 'high') for bar in self.bars][:-1]\n",
    "\n",
    "    @property\n",
    "    def lows(self):\n",
    "        return [getattr(bar, 'low') for bar in self.bars][:-1]\n",
    "\n",
    "    @property\n",
    "    def volumes(self):\n",
    "        return [getattr(bar, 'volume') for bar in self.bars][:-1]\n",
    "    \n",
    "    @property\n",
    "    def times(self):\n",
    "        return [getattr(bar, 'time') for bar in self.bars][:-1]"
   ]
  },
  {
   "cell_type": "code",
   "execution_count": 4,
   "metadata": {
    "ExecuteTime": {
     "end_time": "2022-03-19T14:31:03.288664Z",
     "start_time": "2022-03-19T14:31:02.973667Z"
    },
    "code_folding": [
     0,
     4,
     14,
     34,
     47,
     53,
     58,
     66
    ]
   },
   "outputs": [],
   "source": [
    "def getNearbyCode(td:datetime):\n",
    "    month = getNearbyMonth(td)\n",
    "    return [chr(m+65-1), chr(m+65-1+12)]\n",
    "    \n",
    "def getNearbyMonth(td: datetime = None):\n",
    "    if not td:\n",
    "        td = datetime.today()\n",
    "    month = td.month\n",
    "    if isTimetoMaturity(td): \n",
    "        month += 1\n",
    "        if month > 12:\n",
    "            month = 1\n",
    "    return month\n",
    "\n",
    "def getExistsContract(date: datetime, strikes:list, symbol:str='TXF', months:int=3) -> list:\n",
    "    global call_code_map, put_code_map, opt_ticker_map\n",
    "    opt_ticker = opt_ticker_map[symbol]\n",
    "    Conti_Ms = getExistsContractMonth(date)\n",
    "    contracts = []\n",
    "    y = date.year\n",
    "    next_y = y + 1\n",
    "    for strike in strikes:\n",
    "        strike = StrikeFill(strike, symbol)\n",
    "        \n",
    "        for m in Conti_Ms[:months]:\n",
    "            call_ticker = f'{opt_ticker}{str(strike).zfill(5)}{call_code_map[m]}{str(y)[-1]}'\n",
    "            put_ticker = f'{opt_ticker}{str(strike).zfill(5)}{put_code_map[m]}{str(y)[-1]}'\n",
    "            if 12 in Conti_Ms[1:3]:\n",
    "                if m < 12:\n",
    "                    call_ticker = f'{opt_ticker}{str(strike).zfill(5)}{call_code_map[m]}{str(next_y)[-1]}'\n",
    "                    put_ticker = f'{opt_ticker}{str(strike).zfill(5)}{put_code_map[m]}{str(next_y)[-1]}'\n",
    "            contracts.extend([call_ticker, put_ticker])\n",
    "    return contracts\n",
    "\n",
    "def getExistsContractMonth(date):\n",
    "    month = getNearbyMonth(date)\n",
    "    conti_Ms = [x if x <= 12 else x - 12 for x in range(month, month + 3)]\n",
    "    if conti_Ms[-1] in [3, 4, 5]: # 3個連續月份的最後一個月是3或4或5，判斷連續季月月份，以下雷同\n",
    "        conti_Ms.extend([6, 9, 12])\n",
    "    elif conti_Ms[-1] in [6, 7, 8]:\n",
    "        conti_Ms.extend([9, 12, 3])\n",
    "    elif conti_Ms[-1] in [9, 10, 11]:\n",
    "        conti_Ms.extend([12, 3, 6])\n",
    "    elif conti_Ms[-1] in [12, 1, 2]:\n",
    "        conti_Ms.extend([3, 6, 9])\n",
    "    return conti_Ms\n",
    "\n",
    "def isTimetoMaturity(td):\n",
    "    thirdWendesday = getThirdWendesday(td)\n",
    "    if td.strftime('%Y%m%d') >= thirdWendesday.strftime('%Y%m%d'): \n",
    "        return True\n",
    "    return False\n",
    "\n",
    "def getThirdWendesday(td):\n",
    "    week = 2\n",
    "    first_wendesday = getFirstWendesday(td)\n",
    "    return first_wendesday + timedelta(week * 7)\n",
    "\n",
    "def getFirstWendesday(td):\n",
    "    first_day = datetime(td.year, td.month, 2)\n",
    "    if first_day.weekday() <= 2:\n",
    "        adj_days = 2 - first_day.weekday()\n",
    "    else:\n",
    "        adj_days = 9 - first_day.weekday()\n",
    "    return first_day + timedelta(adj_days)\n",
    "\n",
    "def getContiCode(td:datetime):\n",
    "    m = getNearbyMonth(td)\n",
    "    next_m = (m + 1) % 12\n",
    "    if not next_m:\n",
    "        next_m = 12\n",
    "    if m+1 > 12: \n",
    "        return [chr(m+65-1)+str(td.year)[-1], chr(next_m+65-1)+str(td.year + 1)[-1]]\n",
    "    else:\n",
    "        return [chr(m+65-1)+str(td.year)[-1], chr(next_m+65-1)+str(td.year)[-1]]\n",
    "    "
   ]
  },
  {
   "cell_type": "code",
   "execution_count": 5,
   "metadata": {
    "ExecuteTime": {
     "end_time": "2022-03-19T14:31:05.721678Z",
     "start_time": "2022-03-19T14:31:05.518678Z"
    },
    "code_folding": [
     0,
     15,
     23,
     46
    ]
   },
   "outputs": [],
   "source": [
    "def ReadData(date):\n",
    "    data_path = os.path.join(parent, \"HistoricData\", \"MXF\")\n",
    "    if not os.path.isdir(data_path):\n",
    "        os.makedirs(data_path)\n",
    "#     for k, v in dfs.items():\n",
    "    tdStr = date.strftime(\"%Y-%m-%d\")\n",
    "    try:\n",
    "        with open(os.path.join(data_path, f\"MXF_{tdStr}.json\"), 'r') as f:\n",
    "            data = json.load(f)\n",
    "            df = pd.DataFrame(data)\n",
    "            df.datetime = pd.to_datetime(df.datetime)\n",
    "        return df.set_index('datetime')\n",
    "    except:\n",
    "        return pd.DataFrame()\n",
    "    \n",
    "def WriteData(date, df):\n",
    "    data_path = os.path.join(parent, \"HistoricData\", \"MXF\")\n",
    "    tdStr = date.strftime(\"%Y-%m-%d\")\n",
    "    with open(os.path.join(data_path, f\"MXF_{tdStr}.json\"), 'w') as f:\n",
    "        df = df.reset_index()\n",
    "        df.datetime = df.datetime.apply(lambda x: x.strftime(\"%Y-%m-%d %H:%M:%S.%f\"))\n",
    "        json.dump(list(df.T.to_dict().values()), f)\n",
    "\n",
    "def GetPairData(api, date:datetime=datetime(2021,11,5)):\n",
    "    df = ReadData(date)\n",
    "    if not df.empty:\n",
    "        return df\n",
    "    dateStr = date.strftime(\"%Y-%m-%d\")\n",
    "    last_code = getContiCode(date)\n",
    "    today_last_code = getContiCode(datetime.today())\n",
    "    \n",
    "    contract_nearby = api.Contracts.Futures[\"MXF\"+today_last_code[0]]\n",
    "    contract_nearby.code = \"MXF\"+last_code[0]\n",
    "    data_nearby = api.ticks(contract_nearby, dateStr, \n",
    "                            query_type=sj.constant.TicksQueryType.RangeTime, \n",
    "                            time_start='08:45:00',#datetime(2021,11,5,8,45,0).time(),\n",
    "                           time_end='13:45:00')#datetime(2021,11,5,13,45,0).time())\n",
    "\n",
    "    df_nearby = pd.DataFrame(data_nearby.dict())\n",
    "    df_nearby['datetime'] = df_nearby.ts.apply(lambda x: datetime.utcfromtimestamp(int(str(x)[:10])).astimezone(pytz.timezone('Asia/Taipei')).strftime(\"%Y-%m-%d %H:%M:%S.\")+str(x)[10:16])\n",
    "    df_nearby['datetime'] = pd.to_datetime(df_nearby['datetime'])\n",
    "\n",
    "    df_nearby = df_nearby.set_index('datetime')\n",
    "    WriteData(date, df_nearby)\n",
    "    return df_nearby\n",
    "\n",
    "def GetPairDataBar(api, date:datetime=datetime(2021,11,5)):\n",
    "    df = ReadData(date)\n",
    "    if not df.empty:\n",
    "        return df\n",
    "    dateStr = date.strftime(\"%Y-%m-%d\")\n",
    "    last_code = getContiCode(date)\n",
    "    today_last_code = getContiCode(datetime.today())\n",
    "    \n",
    "    contract_nearby = api.Contracts.Futures[\"MXF\"+today_last_code[0]]\n",
    "    contract_nearby.code = \"MXF\"+last_code[0]\n",
    "    data_nearby = api.ticks(contract_nearby, dateStr, \n",
    "                            query_type=sj.constant.TicksQueryType.RangeTime, \n",
    "                            time_start='08:45:00',#datetime(2021,11,5,8,45,0).time(),\n",
    "                           time_end='13:45:00')#datetime(2021,11,5,13,45,0).time())\n",
    "\n",
    "    df_nearby = pd.DataFrame(data_nearby.dict())\n",
    "    df_nearby['datetime'] = df_nearby.ts.apply(lambda x: datetime.utcfromtimestamp(int(str(x)[:10])).astimezone(pytz.timezone('Asia/Taipei')).strftime(\"%Y-%m-%d %H:%M:%S.\")+str(x)[10:16])\n",
    "    df_nearby['datetime'] = pd.to_datetime(df_nearby['datetime'])\n",
    "\n",
    "    df_nearby = df_nearby.set_index('datetime')\n",
    "    return df_nearby"
   ]
  },
  {
   "cell_type": "code",
   "execution_count": 79,
   "metadata": {
    "ExecuteTime": {
     "end_time": "2022-03-21T10:44:46.909531Z",
     "start_time": "2022-03-21T10:44:46.855535Z"
    },
    "code_folding": []
   },
   "outputs": [],
   "source": [
    "def Backtest(df, takeprofit = 20, stop_loss = 40, gap_threshold = 0.1, \n",
    "             inverse_threshold=80, pre_day_close = None, window=5, ma_len=5,\n",
    "             date=datetime(2022,2,18)):\n",
    "\n",
    "    setup_param = False\n",
    "    entry = sig = pos = 0\n",
    "    interval_h = 0 # 區間高點\n",
    "    interval_l = 99999 # 區間低點\n",
    "    gap = 0\n",
    "    \n",
    "    result = []\n",
    "    pre_close = None\n",
    "    total_pnl = 0\n",
    "    total_win = 0\n",
    "    total_loss = 0\n",
    "    win_trade = 0\n",
    "    loss_trade = 0\n",
    "    record = {}\n",
    "    end_Trade = False\n",
    "    tmp_min_pnl = tmp_max_pnl = min_pnl = max_pnl = 0\n",
    "    tmp_sl = 10 # stoploss\n",
    "    loss_num = 0\n",
    "    max_unreal = 0\n",
    "    max_price = 0\n",
    "    min_price = 99999\n",
    "    entry = 0\n",
    "    zero_trade = 0\n",
    "    sig_inverse = 1\n",
    "    critical_h = critical_l = None\n",
    "    prefer_short = prefer_long = False\n",
    "    check_dir = False\n",
    "    bar_ratio = 2\n",
    "    mini_bar_width = 10\n",
    "    if window == 15:\n",
    "        bar_ratio = 1\n",
    "        mini_bar_width = 20\n",
    "    follow_trend = False\n",
    "#     if pre_day_close:\n",
    "#         critical_h = pre_day_close * 1.007\n",
    "#         critical_l = pre_day_close * 0.993\n",
    "#         print(critical_h, critical_l)\n",
    "    barG = BarGenerator(ticker=\"MXF\", window=window, date=date)\n",
    "    MA5 = []\n",
    "    for row in df.itertuples():\n",
    "#         print(row)\n",
    "        tick = TickData(time=row.Index, close=row.close,volume=row.volume)\n",
    "#         print(tick)\n",
    "        update_bar = barG.updateBar(tick)\n",
    "        if len(barG.bars) <= ma_len:\n",
    "# #         if row.Index <= row.Index.replace(hour=9, minute=30, second=0, microsecond=0):\n",
    "            continue\n",
    "        if update_bar:\n",
    "            MA5.append(np.mean(barG.closes[-ma_len:]))\n",
    "        if len(MA5) <= 1:\n",
    "            continue\n",
    "#         if not setup_param:\n",
    "# #             print(barG.highs[:10])\n",
    "# #             print(barG.lows[:10])\n",
    "            \n",
    "#             interval_h = min(barG.highs[:10]) # max([max(bar.open, bar.close) for bar in barG.bars[:10]]) # max(barG.highs[:10])\n",
    "#             interval_l = max(barG.lows[:10]) # min([min(bar.open, bar.close) for bar in barG.bars[:10]]) # min(barG.lows[:10])\n",
    "#             mid_interval = (interval_h + interval_l) / 2\n",
    "#             gap = abs(interval_h - interval_l)\n",
    "#             gap_ratio = gap / interval_l\n",
    "#             print(interval_h, interval_l, mid_interval, gap, gap_ratio)\n",
    "#             setup_param = True\n",
    "#             stop_loss = abs(interval_h - mid_interval)\n",
    "#             print(f\"StopLoss Points : {stop_loss}\")\n",
    "#             continue\n",
    "        if row.Index <= row.Index.replace(hour=13, minute=0, second=0, microsecond=0) and not end_Trade:\n",
    "            if sig == 0 and pos == 0 and not end_Trade:\n",
    "                if update_bar:\n",
    "                    if barG.bars[-3].open > barG.bars[-3].close and update_bar.close > update_bar.open:\n",
    "                        if abs(barG.bars[-3].close - update_bar.open) <= 5:\n",
    "                            sig = 1\n",
    "#                             follow_trend = True\n",
    "                    elif barG.bars[-3].open < barG.bars[-3].close and update_bar.close < update_bar.open:\n",
    "                        if abs(barG.bars[-3].close - update_bar.open) <= 5:\n",
    "                            sig = -1\n",
    "#                             follow_trend = True\n",
    "#                     if update_bar.close > MA5[-1] and MA5[-1] > MA5[-2]:\n",
    "#                         sig = 1\n",
    "#                         follow_trend = True\n",
    "#                         print(\"Entry Long With FollowTrend\")\n",
    "#                     elif update_bar.close < MA5[-1] and MA5[-1] < MA5[-2]:\n",
    "#                         sig = -1\n",
    "#                         follow_trend = True\n",
    "#                         print(\"Entry Short With FollowTrend\")\n",
    "#                     elif barG.closes[-2] <= MA5[-2] and barG.closes[-1] > MA5[-1]:\n",
    "#                         sig = 1\n",
    "#                         print(\"Entry Long With Cross Over\")\n",
    "#                     elif barG.closes[-2] >= MA5[-2] and barG.closes[-1] < MA5[-1]:\n",
    "#                         sig = -1\n",
    "#                         print(\"Entry short With Cross Under\")\n",
    "#                     pre_up_shadow_line = pre_dn_shadow_line = 0\n",
    "# #                     if pre_bar:\n",
    "# #                         pre_up_shadow_line = abs(max(update_bar.open,update_bar.close) - update_bar.high)\n",
    "# #                         pre_dn_shadow_line = abs(min(update_bar.open,update_bar.close) - update_bar.low)\n",
    "                        \n",
    "#                     up_shadow_line = abs(max(update_bar.open,update_bar.close) - update_bar.high)\n",
    "#                     dn_shadow_line = abs(min(update_bar.open,update_bar.close) - update_bar.low)\n",
    "#                     real_bar = abs(max(update_bar.open-update_bar.close,mini_bar_width))\n",
    "# #                     if pre_up_shadow_line and pre_dn_shadow_line:\n",
    "# #                         if pre_up_shadow_line > pre_dn_shadow_line and upda:\n",
    "                            \n",
    "#                     if up_shadow_line / real_bar >= bar_ratio and dn_shadow_line / real_bar >= bar_ratio:\n",
    "#                         if up_shadow_line > dn_shadow_line:\n",
    "#                             sig = -1\n",
    "#                         elif up_shadow_line < dn_shadow_line:\n",
    "#                             sig = 1\n",
    "#                     elif abs(min(update_bar.open,update_bar.close) - update_bar.low) / abs(max(update_bar.open-update_bar.close,mini_bar_width)) >= bar_ratio:\n",
    "#                         sig = 1\n",
    "#                     elif abs(max(update_bar.open,update_bar.close) - update_bar.high) / abs(max(update_bar.open-update_bar.close,mini_bar_width)) >= bar_ratio:\n",
    "#                         sig = -1\n",
    "#                     pre_bar = update_bar\n",
    "#                     if update_bar.close >= mid_interval:# and gap < .01:\n",
    "#                         print(\"Entry with Cross Over mid_interval\")\n",
    "#                         print(update_bar)\n",
    "#                         sig = 1\n",
    "#                     if update_bar.close >= interval_h:\n",
    "#                         print(\"Entry with Cross Over High\")\n",
    "#                         print(update_bar)\n",
    "#                         sig = 1\n",
    "#                     elif update_bar.close <= mid_interval:# and gap < .01:\n",
    "#                         print(\"Entry with Cross Under mid_interval\")\n",
    "#                         print(update_bar)\n",
    "#                         sig = -1\n",
    "#                     elif update_bar.close <= interval_l:\n",
    "#                         print(\"Entry with Cross Under Low\")\n",
    "#                         print(update_bar)\n",
    "#                         sig = -1\n",
    "#                     if update_bar.low < interval_l and update_bar.close > interval_l and update_bar.close > update_bar.open:\n",
    "#                         print(\"Entry with Turn Over Low\")\n",
    "#                         print(update_bar)\n",
    "#                         sig = 1\n",
    "                        \n",
    "                if sig != 0:# and pos == 0:\n",
    "                    print(f\"{row.Index}, PreClose : {pre_close}, Close : {row.close}, Ask : {row.ask_price}, Bid : {row.bid_price}\")\n",
    "                    if sig > 0:\n",
    "#                         if row.ask_price >= row.close:\n",
    "                        entry  = row.ask_price\n",
    "                        stop_loss = entry - barG.lows[-2]\n",
    "                        if follow_trend:\n",
    "                            stop_loss = (entry - min(barG.lows[-ma_len:-1]))\n",
    "#                             print(en)\n",
    "                    elif sig < 0:\n",
    "#                         if row.bid_price <= row.close:\n",
    "                        entry  = row.bid_price\n",
    "                        stop_loss = -(entry - barG.highs[-2])\n",
    "                        if follow_trend:\n",
    "                            stop_loss = -(entry - max(barG.highs[-ma_len:-1]))\n",
    "                    if entry:\n",
    "                        pos = sig\n",
    "                        \n",
    "#                         stop_loss = interval_h\n",
    "#                         if sig > 0:\n",
    "#                             stop_loss = interval_l\n",
    "                        print(f'Entry : {entry}, pos : {pos} at ts : {row.Index}, Close = {row.close}, StopLoss = {stop_loss}')\n",
    "                    sig = 0\n",
    "            if sig == 0 and pos != 0:\n",
    "                if pos < 0:\n",
    "                    exit = min(row.ask_price, row.close)\n",
    "#                     min_price = min(min_price, row.close)\n",
    "                elif pos > 0:\n",
    "                    exit = max(row.bid_price, row.close)\n",
    "#                     max_price = max(max_price, row.close)\n",
    "                \n",
    "                tmp_pnl = (exit - entry) * pos\n",
    "                tmp_max_pnl = max(tmp_max_pnl, tmp_pnl)\n",
    "                tmp_min_pnl = min(tmp_min_pnl, tmp_pnl)\n",
    "                if follow_trend and 0:\n",
    "#                     if tmp_max_pnl >= takeprofit / 2:\n",
    "                    if update_bar:\n",
    "                        \n",
    "                        if pos > 0 and update_bar.close < min(barG.lows[-ma_len:-1]):\n",
    "                            sig = -pos\n",
    "                        elif pos < 0 and update_bar.close > max(barG.highs[-ma_len:-1]):\n",
    "                            sig = -pos\n",
    "#                         elif tmp_max_pnl >= takeprofit / 2:\n",
    "#                             if tmp_pnl <= tmp_max_pnl - takeprofit:\n",
    "#                                 sig = -pos\n",
    "#                         elif tmp_pnl <= -stop_loss:\n",
    "#                             sig = -pos\n",
    "                else:\n",
    "                    if tmp_pnl >= takeprofit:\n",
    "                        sig = -pos\n",
    "#                 if update_bar:\n",
    "#                     if update_bar.close >= interval_h and pos < 0:\n",
    "#                         sig = -pos\n",
    "#                     elif update_bar.close <= interval_l and pos > 0:\n",
    "#                         sig = -pos\n",
    "#                     if update_bar:\n",
    "                    if tmp_pnl <= -stop_loss:\n",
    "#     #                         if update_bar.close <= (entry - stop_loss) * pos:\n",
    "#                             print(update_bar.close, entry, stop_loss, entry - stop_loss)\n",
    "                    \n",
    "                        sig = -pos\n",
    "#                     if update_bar.close > MA5[-1] and MA5[-1] > MA5[-2]:\n",
    "#                         sig = 1\n",
    "#                     elif update_bar.close < MA5[-1] and MA5[-1] < MA5[-2]:\n",
    "#                         sig = -1\n",
    "                    if barG.closes[-2] <= MA5[-2] and barG.closes[-1] > MA5[-1] and pos < 0:\n",
    "                        sig = -pos\n",
    "                    if barG.closes[-2] >= MA5[-2] and barG.closes[-1] < MA5[-1] and pos > 0:\n",
    "                        sig = -pos\n",
    "                if sig != 0:\n",
    "                    print(f\"Max Pnl : {tmp_max_pnl}, Min Pnl : {tmp_min_pnl}\")\n",
    "                    tmp_min_pnl = tmp_max_pnl = 0\n",
    "                    print(f\"PreClose : {pre_close}, Close : {row.close}, Ask : {row.ask_price}, Bid : {row.bid_price}\")\n",
    "                    pnl = (exit - entry) * pos - 2\n",
    "                    total_pnl += pnl #- 2\n",
    "                    if pnl > 0:\n",
    "                        win_trade += 1\n",
    "                        total_win += pnl\n",
    "                    elif pnl < 0:\n",
    "                        loss_trade += 1\n",
    "                        total_loss += pnl\n",
    "                    else:\n",
    "                        zero_trade += 1\n",
    "                    print(f'Exit : {exit}, pnl : {pnl}, total_pnl : {total_pnl} at ts : {row.Index}, Close = {row.close}\\n')\n",
    "                    max_unreal = entry = exit = pos = sig = 0\n",
    "                    max_pnl = max(total_pnl, max_pnl)\n",
    "                    min_pnl = min(total_pnl, min_pnl)\n",
    "                    max_price = 0\n",
    "                    min_price = 99999\n",
    "                    tmp_max_pnl = tmp_min_pnl = 0\n",
    "                    follow_trend = False\n",
    "#                 if total_pnl > 0 or (loss_trade >= 2 and not win_trade) or (loss_trade > 2 and win_trade):\n",
    "#                 if total_pnl > 0 :#loss_trade:\n",
    "#                     end_Trade = True\n",
    "        else:\n",
    "            if not pos:continue\n",
    "            if row.Index <= row.Index.replace(hour=13, minute=30, second=0, microsecond=0):\n",
    "                if pos < 0:\n",
    "                    exit = min(row.ask_price, row.close)\n",
    "#                     min_price = min(min_price, row.close)\n",
    "                elif pos > 0:\n",
    "                    exit = max(row.bid_price, row.close)\n",
    "#                     max_price = max(max_price, row.close)\n",
    "                \n",
    "                tmp_pnl = (exit - entry) * pos\n",
    "                tmp_max_pnl = max(tmp_max_pnl, tmp_pnl)\n",
    "                tmp_min_pnl = min(tmp_min_pnl, tmp_pnl)\n",
    "                if follow_trend:\n",
    "                    if update_bar:\n",
    "                        if pos > 0 and update_bar.close < min(barG.lows[-ma_len:-1]):\n",
    "                            sig = -pos\n",
    "                        elif pos < 0 and update_bar.close > max(barG.highs[-ma_len:-1]):\n",
    "                            sig = -pos\n",
    "                else:\n",
    "                    if tmp_pnl >= takeprofit:\n",
    "                        sig = -pos\n",
    "                    if update_bar:\n",
    "                        if tmp_pnl <= -stop_loss:\n",
    "                            print(update_bar.close, entry, stop_loss, entry - stop_loss)\n",
    "                            sig = -pos\n",
    "            else:\n",
    "                if pos < 0:\n",
    "                    exit = row.ask_price\n",
    "                elif pos > 0:\n",
    "                    exit = row.bid_price\n",
    "                sig = -pos\n",
    "\n",
    "            if sig != 0:\n",
    "                pnl = (exit - entry) * pos - 2\n",
    "                total_pnl += pnl\n",
    "                if pnl > 0:\n",
    "                    win_trade += 1\n",
    "                    total_win += pnl\n",
    "                elif pnl < 0:\n",
    "                    loss_trade += 1\n",
    "                    total_loss += pnl\n",
    "                else:\n",
    "                    zero_trade += 1\n",
    "                print(f'Exit : {exit}, pnl : {pnl}, total_pnl : {total_pnl} at ts : {row.Index}, Close = {row.close}\\n')\n",
    "                max_unreal = entry = exit = pos = sig = 0\n",
    "                max_pnl = max(total_pnl, max_pnl)\n",
    "                min_pnl = min(total_pnl, min_pnl)\n",
    "                max_price = 0\n",
    "                min_price = 99999\n",
    "#                 if total_pnl > 0 or (loss_trade >= 2 and not win_trade) or (loss_trade > 2 and win_trade):\n",
    "#                 if loss_trade:\n",
    "#                     end_Trade = True\n",
    "#         print(pre_close, row.close)\n",
    "        pre_close = row.close\n",
    "#         print(pre_close, row.close, \"\\n\")\n",
    "\n",
    "    avg_win = total_win / win_trade if win_trade else 0\n",
    "    avg_loss = total_loss / loss_trade if loss_trade else 0\n",
    "    Q = avg_win / abs(avg_loss) if avg_loss else 0\n",
    "    total_trade = win_trade + loss_trade + zero_trade\n",
    "    Pw = win_trade / total_trade if total_trade else 0\n",
    "    Ev = Q * Pw - (1 - Pw)\n",
    "    Avg_PnL = total_pnl / total_trade if total_trade else 0\n",
    "    print(f\"------------Strategy Result at {row.Index.strftime('%Y-%m-%d')}------------\")\n",
    "    print(f'Total PnL : {total_pnl}')\n",
    "    print(f'Avg Win : {avg_win}')\n",
    "    print(f'Num Win : {win_trade}')\n",
    "    print(f'Avg Loss : {avg_loss}')\n",
    "    print(f'Num Loss : {loss_trade}')\n",
    "    print(f'Avg PnL : {Avg_PnL}')\n",
    "    print(f'G/L : {Q}, Pw : {Pw}, Expected Value : {Ev}')\n",
    "    print(f'Max Pnl : {max_pnl}, Min Pnl : {min_pnl}\\n')\n",
    "    print(\"===================End BackTest===================\\n\")\n",
    "\n",
    "    return (total_pnl, avg_win, win_trade, avg_loss, loss_trade, Avg_PnL, Q, Pw, Ev)"
   ]
  },
  {
   "cell_type": "code",
   "execution_count": 46,
   "metadata": {
    "ExecuteTime": {
     "end_time": "2022-03-19T06:50:23.666917Z",
     "start_time": "2022-03-19T06:50:22.705927Z"
    }
   },
   "outputs": [],
   "source": [
    "date = datetime(2022,1,24)\n",
    "df = GetPairData(api, date=date)"
   ]
  },
  {
   "cell_type": "code",
   "execution_count": 7,
   "metadata": {
    "ExecuteTime": {
     "end_time": "2022-03-19T14:31:11.702434Z",
     "start_time": "2022-03-19T14:31:11.683441Z"
    },
    "code_folding": []
   },
   "outputs": [],
   "source": [
    "def PlotKBar(api, date=datetime(2021,2,18), window=5):\n",
    "    df = GetPairData(api, date=date)\n",
    "    barG = BarGenerator(ticker=\"MXF\", window=window, date=date)\n",
    "    for row in df.itertuples():\n",
    "        tick = TickData(time=row.Index, close=row.close,volume=row.volume)\n",
    "        update_bar = barG.updateBar(tick)\n",
    "\n",
    "    bar_df = pd.DataFrame(barG.bars)\n",
    "    bar_df['MA5'] = bar_df.close.rolling(5).mean()\n",
    "\n",
    "    fig = go.Figure(data=[go.Candlestick(x=bar_df.time,\n",
    "                    open=bar_df.open,\n",
    "                    high=bar_df.high,\n",
    "                    low=bar_df.low,\n",
    "                    close=bar_df.close)])\n",
    "    fig.add_trace(\n",
    "        go.Scatter(\n",
    "            x=bar_df.time,\n",
    "            y=bar_df.MA5\n",
    "        ))\n",
    "\n",
    "    fig.show()"
   ]
  },
  {
   "cell_type": "code",
   "execution_count": 56,
   "metadata": {
    "ExecuteTime": {
     "end_time": "2022-03-19T13:53:06.997260Z",
     "start_time": "2022-03-19T13:53:05.072156Z"
    }
   },
   "outputs": [
    {
     "data": {
      "application/vnd.plotly.v1+json": {
       "config": {
        "plotlyServerURL": "https://plot.ly"
       },
       "data": [
        {
         "close": [
          15414,
          15407,
          15416,
          15430,
          15437,
          15445,
          15455,
          15481,
          15503,
          15445,
          15441,
          15439,
          15453,
          15470,
          15429,
          15393,
          15406,
          15411,
          15416,
          15428,
          15445,
          15458,
          15442,
          15450,
          15471,
          15471,
          15458,
          15460,
          15471,
          15465,
          15459,
          15457,
          15427,
          15452,
          15449,
          15439,
          15427,
          15433,
          15440,
          15440,
          15444,
          15450,
          15441,
          15429,
          15405,
          15406,
          15426,
          15413,
          15419,
          15413,
          15434,
          15461,
          15475,
          15485,
          15518,
          15523,
          15536,
          15530,
          15531,
          15537
         ],
         "high": [
          15424,
          15427,
          15422,
          15448,
          15447,
          15465,
          15458,
          15493,
          15510,
          15508,
          15457,
          15475,
          15456,
          15475,
          15471,
          15445,
          15408,
          15426,
          15417,
          15428,
          15451,
          15463,
          15461,
          15458,
          15473,
          15474,
          15469,
          15468,
          15472,
          15472,
          15467,
          15461,
          15460,
          15452,
          15458,
          15453,
          15446,
          15442,
          15449,
          15448,
          15446,
          15453,
          15452,
          15443,
          15436,
          15412,
          15427,
          15429,
          15424,
          15432,
          15434,
          15462,
          15477,
          15488,
          15519,
          15527,
          15538,
          15536,
          15537,
          15537
         ],
         "low": [
          15383,
          15403,
          15405,
          15404,
          15413,
          15433,
          15417,
          15454,
          15478,
          15442,
          15432,
          15437,
          15421,
          15439,
          15417,
          15392,
          15369,
          15395,
          15386,
          15391,
          15426,
          15445,
          15442,
          15441,
          15445,
          15458,
          15438,
          15443,
          15456,
          15451,
          15451,
          15450,
          15422,
          15426,
          15443,
          15435,
          15418,
          15419,
          15433,
          15435,
          15436,
          15443,
          15435,
          15425,
          15403,
          15390,
          15404,
          15412,
          15408,
          15407,
          15402,
          15428,
          15461,
          15463,
          15484,
          15514,
          15522,
          15518,
          15526,
          15526
         ],
         "open": [
          15424,
          15414,
          15407,
          15417,
          15429,
          15436,
          15445,
          15456,
          15480,
          15504,
          15444,
          15441,
          15439,
          15452,
          15469,
          15427,
          15395,
          15406,
          15410,
          15416,
          15426,
          15446,
          15460,
          15443,
          15448,
          15472,
          15469,
          15459,
          15459,
          15469,
          15464,
          15461,
          15456,
          15427,
          15452,
          15450,
          15440,
          15428,
          15433,
          15439,
          15440,
          15445,
          15450,
          15440,
          15430,
          15405,
          15406,
          15427,
          15412,
          15419,
          15414,
          15433,
          15461,
          15473,
          15485,
          15519,
          15524,
          15535,
          15529,
          15532
         ],
         "type": "candlestick",
         "x": [
          "2021-01-11T08:45:00.035000",
          "2021-01-11T08:50:00.115000",
          "2021-01-11T08:55:00.052000",
          "2021-01-11T09:00:00.009000",
          "2021-01-11T09:05:00.258000",
          "2021-01-11T09:10:00.023000",
          "2021-01-11T09:15:00.091000",
          "2021-01-11T09:20:00.089000",
          "2021-01-11T09:25:00.005000",
          "2021-01-11T09:30:00.091000",
          "2021-01-11T09:35:00.002000",
          "2021-01-11T09:40:00.336000",
          "2021-01-11T09:45:00.102000",
          "2021-01-11T09:50:00.138000",
          "2021-01-11T09:55:00.151000",
          "2021-01-11T10:00:00.005000",
          "2021-01-11T10:05:00.058000",
          "2021-01-11T10:10:00.081000",
          "2021-01-11T10:15:00.162000",
          "2021-01-11T10:20:00.058000",
          "2021-01-11T10:25:00.134000",
          "2021-01-11T10:30:00.170000",
          "2021-01-11T10:35:00.426000",
          "2021-01-11T10:40:00.021000",
          "2021-01-11T10:45:00.202000",
          "2021-01-11T10:50:00.344000",
          "2021-01-11T10:55:00.255000",
          "2021-01-11T11:00:00.220000",
          "2021-01-11T11:05:00.362000",
          "2021-01-11T11:10:00.054000",
          "2021-01-11T11:15:00.493000",
          "2021-01-11T11:20:00.408000",
          "2021-01-11T11:25:00.545000",
          "2021-01-11T11:30:00.199000",
          "2021-01-11T11:35:00.042000",
          "2021-01-11T11:40:01.535000",
          "2021-01-11T11:45:00.122000",
          "2021-01-11T11:50:00.216000",
          "2021-01-11T11:55:00.167000",
          "2021-01-11T12:00:00.702000",
          "2021-01-11T12:05:00.133000",
          "2021-01-11T12:10:00.961000",
          "2021-01-11T12:15:00.075000",
          "2021-01-11T12:20:00.616000",
          "2021-01-11T12:25:00.084000",
          "2021-01-11T12:30:00.059000",
          "2021-01-11T12:35:00.079000",
          "2021-01-11T12:40:00.282000",
          "2021-01-11T12:45:00.113000",
          "2021-01-11T12:50:00.604000",
          "2021-01-11T12:55:00.452000",
          "2021-01-11T13:00:00.023000",
          "2021-01-11T13:05:00.027000",
          "2021-01-11T13:10:00.191000",
          "2021-01-11T13:15:00.095000",
          "2021-01-11T13:20:00.119000",
          "2021-01-11T13:25:00.279000",
          "2021-01-11T13:30:00.001000",
          "2021-01-11T13:35:00.117000",
          "2021-01-11T13:40:00.131000"
         ]
        },
        {
         "type": "scatter",
         "x": [
          "2021-01-11T08:45:00.035000",
          "2021-01-11T08:50:00.115000",
          "2021-01-11T08:55:00.052000",
          "2021-01-11T09:00:00.009000",
          "2021-01-11T09:05:00.258000",
          "2021-01-11T09:10:00.023000",
          "2021-01-11T09:15:00.091000",
          "2021-01-11T09:20:00.089000",
          "2021-01-11T09:25:00.005000",
          "2021-01-11T09:30:00.091000",
          "2021-01-11T09:35:00.002000",
          "2021-01-11T09:40:00.336000",
          "2021-01-11T09:45:00.102000",
          "2021-01-11T09:50:00.138000",
          "2021-01-11T09:55:00.151000",
          "2021-01-11T10:00:00.005000",
          "2021-01-11T10:05:00.058000",
          "2021-01-11T10:10:00.081000",
          "2021-01-11T10:15:00.162000",
          "2021-01-11T10:20:00.058000",
          "2021-01-11T10:25:00.134000",
          "2021-01-11T10:30:00.170000",
          "2021-01-11T10:35:00.426000",
          "2021-01-11T10:40:00.021000",
          "2021-01-11T10:45:00.202000",
          "2021-01-11T10:50:00.344000",
          "2021-01-11T10:55:00.255000",
          "2021-01-11T11:00:00.220000",
          "2021-01-11T11:05:00.362000",
          "2021-01-11T11:10:00.054000",
          "2021-01-11T11:15:00.493000",
          "2021-01-11T11:20:00.408000",
          "2021-01-11T11:25:00.545000",
          "2021-01-11T11:30:00.199000",
          "2021-01-11T11:35:00.042000",
          "2021-01-11T11:40:01.535000",
          "2021-01-11T11:45:00.122000",
          "2021-01-11T11:50:00.216000",
          "2021-01-11T11:55:00.167000",
          "2021-01-11T12:00:00.702000",
          "2021-01-11T12:05:00.133000",
          "2021-01-11T12:10:00.961000",
          "2021-01-11T12:15:00.075000",
          "2021-01-11T12:20:00.616000",
          "2021-01-11T12:25:00.084000",
          "2021-01-11T12:30:00.059000",
          "2021-01-11T12:35:00.079000",
          "2021-01-11T12:40:00.282000",
          "2021-01-11T12:45:00.113000",
          "2021-01-11T12:50:00.604000",
          "2021-01-11T12:55:00.452000",
          "2021-01-11T13:00:00.023000",
          "2021-01-11T13:05:00.027000",
          "2021-01-11T13:10:00.191000",
          "2021-01-11T13:15:00.095000",
          "2021-01-11T13:20:00.119000",
          "2021-01-11T13:25:00.279000",
          "2021-01-11T13:30:00.001000",
          "2021-01-11T13:35:00.117000",
          "2021-01-11T13:40:00.131000"
         ],
         "y": [
          null,
          null,
          null,
          null,
          15420.8,
          15427,
          15436.6,
          15449.6,
          15464.2,
          15465.8,
          15465,
          15461.8,
          15456.2,
          15449.6,
          15446.4,
          15436.8,
          15430.2,
          15421.8,
          15411,
          15410.8,
          15421.2,
          15431.6,
          15437.8,
          15444.6,
          15453.2,
          15458.4,
          15458.4,
          15462,
          15466.2,
          15465,
          15462.6,
          15462.4,
          15455.8,
          15452,
          15448.8,
          15444.8,
          15438.8,
          15440,
          15437.6,
          15435.8,
          15436.8,
          15441.4,
          15443,
          15440.8,
          15433.8,
          15426.2,
          15421.4,
          15415.8,
          15413.8,
          15415.4,
          15421,
          15428,
          15440.4,
          15453.6,
          15474.6,
          15492.4,
          15507.4,
          15518.4,
          15527.6,
          15531.4
         ]
        }
       ],
       "layout": {
        "template": {
         "data": {
          "bar": [
           {
            "error_x": {
             "color": "#2a3f5f"
            },
            "error_y": {
             "color": "#2a3f5f"
            },
            "marker": {
             "line": {
              "color": "#E5ECF6",
              "width": 0.5
             }
            },
            "type": "bar"
           }
          ],
          "barpolar": [
           {
            "marker": {
             "line": {
              "color": "#E5ECF6",
              "width": 0.5
             }
            },
            "type": "barpolar"
           }
          ],
          "carpet": [
           {
            "aaxis": {
             "endlinecolor": "#2a3f5f",
             "gridcolor": "white",
             "linecolor": "white",
             "minorgridcolor": "white",
             "startlinecolor": "#2a3f5f"
            },
            "baxis": {
             "endlinecolor": "#2a3f5f",
             "gridcolor": "white",
             "linecolor": "white",
             "minorgridcolor": "white",
             "startlinecolor": "#2a3f5f"
            },
            "type": "carpet"
           }
          ],
          "choropleth": [
           {
            "colorbar": {
             "outlinewidth": 0,
             "ticks": ""
            },
            "type": "choropleth"
           }
          ],
          "contour": [
           {
            "colorbar": {
             "outlinewidth": 0,
             "ticks": ""
            },
            "colorscale": [
             [
              0,
              "#0d0887"
             ],
             [
              0.1111111111111111,
              "#46039f"
             ],
             [
              0.2222222222222222,
              "#7201a8"
             ],
             [
              0.3333333333333333,
              "#9c179e"
             ],
             [
              0.4444444444444444,
              "#bd3786"
             ],
             [
              0.5555555555555556,
              "#d8576b"
             ],
             [
              0.6666666666666666,
              "#ed7953"
             ],
             [
              0.7777777777777778,
              "#fb9f3a"
             ],
             [
              0.8888888888888888,
              "#fdca26"
             ],
             [
              1,
              "#f0f921"
             ]
            ],
            "type": "contour"
           }
          ],
          "contourcarpet": [
           {
            "colorbar": {
             "outlinewidth": 0,
             "ticks": ""
            },
            "type": "contourcarpet"
           }
          ],
          "heatmap": [
           {
            "colorbar": {
             "outlinewidth": 0,
             "ticks": ""
            },
            "colorscale": [
             [
              0,
              "#0d0887"
             ],
             [
              0.1111111111111111,
              "#46039f"
             ],
             [
              0.2222222222222222,
              "#7201a8"
             ],
             [
              0.3333333333333333,
              "#9c179e"
             ],
             [
              0.4444444444444444,
              "#bd3786"
             ],
             [
              0.5555555555555556,
              "#d8576b"
             ],
             [
              0.6666666666666666,
              "#ed7953"
             ],
             [
              0.7777777777777778,
              "#fb9f3a"
             ],
             [
              0.8888888888888888,
              "#fdca26"
             ],
             [
              1,
              "#f0f921"
             ]
            ],
            "type": "heatmap"
           }
          ],
          "heatmapgl": [
           {
            "colorbar": {
             "outlinewidth": 0,
             "ticks": ""
            },
            "colorscale": [
             [
              0,
              "#0d0887"
             ],
             [
              0.1111111111111111,
              "#46039f"
             ],
             [
              0.2222222222222222,
              "#7201a8"
             ],
             [
              0.3333333333333333,
              "#9c179e"
             ],
             [
              0.4444444444444444,
              "#bd3786"
             ],
             [
              0.5555555555555556,
              "#d8576b"
             ],
             [
              0.6666666666666666,
              "#ed7953"
             ],
             [
              0.7777777777777778,
              "#fb9f3a"
             ],
             [
              0.8888888888888888,
              "#fdca26"
             ],
             [
              1,
              "#f0f921"
             ]
            ],
            "type": "heatmapgl"
           }
          ],
          "histogram": [
           {
            "marker": {
             "colorbar": {
              "outlinewidth": 0,
              "ticks": ""
             }
            },
            "type": "histogram"
           }
          ],
          "histogram2d": [
           {
            "colorbar": {
             "outlinewidth": 0,
             "ticks": ""
            },
            "colorscale": [
             [
              0,
              "#0d0887"
             ],
             [
              0.1111111111111111,
              "#46039f"
             ],
             [
              0.2222222222222222,
              "#7201a8"
             ],
             [
              0.3333333333333333,
              "#9c179e"
             ],
             [
              0.4444444444444444,
              "#bd3786"
             ],
             [
              0.5555555555555556,
              "#d8576b"
             ],
             [
              0.6666666666666666,
              "#ed7953"
             ],
             [
              0.7777777777777778,
              "#fb9f3a"
             ],
             [
              0.8888888888888888,
              "#fdca26"
             ],
             [
              1,
              "#f0f921"
             ]
            ],
            "type": "histogram2d"
           }
          ],
          "histogram2dcontour": [
           {
            "colorbar": {
             "outlinewidth": 0,
             "ticks": ""
            },
            "colorscale": [
             [
              0,
              "#0d0887"
             ],
             [
              0.1111111111111111,
              "#46039f"
             ],
             [
              0.2222222222222222,
              "#7201a8"
             ],
             [
              0.3333333333333333,
              "#9c179e"
             ],
             [
              0.4444444444444444,
              "#bd3786"
             ],
             [
              0.5555555555555556,
              "#d8576b"
             ],
             [
              0.6666666666666666,
              "#ed7953"
             ],
             [
              0.7777777777777778,
              "#fb9f3a"
             ],
             [
              0.8888888888888888,
              "#fdca26"
             ],
             [
              1,
              "#f0f921"
             ]
            ],
            "type": "histogram2dcontour"
           }
          ],
          "mesh3d": [
           {
            "colorbar": {
             "outlinewidth": 0,
             "ticks": ""
            },
            "type": "mesh3d"
           }
          ],
          "parcoords": [
           {
            "line": {
             "colorbar": {
              "outlinewidth": 0,
              "ticks": ""
             }
            },
            "type": "parcoords"
           }
          ],
          "pie": [
           {
            "automargin": true,
            "type": "pie"
           }
          ],
          "scatter": [
           {
            "marker": {
             "colorbar": {
              "outlinewidth": 0,
              "ticks": ""
             }
            },
            "type": "scatter"
           }
          ],
          "scatter3d": [
           {
            "line": {
             "colorbar": {
              "outlinewidth": 0,
              "ticks": ""
             }
            },
            "marker": {
             "colorbar": {
              "outlinewidth": 0,
              "ticks": ""
             }
            },
            "type": "scatter3d"
           }
          ],
          "scattercarpet": [
           {
            "marker": {
             "colorbar": {
              "outlinewidth": 0,
              "ticks": ""
             }
            },
            "type": "scattercarpet"
           }
          ],
          "scattergeo": [
           {
            "marker": {
             "colorbar": {
              "outlinewidth": 0,
              "ticks": ""
             }
            },
            "type": "scattergeo"
           }
          ],
          "scattergl": [
           {
            "marker": {
             "colorbar": {
              "outlinewidth": 0,
              "ticks": ""
             }
            },
            "type": "scattergl"
           }
          ],
          "scattermapbox": [
           {
            "marker": {
             "colorbar": {
              "outlinewidth": 0,
              "ticks": ""
             }
            },
            "type": "scattermapbox"
           }
          ],
          "scatterpolar": [
           {
            "marker": {
             "colorbar": {
              "outlinewidth": 0,
              "ticks": ""
             }
            },
            "type": "scatterpolar"
           }
          ],
          "scatterpolargl": [
           {
            "marker": {
             "colorbar": {
              "outlinewidth": 0,
              "ticks": ""
             }
            },
            "type": "scatterpolargl"
           }
          ],
          "scatterternary": [
           {
            "marker": {
             "colorbar": {
              "outlinewidth": 0,
              "ticks": ""
             }
            },
            "type": "scatterternary"
           }
          ],
          "surface": [
           {
            "colorbar": {
             "outlinewidth": 0,
             "ticks": ""
            },
            "colorscale": [
             [
              0,
              "#0d0887"
             ],
             [
              0.1111111111111111,
              "#46039f"
             ],
             [
              0.2222222222222222,
              "#7201a8"
             ],
             [
              0.3333333333333333,
              "#9c179e"
             ],
             [
              0.4444444444444444,
              "#bd3786"
             ],
             [
              0.5555555555555556,
              "#d8576b"
             ],
             [
              0.6666666666666666,
              "#ed7953"
             ],
             [
              0.7777777777777778,
              "#fb9f3a"
             ],
             [
              0.8888888888888888,
              "#fdca26"
             ],
             [
              1,
              "#f0f921"
             ]
            ],
            "type": "surface"
           }
          ],
          "table": [
           {
            "cells": {
             "fill": {
              "color": "#EBF0F8"
             },
             "line": {
              "color": "white"
             }
            },
            "header": {
             "fill": {
              "color": "#C8D4E3"
             },
             "line": {
              "color": "white"
             }
            },
            "type": "table"
           }
          ]
         },
         "layout": {
          "annotationdefaults": {
           "arrowcolor": "#2a3f5f",
           "arrowhead": 0,
           "arrowwidth": 1
          },
          "coloraxis": {
           "colorbar": {
            "outlinewidth": 0,
            "ticks": ""
           }
          },
          "colorscale": {
           "diverging": [
            [
             0,
             "#8e0152"
            ],
            [
             0.1,
             "#c51b7d"
            ],
            [
             0.2,
             "#de77ae"
            ],
            [
             0.3,
             "#f1b6da"
            ],
            [
             0.4,
             "#fde0ef"
            ],
            [
             0.5,
             "#f7f7f7"
            ],
            [
             0.6,
             "#e6f5d0"
            ],
            [
             0.7,
             "#b8e186"
            ],
            [
             0.8,
             "#7fbc41"
            ],
            [
             0.9,
             "#4d9221"
            ],
            [
             1,
             "#276419"
            ]
           ],
           "sequential": [
            [
             0,
             "#0d0887"
            ],
            [
             0.1111111111111111,
             "#46039f"
            ],
            [
             0.2222222222222222,
             "#7201a8"
            ],
            [
             0.3333333333333333,
             "#9c179e"
            ],
            [
             0.4444444444444444,
             "#bd3786"
            ],
            [
             0.5555555555555556,
             "#d8576b"
            ],
            [
             0.6666666666666666,
             "#ed7953"
            ],
            [
             0.7777777777777778,
             "#fb9f3a"
            ],
            [
             0.8888888888888888,
             "#fdca26"
            ],
            [
             1,
             "#f0f921"
            ]
           ],
           "sequentialminus": [
            [
             0,
             "#0d0887"
            ],
            [
             0.1111111111111111,
             "#46039f"
            ],
            [
             0.2222222222222222,
             "#7201a8"
            ],
            [
             0.3333333333333333,
             "#9c179e"
            ],
            [
             0.4444444444444444,
             "#bd3786"
            ],
            [
             0.5555555555555556,
             "#d8576b"
            ],
            [
             0.6666666666666666,
             "#ed7953"
            ],
            [
             0.7777777777777778,
             "#fb9f3a"
            ],
            [
             0.8888888888888888,
             "#fdca26"
            ],
            [
             1,
             "#f0f921"
            ]
           ]
          },
          "colorway": [
           "#636efa",
           "#EF553B",
           "#00cc96",
           "#ab63fa",
           "#FFA15A",
           "#19d3f3",
           "#FF6692",
           "#B6E880",
           "#FF97FF",
           "#FECB52"
          ],
          "font": {
           "color": "#2a3f5f"
          },
          "geo": {
           "bgcolor": "white",
           "lakecolor": "white",
           "landcolor": "#E5ECF6",
           "showlakes": true,
           "showland": true,
           "subunitcolor": "white"
          },
          "hoverlabel": {
           "align": "left"
          },
          "hovermode": "closest",
          "mapbox": {
           "style": "light"
          },
          "paper_bgcolor": "white",
          "plot_bgcolor": "#E5ECF6",
          "polar": {
           "angularaxis": {
            "gridcolor": "white",
            "linecolor": "white",
            "ticks": ""
           },
           "bgcolor": "#E5ECF6",
           "radialaxis": {
            "gridcolor": "white",
            "linecolor": "white",
            "ticks": ""
           }
          },
          "scene": {
           "xaxis": {
            "backgroundcolor": "#E5ECF6",
            "gridcolor": "white",
            "gridwidth": 2,
            "linecolor": "white",
            "showbackground": true,
            "ticks": "",
            "zerolinecolor": "white"
           },
           "yaxis": {
            "backgroundcolor": "#E5ECF6",
            "gridcolor": "white",
            "gridwidth": 2,
            "linecolor": "white",
            "showbackground": true,
            "ticks": "",
            "zerolinecolor": "white"
           },
           "zaxis": {
            "backgroundcolor": "#E5ECF6",
            "gridcolor": "white",
            "gridwidth": 2,
            "linecolor": "white",
            "showbackground": true,
            "ticks": "",
            "zerolinecolor": "white"
           }
          },
          "shapedefaults": {
           "line": {
            "color": "#2a3f5f"
           }
          },
          "ternary": {
           "aaxis": {
            "gridcolor": "white",
            "linecolor": "white",
            "ticks": ""
           },
           "baxis": {
            "gridcolor": "white",
            "linecolor": "white",
            "ticks": ""
           },
           "bgcolor": "#E5ECF6",
           "caxis": {
            "gridcolor": "white",
            "linecolor": "white",
            "ticks": ""
           }
          },
          "title": {
           "x": 0.05
          },
          "xaxis": {
           "automargin": true,
           "gridcolor": "white",
           "linecolor": "white",
           "ticks": "",
           "title": {
            "standoff": 15
           },
           "zerolinecolor": "white",
           "zerolinewidth": 2
          },
          "yaxis": {
           "automargin": true,
           "gridcolor": "white",
           "linecolor": "white",
           "ticks": "",
           "title": {
            "standoff": 15
           },
           "zerolinecolor": "white",
           "zerolinewidth": 2
          }
         }
        }
       }
      },
      "text/html": [
       "<div>\n",
       "        \n",
       "        \n",
       "            <div id=\"cdda5081-8bcc-4e4f-b38c-6fb7f4f1e574\" class=\"plotly-graph-div\" style=\"height:525px; width:100%;\"></div>\n",
       "            <script type=\"text/javascript\">\n",
       "                require([\"plotly\"], function(Plotly) {\n",
       "                    window.PLOTLYENV=window.PLOTLYENV || {};\n",
       "                    \n",
       "                if (document.getElementById(\"cdda5081-8bcc-4e4f-b38c-6fb7f4f1e574\")) {\n",
       "                    Plotly.newPlot(\n",
       "                        'cdda5081-8bcc-4e4f-b38c-6fb7f4f1e574',\n",
       "                        [{\"close\": [15414.0, 15407.0, 15416.0, 15430.0, 15437.0, 15445.0, 15455.0, 15481.0, 15503.0, 15445.0, 15441.0, 15439.0, 15453.0, 15470.0, 15429.0, 15393.0, 15406.0, 15411.0, 15416.0, 15428.0, 15445.0, 15458.0, 15442.0, 15450.0, 15471.0, 15471.0, 15458.0, 15460.0, 15471.0, 15465.0, 15459.0, 15457.0, 15427.0, 15452.0, 15449.0, 15439.0, 15427.0, 15433.0, 15440.0, 15440.0, 15444.0, 15450.0, 15441.0, 15429.0, 15405.0, 15406.0, 15426.0, 15413.0, 15419.0, 15413.0, 15434.0, 15461.0, 15475.0, 15485.0, 15518.0, 15523.0, 15536.0, 15530.0, 15531.0, 15537.0], \"high\": [15424.0, 15427.0, 15422.0, 15448.0, 15447.0, 15465.0, 15458.0, 15493.0, 15510.0, 15508.0, 15457.0, 15475.0, 15456.0, 15475.0, 15471.0, 15445.0, 15408.0, 15426.0, 15417.0, 15428.0, 15451.0, 15463.0, 15461.0, 15458.0, 15473.0, 15474.0, 15469.0, 15468.0, 15472.0, 15472.0, 15467.0, 15461.0, 15460.0, 15452.0, 15458.0, 15453.0, 15446.0, 15442.0, 15449.0, 15448.0, 15446.0, 15453.0, 15452.0, 15443.0, 15436.0, 15412.0, 15427.0, 15429.0, 15424.0, 15432.0, 15434.0, 15462.0, 15477.0, 15488.0, 15519.0, 15527.0, 15538.0, 15536.0, 15537.0, 15537.0], \"low\": [15383.0, 15403.0, 15405.0, 15404.0, 15413.0, 15433.0, 15417.0, 15454.0, 15478.0, 15442.0, 15432.0, 15437.0, 15421.0, 15439.0, 15417.0, 15392.0, 15369.0, 15395.0, 15386.0, 15391.0, 15426.0, 15445.0, 15442.0, 15441.0, 15445.0, 15458.0, 15438.0, 15443.0, 15456.0, 15451.0, 15451.0, 15450.0, 15422.0, 15426.0, 15443.0, 15435.0, 15418.0, 15419.0, 15433.0, 15435.0, 15436.0, 15443.0, 15435.0, 15425.0, 15403.0, 15390.0, 15404.0, 15412.0, 15408.0, 15407.0, 15402.0, 15428.0, 15461.0, 15463.0, 15484.0, 15514.0, 15522.0, 15518.0, 15526.0, 15526.0], \"open\": [15424.0, 15414.0, 15407.0, 15417.0, 15429.0, 15436.0, 15445.0, 15456.0, 15480.0, 15504.0, 15444.0, 15441.0, 15439.0, 15452.0, 15469.0, 15427.0, 15395.0, 15406.0, 15410.0, 15416.0, 15426.0, 15446.0, 15460.0, 15443.0, 15448.0, 15472.0, 15469.0, 15459.0, 15459.0, 15469.0, 15464.0, 15461.0, 15456.0, 15427.0, 15452.0, 15450.0, 15440.0, 15428.0, 15433.0, 15439.0, 15440.0, 15445.0, 15450.0, 15440.0, 15430.0, 15405.0, 15406.0, 15427.0, 15412.0, 15419.0, 15414.0, 15433.0, 15461.0, 15473.0, 15485.0, 15519.0, 15524.0, 15535.0, 15529.0, 15532.0], \"type\": \"candlestick\", \"x\": [\"2021-01-11T08:45:00.035000\", \"2021-01-11T08:50:00.115000\", \"2021-01-11T08:55:00.052000\", \"2021-01-11T09:00:00.009000\", \"2021-01-11T09:05:00.258000\", \"2021-01-11T09:10:00.023000\", \"2021-01-11T09:15:00.091000\", \"2021-01-11T09:20:00.089000\", \"2021-01-11T09:25:00.005000\", \"2021-01-11T09:30:00.091000\", \"2021-01-11T09:35:00.002000\", \"2021-01-11T09:40:00.336000\", \"2021-01-11T09:45:00.102000\", \"2021-01-11T09:50:00.138000\", \"2021-01-11T09:55:00.151000\", \"2021-01-11T10:00:00.005000\", \"2021-01-11T10:05:00.058000\", \"2021-01-11T10:10:00.081000\", \"2021-01-11T10:15:00.162000\", \"2021-01-11T10:20:00.058000\", \"2021-01-11T10:25:00.134000\", \"2021-01-11T10:30:00.170000\", \"2021-01-11T10:35:00.426000\", \"2021-01-11T10:40:00.021000\", \"2021-01-11T10:45:00.202000\", \"2021-01-11T10:50:00.344000\", \"2021-01-11T10:55:00.255000\", \"2021-01-11T11:00:00.220000\", \"2021-01-11T11:05:00.362000\", \"2021-01-11T11:10:00.054000\", \"2021-01-11T11:15:00.493000\", \"2021-01-11T11:20:00.408000\", \"2021-01-11T11:25:00.545000\", \"2021-01-11T11:30:00.199000\", \"2021-01-11T11:35:00.042000\", \"2021-01-11T11:40:01.535000\", \"2021-01-11T11:45:00.122000\", \"2021-01-11T11:50:00.216000\", \"2021-01-11T11:55:00.167000\", \"2021-01-11T12:00:00.702000\", \"2021-01-11T12:05:00.133000\", \"2021-01-11T12:10:00.961000\", \"2021-01-11T12:15:00.075000\", \"2021-01-11T12:20:00.616000\", \"2021-01-11T12:25:00.084000\", \"2021-01-11T12:30:00.059000\", \"2021-01-11T12:35:00.079000\", \"2021-01-11T12:40:00.282000\", \"2021-01-11T12:45:00.113000\", \"2021-01-11T12:50:00.604000\", \"2021-01-11T12:55:00.452000\", \"2021-01-11T13:00:00.023000\", \"2021-01-11T13:05:00.027000\", \"2021-01-11T13:10:00.191000\", \"2021-01-11T13:15:00.095000\", \"2021-01-11T13:20:00.119000\", \"2021-01-11T13:25:00.279000\", \"2021-01-11T13:30:00.001000\", \"2021-01-11T13:35:00.117000\", \"2021-01-11T13:40:00.131000\"]}, {\"type\": \"scatter\", \"x\": [\"2021-01-11T08:45:00.035000\", \"2021-01-11T08:50:00.115000\", \"2021-01-11T08:55:00.052000\", \"2021-01-11T09:00:00.009000\", \"2021-01-11T09:05:00.258000\", \"2021-01-11T09:10:00.023000\", \"2021-01-11T09:15:00.091000\", \"2021-01-11T09:20:00.089000\", \"2021-01-11T09:25:00.005000\", \"2021-01-11T09:30:00.091000\", \"2021-01-11T09:35:00.002000\", \"2021-01-11T09:40:00.336000\", \"2021-01-11T09:45:00.102000\", \"2021-01-11T09:50:00.138000\", \"2021-01-11T09:55:00.151000\", \"2021-01-11T10:00:00.005000\", \"2021-01-11T10:05:00.058000\", \"2021-01-11T10:10:00.081000\", \"2021-01-11T10:15:00.162000\", \"2021-01-11T10:20:00.058000\", \"2021-01-11T10:25:00.134000\", \"2021-01-11T10:30:00.170000\", \"2021-01-11T10:35:00.426000\", \"2021-01-11T10:40:00.021000\", \"2021-01-11T10:45:00.202000\", \"2021-01-11T10:50:00.344000\", \"2021-01-11T10:55:00.255000\", \"2021-01-11T11:00:00.220000\", \"2021-01-11T11:05:00.362000\", \"2021-01-11T11:10:00.054000\", \"2021-01-11T11:15:00.493000\", \"2021-01-11T11:20:00.408000\", \"2021-01-11T11:25:00.545000\", \"2021-01-11T11:30:00.199000\", \"2021-01-11T11:35:00.042000\", \"2021-01-11T11:40:01.535000\", \"2021-01-11T11:45:00.122000\", \"2021-01-11T11:50:00.216000\", \"2021-01-11T11:55:00.167000\", \"2021-01-11T12:00:00.702000\", \"2021-01-11T12:05:00.133000\", \"2021-01-11T12:10:00.961000\", \"2021-01-11T12:15:00.075000\", \"2021-01-11T12:20:00.616000\", \"2021-01-11T12:25:00.084000\", \"2021-01-11T12:30:00.059000\", \"2021-01-11T12:35:00.079000\", \"2021-01-11T12:40:00.282000\", \"2021-01-11T12:45:00.113000\", \"2021-01-11T12:50:00.604000\", \"2021-01-11T12:55:00.452000\", \"2021-01-11T13:00:00.023000\", \"2021-01-11T13:05:00.027000\", \"2021-01-11T13:10:00.191000\", \"2021-01-11T13:15:00.095000\", \"2021-01-11T13:20:00.119000\", \"2021-01-11T13:25:00.279000\", \"2021-01-11T13:30:00.001000\", \"2021-01-11T13:35:00.117000\", \"2021-01-11T13:40:00.131000\"], \"y\": [null, null, null, null, 15420.8, 15427.0, 15436.6, 15449.6, 15464.2, 15465.8, 15465.0, 15461.8, 15456.2, 15449.6, 15446.4, 15436.8, 15430.2, 15421.8, 15411.0, 15410.8, 15421.2, 15431.6, 15437.8, 15444.6, 15453.2, 15458.4, 15458.4, 15462.0, 15466.2, 15465.0, 15462.6, 15462.4, 15455.8, 15452.0, 15448.8, 15444.8, 15438.8, 15440.0, 15437.6, 15435.8, 15436.8, 15441.4, 15443.0, 15440.8, 15433.8, 15426.2, 15421.4, 15415.8, 15413.8, 15415.4, 15421.0, 15428.0, 15440.4, 15453.6, 15474.6, 15492.4, 15507.4, 15518.4, 15527.6, 15531.4]}],\n",
       "                        {\"template\": {\"data\": {\"bar\": [{\"error_x\": {\"color\": \"#2a3f5f\"}, \"error_y\": {\"color\": \"#2a3f5f\"}, \"marker\": {\"line\": {\"color\": \"#E5ECF6\", \"width\": 0.5}}, \"type\": \"bar\"}], \"barpolar\": [{\"marker\": {\"line\": {\"color\": \"#E5ECF6\", \"width\": 0.5}}, \"type\": \"barpolar\"}], \"carpet\": [{\"aaxis\": {\"endlinecolor\": \"#2a3f5f\", \"gridcolor\": \"white\", \"linecolor\": \"white\", \"minorgridcolor\": \"white\", \"startlinecolor\": \"#2a3f5f\"}, \"baxis\": {\"endlinecolor\": \"#2a3f5f\", \"gridcolor\": \"white\", \"linecolor\": \"white\", \"minorgridcolor\": \"white\", \"startlinecolor\": \"#2a3f5f\"}, \"type\": \"carpet\"}], \"choropleth\": [{\"colorbar\": {\"outlinewidth\": 0, \"ticks\": \"\"}, \"type\": \"choropleth\"}], \"contour\": [{\"colorbar\": {\"outlinewidth\": 0, \"ticks\": \"\"}, \"colorscale\": [[0.0, \"#0d0887\"], [0.1111111111111111, \"#46039f\"], [0.2222222222222222, \"#7201a8\"], [0.3333333333333333, \"#9c179e\"], [0.4444444444444444, \"#bd3786\"], [0.5555555555555556, \"#d8576b\"], [0.6666666666666666, \"#ed7953\"], [0.7777777777777778, \"#fb9f3a\"], [0.8888888888888888, \"#fdca26\"], [1.0, \"#f0f921\"]], \"type\": \"contour\"}], \"contourcarpet\": [{\"colorbar\": {\"outlinewidth\": 0, \"ticks\": \"\"}, \"type\": \"contourcarpet\"}], \"heatmap\": [{\"colorbar\": {\"outlinewidth\": 0, \"ticks\": \"\"}, \"colorscale\": [[0.0, \"#0d0887\"], [0.1111111111111111, \"#46039f\"], [0.2222222222222222, \"#7201a8\"], [0.3333333333333333, \"#9c179e\"], [0.4444444444444444, \"#bd3786\"], [0.5555555555555556, \"#d8576b\"], [0.6666666666666666, \"#ed7953\"], [0.7777777777777778, \"#fb9f3a\"], [0.8888888888888888, \"#fdca26\"], [1.0, \"#f0f921\"]], \"type\": \"heatmap\"}], \"heatmapgl\": [{\"colorbar\": {\"outlinewidth\": 0, \"ticks\": \"\"}, \"colorscale\": [[0.0, \"#0d0887\"], [0.1111111111111111, \"#46039f\"], [0.2222222222222222, \"#7201a8\"], [0.3333333333333333, \"#9c179e\"], [0.4444444444444444, \"#bd3786\"], [0.5555555555555556, \"#d8576b\"], [0.6666666666666666, \"#ed7953\"], [0.7777777777777778, \"#fb9f3a\"], [0.8888888888888888, \"#fdca26\"], [1.0, \"#f0f921\"]], \"type\": \"heatmapgl\"}], \"histogram\": [{\"marker\": {\"colorbar\": {\"outlinewidth\": 0, \"ticks\": \"\"}}, \"type\": \"histogram\"}], \"histogram2d\": [{\"colorbar\": {\"outlinewidth\": 0, \"ticks\": \"\"}, \"colorscale\": [[0.0, \"#0d0887\"], [0.1111111111111111, \"#46039f\"], [0.2222222222222222, \"#7201a8\"], [0.3333333333333333, \"#9c179e\"], [0.4444444444444444, \"#bd3786\"], [0.5555555555555556, \"#d8576b\"], [0.6666666666666666, \"#ed7953\"], [0.7777777777777778, \"#fb9f3a\"], [0.8888888888888888, \"#fdca26\"], [1.0, \"#f0f921\"]], \"type\": \"histogram2d\"}], \"histogram2dcontour\": [{\"colorbar\": {\"outlinewidth\": 0, \"ticks\": \"\"}, \"colorscale\": [[0.0, \"#0d0887\"], [0.1111111111111111, \"#46039f\"], [0.2222222222222222, \"#7201a8\"], [0.3333333333333333, \"#9c179e\"], [0.4444444444444444, \"#bd3786\"], [0.5555555555555556, \"#d8576b\"], [0.6666666666666666, \"#ed7953\"], [0.7777777777777778, \"#fb9f3a\"], [0.8888888888888888, \"#fdca26\"], [1.0, \"#f0f921\"]], \"type\": \"histogram2dcontour\"}], \"mesh3d\": [{\"colorbar\": {\"outlinewidth\": 0, \"ticks\": \"\"}, \"type\": \"mesh3d\"}], \"parcoords\": [{\"line\": {\"colorbar\": {\"outlinewidth\": 0, \"ticks\": \"\"}}, \"type\": \"parcoords\"}], \"pie\": [{\"automargin\": true, \"type\": \"pie\"}], \"scatter\": [{\"marker\": {\"colorbar\": {\"outlinewidth\": 0, \"ticks\": \"\"}}, \"type\": \"scatter\"}], \"scatter3d\": [{\"line\": {\"colorbar\": {\"outlinewidth\": 0, \"ticks\": \"\"}}, \"marker\": {\"colorbar\": {\"outlinewidth\": 0, \"ticks\": \"\"}}, \"type\": \"scatter3d\"}], \"scattercarpet\": [{\"marker\": {\"colorbar\": {\"outlinewidth\": 0, \"ticks\": \"\"}}, \"type\": \"scattercarpet\"}], \"scattergeo\": [{\"marker\": {\"colorbar\": {\"outlinewidth\": 0, \"ticks\": \"\"}}, \"type\": \"scattergeo\"}], \"scattergl\": [{\"marker\": {\"colorbar\": {\"outlinewidth\": 0, \"ticks\": \"\"}}, \"type\": \"scattergl\"}], \"scattermapbox\": [{\"marker\": {\"colorbar\": {\"outlinewidth\": 0, \"ticks\": \"\"}}, \"type\": \"scattermapbox\"}], \"scatterpolar\": [{\"marker\": {\"colorbar\": {\"outlinewidth\": 0, \"ticks\": \"\"}}, \"type\": \"scatterpolar\"}], \"scatterpolargl\": [{\"marker\": {\"colorbar\": {\"outlinewidth\": 0, \"ticks\": \"\"}}, \"type\": \"scatterpolargl\"}], \"scatterternary\": [{\"marker\": {\"colorbar\": {\"outlinewidth\": 0, \"ticks\": \"\"}}, \"type\": \"scatterternary\"}], \"surface\": [{\"colorbar\": {\"outlinewidth\": 0, \"ticks\": \"\"}, \"colorscale\": [[0.0, \"#0d0887\"], [0.1111111111111111, \"#46039f\"], [0.2222222222222222, \"#7201a8\"], [0.3333333333333333, \"#9c179e\"], [0.4444444444444444, \"#bd3786\"], [0.5555555555555556, \"#d8576b\"], [0.6666666666666666, \"#ed7953\"], [0.7777777777777778, \"#fb9f3a\"], [0.8888888888888888, \"#fdca26\"], [1.0, \"#f0f921\"]], \"type\": \"surface\"}], \"table\": [{\"cells\": {\"fill\": {\"color\": \"#EBF0F8\"}, \"line\": {\"color\": \"white\"}}, \"header\": {\"fill\": {\"color\": \"#C8D4E3\"}, \"line\": {\"color\": \"white\"}}, \"type\": \"table\"}]}, \"layout\": {\"annotationdefaults\": {\"arrowcolor\": \"#2a3f5f\", \"arrowhead\": 0, \"arrowwidth\": 1}, \"coloraxis\": {\"colorbar\": {\"outlinewidth\": 0, \"ticks\": \"\"}}, \"colorscale\": {\"diverging\": [[0, \"#8e0152\"], [0.1, \"#c51b7d\"], [0.2, \"#de77ae\"], [0.3, \"#f1b6da\"], [0.4, \"#fde0ef\"], [0.5, \"#f7f7f7\"], [0.6, \"#e6f5d0\"], [0.7, \"#b8e186\"], [0.8, \"#7fbc41\"], [0.9, \"#4d9221\"], [1, \"#276419\"]], \"sequential\": [[0.0, \"#0d0887\"], [0.1111111111111111, \"#46039f\"], [0.2222222222222222, \"#7201a8\"], [0.3333333333333333, \"#9c179e\"], [0.4444444444444444, \"#bd3786\"], [0.5555555555555556, \"#d8576b\"], [0.6666666666666666, \"#ed7953\"], [0.7777777777777778, \"#fb9f3a\"], [0.8888888888888888, \"#fdca26\"], [1.0, \"#f0f921\"]], \"sequentialminus\": [[0.0, \"#0d0887\"], [0.1111111111111111, \"#46039f\"], [0.2222222222222222, \"#7201a8\"], [0.3333333333333333, \"#9c179e\"], [0.4444444444444444, \"#bd3786\"], [0.5555555555555556, \"#d8576b\"], [0.6666666666666666, \"#ed7953\"], [0.7777777777777778, \"#fb9f3a\"], [0.8888888888888888, \"#fdca26\"], [1.0, \"#f0f921\"]]}, \"colorway\": [\"#636efa\", \"#EF553B\", \"#00cc96\", \"#ab63fa\", \"#FFA15A\", \"#19d3f3\", \"#FF6692\", \"#B6E880\", \"#FF97FF\", \"#FECB52\"], \"font\": {\"color\": \"#2a3f5f\"}, \"geo\": {\"bgcolor\": \"white\", \"lakecolor\": \"white\", \"landcolor\": \"#E5ECF6\", \"showlakes\": true, \"showland\": true, \"subunitcolor\": \"white\"}, \"hoverlabel\": {\"align\": \"left\"}, \"hovermode\": \"closest\", \"mapbox\": {\"style\": \"light\"}, \"paper_bgcolor\": \"white\", \"plot_bgcolor\": \"#E5ECF6\", \"polar\": {\"angularaxis\": {\"gridcolor\": \"white\", \"linecolor\": \"white\", \"ticks\": \"\"}, \"bgcolor\": \"#E5ECF6\", \"radialaxis\": {\"gridcolor\": \"white\", \"linecolor\": \"white\", \"ticks\": \"\"}}, \"scene\": {\"xaxis\": {\"backgroundcolor\": \"#E5ECF6\", \"gridcolor\": \"white\", \"gridwidth\": 2, \"linecolor\": \"white\", \"showbackground\": true, \"ticks\": \"\", \"zerolinecolor\": \"white\"}, \"yaxis\": {\"backgroundcolor\": \"#E5ECF6\", \"gridcolor\": \"white\", \"gridwidth\": 2, \"linecolor\": \"white\", \"showbackground\": true, \"ticks\": \"\", \"zerolinecolor\": \"white\"}, \"zaxis\": {\"backgroundcolor\": \"#E5ECF6\", \"gridcolor\": \"white\", \"gridwidth\": 2, \"linecolor\": \"white\", \"showbackground\": true, \"ticks\": \"\", \"zerolinecolor\": \"white\"}}, \"shapedefaults\": {\"line\": {\"color\": \"#2a3f5f\"}}, \"ternary\": {\"aaxis\": {\"gridcolor\": \"white\", \"linecolor\": \"white\", \"ticks\": \"\"}, \"baxis\": {\"gridcolor\": \"white\", \"linecolor\": \"white\", \"ticks\": \"\"}, \"bgcolor\": \"#E5ECF6\", \"caxis\": {\"gridcolor\": \"white\", \"linecolor\": \"white\", \"ticks\": \"\"}}, \"title\": {\"x\": 0.05}, \"xaxis\": {\"automargin\": true, \"gridcolor\": \"white\", \"linecolor\": \"white\", \"ticks\": \"\", \"title\": {\"standoff\": 15}, \"zerolinecolor\": \"white\", \"zerolinewidth\": 2}, \"yaxis\": {\"automargin\": true, \"gridcolor\": \"white\", \"linecolor\": \"white\", \"ticks\": \"\", \"title\": {\"standoff\": 15}, \"zerolinecolor\": \"white\", \"zerolinewidth\": 2}}}},\n",
       "                        {\"responsive\": true}\n",
       "                    ).then(function(){\n",
       "                            \n",
       "var gd = document.getElementById('cdda5081-8bcc-4e4f-b38c-6fb7f4f1e574');\n",
       "var x = new MutationObserver(function (mutations, observer) {{\n",
       "        var display = window.getComputedStyle(gd).display;\n",
       "        if (!display || display === 'none') {{\n",
       "            console.log([gd, 'removed!']);\n",
       "            Plotly.purge(gd);\n",
       "            observer.disconnect();\n",
       "        }}\n",
       "}});\n",
       "\n",
       "// Listen for the removal of the full notebook cells\n",
       "var notebookContainer = gd.closest('#notebook-container');\n",
       "if (notebookContainer) {{\n",
       "    x.observe(notebookContainer, {childList: true});\n",
       "}}\n",
       "\n",
       "// Listen for the clearing of the current output cell\n",
       "var outputEl = gd.closest('.output');\n",
       "if (outputEl) {{\n",
       "    x.observe(outputEl, {childList: true});\n",
       "}}\n",
       "\n",
       "                        })\n",
       "                };\n",
       "                });\n",
       "            </script>\n",
       "        </div>"
      ]
     },
     "metadata": {},
     "output_type": "display_data"
    }
   ],
   "source": [
    "PlotKBar(api, datetime(2021,1,5), window=5)"
   ]
  },
  {
   "cell_type": "code",
   "execution_count": 81,
   "metadata": {
    "ExecuteTime": {
     "end_time": "2022-03-21T10:45:21.089380Z",
     "start_time": "2022-03-21T10:45:18.563192Z"
    },
    "scrolled": true
   },
   "outputs": [
    {
     "name": "stdout",
     "output_type": "stream",
     "text": [
      "2021-01-11 09:35:00.002000, PreClose : 15445.0, Close : 15444.0, Ask : 15447.0, Bid : 15445.0\n",
      "Entry : 15445.0, pos : -1 at ts : 2021-01-11 09:35:00.002000, Close = 15444.0, StopLoss = 65.0\n",
      "Max Pnl : 5.0, Min Pnl : -1.0\n",
      "PreClose : 15441.0, Close : 15440.0, Ask : 15442.0, Bid : 15441.0\n",
      "Exit : 15440.0, pnl : 3.0, total_pnl : 3.0 at ts : 2021-01-11 09:35:02.017000, Close = 15440.0\n",
      "\n",
      "2021-01-11 09:50:00.138000, PreClose : 15453.0, Close : 15452.0, Ask : 15454.0, Bid : 15452.0\n",
      "Entry : 15454.0, pos : 1 at ts : 2021-01-11 09:50:00.138000, Close = 15452.0, StopLoss = 17.0\n",
      "Max Pnl : 5.0, Min Pnl : -15.0\n",
      "PreClose : 15458.0, Close : 15459.0, Ask : 15459.0, Bid : 15457.0\n",
      "Exit : 15459.0, pnl : 3.0, total_pnl : 6.0 at ts : 2021-01-11 09:50:31.474000, Close = 15459.0\n",
      "\n",
      "2021-01-11 10:00:00.005000, PreClose : 15429.0, Close : 15427.0, Ask : 15428.0, Bid : 15427.0\n",
      "Entry : 15427.0, pos : -1 at ts : 2021-01-11 10:00:00.005000, Close = 15427.0, StopLoss = 48.0\n",
      "Max Pnl : 5.0, Min Pnl : -17.0\n",
      "PreClose : 15423.0, Close : 15422.0, Ask : 15424.0, Bid : 15423.0\n",
      "Exit : 15422.0, pnl : 3.0, total_pnl : 9.0 at ts : 2021-01-11 10:01:12.641000, Close = 15422.0\n",
      "\n",
      "2021-01-11 10:10:00.081000, PreClose : 15406.0, Close : 15406.0, Ask : 15406.0, Bid : 15404.0\n",
      "Entry : 15406.0, pos : 1 at ts : 2021-01-11 10:10:00.081000, Close = 15406.0, StopLoss = 14.0\n",
      "Max Pnl : 5.0, Min Pnl : -3.0\n",
      "PreClose : 15410.0, Close : 15411.0, Ask : 15410.0, Bid : 15408.0\n",
      "Exit : 15411.0, pnl : 3.0, total_pnl : 12.0 at ts : 2021-01-11 10:10:08.036000, Close = 15411.0\n",
      "\n",
      "2021-01-11 10:40:00.021000, PreClose : 15442.0, Close : 15443.0, Ask : 15444.0, Bid : 15442.0\n",
      "Entry : 15442.0, pos : -1 at ts : 2021-01-11 10:40:00.021000, Close = 15443.0, StopLoss = 21.0\n",
      "Max Pnl : 1.0, Min Pnl : -21.0\n",
      "PreClose : 15462.0, Close : 15463.0, Ask : 15463.0, Bid : 15462.0\n",
      "Exit : 15463.0, pnl : -23.0, total_pnl : -11.0 at ts : 2021-01-11 10:47:56.702000, Close = 15463.0\n",
      "\n",
      "2021-01-11 10:55:00.255000, PreClose : 15471.0, Close : 15469.0, Ask : 15469.0, Bid : 15468.0\n",
      "Entry : 15468.0, pos : -1 at ts : 2021-01-11 10:55:00.255000, Close = 15469.0, StopLoss = 5.0\n",
      "Max Pnl : 5.0, Min Pnl : -1.0\n",
      "PreClose : 15464.0, Close : 15463.0, Ask : 15465.0, Bid : 15463.0\n",
      "Exit : 15463.0, pnl : 3.0, total_pnl : -8.0 at ts : 2021-01-11 10:55:02.656000, Close = 15463.0\n",
      "\n",
      "2021-01-11 11:05:00.362000, PreClose : 15460.0, Close : 15459.0, Ask : 15459.0, Bid : 15458.0\n",
      "Entry : 15459.0, pos : 1 at ts : 2021-01-11 11:05:00.362000, Close = 15459.0, StopLoss = 21.0\n",
      "Max Pnl : 5.0, Min Pnl : -2.0\n",
      "PreClose : 15463.0, Close : 15464.0, Ask : 15464.0, Bid : 15462.0\n",
      "Exit : 15464.0, pnl : 3.0, total_pnl : -5.0 at ts : 2021-01-11 11:05:08.680000, Close = 15464.0\n",
      "\n",
      "2021-01-11 11:15:00.493000, PreClose : 15465.0, Close : 15464.0, Ask : 15465.0, Bid : 15464.0\n",
      "Entry : 15464.0, pos : -1 at ts : 2021-01-11 11:15:00.493000, Close = 15464.0, StopLoss = 8.0\n",
      "Max Pnl : 5.0, Min Pnl : -3.0\n",
      "PreClose : 15460.0, Close : 15459.0, Ask : 15461.0, Bid : 15460.0\n",
      "Exit : 15459.0, pnl : 3.0, total_pnl : -2.0 at ts : 2021-01-11 11:15:31.227000, Close = 15459.0\n",
      "\n",
      "2021-01-11 11:35:00.042000, PreClose : 15452.0, Close : 15452.0, Ask : 15452.0, Bid : 15451.0\n",
      "Entry : 15452.0, pos : 1 at ts : 2021-01-11 11:35:00.042000, Close = 15452.0, StopLoss = 30.0\n",
      "Max Pnl : 5.0, Min Pnl : -1.0\n",
      "PreClose : 15456.0, Close : 15457.0, Ask : 15457.0, Bid : 15455.0\n",
      "Exit : 15457.0, pnl : 3.0, total_pnl : 1.0 at ts : 2021-01-11 11:35:17.709000, Close = 15457.0\n",
      "\n",
      "2021-01-11 11:40:01.535000, PreClose : 15449.0, Close : 15450.0, Ask : 15449.0, Bid : 15447.0\n",
      "Entry : 15447.0, pos : -1 at ts : 2021-01-11 11:40:01.535000, Close = 15450.0, StopLoss = 5.0\n",
      "Max Pnl : 5.0, Min Pnl : -2.0\n",
      "PreClose : 15443.0, Close : 15442.0, Ask : 15449.0, Bid : 15447.0\n",
      "Exit : 15442.0, pnl : 3.0, total_pnl : 4.0 at ts : 2021-01-11 11:42:18.657000, Close = 15442.0\n",
      "\n",
      "2021-01-11 11:55:00.167000, PreClose : 15433.0, Close : 15433.0, Ask : 15449.0, Bid : 15447.0\n",
      "Entry : 15449.0, pos : 1 at ts : 2021-01-11 11:55:00.167000, Close = 15433.0, StopLoss = 31.0\n",
      "Max Pnl : 4.0, Min Pnl : -2.0\n",
      "PreClose : 15441.0, Close : 15440.0, Ask : 15449.0, Bid : 15447.0\n",
      "Exit : 15447.0, pnl : -4.0, total_pnl : 0.0 at ts : 2021-01-11 12:20:00.616000, Close = 15440.0\n",
      "\n",
      "2021-01-11 12:35:00.079000, PreClose : 15406.0, Close : 15406.0, Ask : 15449.0, Bid : 15447.0\n",
      "Entry : 15449.0, pos : 1 at ts : 2021-01-11 12:35:00.079000, Close = 15406.0, StopLoss = 46.0\n",
      "Max Pnl : 0, Min Pnl : -2.0\n",
      "PreClose : 15413.0, Close : 15412.0, Ask : 15449.0, Bid : 15447.0\n",
      "Exit : 15447.0, pnl : -4.0, total_pnl : -4.0 at ts : 2021-01-11 12:45:00.113000, Close = 15412.0\n",
      "\n",
      "2021-01-11 12:50:00.604000, PreClose : 15419.0, Close : 15419.0, Ask : 15449.0, Bid : 15447.0\n",
      "Entry : 15449.0, pos : 1 at ts : 2021-01-11 12:50:00.604000, Close = 15419.0, StopLoss = 37.0\n",
      "Exit : 15454.0, pnl : 3.0, total_pnl : -1.0 at ts : 2021-01-11 13:03:46.571000, Close = 15454.0\n",
      "\n",
      "------------Strategy Result at 2021-01-11------------\n",
      "Total PnL : -1.0\n",
      "Avg Win : 3.0\n",
      "Num Win : 10\n",
      "Avg Loss : -10.333333333333334\n",
      "Num Loss : 3\n",
      "Avg PnL : -0.07692307692307693\n",
      "G/L : 0.29032258064516125, Pw : 0.7692307692307693, Expected Value : -0.007444168734491274\n",
      "Max Pnl : 12.0, Min Pnl : -11.0\n",
      "\n",
      "===================End BackTest===================\n",
      "\n"
     ]
    }
   ],
   "source": [
    "date = datetime(2021,1,11)\n",
    "# dfs[date] = GetPairData(api, date=date)\n",
    "# dfs[date].close.plot(figsize=(12,8))\n",
    "df = GetPairData(api, date)\n",
    "result = Backtest(df, takeprofit = 5, stop_loss = 8, gap_threshold=0.3, inverse_threshold=80, pre_day_close = 17896, date=date,window=5, ma_len=3)"
   ]
  },
  {
   "cell_type": "code",
   "execution_count": 114,
   "metadata": {
    "ExecuteTime": {
     "end_time": "2022-03-19T08:09:05.257500Z",
     "start_time": "2022-03-19T08:09:05.241508Z"
    }
   },
   "outputs": [],
   "source": [
    "from concurrent.futures import ThreadPoolExecutor"
   ]
  },
  {
   "cell_type": "code",
   "execution_count": 84,
   "metadata": {
    "ExecuteTime": {
     "end_time": "2022-03-21T10:47:17.232148Z",
     "start_time": "2022-03-21T10:46:57.381529Z"
    },
    "scrolled": true
   },
   "outputs": [
    {
     "name": "stdout",
     "output_type": "stream",
     "text": [
      "===============Backtest 2021-01-04===============\n",
      "2021-01-04 09:15:00.072000, PreClose : None, Close : 14708.0, Ask : 14708.0, Bid : 14707.0\n",
      "Entry : 14707.0, pos : -1 at ts : 2021-01-04 09:15:00.072000, Close = 14708.0, StopLoss = 11.0\n",
      "Max Pnl : 10.0, Min Pnl : -10.0\n",
      "PreClose : 14698.0, Close : 14697.0, Ask : 14699.0, Bid : 14698.0\n",
      "Exit : 14697.0, pnl : 8.0, total_pnl : 8.0 at ts : 2021-01-04 09:18:03.226000, Close = 14697.0\n",
      "\n",
      "2021-01-04 09:25:00.020000, PreClose : 14684.0, Close : 14685.0, Ask : 14685.0, Bid : 14684.0\n",
      "Entry : 14685.0, pos : 1 at ts : 2021-01-04 09:25:00.020000, Close = 14685.0, StopLoss = 34.0\n",
      "Max Pnl : 10.0, Min Pnl : -1.0\n",
      "PreClose : 14694.0, Close : 14695.0, Ask : 14694.0, Bid : 14693.0\n",
      "Exit : 14695.0, pnl : 8.0, total_pnl : 16.0 at ts : 2021-01-04 09:26:04.124000, Close = 14695.0\n",
      "\n",
      "2021-01-04 09:35:00.156000, PreClose : 14721.0, Close : 14721.0, Ask : 14722.0, Bid : 14721.0\n",
      "Entry : 14721.0, pos : -1 at ts : 2021-01-04 09:35:00.156000, Close = 14721.0, StopLoss = 12.0\n",
      "Max Pnl : 1.0, Min Pnl : -12.0\n",
      "PreClose : 14732.0, Close : 14733.0, Ask : 14733.0, Bid : 14732.0\n",
      "Exit : 14733.0, pnl : -14.0, total_pnl : 2.0 at ts : 2021-01-04 09:36:03.995000, Close = 14733.0\n",
      "\n",
      "2021-01-04 09:45:00.003000, PreClose : 14746.0, Close : 14746.0, Ask : 14746.0, Bid : 14744.0\n",
      "Entry : 14746.0, pos : 1 at ts : 2021-01-04 09:45:00.003000, Close = 14746.0, StopLoss = 41.0\n",
      "Max Pnl : 10.0, Min Pnl : -7.0\n",
      "PreClose : 14755.0, Close : 14756.0, Ask : 14755.0, Bid : 14753.0\n",
      "Exit : 14756.0, pnl : 8.0, total_pnl : 10.0 at ts : 2021-01-04 09:48:29.316000, Close = 14756.0\n",
      "\n",
      "2021-01-04 10:40:00.339000, PreClose : 14818.0, Close : 14819.0, Ask : 14819.0, Bid : 14818.0\n",
      "Entry : 14818.0, pos : -1 at ts : 2021-01-04 10:40:00.339000, Close = 14819.0, StopLoss = 32.0\n",
      "Max Pnl : 10.0, Min Pnl : -2.0\n",
      "PreClose : 14809.0, Close : 14808.0, Ask : 14810.0, Bid : 14809.0\n",
      "Exit : 14808.0, pnl : 8.0, total_pnl : 18.0 at ts : 2021-01-04 10:42:45.755000, Close = 14808.0\n",
      "\n",
      "2021-01-04 10:45:00.128000, PreClose : 14828.0, Close : 14828.0, Ask : 14828.0, Bid : 14827.0\n",
      "Entry : 14828.0, pos : 1 at ts : 2021-01-04 10:45:00.128000, Close = 14828.0, StopLoss = 22.0\n",
      "Max Pnl : 10.0, Min Pnl : -6.0\n",
      "PreClose : 14837.0, Close : 14838.0, Ask : 14837.0, Bid : 14836.0\n",
      "Exit : 14838.0, pnl : 8.0, total_pnl : 26.0 at ts : 2021-01-04 10:50:14.001000, Close = 14838.0\n",
      "\n",
      "2021-01-04 11:00:00.135000, PreClose : 14831.0, Close : 14832.0, Ask : 14832.0, Bid : 14831.0\n",
      "Entry : 14831.0, pos : -1 at ts : 2021-01-04 11:00:00.135000, Close = 14832.0, StopLoss = 14.0\n",
      "Max Pnl : 2.0, Min Pnl : -9.0\n",
      "PreClose : 14838.0, Close : 14839.0, Ask : 14839.0, Bid : 14838.0\n",
      "Exit : 14839.0, pnl : -10.0, total_pnl : 16.0 at ts : 2021-01-04 11:05:00.277000, Close = 14839.0\n",
      "\n",
      "2021-01-04 11:45:00.038000, PreClose : 14910.0, Close : 14910.0, Ask : 14911.0, Bid : 14910.0\n",
      "Entry : 14910.0, pos : -1 at ts : 2021-01-04 11:45:00.038000, Close = 14910.0, StopLoss = 8.0\n",
      "Max Pnl : 10.0, Min Pnl : -4.0\n",
      "PreClose : 14901.0, Close : 14900.0, Ask : 14902.0, Bid : 14900.0\n",
      "Exit : 14900.0, pnl : 8.0, total_pnl : 24.0 at ts : 2021-01-04 11:49:06.859000, Close = 14900.0\n",
      "\n",
      "2021-01-04 12:00:00.784000, PreClose : 14901.0, Close : 14900.0, Ask : 14901.0, Bid : 14900.0\n",
      "Entry : 14901.0, pos : 1 at ts : 2021-01-04 12:00:00.784000, Close = 14900.0, StopLoss = 17.0\n",
      "Max Pnl : 10.0, Min Pnl : -12.0\n",
      "PreClose : 14910.0, Close : 14911.0, Ask : 14911.0, Bid : 14910.0\n",
      "Exit : 14911.0, pnl : 8.0, total_pnl : 32.0 at ts : 2021-01-04 12:07:45.663000, Close = 14911.0\n",
      "\n",
      "2021-01-04 12:20:00.397000, PreClose : 14911.0, Close : 14911.0, Ask : 14912.0, Bid : 14911.0\n",
      "Entry : 14911.0, pos : -1 at ts : 2021-01-04 12:20:00.397000, Close = 14911.0, StopLoss = 9.0\n",
      "Max Pnl : 5.0, Min Pnl : -9.0\n",
      "PreClose : 14919.0, Close : 14920.0, Ask : 14920.0, Bid : 14918.0\n",
      "Exit : 14920.0, pnl : -11.0, total_pnl : 21.0 at ts : 2021-01-04 12:23:13.361000, Close = 14920.0\n",
      "\n",
      "2021-01-04 12:25:00.158000, PreClose : 14922.0, Close : 14922.0, Ask : 14922.0, Bid : 14921.0\n",
      "Entry : 14922.0, pos : 1 at ts : 2021-01-04 12:25:00.158000, Close = 14922.0, StopLoss = 13.0\n",
      "Max Pnl : 1.0, Min Pnl : -9.0\n",
      "PreClose : 14915.0, Close : 14915.0, Ask : 14916.0, Bid : 14915.0\n",
      "Exit : 14915.0, pnl : -9.0, total_pnl : 12.0 at ts : 2021-01-04 12:30:00.135000, Close = 14915.0\n",
      "\n",
      "2021-01-04 12:40:02.455000, PreClose : 14914.0, Close : 14914.0, Ask : 14914.0, Bid : 14913.0\n",
      "Entry : 14914.0, pos : 1 at ts : 2021-01-04 12:40:02.455000, Close = 14914.0, StopLoss = 4.0\n",
      "Max Pnl : 10.0, Min Pnl : -1.0\n",
      "PreClose : 14923.0, Close : 14924.0, Ask : 14924.0, Bid : 14922.0\n",
      "Exit : 14924.0, pnl : 8.0, total_pnl : 20.0 at ts : 2021-01-04 12:44:48.702000, Close = 14924.0\n",
      "\n",
      "2021-01-04 12:50:00.272000, PreClose : 14905.0, Close : 14905.0, Ask : 14905.0, Bid : 14904.0\n",
      "Entry : 14904.0, pos : -1 at ts : 2021-01-04 12:50:00.272000, Close = 14905.0, StopLoss = 20.0\n",
      "Exit : 14898.0, pnl : 4.0, total_pnl : 24.0 at ts : 2021-01-04 13:30:00.101000, Close = 14898.0\n",
      "\n",
      "------------Strategy Result at 2021-01-04------------\n",
      "Total PnL : 24.0\n",
      "Avg Win : 7.555555555555555\n",
      "Num Win : 9\n",
      "Avg Loss : -11.0\n",
      "Num Loss : 4\n",
      "Avg PnL : 1.8461538461538463\n",
      "G/L : 0.6868686868686869, Pw : 0.6923076923076923, Expected Value : 0.1678321678321678\n",
      "Max Pnl : 32.0, Min Pnl : 0\n",
      "\n",
      "===================End BackTest===================\n",
      "\n",
      "===============Backtest 2021-01-05===============\n",
      "2021-01-05 09:25:00.027000, PreClose : 14892.0, Close : 14893.0, Ask : 14893.0, Bid : 14892.0\n",
      "Entry : 14892.0, pos : -1 at ts : 2021-01-05 09:25:00.027000, Close = 14893.0, StopLoss = 33.0\n",
      "Max Pnl : 10.0, Min Pnl : -9.0\n",
      "PreClose : 14883.0, Close : 14882.0, Ask : 14884.0, Bid : 14883.0\n",
      "Exit : 14882.0, pnl : 8.0, total_pnl : 8.0 at ts : 2021-01-05 09:27:01.948000, Close = 14882.0\n",
      "\n",
      "2021-01-05 09:40:00.352000, PreClose : 14857.0, Close : 14857.0, Ask : 14857.0, Bid : 14856.0\n",
      "Entry : 14857.0, pos : 1 at ts : 2021-01-05 09:40:00.352000, Close = 14857.0, StopLoss = 16.0\n",
      "Max Pnl : 10.0, Min Pnl : -7.0\n",
      "PreClose : 14866.0, Close : 14867.0, Ask : 14866.0, Bid : 14865.0\n",
      "Exit : 14867.0, pnl : 8.0, total_pnl : 16.0 at ts : 2021-01-05 09:43:02.140000, Close = 14867.0\n",
      "\n",
      "2021-01-05 09:55:00.132000, PreClose : 14869.0, Close : 14870.0, Ask : 14871.0, Bid : 14870.0\n",
      "Entry : 14870.0, pos : -1 at ts : 2021-01-05 09:55:00.132000, Close = 14870.0, StopLoss = 17.0\n",
      "Max Pnl : 4.0, Min Pnl : -17.0\n",
      "PreClose : 14887.0, Close : 14887.0, Ask : 14887.0, Bid : 14886.0\n",
      "Exit : 14887.0, pnl : -19.0, total_pnl : -3.0 at ts : 2021-01-05 10:01:07.440000, Close = 14887.0\n",
      "\n",
      "2021-01-05 10:25:00.187000, PreClose : 14892.0, Close : 14892.0, Ask : 14893.0, Bid : 14892.0\n",
      "Entry : 14892.0, pos : -1 at ts : 2021-01-05 10:25:00.187000, Close = 14892.0, StopLoss = 23.0\n",
      "Max Pnl : 4.0, Min Pnl : -23.0\n",
      "PreClose : 14914.0, Close : 14915.0, Ask : 14915.0, Bid : 14914.0\n",
      "Exit : 14915.0, pnl : -25.0, total_pnl : -28.0 at ts : 2021-01-05 10:34:57.301000, Close = 14915.0\n",
      "\n",
      "2021-01-05 10:45:00.641000, PreClose : 14925.0, Close : 14926.0, Ask : 14926.0, Bid : 14925.0\n",
      "Entry : 14925.0, pos : -1 at ts : 2021-01-05 10:45:00.641000, Close = 14926.0, StopLoss = 14.0\n",
      "Max Pnl : 10.0, Min Pnl : -3.0\n",
      "PreClose : 14918.0, Close : 14915.0, Ask : 14918.0, Bid : 14916.0\n",
      "Exit : 14915.0, pnl : 8.0, total_pnl : -20.0 at ts : 2021-01-05 10:46:11.698000, Close = 14915.0\n",
      "\n",
      "2021-01-05 10:55:00.152000, PreClose : 14927.0, Close : 14927.0, Ask : 14927.0, Bid : 14926.0\n",
      "Entry : 14927.0, pos : 1 at ts : 2021-01-05 10:55:00.152000, Close = 14927.0, StopLoss = 21.0\n",
      "Max Pnl : 1.0, Min Pnl : -14.0\n",
      "PreClose : 14919.0, Close : 14918.0, Ask : 14918.0, Bid : 14917.0\n",
      "Exit : 14918.0, pnl : -11.0, total_pnl : -31.0 at ts : 2021-01-05 11:00:00.160000, Close = 14918.0\n",
      "\n",
      "2021-01-05 11:10:01.233000, PreClose : 14911.0, Close : 14910.0, Ask : 14911.0, Bid : 14910.0\n",
      "Entry : 14911.0, pos : 1 at ts : 2021-01-05 11:10:01.233000, Close = 14910.0, StopLoss = 14.0\n",
      "Max Pnl : 10.0, Min Pnl : -5.0\n",
      "PreClose : 14920.0, Close : 14921.0, Ask : 14920.0, Bid : 14919.0\n",
      "Exit : 14921.0, pnl : 8.0, total_pnl : -23.0 at ts : 2021-01-05 11:12:14.402000, Close = 14921.0\n",
      "\n",
      "2021-01-05 11:30:00.449000, PreClose : 14928.0, Close : 14928.0, Ask : 14928.0, Bid : 14927.0\n",
      "Entry : 14927.0, pos : -1 at ts : 2021-01-05 11:30:00.449000, Close = 14928.0, StopLoss = 7.0\n",
      "Max Pnl : 0, Min Pnl : -7.0\n",
      "PreClose : 14933.0, Close : 14934.0, Ask : 14934.0, Bid : 14933.0\n",
      "Exit : 14934.0, pnl : -9.0, total_pnl : -32.0 at ts : 2021-01-05 11:30:33.094000, Close = 14934.0\n",
      "\n",
      "2021-01-05 11:35:00.058000, PreClose : 14934.0, Close : 14934.0, Ask : 14935.0, Bid : 14934.0\n",
      "Entry : 14935.0, pos : 1 at ts : 2021-01-05 11:35:00.058000, Close = 14934.0, StopLoss = 10.0\n",
      "Max Pnl : 0, Min Pnl : -11.0\n",
      "PreClose : 14926.0, Close : 14924.0, Ask : 14926.0, Bid : 14924.0\n",
      "Exit : 14924.0, pnl : -13.0, total_pnl : -45.0 at ts : 2021-01-05 11:35:40.794000, Close = 14924.0\n",
      "\n",
      "2021-01-05 11:40:01.226000, PreClose : 14927.0, Close : 14928.0, Ask : 14928.0, Bid : 14927.0\n",
      "Entry : 14927.0, pos : -1 at ts : 2021-01-05 11:40:01.226000, Close = 14928.0, StopLoss = 18.0\n",
      "Max Pnl : 9.0, Min Pnl : -7.0\n",
      "PreClose : 14933.0, Close : 14932.0, Ask : 14932.0, Bid : 14931.0\n",
      "Exit : 14932.0, pnl : -7.0, total_pnl : -52.0 at ts : 2021-01-05 11:45:00.162000, Close = 14932.0\n",
      "\n",
      "2021-01-05 11:50:00.032000, PreClose : 14912.0, Close : 14911.0, Ask : 14912.0, Bid : 14911.0\n",
      "Entry : 14911.0, pos : -1 at ts : 2021-01-05 11:50:00.032000, Close = 14911.0, StopLoss = 23.0\n"
     ]
    },
    {
     "name": "stdout",
     "output_type": "stream",
     "text": [
      "Max Pnl : 10.0, Min Pnl : -10.0\n",
      "PreClose : 14902.0, Close : 14901.0, Ask : 14903.0, Bid : 14902.0\n",
      "Exit : 14901.0, pnl : 8.0, total_pnl : -44.0 at ts : 2021-01-05 11:57:57.078000, Close = 14901.0\n",
      "\n",
      "2021-01-05 12:00:00.672000, PreClose : 14916.0, Close : 14915.0, Ask : 14916.0, Bid : 14914.0\n",
      "Entry : 14914.0, pos : -1 at ts : 2021-01-05 12:00:00.672000, Close = 14915.0, StopLoss = 5.0\n",
      "Max Pnl : 10.0, Min Pnl : -2.0\n",
      "PreClose : 14905.0, Close : 14904.0, Ask : 14905.0, Bid : 14904.0\n",
      "Exit : 14904.0, pnl : 8.0, total_pnl : -36.0 at ts : 2021-01-05 12:05:11.193000, Close = 14904.0\n",
      "\n",
      "2021-01-05 12:35:00.045000, PreClose : 14874.0, Close : 14874.0, Ask : 14874.0, Bid : 14872.0\n",
      "Entry : 14872.0, pos : -1 at ts : 2021-01-05 12:35:00.045000, Close = 14874.0, StopLoss = 24.0\n",
      "Max Pnl : 0, Min Pnl : -23.0\n",
      "PreClose : 14892.0, Close : 14892.0, Ask : 14893.0, Bid : 14892.0\n",
      "Exit : 14892.0, pnl : -22.0, total_pnl : -58.0 at ts : 2021-01-05 12:40:00.070000, Close = 14892.0\n",
      "\n",
      "------------Strategy Result at 2021-01-05------------\n",
      "Total PnL : -58.0\n",
      "Avg Win : 8.0\n",
      "Num Win : 6\n",
      "Avg Loss : -15.142857142857142\n",
      "Num Loss : 7\n",
      "Avg PnL : -4.461538461538462\n",
      "G/L : 0.5283018867924528, Pw : 0.46153846153846156, Expected Value : -0.2946298984034833\n",
      "Max Pnl : 16.0, Min Pnl : -58.0\n",
      "\n",
      "===================End BackTest===================\n",
      "\n",
      "===============Backtest 2021-01-06===============\n",
      "2021-01-06 09:20:00.063000, PreClose : 15077.0, Close : 15077.0, Ask : 15077.0, Bid : 15076.0\n",
      "Entry : 15076.0, pos : -1 at ts : 2021-01-06 09:20:00.063000, Close = 15077.0, StopLoss = 9.0\n",
      "Max Pnl : 1.0, Min Pnl : -9.0\n",
      "PreClose : 15084.0, Close : 15085.0, Ask : 15085.0, Bid : 15084.0\n",
      "Exit : 15085.0, pnl : -11.0, total_pnl : -11.0 at ts : 2021-01-06 09:20:59.181000, Close = 15085.0\n",
      "\n",
      "2021-01-06 09:25:00.006000, PreClose : 15123.0, Close : 15123.0, Ask : 15123.0, Bid : 15122.0\n",
      "Entry : 15123.0, pos : 1 at ts : 2021-01-06 09:25:00.006000, Close = 15123.0, StopLoss = 47.0\n",
      "Max Pnl : 10.0, Min Pnl : -1.0\n",
      "PreClose : 15132.0, Close : 15133.0, Ask : 15132.0, Bid : 15131.0\n",
      "Exit : 15133.0, pnl : 8.0, total_pnl : -3.0 at ts : 2021-01-06 09:25:11.126000, Close = 15133.0\n",
      "\n",
      "2021-01-06 09:30:00.024000, PreClose : 15098.0, Close : 15098.0, Ask : 15099.0, Bid : 15098.0\n",
      "Entry : 15098.0, pos : -1 at ts : 2021-01-06 09:30:00.024000, Close = 15098.0, StopLoss = 25.0\n",
      "Max Pnl : 10.0, Min Pnl : -2.0\n",
      "PreClose : 15089.0, Close : 15088.0, Ask : 15091.0, Bid : 15090.0\n",
      "Exit : 15088.0, pnl : 8.0, total_pnl : 5.0 at ts : 2021-01-06 09:30:07.055000, Close = 15088.0\n",
      "\n",
      "2021-01-06 09:45:00.215000, PreClose : 15011.0, Close : 15011.0, Ask : 15012.0, Bid : 15011.0\n",
      "Entry : 15012.0, pos : 1 at ts : 2021-01-06 09:45:00.215000, Close = 15011.0, StopLoss = 42.0\n",
      "Max Pnl : 10.0, Min Pnl : -35.0\n",
      "PreClose : 15021.0, Close : 15022.0, Ask : 15021.0, Bid : 15020.0\n",
      "Exit : 15022.0, pnl : 8.0, total_pnl : 13.0 at ts : 2021-01-06 09:53:49.022000, Close = 15022.0\n",
      "\n",
      "2021-01-06 09:55:00.014000, PreClose : 15029.0, Close : 15031.0, Ask : 15031.0, Bid : 15029.0\n",
      "Entry : 15031.0, pos : 1 at ts : 2021-01-06 09:55:00.014000, Close = 15031.0, StopLoss = 51.0\n",
      "Max Pnl : 10.0, Min Pnl : -11.0\n",
      "PreClose : 15040.0, Close : 15041.0, Ask : 15040.0, Bid : 15039.0\n",
      "Exit : 15041.0, pnl : 8.0, total_pnl : 21.0 at ts : 2021-01-06 10:01:11.893000, Close = 15041.0\n",
      "\n",
      "2021-01-06 10:10:00.084000, PreClose : 15040.0, Close : 15041.0, Ask : 15042.0, Bid : 15041.0\n",
      "Entry : 15041.0, pos : -1 at ts : 2021-01-06 10:10:00.084000, Close = 15041.0, StopLoss = 14.0\n",
      "Max Pnl : 3.0, Min Pnl : -14.0\n",
      "PreClose : 15053.0, Close : 15055.0, Ask : 15055.0, Bid : 15053.0\n",
      "Exit : 15055.0, pnl : -16.0, total_pnl : 5.0 at ts : 2021-01-06 10:13:02.557000, Close = 15055.0\n",
      "\n",
      "2021-01-06 10:15:00.007000, PreClose : 15048.0, Close : 15049.0, Ask : 15049.0, Bid : 15048.0\n",
      "Entry : 15049.0, pos : 1 at ts : 2021-01-06 10:15:00.007000, Close = 15049.0, StopLoss = 11.0\n",
      "Max Pnl : 10.0, Min Pnl : -2.0\n",
      "PreClose : 15058.0, Close : 15059.0, Ask : 15058.0, Bid : 15056.0\n",
      "Exit : 15059.0, pnl : 8.0, total_pnl : 13.0 at ts : 2021-01-06 10:15:30.450000, Close = 15059.0\n",
      "\n",
      "2021-01-06 10:25:00.361000, PreClose : 15061.0, Close : 15060.0, Ask : 15061.0, Bid : 15060.0\n",
      "Entry : 15060.0, pos : -1 at ts : 2021-01-06 10:25:00.361000, Close = 15060.0, StopLoss = 10.0\n",
      "Max Pnl : 7.0, Min Pnl : -10.0\n",
      "PreClose : 15069.0, Close : 15070.0, Ask : 15070.0, Bid : 15069.0\n",
      "Exit : 15070.0, pnl : -12.0, total_pnl : 1.0 at ts : 2021-01-06 10:29:00.016000, Close = 15070.0\n",
      "\n",
      "2021-01-06 10:30:00.190000, PreClose : 15076.0, Close : 15076.0, Ask : 15076.0, Bid : 15075.0\n",
      "Entry : 15076.0, pos : 1 at ts : 2021-01-06 10:30:00.190000, Close = 15076.0, StopLoss = 22.0\n",
      "Max Pnl : 10.0, Min Pnl : -1.0\n",
      "PreClose : 15085.0, Close : 15086.0, Ask : 15086.0, Bid : 15085.0\n",
      "Exit : 15086.0, pnl : 8.0, total_pnl : 9.0 at ts : 2021-01-06 10:30:58.699000, Close = 15086.0\n",
      "\n",
      "2021-01-06 10:45:00.137000, PreClose : 15086.0, Close : 15084.0, Ask : 15085.0, Bid : 15084.0\n",
      "Entry : 15084.0, pos : -1 at ts : 2021-01-06 10:45:00.137000, Close = 15084.0, StopLoss = 10.0\n",
      "Max Pnl : 10.0, Min Pnl : -7.0\n",
      "PreClose : 15075.0, Close : 15074.0, Ask : 15076.0, Bid : 15075.0\n",
      "Exit : 15074.0, pnl : 8.0, total_pnl : 17.0 at ts : 2021-01-06 10:48:37.238000, Close = 15074.0\n",
      "\n",
      "2021-01-06 11:10:00.834000, PreClose : 15017.0, Close : 15017.0, Ask : 15018.0, Bid : 15017.0\n",
      "Entry : 15018.0, pos : 1 at ts : 2021-01-06 11:10:00.834000, Close = 15017.0, StopLoss = 14.0\n",
      "Max Pnl : 0, Min Pnl : -14.0\n",
      "PreClose : 15005.0, Close : 15004.0, Ask : 15005.0, Bid : 15004.0\n",
      "Exit : 15004.0, pnl : -16.0, total_pnl : 1.0 at ts : 2021-01-06 11:10:57.584000, Close = 15004.0\n",
      "\n",
      "2021-01-06 11:15:00.040000, PreClose : 14981.0, Close : 14981.0, Ask : 14982.0, Bid : 14981.0\n",
      "Entry : 14981.0, pos : -1 at ts : 2021-01-06 11:15:00.040000, Close = 14981.0, StopLoss = 50.0\n",
      "Max Pnl : 10.0, Min Pnl : 0\n",
      "PreClose : 14972.0, Close : 14971.0, Ask : 14976.0, Bid : 14974.0\n",
      "Exit : 14971.0, pnl : 8.0, total_pnl : 9.0 at ts : 2021-01-06 11:15:00.871000, Close = 14971.0\n",
      "\n",
      "2021-01-06 11:30:00.145000, PreClose : 14947.0, Close : 14945.0, Ask : 14946.0, Bid : 14945.0\n",
      "Entry : 14946.0, pos : 1 at ts : 2021-01-06 11:30:00.145000, Close = 14945.0, StopLoss = 44.0\n",
      "Max Pnl : 10.0, Min Pnl : -24.0\n",
      "PreClose : 14955.0, Close : 14956.0, Ask : 14956.0, Bid : 14955.0\n",
      "Exit : 14956.0, pnl : 8.0, total_pnl : 17.0 at ts : 2021-01-06 11:36:23.277000, Close = 14956.0\n",
      "\n",
      "2021-01-06 11:45:00.034000, PreClose : 14936.0, Close : 14936.0, Ask : 14938.0, Bid : 14936.0\n",
      "Entry : 14936.0, pos : -1 at ts : 2021-01-06 11:45:00.034000, Close = 14936.0, StopLoss = 36.0\n",
      "Max Pnl : 10.0, Min Pnl : -14.0\n",
      "PreClose : 14928.0, Close : 14926.0, Ask : 14928.0, Bid : 14926.0\n",
      "Exit : 14926.0, pnl : 8.0, total_pnl : 25.0 at ts : 2021-01-06 11:49:29.198000, Close = 14926.0\n",
      "\n",
      "2021-01-06 12:10:00.023000, PreClose : 14862.0, Close : 14863.0, Ask : 14863.0, Bid : 14862.0\n",
      "Entry : 14863.0, pos : 1 at ts : 2021-01-06 12:10:00.023000, Close = 14863.0, StopLoss = 101.0\n",
      "Max Pnl : 10.0, Min Pnl : -3.0\n",
      "PreClose : 14872.0, Close : 14873.0, Ask : 14873.0, Bid : 14872.0\n",
      "Exit : 14873.0, pnl : 8.0, total_pnl : 33.0 at ts : 2021-01-06 12:11:58.210000, Close = 14873.0\n",
      "\n",
      "2021-01-06 12:40:00.033000, PreClose : 14941.0, Close : 14942.0, Ask : 14942.0, Bid : 14941.0\n",
      "Entry : 14941.0, pos : -1 at ts : 2021-01-06 12:40:00.033000, Close = 14942.0, StopLoss = 18.0\n",
      "Max Pnl : 10.0, Min Pnl : -7.0\n",
      "PreClose : 14932.0, Close : 14931.0, Ask : 14933.0, Bid : 14932.0\n",
      "Exit : 14931.0, pnl : 8.0, total_pnl : 41.0 at ts : 2021-01-06 12:42:37.582000, Close = 14931.0\n",
      "\n",
      "2021-01-06 12:50:00.075000, PreClose : 14937.0, Close : 14936.0, Ask : 14937.0, Bid : 14936.0\n",
      "Entry : 14937.0, pos : 1 at ts : 2021-01-06 12:50:00.075000, Close = 14936.0, StopLoss = 25.0\n",
      "Max Pnl : 10.0, Min Pnl : -4.0\n",
      "PreClose : 14946.0, Close : 14947.0, Ask : 14947.0, Bid : 14946.0\n",
      "Exit : 14947.0, pnl : 8.0, total_pnl : 49.0 at ts : 2021-01-06 12:51:16.079000, Close = 14947.0\n",
      "\n",
      "------------Strategy Result at 2021-01-06------------\n",
      "Total PnL : 49.0\n",
      "Avg Win : 8.0\n",
      "Num Win : 13\n",
      "Avg Loss : -13.75\n",
      "Num Loss : 4\n",
      "Avg PnL : 2.8823529411764706\n",
      "G/L : 0.5818181818181818, Pw : 0.7647058823529411, Expected Value : 0.20962566844919778\n",
      "Max Pnl : 49.0, Min Pnl : -11.0\n",
      "\n",
      "===================End BackTest===================\n",
      "\n",
      "===============Backtest 2021-01-07===============\n"
     ]
    },
    {
     "name": "stdout",
     "output_type": "stream",
     "text": [
      "2021-01-07 09:25:00.227000, PreClose : 15073.0, Close : 15072.0, Ask : 15073.0, Bid : 15072.0\n",
      "Entry : 15072.0, pos : -1 at ts : 2021-01-07 09:25:00.227000, Close = 15072.0, StopLoss = 35.0\n",
      "Max Pnl : 10.0, Min Pnl : -23.0\n",
      "PreClose : 15063.0, Close : 15062.0, Ask : 15065.0, Bid : 15064.0\n",
      "Exit : 15062.0, pnl : 8.0, total_pnl : 8.0 at ts : 2021-01-07 09:29:28.721000, Close = 15062.0\n",
      "\n",
      "2021-01-07 09:40:00.042000, PreClose : 15071.0, Close : 15072.0, Ask : 15072.0, Bid : 15071.0\n",
      "Entry : 15072.0, pos : 1 at ts : 2021-01-07 09:40:00.042000, Close = 15072.0, StopLoss = 49.0\n",
      "Max Pnl : 10.0, Min Pnl : -1.0\n",
      "PreClose : 15080.0, Close : 15082.0, Ask : 15082.0, Bid : 15080.0\n",
      "Exit : 15082.0, pnl : 8.0, total_pnl : 16.0 at ts : 2021-01-07 09:40:40.055000, Close = 15082.0\n",
      "\n",
      "2021-01-07 10:00:00.029000, PreClose : 15092.0, Close : 15092.0, Ask : 15093.0, Bid : 15092.0\n",
      "Entry : 15092.0, pos : -1 at ts : 2021-01-07 10:00:00.029000, Close = 15092.0, StopLoss = 12.0\n",
      "Max Pnl : 10.0, Min Pnl : -5.0\n",
      "PreClose : 15083.0, Close : 15082.0, Ask : 15083.0, Bid : 15082.0\n",
      "Exit : 15082.0, pnl : 8.0, total_pnl : 24.0 at ts : 2021-01-07 10:01:41.291000, Close = 15082.0\n",
      "\n",
      "2021-01-07 10:10:00.059000, PreClose : 15099.0, Close : 15100.0, Ask : 15100.0, Bid : 15099.0\n",
      "Entry : 15100.0, pos : 1 at ts : 2021-01-07 10:10:00.059000, Close = 15100.0, StopLoss = 24.0\n",
      "Max Pnl : 0, Min Pnl : -13.0\n",
      "PreClose : 15093.0, Close : 15094.0, Ask : 15094.0, Bid : 15092.0\n",
      "Exit : 15094.0, pnl : -8.0, total_pnl : 16.0 at ts : 2021-01-07 10:15:00.186000, Close = 15094.0\n",
      "\n",
      "2021-01-07 10:20:00.162000, PreClose : 15105.0, Close : 15105.0, Ask : 15105.0, Bid : 15104.0\n",
      "Entry : 15105.0, pos : 1 at ts : 2021-01-07 10:20:00.162000, Close = 15105.0, StopLoss = 18.0\n",
      "Max Pnl : 10.0, Min Pnl : 0\n",
      "PreClose : 15114.0, Close : 15115.0, Ask : 15114.0, Bid : 15113.0\n",
      "Exit : 15115.0, pnl : 8.0, total_pnl : 24.0 at ts : 2021-01-07 10:21:04.297000, Close = 15115.0\n",
      "\n",
      "2021-01-07 10:30:00.142000, PreClose : 15114.0, Close : 15112.0, Ask : 15113.0, Bid : 15112.0\n",
      "Entry : 15112.0, pos : -1 at ts : 2021-01-07 10:30:00.142000, Close = 15112.0, StopLoss = 8.0\n",
      "Max Pnl : 4.0, Min Pnl : -8.0\n",
      "PreClose : 15119.0, Close : 15120.0, Ask : 15120.0, Bid : 15119.0\n",
      "Exit : 15120.0, pnl : -10.0, total_pnl : 14.0 at ts : 2021-01-07 10:32:58.226000, Close = 15120.0\n",
      "\n",
      "2021-01-07 10:35:00.030000, PreClose : 15126.0, Close : 15126.0, Ask : 15125.0, Bid : 15124.0\n",
      "Entry : 15125.0, pos : 1 at ts : 2021-01-07 10:35:00.030000, Close = 15126.0, StopLoss = 17.0\n",
      "Max Pnl : 10.0, Min Pnl : -7.0\n",
      "PreClose : 15134.0, Close : 15135.0, Ask : 15134.0, Bid : 15133.0\n",
      "Exit : 15135.0, pnl : 8.0, total_pnl : 22.0 at ts : 2021-01-07 10:38:20.919000, Close = 15135.0\n",
      "\n",
      "2021-01-07 10:45:00.208000, PreClose : 15131.0, Close : 15131.0, Ask : 15131.0, Bid : 15130.0\n",
      "Entry : 15130.0, pos : -1 at ts : 2021-01-07 10:45:00.208000, Close = 15131.0, StopLoss = 5.0\n",
      "Max Pnl : 0, Min Pnl : -5.0\n",
      "PreClose : 15135.0, Close : 15135.0, Ask : 15135.0, Bid : 15133.0\n",
      "Exit : 15135.0, pnl : -7.0, total_pnl : 15.0 at ts : 2021-01-07 10:45:00.822000, Close = 15135.0\n",
      "\n",
      "2021-01-07 10:55:00.271000, PreClose : 15149.0, Close : 15150.0, Ask : 15151.0, Bid : 15149.0\n",
      "Entry : 15151.0, pos : 1 at ts : 2021-01-07 10:55:00.271000, Close = 15150.0, StopLoss = 40.0\n",
      "Max Pnl : 10.0, Min Pnl : -5.0\n",
      "PreClose : 15160.0, Close : 15161.0, Ask : 15160.0, Bid : 15159.0\n",
      "Exit : 15161.0, pnl : 8.0, total_pnl : 23.0 at ts : 2021-01-07 10:56:50.885000, Close = 15161.0\n",
      "\n",
      "2021-01-07 11:20:00.194000, PreClose : 15188.0, Close : 15188.0, Ask : 15189.0, Bid : 15188.0\n",
      "Entry : 15188.0, pos : -1 at ts : 2021-01-07 11:20:00.194000, Close = 15188.0, StopLoss = 6.0\n",
      "Max Pnl : 1.0, Min Pnl : -6.0\n",
      "PreClose : 15194.0, Close : 15194.0, Ask : 15194.0, Bid : 15193.0\n",
      "Exit : 15194.0, pnl : -8.0, total_pnl : 15.0 at ts : 2021-01-07 11:20:21.436000, Close = 15194.0\n",
      "\n",
      "2021-01-07 11:25:00.288000, PreClose : 15196.0, Close : 15196.0, Ask : 15196.0, Bid : 15195.0\n",
      "Entry : 15196.0, pos : 1 at ts : 2021-01-07 11:25:00.288000, Close = 15196.0, StopLoss = 21.0\n",
      "Max Pnl : 10.0, Min Pnl : -2.0\n",
      "PreClose : 15205.0, Close : 15206.0, Ask : 15206.0, Bid : 15205.0\n",
      "Exit : 15206.0, pnl : 8.0, total_pnl : 23.0 at ts : 2021-01-07 11:26:31.724000, Close = 15206.0\n",
      "\n",
      "2021-01-07 11:40:00.032000, PreClose : 15191.0, Close : 15192.0, Ask : 15192.0, Bid : 15191.0\n",
      "Entry : 15191.0, pos : -1 at ts : 2021-01-07 11:40:00.032000, Close = 15192.0, StopLoss = 52.0\n",
      "Max Pnl : 10.0, Min Pnl : -36.0\n",
      "PreClose : 15182.0, Close : 15181.0, Ask : 15183.0, Bid : 15181.0\n",
      "Exit : 15181.0, pnl : 8.0, total_pnl : 31.0 at ts : 2021-01-07 11:56:51.080000, Close = 15181.0\n",
      "\n",
      "2021-01-07 12:10:02.094000, PreClose : 15195.0, Close : 15196.0, Ask : 15196.0, Bid : 15195.0\n",
      "Entry : 15196.0, pos : 1 at ts : 2021-01-07 12:10:02.094000, Close = 15196.0, StopLoss = 18.0\n",
      "Max Pnl : 10.0, Min Pnl : -14.0\n",
      "PreClose : 15205.0, Close : 15206.0, Ask : 15205.0, Bid : 15204.0\n",
      "Exit : 15206.0, pnl : 8.0, total_pnl : 39.0 at ts : 2021-01-07 12:21:22.297000, Close = 15206.0\n",
      "\n",
      "2021-01-07 12:40:00.328000, PreClose : 15227.0, Close : 15228.0, Ask : 15228.0, Bid : 15227.0\n",
      "Entry : 15227.0, pos : -1 at ts : 2021-01-07 12:40:00.328000, Close = 15228.0, StopLoss = 8.0\n",
      "Max Pnl : 2.0, Min Pnl : -8.0\n",
      "PreClose : 15235.0, Close : 15235.0, Ask : 15235.0, Bid : 15234.0\n",
      "Exit : 15235.0, pnl : -10.0, total_pnl : 29.0 at ts : 2021-01-07 12:43:00.848000, Close = 15235.0\n",
      "\n",
      "2021-01-07 12:45:00.182000, PreClose : 15231.0, Close : 15231.0, Ask : 15231.0, Bid : 15230.0\n",
      "Entry : 15231.0, pos : 1 at ts : 2021-01-07 12:45:00.182000, Close = 15231.0, StopLoss = 9.0\n",
      "Max Pnl : 10.0, Min Pnl : -5.0\n",
      "PreClose : 15240.0, Close : 15241.0, Ask : 15241.0, Bid : 15240.0\n",
      "Exit : 15241.0, pnl : 8.0, total_pnl : 37.0 at ts : 2021-01-07 12:48:11.652000, Close = 15241.0\n",
      "\n",
      "2021-01-07 12:55:00.505000, PreClose : 15232.0, Close : 15233.0, Ask : 15233.0, Bid : 15232.0\n",
      "Entry : 15232.0, pos : -1 at ts : 2021-01-07 12:55:00.505000, Close = 15233.0, StopLoss = 17.0\n",
      "Max Pnl : 10.0, Min Pnl : -5.0\n",
      "PreClose : 15223.0, Close : 15222.0, Ask : 15224.0, Bid : 15222.0\n",
      "Exit : 15222.0, pnl : 8.0, total_pnl : 45.0 at ts : 2021-01-07 12:57:11.148000, Close = 15222.0\n",
      "\n",
      "------------Strategy Result at 2021-01-07------------\n",
      "Total PnL : 45.0\n",
      "Avg Win : 8.0\n",
      "Num Win : 11\n",
      "Avg Loss : -8.6\n",
      "Num Loss : 5\n",
      "Avg PnL : 2.8125\n",
      "G/L : 0.9302325581395349, Pw : 0.6875, Expected Value : 0.32703488372093026\n",
      "Max Pnl : 45.0, Min Pnl : 0\n",
      "\n",
      "===================End BackTest===================\n",
      "\n",
      "===============Backtest 2021-01-08===============\n",
      "2021-01-08 09:15:00.067000, PreClose : None, Close : 15339.0, Ask : 15339.0, Bid : 15338.0\n",
      "Entry : 15339.0, pos : 1 at ts : 2021-01-08 09:15:00.067000, Close = 15339.0, StopLoss = 19.0\n",
      "Max Pnl : 1.0, Min Pnl : -20.0\n",
      "PreClose : 15319.0, Close : 15319.0, Ask : 15320.0, Bid : 15319.0\n",
      "Exit : 15319.0, pnl : -22.0, total_pnl : -22.0 at ts : 2021-01-08 09:15:35.324000, Close = 15319.0\n",
      "\n",
      "2021-01-08 09:20:00.079000, PreClose : 15330.0, Close : 15329.0, Ask : 15329.0, Bid : 15328.0\n",
      "Entry : 15328.0, pos : -1 at ts : 2021-01-08 09:20:00.079000, Close = 15329.0, StopLoss = 30.0\n",
      "Max Pnl : 8.0, Min Pnl : -30.0\n",
      "PreClose : 15357.0, Close : 15358.0, Ask : 15358.0, Bid : 15356.0\n",
      "Exit : 15358.0, pnl : -32.0, total_pnl : -54.0 at ts : 2021-01-08 09:24:10.204000, Close = 15358.0\n",
      "\n",
      "2021-01-08 09:25:00.057000, PreClose : 15363.0, Close : 15364.0, Ask : 15364.0, Bid : 15363.0\n",
      "Entry : 15364.0, pos : 1 at ts : 2021-01-08 09:25:00.057000, Close = 15364.0, StopLoss = 52.0\n",
      "Max Pnl : 10.0, Min Pnl : -14.0\n",
      "PreClose : 15373.0, Close : 15374.0, Ask : 15373.0, Bid : 15372.0\n",
      "Exit : 15374.0, pnl : 8.0, total_pnl : -46.0 at ts : 2021-01-08 09:29:31.218000, Close = 15374.0\n",
      "\n",
      "2021-01-08 09:35:00.021000, PreClose : 15368.0, Close : 15368.0, Ask : 15368.0, Bid : 15366.0\n",
      "Entry : 15366.0, pos : -1 at ts : 2021-01-08 09:35:00.021000, Close = 15368.0, StopLoss = 14.0\n",
      "Max Pnl : 10.0, Min Pnl : -4.0\n",
      "PreClose : 15358.0, Close : 15356.0, Ask : 15359.0, Bid : 15357.0\n",
      "Exit : 15356.0, pnl : 8.0, total_pnl : -38.0 at ts : 2021-01-08 09:35:12.544000, Close = 15356.0\n",
      "\n",
      "2021-01-08 09:40:00.205000, PreClose : 15380.0, Close : 15379.0, Ask : 15379.0, Bid : 15378.0\n",
      "Entry : 15379.0, pos : 1 at ts : 2021-01-08 09:40:00.205000, Close = 15379.0, StopLoss = 13.0\n",
      "Max Pnl : 3.0, Min Pnl : -13.0\n",
      "PreClose : 15367.0, Close : 15366.0, Ask : 15367.0, Bid : 15366.0\n",
      "Exit : 15366.0, pnl : -15.0, total_pnl : -53.0 at ts : 2021-01-08 09:40:32.937000, Close = 15366.0\n",
      "\n",
      "2021-01-08 09:45:00.127000, PreClose : 15360.0, Close : 15361.0, Ask : 15361.0, Bid : 15359.0\n",
      "Entry : 15359.0, pos : -1 at ts : 2021-01-08 09:45:00.127000, Close = 15361.0, StopLoss = 25.0\n"
     ]
    },
    {
     "name": "stdout",
     "output_type": "stream",
     "text": [
      "Max Pnl : 10.0, Min Pnl : -9.0\n",
      "PreClose : 15350.0, Close : 15349.0, Ask : 15350.0, Bid : 15349.0\n",
      "Exit : 15349.0, pnl : 8.0, total_pnl : -45.0 at ts : 2021-01-08 09:46:02.243000, Close = 15349.0\n",
      "\n",
      "2021-01-08 10:10:00.189000, PreClose : 15308.0, Close : 15308.0, Ask : 15309.0, Bid : 15308.0\n",
      "Entry : 15309.0, pos : 1 at ts : 2021-01-08 10:10:00.189000, Close = 15308.0, StopLoss = 45.0\n",
      "Max Pnl : 10.0, Min Pnl : -6.0\n",
      "PreClose : 15318.0, Close : 15319.0, Ask : 15318.0, Bid : 15317.0\n",
      "Exit : 15319.0, pnl : 8.0, total_pnl : -37.0 at ts : 2021-01-08 10:10:44.461000, Close = 15319.0\n",
      "\n",
      "2021-01-08 10:20:00.454000, PreClose : 15331.0, Close : 15331.0, Ask : 15332.0, Bid : 15331.0\n",
      "Entry : 15331.0, pos : -1 at ts : 2021-01-08 10:20:00.454000, Close = 15331.0, StopLoss = 7.0\n",
      "Max Pnl : 9.0, Min Pnl : -7.0\n",
      "PreClose : 15337.0, Close : 15338.0, Ask : 15338.0, Bid : 15337.0\n",
      "Exit : 15338.0, pnl : -9.0, total_pnl : -46.0 at ts : 2021-01-08 10:23:59.972000, Close = 15338.0\n",
      "\n",
      "2021-01-08 10:25:00.197000, PreClose : 15350.0, Close : 15351.0, Ask : 15351.0, Bid : 15350.0\n",
      "Entry : 15351.0, pos : 1 at ts : 2021-01-08 10:25:00.197000, Close = 15351.0, StopLoss = 29.0\n",
      "Max Pnl : 10.0, Min Pnl : -1.0\n",
      "PreClose : 15360.0, Close : 15361.0, Ask : 15361.0, Bid : 15360.0\n",
      "Exit : 15361.0, pnl : 8.0, total_pnl : -38.0 at ts : 2021-01-08 10:25:21.736000, Close = 15361.0\n",
      "\n",
      "2021-01-08 10:30:00.121000, PreClose : 15350.0, Close : 15351.0, Ask : 15351.0, Bid : 15350.0\n",
      "Entry : 15350.0, pos : -1 at ts : 2021-01-08 10:30:00.121000, Close = 15351.0, StopLoss = 9.0\n",
      "Max Pnl : 2.0, Min Pnl : -9.0\n",
      "PreClose : 15357.0, Close : 15359.0, Ask : 15359.0, Bid : 15357.0\n",
      "Exit : 15359.0, pnl : -11.0, total_pnl : -49.0 at ts : 2021-01-08 10:30:10.242000, Close = 15359.0\n",
      "\n",
      "2021-01-08 10:35:00.418000, PreClose : 15356.0, Close : 15357.0, Ask : 15357.0, Bid : 15356.0\n",
      "Entry : 15357.0, pos : 1 at ts : 2021-01-08 10:35:00.418000, Close = 15357.0, StopLoss = 12.0\n",
      "Max Pnl : 3.0, Min Pnl : -12.0\n",
      "PreClose : 15346.0, Close : 15345.0, Ask : 15346.0, Bid : 15345.0\n",
      "Exit : 15345.0, pnl : -14.0, total_pnl : -63.0 at ts : 2021-01-08 10:35:49.831000, Close = 15345.0\n",
      "\n",
      "2021-01-08 10:50:00.043000, PreClose : 15364.0, Close : 15365.0, Ask : 15365.0, Bid : 15364.0\n",
      "Entry : 15364.0, pos : -1 at ts : 2021-01-08 10:50:00.043000, Close = 15365.0, StopLoss = 10.0\n",
      "Max Pnl : 10.0, Min Pnl : -2.0\n",
      "PreClose : 15355.0, Close : 15354.0, Ask : 15355.0, Bid : 15354.0\n",
      "Exit : 15354.0, pnl : 8.0, total_pnl : -55.0 at ts : 2021-01-08 10:50:51.359000, Close = 15354.0\n",
      "\n",
      "2021-01-08 11:05:00.182000, PreClose : 15320.0, Close : 15319.0, Ask : 15320.0, Bid : 15319.0\n",
      "Entry : 15320.0, pos : 1 at ts : 2021-01-08 11:05:00.182000, Close = 15319.0, StopLoss = 6.0\n",
      "Max Pnl : 0, Min Pnl : -6.0\n",
      "PreClose : 15314.0, Close : 15314.0, Ask : 15316.0, Bid : 15314.0\n",
      "Exit : 15314.0, pnl : -8.0, total_pnl : -63.0 at ts : 2021-01-08 11:05:07.964000, Close = 15314.0\n",
      "\n",
      "2021-01-08 11:35:00.103000, PreClose : 15368.0, Close : 15368.0, Ask : 15369.0, Bid : 15368.0\n",
      "Entry : 15368.0, pos : -1 at ts : 2021-01-08 11:35:00.103000, Close = 15368.0, StopLoss = 16.0\n",
      "Max Pnl : 3.0, Min Pnl : -16.0\n",
      "PreClose : 15383.0, Close : 15384.0, Ask : 15384.0, Bid : 15383.0\n",
      "Exit : 15384.0, pnl : -18.0, total_pnl : -81.0 at ts : 2021-01-08 11:37:44.055000, Close = 15384.0\n",
      "\n",
      "2021-01-08 11:40:00.984000, PreClose : 15376.0, Close : 15376.0, Ask : 15376.0, Bid : 15375.0\n",
      "Entry : 15376.0, pos : 1 at ts : 2021-01-08 11:40:00.984000, Close = 15376.0, StopLoss = 17.0\n",
      "Max Pnl : 10.0, Min Pnl : -4.0\n",
      "PreClose : 15385.0, Close : 15386.0, Ask : 15386.0, Bid : 15385.0\n",
      "Exit : 15386.0, pnl : 8.0, total_pnl : -73.0 at ts : 2021-01-08 11:44:38.825000, Close = 15386.0\n",
      "\n",
      "2021-01-08 11:55:00.448000, PreClose : 15432.0, Close : 15433.0, Ask : 15433.0, Bid : 15431.0\n",
      "Entry : 15431.0, pos : -1 at ts : 2021-01-08 11:55:00.448000, Close = 15433.0, StopLoss = 8.0\n",
      "Max Pnl : 10.0, Min Pnl : -4.0\n",
      "PreClose : 15422.0, Close : 15421.0, Ask : 15422.0, Bid : 15421.0\n",
      "Exit : 15421.0, pnl : 8.0, total_pnl : -65.0 at ts : 2021-01-08 11:58:01.086000, Close = 15421.0\n",
      "\n",
      "2021-01-08 12:05:00.162000, PreClose : 15458.0, Close : 15458.0, Ask : 15459.0, Bid : 15457.0\n",
      "Entry : 15459.0, pos : 1 at ts : 2021-01-08 12:05:00.162000, Close = 15458.0, StopLoss = 39.0\n",
      "Max Pnl : 2.0, Min Pnl : -39.0\n",
      "PreClose : 15421.0, Close : 15420.0, Ask : 15421.0, Bid : 15420.0\n",
      "Exit : 15420.0, pnl : -41.0, total_pnl : -106.0 at ts : 2021-01-08 12:11:12.195000, Close = 15420.0\n",
      "\n",
      "2021-01-08 12:20:00.190000, PreClose : 15413.0, Close : 15414.0, Ask : 15414.0, Bid : 15412.0\n",
      "Entry : 15414.0, pos : 1 at ts : 2021-01-08 12:20:00.190000, Close = 15414.0, StopLoss = 11.0\n",
      "Max Pnl : 10.0, Min Pnl : -4.0\n",
      "PreClose : 15422.0, Close : 15424.0, Ask : 15424.0, Bid : 15423.0\n",
      "Exit : 15424.0, pnl : 8.0, total_pnl : -98.0 at ts : 2021-01-08 12:23:10.570000, Close = 15424.0\n",
      "\n",
      "2021-01-08 12:30:00.078000, PreClose : 15375.0, Close : 15373.0, Ask : 15375.0, Bid : 15373.0\n",
      "Entry : 15373.0, pos : -1 at ts : 2021-01-08 12:30:00.078000, Close = 15373.0, StopLoss = 62.0\n",
      "Max Pnl : 7.0, Min Pnl : -41.0\n",
      "PreClose : 15413.0, Close : 15414.0, Ask : 15414.0, Bid : 15413.0\n",
      "Exit : 15414.0, pnl : -43.0, total_pnl : -141.0 at ts : 2021-01-08 12:45:00.075000, Close = 15414.0\n",
      "\n",
      "2021-01-08 12:55:03.063000, PreClose : 15415.0, Close : 15416.0, Ask : 15416.0, Bid : 15415.0\n",
      "Entry : 15415.0, pos : -1 at ts : 2021-01-08 12:55:03.063000, Close = 15416.0, StopLoss = 10.0\n",
      "Max Pnl : 0, Min Pnl : -10.0\n",
      "PreClose : 15424.0, Close : 15425.0, Ask : 15425.0, Bid : 15423.0\n",
      "Exit : 15425.0, pnl : -12.0, total_pnl : -153.0 at ts : 2021-01-08 12:55:37.229000, Close = 15425.0\n",
      "\n",
      "------------Strategy Result at 2021-01-08------------\n",
      "Total PnL : -153.0\n",
      "Avg Win : 8.0\n",
      "Num Win : 9\n",
      "Avg Loss : -20.454545454545453\n",
      "Num Loss : 11\n",
      "Avg PnL : -7.65\n",
      "G/L : 0.39111111111111113, Pw : 0.45, Expected Value : -0.374\n",
      "Max Pnl : 0, Min Pnl : -153.0\n",
      "\n",
      "===================End BackTest===================\n",
      "\n",
      "401 : Token is expired.\n",
      "401 : Token is expired.\n",
      "===============Backtest 2021-01-11===============\n",
      "2021-01-11 09:35:00.002000, PreClose : 15445.0, Close : 15444.0, Ask : 15447.0, Bid : 15445.0\n",
      "Entry : 15445.0, pos : -1 at ts : 2021-01-11 09:35:00.002000, Close = 15444.0, StopLoss = 65.0\n",
      "Max Pnl : 10.0, Min Pnl : -1.0\n",
      "PreClose : 15436.0, Close : 15435.0, Ask : 15437.0, Bid : 15436.0\n",
      "Exit : 15435.0, pnl : 8.0, total_pnl : 8.0 at ts : 2021-01-11 09:35:02.991000, Close = 15435.0\n",
      "\n",
      "2021-01-11 09:50:00.138000, PreClose : 15453.0, Close : 15452.0, Ask : 15454.0, Bid : 15452.0\n",
      "Entry : 15454.0, pos : 1 at ts : 2021-01-11 09:50:00.138000, Close = 15452.0, StopLoss = 17.0\n",
      "Max Pnl : 10.0, Min Pnl : -15.0\n",
      "PreClose : 15463.0, Close : 15464.0, Ask : 15463.0, Bid : 15462.0\n",
      "Exit : 15464.0, pnl : 8.0, total_pnl : 16.0 at ts : 2021-01-11 09:51:01.301000, Close = 15464.0\n",
      "\n",
      "2021-01-11 10:00:00.005000, PreClose : 15429.0, Close : 15427.0, Ask : 15428.0, Bid : 15427.0\n",
      "Entry : 15427.0, pos : -1 at ts : 2021-01-11 10:00:00.005000, Close = 15427.0, StopLoss = 48.0\n",
      "Max Pnl : 10.0, Min Pnl : -17.0\n",
      "PreClose : 15418.0, Close : 15417.0, Ask : 15419.0, Bid : 15418.0\n",
      "Exit : 15417.0, pnl : 8.0, total_pnl : 24.0 at ts : 2021-01-11 10:02:21.323000, Close = 15417.0\n",
      "\n",
      "2021-01-11 10:10:00.081000, PreClose : 15406.0, Close : 15406.0, Ask : 15406.0, Bid : 15404.0\n",
      "Entry : 15406.0, pos : 1 at ts : 2021-01-11 10:10:00.081000, Close = 15406.0, StopLoss = 14.0\n",
      "Max Pnl : 10.0, Min Pnl : -3.0\n",
      "PreClose : 15415.0, Close : 15416.0, Ask : 15415.0, Bid : 15414.0\n",
      "Exit : 15416.0, pnl : 8.0, total_pnl : 32.0 at ts : 2021-01-11 10:10:16.158000, Close = 15416.0\n",
      "\n",
      "2021-01-11 10:40:00.021000, PreClose : 15442.0, Close : 15443.0, Ask : 15444.0, Bid : 15442.0\n",
      "Entry : 15442.0, pos : -1 at ts : 2021-01-11 10:40:00.021000, Close = 15443.0, StopLoss = 21.0\n",
      "Max Pnl : 1.0, Min Pnl : -21.0\n",
      "PreClose : 15462.0, Close : 15463.0, Ask : 15463.0, Bid : 15462.0\n",
      "Exit : 15463.0, pnl : -23.0, total_pnl : 9.0 at ts : 2021-01-11 10:47:56.702000, Close = 15463.0\n",
      "\n",
      "2021-01-11 10:55:00.255000, PreClose : 15471.0, Close : 15469.0, Ask : 15469.0, Bid : 15468.0\n",
      "Entry : 15468.0, pos : -1 at ts : 2021-01-11 10:55:00.255000, Close = 15469.0, StopLoss = 5.0\n",
      "Max Pnl : 10.0, Min Pnl : -1.0\n",
      "PreClose : 15461.0, Close : 15458.0, Ask : 15460.0, Bid : 15458.0\n",
      "Exit : 15458.0, pnl : 8.0, total_pnl : 17.0 at ts : 2021-01-11 10:55:06.628000, Close = 15458.0\n",
      "\n",
      "2021-01-11 11:05:00.362000, PreClose : 15460.0, Close : 15459.0, Ask : 15459.0, Bid : 15458.0\n",
      "Entry : 15459.0, pos : 1 at ts : 2021-01-11 11:05:00.362000, Close = 15459.0, StopLoss = 21.0\n",
      "Max Pnl : 10.0, Min Pnl : -2.0\n",
      "PreClose : 15468.0, Close : 15469.0, Ask : 15468.0, Bid : 15467.0\n",
      "Exit : 15469.0, pnl : 8.0, total_pnl : 25.0 at ts : 2021-01-11 11:09:38.971000, Close = 15469.0\n",
      "\n",
      "2021-01-11 11:15:00.493000, PreClose : 15465.0, Close : 15464.0, Ask : 15465.0, Bid : 15464.0\n",
      "Entry : 15464.0, pos : -1 at ts : 2021-01-11 11:15:00.493000, Close = 15464.0, StopLoss = 8.0\n",
      "Max Pnl : 10.0, Min Pnl : -3.0\n",
      "PreClose : 15455.0, Close : 15454.0, Ask : 15455.0, Bid : 15454.0\n",
      "Exit : 15454.0, pnl : 8.0, total_pnl : 33.0 at ts : 2021-01-11 11:18:04.345000, Close = 15454.0\n",
      "\n",
      "2021-01-11 11:35:00.042000, PreClose : 15452.0, Close : 15452.0, Ask : 15452.0, Bid : 15451.0\n",
      "Entry : 15452.0, pos : 1 at ts : 2021-01-11 11:35:00.042000, Close = 15452.0, StopLoss = 30.0\n"
     ]
    },
    {
     "name": "stdout",
     "output_type": "stream",
     "text": [
      "Max Pnl : 6.0, Min Pnl : -9.0\n",
      "PreClose : 15439.0, Close : 15440.0, Ask : 15449.0, Bid : 15447.0\n",
      "Exit : 15447.0, pnl : -7.0, total_pnl : 26.0 at ts : 2021-01-11 11:45:00.122000, Close = 15440.0\n",
      "\n",
      "2021-01-11 11:55:00.167000, PreClose : 15433.0, Close : 15433.0, Ask : 15449.0, Bid : 15447.0\n",
      "Entry : 15449.0, pos : 1 at ts : 2021-01-11 11:55:00.167000, Close = 15433.0, StopLoss = 31.0\n",
      "Max Pnl : 4.0, Min Pnl : -2.0\n",
      "PreClose : 15441.0, Close : 15440.0, Ask : 15449.0, Bid : 15447.0\n",
      "Exit : 15447.0, pnl : -4.0, total_pnl : 22.0 at ts : 2021-01-11 12:20:00.616000, Close = 15440.0\n",
      "\n",
      "2021-01-11 12:35:00.079000, PreClose : 15406.0, Close : 15406.0, Ask : 15449.0, Bid : 15447.0\n",
      "Entry : 15449.0, pos : 1 at ts : 2021-01-11 12:35:00.079000, Close = 15406.0, StopLoss = 46.0\n",
      "Max Pnl : 0, Min Pnl : -2.0\n",
      "PreClose : 15413.0, Close : 15412.0, Ask : 15449.0, Bid : 15447.0\n",
      "Exit : 15447.0, pnl : -4.0, total_pnl : 18.0 at ts : 2021-01-11 12:45:00.113000, Close = 15412.0\n",
      "\n",
      "2021-01-11 12:50:00.604000, PreClose : 15419.0, Close : 15419.0, Ask : 15449.0, Bid : 15447.0\n",
      "Entry : 15449.0, pos : 1 at ts : 2021-01-11 12:50:00.604000, Close = 15419.0, StopLoss = 37.0\n",
      "Max Pnl : 0, Min Pnl : -2.0\n",
      "PreClose : 15413.0, Close : 15414.0, Ask : 15449.0, Bid : 15447.0\n",
      "Exit : 15447.0, pnl : -4.0, total_pnl : 14.0 at ts : 2021-01-11 12:55:00.452000, Close = 15414.0\n",
      "\n",
      "------------Strategy Result at 2021-01-11------------\n",
      "Total PnL : 14.0\n",
      "Avg Win : 8.0\n",
      "Num Win : 7\n",
      "Avg Loss : -8.4\n",
      "Num Loss : 5\n",
      "Avg PnL : 1.1666666666666667\n",
      "G/L : 0.9523809523809523, Pw : 0.5833333333333334, Expected Value : 0.13888888888888895\n",
      "Max Pnl : 33.0, Min Pnl : 0\n",
      "\n",
      "===================End BackTest===================\n",
      "\n",
      "===============Backtest 2021-01-12===============\n",
      "2021-01-12 09:15:00.023000, PreClose : None, Close : 15571.0, Ask : 15572.0, Bid : 15571.0\n",
      "Entry : 15571.0, pos : -1 at ts : 2021-01-12 09:15:00.023000, Close = 15571.0, StopLoss = 5.0\n",
      "Max Pnl : 10.0, Min Pnl : -2.0\n",
      "PreClose : 15562.0, Close : 15561.0, Ask : 15564.0, Bid : 15562.0\n",
      "Exit : 15561.0, pnl : 8.0, total_pnl : 8.0 at ts : 2021-01-12 09:15:04.582000, Close = 15561.0\n",
      "\n"
     ]
    }
   ],
   "source": [
    "results = {}\n",
    "dfs = {}\n",
    "# with ThreadPoolExecutor(4) as executors:\n",
    "    \n",
    "for date in pd.date_range(datetime(2021,1,4), datetime(2022,3,18)):\n",
    "    try:\n",
    "        if date not in dfs.keys():\n",
    "            dfs[date] = GetPairData(api, date=date)\n",
    "        if dfs[date] is None or dfs[date].empty:\n",
    "            print(f'===============No Data on {date.strftime(\"%Y-%m-%d\")}===============')\n",
    "            continue\n",
    "        print(f'===============Backtest {date.strftime(\"%Y-%m-%d\")}===============')\n",
    "        results[date] = Backtest(dfs[date], takeprofit = 10, stop_loss = 8, gap_threshold=0.3, inverse_threshold=80, pre_day_close = 17896, date=date, window=5)\n",
    "#         results[date] = Backtest(dfs[date], takeprofit = 8, stoploss = 30, gap_threshold=0.2,date=date)\n",
    "        time.sleep(0.5)\n",
    "    except KeyboardInterrupt:\n",
    "        break\n",
    "    except Exception as e:\n",
    "        print(e)\n",
    "        pass"
   ]
  },
  {
   "cell_type": "code",
   "execution_count": 73,
   "metadata": {
    "ExecuteTime": {
     "end_time": "2022-03-19T17:52:13.435723Z",
     "start_time": "2022-03-19T17:52:13.417714Z"
    },
    "scrolled": true
   },
   "outputs": [
    {
     "name": "stdout",
     "output_type": "stream",
     "text": [
      "2021-01-15 00:00:00 -184.0\n",
      "2021-01-20 00:00:00 -112.0\n",
      "2021-01-21 00:00:00 -213.0\n",
      "2021-01-26 00:00:00 -181.0\n",
      "2021-02-24 00:00:00 -163.0\n",
      "2021-03-19 00:00:00 -113.0\n",
      "2021-03-23 00:00:00 -72.0\n",
      "2021-03-26 00:00:00 -222.0\n",
      "2021-04-13 00:00:00 -88.0\n",
      "2021-04-23 00:00:00 -60.0\n",
      "2021-04-28 00:00:00 -107.0\n",
      "2021-05-03 00:00:00 -240.0\n",
      "2021-06-04 00:00:00 -79.0\n",
      "2021-06-08 00:00:00 -52.0\n",
      "2021-06-15 00:00:00 -126.0\n",
      "2021-06-21 00:00:00 -154.0\n",
      "2021-06-30 00:00:00 -5.0\n",
      "2021-07-02 00:00:00 -51.0\n",
      "2021-07-06 00:00:00 -141.0\n",
      "2021-07-15 00:00:00 -102.0\n",
      "2021-07-19 00:00:00 -109.0\n",
      "2021-07-20 00:00:00 -143.0\n",
      "2021-07-22 00:00:00 -59.0\n",
      "2021-07-23 00:00:00 -64.0\n",
      "2021-07-29 00:00:00 -124.0\n",
      "2021-08-02 00:00:00 -150.0\n",
      "2021-08-03 00:00:00 -126.0\n",
      "2021-08-10 00:00:00 -100.0\n",
      "2021-08-26 00:00:00 -106.0\n",
      "2021-08-27 00:00:00 -147.0\n",
      "2021-09-07 00:00:00 -127.0\n",
      "2021-09-15 00:00:00 -126.0\n",
      "2021-09-22 00:00:00 -244.0\n",
      "2021-09-30 00:00:00 -99.0\n",
      "2021-10-06 00:00:00 -156.0\n",
      "2021-10-07 00:00:00 -151.0\n",
      "2021-10-13 00:00:00 -70.0\n",
      "2021-10-22 00:00:00 -113.0\n",
      "2021-10-25 00:00:00 -166.0\n",
      "2021-10-26 00:00:00 -59.0\n",
      "2021-11-04 00:00:00 -18.0\n",
      "2021-11-05 00:00:00 -82.0\n",
      "2021-11-16 00:00:00 -9.0\n",
      "2021-11-24 00:00:00 -38.0\n",
      "2021-12-02 00:00:00 -162.0\n",
      "2021-12-06 00:00:00 -48.0\n",
      "2021-12-07 00:00:00 -126.0\n",
      "2021-12-08 00:00:00 -62.0\n",
      "2021-12-09 00:00:00 -97.0\n",
      "2021-12-10 00:00:00 -156.0\n",
      "2022-01-10 00:00:00 -84.0\n",
      "2022-02-10 00:00:00 -56.0\n",
      "2022-02-15 00:00:00 -128.0\n",
      "2022-03-01 00:00:00 -132.0\n",
      "2022-03-03 00:00:00 -2.0\n",
      "2022-03-07 00:00:00 -169.0\n",
      "2022-03-16 00:00:00 -20.0\n"
     ]
    }
   ],
   "source": [
    "cum_pnl = []\n",
    "\n",
    "for d, res in results.items():\n",
    "    if res[0] <0:\n",
    "        print(d, res[0])\n",
    "    cum_pnl.append({\"Date\":d.strftime(\"%Y-%m-%d\"), \"PnL\":res[0]})"
   ]
  },
  {
   "cell_type": "code",
   "execution_count": 74,
   "metadata": {
    "ExecuteTime": {
     "end_time": "2022-03-19T17:52:21.833712Z",
     "start_time": "2022-03-19T17:52:21.819722Z"
    },
    "scrolled": true
   },
   "outputs": [],
   "source": [
    "Cum_df = pd.DataFrame(cum_pnl).set_index(\"Date\")\n",
    "Cum_df[\"W_L\"] = Cum_df['PnL'].apply(lambda x: 1 if x > 0 else (-1 if x < 0 else 0))"
   ]
  },
  {
   "cell_type": "code",
   "execution_count": 75,
   "metadata": {
    "ExecuteTime": {
     "end_time": "2022-03-19T17:52:29.738373Z",
     "start_time": "2022-03-19T17:52:29.725380Z"
    }
   },
   "outputs": [
    {
     "data": {
      "text/plain": [
       "(0.7942238267148014,\n",
       " 15.854545454545455,\n",
       " -110.40350877192982,\n",
       " -10.126353790613722)"
      ]
     },
     "execution_count": 75,
     "metadata": {},
     "output_type": "execute_result"
    }
   ],
   "source": [
    "win_trade = (Cum_df[\"W_L\"] > 0).sum()\n",
    "loss_trade = (Cum_df[\"W_L\"] < 0).sum()\n",
    "total_win = (Cum_df[Cum_df[\"W_L\"] > 0][\"PnL\"]).sum()\n",
    "total_loss = (Cum_df[Cum_df[\"W_L\"] < 0][\"PnL\"]).sum()\n",
    "Pw = win_trade / (win_trade + loss_trade)\n",
    "avg_win = total_win / win_trade\n",
    "avg_loss = total_loss / loss_trade\n",
    "Ev = Pw * avg_win + (1-Pw) * avg_loss\n",
    "Pw, avg_win, avg_loss, Ev"
   ]
  },
  {
   "cell_type": "code",
   "execution_count": 76,
   "metadata": {
    "ExecuteTime": {
     "end_time": "2022-03-19T17:52:39.247051Z",
     "start_time": "2022-03-19T17:52:39.076969Z"
    }
   },
   "outputs": [
    {
     "name": "stderr",
     "output_type": "stream",
     "text": [
      "c:\\users\\kevin\\appdata\\local\\programs\\python\\python37\\lib\\site-packages\\pandas\\plotting\\_matplotlib\\core.py:1192: UserWarning: FixedFormatter should only be used together with FixedLocator\n",
      "  ax.set_xticklabels(xticklabels)\n"
     ]
    },
    {
     "data": {
      "text/plain": [
       "<AxesSubplot:xlabel='Date'>"
      ]
     },
     "execution_count": 76,
     "metadata": {},
     "output_type": "execute_result"
    },
    {
     "data": {
      "image/png": "[encoded data removed]",
      "text/plain": [
       "<Figure size 864x576 with 1 Axes>"
      ]
     },
     "metadata": {
      "needs_background": "light"
     },
     "output_type": "display_data"
    }
   ],
   "source": [
    "Cum_df[\"PnL\"].cumsum().plot(figsize=(12,8))"
   ]
  },
  {
   "cell_type": "code",
   "execution_count": 47,
   "metadata": {
    "ExecuteTime": {
     "end_time": "2022-01-21T16:56:48.712507Z",
     "start_time": "2022-01-21T16:56:48.386398Z"
    }
   },
   "outputs": [
    {
     "data": {
      "text/plain": [
       "<AxesSubplot:xlabel='Date'>"
      ]
     },
     "execution_count": 47,
     "metadata": {},
     "output_type": "execute_result"
    },
    {
     "data": {
      "image/png": "[encoded data removed]",
      "text/plain": [
       "<Figure size 864x576 with 1 Axes>"
      ]
     },
     "metadata": {
      "needs_background": "light"
     },
     "output_type": "display_data"
    }
   ],
   "source": [
    "Cum_df.cumsum().plot(figsize=(12,8))"
   ]
  },
  {
   "cell_type": "code",
   "execution_count": 389,
   "metadata": {
    "ExecuteTime": {
     "end_time": "2022-01-23T16:59:44.948245Z",
     "start_time": "2022-01-23T15:51:04.146329Z"
    }
   },
   "outputs": [],
   "source": [
    "import json\n",
    "data_path = os.path.join(parent, \"HistoricData\", \"MXF\")\n",
    "if not os.path.isdir(data_path):\n",
    "    os.makedirs(data_path)\n",
    "for k, v in dfs.items():\n",
    "    tdStr = k.strftime(\"%Y-%m-%d\")\n",
    "    with open(os.path.join(data_path, f\"MXF_{tdStr}.json\"), 'w') as f:\n",
    "        v = v.reset_index()\n",
    "        v.datetime = v.datetime.apply(lambda x: x.strftime(\"%Y-%m-%d %H:%M:%S.%f\"))\n",
    "        json.dump(list(v.T.to_dict().values()), f)"
   ]
  }
 ],
 "metadata": {
  "hide_input": false,
  "kernelspec": {
   "display_name": "Python 3",
   "language": "python",
   "name": "python3"
  },
  "language_info": {
   "codemirror_mode": {
    "name": "ipython",
    "version": 3
   },
   "file_extension": ".py",
   "mimetype": "text/x-python",
   "name": "python",
   "nbconvert_exporter": "python",
   "pygments_lexer": "ipython3",
   "version": "3.7.8"
  },
  "toc": {
   "base_numbering": 1,
   "nav_menu": {},
   "number_sections": true,
   "sideBar": true,
   "skip_h1_title": false,
   "title_cell": "Table of Contents",
   "title_sidebar": "Contents",
   "toc_cell": false,
   "toc_position": {},
   "toc_section_display": true,
   "toc_window_display": false
  },
  "varInspector": {
   "cols": {
    "lenName": 16,
    "lenType": 16,
    "lenVar": 40
   },
   "kernels_config": {
    "python": {
     "delete_cmd_postfix": "",
     "delete_cmd_prefix": "del ",
     "library": "var_list.py",
     "varRefreshCmd": "print(var_dic_list())"
    },
    "r": {
     "delete_cmd_postfix": ") ",
     "delete_cmd_prefix": "rm(",
     "library": "var_list.r",
     "varRefreshCmd": "cat(var_dic_list()) "
    }
   },
   "types_to_exclude": [
    "module",
    "function",
    "builtin_function_or_method",
    "instance",
    "_Feature"
   ],
   "window_display": false
  }
 },
 "nbformat": 4,
 "nbformat_minor": 4
}
