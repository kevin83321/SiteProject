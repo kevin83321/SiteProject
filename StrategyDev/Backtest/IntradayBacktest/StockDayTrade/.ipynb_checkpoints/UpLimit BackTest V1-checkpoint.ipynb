{
 "cells": [
  {
   "cell_type": "code",
   "execution_count": 7,
   "metadata": {
    "ExecuteTime": {
     "end_time": "2021-12-19T08:25:13.892750Z",
     "start_time": "2021-12-19T08:25:13.887743Z"
    }
   },
   "outputs": [],
   "source": [
    "import shioaji as sj\n",
    "from datetime import datetime, timedelta\n",
    "import pandas as pd\n",
    "import pytz\n",
    "\n",
    "import json\n",
    "import os \n",
    "parent = os.path.dirname(os.path.abspath(\"__file__\"))\n",
    "StrongPath = os.path.join(parent, 'StrongTickers')\n",
    "if not os.path.isdir(StrongPath):\n",
    "    os.makedirs(StrongPath)\n",
    "# import matplotlib.pyplot as plt\n",
    "# %matplotlib inline"
   ]
  },
  {
   "cell_type": "code",
   "execution_count": 2,
   "metadata": {
    "ExecuteTime": {
     "end_time": "2021-12-19T08:20:18.880656Z",
     "start_time": "2021-12-19T08:20:16.515470Z"
    }
   },
   "outputs": [
    {
     "name": "stdout",
     "output_type": "stream",
     "text": [
      "Response Code: 0 | Event Code: 0 | Info: host '203.66.91.161:80', hostname '203.66.91.161:80' IP 203.66.91.161:80 (host 1 of 1) (host connection attempt 1 of 1) (total connection attempt 1 of 1) | Event: Session up\n"
     ]
    },
    {
     "data": {
      "text/plain": [
       "[FutureAccount(person_id='F128497445', broker_id='F002000', account_id='1473661', signed=True, username='鄭圳宏'),\n",
       " Account(account_type=<AccountType.H: 'H'>, person_id='F128497445', broker_id='9A92', account_id='0011645', username='鄭圳宏'),\n",
       " StockAccount(person_id='F128497445', broker_id='9A92', account_id='0231901', signed=True, username='鄭圳宏\\u3000\\u3000')]"
      ]
     },
     "execution_count": 2,
     "metadata": {},
     "output_type": "execute_result"
    }
   ],
   "source": [
    "api = sj.Shioaji()\n",
    "api.login('F128497445', 'j7629864')"
   ]
  },
  {
   "cell_type": "code",
   "execution_count": 137,
   "metadata": {
    "ExecuteTime": {
     "end_time": "2021-12-19T10:25:50.946157Z",
     "start_time": "2021-12-19T10:25:50.687942Z"
    },
    "code_folding": [
     0,
     14
    ]
   },
   "outputs": [],
   "source": [
    "def readStrongTicker(dtStr):\n",
    "    if os.path.isfile(os.path.join(StrongPath, f'{dtStr}_tradableTicker.json')):\n",
    "        with open(os.path.join(StrongPath, f'{dtStr}_tradableTicker.json'), 'r') as f:\n",
    "            tickers = json.load(f)\n",
    "            return tickers\n",
    "    elif os.path.isfile(os.path.join(StrongPath, f'{dtStr}_strongTicker.json')):\n",
    "        with open(os.path.join(StrongPath, f'{dtStr}_strongTicker.json'), 'r') as f:\n",
    "            tickers = json.load(f)\n",
    "            return tickers\n",
    "    else:\n",
    "        return {}\n",
    "\n",
    "def get_minimum_tick(cost):\n",
    "    if cost < 10:\n",
    "        return 0.01\n",
    "    elif cost < 50:\n",
    "        return 0.05\n",
    "    elif cost < 100:\n",
    "        return 0.1\n",
    "    elif cost < 500:\n",
    "        return 0.5\n",
    "    elif cost < 1000:\n",
    "        return 1\n",
    "    else:\n",
    "        return 5\n",
    "    \n",
    "def get_commission(price:float, multiplier:int=1000, qty=1, Real:bool=True, direction:str='', dayTrade:bool=False):\n",
    "    \"\"\"\n",
    "    計算個別部位的單邊交易成本\n",
    "\n",
    "    Params:\n",
    "        symbol : 商品代碼\n",
    "        exchange : 交易所\n",
    "        cost : 交易價格\n",
    "        multiplier : 價格還原現金之乘數\n",
    "            例如:\n",
    "                股票 : 1張 = 1,000股，10元的股票還原現金價值，即為10 *1,000 = 10,000元\n",
    "                期貨 : 台指期1點200元，假設現在10,000點，則一口台股的價值為 200 * 10,000 = 2,000,000\n",
    "        qty : 買賣口數或張數\n",
    "        Real : 是否為實單, default = False\n",
    "        direction : 交易方向 進場(買賣)或出場\n",
    "            P.S. 股票交易的交易稅是出場才計算\n",
    "    \"\"\"\n",
    "    tick = get_minimum_tick(price)\n",
    "    commission = price * (0.1425 / 100) * multiplier * qty\n",
    "    commission = 20 if commission < 20 else commission\n",
    "    fee = price * (0.3 / 100) * multiplier * qty\n",
    "    if dayTrade:\n",
    "        fee /= 2\n",
    "    slide = tick * multiplier\n",
    "    tradeCost = commission * 0.6\n",
    "    if direction == 'EXIT' or direction == 0:\n",
    "        tradeCost += fee\n",
    "    if not Real:\n",
    "        tradeCost += slide * qty\n",
    "    return tradeCost"
   ]
  },
  {
   "cell_type": "code",
   "execution_count": 155,
   "metadata": {
    "ExecuteTime": {
     "end_time": "2021-12-19T13:49:24.192783Z",
     "start_time": "2021-12-19T13:49:24.153785Z"
    },
    "code_folding": [
     8
    ]
   },
   "outputs": [],
   "source": [
    "def backtest(api:sj.Shioaji, ticker:str, date:datetime, open_threshold:float=0, PreData:dict={},\n",
    "             v_threshold:float=.01, entry_percent:float=.06, exit_percent:float=.09, \n",
    "             takeprofit:float=.6, start_moving_take = .015, sl_ratio:float=.02, max_size:float = 1, \n",
    "             exit_time:str='13:00:00.000000'): # \n",
    "#     print(PreData)\n",
    "    # prepare data\n",
    "    dateStr = date.strftime(\"%Y-%m-%d\")\n",
    "    contact = api.Contracts.Stocks[ticker]\n",
    "    data = api.ticks(contact, dateStr, \n",
    "            query_type=sj.constant.TicksQueryType.RangeTime, \n",
    "            time_start='09:00:00',#datetime(2021,11,5,8,45,0).time(),\n",
    "           time_end='13:30:00')#datetime(2021,11,5,13,45,0).time())\n",
    "    df = pd.DataFrame(data.dict())\n",
    "    df['datetime'] = df.ts.apply(lambda x: datetime.utcfromtimestamp(int(str(x)[:10])).astimezone(pytz.timezone('Asia/Taipei')))\n",
    "#     df['time'] = \n",
    "    \n",
    "    # setting Parameters\n",
    "    opening = False\n",
    "    closing = False\n",
    "    \n",
    "    pre_time:str=\"09:00:00\"\n",
    "    pre_volume:int = 0\n",
    "    pre_close:int = 0\n",
    "    total_v:int = 0 \n",
    "    refPrice:float = PreData.get('PreClose', 0)\n",
    "    preHigh:float = PreData.get('PreHigh', 0)\n",
    "    preLow:float = PreData.get('PreLow', 9999)\n",
    "    entry_threshold:float = 0 if not refPrice else refPrice * (1 + entry_percent)\n",
    "    exit_threshold:float = 0 if not refPrice else refPrice * (1 + exit_percent)\n",
    "    max_ret:float = 0\n",
    "    tmp_ret:float = 0\n",
    "    pos = 0\n",
    "    sig = 0\n",
    "    traded = 0\n",
    "    entry = 0\n",
    "    entry_time = 0\n",
    "\n",
    "#     preHigh = 0\n",
    "#     preLow = 9999\n",
    "    sl_threshold = 0\n",
    "    \n",
    "    pnl:float = 0\n",
    "    total_volume = 0\n",
    "    first_5mink = {'open':None, 'high':0,'low':9999, 'close':0}\n",
    "        \n",
    "    entry_time = ''\n",
    "    exit_pos_time = ''\n",
    "    tmp_pnl = 0\n",
    "    for row in df.itertuples():\n",
    "#         print(row)\n",
    "        price = row.close\n",
    "        time = row.datetime\n",
    "        qty = row.volume\n",
    "        total_volume += qty\n",
    "        \n",
    "#         if not pre_close :\n",
    "#             pre_close = price\n",
    "#         print(time.strftime('%H%M%S'), time.strftime('%H%M%S') <= \"090500\", time.strftime('%H%M%S') < exit_time)\n",
    "        if time <= time.replace(hour=9,minute=5,second=0, microsecond=0):#\"09:05:00.000000\":\n",
    "            if not first_5mink['open']:\n",
    "                first_5mink['open'] = price\n",
    "            first_5mink['high'] = max(first_5mink['high'], price)\n",
    "            first_5mink['low'] = min(first_5mink['low'], price)\n",
    "            first_5mink['close'] = price\n",
    "            continue\n",
    "        if time < time.replace(hour=13,minute=0,second=0, microsecond=0):# < exit_time:# or time <= \"13:00:00.000000\":\n",
    "            if not pos and not sig and not traded: # check signal without position\n",
    "                if price > max(first_5mink['open'], first_5mink['close'],preHigh) * 1.005 and price <= entry_threshold:\n",
    "                    print(','.join([str(x) for x in [price, first_5mink['open'], first_5mink['close'], preHigh, max(first_5mink['open'], first_5mink['close'],preHigh) * 1.005]]))\n",
    "#                     print(price, preHigh, max(max(first_5mink['open'], first_5mink['close'], first_5mink['high']),preHigh) * 1.005)#, price > max(max(first_5mink['open'], first_5mink['close'], first_5mink['high']),preHigh) * 1.005)\n",
    "                    sig = 1\n",
    "                    oneTradeOnly = True\n",
    "            elif not pos and sig: # entry market\n",
    "#                 print(row)\n",
    "                print(price, row.ask_price)\n",
    "                entry = row.ask_price\n",
    "                if abs(entry / price - 1) >= .005:\n",
    "                    entry = price\n",
    "                pos, sig = sig, 0\n",
    "                entry_time = row.datetime\n",
    "                sl_threshold = entry * (1 - sl_ratio)\n",
    "            elif pos and not sig: # check signal with position\n",
    "                tmp_pnl = (price - entry) * 1000 * pos\n",
    "                tmp_pnl -= int(get_commission(entry if pos > 0 else price)) # 進場成本\n",
    "                tmp_pnl -= int(get_commission(price if pos > 0 else entry, direction='EXIT', dayTrade=True)) # 出場成本\n",
    "                tmp_ret = ((price / entry) - 1) * pos\n",
    "                if tmp_ret > max_ret:\n",
    "                    sl_threshold = price * (1 - sl_ratio)\n",
    "                max_ret = max(tmp_ret, max_ret)\n",
    "                \n",
    "                do_exit_take = False\n",
    "                if max_ret >= start_moving_take:\n",
    "                    do_exit_take = (tmp_ret / max_ret) <= (takeprofit) if max_ret else False\n",
    "                do_exit_stop = price <= sl_threshold\n",
    "                do_exit = price >= exit_threshold if pos > 0 else price <= (refPrice * (1 - exit_percent))\n",
    "                \n",
    "#                 exit_end = time.strftime('%H:%M:%S.%f') >= exit_time\n",
    "                if any([do_exit, do_exit_take, do_exit_stop]):\n",
    "                    sig = -pos\n",
    "#                     self.closing=True\n",
    "#                     self.DoTrade('S' if self.pos > 0 else 'B')\n",
    "#                     self.sendNotifyExit(self.q20_data['datetime'].strftime(\"%H:%M:%S.%f\"), self.symbol, self.name,\n",
    "#                                      close, self.q20_data['pct_chg'], do_exit_take or do_exit)\n",
    "            elif pos and sig:\n",
    "                signal_time = row.datetime\n",
    "                print(price, row.bid_price)\n",
    "                exit = row.bid_price\n",
    "                if abs(exit / price - 1) >= .005:\n",
    "                    eixt = price\n",
    "                tmp_pnl = (price - entry) * 1000 * pos\n",
    "                tmp_pnl -= int(get_commission(entry if pos > 0 else price)) # 進場成本\n",
    "                tmp_pnl -= int(get_commission(price if pos > 0 else entry, direction='EXIT', dayTrade=True)) # 出場成本\n",
    "                tmp_ret = ((price / entry) - 1) * pos\n",
    "            \n",
    "                print('\\n---------------PnL Summary--------------')\n",
    "                print(f'Exit Position of {ticker}')\n",
    "                print(f'Entry : {entry} at {entry_time}')\n",
    "                print(f'Exit : {price} at {signal_time}')\n",
    "                print(f'Total PnL with Cost : {int(round(tmp_pnl))}')\n",
    "                print(f'Total Ret with Cost : {round(tmp_ret * 100, 2)}%')\n",
    "                print(f'Total PnL with Cost of max size {max_size}: {max_size * int(round(tmp_pnl))}\\n')\n",
    "                \n",
    "                sig = pos = 0\n",
    "                traded = True\n",
    "                exit_pos_time = row.datetime\n",
    "        else:\n",
    "            if pos and not sig:\n",
    "                tmp_pnl = (price - entry) * 1000 * pos\n",
    "                tmp_pnl -= int(get_commission(entry if pos > 0 else price)) # 進場成本\n",
    "                tmp_pnl -= int(get_commission(price if pos > 0 else entry, direction='EXIT', dayTrade=True)) # 出場成本\n",
    "#                 tmp_ret = ((price / entry) - 1) * pos\n",
    "                tmp_ret = (tmp_pnl / entry * 1000) - 1\n",
    "                if tmp_ret > max_ret:\n",
    "                    sl_threshold = price * (1 - sl_ratio)\n",
    "                max_ret = max(tmp_ret, max_ret)\n",
    "\n",
    "                do_exit_take = False\n",
    "                if max_ret >= start_moving_take:\n",
    "                    do_exit_take = (tmp_ret / max_ret) <= (takeprofit) if max_ret else False\n",
    "                do_exit_stop = price <= sl_threshold\n",
    "                do_exit = price >= exit_threshold if pos > 0 else price <= (refPrice * (1 - exit_percent))\n",
    "                sig = -pos\n",
    "            elif pos and sig:\n",
    "                signal_time = row.datetime\n",
    "                print(price, row.bid_price)\n",
    "                exit = row.bid_price\n",
    "                if abs(exit / price - 1) >= .005:\n",
    "                    eixt = price\n",
    "                tmp_pnl = (price - entry) * 1000 * pos\n",
    "                tmp_pnl -= int(get_commission(entry if pos > 0 else price)) # 進場成本\n",
    "                tmp_pnl -= int(get_commission(price if pos > 0 else entry, direction='EXIT', dayTrade=True)) # 出場成本\n",
    "                tmp_ret = ((price / entry) - 1) * pos\n",
    "            \n",
    "                print('\\n---------------PnL Summary--------------')\n",
    "                print(f'Exit Position of {ticker}')\n",
    "                print(f'Entry : {entry} at {entry_time}')\n",
    "                print(f'Exit : {price} at {signal_time}')\n",
    "                print(f'Total PnL with Cost : {int(round(tmp_pnl))}')\n",
    "                print(f'Total Ret with Cost : {round(tmp_ret * 100, 2)}%')\n",
    "                print(f'Total PnL with Cost of max size {max_size}: {max_size * int(round(tmp_pnl))}\\n')\n",
    "                \n",
    "                sig = pos = 0\n",
    "                traded = True\n",
    "                exit_pos_time = row.datetime\n",
    "    return int(round(tmp_pnl))"
   ]
  },
  {
   "cell_type": "code",
   "execution_count": 163,
   "metadata": {
    "ExecuteTime": {
     "end_time": "2021-12-19T13:52:13.613966Z",
     "start_time": "2021-12-19T13:52:13.604964Z"
    },
    "scrolled": true
   },
   "outputs": [
    {
     "name": "stdout",
     "output_type": "stream",
     "text": [
      "1454 最大倉位 : 8, 昨收 : 13.95\n",
      "1471 最大倉位 : 12, 昨收 : 9.29\n",
      "1560 最大倉位 : 1, 昨收 : 99.1\n",
      "1611 最大倉位 : 5, 昨收 : 20.55\n",
      "2312 最大倉位 : 7, 昨收 : 15.4\n",
      "2340 最大倉位 : 1, 昨收 : 65.1\n",
      "2399 最大倉位 : 4, 昨收 : 23.95\n",
      "2405 最大倉位 : 6, 昨收 : 18.6\n",
      "2406 最大倉位 : 3, 昨收 : 33.4\n",
      "2413 最大倉位 : 5, 昨收 : 23.75\n",
      "2457 最大倉位 : 2, 昨收 : 42.25\n",
      "2482 最大倉位 : 6, 昨收 : 18.55\n",
      "2495 最大倉位 : 6, 昨收 : 19.0\n",
      "3046 最大倉位 : 2, 昨收 : 48.05\n",
      "3047 最大倉位 : 9, 昨收 : 12.9\n",
      "3051 最大倉位 : 6, 昨收 : 17.95\n",
      "4967 最大倉位 : 2, 昨收 : 49.0\n",
      "6120 最大倉位 : 7, 昨收 : 15.55\n",
      "6541 最大倉位 : 1, 昨收 : 74.4\n",
      "8114 最大倉位 : 0, 昨收 : 120.5\n",
      "8215 最大倉位 : 2, 昨收 : 43.5\n",
      "3232 最大倉位 : 3, 昨收 : 30.55\n",
      "3290 最大倉位 : 5, 昨收 : 22.05\n",
      "3322 最大倉位 : 5, 昨收 : 21.9\n",
      "3390 最大倉位 : 5, 昨收 : 23.2\n",
      "3491 最大倉位 : 0, 昨收 : 204.5\n",
      "3499 最大倉位 : 4, 昨收 : 27.7\n",
      "3615 最大倉位 : 4, 昨收 : 25.4\n",
      "3672 最大倉位 : 2, 昨收 : 46.2\n",
      "3687 最大倉位 : 0, 昨收 : 143.0\n",
      "3710 最大倉位 : 11, 昨收 : 10.25\n",
      "4744 最大倉位 : 3, 昨收 : 38.6\n",
      "6118 最大倉位 : 2, 昨收 : 46.1\n",
      "6129 最大倉位 : 2, 昨收 : 39.7\n",
      "6134 最大倉位 : 3, 昨收 : 32.3\n",
      "6190 最大倉位 : 2, 昨收 : 43.1\n",
      "6207 最大倉位 : 3, 昨收 : 34.4\n",
      "6284 最大倉位 : 1, 昨收 : 70.3\n",
      "6523 最大倉位 : 1, 昨收 : 113.5\n",
      "8096 最大倉位 : 7, 昨收 : 15.1\n",
      "8936 最大倉位 : 5, 昨收 : 21.4\n",
      "9962 最大倉位 : 6, 昨收 : 18.5\n"
     ]
    }
   ],
   "source": [
    "date = datetime(2021,12,14)\n",
    "open_thresholds = readStrongTicker(date.strftime(\"%Y-%m-%d\"))\n",
    "total_capital = 5e6\n",
    "seperated_capital = int(total_capital / len(open_thresholds.keys()))\n",
    "max_size_map = {}\n",
    "for k, v in open_thresholds.items():\n",
    "    try:\n",
    "        max_pos = int(seperated_capital / (v['PreClose'] * 1000))\n",
    "        print(f'{k} 最大倉位 : {max_pos}, 昨收 : {v}')\n",
    "        max_size_map[k] = max_pos\n",
    "    except:\n",
    "        max_pos = int(seperated_capital / (v * 1000))\n",
    "        print(f'{k} 最大倉位 : {max_pos}, 昨收 : {v}')\n",
    "        max_size_map[k] = max_pos\n",
    "        "
   ]
  },
  {
   "cell_type": "code",
   "execution_count": 164,
   "metadata": {
    "ExecuteTime": {
     "end_time": "2021-12-19T13:52:16.285010Z",
     "start_time": "2021-12-19T13:52:16.275485Z"
    },
    "scrolled": false
   },
   "outputs": [
    {
     "name": "stdout",
     "output_type": "stream",
     "text": [
      "backtest : 1454\n",
      "backtest : 1471\n",
      "backtest : 1560\n",
      "backtest : 1611\n",
      "backtest : 2312\n",
      "backtest : 2340\n",
      "backtest : 2399\n",
      "backtest : 2405\n",
      "backtest : 2406\n",
      "backtest : 2413\n",
      "backtest : 2457\n",
      "backtest : 2482\n",
      "backtest : 2495\n",
      "backtest : 3046\n",
      "backtest : 3047\n",
      "backtest : 3051\n",
      "backtest : 4967\n",
      "backtest : 6120\n",
      "backtest : 6541\n",
      "backtest : 8114\n",
      "backtest : 8215\n",
      "backtest : 3232\n",
      "backtest : 3290\n",
      "backtest : 3322\n",
      "backtest : 3390\n",
      "backtest : 3491\n",
      "backtest : 3499\n",
      "backtest : 3615\n",
      "backtest : 3672\n",
      "backtest : 3687\n",
      "backtest : 3710\n",
      "backtest : 4744\n",
      "backtest : 6118\n",
      "backtest : 6129\n",
      "backtest : 6134\n",
      "backtest : 6190\n",
      "backtest : 6207\n",
      "backtest : 6284\n",
      "backtest : 6523\n",
      "backtest : 8096\n",
      "backtest : 8936\n",
      "backtest : 9962\n"
     ]
    }
   ],
   "source": [
    "pnl_ = {}\n",
    "for ticker in open_thresholds.keys():\n",
    "# ticker = '6185'\n",
    "    try:\n",
    "        print(f'backtest : {ticker}')\n",
    "        pnl_[ticker] = backtest(api, ticker, date, open_thresholds[ticker]['PreClose'], \n",
    "                            PreData=open_thresholds[ticker],max_size=max_size_map[ticker])\n",
    "    except:\n",
    "        pass\n",
    "#     pnl_[ticker]\n",
    "#     break"
   ]
  },
  {
   "cell_type": "code",
   "execution_count": 161,
   "metadata": {
    "ExecuteTime": {
     "end_time": "2021-12-19T13:50:54.737894Z",
     "start_time": "2021-12-19T13:50:54.730895Z"
    }
   },
   "outputs": [
    {
     "name": "stdout",
     "output_type": "stream",
     "text": [
      "交易量 : 601400.0\n",
      "single pnl sum : 1415\n",
      "max pnl sum : 11682\n"
     ]
    }
   ],
   "source": [
    "single_pnl = 0\n",
    "max_pnl = 0\n",
    "trade_value = 0\n",
    "for ticker in pnl_.keys():\n",
    "    trade_value += open_thresholds[ticker]['PreClose'] * 1000\n",
    "    single_pnl += pnl_[ticker]\n",
    "    max_pnl += pnl_[ticker] * max_size_map[ticker]\n",
    "    \n",
    "print(f'交易量 : {trade_value}')\n",
    "print(f'single pnl sum : {single_pnl}')\n",
    "print(f'max pnl sum : {max_pnl}')"
   ]
  }
 ],
 "metadata": {
  "hide_input": false,
  "kernelspec": {
   "display_name": "Python 3",
   "language": "python",
   "name": "python3"
  },
  "language_info": {
   "codemirror_mode": {
    "name": "ipython",
    "version": 3
   },
   "file_extension": ".py",
   "mimetype": "text/x-python",
   "name": "python",
   "nbconvert_exporter": "python",
   "pygments_lexer": "ipython3",
   "version": "3.7.8"
  },
  "toc": {
   "base_numbering": 1,
   "nav_menu": {},
   "number_sections": true,
   "sideBar": true,
   "skip_h1_title": false,
   "title_cell": "Table of Contents",
   "title_sidebar": "Contents",
   "toc_cell": false,
   "toc_position": {},
   "toc_section_display": true,
   "toc_window_display": false
  },
  "varInspector": {
   "cols": {
    "lenName": 16,
    "lenType": 16,
    "lenVar": 40
   },
   "kernels_config": {
    "python": {
     "delete_cmd_postfix": "",
     "delete_cmd_prefix": "del ",
     "library": "var_list.py",
     "varRefreshCmd": "print(var_dic_list())"
    },
    "r": {
     "delete_cmd_postfix": ") ",
     "delete_cmd_prefix": "rm(",
     "library": "var_list.r",
     "varRefreshCmd": "cat(var_dic_list()) "
    }
   },
   "types_to_exclude": [
    "module",
    "function",
    "builtin_function_or_method",
    "instance",
    "_Feature"
   ],
   "window_display": false
  }
 },
 "nbformat": 4,
 "nbformat_minor": 4
}
