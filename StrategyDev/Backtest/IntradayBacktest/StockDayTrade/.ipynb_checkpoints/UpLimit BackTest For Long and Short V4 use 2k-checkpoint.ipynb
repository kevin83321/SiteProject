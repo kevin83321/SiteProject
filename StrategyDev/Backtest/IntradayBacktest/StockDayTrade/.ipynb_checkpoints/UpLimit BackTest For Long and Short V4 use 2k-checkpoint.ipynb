{
 "cells": [
  {
   "cell_type": "code",
   "execution_count": 1,
   "metadata": {
    "ExecuteTime": {
     "end_time": "2022-06-10T17:13:03.642314Z",
     "start_time": "2022-06-10T17:13:02.254394Z"
    }
   },
   "outputs": [],
   "source": [
    "import shioaji as sj\n",
    "from datetime import datetime, timedelta\n",
    "import pandas as pd\n",
    "import pytz\n",
    "from copy import deepcopy\n",
    "\n",
    "import json\n",
    "import os \n",
    "parent = os.path.dirname(os.path.abspath(\"__file__\"))\n",
    "StrongPath = os.path.join(parent, 'StrongTickers')\n",
    "if not os.path.isdir(StrongPath):\n",
    "    os.makedirs(StrongPath)\n",
    "# import matplotlib.pyplot as plt\n",
    "# %matplotlib inline"
   ]
  },
  {
   "cell_type": "code",
   "execution_count": 2,
   "metadata": {
    "ExecuteTime": {
     "end_time": "2022-06-10T17:13:05.645671Z",
     "start_time": "2022-06-10T17:13:04.191875Z"
    }
   },
   "outputs": [
    {
     "name": "stdout",
     "output_type": "stream",
     "text": [
      "Response Code: 0 | Event Code: 0 | Info: host '203.66.91.161:80', hostname '203.66.91.161:80' IP 203.66.91.161:80 (host 1 of 1) (host connection attempt 1 of 1) (total connection attempt 1 of 1) | Event: Session up\n"
     ]
    },
    {
     "data": {
      "text/plain": [
       "[FutureAccount(person_id='F128497445', broker_id='F002000', account_id='1473661', signed=True, username='鄭圳宏'),\n",
       " Account(account_type=<AccountType.H: 'H'>, person_id='F128497445', broker_id='9A92', account_id='0011645', username='鄭圳宏'),\n",
       " StockAccount(person_id='F128497445', broker_id='9A92', account_id='0231901', signed=True, username='鄭圳宏\\u3000\\u3000')]"
      ]
     },
     "execution_count": 2,
     "metadata": {},
     "output_type": "execute_result"
    }
   ],
   "source": [
    "api = sj.Shioaji()\n",
    "api.login('F128497445', '89118217k')"
   ]
  },
  {
   "cell_type": "code",
   "execution_count": 3,
   "metadata": {
    "ExecuteTime": {
     "end_time": "2022-06-10T17:13:06.685675Z",
     "start_time": "2022-06-10T17:13:06.592671Z"
    }
   },
   "outputs": [],
   "source": [
    "def ReadEarnedTicks():\n",
    "    earned_ticks = {'price':[], 'ticks':[]}\n",
    "    with open(os.path.join(parent, 'EarnedTicks.txt'), \"r\") as f:\n",
    "        lines = f.readlines()\n",
    "        for line in lines[1:]:\n",
    "            earned_ticks['price'].append(int(line.split(',')[0]))\n",
    "            earned_ticks['ticks'].append(int(line.split(',')[1].strip()))\n",
    "            \n",
    "        return earned_ticks"
   ]
  },
  {
   "cell_type": "code",
   "execution_count": 4,
   "metadata": {
    "ExecuteTime": {
     "end_time": "2022-06-10T17:13:08.442823Z",
     "start_time": "2022-06-10T17:13:08.099828Z"
    }
   },
   "outputs": [],
   "source": [
    "earned_ticks = ReadEarnedTicks()"
   ]
  },
  {
   "cell_type": "code",
   "execution_count": 5,
   "metadata": {
    "ExecuteTime": {
     "end_time": "2022-06-10T17:13:09.909681Z",
     "start_time": "2022-06-10T17:13:09.768683Z"
    }
   },
   "outputs": [],
   "source": [
    "def getEarnedTicks(entry_price):\n",
    "    tmp_p = deepcopy(earned_ticks['price'])\n",
    "    tmp_t = deepcopy(earned_ticks['ticks'])\n",
    "    tmp_p.append(entry_price)\n",
    "    tmp_p = sorted(tmp_p)\n",
    "    idx = tmp_p.index(entry_price)\n",
    "    return tmp_t[idx]"
   ]
  },
  {
   "cell_type": "code",
   "execution_count": 6,
   "metadata": {
    "ExecuteTime": {
     "end_time": "2022-06-10T17:13:12.143909Z",
     "start_time": "2022-06-10T17:13:11.876912Z"
    }
   },
   "outputs": [],
   "source": [
    "def getTargetPrice(entry_price, sl=False):\n",
    "    num_ticks = getEarnedTicks(entry_price)\n",
    "    for i in range(num_ticks+bool(sl)*2):\n",
    "        entry_price += get_minimum_tick(entry_price)\n",
    "    return round(entry_price, 2)"
   ]
  },
  {
   "cell_type": "code",
   "execution_count": 7,
   "metadata": {
    "ExecuteTime": {
     "end_time": "2022-06-10T17:13:14.177081Z",
     "start_time": "2022-06-10T17:13:14.022076Z"
    }
   },
   "outputs": [],
   "source": [
    "results = {}"
   ]
  },
  {
   "cell_type": "code",
   "execution_count": 8,
   "metadata": {
    "ExecuteTime": {
     "end_time": "2022-06-10T17:13:15.580672Z",
     "start_time": "2022-06-10T17:13:15.287524Z"
    },
    "code_folding": [
     8,
     13,
     18,
     25,
     32,
     42
    ]
   },
   "outputs": [],
   "source": [
    "from typing import Callable, List\n",
    "from enum import Enum\n",
    "\n",
    "from datetime import datetime, timedelta\n",
    "\n",
    "from typing import List\n",
    "from copy import deepcopy\n",
    "\n",
    "class AttrDict(dict):\n",
    "    def __init__(self, *args, **kwargs):\n",
    "        super(AttrDict, self).__init__(*args, **kwargs)\n",
    "        self.__dict__ = self\n",
    "        \n",
    "class BaseData(AttrDict):\n",
    "    \n",
    "    def __init__(self, *args, **kwargs):\n",
    "        super(BaseData, self).__init__(*args, **kwargs)\n",
    "        \n",
    "class TickData(BaseData):\n",
    "    \"\"\"\n",
    "    儲存即時收到的Info報價\n",
    "    \"\"\"\n",
    "    def __init__(self, *args, **kwargs):\n",
    "        super(TickData, self).__init__(*args, **kwargs)\n",
    "        \n",
    "class BarData(BaseData):\n",
    "    \"\"\"\n",
    "    儲存即時收到的Info報價\n",
    "    \"\"\"\n",
    "    def __init__(self, *args, **kwargs):\n",
    "        super(BarData, self).__init__(*args, **kwargs)\n",
    "\n",
    "class TradeMode(Enum):\n",
    "    \"\"\"\n",
    "    交易模式\n",
    "    \"\"\"\n",
    "    REALTIME = '實盤交易'\n",
    "    SIMULATION = '模擬交易'\n",
    "    BACKTEST = '回測'\n",
    "    BACKTESTINTRADAY = '日內回測'\n",
    "\n",
    "# 資料格式 (RealTime)\n",
    "class Interval(Enum):\n",
    "    \"\"\"\n",
    "    資料頻率\n",
    "    \"\"\"\n",
    "    TICK = '逐筆'\n",
    "    MINUTE = '分K'\n",
    "    HOUR = '小時K'\n",
    "    DAILY = '日K'\n",
    "\n",
    "class BarGenerator:\n",
    "    \"\"\"\n",
    "    For:\n",
    "    1. generateing x minute bar/x hour bar data from tick data\n",
    "\n",
    "    Notice:\n",
    "    1. x can be any number\n",
    "    \"\"\"\n",
    "\n",
    "    def __init__(self, ticker: str, interval: Interval = Interval.MINUTE, window: int = 5,\n",
    "                 trademode: TradeMode = TradeMode.REALTIME, \n",
    "                 callback: Callable = None, size=15, date=datetime.today()):\n",
    "        \"\"\"\n",
    "        Constructor\n",
    "        \"\"\"\n",
    "        self.ticker = ticker\n",
    "        self.interval = interval\n",
    "        self.window = window\n",
    "        self._trademode = trademode\n",
    "        self.callback = callback\n",
    "\n",
    "        self.setupBarCycle(interval, window)\n",
    "        self.bars: List[BarData] = []\n",
    "        self.inited = False\n",
    "        self.barCount = 0\n",
    "        self.size = size\n",
    "        self.date = date\n",
    "\n",
    "    def setupBarCycle(self, interval, window) -> None:\n",
    "        if self._trademode in [TradeMode.REALTIME, TradeMode.SIMULATION]:\n",
    "            self.current = date.replace(hour=9,minute=0,second=0,microsecond=0)#datetime.now().replace(second=0)\n",
    "        elif self._trademode == TradeMode.BACKTESTINTRADAY:\n",
    "            self.current = 84500\n",
    "        self._intervalCycle(interval, window)\n",
    "\n",
    "    def _intervalCycle(self, interval: Interval, window: int):\n",
    "        if self._trademode in [TradeMode.REALTIME, TradeMode.SIMULATION]:\n",
    "            if interval == Interval.MINUTE:\n",
    "                self.cycle = timedelta(seconds=60 * window)\n",
    "            elif interval == Interval.HOUR:\n",
    "                self.cycle = timedelta(seconds=60 * 60 * window)\n",
    "        elif self._trademode == TradeMode.BACKTESTINTRADAY:\n",
    "            if interval == Interval.MINUTE:\n",
    "                self.cycle = 100 * window\n",
    "            elif interval == Interval.HOUR:\n",
    "                self.cycle = 100 * 100 * window\n",
    "\n",
    "    def updateBar(self, tick: TickData):\n",
    "        try:\n",
    "            if self._trademode == TradeMode.BACKTESTINTRADAY:\n",
    "                return self._updateBarBacktest(tick)\n",
    "            return self._updateBar(tick)\n",
    "        except:\n",
    "            raise\n",
    "\n",
    "    def _updateBar(self, tick: TickData):\n",
    "        try:\n",
    "            try:\n",
    "                time, close, volume = tick.time, tick.close, tick.volume\n",
    "            except:\n",
    "                # print(tick)\n",
    "                time, close, volume = tick['time'], tick['close'], tick['volume']\n",
    "            if not self.bars or time > self.current:\n",
    "                self.bars.append(self._createNewBar(time, close, volume))\n",
    "                self._updateCurBarTime()\n",
    "                if len(self.bars) >= self.size:\n",
    "                    self.inited = True\n",
    "                if len(self.bars) > 1:\n",
    "#                     print(self.bars[-2])\n",
    "                    return self.bars[-2]\n",
    "                    if self.callback:\n",
    "                        self.callback(self.bars[-2])\n",
    "            else:\n",
    "                self._updateCurBar(close, volume)\n",
    "        except:\n",
    "            raise\n",
    "\n",
    "    def _updateBarBacktest(self, tick: TickData):\n",
    "        time, close, volume = tick.time, tick.close, tick.volume\n",
    "        if not self.bars or time > self.current:\n",
    "            self.bars.append(self._createNewBar(time, close, volume))\n",
    "            self._updateCurBarTime()\n",
    "            if len(self.bars) >= self.size:\n",
    "                self.inited = True\n",
    "            if len(self.bars) > 1:\n",
    "                self.callback(self.bars[-2])\n",
    "        else:\n",
    "            self._updateCurBar(close, volume)\n",
    "            \n",
    "    def _createNewBar(self, time, close, volume):\n",
    "        return BarData(\n",
    "                    symbol=self.ticker,\n",
    "                    time=time,\n",
    "                    open=close,\n",
    "                    high=close,\n",
    "                    low=close,\n",
    "                    close=close,\n",
    "                    volume=volume\n",
    "                )\n",
    "    \n",
    "    def _updateCurBar(self, close, volume):\n",
    "        curBar = self.bars[-1]\n",
    "        curBar.high = max(curBar.high, close)\n",
    "        curBar.low = min(curBar.low, close)\n",
    "        curBar.close = close\n",
    "        curBar.volume += volume\n",
    "        self.bars[-1] = curBar\n",
    "\n",
    "    def _updateCurBarTime(self):\n",
    "        self.current += self.cycle\n",
    "        if self._trademode in [TradeMode.REALTIME, TradeMode.SIMULATION]:\n",
    "            return\n",
    "        elif self._trademode == TradeMode.BACKTESTINTRADAY:\n",
    "            timeList = self._intTolist(self.current)\n",
    "            if self.interval == Interval.MINUTE:\n",
    "                if timeList[1] >= 60:\n",
    "                    timeList[0] += 1\n",
    "                    timeList[1] -= 60\n",
    "            if timeList[0] >= 24:\n",
    "                timeList[0] -= 24\n",
    "            self.current = int(''.join([str(int(x)) for x in timeList]))\n",
    "\n",
    "    def _intTolist(self, t):\n",
    "        ss = t % 100\n",
    "        t /= 100\n",
    "        mm = t % 100\n",
    "        hh = t / 100\n",
    "        return [int(hh), int(mm), int(ss)]\n",
    "\n",
    "    @property\n",
    "    def closes(self):\n",
    "        return [getattr(bar, 'close') for bar in self.bars][:-1]\n",
    "\n",
    "    @property\n",
    "    def opens(self):\n",
    "        return [getattr(bar, 'open') for bar in self.bars][:-1]\n",
    "\n",
    "    @property\n",
    "    def highs(self):\n",
    "        return [getattr(bar, 'high') for bar in self.bars][:-1]\n",
    "\n",
    "    @property\n",
    "    def lows(self):\n",
    "        return [getattr(bar, 'low') for bar in self.bars][:-1]\n",
    "\n",
    "    @property\n",
    "    def volumes(self):\n",
    "        return [getattr(bar, 'volume') for bar in self.bars][:-1]"
   ]
  },
  {
   "cell_type": "code",
   "execution_count": 9,
   "metadata": {
    "ExecuteTime": {
     "end_time": "2022-06-10T17:13:17.156672Z",
     "start_time": "2022-06-10T17:13:16.902670Z"
    },
    "code_folding": [
     0,
     14,
     28
    ]
   },
   "outputs": [],
   "source": [
    "def readStrongTicker(dtStr, atr=\"\"):\n",
    "    datapath = os.path.join(StrongPath+atr, f'{dtStr}_tradableTicker.json')\n",
    "    if not os.path.isfile(datapath):\n",
    "        datapath = os.path.join(StrongPath+atr, f'{dtStr}_strongTicker.json')\n",
    "#         with open(os.path.join(StrongPath, f'{dtStr}_tradableTicker.json'), 'r') as f:\n",
    "#             tickers = json.load(f)\n",
    "#             return tickers\n",
    "    if os.path.isfile(datapath):\n",
    "        with open(datapath, 'r') as f:\n",
    "            tickers = json.load(f)\n",
    "            return tickers\n",
    "    else:\n",
    "        return {}\n",
    "\n",
    "def get_minimum_tick(cost):\n",
    "    if cost < 10:\n",
    "        return 0.01\n",
    "    elif cost < 50:\n",
    "        return 0.05\n",
    "    elif cost < 100:\n",
    "        return 0.1\n",
    "    elif cost < 500:\n",
    "        return 0.5\n",
    "    elif cost < 1000:\n",
    "        return 1\n",
    "    else:\n",
    "        return 5\n",
    "    \n",
    "def get_commission(price:float, multiplier:int=1000, qty=1, Real:bool=True, direction:str='', dayTrade:bool=False):\n",
    "    \"\"\"\n",
    "    計算個別部位的單邊交易成本\n",
    "\n",
    "    Params:\n",
    "        symbol : 商品代碼\n",
    "        exchange : 交易所\n",
    "        cost : 交易價格\n",
    "        multiplier : 價格還原現金之乘數\n",
    "            例如:\n",
    "                股票 : 1張 = 1,000股，10元的股票還原現金價值，即為10 *1,000 = 10,000元\n",
    "                期貨 : 台指期1點200元，假設現在10,000點，則一口台股的價值為 200 * 10,000 = 2,000,000\n",
    "        qty : 買賣口數或張數\n",
    "        Real : 是否為實單, default = False\n",
    "        direction : 交易方向 進場(買賣)或出場\n",
    "            P.S. 股票交易的交易稅是出場才計算\n",
    "    \"\"\"\n",
    "    tick = get_minimum_tick(price)\n",
    "    commission = price * (0.1425 / 100) * multiplier * qty\n",
    "    commission = 20 if commission < 20 else commission\n",
    "    fee = price * (0.3 / 100) * multiplier * qty\n",
    "    if dayTrade:\n",
    "        fee /= 2\n",
    "    slide = tick * multiplier\n",
    "    tradeCost = commission * 0.6\n",
    "    if direction == 'EXIT' or direction == 0:\n",
    "        tradeCost += fee\n",
    "    if not Real:\n",
    "        tradeCost += slide * qty\n",
    "    return tradeCost"
   ]
  },
  {
   "cell_type": "code",
   "execution_count": 10,
   "metadata": {
    "ExecuteTime": {
     "end_time": "2022-06-10T17:13:18.097258Z",
     "start_time": "2022-06-10T17:13:18.068265Z"
    },
    "code_folding": [
     0
    ]
   },
   "outputs": [],
   "source": [
    "def ReadData(api, ticker, date):\n",
    "    dateStr = date.strftime(\"%Y-%m-%d\")\n",
    "    contact = api.Contracts.Stocks[ticker]\n",
    "    data = api.ticks(contact, dateStr, \n",
    "            query_type=sj.constant.TicksQueryType.RangeTime, \n",
    "            time_start='09:00:00',#datetime(2021,11,5,8,45,0).time(),\n",
    "           time_end='13:30:00')#datetime(2021,11,5,13,45,0).time())\n",
    "    df = pd.DataFrame(data.dict())\n",
    "    df['datetime'] = df.ts.apply(lambda x: datetime.utcfromtimestamp(int(str(x)[:10])).astimezone(pytz.timezone('Asia/Taipei')))\n",
    "    df['datetime'] = pd.to_datetime(df['datetime'].apply(lambda x: x.strftime(\"%Y-%m-%d %H:%M:%S.%f\")))\n",
    "    return df"
   ]
  },
  {
   "cell_type": "code",
   "execution_count": 16,
   "metadata": {
    "ExecuteTime": {
     "end_time": "2022-06-10T17:15:40.511843Z",
     "start_time": "2022-06-10T17:15:40.460847Z"
    },
    "code_folding": []
   },
   "outputs": [],
   "source": [
    "def backtest(api:sj.Shioaji, ticker:str, date:datetime, open_threshold:float=0, PreData:dict={},\n",
    "             v_threshold:float=.01, entry_percent:float=.06, exit_percent:float=.09, \n",
    "             takeprofit:float=.6, start_moving_take = .015, sl_ratio:float=.02, max_size:float = 1, \n",
    "             exit_time:str='13:00:00.000000'): # \n",
    "\n",
    "    # prepare data\n",
    "    df = ReadData(api, ticker, date)\n",
    "    \n",
    "    # setting Parameters\n",
    "    opening = False\n",
    "    closing = False\n",
    "    \n",
    "    pre_time:str=\"09:00:00\"\n",
    "    pre_volume:int = 0\n",
    "    pre_close:int = 0\n",
    "    total_v:int = 0 \n",
    "    refPrice:float = PreData.get('PreClose', 0)\n",
    "    preHigh:float = PreData.get('PreHigh', PreData.get('PreClose', 0))\n",
    "#     preLow:float = PreData.get('PreLow', 9999)\n",
    "    entry_threshold:float = 0 if not refPrice else refPrice * (1 + entry_percent)\n",
    "    exit_threshold:float = 0 if not refPrice else refPrice * (1 + exit_percent)\n",
    "    max_ret:float = 0\n",
    "    tmp_ret:float = 0\n",
    "    pos = 0\n",
    "    sig = 0\n",
    "    traded = 0\n",
    "    long_traded = short_traded = 0\n",
    "    entry = 0\n",
    "    entry_time = 0\n",
    "\n",
    "#     preHigh = 0\n",
    "#     preLow = 9999\n",
    "    sl_threshold = 0\n",
    "    short_sl_ratio = .02\n",
    "    \n",
    "    pnl:float = 0\n",
    "    total_volume = 0\n",
    "#     first_5mink = {'open':None, 'high':0,'low':9999, 'close':0}\n",
    "        \n",
    "    entry_time = ''\n",
    "    exit_pos_time = ''\n",
    "    tmp_pnl = 0\n",
    "    barG = BarGenerator(ticker, date=date, window=2)\n",
    "    open_l = open_h = None\n",
    "    total_pnl = 0\n",
    "    \n",
    "    for row in df.itertuples():\n",
    "#         print(row)\n",
    "        price = row.close\n",
    "        time = row.datetime\n",
    "        qty = row.volume\n",
    "        if not qty: continue\n",
    "        total_volume += qty\n",
    "        tick = TickData(time=time, close=price,volume=qty)\n",
    "        update_bar = barG.updateBar(tick)\n",
    "#         if update_bar and not pos:\n",
    "#             print(update_bar)\n",
    "#             if len(barG.bars) >= 3 and not (open_h and open_l):\n",
    "#                 open_h = max(barG.highs[:2])\n",
    "#                 open_l = min(barG.lows[:2])\n",
    "#                 print(f\"open_h : {open_h}, open_l : {open_l}\")\n",
    "        if len(barG.bars) < 3:\n",
    "            continue\n",
    "        if time <= time.replace(hour=13,minute=0,second=0, microsecond=0) and not pos:\n",
    "            if not pos and not sig and not traded: # check signal without position\n",
    "                if update_bar:\n",
    "                    if update_bar.volume / barG.bars[-2].volume >= 3:\n",
    "                        if update_bar.High > barG.bars[-2].High:\n",
    "                            sig = 1\n",
    "                        elif update_bar.Low > barG.bars[-2].Low:\n",
    "                            sig = 1\n",
    "            elif not pos and sig: # entry market\n",
    "                print(f\"Entry at close = {price}, bid : {row.bid_price}, ask : {row.ask_price}\")\n",
    "                if sig > 0:\n",
    "                    entry = row.ask_price\n",
    "                elif sig < 0:\n",
    "                    entry = row.bid_price\n",
    "                if abs(entry / price - 1) >= .005:\n",
    "                    entry = price\n",
    "                pos, sig = sig, 0\n",
    "                entry_time = row.datetime\n",
    "                sl_threshold = entry * (1 - sl_ratio * pos)\n",
    "                if pos == -1:\n",
    "                    short_sl_ratio = open_h / entry - 1\n",
    "                    sl_threshold = entry * (1 - short_sl_ratio * pos)\n",
    "#                     sl_threshold = min(sl_threshold, (open_h + open_l) / 2)\n",
    "                    \n",
    "                    \n",
    "        elif pos and not sig: # check signal with position\n",
    "            tmp_pnl = (price - entry) * 1000 * pos\n",
    "            tmp_pnl -= int(get_commission(entry if pos > 0 else price)) # 進場成本\n",
    "            tmp_pnl -= int(get_commission(price if pos > 0 else entry, direction='EXIT', dayTrade=True)) # 出場成本\n",
    "            if pos > 0:\n",
    "                tmp_ret = ((price / entry) - 1) * pos\n",
    "            else:\n",
    "                tmp_ret = (tmp_pnl / (entry * 1000))# - 1\n",
    "#             print(f\"Tmp PnL : {tmp_pnl}\")\n",
    "            \n",
    "            if tmp_ret > max_ret:\n",
    "#                 sl_threshold = entry * (1 - sl_ratio * pos)\n",
    "                sl_threshold = price * (1 - sl_ratio * pos)\n",
    "                if pos == -1:\n",
    "                    sl_threshold = price * (1 - short_sl_ratio * self.pos)\n",
    "#                     sl_threshold = min(sl_threshold, (open_h + open_l) / 2)\n",
    "#                 sl_threshold = min(price * (1 - sl_ratio * pos), (open_h + open_l) / 2)\n",
    "#                 print(row.datetime, price * (1 + sl_ratio), (open_h + open_l) / 2, sl_threshold)\n",
    "            max_ret = max(tmp_ret, max_ret)\n",
    "#             print(f\"close : {price}, pos : {pos}, tmp_pnl : {tmp_pnl}, max_ret : {max_ret}\")\n",
    "\n",
    "            do_exit_take = tmp_ret >= 0.01 and ((entry_time.strftime('%H:%M:%S.%f') >= \"12:00:00.000000\") or pos == 1)\n",
    "#             if max_ret >= start_moving_take:\n",
    "#                 do_exit_take = (tmp_ret / max_ret) <= (takeprofit) if max_ret else False\n",
    "            do_exit_stop = price > sl_threshold if pos == -1 else price < sl_threshold\n",
    "            do_exit = price >= exit_threshold if pos > 0 else price <= (refPrice * (1 - exit_percent))\n",
    "\n",
    "            exit_end = time.strftime('%H:%M:%S.%f') >= exit_time\n",
    "            if any([do_exit, do_exit_stop, exit_end, do_exit_take]): # \n",
    "                print(do_exit, do_exit_stop, exit_end, do_exit_take)\n",
    "                print(f\"sl_threshold {sl_threshold}, half-high-low :{(open_h + open_l) / 2}\")\n",
    "                print(f\"Max Ret : {max_ret}\")\n",
    "                sig = -pos\n",
    "                print(f\"Signal For Exit : {sig}\")\n",
    "#                     self.closing=True\n",
    "#                     self.DoTrade('S' if self.pos > 0 else 'B')\n",
    "#                     self.sendNotifyExit(self.q20_data['datetime'].strftime(\"%H:%M:%S.%f\"), self.symbol, self.name,\n",
    "#                                      close, self.q20_data['pct_chg'], do_exit_take or do_exit)\n",
    "        elif pos and sig:\n",
    "            signal_time = row.datetime\n",
    "            print(f\"Calculate PnL at close = {price}, ask : {row.ask_price} at {row.datetime}\")\n",
    "            if sig > 0:\n",
    "                exit = row.ask_price\n",
    "            elif sig < 0:\n",
    "                exit = row.bid_price\n",
    "            if abs(exit / price - 1) >= .005:\n",
    "                exit = price\n",
    "            tmp_pnl = (exit - entry) * 1000 * pos\n",
    "            tmp_pnl -= int(get_commission(entry if pos > 0 else exit)) # 進場成本\n",
    "            tmp_pnl -= int(get_commission(exit if pos > 0 else entry, direction='EXIT', dayTrade=True)) # 出場成本\n",
    "            tmp_ret = ((price / entry) - 1) * pos\n",
    "            total_pnl += tmp_pnl\n",
    "            \n",
    "            print('\\n---------------PnL Summary--------------')\n",
    "            print(f'Exit Position of {ticker}')\n",
    "            print(f'Entry : {entry} at {entry_time}')\n",
    "            print(f'Exit : {price} at {signal_time}')\n",
    "            print(f'Trading PnL with Cost : {int(round(tmp_pnl))}')\n",
    "            print(f'Total PnL with Cost : {int(round(total_pnl))}')\n",
    "            print(f'Total Ret with Cost : {round(tmp_ret * 100, 2)}%')\n",
    "            print(f'Total PnL with Cost of max size {max_size}: {max_size * int(round(tmp_pnl))}\\n')\n",
    "            \n",
    "            if pos > 0:\n",
    "                long_traded = True\n",
    "            elif pos < 0:\n",
    "                short_traded = True\n",
    "            sig = pos = 0\n",
    "            traded = (long_traded and short_traded) or (total_pnl > 0)\n",
    "            exit_pos_time = row.datetime\n",
    "        else:\n",
    "            if pos and not sig:\n",
    "                tmp_pnl = (price - entry) * 1000 * pos\n",
    "                tmp_pnl -= int(get_commission(entry if pos > 0 else price)) # 進場成本\n",
    "                tmp_pnl -= int(get_commission(price if pos > 0 else entry, direction='EXIT', dayTrade=True)) # 出場成本\n",
    "                tmp_ret = ((price / entry) - 1) * pos\n",
    "#                 tmp_ret = (tmp_pnl / entry * 1000) - 1\n",
    "                if tmp_ret > max_ret:\n",
    "                    sl_threshold = price * (1 - sl_ratio)\n",
    "                max_ret = max(tmp_ret, max_ret)\n",
    "\n",
    "                do_exit_take = do_exit_take = tmp_ret >= 0.01 # False\n",
    "#                 if max_ret >= start_moving_take:\n",
    "#                     do_exit_take = (tmp_ret / max_ret) <= (takeprofit) if max_ret else False\n",
    "                do_exit_stop = price > sl_threshold if pos == -1 else price < sl_threshold\n",
    "                do_exit = price >= exit_threshold if pos > 0 else price <= (refPrice * (1 - exit_percent))\n",
    "                sig = -pos\n",
    "            elif pos and sig:\n",
    "                signal_time = row.datetime\n",
    "                print(price, row.bid_price)\n",
    "                exit = row.bid_price\n",
    "                if abs(exit / price - 1) >= .005:\n",
    "                    exit = price\n",
    "                tmp_pnl = (exit - entry) * 1000 * pos\n",
    "                tmp_pnl -= int(get_commission(entry if pos > 0 else exit)) # 進場成本\n",
    "                tmp_pnl -= int(get_commission(exit if pos > 0 else entry, direction='EXIT', dayTrade=True)) # 出場成本\n",
    "                tmp_ret = ((price / entry) - 1) * pos\n",
    "                total_pnl += tmp_pnl\n",
    "                \n",
    "            \n",
    "                print('\\n---------------PnL Summary--------------')\n",
    "                print(f'Exit Position of {ticker}')\n",
    "                print(f'Entry : {entry} at {entry_time}')\n",
    "                print(f'Exit : {price} at {signal_time}')\n",
    "                print(f'Trading PnL with Cost : {int(round(tmp_pnl))}')\n",
    "                print(f'Total PnL with Cost : {int(round(total_pnl))}')\n",
    "                print(f'Total Ret with Cost : {round(tmp_ret * 100, 2)}%')\n",
    "                print(f'Total PnL with Cost of max size {max_size}: {max_size * int(round(tmp_pnl))}\\n')\n",
    "                \n",
    "                if pos > 0:\n",
    "                    long_traded = True\n",
    "                elif pos < 0:\n",
    "                    short_traded = True\n",
    "                sig = pos = 0\n",
    "                traded = (long_traded and short_traded) or (total_pnl > 0)\n",
    "                exit_pos_time = row.datetime\n",
    "    return int(round(total_pnl))"
   ]
  },
  {
   "cell_type": "code",
   "execution_count": 13,
   "metadata": {
    "ExecuteTime": {
     "end_time": "2022-06-10T17:14:11.312008Z",
     "start_time": "2022-06-10T17:14:11.275012Z"
    },
    "scrolled": true
   },
   "outputs": [
    {
     "name": "stdout",
     "output_type": "stream",
     "text": [
      "1529 最大倉位 : 10, 昨收 : {'PreClose': 21.65, 'PreHigh': 21.65, 'PreLow': 20.05}\n",
      "2495 最大倉位 : 10, 昨收 : {'PreClose': 20.8, 'PreHigh': 20.8, 'PreLow': 19.5}\n",
      "3035 最大倉位 : 0, 昨收 : {'PreClose': 217.5, 'PreHigh': 217.5, 'PreLow': 201.5}\n",
      "3041 最大倉位 : 6, 昨收 : {'PreClose': 36.05, 'PreHigh': 36.05, 'PreLow': 33.25}\n",
      "3060 最大倉位 : 7, 昨收 : {'PreClose': 27.7, 'PreHigh': 27.7, 'PreLow': 25.2}\n",
      "3443 最大倉位 : 0, 昨收 : {'PreClose': 661.0, 'PreHigh': 661.0, 'PreLow': 610.0}\n",
      "3607 最大倉位 : 12, 昨收 : {'PreClose': 17.35, 'PreHigh': 17.35, 'PreLow': 15.65}\n",
      "5258 最大倉位 : 5, 昨收 : {'PreClose': 40.7, 'PreHigh': 40.7, 'PreLow': 37.9}\n",
      "6698 最大倉位 : 3, 昨收 : {'PreClose': 56.6, 'PreHigh': 56.6, 'PreLow': 55.0}\n",
      "8478 最大倉位 : 1, 昨收 : {'PreClose': 171.0, 'PreHigh': 171.0, 'PreLow': 163.5}\n",
      "3114 最大倉位 : 6, 昨收 : {'PreClose': 31.55, 'PreHigh': 31.55, 'PreLow': 28.6}\n",
      "3128 最大倉位 : 7, 昨收 : {'PreClose': 28.9, 'PreHigh': 28.9, 'PreLow': 25.0}\n",
      "3141 最大倉位 : 0, 昨收 : {'PreClose': 292.5, 'PreHigh': 292.5, 'PreLow': 268.0}\n",
      "3390 最大倉位 : 8, 昨收 : {'PreClose': 26.0, 'PreHigh': 26.4, 'PreLow': 24.5}\n",
      "3466 最大倉位 : 9, 昨收 : {'PreClose': 21.85, 'PreHigh': 21.85, 'PreLow': 19.6}\n",
      "3491 最大倉位 : 1, 昨收 : {'PreClose': 216.0, 'PreHigh': 216.0, 'PreLow': 199.0}\n",
      "3675 最大倉位 : 0, 昨收 : {'PreClose': 320.0, 'PreHigh': 320.0, 'PreLow': 292.0}\n",
      "5351 最大倉位 : 2, 昨收 : {'PreClose': 99.9, 'PreHigh': 99.9, 'PreLow': 91.7}\n",
      "5371 最大倉位 : 2, 昨收 : {'PreClose': 89.1, 'PreHigh': 89.1, 'PreLow': 82.6}\n",
      "6104 最大倉位 : 1, 昨收 : {'PreClose': 208.0, 'PreHigh': 208.0, 'PreLow': 193.0}\n",
      "6156 最大倉位 : 9, 昨收 : {'PreClose': 21.75, 'PreHigh': 21.85, 'PreLow': 20.05}\n",
      "6185 最大倉位 : 14, 昨收 : {'PreClose': 15.25, 'PreHigh': 15.25, 'PreLow': 14.25}\n",
      "8089 最大倉位 : 6, 昨收 : {'PreClose': 34.25, 'PreHigh': 34.25, 'PreLow': 33.0}\n"
     ]
    }
   ],
   "source": [
    "# date = datetime(2022,2,25)\n",
    "date = datetime(2021,12,17) # 2021-12-17\n",
    "open_thresholds = readStrongTicker(date.strftime(\"%Y-%m-%d\"))#, 'ATR')\n",
    "total_capital = 5e6\n",
    "seperated_capital = int(total_capital / len(open_thresholds.keys()))\n",
    "max_size_map = {}\n",
    "for k, v in open_thresholds.items():\n",
    "    try:\n",
    "        max_pos = int(seperated_capital / (v['PreClose'] * 1000))\n",
    "        print(f'{k} 最大倉位 : {max_pos}, 昨收 : {v}')\n",
    "        max_size_map[k] = max_pos\n",
    "    except:\n",
    "        max_pos = int(seperated_capital / (v * 1000))\n",
    "        print(f'{k} 最大倉位 : {max_pos}, 昨收 : {v}')\n",
    "        max_size_map[k] = max_pos\n",
    "        open_thresholds[k] = {'PreClose':v}\n",
    "        "
   ]
  },
  {
   "cell_type": "code",
   "execution_count": 17,
   "metadata": {
    "ExecuteTime": {
     "end_time": "2022-06-10T17:15:44.128331Z",
     "start_time": "2022-06-10T17:15:43.478202Z"
    },
    "scrolled": true
   },
   "outputs": [
    {
     "name": "stderr",
     "output_type": "stream",
     "text": [
      "c:\\users\\kevin\\appdata\\local\\programs\\python\\python37\\lib\\site-packages\\pandas\\plotting\\_matplotlib\\converter.py:256: MatplotlibDeprecationWarning: \n",
      "The epoch2num function was deprecated in Matplotlib 3.3 and will be removed two minor releases later.\n",
      "  base = dates.epoch2num(dt.asi8 / 1.0e9)\n"
     ]
    },
    {
     "ename": "AttributeError",
     "evalue": "'BarData' object has no attribute 'Volume'",
     "output_type": "error",
     "traceback": [
      "\u001b[1;31m---------------------------------------------------------------------------\u001b[0m",
      "\u001b[1;31mAttributeError\u001b[0m                            Traceback (most recent call last)",
      "\u001b[1;32m<ipython-input-17-bf9fa33ec4e6>\u001b[0m in \u001b[0;36m<module>\u001b[1;34m\u001b[0m\n\u001b[0;32m      4\u001b[0m \u001b[1;31m# plt.show()\u001b[0m\u001b[1;33m\u001b[0m\u001b[1;33m\u001b[0m\u001b[1;33m\u001b[0m\u001b[0m\n\u001b[0;32m      5\u001b[0m backtest(api, ticker, date, open_thresholds[ticker]['PreClose'], \n\u001b[1;32m----> 6\u001b[1;33m                             PreData=open_thresholds[ticker],max_size=max_size_map[ticker], sl_ratio=0.02)\n\u001b[0m",
      "\u001b[1;32m<ipython-input-16-4c6bd85d8961>\u001b[0m in \u001b[0;36mbacktest\u001b[1;34m(api, ticker, date, open_threshold, PreData, v_threshold, entry_percent, exit_percent, takeprofit, start_moving_take, sl_ratio, max_size, exit_time)\u001b[0m\n\u001b[0;32m     65\u001b[0m             \u001b[1;32mif\u001b[0m \u001b[1;32mnot\u001b[0m \u001b[0mpos\u001b[0m \u001b[1;32mand\u001b[0m \u001b[1;32mnot\u001b[0m \u001b[0msig\u001b[0m \u001b[1;32mand\u001b[0m \u001b[1;32mnot\u001b[0m \u001b[0mtraded\u001b[0m\u001b[1;33m:\u001b[0m \u001b[1;31m# check signal without position\u001b[0m\u001b[1;33m\u001b[0m\u001b[1;33m\u001b[0m\u001b[0m\n\u001b[0;32m     66\u001b[0m                 \u001b[1;32mif\u001b[0m \u001b[0mupdate_bar\u001b[0m\u001b[1;33m:\u001b[0m\u001b[1;33m\u001b[0m\u001b[1;33m\u001b[0m\u001b[0m\n\u001b[1;32m---> 67\u001b[1;33m                     \u001b[1;32mif\u001b[0m \u001b[0mupdate_bar\u001b[0m\u001b[1;33m.\u001b[0m\u001b[0mVolume\u001b[0m \u001b[1;33m/\u001b[0m \u001b[0mbarG\u001b[0m\u001b[1;33m.\u001b[0m\u001b[0mbars\u001b[0m\u001b[1;33m[\u001b[0m\u001b[1;33m-\u001b[0m\u001b[1;36m2\u001b[0m\u001b[1;33m]\u001b[0m\u001b[1;33m.\u001b[0m\u001b[0mvolume\u001b[0m \u001b[1;33m>=\u001b[0m \u001b[1;36m3\u001b[0m\u001b[1;33m:\u001b[0m\u001b[1;33m\u001b[0m\u001b[1;33m\u001b[0m\u001b[0m\n\u001b[0m\u001b[0;32m     68\u001b[0m                         \u001b[1;32mif\u001b[0m \u001b[0mupdate_bar\u001b[0m\u001b[1;33m.\u001b[0m\u001b[0mHigh\u001b[0m \u001b[1;33m>\u001b[0m \u001b[0mbarG\u001b[0m\u001b[1;33m.\u001b[0m\u001b[0mbars\u001b[0m\u001b[1;33m[\u001b[0m\u001b[1;33m-\u001b[0m\u001b[1;36m2\u001b[0m\u001b[1;33m]\u001b[0m\u001b[1;33m.\u001b[0m\u001b[0mHigh\u001b[0m\u001b[1;33m:\u001b[0m\u001b[1;33m\u001b[0m\u001b[1;33m\u001b[0m\u001b[0m\n\u001b[0;32m     69\u001b[0m                             \u001b[0msig\u001b[0m \u001b[1;33m=\u001b[0m \u001b[1;36m1\u001b[0m\u001b[1;33m\u001b[0m\u001b[1;33m\u001b[0m\u001b[0m\n",
      "\u001b[1;31mAttributeError\u001b[0m: 'BarData' object has no attribute 'Volume'"
     ]
    },
    {
     "data": {
      "image/png": "[encoded data removed]",
      "text/plain": [
       "<Figure size 864x576 with 1 Axes>"
      ]
     },
     "metadata": {
      "needs_background": "light"
     },
     "output_type": "display_data"
    }
   ],
   "source": [
    "ticker = '1529'\n",
    "df = ReadData(api, ticker, date)\n",
    "df.set_index(\"datetime\").close.plot(figsize=(12,8))\n",
    "# plt.show()\n",
    "backtest(api, ticker, date, open_thresholds[ticker]['PreClose'], \n",
    "                            PreData=open_thresholds[ticker],max_size=max_size_map[ticker], sl_ratio=0.02)"
   ]
  },
  {
   "cell_type": "code",
   "execution_count": 14,
   "metadata": {
    "ExecuteTime": {
     "end_time": "2022-06-10T17:14:41.623592Z",
     "start_time": "2022-06-10T17:14:15.496390Z"
    },
    "scrolled": true
   },
   "outputs": [
    {
     "name": "stdout",
     "output_type": "stream",
     "text": [
      "backtest : 1529\n",
      "backtest : 2495\n",
      "backtest : 3035\n",
      "backtest : 3041\n",
      "backtest : 3060\n",
      "backtest : 3443\n",
      "backtest : 3607\n",
      "backtest : 5258\n",
      "backtest : 6698\n",
      "backtest : 8478\n",
      "backtest : 3114\n",
      "backtest : 3128\n",
      "backtest : 3141\n",
      "backtest : 3390\n",
      "backtest : 3466\n",
      "backtest : 3491\n",
      "backtest : 3675\n",
      "backtest : 5351\n",
      "backtest : 5371\n",
      "backtest : 6104\n",
      "backtest : 6156\n",
      "backtest : 6185\n",
      "backtest : 8089\n"
     ]
    }
   ],
   "source": [
    "pnl_ = {}\n",
    "for ticker in open_thresholds.keys():\n",
    "    try:\n",
    "        print(f'backtest : {ticker}')\n",
    "        if open_thresholds[ticker]['PreClose'] > 1000:continue\n",
    "        pnl_[ticker] = backtest(api, ticker, date, open_thresholds[ticker]['PreClose'], \n",
    "                            PreData=open_thresholds[ticker],max_size=max_size_map[ticker], sl_ratio=0.02,\n",
    "                               exit_time='10:00:00.000')\n",
    "    except:\n",
    "        pass"
   ]
  },
  {
   "cell_type": "code",
   "execution_count": 43,
   "metadata": {
    "ExecuteTime": {
     "end_time": "2022-04-17T08:40:35.572014Z",
     "start_time": "2022-04-17T08:40:35.561034Z"
    }
   },
   "outputs": [
    {
     "name": "stdout",
     "output_type": "stream",
     "text": [
      "1599 333\n",
      "1717 0\n",
      "1773 921\n",
      "2323 0\n",
      "2359 0\n",
      "3306 -669\n",
      "3455 529\n",
      "3550 0\n",
      "3583 0\n",
      "4755 917\n",
      "5452 -225\n",
      "6133 -140\n",
      "6134 -1019\n",
      "6208 -2099\n",
      "6667 0\n",
      "6698 -770\n",
      "8027 -1472\n",
      "交易量 : 1082250.0\n",
      "single pnl sum : -3694\n",
      "max pnl sum : -17812\n"
     ]
    }
   ],
   "source": [
    "single_pnl = 0\n",
    "max_pnl = 0\n",
    "trade_value = 0\n",
    "for ticker in pnl_.keys():\n",
    "    print(ticker, pnl_[ticker])\n",
    "    trade_value += open_thresholds[ticker]['PreClose'] * 1000\n",
    "    single_pnl += pnl_[ticker]\n",
    "    max_pnl += pnl_[ticker] * max_size_map[ticker]\n",
    "    \n",
    "print(f'交易量 : {trade_value}')\n",
    "print(f'single pnl sum : {single_pnl}')\n",
    "print(f'max pnl sum : {max_pnl}')\n",
    "results[date] = single_pnl"
   ]
  },
  {
   "cell_type": "code",
   "execution_count": 44,
   "metadata": {
    "ExecuteTime": {
     "end_time": "2022-04-17T08:40:37.905191Z",
     "start_time": "2022-04-17T08:40:37.898191Z"
    }
   },
   "outputs": [],
   "source": [
    "df = pd.DataFrame([{'datetime':k, 'pnl':v}for k, v in results.items()]).sort_values(\"datetime\")"
   ]
  },
  {
   "cell_type": "code",
   "execution_count": 45,
   "metadata": {
    "ExecuteTime": {
     "end_time": "2022-04-17T08:40:38.819601Z",
     "start_time": "2022-04-17T08:40:38.802602Z"
    }
   },
   "outputs": [
    {
     "data": {
      "text/html": [
       "<div>\n",
       "<style scoped>\n",
       "    .dataframe tbody tr th:only-of-type {\n",
       "        vertical-align: middle;\n",
       "    }\n",
       "\n",
       "    .dataframe tbody tr th {\n",
       "        vertical-align: top;\n",
       "    }\n",
       "\n",
       "    .dataframe thead th {\n",
       "        text-align: right;\n",
       "    }\n",
       "</style>\n",
       "<table border=\"1\" class=\"dataframe\">\n",
       "  <thead>\n",
       "    <tr style=\"text-align: right;\">\n",
       "      <th></th>\n",
       "      <th>datetime</th>\n",
       "      <th>pnl</th>\n",
       "    </tr>\n",
       "  </thead>\n",
       "  <tbody>\n",
       "    <tr>\n",
       "      <th>0</th>\n",
       "      <td>2021-12-17</td>\n",
       "      <td>-1297</td>\n",
       "    </tr>\n",
       "    <tr>\n",
       "      <th>1</th>\n",
       "      <td>2021-12-20</td>\n",
       "      <td>0</td>\n",
       "    </tr>\n",
       "    <tr>\n",
       "      <th>2</th>\n",
       "      <td>2021-12-21</td>\n",
       "      <td>-1962</td>\n",
       "    </tr>\n",
       "    <tr>\n",
       "      <th>3</th>\n",
       "      <td>2021-12-22</td>\n",
       "      <td>859</td>\n",
       "    </tr>\n",
       "    <tr>\n",
       "      <th>4</th>\n",
       "      <td>2021-12-23</td>\n",
       "      <td>-2396</td>\n",
       "    </tr>\n",
       "    <tr>\n",
       "      <th>5</th>\n",
       "      <td>2021-12-24</td>\n",
       "      <td>-1494</td>\n",
       "    </tr>\n",
       "    <tr>\n",
       "      <th>6</th>\n",
       "      <td>2021-12-27</td>\n",
       "      <td>1297</td>\n",
       "    </tr>\n",
       "    <tr>\n",
       "      <th>7</th>\n",
       "      <td>2021-12-28</td>\n",
       "      <td>-2609</td>\n",
       "    </tr>\n",
       "    <tr>\n",
       "      <th>8</th>\n",
       "      <td>2021-12-29</td>\n",
       "      <td>-1527</td>\n",
       "    </tr>\n",
       "    <tr>\n",
       "      <th>9</th>\n",
       "      <td>2021-12-30</td>\n",
       "      <td>-3694</td>\n",
       "    </tr>\n",
       "  </tbody>\n",
       "</table>\n",
       "</div>"
      ],
      "text/plain": [
       "    datetime   pnl\n",
       "0 2021-12-17 -1297\n",
       "1 2021-12-20     0\n",
       "2 2021-12-21 -1962\n",
       "3 2021-12-22   859\n",
       "4 2021-12-23 -2396\n",
       "5 2021-12-24 -1494\n",
       "6 2021-12-27  1297\n",
       "7 2021-12-28 -2609\n",
       "8 2021-12-29 -1527\n",
       "9 2021-12-30 -3694"
      ]
     },
     "execution_count": 45,
     "metadata": {},
     "output_type": "execute_result"
    }
   ],
   "source": [
    "df"
   ]
  },
  {
   "cell_type": "code",
   "execution_count": 46,
   "metadata": {
    "ExecuteTime": {
     "end_time": "2022-04-17T08:40:40.026743Z",
     "start_time": "2022-04-17T08:40:39.841749Z"
    }
   },
   "outputs": [
    {
     "data": {
      "text/plain": [
       "<AxesSubplot:xlabel='datetime'>"
      ]
     },
     "execution_count": 46,
     "metadata": {},
     "output_type": "execute_result"
    },
    {
     "data": {
      "image/png": "[encoded data removed]",
      "text/plain": [
       "<Figure size 432x288 with 1 Axes>"
      ]
     },
     "metadata": {
      "needs_background": "light"
     },
     "output_type": "display_data"
    }
   ],
   "source": [
    "df.set_index('datetime').cumsum().plot()#[datetime(2022,1,1):].cumsum()#.plot()# [datetime(2022,1,1):]"
   ]
  }
 ],
 "metadata": {
  "hide_input": false,
  "kernelspec": {
   "display_name": "Python 3",
   "language": "python",
   "name": "python3"
  },
  "language_info": {
   "codemirror_mode": {
    "name": "ipython",
    "version": 3
   },
   "file_extension": ".py",
   "mimetype": "text/x-python",
   "name": "python",
   "nbconvert_exporter": "python",
   "pygments_lexer": "ipython3",
   "version": "3.7.8"
  },
  "nteract": {
   "version": "0.28.0"
  },
  "toc": {
   "base_numbering": 1,
   "nav_menu": {},
   "number_sections": true,
   "sideBar": true,
   "skip_h1_title": false,
   "title_cell": "Table of Contents",
   "title_sidebar": "Contents",
   "toc_cell": false,
   "toc_position": {},
   "toc_section_display": true,
   "toc_window_display": false
  },
  "varInspector": {
   "cols": {
    "lenName": 16,
    "lenType": 16,
    "lenVar": 40
   },
   "kernels_config": {
    "python": {
     "delete_cmd_postfix": "",
     "delete_cmd_prefix": "del ",
     "library": "var_list.py",
     "varRefreshCmd": "print(var_dic_list())"
    },
    "r": {
     "delete_cmd_postfix": ") ",
     "delete_cmd_prefix": "rm(",
     "library": "var_list.r",
     "varRefreshCmd": "cat(var_dic_list()) "
    }
   },
   "types_to_exclude": [
    "module",
    "function",
    "builtin_function_or_method",
    "instance",
    "_Feature"
   ],
   "window_display": false
  }
 },
 "nbformat": 4,
 "nbformat_minor": 4
}
