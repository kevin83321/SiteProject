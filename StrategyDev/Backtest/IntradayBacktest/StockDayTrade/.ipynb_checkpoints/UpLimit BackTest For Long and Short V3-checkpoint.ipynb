{
 "cells": [
  {
   "cell_type": "code",
   "execution_count": 1,
   "metadata": {
    "ExecuteTime": {
     "end_time": "2022-02-25T15:35:01.605047Z",
     "start_time": "2022-02-25T15:34:59.682807Z"
    }
   },
   "outputs": [],
   "source": [
    "import shioaji as sj\n",
    "from datetime import datetime, timedelta\n",
    "import pandas as pd\n",
    "import pytz\n",
    "\n",
    "import json\n",
    "import os \n",
    "parent = os.path.dirname(os.path.abspath(\"__file__\"))\n",
    "StrongPath = os.path.join(parent, 'StrongTickers')\n",
    "if not os.path.isdir(StrongPath):\n",
    "    os.makedirs(StrongPath)\n",
    "# import matplotlib.pyplot as plt\n",
    "# %matplotlib inline"
   ]
  },
  {
   "cell_type": "code",
   "execution_count": 2,
   "metadata": {
    "ExecuteTime": {
     "end_time": "2022-02-25T15:35:06.598976Z",
     "start_time": "2022-02-25T15:35:02.811882Z"
    }
   },
   "outputs": [
    {
     "name": "stdout",
     "output_type": "stream",
     "text": [
      "Response Code: 0 | Event Code: 0 | Info: host '203.66.91.161:80', hostname '203.66.91.161:80' IP 203.66.91.161:80 (host 1 of 1) (host connection attempt 1 of 1) (total connection attempt 1 of 1) | Event: Session up\n"
     ]
    },
    {
     "data": {
      "text/plain": [
       "[FutureAccount(person_id='F128497445', broker_id='F002000', account_id='1473661', signed=True, username='鄭圳宏'),\n",
       " Account(account_type=<AccountType.H: 'H'>, person_id='F128497445', broker_id='9A92', account_id='0011645', username='鄭圳宏'),\n",
       " StockAccount(person_id='F128497445', broker_id='9A92', account_id='0231901', signed=True, username='鄭圳宏\\u3000\\u3000')]"
      ]
     },
     "execution_count": 2,
     "metadata": {},
     "output_type": "execute_result"
    }
   ],
   "source": [
    "api = sj.Shioaji()\n",
    "api.login('F128497445', '89118217k')"
   ]
  },
  {
   "cell_type": "code",
   "execution_count": 3,
   "metadata": {
    "ExecuteTime": {
     "end_time": "2022-02-25T15:35:08.134092Z",
     "start_time": "2022-02-25T15:35:08.008092Z"
    }
   },
   "outputs": [],
   "source": [
    "results = {}"
   ]
  },
  {
   "cell_type": "code",
   "execution_count": 4,
   "metadata": {
    "ExecuteTime": {
     "end_time": "2022-02-25T15:35:10.547097Z",
     "start_time": "2022-02-25T15:35:10.186094Z"
    },
    "code_folding": [
     8,
     13,
     18,
     25,
     32,
     42,
     127,
     139
    ]
   },
   "outputs": [],
   "source": [
    "from typing import Callable, List\n",
    "from enum import Enum\n",
    "\n",
    "from datetime import datetime, timedelta\n",
    "\n",
    "from typing import List\n",
    "from copy import deepcopy\n",
    "\n",
    "class AttrDict(dict):\n",
    "    def __init__(self, *args, **kwargs):\n",
    "        super(AttrDict, self).__init__(*args, **kwargs)\n",
    "        self.__dict__ = self\n",
    "        \n",
    "class BaseData(AttrDict):\n",
    "    \n",
    "    def __init__(self, *args, **kwargs):\n",
    "        super(BaseData, self).__init__(*args, **kwargs)\n",
    "        \n",
    "class TickData(BaseData):\n",
    "    \"\"\"\n",
    "    儲存即時收到的Info報價\n",
    "    \"\"\"\n",
    "    def __init__(self, *args, **kwargs):\n",
    "        super(TickData, self).__init__(*args, **kwargs)\n",
    "        \n",
    "class BarData(BaseData):\n",
    "    \"\"\"\n",
    "    儲存即時收到的Info報價\n",
    "    \"\"\"\n",
    "    def __init__(self, *args, **kwargs):\n",
    "        super(BarData, self).__init__(*args, **kwargs)\n",
    "\n",
    "class TradeMode(Enum):\n",
    "    \"\"\"\n",
    "    交易模式\n",
    "    \"\"\"\n",
    "    REALTIME = '實盤交易'\n",
    "    SIMULATION = '模擬交易'\n",
    "    BACKTEST = '回測'\n",
    "    BACKTESTINTRADAY = '日內回測'\n",
    "\n",
    "# 資料格式 (RealTime)\n",
    "class Interval(Enum):\n",
    "    \"\"\"\n",
    "    資料頻率\n",
    "    \"\"\"\n",
    "    TICK = '逐筆'\n",
    "    MINUTE = '分K'\n",
    "    HOUR = '小時K'\n",
    "    DAILY = '日K'\n",
    "\n",
    "class BarGenerator:\n",
    "    \"\"\"\n",
    "    For:\n",
    "    1. generateing x minute bar/x hour bar data from tick data\n",
    "\n",
    "    Notice:\n",
    "    1. x can be any number\n",
    "    \"\"\"\n",
    "\n",
    "    def __init__(self, ticker: str, interval: Interval = Interval.MINUTE, window: int = 5,\n",
    "                 trademode: TradeMode = TradeMode.REALTIME, \n",
    "                 callback: Callable = None, size=15, date=datetime.today()):\n",
    "        \"\"\"\n",
    "        Constructor\n",
    "        \"\"\"\n",
    "        self.ticker = ticker\n",
    "        self.interval = interval\n",
    "        self.window = window\n",
    "        self._trademode = trademode\n",
    "        self.callback = callback\n",
    "\n",
    "        self.setupBarCycle(interval, window)\n",
    "        self.bars: List[BarData] = []\n",
    "        self.inited = False\n",
    "        self.barCount = 0\n",
    "        self.size = size\n",
    "        self.date = date\n",
    "\n",
    "    def setupBarCycle(self, interval, window) -> None:\n",
    "        if self._trademode in [TradeMode.REALTIME, TradeMode.SIMULATION]:\n",
    "            self.current = date.replace(hour=9,minute=0,second=0,microsecond=0)#datetime.now().replace(second=0)\n",
    "        elif self._trademode == TradeMode.BACKTESTINTRADAY:\n",
    "            self.current = 84500\n",
    "        self._intervalCycle(interval, window)\n",
    "\n",
    "    def _intervalCycle(self, interval: Interval, window: int):\n",
    "        if self._trademode in [TradeMode.REALTIME, TradeMode.SIMULATION]:\n",
    "            if interval == Interval.MINUTE:\n",
    "                self.cycle = timedelta(seconds=60 * window)\n",
    "            elif interval == Interval.HOUR:\n",
    "                self.cycle = timedelta(seconds=60 * 60 * window)\n",
    "        elif self._trademode == TradeMode.BACKTESTINTRADAY:\n",
    "            if interval == Interval.MINUTE:\n",
    "                self.cycle = 100 * window\n",
    "            elif interval == Interval.HOUR:\n",
    "                self.cycle = 100 * 100 * window\n",
    "\n",
    "    def updateBar(self, tick: TickData):\n",
    "        try:\n",
    "            if self._trademode == TradeMode.BACKTESTINTRADAY:\n",
    "                return self._updateBarBacktest(tick)\n",
    "            return self._updateBar(tick)\n",
    "        except:\n",
    "            raise\n",
    "\n",
    "    def _updateBar(self, tick: TickData):\n",
    "        try:\n",
    "            try:\n",
    "                time, close, volume = tick.time, tick.close, tick.volume\n",
    "            except:\n",
    "                # print(tick)\n",
    "                time, close, volume = tick['time'], tick['close'], tick['volume']\n",
    "            if not self.bars or time > self.current:\n",
    "                self.bars.append(self._createNewBar(time, close, volume))\n",
    "                self._updateCurBarTime()\n",
    "                if len(self.bars) >= self.size:\n",
    "                    self.inited = True\n",
    "                if len(self.bars) > 1:\n",
    "#                     print(self.bars[-2])\n",
    "                    return self.bars[-2]\n",
    "                    if self.callback:\n",
    "                        self.callback(self.bars[-2])\n",
    "            else:\n",
    "                self._updateCurBar(close, volume)\n",
    "        except:\n",
    "            raise\n",
    "\n",
    "    def _updateBarBacktest(self, tick: TickData):\n",
    "        time, close, volume = tick.time, tick.close, tick.volume\n",
    "        if not self.bars or time > self.current:\n",
    "            self.bars.append(self._createNewBar(time, close, volume))\n",
    "            self._updateCurBarTime()\n",
    "            if len(self.bars) >= self.size:\n",
    "                self.inited = True\n",
    "            if len(self.bars) > 1:\n",
    "                self.callback(self.bars[-2])\n",
    "        else:\n",
    "            self._updateCurBar(close, volume)\n",
    "            \n",
    "    def _createNewBar(self, time, close, volume):\n",
    "        return BarData(\n",
    "                    symbol=self.ticker,\n",
    "                    time=time,\n",
    "                    open=close,\n",
    "                    high=close,\n",
    "                    low=close,\n",
    "                    close=close,\n",
    "                    volume=volume\n",
    "                )\n",
    "    \n",
    "    def _updateCurBar(self, close, volume):\n",
    "        curBar = self.bars[-1]\n",
    "        curBar.high = max(curBar.high, close)\n",
    "        curBar.low = min(curBar.low, close)\n",
    "        curBar.close = close\n",
    "        curBar.volume += volume\n",
    "        self.bars[-1] = curBar\n",
    "\n",
    "    def _updateCurBarTime(self):\n",
    "        self.current += self.cycle\n",
    "        if self._trademode in [TradeMode.REALTIME, TradeMode.SIMULATION]:\n",
    "            return\n",
    "        elif self._trademode == TradeMode.BACKTESTINTRADAY:\n",
    "            timeList = self._intTolist(self.current)\n",
    "            if self.interval == Interval.MINUTE:\n",
    "                if timeList[1] >= 60:\n",
    "                    timeList[0] += 1\n",
    "                    timeList[1] -= 60\n",
    "            if timeList[0] >= 24:\n",
    "                timeList[0] -= 24\n",
    "            self.current = int(''.join([str(int(x)) for x in timeList]))\n",
    "\n",
    "    def _intTolist(self, t):\n",
    "        ss = t % 100\n",
    "        t /= 100\n",
    "        mm = t % 100\n",
    "        hh = t / 100\n",
    "        return [int(hh), int(mm), int(ss)]\n",
    "\n",
    "    @property\n",
    "    def closes(self):\n",
    "        return [getattr(bar, 'close') for bar in self.bars][:-1]\n",
    "\n",
    "    @property\n",
    "    def opens(self):\n",
    "        return [getattr(bar, 'open') for bar in self.bars][:-1]\n",
    "\n",
    "    @property\n",
    "    def highs(self):\n",
    "        return [getattr(bar, 'high') for bar in self.bars][:-1]\n",
    "\n",
    "    @property\n",
    "    def lows(self):\n",
    "        return [getattr(bar, 'low') for bar in self.bars][:-1]\n",
    "\n",
    "    @property\n",
    "    def volumes(self):\n",
    "        return [getattr(bar, 'volume') for bar in self.bars][:-1]"
   ]
  },
  {
   "cell_type": "code",
   "execution_count": 62,
   "metadata": {
    "ExecuteTime": {
     "end_time": "2022-02-25T16:44:15.954016Z",
     "start_time": "2022-02-25T16:44:15.942016Z"
    },
    "code_folding": [
     12,
     26
    ]
   },
   "outputs": [],
   "source": [
    "def readStrongTicker(dtStr, atr=\"\"):\n",
    "    datapath = os.path.join(StrongPath+atr, f'{dtStr}_tradableTicker.json')\n",
    "    if not os.path.isfile(datapath):\n",
    "        datapath = os.path.join(StrongPath+atr, f'{dtStr}_strongTicker.json')\n",
    "#         with open(os.path.join(StrongPath, f'{dtStr}_tradableTicker.json'), 'r') as f:\n",
    "#             tickers = json.load(f)\n",
    "#             return tickers\n",
    "    if os.path.isfile(datapath):\n",
    "        with open(datapath, 'r') as f:\n",
    "            tickers = json.load(f)\n",
    "            return tickers\n",
    "    else:\n",
    "        return {}\n",
    "\n",
    "def get_minimum_tick(cost):\n",
    "    if cost < 10:\n",
    "        return 0.01\n",
    "    elif cost < 50:\n",
    "        return 0.05\n",
    "    elif cost < 100:\n",
    "        return 0.1\n",
    "    elif cost < 500:\n",
    "        return 0.5\n",
    "    elif cost < 1000:\n",
    "        return 1\n",
    "    else:\n",
    "        return 5\n",
    "    \n",
    "def get_commission(price:float, multiplier:int=1000, qty=1, Real:bool=True, direction:str='', dayTrade:bool=False):\n",
    "    \"\"\"\n",
    "    計算個別部位的單邊交易成本\n",
    "\n",
    "    Params:\n",
    "        symbol : 商品代碼\n",
    "        exchange : 交易所\n",
    "        cost : 交易價格\n",
    "        multiplier : 價格還原現金之乘數\n",
    "            例如:\n",
    "                股票 : 1張 = 1,000股，10元的股票還原現金價值，即為10 *1,000 = 10,000元\n",
    "                期貨 : 台指期1點200元，假設現在10,000點，則一口台股的價值為 200 * 10,000 = 2,000,000\n",
    "        qty : 買賣口數或張數\n",
    "        Real : 是否為實單, default = False\n",
    "        direction : 交易方向 進場(買賣)或出場\n",
    "            P.S. 股票交易的交易稅是出場才計算\n",
    "    \"\"\"\n",
    "    tick = get_minimum_tick(price)\n",
    "    commission = price * (0.1425 / 100) * multiplier * qty\n",
    "    commission = 20 if commission < 20 else commission\n",
    "    fee = price * (0.3 / 100) * multiplier * qty\n",
    "    if dayTrade:\n",
    "        fee /= 2\n",
    "    slide = tick * multiplier\n",
    "    tradeCost = commission * 0.6\n",
    "    if direction == 'EXIT' or direction == 0:\n",
    "        tradeCost += fee\n",
    "    if not Real:\n",
    "        tradeCost += slide * qty\n",
    "    return tradeCost"
   ]
  },
  {
   "cell_type": "code",
   "execution_count": 6,
   "metadata": {
    "ExecuteTime": {
     "end_time": "2022-02-25T15:35:13.853325Z",
     "start_time": "2022-02-25T15:35:13.729328Z"
    }
   },
   "outputs": [],
   "source": [
    "def ReadData(api, ticker, date):\n",
    "    dateStr = date.strftime(\"%Y-%m-%d\")\n",
    "    contact = api.Contracts.Stocks[ticker]\n",
    "    data = api.ticks(contact, dateStr, \n",
    "            query_type=sj.constant.TicksQueryType.RangeTime, \n",
    "            time_start='09:00:00',#datetime(2021,11,5,8,45,0).time(),\n",
    "           time_end='13:30:00')#datetime(2021,11,5,13,45,0).time())\n",
    "    df = pd.DataFrame(data.dict())\n",
    "    df['datetime'] = df.ts.apply(lambda x: datetime.utcfromtimestamp(int(str(x)[:10])).astimezone(pytz.timezone('Asia/Taipei')))\n",
    "    df['datetime'] = pd.to_datetime(df['datetime'].apply(lambda x: x.strftime(\"%Y-%m-%d %H:%M:%S.%f\")))\n",
    "    return df"
   ]
  },
  {
   "cell_type": "code",
   "execution_count": 94,
   "metadata": {
    "ExecuteTime": {
     "end_time": "2022-02-25T17:50:24.299142Z",
     "start_time": "2022-02-25T17:50:24.243150Z"
    },
    "code_folding": []
   },
   "outputs": [],
   "source": [
    "def backtest(api:sj.Shioaji, ticker:str, date:datetime, open_threshold:float=0, PreData:dict={},\n",
    "             v_threshold:float=.01, entry_percent:float=.06, exit_percent:float=.09, \n",
    "             takeprofit:float=.6, start_moving_take = .015, sl_ratio:float=.02, max_size:float = 1, \n",
    "             exit_time:str='13:00:00.000000'): # \n",
    "\n",
    "    # prepare data\n",
    "    df = ReadData(api, ticker, date)\n",
    "    \n",
    "    # setting Parameters\n",
    "    opening = False\n",
    "    closing = False\n",
    "    \n",
    "    pre_time:str=\"09:00:00\"\n",
    "    pre_volume:int = 0\n",
    "    pre_close:int = 0\n",
    "    total_v:int = 0 \n",
    "    refPrice:float = PreData.get('PreClose', 0)\n",
    "    preHigh:float = PreData.get('PreHigh', PreData.get('PreClose', 0))\n",
    "#     preLow:float = PreData.get('PreLow', 9999)\n",
    "    entry_threshold:float = 0 if not refPrice else refPrice * (1 + entry_percent)\n",
    "    exit_threshold:float = 0 if not refPrice else refPrice * (1 + exit_percent)\n",
    "    max_ret:float = 0\n",
    "    tmp_ret:float = 0\n",
    "    pos = 0\n",
    "    sig = 0\n",
    "    traded = 0\n",
    "    long_traded = short_traded = 0\n",
    "    entry = 0\n",
    "    entry_time = 0\n",
    "\n",
    "#     preHigh = 0\n",
    "#     preLow = 9999\n",
    "    sl_threshold = 0\n",
    "    \n",
    "    pnl:float = 0\n",
    "    total_volume = 0\n",
    "#     first_5mink = {'open':None, 'high':0,'low':9999, 'close':0}\n",
    "        \n",
    "    entry_time = ''\n",
    "    exit_pos_time = ''\n",
    "    tmp_pnl = 0\n",
    "    barG = BarGenerator(ticker, date=date)\n",
    "    open_l = open_h = None\n",
    "    total_pnl = 0\n",
    "    \n",
    "    for row in df.itertuples():\n",
    "#         print(row)\n",
    "        price = row.close\n",
    "        time = row.datetime\n",
    "        qty = row.volume\n",
    "        if not qty: continue\n",
    "        total_volume += qty\n",
    "        tick = TickData(time=time, close=price,volume=qty)\n",
    "        update_bar = barG.updateBar(tick)\n",
    "        if update_bar and not pos:\n",
    "#             print(update_bar)\n",
    "            if len(barG.bars) >= 3 and not (open_h and open_l):\n",
    "                open_h = max(barG.highs[:2])\n",
    "                open_l = min(barG.lows[:2])\n",
    "                print(f\"open_h : {open_h}, open_l : {open_l}\")\n",
    "        if len(barG.bars) < 2:\n",
    "            continue\n",
    "        if time <= time.replace(hour=13,minute=0,second=0, microsecond=0) and not pos:\n",
    "            if not pos and not sig and not traded: # check signal without position\n",
    "#                 if not short_traded:\n",
    "                if open_l and price < open_l and row.datetime.strftime('%H:%M:%S.%f') >= \"12:00:00.000000\" and not short_traded:\n",
    "                    print(\"Entry Short signal with price touch\")\n",
    "                    sig = -1\n",
    "                    oneTradeOnly = True\n",
    "                elif update_bar and open_l and update_bar['close'] < open_l and not short_traded: # update_bar['open']\n",
    "                    print(f\"5m Bar CLose :{update_bar['close']}, open low : {open_l}\")\n",
    "                    print(\"Entry Short signal with price low open threshold\")\n",
    "#                     print(','.join([str(x) for x in [update_bar['close'], open_l]]))\n",
    "                    sig = -1\n",
    "                    oneTradeOnly = True\n",
    "#                 elif update_bar and open_h and update_bar['close'] > open_h and update_bar['close'] <= entry_threshold and not long_traded:\n",
    "                elif price > max(barG.bars[0]['open'], barG.bars[0]['close'],preHigh) * 1.005 and price <= entry_threshold and not long_traded: # ,preHigh\n",
    "                    sig = 1\n",
    "                    oneTradeOnly = True\n",
    "            elif not pos and sig: # entry market\n",
    "                print(f\"Entry at close = {price}, bid : {row.bid_price}, ask : {row.ask_price}\")\n",
    "                if sig > 0:\n",
    "                    entry = row.ask_price\n",
    "                elif sig < 0:\n",
    "                    entry = row.bid_price\n",
    "                if abs(entry / price - 1) >= .005:\n",
    "                    entry = price\n",
    "                pos, sig = sig, 0\n",
    "                entry_time = row.datetime\n",
    "                sl_threshold = entry * (1 - sl_ratio * pos)\n",
    "                if pos == -1:\n",
    "                    sl_threshold = min(sl_threshold, (open_h + open_l) / 2)\n",
    "                    \n",
    "                    \n",
    "        elif pos and not sig: # check signal with position\n",
    "            tmp_pnl = (price - entry) * 1000 * pos\n",
    "            tmp_pnl -= int(get_commission(entry if pos > 0 else price)) # 進場成本\n",
    "            tmp_pnl -= int(get_commission(price if pos > 0 else entry, direction='EXIT', dayTrade=True)) # 出場成本\n",
    "            if pos > 0:\n",
    "                tmp_ret = ((price / entry) - 1) * pos\n",
    "            else:\n",
    "                tmp_ret = (tmp_pnl / (entry * 1000))# - 1\n",
    "#             print(f\"Tmp PnL : {tmp_pnl}\")\n",
    "            \n",
    "            if tmp_ret > max_ret:\n",
    "#                 sl_threshold = entry * (1 - sl_ratio * pos)\n",
    "                sl_threshold = price * (1 - sl_ratio * pos)\n",
    "                if pos == -1:\n",
    "                    sl_threshold = min(sl_threshold, (open_h + open_l) / 2)\n",
    "#                 sl_threshold = min(price * (1 - sl_ratio * pos), (open_h + open_l) / 2)\n",
    "#                 print(row.datetime, price * (1 + sl_ratio), (open_h + open_l) / 2, sl_threshold)\n",
    "            max_ret = max(tmp_ret, max_ret)\n",
    "#             print(f\"close : {price}, pos : {pos}, tmp_pnl : {tmp_pnl}, max_ret : {max_ret}\")\n",
    "\n",
    "            do_exit_take = tmp_ret >= 0.01 and ((entry_time.strftime('%H:%M:%S.%f') >= \"12:00:00.000000\") or pos == 1)\n",
    "#             if max_ret >= start_moving_take:\n",
    "#                 do_exit_take = (tmp_ret / max_ret) <= (takeprofit) if max_ret else False\n",
    "            do_exit_stop = price > sl_threshold if pos == -1 else price < sl_threshold\n",
    "            do_exit = price >= exit_threshold if pos > 0 else price <= (refPrice * (1 - exit_percent))\n",
    "\n",
    "            exit_end = time.strftime('%H:%M:%S.%f') >= exit_time\n",
    "            if any([do_exit, do_exit_stop, exit_end, do_exit_take]): # \n",
    "                print(do_exit, do_exit_stop, exit_end, do_exit_take)\n",
    "                print(f\"sl_threshold {sl_threshold}, half-high-low :{(open_h + open_l) / 2}\")\n",
    "                print(f\"Max Ret : {max_ret}\")\n",
    "                sig = -pos\n",
    "                print(f\"Signal For Exit : {sig}\")\n",
    "#                     self.closing=True\n",
    "#                     self.DoTrade('S' if self.pos > 0 else 'B')\n",
    "#                     self.sendNotifyExit(self.q20_data['datetime'].strftime(\"%H:%M:%S.%f\"), self.symbol, self.name,\n",
    "#                                      close, self.q20_data['pct_chg'], do_exit_take or do_exit)\n",
    "        elif pos and sig:\n",
    "            signal_time = row.datetime\n",
    "            print(f\"Calculate PnL at close = {price}, ask : {row.ask_price} at {row.datetime}\")\n",
    "            if sig > 0:\n",
    "                exit = row.ask_price\n",
    "            elif sig < 0:\n",
    "                exit = row.bid_price\n",
    "            if abs(exit / price - 1) >= .005:\n",
    "                exit = price\n",
    "            tmp_pnl = (exit - entry) * 1000 * pos\n",
    "            tmp_pnl -= int(get_commission(entry if pos > 0 else exit)) # 進場成本\n",
    "            tmp_pnl -= int(get_commission(exit if pos > 0 else entry, direction='EXIT', dayTrade=True)) # 出場成本\n",
    "            tmp_ret = ((price / entry) - 1) * pos\n",
    "            total_pnl += tmp_pnl\n",
    "            \n",
    "            print('\\n---------------PnL Summary--------------')\n",
    "            print(f'Exit Position of {ticker}')\n",
    "            print(f'Entry : {entry} at {entry_time}')\n",
    "            print(f'Exit : {price} at {signal_time}')\n",
    "            print(f'Trading PnL with Cost : {int(round(tmp_pnl))}')\n",
    "            print(f'Total PnL with Cost : {int(round(total_pnl))}')\n",
    "            print(f'Total Ret with Cost : {round(tmp_ret * 100, 2)}%')\n",
    "            print(f'Total PnL with Cost of max size {max_size}: {max_size * int(round(tmp_pnl))}\\n')\n",
    "            \n",
    "            if pos > 0:\n",
    "                long_traded = True\n",
    "            elif pos < 0:\n",
    "                short_traded = True\n",
    "            sig = pos = 0\n",
    "            traded = (long_traded and short_traded) or (total_pnl > 0)\n",
    "            exit_pos_time = row.datetime\n",
    "        else:\n",
    "            if pos and not sig:\n",
    "                tmp_pnl = (price - entry) * 1000 * pos\n",
    "                tmp_pnl -= int(get_commission(entry if pos > 0 else price)) # 進場成本\n",
    "                tmp_pnl -= int(get_commission(price if pos > 0 else entry, direction='EXIT', dayTrade=True)) # 出場成本\n",
    "                tmp_ret = ((price / entry) - 1) * pos\n",
    "#                 tmp_ret = (tmp_pnl / entry * 1000) - 1\n",
    "                if tmp_ret > max_ret:\n",
    "                    sl_threshold = price * (1 - sl_ratio)\n",
    "                max_ret = max(tmp_ret, max_ret)\n",
    "\n",
    "                do_exit_take = do_exit_take = tmp_ret >= 0.01 # False\n",
    "#                 if max_ret >= start_moving_take:\n",
    "#                     do_exit_take = (tmp_ret / max_ret) <= (takeprofit) if max_ret else False\n",
    "                do_exit_stop = price > sl_threshold if pos == -1 else price < sl_threshold\n",
    "                do_exit = price >= exit_threshold if pos > 0 else price <= (refPrice * (1 - exit_percent))\n",
    "                sig = -pos\n",
    "            elif pos and sig:\n",
    "                signal_time = row.datetime\n",
    "                print(price, row.bid_price)\n",
    "                exit = row.bid_price\n",
    "                if abs(exit / price - 1) >= .005:\n",
    "                    exit = price\n",
    "                tmp_pnl = (exit - entry) * 1000 * pos\n",
    "                tmp_pnl -= int(get_commission(entry if pos > 0 else exit)) # 進場成本\n",
    "                tmp_pnl -= int(get_commission(exit if pos > 0 else entry, direction='EXIT', dayTrade=True)) # 出場成本\n",
    "                tmp_ret = ((price / entry) - 1) * pos\n",
    "                total_pnl += tmp_pnl\n",
    "                \n",
    "            \n",
    "                print('\\n---------------PnL Summary--------------')\n",
    "                print(f'Exit Position of {ticker}')\n",
    "                print(f'Entry : {entry} at {entry_time}')\n",
    "                print(f'Exit : {price} at {signal_time}')\n",
    "                print(f'Trading PnL with Cost : {int(round(tmp_pnl))}')\n",
    "                print(f'Total PnL with Cost : {int(round(total_pnl))}')\n",
    "                print(f'Total Ret with Cost : {round(tmp_ret * 100, 2)}%')\n",
    "                print(f'Total PnL with Cost of max size {max_size}: {max_size * int(round(tmp_pnl))}\\n')\n",
    "                \n",
    "                if pos > 0:\n",
    "                    long_traded = True\n",
    "                elif pos < 0:\n",
    "                    short_traded = True\n",
    "                sig = pos = 0\n",
    "                traded = (long_traded and short_traded) or (total_pnl > 0)\n",
    "                exit_pos_time = row.datetime\n",
    "    return int(round(total_pnl))"
   ]
  },
  {
   "cell_type": "code",
   "execution_count": 98,
   "metadata": {
    "ExecuteTime": {
     "end_time": "2022-02-25T17:52:06.635937Z",
     "start_time": "2022-02-25T17:52:06.613941Z"
    },
    "scrolled": true
   },
   "outputs": [
    {
     "name": "stdout",
     "output_type": "stream",
     "text": [
      "2613 最大倉位 : 39, 昨收 : {'PreClose': 32.05, 'PreHigh': 32.05, 'PreLow': 31.0}\n",
      "5706 最大倉位 : 18, 昨收 : {'PreClose': 66.0, 'PreHigh': 66.0, 'PreLow': 58.3}\n",
      "8390 最大倉位 : 30, 昨收 : {'PreClose': 40.35, 'PreHigh': 40.55, 'PreLow': 38.0}\n",
      "8401 最大倉位 : 63, 昨收 : {'PreClose': 19.8, 'PreHigh': 19.8, 'PreLow': 18.5}\n"
     ]
    }
   ],
   "source": [
    "date = datetime(2022,2,25)\n",
    "# date = datetime(2021,12,30)\n",
    "open_thresholds = readStrongTicker(date.strftime(\"%Y-%m-%d\"), '')\n",
    "total_capital = 5e6\n",
    "seperated_capital = int(total_capital / len(open_thresholds.keys()))\n",
    "max_size_map = {}\n",
    "for k, v in open_thresholds.items():\n",
    "    try:\n",
    "        max_pos = int(seperated_capital / (v['PreClose'] * 1000))\n",
    "        print(f'{k} 最大倉位 : {max_pos}, 昨收 : {v}')\n",
    "        max_size_map[k] = max_pos\n",
    "    except:\n",
    "        max_pos = int(seperated_capital / (v * 1000))\n",
    "        print(f'{k} 最大倉位 : {max_pos}, 昨收 : {v}')\n",
    "        max_size_map[k] = max_pos\n",
    "        open_thresholds[k] = {'PreClose':v}\n",
    "        "
   ]
  },
  {
   "cell_type": "code",
   "execution_count": 66,
   "metadata": {
    "ExecuteTime": {
     "end_time": "2022-02-25T16:50:10.794130Z",
     "start_time": "2022-02-25T16:50:09.504908Z"
    },
    "scrolled": true
   },
   "outputs": [
    {
     "name": "stderr",
     "output_type": "stream",
     "text": [
      "c:\\users\\kevin\\appdata\\local\\programs\\python\\python37\\lib\\site-packages\\pandas\\plotting\\_matplotlib\\converter.py:256: MatplotlibDeprecationWarning: \n",
      "The epoch2num function was deprecated in Matplotlib 3.3 and will be removed two minor releases later.\n",
      "  base = dates.epoch2num(dt.asi8 / 1.0e9)\n"
     ]
    },
    {
     "name": "stdout",
     "output_type": "stream",
     "text": [
      "open_h : 27.15, open_l : 26.65\n",
      "5m Bar CLose :26.5, open low : 26.65\n",
      "Entry Short signal with price low open threshold\n",
      "Entry at close = 26.5, bid : 26.5, ask : 26.6\n",
      "False True False False\n",
      "Max Ret : 0\n",
      "Signal For Exit : 1\n",
      "Calculate PnL at close = 26.95, ask : 26.95 at 2022-02-25 11:10:56\n",
      "\n",
      "---------------PnL Summary--------------\n",
      "Exit Position of 2641\n",
      "Entry : 26.5 at 2022-02-25 10:45:12\n",
      "Exit : 26.95 at 2022-02-25 11:10:56\n",
      "Trading PnL with Cost : -535\n",
      "Total PnL with Cost : -535\n",
      "Total Ret with Cost : -1.7%\n",
      "Total PnL with Cost of max size 6: -3210\n",
      "\n"
     ]
    },
    {
     "data": {
      "text/plain": [
       "-535"
      ]
     },
     "execution_count": 66,
     "metadata": {},
     "output_type": "execute_result"
    },
    {
     "data": {
      "image/png": "[encoded data removed]",
      "text/plain": [
       "<Figure size 864x576 with 1 Axes>"
      ]
     },
     "metadata": {
      "needs_background": "light"
     },
     "output_type": "display_data"
    }
   ],
   "source": [
    "ticker = '2641'\n",
    "df = ReadData(api, ticker, date)\n",
    "df.set_index(\"datetime\").close.plot(figsize=(12,8))\n",
    "# plt.show()\n",
    "backtest(api, ticker, date, open_thresholds[ticker]['PreClose'], \n",
    "                            PreData=open_thresholds[ticker],max_size=max_size_map[ticker], sl_ratio=0.02)"
   ]
  },
  {
   "cell_type": "code",
   "execution_count": 99,
   "metadata": {
    "ExecuteTime": {
     "end_time": "2022-02-25T17:52:14.866721Z",
     "start_time": "2022-02-25T17:52:10.454683Z"
    },
    "scrolled": true
   },
   "outputs": [
    {
     "name": "stdout",
     "output_type": "stream",
     "text": [
      "backtest : 2613\n",
      "open_h : 34.6, open_l : 33.3\n",
      "5m Bar CLose :32.7, open low : 33.3\n",
      "Entry Short signal with price low open threshold\n",
      "Entry at close = 32.7, bid : 32.7, ask : 32.75\n",
      "False True False False\n",
      "sl_threshold 33.354000000000006, half-high-low :33.95\n",
      "Max Ret : 0\n",
      "Signal For Exit : 1\n",
      "Calculate PnL at close = 33.4, ask : 33.4 at 2022-02-25 09:16:58\n",
      "\n",
      "---------------PnL Summary--------------\n",
      "Exit Position of 2613\n",
      "Entry : 32.7 at 2022-02-25 09:15:02\n",
      "Exit : 33.4 at 2022-02-25 09:16:58\n",
      "Trading PnL with Cost : -805\n",
      "Total PnL with Cost : -805\n",
      "Total Ret with Cost : -2.14%\n",
      "Total PnL with Cost of max size 39: -31395\n",
      "\n",
      "backtest : 5706\n",
      "Entry at close = 66.3, bid : 66.3, ask : 66.4\n",
      "False False False True\n",
      "backtest : 8390\n",
      "open_h : 39.45, open_l : 37.65\n",
      "Entry Short signal with price touch\n",
      "Entry at close = 37.6, bid : 37.6, ask : 37.65\n",
      "False False True False\n",
      "sl_threshold 37.893, half-high-low :38.55\n",
      "Max Ret : 0.008803191489361777\n",
      "Signal For Exit : 1\n",
      "Calculate PnL at close = 37.25, ask : 37.3 at 2022-02-25 13:00:32\n",
      "\n",
      "---------------PnL Summary--------------\n",
      "Exit Position of 8390\n",
      "Entry : 37.6 at 2022-02-25 12:25:58\n",
      "Exit : 37.25 at 2022-02-25 13:00:32\n",
      "Trading PnL with Cost : 181\n",
      "Total PnL with Cost : 181\n",
      "Total Ret with Cost : 0.93%\n",
      "Total PnL with Cost of max size 30: 5430\n",
      "\n",
      "backtest : 8401\n",
      "open_h : 21.7, open_l : 20.5\n",
      "5m Bar CLose :20.4, open low : 20.5\n",
      "Entry Short signal with price low open threshold\n",
      "Entry at close = 20.4, bid : 20.4, ask : 20.5\n",
      "False True False False\n",
      "sl_threshold 20.552999999999997, half-high-low :21.1\n",
      "Max Ret : 0.009068627450980393\n",
      "Signal For Exit : 1\n",
      "Calculate PnL at close = 20.65, ask : 20.7 at 2022-02-25 11:47:15\n",
      "\n",
      "---------------PnL Summary--------------\n",
      "Exit Position of 8401\n",
      "Entry : 20.4 at 2022-02-25 10:50:34\n",
      "Exit : 20.65 at 2022-02-25 11:47:15\n",
      "Trading PnL with Cost : -365\n",
      "Total PnL with Cost : -365\n",
      "Total Ret with Cost : -1.23%\n",
      "Total PnL with Cost of max size 63: -22995\n",
      "\n"
     ]
    }
   ],
   "source": [
    "pnl_ = {}\n",
    "for ticker in open_thresholds.keys():\n",
    "    try:\n",
    "        print(f'backtest : {ticker}')\n",
    "        if open_thresholds[ticker]['PreClose'] > 1000:continue\n",
    "        pnl_[ticker] = backtest(api, ticker, date, open_thresholds[ticker]['PreClose'], \n",
    "                            PreData=open_thresholds[ticker],max_size=max_size_map[ticker], sl_ratio=0.02)\n",
    "    except:\n",
    "        pass"
   ]
  },
  {
   "cell_type": "code",
   "execution_count": 100,
   "metadata": {
    "ExecuteTime": {
     "end_time": "2022-02-25T17:52:19.367218Z",
     "start_time": "2022-02-25T17:52:19.350227Z"
    }
   },
   "outputs": [
    {
     "name": "stdout",
     "output_type": "stream",
     "text": [
      "2613 -805\n",
      "8390 181\n",
      "8401 -365\n",
      "交易量 : 92200.0\n",
      "single pnl sum : -989\n",
      "max pnl sum : -48960\n"
     ]
    }
   ],
   "source": [
    "single_pnl = 0\n",
    "max_pnl = 0\n",
    "trade_value = 0\n",
    "for ticker in pnl_.keys():\n",
    "    print(ticker, pnl_[ticker])\n",
    "    trade_value += open_thresholds[ticker]['PreClose'] * 1000\n",
    "    single_pnl += pnl_[ticker]\n",
    "    max_pnl += pnl_[ticker] * max_size_map[ticker]\n",
    "    \n",
    "print(f'交易量 : {trade_value}')\n",
    "print(f'single pnl sum : {single_pnl}')\n",
    "print(f'max pnl sum : {max_pnl}')\n",
    "results[date] = single_pnl"
   ]
  },
  {
   "cell_type": "code",
   "execution_count": 101,
   "metadata": {
    "ExecuteTime": {
     "end_time": "2022-02-25T17:52:23.066966Z",
     "start_time": "2022-02-25T17:52:23.049978Z"
    }
   },
   "outputs": [],
   "source": [
    "df = pd.DataFrame([{'datetime':k, 'pnl':v}for k, v in results.items()]).sort_values(\"datetime\")"
   ]
  },
  {
   "cell_type": "code",
   "execution_count": 102,
   "metadata": {
    "ExecuteTime": {
     "end_time": "2022-02-25T17:52:23.708528Z",
     "start_time": "2022-02-25T17:52:23.698529Z"
    }
   },
   "outputs": [
    {
     "data": {
      "text/html": [
       "<div>\n",
       "<style scoped>\n",
       "    .dataframe tbody tr th:only-of-type {\n",
       "        vertical-align: middle;\n",
       "    }\n",
       "\n",
       "    .dataframe tbody tr th {\n",
       "        vertical-align: top;\n",
       "    }\n",
       "\n",
       "    .dataframe thead th {\n",
       "        text-align: right;\n",
       "    }\n",
       "</style>\n",
       "<table border=\"1\" class=\"dataframe\">\n",
       "  <thead>\n",
       "    <tr style=\"text-align: right;\">\n",
       "      <th></th>\n",
       "      <th>datetime</th>\n",
       "      <th>pnl</th>\n",
       "    </tr>\n",
       "  </thead>\n",
       "  <tbody>\n",
       "    <tr>\n",
       "      <th>7</th>\n",
       "      <td>2022-02-14</td>\n",
       "      <td>1292</td>\n",
       "    </tr>\n",
       "    <tr>\n",
       "      <th>6</th>\n",
       "      <td>2022-02-16</td>\n",
       "      <td>-1189</td>\n",
       "    </tr>\n",
       "    <tr>\n",
       "      <th>5</th>\n",
       "      <td>2022-02-17</td>\n",
       "      <td>-6643</td>\n",
       "    </tr>\n",
       "    <tr>\n",
       "      <th>4</th>\n",
       "      <td>2022-02-18</td>\n",
       "      <td>-1631</td>\n",
       "    </tr>\n",
       "    <tr>\n",
       "      <th>0</th>\n",
       "      <td>2022-02-22</td>\n",
       "      <td>213</td>\n",
       "    </tr>\n",
       "    <tr>\n",
       "      <th>3</th>\n",
       "      <td>2022-02-23</td>\n",
       "      <td>-217</td>\n",
       "    </tr>\n",
       "    <tr>\n",
       "      <th>1</th>\n",
       "      <td>2022-02-24</td>\n",
       "      <td>-2324</td>\n",
       "    </tr>\n",
       "    <tr>\n",
       "      <th>2</th>\n",
       "      <td>2022-02-25</td>\n",
       "      <td>-989</td>\n",
       "    </tr>\n",
       "  </tbody>\n",
       "</table>\n",
       "</div>"
      ],
      "text/plain": [
       "    datetime   pnl\n",
       "7 2022-02-14  1292\n",
       "6 2022-02-16 -1189\n",
       "5 2022-02-17 -6643\n",
       "4 2022-02-18 -1631\n",
       "0 2022-02-22   213\n",
       "3 2022-02-23  -217\n",
       "1 2022-02-24 -2324\n",
       "2 2022-02-25  -989"
      ]
     },
     "execution_count": 102,
     "metadata": {},
     "output_type": "execute_result"
    }
   ],
   "source": [
    "df"
   ]
  },
  {
   "cell_type": "code",
   "execution_count": 103,
   "metadata": {
    "ExecuteTime": {
     "end_time": "2022-02-25T17:58:48.777831Z",
     "start_time": "2022-02-25T17:58:48.581056Z"
    }
   },
   "outputs": [
    {
     "name": "stderr",
     "output_type": "stream",
     "text": [
      "c:\\users\\kevin\\appdata\\local\\programs\\python\\python37\\lib\\site-packages\\pandas\\plotting\\_matplotlib\\converter.py:256: MatplotlibDeprecationWarning: \n",
      "The epoch2num function was deprecated in Matplotlib 3.3 and will be removed two minor releases later.\n",
      "  base = dates.epoch2num(dt.asi8 / 1.0e9)\n"
     ]
    },
    {
     "data": {
      "text/plain": [
       "<AxesSubplot:xlabel='datetime'>"
      ]
     },
     "execution_count": 103,
     "metadata": {},
     "output_type": "execute_result"
    },
    {
     "data": {
      "image/png": "[encoded data removed]",
      "text/plain": [
       "<Figure size 432x288 with 1 Axes>"
      ]
     },
     "metadata": {
      "needs_background": "light"
     },
     "output_type": "display_data"
    }
   ],
   "source": [
    "df.set_index('datetime').cumsum().plot()#[datetime(2022,1,1):].cumsum()#.plot()# [datetime(2022,1,1):]"
   ]
  }
 ],
 "metadata": {
  "hide_input": false,
  "kernelspec": {
   "display_name": "Python 3",
   "language": "python",
   "name": "python3"
  },
  "language_info": {
   "codemirror_mode": {
    "name": "ipython",
    "version": 3
   },
   "file_extension": ".py",
   "mimetype": "text/x-python",
   "name": "python",
   "nbconvert_exporter": "python",
   "pygments_lexer": "ipython3",
   "version": "3.7.8"
  },
  "nteract": {
   "version": "0.28.0"
  },
  "toc": {
   "base_numbering": 1,
   "nav_menu": {},
   "number_sections": true,
   "sideBar": true,
   "skip_h1_title": false,
   "title_cell": "Table of Contents",
   "title_sidebar": "Contents",
   "toc_cell": false,
   "toc_position": {},
   "toc_section_display": true,
   "toc_window_display": false
  },
  "varInspector": {
   "cols": {
    "lenName": 16,
    "lenType": 16,
    "lenVar": 40
   },
   "kernels_config": {
    "python": {
     "delete_cmd_postfix": "",
     "delete_cmd_prefix": "del ",
     "library": "var_list.py",
     "varRefreshCmd": "print(var_dic_list())"
    },
    "r": {
     "delete_cmd_postfix": ") ",
     "delete_cmd_prefix": "rm(",
     "library": "var_list.r",
     "varRefreshCmd": "cat(var_dic_list()) "
    }
   },
   "types_to_exclude": [
    "module",
    "function",
    "builtin_function_or_method",
    "instance",
    "_Feature"
   ],
   "window_display": false
  }
 },
 "nbformat": 4,
 "nbformat_minor": 4
}
