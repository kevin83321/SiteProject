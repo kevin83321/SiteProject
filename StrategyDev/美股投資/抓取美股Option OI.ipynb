{
 "cells": [
  {
   "cell_type": "markdown",
   "metadata": {
    "toc": true
   },
   "source": [
    "<h1>Table of Contents<span class=\"tocSkip\"></span></h1>\n",
    "<div class=\"toc\"><ul class=\"toc-item\"><li><span><a href=\"#Import-modules\" data-toc-modified-id=\"Import-modules-1\"><span class=\"toc-item-num\">1&nbsp;&nbsp;</span>Import modules</a></span></li><li><span><a href=\"#RequestFunc\" data-toc-modified-id=\"RequestFunc-2\"><span class=\"toc-item-num\">2&nbsp;&nbsp;</span>RequestFunc</a></span></li><li><span><a href=\"#Main\" data-toc-modified-id=\"Main-3\"><span class=\"toc-item-num\">3&nbsp;&nbsp;</span>Main</a></span></li></ul></div>"
   ]
  },
  {
   "cell_type": "markdown",
   "metadata": {},
   "source": [
    "# Import modules "
   ]
  },
  {
   "cell_type": "code",
   "execution_count": 1,
   "metadata": {
    "ExecuteTime": {
     "end_time": "2022-07-26T08:08:17.591952Z",
     "start_time": "2022-07-26T08:08:17.081563Z"
    }
   },
   "outputs": [],
   "source": [
    "import requests\n",
    "import pandas as pd\n",
    "from copy import deepcopy\n",
    "from datetime import datetime\n",
    "from time import sleep\n",
    "import os\n",
    "\n",
    "parent = os.path.dirname(os.path.abspath(\"__file__\"))\n",
    "output_path = os.path.join(parent, 'Opt_OI')\n",
    "if not os.path.isdir(output_path):\n",
    "    os.makedirs(output_path)"
   ]
  },
  {
   "cell_type": "markdown",
   "metadata": {},
   "source": [
    "# RequestFunc"
   ]
  },
  {
   "cell_type": "code",
   "execution_count": 2,
   "metadata": {
    "ExecuteTime": {
     "end_time": "2022-07-26T08:08:18.088138Z",
     "start_time": "2022-07-26T08:08:18.060139Z"
    },
    "code_folding": []
   },
   "outputs": [],
   "source": [
    "def GetOptionOI(ticker=\"QQQ\"):\n",
    "    \n",
    "    #=====================\n",
    "    # Read Update Data\n",
    "    #=====================\n",
    "    url = f\"https://cdn.cboe.com/api/global/delayed_quotes/options/{ticker.upper()}.json\"\n",
    "    res = requests.get(url)\n",
    "    data = res.json()\n",
    "    opts_ = data['data']['options']\n",
    "\n",
    "    #=====================\n",
    "    # Setup Output Path\n",
    "    #=====================\n",
    "    trade_date = pd.to_datetime(data['data']['last_trade_time']) # datetime.today()\n",
    "    output_ = os.path.join(output_path, str(trade_date.year), str(trade_date.month).zfill(2), str(trade_date.day).zfill(2))\n",
    "    if not os.path.isdir(output_):\n",
    "        os.makedirs(output_)\n",
    "    #------------------------\n",
    "    # Take Update Option Info\n",
    "    #------------------------\n",
    "    updated_datas = []\n",
    "    for opt in opts_:\n",
    "        opt_symbol = opt['option']\n",
    "        underlying = opt_symbol[:-15]\n",
    "        strike = int(opt_symbol[-8:]) / 1000\n",
    "        c_p = opt_symbol[-9:-8]\n",
    "        ttm = opt_symbol[-15:-9]\n",
    "#         print(underlying, ttm, c_p, strike)\n",
    "        opt.update({\n",
    "            'underlying':underlying,\n",
    "            'ttm':ttm,\n",
    "            'strike':strike,\n",
    "            'c_p':c_p\n",
    "        })\n",
    "        updated_datas.append(opt)\n",
    "\n",
    "    #========================\n",
    "    # Aggregate wit DataFrame\n",
    "    #========================\n",
    "    opt_df = pd.DataFrame(updated_datas)\n",
    "    outputRawOI(opt_df, output_, ticker)\n",
    "    nearby_df = opt_df[opt_df['ttm'].apply(lambda x: x[:4]) == opt_df['ttm'].apply(lambda x: x[:4]).unique()[0]]\n",
    "\n",
    "    #------------------------\n",
    "    # Seperate Call and Put\n",
    "    #------------------------\n",
    "    filted_ttm_g = {\"C\":[], \"P\":[]}\n",
    "    ttm_group = nearby_df.groupby('ttm')\n",
    "    for ttm in ttm_group.groups:\n",
    "        print(ttm)\n",
    "        ttm_g = ttm_group.get_group(ttm)\n",
    "        ttm_g = ttm_g['option,underlying,strike,ttm,c_p,open_interest'.split(',')]\n",
    "        for C_P in ttm_g.c_p.unique():\n",
    "            filted_ttm_g[C_P].append(ttm_g[ttm_g.c_p == C_P].set_index('strike'))\n",
    "\n",
    "    #-------------------------\n",
    "    # Create dataframe of call\n",
    "    #-------------------------\n",
    "    call_df = pd.DataFrame()\n",
    "    call_df.index.name = 'strike'\n",
    "    for c_df in filted_ttm_g[\"C\"]:\n",
    "        if call_df.empty:\n",
    "            call_df = c_df\n",
    "        else:\n",
    "            for row in c_df.itertuples():\n",
    "                try:\n",
    "                    call_df.loc[row.Index, 'open_interest'] += row.open_interest\n",
    "                except:\n",
    "                    tmp_row = dict(row._asdict())\n",
    "                    tmp_row['strike'] = tmp_row['Index']\n",
    "                    del tmp_row['Index']\n",
    "                    call_df = call_df.append(pd.DataFrame([tmp_row]).set_index('strike'))\n",
    "                    \n",
    "    #-------------------------\n",
    "    # Create dataframe of put\n",
    "    #-------------------------\n",
    "    put_df = pd.DataFrame()\n",
    "    put_df.index.name = 'strike'\n",
    "    for p_df in filted_ttm_g[\"P\"]:\n",
    "        if put_df.empty:\n",
    "            put_df = p_df\n",
    "        else:\n",
    "            for row in p_df.itertuples():\n",
    "                try:\n",
    "                    put_df.loc[row.Index, 'open_interest'] += row.open_interest\n",
    "                except:\n",
    "                    tmp_row = dict(row._asdict())\n",
    "                    tmp_row['strike'] = tmp_row['Index']\n",
    "                    del tmp_row['Index']\n",
    "                    put_df = put_df.append(pd.DataFrame([tmp_row]).set_index('strike'))\n",
    "    \n",
    "    #========================\n",
    "    # Save Today Info\n",
    "    #========================\n",
    "    tmp_call_df = call_df.sort_values('open_interest', ascending=False).head(10).reset_index()['strike,open_interest'.split(',')]\n",
    "    tmp_call_df['oi_diff'] = 0\n",
    "\n",
    "    tmp_put_df = put_df.sort_values('open_interest', ascending=False).head(10).reset_index()['strike,open_interest'.split(',')]\n",
    "    tmp_put_df['oi_diff'] = 0\n",
    "\n",
    "    \n",
    "    with pd.ExcelWriter(os.path.join(output_, f\"{ticker}_Option_OI.xlsx\")) as writer:\n",
    "        tmp_call_df.to_excel(writer, encoding='utf-8-sig', index=False, sheet_name=\"CALL\")\n",
    "        tmp_put_df.to_excel(writer, encoding='utf-8-sig', index=False, sheet_name=\"PUT\")\n",
    "        \n",
    "    sleep(3)"
   ]
  },
  {
   "cell_type": "code",
   "execution_count": 3,
   "metadata": {
    "ExecuteTime": {
     "end_time": "2022-07-26T08:08:19.177447Z",
     "start_time": "2022-07-26T08:08:19.161443Z"
    }
   },
   "outputs": [],
   "source": [
    "def outputRawOI(opt_df, output_, ticker):\n",
    "    with pd.ExcelWriter(os.path.join(output_, f\"{ticker}_Option_OI_raw.xlsx\")) as writer:\n",
    "        ttms = sorted(opt_df.ttm.unique())\n",
    "        for ttm in ttms:\n",
    "            ttm_df = opt_df[opt_df.ttm == ttm]\n",
    "            tmp_df_c = ttm_df[ttm_df.c_p == \"C\"]\n",
    "            tmp_df_p = ttm_df[ttm_df.c_p == \"P\"]\n",
    "    \n",
    "            tmp_df_c.to_excel(writer, encoding='utf-8-sig', index=False, sheet_name=ttm)\n",
    "            tmp_df_p.to_excel(writer, encoding='utf-8-sig', index=False, sheet_name=ttm, startcol = 29)"
   ]
  },
  {
   "cell_type": "markdown",
   "metadata": {},
   "source": [
    "# Main"
   ]
  },
  {
   "cell_type": "code",
   "execution_count": 4,
   "metadata": {
    "ExecuteTime": {
     "end_time": "2022-07-26T08:10:17.813193Z",
     "start_time": "2022-07-26T08:08:21.220359Z"
    },
    "scrolled": true
   },
   "outputs": [
    {
     "name": "stdout",
     "output_type": "stream",
     "text": [
      "220725\n",
      "220727\n",
      "220729\n",
      "220725\n",
      "220727\n",
      "220729\n",
      "220725\n",
      "220727\n",
      "220729\n",
      "220729\n",
      "220729\n",
      "220729\n",
      "220729\n",
      "HNHPF Failed\n",
      "220819\n",
      "220819\n",
      "220729\n",
      "220819\n",
      "GIGM Failed\n",
      "220819\n",
      "220819\n",
      "LEDS Failed\n",
      "APWC Failed\n",
      "220819\n",
      "220729\n",
      "220729\n",
      "220729\n",
      "220729\n"
     ]
    }
   ],
   "source": [
    "for ticker in 'QQQ,TQQQ,ARKK,SMH'.split(','): # used to follow NASDAQ\n",
    "    GetOptionOI(ticker)\n",
    "    break\n",
    "\n",
    "for ticker in 'SPY,IWM'.split(','): # used to follow SPY\n",
    "    GetOptionOI(ticker)\n",
    "    \n",
    "for ticker in 'TSLA,BITO,COIN'.split(','): # used to follow TLSA\n",
    "    GetOptionOI(ticker)\n",
    "    \n",
    "for ticker in 'TSM,HNHPF,ASX,SIMO,HIMX,UMC,GIGM,CHT,IMOS,LEDS,APWC,GRMN'.split(','): # used to follow Taiwan Stock ADR\n",
    "    try:\n",
    "        GetOptionOI(ticker)    \n",
    "    except:\n",
    "        print(ticker, \"Failed\")\n",
    "\n",
    "for ticker in 'BABA,JD,BIDU'.split(','): # used to follow BABA\n",
    "    try:\n",
    "        GetOptionOI(ticker)    \n",
    "    except:\n",
    "        print(ticker, \"Failed\")\n",
    "\n",
    "for ticker in 'GLD'.split(','): # used to follow XAUUSD 黃金現貨\n",
    "    try:\n",
    "        GetOptionOI(ticker)    \n",
    "    except:\n",
    "        print(ticker, \"Failed\")\n"
   ]
  }
 ],
 "metadata": {
  "hide_input": false,
  "kernelspec": {
   "display_name": "Python 3",
   "language": "python",
   "name": "python3"
  },
  "language_info": {
   "codemirror_mode": {
    "name": "ipython",
    "version": 3
   },
   "file_extension": ".py",
   "mimetype": "text/x-python",
   "name": "python",
   "nbconvert_exporter": "python",
   "pygments_lexer": "ipython3",
   "version": "3.7.8"
  },
  "toc": {
   "base_numbering": 1,
   "nav_menu": {},
   "number_sections": true,
   "sideBar": true,
   "skip_h1_title": false,
   "title_cell": "Table of Contents",
   "title_sidebar": "Contents",
   "toc_cell": true,
   "toc_position": {},
   "toc_section_display": true,
   "toc_window_display": false
  },
  "varInspector": {
   "cols": {
    "lenName": 16,
    "lenType": 16,
    "lenVar": 40
   },
   "kernels_config": {
    "python": {
     "delete_cmd_postfix": "",
     "delete_cmd_prefix": "del ",
     "library": "var_list.py",
     "varRefreshCmd": "print(var_dic_list())"
    },
    "r": {
     "delete_cmd_postfix": ") ",
     "delete_cmd_prefix": "rm(",
     "library": "var_list.r",
     "varRefreshCmd": "cat(var_dic_list()) "
    }
   },
   "types_to_exclude": [
    "module",
    "function",
    "builtin_function_or_method",
    "instance",
    "_Feature"
   ],
   "window_display": false
  }
 },
 "nbformat": 4,
 "nbformat_minor": 2
}
