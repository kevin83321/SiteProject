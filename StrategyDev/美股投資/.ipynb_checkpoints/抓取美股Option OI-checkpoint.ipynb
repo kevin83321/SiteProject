{
 "cells": [
  {
   "cell_type": "markdown",
   "metadata": {
    "toc": true
   },
   "source": [
    "<h1>Table of Contents<span class=\"tocSkip\"></span></h1>\n",
    "<div class=\"toc\"><ul class=\"toc-item\"><li><span><a href=\"#Import-modules\" data-toc-modified-id=\"Import-modules-1\"><span class=\"toc-item-num\">1&nbsp;&nbsp;</span>Import modules</a></span></li><li><span><a href=\"#RequestFunc\" data-toc-modified-id=\"RequestFunc-2\"><span class=\"toc-item-num\">2&nbsp;&nbsp;</span>RequestFunc</a></span></li><li><span><a href=\"#Plot-Table\" data-toc-modified-id=\"Plot-Table-3\"><span class=\"toc-item-num\">3&nbsp;&nbsp;</span>Plot Table</a></span></li><li><span><a href=\"#Main\" data-toc-modified-id=\"Main-4\"><span class=\"toc-item-num\">4&nbsp;&nbsp;</span>Main</a></span></li></ul></div>"
   ]
  },
  {
   "cell_type": "markdown",
   "metadata": {},
   "source": [
    "# Import modules "
   ]
  },
  {
   "cell_type": "code",
   "execution_count": 22,
   "metadata": {
    "ExecuteTime": {
     "end_time": "2022-07-27T13:24:17.517545Z",
     "start_time": "2022-07-27T13:24:17.499550Z"
    }
   },
   "outputs": [],
   "source": [
    "import requests\n",
    "import pandas as pd\n",
    "from copy import deepcopy\n",
    "from datetime import datetime, timedelta\n",
    "from time import sleep\n",
    "import os\n",
    "\n",
    "parent = os.path.dirname(os.path.abspath(\"__file__\"))\n",
    "output_path = os.path.join(parent, 'Opt_OI')\n",
    "if not os.path.isdir(output_path):\n",
    "    os.makedirs(output_path)"
   ]
  },
  {
   "cell_type": "markdown",
   "metadata": {},
   "source": [
    "# RequestFunc"
   ]
  },
  {
   "cell_type": "code",
   "execution_count": 209,
   "metadata": {
    "ExecuteTime": {
     "end_time": "2022-07-28T11:46:40.715877Z",
     "start_time": "2022-07-28T11:46:40.698881Z"
    },
    "code_folding": []
   },
   "outputs": [],
   "source": [
    "def GetOptionOI(ticker=\"QQQ\"):\n",
    "    \n",
    "    #=====================\n",
    "    # Read Update Data\n",
    "    #=====================\n",
    "    try:\n",
    "        url = f\"https://cdn.cboe.com/api/global/delayed_quotes/options/{ticker.upper()}.json\"\n",
    "        res = requests.get(url)\n",
    "        data = res.json()\n",
    "    except:\n",
    "        url = f\"https://cdn.cboe.com/api/global/delayed_quotes/options/_{ticker.upper()}.json\"\n",
    "        res = requests.get(url)\n",
    "        data = res.json()\n",
    "    opts_ = data['data']['options']\n",
    "\n",
    "    #=====================\n",
    "    # Setup Output Path\n",
    "    #=====================\n",
    "    trade_date = pd.to_datetime(data['data']['last_trade_time']) # datetime.today()\n",
    "    print(f\"====== {trade_date} ======\")\n",
    "    output_ = os.path.join(output_path, str(trade_date.year), str(trade_date.month).zfill(2), str(trade_date.day).zfill(2))\n",
    "    if not os.path.isdir(output_):\n",
    "        os.makedirs(output_)\n",
    "    #------------------------\n",
    "    # Take Update Option Info\n",
    "    #------------------------\n",
    "    updated_datas = []\n",
    "    for opt in opts_:\n",
    "        opt_symbol = opt['option']\n",
    "        underlying = opt_symbol[:-15]\n",
    "        strike = int(opt_symbol[-8:]) / 1000\n",
    "        c_p = opt_symbol[-9:-8]\n",
    "        ttm = opt_symbol[-15:-9]\n",
    "#         print(underlying, ttm, c_p, strike)\n",
    "        opt.update({\n",
    "            'underlying':underlying,\n",
    "            'ttm':ttm,\n",
    "            'strike':strike,\n",
    "            'c_p':c_p\n",
    "        })\n",
    "        updated_datas.append(opt)\n",
    "\n",
    "    #========================\n",
    "    # Aggregate wit DataFrame\n",
    "    #========================\n",
    "    opt_df = pd.DataFrame(updated_datas)\n",
    "    outputRawOI(opt_df, output_, ticker)\n",
    "    nearby_df = opt_df[opt_df['ttm'].apply(lambda x: x[:4]) == opt_df['ttm'].apply(lambda x: x[:4]).unique()[0]]\n",
    "\n",
    "    #------------------------\n",
    "    # Seperate Call and Put\n",
    "    #------------------------\n",
    "#     filted_ttm_g = {\"C\":[], \"P\":[]}\n",
    "#     ttm_group = nearby_df.groupby('ttm')\n",
    "#     for ttm in ttm_group.groups:\n",
    "#         print(ttm)\n",
    "#         ttm_g = ttm_group.get_group(ttm)\n",
    "#         ttm_g = ttm_g['option,underlying,strike,ttm,c_p,open_interest'.split(',')]\n",
    "#         for C_P in ttm_g.c_p.unique():\n",
    "#             filted_ttm_g[C_P].append(ttm_g[ttm_g.c_p == C_P].set_index('strike'))\n",
    "\n",
    "#     #-------------------------\n",
    "#     # Create dataframe of call\n",
    "#     #-------------------------\n",
    "#     call_df = pd.DataFrame()\n",
    "#     call_df.index.name = 'strike'\n",
    "#     for c_df in filted_ttm_g[\"C\"]:\n",
    "#         if call_df.empty:\n",
    "#             call_df = c_df\n",
    "#         else:\n",
    "#             for row in c_df.itertuples():\n",
    "#                 try:\n",
    "#                     call_df.loc[row.Index, 'open_interest'] += row.open_interest\n",
    "#                 except:\n",
    "#                     tmp_row = dict(row._asdict())\n",
    "#                     tmp_row['strike'] = tmp_row['Index']\n",
    "#                     del tmp_row['Index']\n",
    "#                     call_df = call_df.append(pd.DataFrame([tmp_row]).set_index('strike'))\n",
    "                    \n",
    "#     #-------------------------\n",
    "#     # Create dataframe of put\n",
    "#     #-------------------------\n",
    "#     put_df = pd.DataFrame()\n",
    "#     put_df.index.name = 'strike'\n",
    "#     for p_df in filted_ttm_g[\"P\"]:\n",
    "#         if put_df.empty:\n",
    "#             put_df = p_df\n",
    "#         else:\n",
    "#             for row in p_df.itertuples():\n",
    "#                 try:\n",
    "#                     put_df.loc[row.Index, 'open_interest'] += row.open_interest\n",
    "#                 except:\n",
    "#                     tmp_row = dict(row._asdict())\n",
    "#                     tmp_row['strike'] = tmp_row['Index']\n",
    "#                     del tmp_row['Index']\n",
    "#                     put_df = put_df.append(pd.DataFrame([tmp_row]).set_index('strike'))\n",
    "    \n",
    "#     #========================\n",
    "#     # Save Today Info\n",
    "#     #========================\n",
    "#     tmp_call_df = call_df.sort_values('open_interest', ascending=False).reset_index()['strike,open_interest'.split(',')]\n",
    "#     tmp_call_df['oi_diff'] = 0\n",
    "\n",
    "#     tmp_put_df = put_df.sort_values('open_interest', ascending=False).reset_index()['strike,open_interest'.split(',')]\n",
    "#     tmp_put_df['oi_diff'] = 0\n",
    "\n",
    "    \n",
    "#     with pd.ExcelWriter(os.path.join(output_, f\"{ticker}_Option_OI.xlsx\")) as writer:\n",
    "#         tmp_call_df.to_excel(writer, encoding='utf-8-sig', index=False, sheet_name=\"CALL\")\n",
    "#         tmp_put_df.to_excel(writer, encoding='utf-8-sig', index=False, sheet_name=\"PUT\")\n",
    "        \n",
    "    sleep(3)"
   ]
  },
  {
   "cell_type": "code",
   "execution_count": 195,
   "metadata": {
    "ExecuteTime": {
     "end_time": "2022-07-28T07:33:11.120397Z",
     "start_time": "2022-07-28T07:33:11.098598Z"
    },
    "code_folding": [
     0,
     11
    ]
   },
   "outputs": [],
   "source": [
    "def outputRawOI(opt_df, output_, ticker):\n",
    "    with pd.ExcelWriter(os.path.join(output_, f\"{ticker}_Option_OI_raw.xlsx\")) as writer:\n",
    "        ttms = sorted(opt_df.ttm.unique())\n",
    "        for ttm in ttms:\n",
    "            ttm_df = opt_df[opt_df.ttm == ttm]\n",
    "            tmp_df_c = ttm_df[ttm_df.c_p == \"C\"]\n",
    "            tmp_df_p = ttm_df[ttm_df.c_p == \"P\"]\n",
    "    \n",
    "            tmp_df_c.to_excel(writer, encoding='utf-8-sig', index=False, sheet_name=ttm)\n",
    "            tmp_df_p.to_excel(writer, encoding='utf-8-sig', index=False, sheet_name=ttm, startcol = 29)\n",
    "            \n",
    "def GetLastTwoPath(ticker='QQQ', td=datetime.today()):\n",
    "    i = -1\n",
    "    update_f_path = None\n",
    "    last_f_path = None\n",
    "    last_date = update_date = None\n",
    "    print(td)\n",
    "    while 1:\n",
    "        last_day = td + timedelta(i)\n",
    "        \n",
    "        print(last_day)\n",
    "        i-=1\n",
    "        output_ = os.path.join(output_path, str(last_day.year), str(last_day.month).zfill(2), str(last_day.day).zfill(2))\n",
    "        f_path = os.path.join(output_, f\"{ticker}_Option_OI_raw.xlsx\")\n",
    "        if not update_f_path:\n",
    "            if os.path.isfile(f_path):\n",
    "                update_f_path = f_path\n",
    "                update_date = last_day\n",
    "        elif not last_f_path:\n",
    "            if os.path.isfile(f_path):\n",
    "                last_f_path = f_path\n",
    "                last_date = last_day\n",
    "        if update_f_path and last_f_path:\n",
    "            break\n",
    "    \n",
    "    return last_f_path, last_date, update_f_path, update_date\n",
    "\n",
    "# def ReadRawOI(ticker='QQQ'):\n",
    "#     last_f_path, update_f_path = GetLastTwoPath(ticker)\n",
    "#     xl_last = pd.ExcelFile(last_f_path)\n",
    "#     xl_update = pd.ExcelFile(update_f_path)"
   ]
  },
  {
   "cell_type": "code",
   "execution_count": 211,
   "metadata": {
    "ExecuteTime": {
     "end_time": "2022-07-28T12:02:46.369643Z",
     "start_time": "2022-07-28T12:02:37.113872Z"
    }
   },
   "outputs": [
    {
     "name": "stdout",
     "output_type": "stream",
     "text": [
      "2022-07-28 15:33:11.108590\n",
      "2022-07-27 15:33:11.108590\n",
      "2022-07-26 15:33:11.108590\n"
     ]
    }
   ],
   "source": [
    "last_f_path, last_date, update_f_path, update_date = GetLastTwoPath(\"QQQ\")\n",
    "xl_last = pd.read_excel(last_f_path, None, engine='openpyxl')\n",
    "xl_update = pd.read_excel(update_f_path, None, engine='openpyxl')"
   ]
  },
  {
   "cell_type": "code",
   "execution_count": 212,
   "metadata": {
    "ExecuteTime": {
     "end_time": "2022-07-28T12:02:52.986276Z",
     "start_time": "2022-07-28T12:02:52.978274Z"
    }
   },
   "outputs": [
    {
     "data": {
      "text/plain": [
       "(datetime.datetime(2022, 7, 26, 15, 33, 11, 108590),\n",
       " datetime.datetime(2022, 7, 27, 15, 33, 11, 108590))"
      ]
     },
     "execution_count": 212,
     "metadata": {},
     "output_type": "execute_result"
    }
   ],
   "source": [
    "last_date, update_date"
   ]
  },
  {
   "cell_type": "code",
   "execution_count": 213,
   "metadata": {
    "ExecuteTime": {
     "end_time": "2022-07-28T12:02:56.088162Z",
     "start_time": "2022-07-28T12:02:56.072158Z"
    }
   },
   "outputs": [],
   "source": [
    "last_ttms = sorted(set([x[:4] for x in xl_last.keys()]))\n",
    "update_ttms = sorted(set([x[:4] for x in xl_update.keys()]))\n",
    "\n",
    "last_near_ttms = [x for x in xl_last.keys() if x[:4] == last_ttms[0]]\n",
    "update_near_ttms = [x for x in xl_update.keys() if x[:4] == update_ttms[0]]\n",
    "\n",
    "last_near2_ttms = [x for x in xl_last.keys() if x[:4] == last_ttms[1]]\n",
    "update_near2_ttms = [x for x in xl_update.keys() if x[:4] == update_ttms[1]]"
   ]
  },
  {
   "cell_type": "code",
   "execution_count": 214,
   "metadata": {
    "ExecuteTime": {
     "end_time": "2022-07-28T12:03:00.890239Z",
     "start_time": "2022-07-28T12:03:00.885238Z"
    }
   },
   "outputs": [
    {
     "data": {
      "text/plain": [
       "(['220727', '220729'], ['220727', '220729'])"
      ]
     },
     "execution_count": 214,
     "metadata": {},
     "output_type": "execute_result"
    }
   ],
   "source": [
    "last_near_ttms, update_near_ttms"
   ]
  },
  {
   "cell_type": "code",
   "execution_count": 215,
   "metadata": {
    "ExecuteTime": {
     "end_time": "2022-07-28T12:03:03.657357Z",
     "start_time": "2022-07-28T12:03:03.644361Z"
    }
   },
   "outputs": [
    {
     "data": {
      "text/plain": [
       "(['220801',\n",
       "  '220803',\n",
       "  '220805',\n",
       "  '220808',\n",
       "  '220810',\n",
       "  '220812',\n",
       "  '220815',\n",
       "  '220817',\n",
       "  '220819',\n",
       "  '220822',\n",
       "  '220824',\n",
       "  '220826',\n",
       "  '220829',\n",
       "  '220831'],\n",
       " ['220801',\n",
       "  '220803',\n",
       "  '220805',\n",
       "  '220808',\n",
       "  '220810',\n",
       "  '220812',\n",
       "  '220815',\n",
       "  '220817',\n",
       "  '220819',\n",
       "  '220822',\n",
       "  '220824',\n",
       "  '220826',\n",
       "  '220829',\n",
       "  '220831'])"
      ]
     },
     "execution_count": 215,
     "metadata": {},
     "output_type": "execute_result"
    }
   ],
   "source": [
    "last_near2_ttms, update_near2_ttms"
   ]
  },
  {
   "cell_type": "code",
   "execution_count": 71,
   "metadata": {
    "ExecuteTime": {
     "end_time": "2022-07-27T13:52:10.379828Z",
     "start_time": "2022-07-27T13:52:10.354833Z"
    },
    "code_folding": [
     0
    ]
   },
   "outputs": [],
   "source": [
    "def AggregateDF(xl, ttms):\n",
    "\n",
    "    # aggregate last\n",
    "    call_df = pd.DataFrame()\n",
    "    call_df.index.name = 'strike'\n",
    "\n",
    "    put_df = pd.DataFrame()\n",
    "    put_df.index.name = 'strike'\n",
    "    for ttm in ttms:\n",
    "        tmp_df = xl[ttm]\n",
    "        tmp_call_df = tmp_df['open_interest,underlying,ttm,strike,c_p'.split(',')].set_index(\"strike\")\n",
    "        tmp_put_df = tmp_df['open_interest.1,underlying.1,ttm.1,strike.1,c_p.1'.split(',')]\n",
    "        tmp_put_df.columns = 'open_interest,underlying,ttm,strike,c_p'.split(',')\n",
    "        tmp_put_df = tmp_put_df.set_index('strike')\n",
    "\n",
    "        if call_df.empty:\n",
    "            call_df = tmp_call_df\n",
    "        else:\n",
    "            for row in tmp_call_df.itertuples():\n",
    "                try:\n",
    "                    call_df.loc[row.Index, 'open_interest'] += row.open_interest\n",
    "                except:\n",
    "                    tmp_row = dict(row._asdict())\n",
    "                    tmp_row['strike'] = tmp_row['Index']\n",
    "                    del tmp_row['Index']\n",
    "                    call_df = call_df.append(pd.DataFrame([tmp_row]).set_index('strike'))\n",
    "\n",
    "        if put_df.empty:\n",
    "            put_df = tmp_put_df\n",
    "        else:\n",
    "            for row in tmp_put_df.itertuples():\n",
    "                try:\n",
    "                    put_df.loc[row.Index, 'open_interest'] += row.open_interest\n",
    "                except:\n",
    "                    tmp_row = dict(row._asdict())\n",
    "                    tmp_row['strike'] = tmp_row['Index']\n",
    "                    del tmp_row['Index']\n",
    "                    put_df = put_df.append(pd.DataFrame([tmp_row]).set_index('strike'))\n",
    "\n",
    "    call_df = call_df.sort_values(\"open_interest\", ascending=False)\n",
    "    put_df = put_df.sort_values(\"open_interest\", ascending=False)\n",
    "    \n",
    "    print(call_df.head(10))\n",
    "    print(put_df.head(10))\n",
    "    print(call_df.open_interest.sum(), put_df.open_interest.sum())\n",
    "    \n",
    "    return call_df, put_df"
   ]
  },
  {
   "cell_type": "code",
   "execution_count": 216,
   "metadata": {
    "ExecuteTime": {
     "end_time": "2022-07-28T12:03:07.133855Z",
     "start_time": "2022-07-28T12:03:06.753857Z"
    }
   },
   "outputs": [
    {
     "name": "stdout",
     "output_type": "stream",
     "text": [
      "        open_interest underlying     ttm c_p\n",
      "strike                                      \n",
      "305.0           43956        QQQ  220727   C\n",
      "300.0           39473        QQQ  220727   C\n",
      "310.0           33555        QQQ  220727   C\n",
      "315.0           28506        QQQ  220727   C\n",
      "295.0           24567        QQQ  220727   C\n",
      "290.0           24498        QQQ  220727   C\n",
      "297.0           19471        QQQ  220727   C\n",
      "302.0           14271        QQQ  220727   C\n",
      "320.0           13931        QQQ  220727   C\n",
      "307.0           13052        QQQ  220727   C\n",
      "        open_interest underlying     ttm c_p\n",
      "strike                                      \n",
      "290.0           40214        QQQ  220727   P\n",
      "285.0           39492        QQQ  220727   P\n",
      "270.0           33386        QQQ  220727   P\n",
      "280.0           27777        QQQ  220727   P\n",
      "295.0           26406        QQQ  220727   P\n",
      "255.0           24994        QQQ  220727   P\n",
      "300.0           22286        QQQ  220727   P\n",
      "275.0           21945        QQQ  220727   P\n",
      "250.0           20860        QQQ  220727   P\n",
      "240.0           20077        QQQ  220727   P\n",
      "461208 605347\n"
     ]
    }
   ],
   "source": [
    "last_call, last_put = AggregateDF(xl_last, last_near_ttms)"
   ]
  },
  {
   "cell_type": "code",
   "execution_count": 217,
   "metadata": {
    "ExecuteTime": {
     "end_time": "2022-07-28T12:03:10.436028Z",
     "start_time": "2022-07-28T12:03:10.072026Z"
    }
   },
   "outputs": [
    {
     "name": "stdout",
     "output_type": "stream",
     "text": [
      "        open_interest underlying     ttm c_p\n",
      "strike                                      \n",
      "300.0           37422        QQQ  220727   C\n",
      "305.0           35457        QQQ  220727   C\n",
      "310.0           32091        QQQ  220727   C\n",
      "315.0           27236        QQQ  220727   C\n",
      "290.0           24123        QQQ  220727   C\n",
      "295.0           23441        QQQ  220727   C\n",
      "297.0           19487        QQQ  220727   C\n",
      "320.0           14054        QQQ  220727   C\n",
      "311.0           11182        QQQ  220727   C\n",
      "302.0           11137        QQQ  220727   C\n",
      "        open_interest underlying     ttm c_p\n",
      "strike                                      \n",
      "300.0           45099        QQQ  220727   P\n",
      "285.0           40698        QQQ  220727   P\n",
      "290.0           38037        QQQ  220727   P\n",
      "295.0           37872        QQQ  220727   P\n",
      "270.0           33541        QQQ  220727   P\n",
      "280.0           27023        QQQ  220727   P\n",
      "255.0           25009        QQQ  220727   P\n",
      "250.0           20858        QQQ  220727   P\n",
      "240.0           20076        QQQ  220727   P\n",
      "305.0           19476        QQQ  220727   P\n",
      "451464 693972\n"
     ]
    }
   ],
   "source": [
    "update_call, update_put = AggregateDF(xl_update, update_near_ttms)"
   ]
  },
  {
   "cell_type": "code",
   "execution_count": 218,
   "metadata": {
    "ExecuteTime": {
     "end_time": "2022-07-28T12:03:20.359518Z",
     "start_time": "2022-07-28T12:03:20.347526Z"
    }
   },
   "outputs": [],
   "source": [
    "update_call['diff'] = update_call['open_interest'] - last_call['open_interest']\n",
    "update_put['diff'] = update_put['open_interest'] - last_put['open_interest']"
   ]
  },
  {
   "cell_type": "code",
   "execution_count": 219,
   "metadata": {
    "ExecuteTime": {
     "end_time": "2022-07-28T12:03:23.063608Z",
     "start_time": "2022-07-28T12:03:23.051609Z"
    }
   },
   "outputs": [
    {
     "data": {
      "text/plain": [
       "(-9744, 88625)"
      ]
     },
     "execution_count": 219,
     "metadata": {},
     "output_type": "execute_result"
    }
   ],
   "source": [
    "update_call['diff'].sum(), update_put['diff'].sum()"
   ]
  },
  {
   "cell_type": "code",
   "execution_count": 220,
   "metadata": {
    "ExecuteTime": {
     "end_time": "2022-07-28T12:03:26.794918Z",
     "start_time": "2022-07-28T12:03:26.767929Z"
    }
   },
   "outputs": [
    {
     "data": {
      "text/html": [
       "<div>\n",
       "<style scoped>\n",
       "    .dataframe tbody tr th:only-of-type {\n",
       "        vertical-align: middle;\n",
       "    }\n",
       "\n",
       "    .dataframe tbody tr th {\n",
       "        vertical-align: top;\n",
       "    }\n",
       "\n",
       "    .dataframe thead th {\n",
       "        text-align: right;\n",
       "    }\n",
       "</style>\n",
       "<table border=\"1\" class=\"dataframe\">\n",
       "  <thead>\n",
       "    <tr style=\"text-align: right;\">\n",
       "      <th></th>\n",
       "      <th>open_interest</th>\n",
       "      <th>underlying</th>\n",
       "      <th>ttm</th>\n",
       "      <th>c_p</th>\n",
       "      <th>diff</th>\n",
       "    </tr>\n",
       "    <tr>\n",
       "      <th>strike</th>\n",
       "      <th></th>\n",
       "      <th></th>\n",
       "      <th></th>\n",
       "      <th></th>\n",
       "      <th></th>\n",
       "    </tr>\n",
       "  </thead>\n",
       "  <tbody>\n",
       "    <tr>\n",
       "      <th>300.0</th>\n",
       "      <td>37422</td>\n",
       "      <td>QQQ</td>\n",
       "      <td>220727</td>\n",
       "      <td>C</td>\n",
       "      <td>-2051</td>\n",
       "    </tr>\n",
       "    <tr>\n",
       "      <th>305.0</th>\n",
       "      <td>35457</td>\n",
       "      <td>QQQ</td>\n",
       "      <td>220727</td>\n",
       "      <td>C</td>\n",
       "      <td>-8499</td>\n",
       "    </tr>\n",
       "    <tr>\n",
       "      <th>310.0</th>\n",
       "      <td>32091</td>\n",
       "      <td>QQQ</td>\n",
       "      <td>220727</td>\n",
       "      <td>C</td>\n",
       "      <td>-1464</td>\n",
       "    </tr>\n",
       "    <tr>\n",
       "      <th>315.0</th>\n",
       "      <td>27236</td>\n",
       "      <td>QQQ</td>\n",
       "      <td>220727</td>\n",
       "      <td>C</td>\n",
       "      <td>-1270</td>\n",
       "    </tr>\n",
       "    <tr>\n",
       "      <th>290.0</th>\n",
       "      <td>24123</td>\n",
       "      <td>QQQ</td>\n",
       "      <td>220727</td>\n",
       "      <td>C</td>\n",
       "      <td>-375</td>\n",
       "    </tr>\n",
       "    <tr>\n",
       "      <th>...</th>\n",
       "      <td>...</td>\n",
       "      <td>...</td>\n",
       "      <td>...</td>\n",
       "      <td>...</td>\n",
       "      <td>...</td>\n",
       "    </tr>\n",
       "    <tr>\n",
       "      <th>242.0</th>\n",
       "      <td>0</td>\n",
       "      <td>QQQ</td>\n",
       "      <td>220727</td>\n",
       "      <td>C</td>\n",
       "      <td>0</td>\n",
       "    </tr>\n",
       "    <tr>\n",
       "      <th>235.0</th>\n",
       "      <td>0</td>\n",
       "      <td>QQQ</td>\n",
       "      <td>220727</td>\n",
       "      <td>C</td>\n",
       "      <td>0</td>\n",
       "    </tr>\n",
       "    <tr>\n",
       "      <th>236.0</th>\n",
       "      <td>0</td>\n",
       "      <td>QQQ</td>\n",
       "      <td>220727</td>\n",
       "      <td>C</td>\n",
       "      <td>0</td>\n",
       "    </tr>\n",
       "    <tr>\n",
       "      <th>237.0</th>\n",
       "      <td>0</td>\n",
       "      <td>QQQ</td>\n",
       "      <td>220727</td>\n",
       "      <td>C</td>\n",
       "      <td>0</td>\n",
       "    </tr>\n",
       "    <tr>\n",
       "      <th>238.0</th>\n",
       "      <td>0</td>\n",
       "      <td>QQQ</td>\n",
       "      <td>220727</td>\n",
       "      <td>C</td>\n",
       "      <td>0</td>\n",
       "    </tr>\n",
       "  </tbody>\n",
       "</table>\n",
       "<p>154 rows × 5 columns</p>\n",
       "</div>"
      ],
      "text/plain": [
       "        open_interest underlying     ttm c_p  diff\n",
       "strike                                            \n",
       "300.0           37422        QQQ  220727   C -2051\n",
       "305.0           35457        QQQ  220727   C -8499\n",
       "310.0           32091        QQQ  220727   C -1464\n",
       "315.0           27236        QQQ  220727   C -1270\n",
       "290.0           24123        QQQ  220727   C  -375\n",
       "...               ...        ...     ...  ..   ...\n",
       "242.0               0        QQQ  220727   C     0\n",
       "235.0               0        QQQ  220727   C     0\n",
       "236.0               0        QQQ  220727   C     0\n",
       "237.0               0        QQQ  220727   C     0\n",
       "238.0               0        QQQ  220727   C     0\n",
       "\n",
       "[154 rows x 5 columns]"
      ]
     },
     "execution_count": 220,
     "metadata": {},
     "output_type": "execute_result"
    }
   ],
   "source": [
    "update_call"
   ]
  },
  {
   "cell_type": "code",
   "execution_count": 221,
   "metadata": {
    "ExecuteTime": {
     "end_time": "2022-07-28T12:03:34.930048Z",
     "start_time": "2022-07-28T12:03:33.064716Z"
    }
   },
   "outputs": [
    {
     "name": "stdout",
     "output_type": "stream",
     "text": [
      "        open_interest underlying     ttm c_p\n",
      "strike                                      \n",
      "300.0          121102        QQQ  220801   C\n",
      "305.0          109198        QQQ  220801   C\n",
      "310.0          101737        QQQ  220801   C\n",
      "320.0           69482        QQQ  220801   C\n",
      "315.0           61999        QQQ  220801   C\n",
      "326.0           38777        QQQ  220801   C\n",
      "295.0           38626        QQQ  220801   C\n",
      "325.0           36384        QQQ  220801   C\n",
      "290.0           34929        QQQ  220801   C\n",
      "330.0           34759        QQQ  220801   C\n",
      "        open_interest underlying     ttm c_p\n",
      "strike                                      \n",
      "280.0          139631        QQQ  220801   P\n",
      "290.0          116055        QQQ  220801   P\n",
      "285.0          110603        QQQ  220801   P\n",
      "300.0           81984        QQQ  220801   P\n",
      "270.0           76122        QQQ  220801   P\n",
      "250.0           75032        QQQ  220801   P\n",
      "260.0           70816        QQQ  220801   P\n",
      "210.0           68382        QQQ  220801   P\n",
      "305.0           65674        QQQ  220801   P\n",
      "265.0           50048        QQQ  220801   P\n",
      "1143341 1599648\n"
     ]
    }
   ],
   "source": [
    "last_call2, last_put2 = AggregateDF(xl_last, last_near2_ttms)"
   ]
  },
  {
   "cell_type": "code",
   "execution_count": 222,
   "metadata": {
    "ExecuteTime": {
     "end_time": "2022-07-28T12:03:39.566048Z",
     "start_time": "2022-07-28T12:03:37.691161Z"
    }
   },
   "outputs": [
    {
     "name": "stdout",
     "output_type": "stream",
     "text": [
      "        open_interest underlying     ttm c_p\n",
      "strike                                      \n",
      "300.0          113549        QQQ  220801   C\n",
      "305.0          108079        QQQ  220801   C\n",
      "310.0           97631        QQQ  220801   C\n",
      "315.0           73373        QQQ  220801   C\n",
      "320.0           55029        QQQ  220801   C\n",
      "326.0           45606        QQQ  220801   C\n",
      "295.0           38084        QQQ  220801   C\n",
      "325.0           37290        QQQ  220801   C\n",
      "330.0           35052        QQQ  220801   C\n",
      "290.0           34768        QQQ  220801   C\n",
      "        open_interest underlying     ttm c_p\n",
      "strike                                      \n",
      "280.0          162291        QQQ  220801   P\n",
      "290.0          138317        QQQ  220801   P\n",
      "285.0          120750        QQQ  220801   P\n",
      "300.0           99299        QQQ  220801   P\n",
      "270.0           87049        QQQ  220801   P\n",
      "250.0           74938        QQQ  220801   P\n",
      "260.0           70902        QQQ  220801   P\n",
      "210.0           68469        QQQ  220801   P\n",
      "305.0           67693        QQQ  220801   P\n",
      "265.0           50409        QQQ  220801   P\n",
      "1172626 1739359\n"
     ]
    }
   ],
   "source": [
    "update_call2, update_put2 = AggregateDF(xl_update, update_near2_ttms)"
   ]
  },
  {
   "cell_type": "code",
   "execution_count": 223,
   "metadata": {
    "ExecuteTime": {
     "end_time": "2022-07-28T12:03:42.279828Z",
     "start_time": "2022-07-28T12:03:42.265828Z"
    }
   },
   "outputs": [],
   "source": [
    "update_call2['diff'] = update_call2['open_interest'] - last_call2['open_interest']\n",
    "update_put2['diff'] = update_put2['open_interest'] - last_put2['open_interest']"
   ]
  },
  {
   "cell_type": "markdown",
   "metadata": {},
   "source": [
    "# Plot Table"
   ]
  },
  {
   "cell_type": "code",
   "execution_count": 94,
   "metadata": {
    "ExecuteTime": {
     "end_time": "2022-07-27T15:15:44.799742Z",
     "start_time": "2022-07-27T15:15:44.601750Z"
    },
    "code_folding": []
   },
   "outputs": [],
   "source": [
    "import matplotlib as mpl\n",
    "\n",
    "\n",
    "def mergecells(table, ix0, ix1):\n",
    "    ix0,ix1 = np.asarray(ix0), np.asarray(ix1)\n",
    "    d = ix1 - ix0\n",
    "    if not (0 in d and 1 in np.abs(d)):\n",
    "        raise ValueError(\"ix0 and ix1 should be the indices of adjacent cells. ix0: %s, ix1: %s\" % (ix0, ix1))\n",
    "\n",
    "    if d[0]==-1:\n",
    "        edges = ('BRL', 'TRL')\n",
    "    elif d[0]==1:\n",
    "        edges = ('TRL', 'BRL')\n",
    "    elif d[1]==-1:\n",
    "        edges = ('BTR', 'BTL')\n",
    "    else:\n",
    "        edges = ('BTL', 'BTR')\n",
    "\n",
    "    # hide the merged edges\n",
    "    for ix,e in zip((ix0, ix1), edges):\n",
    "        table[ix[0], ix[1]].visible_edges = e\n",
    "\n",
    "    txts = [table[ix[0], ix[1]].get_text() for ix in (ix0, ix1)]\n",
    "    tpos = [np.array(t.get_position()) for t in txts]\n",
    "\n",
    "    # center the text of the 0th cell between the two merged cells\n",
    "    trans = (tpos[1] - tpos[0])/2\n",
    "    if trans[0] > 0 and txts[0].get_ha() == 'right':\n",
    "        # reduce the transform distance in order to center the text\n",
    "        trans[0] /= 2\n",
    "    elif trans[0] < 0 and txts[0].get_ha() == 'right':\n",
    "        # increase the transform distance...\n",
    "        trans[0] *= 2\n",
    "\n",
    "    txts[0].set_transform(mpl.transforms.Affine2D().translate(*trans))\n",
    "\n",
    "    # hide the text in the 1st cell\n",
    "    txts[1].set_visible(False)"
   ]
  },
  {
   "cell_type": "code",
   "execution_count": 199,
   "metadata": {
    "ExecuteTime": {
     "end_time": "2022-07-28T08:26:05.189339Z",
     "start_time": "2022-07-28T08:26:05.155340Z"
    }
   },
   "outputs": [],
   "source": [
    "def mergecells2(table, cells):\n",
    "    '''\n",
    "    Merge N matplotlib.Table cells\n",
    "\n",
    "    Parameters\n",
    "    -----------\n",
    "    table: matplotlib.Table\n",
    "        the table\n",
    "    cells: list[set]\n",
    "        list of sets od the table coordinates\n",
    "        - example: [(0,1), (0,0), (0,2)]\n",
    "\n",
    "    Notes\n",
    "    ------\n",
    "    https://stackoverflow.com/a/53819765/12684122\n",
    "    '''\n",
    "    cells_array = [np.asarray(c) for c in cells]\n",
    "    h = np.array([cells_array[i+1][0] - cells_array[i][0] for i in range(len(cells_array) - 1)])\n",
    "    v = np.array([cells_array[i+1][1] - cells_array[i][1] for i in range(len(cells_array) - 1)])\n",
    "\n",
    "    # if it's a horizontal merge, all values for `h` are 0\n",
    "    if not np.any(h):\n",
    "        # sort by horizontal coord\n",
    "        cells = np.array(sorted(list(cells), key=lambda v: v[1]))\n",
    "        edges = ['BTL'] + ['BT' for i in range(len(cells) - 2)] + ['BTR']\n",
    "    elif not np.any(v):\n",
    "        cells = np.array(sorted(list(cells), key=lambda h: h[0]))\n",
    "        edges = ['TRL'] + ['RL' for i in range(len(cells) - 2)] + ['BRL']\n",
    "    else:\n",
    "        raise ValueError(\"Only horizontal and vertical merges allowed\")\n",
    "\n",
    "    for cell, e in zip(cells, edges):\n",
    "        table[cell[0], cell[1]].visible_edges = e\n",
    "        \n",
    "    txts = [table[cell[0], cell[1]].get_text() for cell in cells]\n",
    "    tpos = [np.array(t.get_position()) for t in txts]\n",
    "\n",
    "    # transpose the text of the left cell\n",
    "    trans = (tpos[-1] - tpos[0])/2\n",
    "    # didn't had to check for ha because I only want ha='center'\n",
    "    txts[0].set_transform(mpl.transforms.Affine2D().translate(*trans))\n",
    "    for txt in txts[1:]:\n",
    "        txt.set_visible(False)"
   ]
  },
  {
   "cell_type": "code",
   "execution_count": 95,
   "metadata": {
    "ExecuteTime": {
     "end_time": "2022-07-27T15:15:48.149664Z",
     "start_time": "2022-07-27T15:15:47.309058Z"
    }
   },
   "outputs": [
    {
     "data": {
      "image/png": "[encoded data removed]",
      "text/plain": [
       "<Figure size 648x144 with 1 Axes>"
      ]
     },
     "metadata": {
      "needs_background": "light"
     },
     "output_type": "display_data"
    }
   ],
   "source": [
    "import matplotlib.pyplot as plt\n",
    "import pandas as pd\n",
    "\n",
    "df = pd.DataFrame()\n",
    "df['Animal'] = ['Cow', 'Bear']\n",
    "df['Weight'] = [250, 450]\n",
    "df['Favorite'] = ['Grass', 'Honey']\n",
    "df['Least Favorite'] = ['Meat', 'Leaves']\n",
    "\n",
    "fig = plt.figure(figsize=(9,2))\n",
    "ax=fig.gca()\n",
    "ax.axis('off')\n",
    "r,c = df.shape\n",
    "\n",
    "# ensure consistent background color\n",
    "ax.table(cellColours=[['lightgray']] + [['none']], bbox=[0,0,1,1])\n",
    "\n",
    "# plot the real table\n",
    "table = ax.table(cellText=np.vstack([['', '', 'Food', ''], df.columns, df.values]), \n",
    "                 cellColours=[['none']*c]*(2 + r), bbox=[0, 0, 1, 1])\n",
    "\n",
    "# need to draw here so the text positions are calculated\n",
    "fig.canvas.draw()\n",
    "\n",
    "# do the 3 cell merges needed\n",
    "mergecells(table, (1,0), (0,0)) # Animal\n",
    "mergecells(table, (1,1), (0,1)) # Weight\n",
    "mergecells(table, (0,2), (0,3)) # Food"
   ]
  },
  {
   "cell_type": "code",
   "execution_count": 224,
   "metadata": {
    "ExecuteTime": {
     "end_time": "2022-07-28T12:03:47.520184Z",
     "start_time": "2022-07-28T12:03:45.423806Z"
    }
   },
   "outputs": [
    {
     "data": {
      "image/png": "[encoded data removed]",
      "text/plain": [
       "<Figure size 576x432 with 1 Axes>"
      ]
     },
     "metadata": {
      "needs_background": "light"
     },
     "output_type": "display_data"
    }
   ],
   "source": [
    "ticker = \"QQQ\"\n",
    "fig = plt.figure(figsize=(8,6))\n",
    "ax=fig.gca()\n",
    "ax.axis('off')\n",
    "test_call = update_call2.reset_index()['strike,open_interest,diff'.split(',')].head(10)\n",
    "test_put = update_put2.reset_index()['strike,open_interest,diff'.split(',')].head(10)\n",
    "test_df = pd.concat([test_call,test_put], axis=1)\n",
    "r,c = test_df.shape\n",
    "\n",
    "# ensure consistent background color\n",
    "# ax.table(cellColours=[['lightgray']] + [['none']], bbox=[0,0,1,1])\n",
    "\n",
    "# str(update_call2.ttm.unique()[0])[2:4]\n",
    "# plot the real table\n",
    "table = ax.table(cellText=np.vstack([[ticker, '', update_date.strftime(\"%Y-%m-%d\"),'', str(update_date.isocalendar()[-1]), ''],\n",
    "                                     [str(update_call2.ttm.unique()[0])[2:4], '', '', '', '', ''], \n",
    "                                     [update_call2.open_interest.sum(), '', update_call2['diff'].sum(),\n",
    "                                     update_put2.open_interest.sum(), '', update_put2['diff'].sum()],\n",
    "                                     test_df.astype(int).values]), \n",
    "                 cellColours=[['none']*c]*(3 + r), bbox=[0, 0, 1, 1])\n",
    "\n",
    "# need to draw here so the text positions are calculated\n",
    "fig.canvas.draw()\n",
    "\n",
    "# do the 3 cell merges needed\n",
    "mergecells2(table, [(0,0), (0,1)])\n",
    "mergecells2(table, [(0,2), (0,3)])\n",
    "mergecells2(table, [(0,4), (0,5)])\n",
    "\n",
    "mergecells2(table, [(1,x) for x in range(c)])\n",
    "\n",
    "mergecells2(table, [(2,0), (2,1)])\n",
    "mergecells2(table, [(2,3), (2,4)])"
   ]
  },
  {
   "cell_type": "code",
   "execution_count": 252,
   "metadata": {
    "ExecuteTime": {
     "end_time": "2022-07-28T14:21:02.318780Z",
     "start_time": "2022-07-28T14:21:02.290769Z"
    }
   },
   "outputs": [],
   "source": [
    "from matplotlib.font_manager import fontManager, FontProperties\n",
    "ChineseFont = FontProperties([f.name for f in fontManager.ttflist if 'JhengHei' in f.name or 'Heiti' in f.name][0]) #  or 'Arial' in f.name"
   ]
  },
  {
   "cell_type": "code",
   "execution_count": 253,
   "metadata": {
    "ExecuteTime": {
     "end_time": "2022-07-28T14:21:04.987082Z",
     "start_time": "2022-07-28T14:21:04.957094Z"
    }
   },
   "outputs": [],
   "source": [
    "def CreateTable(ticker, call_df, put_df, update_date):\n",
    "\n",
    "    output_ = os.path.join(output_path, str(update_date.year), str(update_date.month).zfill(2), str(update_date.day).zfill(2))\n",
    "    if not os.path.isdir(output_):\n",
    "        os.makedirs(output_)\n",
    "    fig = plt.figure(figsize=(7,6))\n",
    "    ax=fig.gca()\n",
    "    ax.axis('off')\n",
    "    sub_call = call_df.reset_index()['strike,open_interest,diff'.split(',')].head(10)\n",
    "    sub_put = put_df.reset_index()['strike,open_interest,diff'.split(',')].head(10)\n",
    "    sub_df = pd.concat([sub_call,sub_put], axis=1)\n",
    "    r,c = sub_df.shape\n",
    "\n",
    "    # ensure consistent background color\n",
    "    # ax.table(cellColours=[['lightgray']] + [['none']], bbox=[0,0,1,1])\n",
    "\n",
    "    # str(update_call2.ttm.unique()[0])[2:4]\n",
    "    # plot the real table\n",
    "    table = ax.table(cellText=np.vstack([[ticker, '', update_date.strftime(\"%Y-%m-%d\"),'', str(update_date.isocalendar()[-1]), ''],\n",
    "                                         [str(call_df.ttm.unique()[0])[2:4], '', '', '', '', ''], \n",
    "                                         [call_df.open_interest.sum(), '', call_df['diff'].sum(),\n",
    "                                         put_df.open_interest.sum(), '', put_df['diff'].sum()],\n",
    "                                         sub_df.astype(int).values]), \n",
    "                     cellColours=[['none']*c]*(3 + r), bbox=[0, 0, 1, 1])\n",
    "    table_props = table.properties()\n",
    "    table_cells = table_props['children']\n",
    "    for i, cell in enumerate(table_cells):\n",
    "#             if not i:\n",
    "#                 help(cell.set_text_props)\n",
    "        cell.set_height(0.03)\n",
    "        cell.set_text_props(fontproperties=ChineseFont, fontsize=12)\n",
    "        text = cell.get_text().get_text()\n",
    "        if text.isnumeric():\n",
    "            print(text)\n",
    "            if int(text) < 0:\n",
    "                cell.set_text_props(fontproperties=ChineseFont, fontsize=12, color='red')\n",
    "                \n",
    "    # need to draw here so the text positions are calculated\n",
    "    fig.canvas.draw()\n",
    "\n",
    "    # do the 3 cell merges needed\n",
    "    mergecells2(table, [(0,0), (0,1)])\n",
    "    mergecells2(table, [(0,2), (0,3)])\n",
    "    mergecells2(table, [(0,4), (0,5)])\n",
    "\n",
    "    mergecells2(table, [(1,x) for x in range(c)])\n",
    "\n",
    "    mergecells2(table, [(2,0), (2,1)])\n",
    "    mergecells2(table, [(2,3), (2,4)])\n",
    "    \n",
    "    plt.savefig(os.path.join(output_, f'{ticker} Option OI Diff.jpeg'))\n",
    "    plt.show(block=False)\n",
    "\n",
    "def changeNumToChi(weekday):\n",
    "    change_dict = {\n",
    "        1:\"週一\",\n",
    "        2:\"週二\",\n",
    "        3:\"週三\",\n",
    "        4:\"週四\",\n",
    "        5:\"週五\",\n",
    "    }\n",
    "    return change_dict[weekday]"
   ]
  },
  {
   "cell_type": "code",
   "execution_count": 254,
   "metadata": {
    "ExecuteTime": {
     "end_time": "2022-07-28T14:21:10.691302Z",
     "start_time": "2022-07-28T14:21:07.648599Z"
    }
   },
   "outputs": [
    {
     "data": {
      "image/png": "[encoded data removed]",
      "text/plain": [
       "<Figure size 504x432 with 1 Axes>"
      ]
     },
     "metadata": {
      "needs_background": "light"
     },
     "output_type": "display_data"
    }
   ],
   "source": [
    "CreateTable('QQQ', update_call2, update_put2, update_date)"
   ]
  },
  {
   "cell_type": "markdown",
   "metadata": {},
   "source": [
    "# Main"
   ]
  },
  {
   "cell_type": "code",
   "execution_count": 210,
   "metadata": {
    "ExecuteTime": {
     "end_time": "2022-07-28T11:49:02.372499Z",
     "start_time": "2022-07-28T11:46:46.708795Z"
    },
    "scrolled": true
   },
   "outputs": [
    {
     "name": "stdout",
     "output_type": "stream",
     "text": [
      "====== 2022-07-27 15:59:59 ======\n",
      "====== 2022-07-27 16:00:00 ======\n",
      "====== 2022-07-27 15:59:59 ======\n",
      "====== 2022-07-27 15:59:59 ======\n",
      "====== 2022-07-27 15:59:59 ======\n",
      "====== 2022-07-27 15:59:59 ======\n",
      "====== 2022-07-27 15:59:59 ======\n",
      "====== 2022-07-27 15:59:59 ======\n",
      "====== 2022-07-27 15:59:59 ======\n",
      "====== 2022-07-27 15:59:59 ======\n",
      "====== 2022-07-27 15:59:59 ======\n",
      "====== 2022-07-27 15:59:50 ======\n",
      "====== 2022-07-27 15:59:52 ======\n",
      "====== 2022-07-27 15:59:59 ======\n",
      "====== 2022-07-27 15:59:59 ======\n",
      "====== 2022-07-27 15:59:59 ======\n",
      "====== 2022-07-27 15:59:59 ======\n",
      "====== 2022-07-27 15:59:59 ======\n",
      "====== 2022-07-27 15:59:59 ======\n",
      "====== 2022-07-27 15:59:59 ======\n",
      "====== 2022-07-27 15:59:59 ======\n",
      "====== 2022-07-28 07:33:01 ======\n"
     ]
    }
   ],
   "source": [
    "for ticker in 'QQQ,TQQQ,ARKK,SMH'.split(','): # used to follow NASDAQ\n",
    "    GetOptionOI(ticker)\n",
    "    break\n",
    "\n",
    "for ticker in 'SPY,IWM'.split(','): # used to follow SPY\n",
    "    GetOptionOI(ticker)\n",
    "    \n",
    "for ticker in 'TSLA,BITO,COIN'.split(','): # used to follow TLSA\n",
    "    GetOptionOI(ticker)\n",
    "    \n",
    "for ticker in 'TSM,ASX,SIMO,HIMX,UMC,CHT,IMOS,GRMN'.split(','): # used to follow Taiwan Stock ADR # HNHPF,GIGM,LEDS,APWC,\n",
    "    try:\n",
    "        GetOptionOI(ticker)    \n",
    "    except:\n",
    "        print(ticker, \"Failed\")\n",
    "\n",
    "for ticker in 'BABA,JD,BIDU,FXI'.split(','): # used to follow BABA\n",
    "    try:\n",
    "        GetOptionOI(ticker)    \n",
    "    except:\n",
    "        print(ticker, \"Failed\")\n",
    "\n",
    "for ticker in 'GLD,GDX,SLV'.split(','): # used to follow XAUUSD 黃金現貨\n",
    "    try:\n",
    "        GetOptionOI(ticker)    \n",
    "    except:\n",
    "        print(ticker, \"Failed\")\n",
    "\n",
    "for ticker in 'VIX'.split(','): # used to follow VIX\n",
    "    try:\n",
    "        GetOptionOI(ticker)    \n",
    "    except:\n",
    "        print(ticker, \"Failed\")"
   ]
  }
 ],
 "metadata": {
  "hide_input": false,
  "kernelspec": {
   "display_name": "Python 3",
   "language": "python",
   "name": "python3"
  },
  "language_info": {
   "codemirror_mode": {
    "name": "ipython",
    "version": 3
   },
   "file_extension": ".py",
   "mimetype": "text/x-python",
   "name": "python",
   "nbconvert_exporter": "python",
   "pygments_lexer": "ipython3",
   "version": "3.7.8"
  },
  "toc": {
   "base_numbering": 1,
   "nav_menu": {},
   "number_sections": true,
   "sideBar": true,
   "skip_h1_title": false,
   "title_cell": "Table of Contents",
   "title_sidebar": "Contents",
   "toc_cell": true,
   "toc_position": {},
   "toc_section_display": true,
   "toc_window_display": false
  },
  "varInspector": {
   "cols": {
    "lenName": 16,
    "lenType": 16,
    "lenVar": 40
   },
   "kernels_config": {
    "python": {
     "delete_cmd_postfix": "",
     "delete_cmd_prefix": "del ",
     "library": "var_list.py",
     "varRefreshCmd": "print(var_dic_list())"
    },
    "r": {
     "delete_cmd_postfix": ") ",
     "delete_cmd_prefix": "rm(",
     "library": "var_list.r",
     "varRefreshCmd": "cat(var_dic_list()) "
    }
   },
   "types_to_exclude": [
    "module",
    "function",
    "builtin_function_or_method",
    "instance",
    "_Feature"
   ],
   "window_display": false
  }
 },
 "nbformat": 4,
 "nbformat_minor": 2
}
