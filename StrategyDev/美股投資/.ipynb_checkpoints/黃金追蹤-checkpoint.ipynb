{
 "cells": [
  {
   "cell_type": "code",
   "execution_count": 15,
   "metadata": {
    "ExecuteTime": {
     "end_time": "2022-06-09T04:03:22.112567Z",
     "start_time": "2022-06-09T04:03:22.099571Z"
    }
   },
   "outputs": [],
   "source": [
    "import pandas as pd\n",
    "import plotly.graph_objects as go\n",
    "from plotly.subplots import make_subplots\n",
    "import requests\n",
    "import plotly\n",
    "\n",
    "import os\n",
    "parent = os.path.dirname(os.path.abspath(\"__file__\"))"
   ]
  },
  {
   "cell_type": "code",
   "execution_count": 2,
   "metadata": {
    "ExecuteTime": {
     "end_time": "2022-06-09T03:59:54.449666Z",
     "start_time": "2022-06-09T03:59:54.320808Z"
    }
   },
   "outputs": [],
   "source": [
    "res = requests.get('https://www.spdrgoldshares.com/assets/dynamic/GLD/GLD_US_archive_EN.csv')"
   ]
  },
  {
   "cell_type": "code",
   "execution_count": 3,
   "metadata": {
    "ExecuteTime": {
     "end_time": "2022-06-09T03:59:55.174982Z",
     "start_time": "2022-06-09T03:59:55.157990Z"
    }
   },
   "outputs": [],
   "source": [
    "res.encoding = 'utf-8'"
   ]
  },
  {
   "cell_type": "code",
   "execution_count": 4,
   "metadata": {
    "ExecuteTime": {
     "end_time": "2022-06-09T03:59:55.654499Z",
     "start_time": "2022-06-09T03:59:55.647501Z"
    }
   },
   "outputs": [],
   "source": [
    "data = res.content.decode().split('\\n')[6:]"
   ]
  },
  {
   "cell_type": "code",
   "execution_count": 5,
   "metadata": {
    "ExecuteTime": {
     "end_time": "2022-06-09T03:59:56.193059Z",
     "start_time": "2022-06-09T03:59:56.176068Z"
    }
   },
   "outputs": [],
   "source": [
    "cols = data[0].split(', ')\n",
    "detail = data[1:]"
   ]
  },
  {
   "cell_type": "code",
   "execution_count": 6,
   "metadata": {
    "ExecuteTime": {
     "end_time": "2022-06-09T03:59:56.718776Z",
     "start_time": "2022-06-09T03:59:56.695777Z"
    }
   },
   "outputs": [],
   "source": [
    "output = []\n",
    "for d in detail:\n",
    "    try:\n",
    "        if not len(d.strip()): continue\n",
    "        \n",
    "        tmp_d = d.split(',')\n",
    "        output.append({\n",
    "            cols[0]:tmp_d[0].strip(),\n",
    "            cols[2]:float(tmp_d[2].replace('$','').strip()) if tmp_d[2].strip() != \"HOLIDAY\" else tmp_d[2].strip(),\n",
    "            cols[-2]:float(tmp_d[-2].strip()) if tmp_d[-2].strip() != \"HOLIDAY\" else tmp_d[-2].strip(),\n",
    "        })\n",
    "    except:\n",
    "#         print(d, tmp_d)\n",
    "        if 'NYSE' in d:\n",
    "            output.append({\n",
    "                cols[0]:tmp_d[0].strip(),\n",
    "                cols[2]:float('nan'),\n",
    "                cols[-2]:float('nan'),\n",
    "            })"
   ]
  },
  {
   "cell_type": "code",
   "execution_count": 7,
   "metadata": {
    "ExecuteTime": {
     "end_time": "2022-06-09T03:59:57.645423Z",
     "start_time": "2022-06-09T03:59:57.626431Z"
    }
   },
   "outputs": [],
   "source": [
    "df = pd.DataFrame(output).set_index(\"Date\")"
   ]
  },
  {
   "cell_type": "code",
   "execution_count": 8,
   "metadata": {
    "ExecuteTime": {
     "end_time": "2022-06-09T03:59:59.192196Z",
     "start_time": "2022-06-09T03:59:58.788205Z"
    }
   },
   "outputs": [],
   "source": [
    "df.index = pd.to_datetime(df.index)"
   ]
  },
  {
   "cell_type": "code",
   "execution_count": 9,
   "metadata": {
    "ExecuteTime": {
     "end_time": "2022-06-09T03:59:59.363208Z",
     "start_time": "2022-06-09T03:59:59.350205Z"
    }
   },
   "outputs": [],
   "source": [
    "col_p, col_v = df.columns"
   ]
  },
  {
   "cell_type": "code",
   "execution_count": 10,
   "metadata": {
    "ExecuteTime": {
     "end_time": "2022-06-09T03:59:59.824649Z",
     "start_time": "2022-06-09T03:59:59.786620Z"
    }
   },
   "outputs": [],
   "source": [
    "new_ = df.resample('1w').last()"
   ]
  },
  {
   "cell_type": "code",
   "execution_count": 11,
   "metadata": {
    "ExecuteTime": {
     "end_time": "2022-06-09T04:00:02.754061Z",
     "start_time": "2022-06-09T04:00:00.327680Z"
    }
   },
   "outputs": [],
   "source": [
    "for i in range(len(new_.index)):\n",
    "    try:\n",
    "        if not i:\n",
    "            df.loc[df[(df.index < new_.index[i])].index[-1],'Weekly Avg V'] = df.loc[df[(df.index < new_.index[i])].index, col_v].replace(\"HOLIDAY\",float('nan')).dropna().mean()\n",
    "        else:\n",
    "            df.loc[df[(df.index < new_.index[i])].index[-1],'Weekly Avg V'] = df.loc[df[(df.index > new_.index[i-1]) & (df.index < new_.index[i])].index, col_v].replace(\"HOLIDAY\",float('nan')).dropna().mean()\n",
    "    except Exception as e:\n",
    "        print(e)\n",
    "        if not i:\n",
    "            print(df.loc[df[(df.index < new_.index[i])].index, col_v].replace(\"HOLIDAY\",float('nan')))#.drop(0).mean())\n",
    "        else:\n",
    "            print(df.loc[df[(df.index > new_.index[i-1]) & (df.index < new_.index[i])].index, col_v].replace(\"HOLIDAY\",float('nan')))#.drop(0).mean())\n",
    "# df.columns = ['Price', 'Volumes']"
   ]
  },
  {
   "cell_type": "code",
   "execution_count": 201,
   "metadata": {
    "ExecuteTime": {
     "end_time": "2022-06-08T16:01:08.666917Z",
     "start_time": "2022-06-08T16:01:08.344926Z"
    },
    "scrolled": false
   },
   "outputs": [
    {
     "name": "stderr",
     "output_type": "stream",
     "text": [
      "c:\\users\\kevin\\appdata\\local\\programs\\python\\python37\\lib\\site-packages\\pandas\\plotting\\_matplotlib\\converter.py:256: MatplotlibDeprecationWarning:\n",
      "\n",
      "\n",
      "The epoch2num function was deprecated in Matplotlib 3.3 and will be removed two minor releases later.\n",
      "\n",
      "c:\\users\\kevin\\appdata\\local\\programs\\python\\python37\\lib\\site-packages\\pandas\\plotting\\_matplotlib\\converter.py:256: MatplotlibDeprecationWarning:\n",
      "\n",
      "\n",
      "The epoch2num function was deprecated in Matplotlib 3.3 and will be removed two minor releases later.\n",
      "\n",
      "c:\\users\\kevin\\appdata\\local\\programs\\python\\python37\\lib\\site-packages\\pandas\\plotting\\_matplotlib\\converter.py:256: MatplotlibDeprecationWarning:\n",
      "\n",
      "\n",
      "The epoch2num function was deprecated in Matplotlib 3.3 and will be removed two minor releases later.\n",
      "\n"
     ]
    },
    {
     "data": {
      "text/plain": [
       "<AxesSubplot:xlabel='Date'>"
      ]
     },
     "execution_count": 201,
     "metadata": {},
     "output_type": "execute_result"
    },
    {
     "data": {
      "image/png": "[encoded data removed]",
      "text/plain": [
       "<Figure size 1152x576 with 1 Axes>"
      ]
     },
     "metadata": {
      "needs_background": "light"
     },
     "output_type": "display_data"
    }
   ],
   "source": [
    "df.replace(\"HOLIDAY\",float('nan')).plot(figsize=(16,8))"
   ]
  },
  {
   "cell_type": "code",
   "execution_count": 20,
   "metadata": {
    "ExecuteTime": {
     "end_time": "2022-06-09T04:06:21.881452Z",
     "start_time": "2022-06-09T04:06:21.855449Z"
    }
   },
   "outputs": [],
   "source": [
    "def PlotKBar(df, col_p, col_v, col_avg):\n",
    "    \n",
    "    start_date = df.index[0]\n",
    "    end_date = df.index[-1]\n",
    "    fig = make_subplots(\n",
    "                        rows=2, cols=1, \n",
    "#                         rows=1, cols=1, \n",
    "                        shared_xaxes=True, \n",
    "                        vertical_spacing=0, \n",
    "                        row_width=[0.4, 0.4], # 2 rows\n",
    "#                         row_width=[0.4], # 0.4, \n",
    "#                         specs=[[{\"secondary_y\": True}]]) # 0.2, \n",
    "                        specs=[[{\"secondary_y\": True}],[{\"secondary_y\": True}]]) # 2 rows\n",
    "                        # 0.2, \n",
    "    tmp_df = df[col_v].replace(\"HOLIDAY\",float('nan')).dropna()\n",
    "#     print(tmp_df)\n",
    "    fig.add_trace(\n",
    "        go.Bar(x=tmp_df.index, y=tmp_df,  #fillna(method='ffill')\n",
    "               showlegend=True, name = \"庫存量\", opacity=.3),  # \"Volume\"\n",
    "                row=2, col=1,\n",
    "    )#secondary_y= True)\n",
    "    tmp_df = df[col_p].replace(\"HOLIDAY\",float('nan')).dropna()\n",
    "    fig.add_trace(\n",
    "        go.Scatter(\n",
    "            x=tmp_df.index,\n",
    "            y=tmp_df,\n",
    "            name=\"價格\" # f\"MA{ma_len}\"\n",
    "        ), row=1,col=1)\n",
    "    \n",
    "#     print(df[col_avg].replace(\"HOLIDAY\",float('nan')).dropna())\n",
    "    fig.add_trace(\n",
    "        go.Scatter(\n",
    "            x=df[col_avg].replace(\"HOLIDAY\",float('nan')).dropna().index,\n",
    "            y=df[col_avg].replace(\"HOLIDAY\",float('nan')).dropna().diff(),\n",
    "            name=\"周均量差\", # f\"MA{ma_len}\",\n",
    "            mode=\"markers+lines\"\n",
    "        ), row=2,col=1,secondary_y=True)\n",
    "#     test_df = df.copy(deep=True)\n",
    "#     begin_date, end_date = [start_date, end_date]\n",
    "#     test_df = test_df.reindex(pd.date_range(begin_date, end_date, freq='D'))\n",
    "#     datebreaks = test_df[col_p][test_df[col_p].isnull()].index\n",
    "#     fig.update_xaxes(rangebreaks=[dict(values=datebreaks)])\n",
    "    fig.update_layout(title_text=\"黃金價格與庫存量\")\n",
    "    fig.write_image(os.path.join(parent, f'{end_date.strftime(\"%Y%m%d_Gold_Price_Inventory.jpg\")}'))\n",
    "#     fig.to_image(os.path.join(parent, f'{end_date.strftime(\"%Y%m%d_Gold_Price_Inventory.jpg\")}'))\n",
    "#     plotly.offline.plot(fig, filename=os.path.join(parent, f'{end_date.strftime(\"%Y%m%d_Gold_Price_Inventory.jpg\")}'),auto_open=False, image='png')\n",
    "    fig.show()"
   ]
  },
  {
   "cell_type": "code",
   "execution_count": null,
   "metadata": {},
   "outputs": [],
   "source": []
  },
  {
   "cell_type": "code",
   "execution_count": 21,
   "metadata": {
    "ExecuteTime": {
     "end_time": "2022-06-09T04:06:22.685478Z",
     "start_time": "2022-06-09T04:06:22.597483Z"
    },
    "scrolled": false
   },
   "outputs": [
    {
     "name": "stderr",
     "output_type": "stream",
     "text": [
      "c:\\users\\kevin\\appdata\\local\\programs\\python\\python37\\lib\\site-packages\\plotly\\offline\\offline.py:563: UserWarning:\n",
      "\n",
      "Your filename `F:\\SiteProject\\StrategyDev\\美股投資\\20220608_Gold_Price_Inventory.jpg` didn't end with .html. Adding .html to the end of your file.\n",
      "\n"
     ]
    },
    {
     "data": {
      "application/vnd.plotly.v1+json": {
       "config": {
        "plotlyServerURL": "https://plot.ly"
       },
       "data": [
        {
         "name": "庫存量",
         "opacity": 0.3,
         "showlegend": true,
         "type": "bar",
         "x": [
          "2021-12-21T00:00:00",
          "2021-12-22T00:00:00",
          "2021-12-23T00:00:00",
          "2021-12-27T00:00:00",
          "2021-12-28T00:00:00",
          "2021-12-29T00:00:00",
          "2021-12-30T00:00:00",
          "2021-12-31T00:00:00",
          "2022-01-03T00:00:00",
          "2022-01-04T00:00:00",
          "2022-01-05T00:00:00",
          "2022-01-06T00:00:00",
          "2022-01-07T00:00:00",
          "2022-01-10T00:00:00",
          "2022-01-11T00:00:00",
          "2022-01-12T00:00:00",
          "2022-01-13T00:00:00",
          "2022-01-14T00:00:00",
          "2022-01-18T00:00:00",
          "2022-01-19T00:00:00",
          "2022-01-20T00:00:00",
          "2022-01-21T00:00:00",
          "2022-01-24T00:00:00",
          "2022-01-25T00:00:00",
          "2022-01-26T00:00:00",
          "2022-01-27T00:00:00",
          "2022-01-28T00:00:00",
          "2022-01-31T00:00:00",
          "2022-02-01T00:00:00",
          "2022-02-02T00:00:00",
          "2022-02-03T00:00:00",
          "2022-02-04T00:00:00",
          "2022-02-07T00:00:00",
          "2022-02-08T00:00:00",
          "2022-02-09T00:00:00",
          "2022-02-10T00:00:00",
          "2022-02-11T00:00:00",
          "2022-02-14T00:00:00",
          "2022-02-15T00:00:00",
          "2022-02-16T00:00:00",
          "2022-02-17T00:00:00",
          "2022-02-18T00:00:00",
          "2022-02-22T00:00:00",
          "2022-02-23T00:00:00",
          "2022-02-24T00:00:00",
          "2022-02-25T00:00:00",
          "2022-02-28T00:00:00",
          "2022-03-01T00:00:00",
          "2022-03-02T00:00:00",
          "2022-03-03T00:00:00",
          "2022-03-04T00:00:00",
          "2022-03-07T00:00:00",
          "2022-03-08T00:00:00",
          "2022-03-09T00:00:00",
          "2022-03-10T00:00:00",
          "2022-03-11T00:00:00",
          "2022-03-14T00:00:00",
          "2022-03-15T00:00:00",
          "2022-03-16T00:00:00",
          "2022-03-17T00:00:00",
          "2022-03-18T00:00:00",
          "2022-03-21T00:00:00",
          "2022-03-22T00:00:00",
          "2022-03-23T00:00:00",
          "2022-03-24T00:00:00",
          "2022-03-25T00:00:00",
          "2022-03-28T00:00:00",
          "2022-03-29T00:00:00",
          "2022-03-30T00:00:00",
          "2022-03-31T00:00:00",
          "2022-04-01T00:00:00",
          "2022-04-04T00:00:00",
          "2022-04-05T00:00:00",
          "2022-04-06T00:00:00",
          "2022-04-07T00:00:00",
          "2022-04-08T00:00:00",
          "2022-04-11T00:00:00",
          "2022-04-12T00:00:00",
          "2022-04-13T00:00:00",
          "2022-04-14T00:00:00",
          "2022-04-18T00:00:00",
          "2022-04-19T00:00:00",
          "2022-04-20T00:00:00",
          "2022-04-21T00:00:00",
          "2022-04-22T00:00:00",
          "2022-04-25T00:00:00",
          "2022-04-26T00:00:00",
          "2022-04-27T00:00:00",
          "2022-04-28T00:00:00",
          "2022-04-29T00:00:00",
          "2022-05-02T00:00:00",
          "2022-05-03T00:00:00",
          "2022-05-04T00:00:00",
          "2022-05-05T00:00:00",
          "2022-05-06T00:00:00",
          "2022-05-09T00:00:00",
          "2022-05-10T00:00:00",
          "2022-05-11T00:00:00",
          "2022-05-12T00:00:00",
          "2022-05-13T00:00:00",
          "2022-05-16T00:00:00",
          "2022-05-17T00:00:00",
          "2022-05-18T00:00:00",
          "2022-05-19T00:00:00",
          "2022-05-20T00:00:00",
          "2022-05-23T00:00:00",
          "2022-05-24T00:00:00",
          "2022-05-25T00:00:00",
          "2022-05-26T00:00:00",
          "2022-05-27T00:00:00",
          "2022-05-31T00:00:00",
          "2022-06-01T00:00:00",
          "2022-06-02T00:00:00",
          "2022-06-03T00:00:00",
          "2022-06-06T00:00:00",
          "2022-06-07T00:00:00",
          "2022-06-08T00:00:00"
         ],
         "xaxis": "x2",
         "y": [
          978.57,
          973.63,
          973.63,
          973.63,
          973.63,
          975.66,
          975.66,
          975.66,
          975.66,
          980.31,
          979.99,
          978.82,
          977.08,
          977.08,
          976.21,
          976.21,
          976.21,
          976.21,
          976.21,
          981.44,
          980.86,
          1008.45,
          1008.45,
          1013.1,
          1014.26,
          1014.26,
          1014.26,
          1017.75,
          1018.04,
          1016.59,
          1014.84,
          1011.6,
          1011.6,
          1015.96,
          1015.96,
          1015.96,
          1019.44,
          1019.44,
          1019.44,
          1019.44,
          1019.44,
          1024.09,
          1024.09,
          1029.31,
          1029.31,
          1026.99,
          1029.02,
          1042.38,
          1050.22,
          1050.22,
          1054.28,
          1062.7,
          1067.34,
          1063.28,
          1061.53,
          1064.15,
          1064.15,
          1061.83,
          1070.53,
          1073.44,
          1082.44,
          1083.6,
          1083.6,
          1087.66,
          1087.66,
          1093.18,
          1093.18,
          1091.44,
          1091.44,
          1091.44,
          1091.73,
          1089.98,
          1087.3,
          1087.3,
          1087.3,
          1090.49,
          1090.49,
          1093.1,
          1104.42,
          1099.49,
          1100.36,
          1106.74,
          1106.74,
          1104.13,
          1104.13,
          1101.23,
          1101.23,
          1095.71,
          1095.71,
          1094.55,
          1092.23,
          1089.04,
          1089.04,
          1084.98,
          1082,
          1075.9,
          1068.65,
          1066.62,
          1060.82,
          1055.89,
          1053.28,
          1049.21,
          1049.21,
          1056.18,
          1063.43,
          1068.07,
          1068.07,
          1069.81,
          1069.81,
          1069.81,
          1068.36,
          1067.2,
          1066.04,
          1066.04,
          1063.06,
          1063.06,
          1065.39
         ],
         "yaxis": "y3"
        },
        {
         "name": "價格",
         "type": "scatter",
         "x": [
          "2021-12-21T00:00:00",
          "2021-12-22T00:00:00",
          "2021-12-23T00:00:00",
          "2021-12-27T00:00:00",
          "2021-12-28T00:00:00",
          "2021-12-29T00:00:00",
          "2021-12-30T00:00:00",
          "2021-12-31T00:00:00",
          "2022-01-03T00:00:00",
          "2022-01-04T00:00:00",
          "2022-01-05T00:00:00",
          "2022-01-06T00:00:00",
          "2022-01-07T00:00:00",
          "2022-01-10T00:00:00",
          "2022-01-11T00:00:00",
          "2022-01-12T00:00:00",
          "2022-01-13T00:00:00",
          "2022-01-14T00:00:00",
          "2022-01-18T00:00:00",
          "2022-01-19T00:00:00",
          "2022-01-20T00:00:00",
          "2022-01-21T00:00:00",
          "2022-01-24T00:00:00",
          "2022-01-25T00:00:00",
          "2022-01-26T00:00:00",
          "2022-01-27T00:00:00",
          "2022-01-28T00:00:00",
          "2022-01-31T00:00:00",
          "2022-02-01T00:00:00",
          "2022-02-02T00:00:00",
          "2022-02-03T00:00:00",
          "2022-02-04T00:00:00",
          "2022-02-07T00:00:00",
          "2022-02-08T00:00:00",
          "2022-02-09T00:00:00",
          "2022-02-10T00:00:00",
          "2022-02-11T00:00:00",
          "2022-02-14T00:00:00",
          "2022-02-15T00:00:00",
          "2022-02-16T00:00:00",
          "2022-02-17T00:00:00",
          "2022-02-18T00:00:00",
          "2022-02-22T00:00:00",
          "2022-02-23T00:00:00",
          "2022-02-24T00:00:00",
          "2022-02-25T00:00:00",
          "2022-02-28T00:00:00",
          "2022-03-01T00:00:00",
          "2022-03-02T00:00:00",
          "2022-03-03T00:00:00",
          "2022-03-04T00:00:00",
          "2022-03-07T00:00:00",
          "2022-03-08T00:00:00",
          "2022-03-09T00:00:00",
          "2022-03-10T00:00:00",
          "2022-03-11T00:00:00",
          "2022-03-14T00:00:00",
          "2022-03-15T00:00:00",
          "2022-03-16T00:00:00",
          "2022-03-17T00:00:00",
          "2022-03-18T00:00:00",
          "2022-03-21T00:00:00",
          "2022-03-22T00:00:00",
          "2022-03-23T00:00:00",
          "2022-03-24T00:00:00",
          "2022-03-25T00:00:00",
          "2022-03-28T00:00:00",
          "2022-03-29T00:00:00",
          "2022-03-30T00:00:00",
          "2022-03-31T00:00:00",
          "2022-04-01T00:00:00",
          "2022-04-04T00:00:00",
          "2022-04-05T00:00:00",
          "2022-04-06T00:00:00",
          "2022-04-07T00:00:00",
          "2022-04-08T00:00:00",
          "2022-04-11T00:00:00",
          "2022-04-12T00:00:00",
          "2022-04-13T00:00:00",
          "2022-04-14T00:00:00",
          "2022-04-18T00:00:00",
          "2022-04-19T00:00:00",
          "2022-04-20T00:00:00",
          "2022-04-21T00:00:00",
          "2022-04-22T00:00:00",
          "2022-04-25T00:00:00",
          "2022-04-26T00:00:00",
          "2022-04-27T00:00:00",
          "2022-04-28T00:00:00",
          "2022-04-29T00:00:00",
          "2022-05-02T00:00:00",
          "2022-05-03T00:00:00",
          "2022-05-04T00:00:00",
          "2022-05-05T00:00:00",
          "2022-05-06T00:00:00",
          "2022-05-09T00:00:00",
          "2022-05-10T00:00:00",
          "2022-05-11T00:00:00",
          "2022-05-12T00:00:00",
          "2022-05-13T00:00:00",
          "2022-05-16T00:00:00",
          "2022-05-17T00:00:00",
          "2022-05-18T00:00:00",
          "2022-05-19T00:00:00",
          "2022-05-20T00:00:00",
          "2022-05-23T00:00:00",
          "2022-05-24T00:00:00",
          "2022-05-25T00:00:00",
          "2022-05-26T00:00:00",
          "2022-05-27T00:00:00",
          "2022-05-31T00:00:00",
          "2022-06-01T00:00:00",
          "2022-06-02T00:00:00",
          "2022-06-03T00:00:00",
          "2022-06-06T00:00:00",
          "2022-06-07T00:00:00",
          "2022-06-08T00:00:00"
         ],
         "xaxis": "x",
         "y": [
          1793.75,
          1792.8,
          1805.2,
          1805.2,
          1805.2,
          1794.25,
          1805.85,
          1805.85,
          1805.85,
          1811.4,
          1826.25,
          1789.35,
          1792.6,
          1794.2,
          1806.8,
          1821.4,
          1820.35,
          1822.95,
          1817.25,
          1826.95,
          1845.35,
          1837.6,
          1831.6,
          1847.3,
          1835.95,
          1806.75,
          1788.15,
          1795.25,
          1799.85,
          1803.65,
          1792.7,
          1804.7,
          1813.55,
          1822.6,
          1822.6,
          1835.35,
          1831.15,
          1866.15,
          1848.55,
          1862.6,
          1893.45,
          1893.6,
          1900.1,
          1904.7,
          1936.3,
          1884.8,
          1909.85,
          1922,
          1928.5,
          1929.6,
          1945.3,
          1980.95,
          2039.05,
          1988.9,
          1996.6,
          1978.7,
          1954.05,
          1913.65,
          1913.2,
          1949.65,
          1935.8,
          1935.05,
          1915.25,
          1931.75,
          1965.2,
          1953.8,
          1937.05,
          1937.05,
          1933.85,
          1942.15,
          1929.4,
          1930.3,
          1944.05,
          1930.15,
          1930.15,
          1941.4,
          1951.55,
          1960.85,
          1976.75,
          1963.25,
          1963.25,
          1964,
          1949.55,
          1943.7,
          1941.55,
          1895,
          1904.6,
          1885.8,
          1888.5,
          1911.3,
          1911.3,
          1869.7,
          1863.65,
          1892.3,
          1882.35,
          1860.9,
          1857.35,
          1851.95,
          1837.05,
          1811.55,
          1809.5,
          1825,
          1810.65,
          1844,
          1834.2,
          1856.2,
          1867.1,
          1847.2,
          1848.25,
          1851.8,
          1838.7,
          1844.9,
          1844.9,
          1844.9,
          1847.2,
          1849.6,
          1849.6
         ],
         "yaxis": "y"
        },
        {
         "mode": "markers+lines",
         "name": "周均量差",
         "type": "scatter",
         "x": [
          "2021-12-23T00:00:00",
          "2021-12-31T00:00:00",
          "2022-01-07T00:00:00",
          "2022-01-14T00:00:00",
          "2022-01-21T00:00:00",
          "2022-01-28T00:00:00",
          "2022-02-04T00:00:00",
          "2022-02-11T00:00:00",
          "2022-02-18T00:00:00",
          "2022-02-25T00:00:00",
          "2022-03-04T00:00:00",
          "2022-03-11T00:00:00",
          "2022-03-18T00:00:00",
          "2022-03-25T00:00:00",
          "2022-04-01T00:00:00",
          "2022-04-08T00:00:00",
          "2022-04-15T00:00:00",
          "2022-04-22T00:00:00",
          "2022-04-29T00:00:00",
          "2022-05-06T00:00:00",
          "2022-05-13T00:00:00",
          "2022-05-20T00:00:00",
          "2022-05-27T00:00:00",
          "2022-06-03T00:00:00",
          "2022-06-08T00:00:00"
         ],
         "xaxis": "x2",
         "y": [
          null,
          -1.2520000000000664,
          3.5240000000001146,
          -1.9880000000000564,
          10.355999999999995,
          26.126000000000204,
          2.897999999999911,
          0.019999999999868123,
          4.586000000000126,
          7.054999999999836,
          17.798999999999978,
          18.576000000000022,
          6.678000000000338,
          16.66199999999958,
          4.706000000000131,
          -3.372000000000071,
          8.401000000000067,
          7.545000000000073,
          -6.733999999999924,
          -10.228000000000065,
          -21.882000000000062,
          -11.31399999999985,
          14.851999999999862,
          -2.2040000000001783,
          -3.0733333333330393
         ],
         "yaxis": "y4"
        }
       ],
       "layout": {
        "template": {
         "data": {
          "bar": [
           {
            "error_x": {
             "color": "#2a3f5f"
            },
            "error_y": {
             "color": "#2a3f5f"
            },
            "marker": {
             "line": {
              "color": "#E5ECF6",
              "width": 0.5
             }
            },
            "type": "bar"
           }
          ],
          "barpolar": [
           {
            "marker": {
             "line": {
              "color": "#E5ECF6",
              "width": 0.5
             }
            },
            "type": "barpolar"
           }
          ],
          "carpet": [
           {
            "aaxis": {
             "endlinecolor": "#2a3f5f",
             "gridcolor": "white",
             "linecolor": "white",
             "minorgridcolor": "white",
             "startlinecolor": "#2a3f5f"
            },
            "baxis": {
             "endlinecolor": "#2a3f5f",
             "gridcolor": "white",
             "linecolor": "white",
             "minorgridcolor": "white",
             "startlinecolor": "#2a3f5f"
            },
            "type": "carpet"
           }
          ],
          "choropleth": [
           {
            "colorbar": {
             "outlinewidth": 0,
             "ticks": ""
            },
            "type": "choropleth"
           }
          ],
          "contour": [
           {
            "colorbar": {
             "outlinewidth": 0,
             "ticks": ""
            },
            "colorscale": [
             [
              0,
              "#0d0887"
             ],
             [
              0.1111111111111111,
              "#46039f"
             ],
             [
              0.2222222222222222,
              "#7201a8"
             ],
             [
              0.3333333333333333,
              "#9c179e"
             ],
             [
              0.4444444444444444,
              "#bd3786"
             ],
             [
              0.5555555555555556,
              "#d8576b"
             ],
             [
              0.6666666666666666,
              "#ed7953"
             ],
             [
              0.7777777777777778,
              "#fb9f3a"
             ],
             [
              0.8888888888888888,
              "#fdca26"
             ],
             [
              1,
              "#f0f921"
             ]
            ],
            "type": "contour"
           }
          ],
          "contourcarpet": [
           {
            "colorbar": {
             "outlinewidth": 0,
             "ticks": ""
            },
            "type": "contourcarpet"
           }
          ],
          "heatmap": [
           {
            "colorbar": {
             "outlinewidth": 0,
             "ticks": ""
            },
            "colorscale": [
             [
              0,
              "#0d0887"
             ],
             [
              0.1111111111111111,
              "#46039f"
             ],
             [
              0.2222222222222222,
              "#7201a8"
             ],
             [
              0.3333333333333333,
              "#9c179e"
             ],
             [
              0.4444444444444444,
              "#bd3786"
             ],
             [
              0.5555555555555556,
              "#d8576b"
             ],
             [
              0.6666666666666666,
              "#ed7953"
             ],
             [
              0.7777777777777778,
              "#fb9f3a"
             ],
             [
              0.8888888888888888,
              "#fdca26"
             ],
             [
              1,
              "#f0f921"
             ]
            ],
            "type": "heatmap"
           }
          ],
          "heatmapgl": [
           {
            "colorbar": {
             "outlinewidth": 0,
             "ticks": ""
            },
            "colorscale": [
             [
              0,
              "#0d0887"
             ],
             [
              0.1111111111111111,
              "#46039f"
             ],
             [
              0.2222222222222222,
              "#7201a8"
             ],
             [
              0.3333333333333333,
              "#9c179e"
             ],
             [
              0.4444444444444444,
              "#bd3786"
             ],
             [
              0.5555555555555556,
              "#d8576b"
             ],
             [
              0.6666666666666666,
              "#ed7953"
             ],
             [
              0.7777777777777778,
              "#fb9f3a"
             ],
             [
              0.8888888888888888,
              "#fdca26"
             ],
             [
              1,
              "#f0f921"
             ]
            ],
            "type": "heatmapgl"
           }
          ],
          "histogram": [
           {
            "marker": {
             "colorbar": {
              "outlinewidth": 0,
              "ticks": ""
             }
            },
            "type": "histogram"
           }
          ],
          "histogram2d": [
           {
            "colorbar": {
             "outlinewidth": 0,
             "ticks": ""
            },
            "colorscale": [
             [
              0,
              "#0d0887"
             ],
             [
              0.1111111111111111,
              "#46039f"
             ],
             [
              0.2222222222222222,
              "#7201a8"
             ],
             [
              0.3333333333333333,
              "#9c179e"
             ],
             [
              0.4444444444444444,
              "#bd3786"
             ],
             [
              0.5555555555555556,
              "#d8576b"
             ],
             [
              0.6666666666666666,
              "#ed7953"
             ],
             [
              0.7777777777777778,
              "#fb9f3a"
             ],
             [
              0.8888888888888888,
              "#fdca26"
             ],
             [
              1,
              "#f0f921"
             ]
            ],
            "type": "histogram2d"
           }
          ],
          "histogram2dcontour": [
           {
            "colorbar": {
             "outlinewidth": 0,
             "ticks": ""
            },
            "colorscale": [
             [
              0,
              "#0d0887"
             ],
             [
              0.1111111111111111,
              "#46039f"
             ],
             [
              0.2222222222222222,
              "#7201a8"
             ],
             [
              0.3333333333333333,
              "#9c179e"
             ],
             [
              0.4444444444444444,
              "#bd3786"
             ],
             [
              0.5555555555555556,
              "#d8576b"
             ],
             [
              0.6666666666666666,
              "#ed7953"
             ],
             [
              0.7777777777777778,
              "#fb9f3a"
             ],
             [
              0.8888888888888888,
              "#fdca26"
             ],
             [
              1,
              "#f0f921"
             ]
            ],
            "type": "histogram2dcontour"
           }
          ],
          "mesh3d": [
           {
            "colorbar": {
             "outlinewidth": 0,
             "ticks": ""
            },
            "type": "mesh3d"
           }
          ],
          "parcoords": [
           {
            "line": {
             "colorbar": {
              "outlinewidth": 0,
              "ticks": ""
             }
            },
            "type": "parcoords"
           }
          ],
          "pie": [
           {
            "automargin": true,
            "type": "pie"
           }
          ],
          "scatter": [
           {
            "marker": {
             "colorbar": {
              "outlinewidth": 0,
              "ticks": ""
             }
            },
            "type": "scatter"
           }
          ],
          "scatter3d": [
           {
            "line": {
             "colorbar": {
              "outlinewidth": 0,
              "ticks": ""
             }
            },
            "marker": {
             "colorbar": {
              "outlinewidth": 0,
              "ticks": ""
             }
            },
            "type": "scatter3d"
           }
          ],
          "scattercarpet": [
           {
            "marker": {
             "colorbar": {
              "outlinewidth": 0,
              "ticks": ""
             }
            },
            "type": "scattercarpet"
           }
          ],
          "scattergeo": [
           {
            "marker": {
             "colorbar": {
              "outlinewidth": 0,
              "ticks": ""
             }
            },
            "type": "scattergeo"
           }
          ],
          "scattergl": [
           {
            "marker": {
             "colorbar": {
              "outlinewidth": 0,
              "ticks": ""
             }
            },
            "type": "scattergl"
           }
          ],
          "scattermapbox": [
           {
            "marker": {
             "colorbar": {
              "outlinewidth": 0,
              "ticks": ""
             }
            },
            "type": "scattermapbox"
           }
          ],
          "scatterpolar": [
           {
            "marker": {
             "colorbar": {
              "outlinewidth": 0,
              "ticks": ""
             }
            },
            "type": "scatterpolar"
           }
          ],
          "scatterpolargl": [
           {
            "marker": {
             "colorbar": {
              "outlinewidth": 0,
              "ticks": ""
             }
            },
            "type": "scatterpolargl"
           }
          ],
          "scatterternary": [
           {
            "marker": {
             "colorbar": {
              "outlinewidth": 0,
              "ticks": ""
             }
            },
            "type": "scatterternary"
           }
          ],
          "surface": [
           {
            "colorbar": {
             "outlinewidth": 0,
             "ticks": ""
            },
            "colorscale": [
             [
              0,
              "#0d0887"
             ],
             [
              0.1111111111111111,
              "#46039f"
             ],
             [
              0.2222222222222222,
              "#7201a8"
             ],
             [
              0.3333333333333333,
              "#9c179e"
             ],
             [
              0.4444444444444444,
              "#bd3786"
             ],
             [
              0.5555555555555556,
              "#d8576b"
             ],
             [
              0.6666666666666666,
              "#ed7953"
             ],
             [
              0.7777777777777778,
              "#fb9f3a"
             ],
             [
              0.8888888888888888,
              "#fdca26"
             ],
             [
              1,
              "#f0f921"
             ]
            ],
            "type": "surface"
           }
          ],
          "table": [
           {
            "cells": {
             "fill": {
              "color": "#EBF0F8"
             },
             "line": {
              "color": "white"
             }
            },
            "header": {
             "fill": {
              "color": "#C8D4E3"
             },
             "line": {
              "color": "white"
             }
            },
            "type": "table"
           }
          ]
         },
         "layout": {
          "annotationdefaults": {
           "arrowcolor": "#2a3f5f",
           "arrowhead": 0,
           "arrowwidth": 1
          },
          "coloraxis": {
           "colorbar": {
            "outlinewidth": 0,
            "ticks": ""
           }
          },
          "colorscale": {
           "diverging": [
            [
             0,
             "#8e0152"
            ],
            [
             0.1,
             "#c51b7d"
            ],
            [
             0.2,
             "#de77ae"
            ],
            [
             0.3,
             "#f1b6da"
            ],
            [
             0.4,
             "#fde0ef"
            ],
            [
             0.5,
             "#f7f7f7"
            ],
            [
             0.6,
             "#e6f5d0"
            ],
            [
             0.7,
             "#b8e186"
            ],
            [
             0.8,
             "#7fbc41"
            ],
            [
             0.9,
             "#4d9221"
            ],
            [
             1,
             "#276419"
            ]
           ],
           "sequential": [
            [
             0,
             "#0d0887"
            ],
            [
             0.1111111111111111,
             "#46039f"
            ],
            [
             0.2222222222222222,
             "#7201a8"
            ],
            [
             0.3333333333333333,
             "#9c179e"
            ],
            [
             0.4444444444444444,
             "#bd3786"
            ],
            [
             0.5555555555555556,
             "#d8576b"
            ],
            [
             0.6666666666666666,
             "#ed7953"
            ],
            [
             0.7777777777777778,
             "#fb9f3a"
            ],
            [
             0.8888888888888888,
             "#fdca26"
            ],
            [
             1,
             "#f0f921"
            ]
           ],
           "sequentialminus": [
            [
             0,
             "#0d0887"
            ],
            [
             0.1111111111111111,
             "#46039f"
            ],
            [
             0.2222222222222222,
             "#7201a8"
            ],
            [
             0.3333333333333333,
             "#9c179e"
            ],
            [
             0.4444444444444444,
             "#bd3786"
            ],
            [
             0.5555555555555556,
             "#d8576b"
            ],
            [
             0.6666666666666666,
             "#ed7953"
            ],
            [
             0.7777777777777778,
             "#fb9f3a"
            ],
            [
             0.8888888888888888,
             "#fdca26"
            ],
            [
             1,
             "#f0f921"
            ]
           ]
          },
          "colorway": [
           "#636efa",
           "#EF553B",
           "#00cc96",
           "#ab63fa",
           "#FFA15A",
           "#19d3f3",
           "#FF6692",
           "#B6E880",
           "#FF97FF",
           "#FECB52"
          ],
          "font": {
           "color": "#2a3f5f"
          },
          "geo": {
           "bgcolor": "white",
           "lakecolor": "white",
           "landcolor": "#E5ECF6",
           "showlakes": true,
           "showland": true,
           "subunitcolor": "white"
          },
          "hoverlabel": {
           "align": "left"
          },
          "hovermode": "closest",
          "mapbox": {
           "style": "light"
          },
          "paper_bgcolor": "white",
          "plot_bgcolor": "#E5ECF6",
          "polar": {
           "angularaxis": {
            "gridcolor": "white",
            "linecolor": "white",
            "ticks": ""
           },
           "bgcolor": "#E5ECF6",
           "radialaxis": {
            "gridcolor": "white",
            "linecolor": "white",
            "ticks": ""
           }
          },
          "scene": {
           "xaxis": {
            "backgroundcolor": "#E5ECF6",
            "gridcolor": "white",
            "gridwidth": 2,
            "linecolor": "white",
            "showbackground": true,
            "ticks": "",
            "zerolinecolor": "white"
           },
           "yaxis": {
            "backgroundcolor": "#E5ECF6",
            "gridcolor": "white",
            "gridwidth": 2,
            "linecolor": "white",
            "showbackground": true,
            "ticks": "",
            "zerolinecolor": "white"
           },
           "zaxis": {
            "backgroundcolor": "#E5ECF6",
            "gridcolor": "white",
            "gridwidth": 2,
            "linecolor": "white",
            "showbackground": true,
            "ticks": "",
            "zerolinecolor": "white"
           }
          },
          "shapedefaults": {
           "line": {
            "color": "#2a3f5f"
           }
          },
          "ternary": {
           "aaxis": {
            "gridcolor": "white",
            "linecolor": "white",
            "ticks": ""
           },
           "baxis": {
            "gridcolor": "white",
            "linecolor": "white",
            "ticks": ""
           },
           "bgcolor": "#E5ECF6",
           "caxis": {
            "gridcolor": "white",
            "linecolor": "white",
            "ticks": ""
           }
          },
          "title": {
           "x": 0.05
          },
          "xaxis": {
           "automargin": true,
           "gridcolor": "white",
           "linecolor": "white",
           "ticks": "",
           "title": {
            "standoff": 15
           },
           "zerolinecolor": "white",
           "zerolinewidth": 2
          },
          "yaxis": {
           "automargin": true,
           "gridcolor": "white",
           "linecolor": "white",
           "ticks": "",
           "title": {
            "standoff": 15
           },
           "zerolinecolor": "white",
           "zerolinewidth": 2
          }
         }
        },
        "title": {
         "text": "黃金價格與庫存量"
        },
        "xaxis": {
         "anchor": "y",
         "domain": [
          0,
          0.94
         ],
         "matches": "x2",
         "showticklabels": false
        },
        "xaxis2": {
         "anchor": "y3",
         "domain": [
          0,
          0.94
         ]
        },
        "yaxis": {
         "anchor": "x",
         "domain": [
          0.5,
          1
         ]
        },
        "yaxis2": {
         "anchor": "x",
         "overlaying": "y",
         "side": "right"
        },
        "yaxis3": {
         "anchor": "x2",
         "domain": [
          0,
          0.5
         ]
        },
        "yaxis4": {
         "anchor": "x2",
         "overlaying": "y3",
         "side": "right"
        }
       }
      },
      "text/html": [
       "<div>\n",
       "        \n",
       "        \n",
       "            <div id=\"10601bd5-ad9c-4864-a3c3-d1cf9dc77d27\" class=\"plotly-graph-div\" style=\"height:525px; width:100%;\"></div>\n",
       "            <script type=\"text/javascript\">\n",
       "                require([\"plotly\"], function(Plotly) {\n",
       "                    window.PLOTLYENV=window.PLOTLYENV || {};\n",
       "                    \n",
       "                if (document.getElementById(\"10601bd5-ad9c-4864-a3c3-d1cf9dc77d27\")) {\n",
       "                    Plotly.newPlot(\n",
       "                        '10601bd5-ad9c-4864-a3c3-d1cf9dc77d27',\n",
       "                        [{\"name\": \"\\u5eab\\u5b58\\u91cf\", \"opacity\": 0.3, \"showlegend\": true, \"type\": \"bar\", \"x\": [\"2021-12-21T00:00:00\", \"2021-12-22T00:00:00\", \"2021-12-23T00:00:00\", \"2021-12-27T00:00:00\", \"2021-12-28T00:00:00\", \"2021-12-29T00:00:00\", \"2021-12-30T00:00:00\", \"2021-12-31T00:00:00\", \"2022-01-03T00:00:00\", \"2022-01-04T00:00:00\", \"2022-01-05T00:00:00\", \"2022-01-06T00:00:00\", \"2022-01-07T00:00:00\", \"2022-01-10T00:00:00\", \"2022-01-11T00:00:00\", \"2022-01-12T00:00:00\", \"2022-01-13T00:00:00\", \"2022-01-14T00:00:00\", \"2022-01-18T00:00:00\", \"2022-01-19T00:00:00\", \"2022-01-20T00:00:00\", \"2022-01-21T00:00:00\", \"2022-01-24T00:00:00\", \"2022-01-25T00:00:00\", \"2022-01-26T00:00:00\", \"2022-01-27T00:00:00\", \"2022-01-28T00:00:00\", \"2022-01-31T00:00:00\", \"2022-02-01T00:00:00\", \"2022-02-02T00:00:00\", \"2022-02-03T00:00:00\", \"2022-02-04T00:00:00\", \"2022-02-07T00:00:00\", \"2022-02-08T00:00:00\", \"2022-02-09T00:00:00\", \"2022-02-10T00:00:00\", \"2022-02-11T00:00:00\", \"2022-02-14T00:00:00\", \"2022-02-15T00:00:00\", \"2022-02-16T00:00:00\", \"2022-02-17T00:00:00\", \"2022-02-18T00:00:00\", \"2022-02-22T00:00:00\", \"2022-02-23T00:00:00\", \"2022-02-24T00:00:00\", \"2022-02-25T00:00:00\", \"2022-02-28T00:00:00\", \"2022-03-01T00:00:00\", \"2022-03-02T00:00:00\", \"2022-03-03T00:00:00\", \"2022-03-04T00:00:00\", \"2022-03-07T00:00:00\", \"2022-03-08T00:00:00\", \"2022-03-09T00:00:00\", \"2022-03-10T00:00:00\", \"2022-03-11T00:00:00\", \"2022-03-14T00:00:00\", \"2022-03-15T00:00:00\", \"2022-03-16T00:00:00\", \"2022-03-17T00:00:00\", \"2022-03-18T00:00:00\", \"2022-03-21T00:00:00\", \"2022-03-22T00:00:00\", \"2022-03-23T00:00:00\", \"2022-03-24T00:00:00\", \"2022-03-25T00:00:00\", \"2022-03-28T00:00:00\", \"2022-03-29T00:00:00\", \"2022-03-30T00:00:00\", \"2022-03-31T00:00:00\", \"2022-04-01T00:00:00\", \"2022-04-04T00:00:00\", \"2022-04-05T00:00:00\", \"2022-04-06T00:00:00\", \"2022-04-07T00:00:00\", \"2022-04-08T00:00:00\", \"2022-04-11T00:00:00\", \"2022-04-12T00:00:00\", \"2022-04-13T00:00:00\", \"2022-04-14T00:00:00\", \"2022-04-18T00:00:00\", \"2022-04-19T00:00:00\", \"2022-04-20T00:00:00\", \"2022-04-21T00:00:00\", \"2022-04-22T00:00:00\", \"2022-04-25T00:00:00\", \"2022-04-26T00:00:00\", \"2022-04-27T00:00:00\", \"2022-04-28T00:00:00\", \"2022-04-29T00:00:00\", \"2022-05-02T00:00:00\", \"2022-05-03T00:00:00\", \"2022-05-04T00:00:00\", \"2022-05-05T00:00:00\", \"2022-05-06T00:00:00\", \"2022-05-09T00:00:00\", \"2022-05-10T00:00:00\", \"2022-05-11T00:00:00\", \"2022-05-12T00:00:00\", \"2022-05-13T00:00:00\", \"2022-05-16T00:00:00\", \"2022-05-17T00:00:00\", \"2022-05-18T00:00:00\", \"2022-05-19T00:00:00\", \"2022-05-20T00:00:00\", \"2022-05-23T00:00:00\", \"2022-05-24T00:00:00\", \"2022-05-25T00:00:00\", \"2022-05-26T00:00:00\", \"2022-05-27T00:00:00\", \"2022-05-31T00:00:00\", \"2022-06-01T00:00:00\", \"2022-06-02T00:00:00\", \"2022-06-03T00:00:00\", \"2022-06-06T00:00:00\", \"2022-06-07T00:00:00\", \"2022-06-08T00:00:00\"], \"xaxis\": \"x2\", \"y\": [978.57, 973.63, 973.63, 973.63, 973.63, 975.66, 975.66, 975.66, 975.66, 980.31, 979.99, 978.82, 977.08, 977.08, 976.21, 976.21, 976.21, 976.21, 976.21, 981.44, 980.86, 1008.45, 1008.45, 1013.1, 1014.26, 1014.26, 1014.26, 1017.75, 1018.04, 1016.59, 1014.84, 1011.6, 1011.6, 1015.96, 1015.96, 1015.96, 1019.44, 1019.44, 1019.44, 1019.44, 1019.44, 1024.09, 1024.09, 1029.31, 1029.31, 1026.99, 1029.02, 1042.38, 1050.22, 1050.22, 1054.28, 1062.7, 1067.34, 1063.28, 1061.53, 1064.15, 1064.15, 1061.83, 1070.53, 1073.44, 1082.44, 1083.6, 1083.6, 1087.66, 1087.66, 1093.18, 1093.18, 1091.44, 1091.44, 1091.44, 1091.73, 1089.98, 1087.3, 1087.3, 1087.3, 1090.49, 1090.49, 1093.1, 1104.42, 1099.49, 1100.36, 1106.74, 1106.74, 1104.13, 1104.13, 1101.23, 1101.23, 1095.71, 1095.71, 1094.55, 1092.23, 1089.04, 1089.04, 1084.98, 1082.0, 1075.9, 1068.65, 1066.62, 1060.82, 1055.89, 1053.28, 1049.21, 1049.21, 1056.18, 1063.43, 1068.07, 1068.07, 1069.81, 1069.81, 1069.81, 1068.36, 1067.2, 1066.04, 1066.04, 1063.06, 1063.06, 1065.39], \"yaxis\": \"y3\"}, {\"name\": \"\\u50f9\\u683c\", \"type\": \"scatter\", \"x\": [\"2021-12-21T00:00:00\", \"2021-12-22T00:00:00\", \"2021-12-23T00:00:00\", \"2021-12-27T00:00:00\", \"2021-12-28T00:00:00\", \"2021-12-29T00:00:00\", \"2021-12-30T00:00:00\", \"2021-12-31T00:00:00\", \"2022-01-03T00:00:00\", \"2022-01-04T00:00:00\", \"2022-01-05T00:00:00\", \"2022-01-06T00:00:00\", \"2022-01-07T00:00:00\", \"2022-01-10T00:00:00\", \"2022-01-11T00:00:00\", \"2022-01-12T00:00:00\", \"2022-01-13T00:00:00\", \"2022-01-14T00:00:00\", \"2022-01-18T00:00:00\", \"2022-01-19T00:00:00\", \"2022-01-20T00:00:00\", \"2022-01-21T00:00:00\", \"2022-01-24T00:00:00\", \"2022-01-25T00:00:00\", \"2022-01-26T00:00:00\", \"2022-01-27T00:00:00\", \"2022-01-28T00:00:00\", \"2022-01-31T00:00:00\", \"2022-02-01T00:00:00\", \"2022-02-02T00:00:00\", \"2022-02-03T00:00:00\", \"2022-02-04T00:00:00\", \"2022-02-07T00:00:00\", \"2022-02-08T00:00:00\", \"2022-02-09T00:00:00\", \"2022-02-10T00:00:00\", \"2022-02-11T00:00:00\", \"2022-02-14T00:00:00\", \"2022-02-15T00:00:00\", \"2022-02-16T00:00:00\", \"2022-02-17T00:00:00\", \"2022-02-18T00:00:00\", \"2022-02-22T00:00:00\", \"2022-02-23T00:00:00\", \"2022-02-24T00:00:00\", \"2022-02-25T00:00:00\", \"2022-02-28T00:00:00\", \"2022-03-01T00:00:00\", \"2022-03-02T00:00:00\", \"2022-03-03T00:00:00\", \"2022-03-04T00:00:00\", \"2022-03-07T00:00:00\", \"2022-03-08T00:00:00\", \"2022-03-09T00:00:00\", \"2022-03-10T00:00:00\", \"2022-03-11T00:00:00\", \"2022-03-14T00:00:00\", \"2022-03-15T00:00:00\", \"2022-03-16T00:00:00\", \"2022-03-17T00:00:00\", \"2022-03-18T00:00:00\", \"2022-03-21T00:00:00\", \"2022-03-22T00:00:00\", \"2022-03-23T00:00:00\", \"2022-03-24T00:00:00\", \"2022-03-25T00:00:00\", \"2022-03-28T00:00:00\", \"2022-03-29T00:00:00\", \"2022-03-30T00:00:00\", \"2022-03-31T00:00:00\", \"2022-04-01T00:00:00\", \"2022-04-04T00:00:00\", \"2022-04-05T00:00:00\", \"2022-04-06T00:00:00\", \"2022-04-07T00:00:00\", \"2022-04-08T00:00:00\", \"2022-04-11T00:00:00\", \"2022-04-12T00:00:00\", \"2022-04-13T00:00:00\", \"2022-04-14T00:00:00\", \"2022-04-18T00:00:00\", \"2022-04-19T00:00:00\", \"2022-04-20T00:00:00\", \"2022-04-21T00:00:00\", \"2022-04-22T00:00:00\", \"2022-04-25T00:00:00\", \"2022-04-26T00:00:00\", \"2022-04-27T00:00:00\", \"2022-04-28T00:00:00\", \"2022-04-29T00:00:00\", \"2022-05-02T00:00:00\", \"2022-05-03T00:00:00\", \"2022-05-04T00:00:00\", \"2022-05-05T00:00:00\", \"2022-05-06T00:00:00\", \"2022-05-09T00:00:00\", \"2022-05-10T00:00:00\", \"2022-05-11T00:00:00\", \"2022-05-12T00:00:00\", \"2022-05-13T00:00:00\", \"2022-05-16T00:00:00\", \"2022-05-17T00:00:00\", \"2022-05-18T00:00:00\", \"2022-05-19T00:00:00\", \"2022-05-20T00:00:00\", \"2022-05-23T00:00:00\", \"2022-05-24T00:00:00\", \"2022-05-25T00:00:00\", \"2022-05-26T00:00:00\", \"2022-05-27T00:00:00\", \"2022-05-31T00:00:00\", \"2022-06-01T00:00:00\", \"2022-06-02T00:00:00\", \"2022-06-03T00:00:00\", \"2022-06-06T00:00:00\", \"2022-06-07T00:00:00\", \"2022-06-08T00:00:00\"], \"xaxis\": \"x\", \"y\": [1793.75, 1792.8, 1805.2, 1805.2, 1805.2, 1794.25, 1805.85, 1805.85, 1805.85, 1811.4, 1826.25, 1789.35, 1792.6, 1794.2, 1806.8, 1821.4, 1820.35, 1822.95, 1817.25, 1826.95, 1845.35, 1837.6, 1831.6, 1847.3, 1835.95, 1806.75, 1788.15, 1795.25, 1799.85, 1803.65, 1792.7, 1804.7, 1813.55, 1822.6, 1822.6, 1835.35, 1831.15, 1866.15, 1848.55, 1862.6, 1893.45, 1893.6, 1900.1, 1904.7, 1936.3, 1884.8, 1909.85, 1922.0, 1928.5, 1929.6, 1945.3, 1980.95, 2039.05, 1988.9, 1996.6, 1978.7, 1954.05, 1913.65, 1913.2, 1949.65, 1935.8, 1935.05, 1915.25, 1931.75, 1965.2, 1953.8, 1937.05, 1937.05, 1933.85, 1942.15, 1929.4, 1930.3, 1944.05, 1930.15, 1930.15, 1941.4, 1951.55, 1960.85, 1976.75, 1963.25, 1963.25, 1964.0, 1949.55, 1943.7, 1941.55, 1895.0, 1904.6, 1885.8, 1888.5, 1911.3, 1911.3, 1869.7, 1863.65, 1892.3, 1882.35, 1860.9, 1857.35, 1851.95, 1837.05, 1811.55, 1809.5, 1825.0, 1810.65, 1844.0, 1834.2, 1856.2, 1867.1, 1847.2, 1848.25, 1851.8, 1838.7, 1844.9, 1844.9, 1844.9, 1847.2, 1849.6, 1849.6], \"yaxis\": \"y\"}, {\"mode\": \"markers+lines\", \"name\": \"\\u5468\\u5747\\u91cf\\u5dee\", \"type\": \"scatter\", \"x\": [\"2021-12-23T00:00:00\", \"2021-12-31T00:00:00\", \"2022-01-07T00:00:00\", \"2022-01-14T00:00:00\", \"2022-01-21T00:00:00\", \"2022-01-28T00:00:00\", \"2022-02-04T00:00:00\", \"2022-02-11T00:00:00\", \"2022-02-18T00:00:00\", \"2022-02-25T00:00:00\", \"2022-03-04T00:00:00\", \"2022-03-11T00:00:00\", \"2022-03-18T00:00:00\", \"2022-03-25T00:00:00\", \"2022-04-01T00:00:00\", \"2022-04-08T00:00:00\", \"2022-04-15T00:00:00\", \"2022-04-22T00:00:00\", \"2022-04-29T00:00:00\", \"2022-05-06T00:00:00\", \"2022-05-13T00:00:00\", \"2022-05-20T00:00:00\", \"2022-05-27T00:00:00\", \"2022-06-03T00:00:00\", \"2022-06-08T00:00:00\"], \"xaxis\": \"x2\", \"y\": [null, -1.2520000000000664, 3.5240000000001146, -1.9880000000000564, 10.355999999999995, 26.126000000000204, 2.897999999999911, 0.019999999999868123, 4.586000000000126, 7.054999999999836, 17.798999999999978, 18.576000000000022, 6.678000000000338, 16.66199999999958, 4.706000000000131, -3.372000000000071, 8.401000000000067, 7.545000000000073, -6.733999999999924, -10.228000000000065, -21.882000000000062, -11.31399999999985, 14.851999999999862, -2.2040000000001783, -3.0733333333330393], \"yaxis\": \"y4\"}],\n",
       "                        {\"template\": {\"data\": {\"bar\": [{\"error_x\": {\"color\": \"#2a3f5f\"}, \"error_y\": {\"color\": \"#2a3f5f\"}, \"marker\": {\"line\": {\"color\": \"#E5ECF6\", \"width\": 0.5}}, \"type\": \"bar\"}], \"barpolar\": [{\"marker\": {\"line\": {\"color\": \"#E5ECF6\", \"width\": 0.5}}, \"type\": \"barpolar\"}], \"carpet\": [{\"aaxis\": {\"endlinecolor\": \"#2a3f5f\", \"gridcolor\": \"white\", \"linecolor\": \"white\", \"minorgridcolor\": \"white\", \"startlinecolor\": \"#2a3f5f\"}, \"baxis\": {\"endlinecolor\": \"#2a3f5f\", \"gridcolor\": \"white\", \"linecolor\": \"white\", \"minorgridcolor\": \"white\", \"startlinecolor\": \"#2a3f5f\"}, \"type\": \"carpet\"}], \"choropleth\": [{\"colorbar\": {\"outlinewidth\": 0, \"ticks\": \"\"}, \"type\": \"choropleth\"}], \"contour\": [{\"colorbar\": {\"outlinewidth\": 0, \"ticks\": \"\"}, \"colorscale\": [[0.0, \"#0d0887\"], [0.1111111111111111, \"#46039f\"], [0.2222222222222222, \"#7201a8\"], [0.3333333333333333, \"#9c179e\"], [0.4444444444444444, \"#bd3786\"], [0.5555555555555556, \"#d8576b\"], [0.6666666666666666, \"#ed7953\"], [0.7777777777777778, \"#fb9f3a\"], [0.8888888888888888, \"#fdca26\"], [1.0, \"#f0f921\"]], \"type\": \"contour\"}], \"contourcarpet\": [{\"colorbar\": {\"outlinewidth\": 0, \"ticks\": \"\"}, \"type\": \"contourcarpet\"}], \"heatmap\": [{\"colorbar\": {\"outlinewidth\": 0, \"ticks\": \"\"}, \"colorscale\": [[0.0, \"#0d0887\"], [0.1111111111111111, \"#46039f\"], [0.2222222222222222, \"#7201a8\"], [0.3333333333333333, \"#9c179e\"], [0.4444444444444444, \"#bd3786\"], [0.5555555555555556, \"#d8576b\"], [0.6666666666666666, \"#ed7953\"], [0.7777777777777778, \"#fb9f3a\"], [0.8888888888888888, \"#fdca26\"], [1.0, \"#f0f921\"]], \"type\": \"heatmap\"}], \"heatmapgl\": [{\"colorbar\": {\"outlinewidth\": 0, \"ticks\": \"\"}, \"colorscale\": [[0.0, \"#0d0887\"], [0.1111111111111111, \"#46039f\"], [0.2222222222222222, \"#7201a8\"], [0.3333333333333333, \"#9c179e\"], [0.4444444444444444, \"#bd3786\"], [0.5555555555555556, \"#d8576b\"], [0.6666666666666666, \"#ed7953\"], [0.7777777777777778, \"#fb9f3a\"], [0.8888888888888888, \"#fdca26\"], [1.0, \"#f0f921\"]], \"type\": \"heatmapgl\"}], \"histogram\": [{\"marker\": {\"colorbar\": {\"outlinewidth\": 0, \"ticks\": \"\"}}, \"type\": \"histogram\"}], \"histogram2d\": [{\"colorbar\": {\"outlinewidth\": 0, \"ticks\": \"\"}, \"colorscale\": [[0.0, \"#0d0887\"], [0.1111111111111111, \"#46039f\"], [0.2222222222222222, \"#7201a8\"], [0.3333333333333333, \"#9c179e\"], [0.4444444444444444, \"#bd3786\"], [0.5555555555555556, \"#d8576b\"], [0.6666666666666666, \"#ed7953\"], [0.7777777777777778, \"#fb9f3a\"], [0.8888888888888888, \"#fdca26\"], [1.0, \"#f0f921\"]], \"type\": \"histogram2d\"}], \"histogram2dcontour\": [{\"colorbar\": {\"outlinewidth\": 0, \"ticks\": \"\"}, \"colorscale\": [[0.0, \"#0d0887\"], [0.1111111111111111, \"#46039f\"], [0.2222222222222222, \"#7201a8\"], [0.3333333333333333, \"#9c179e\"], [0.4444444444444444, \"#bd3786\"], [0.5555555555555556, \"#d8576b\"], [0.6666666666666666, \"#ed7953\"], [0.7777777777777778, \"#fb9f3a\"], [0.8888888888888888, \"#fdca26\"], [1.0, \"#f0f921\"]], \"type\": \"histogram2dcontour\"}], \"mesh3d\": [{\"colorbar\": {\"outlinewidth\": 0, \"ticks\": \"\"}, \"type\": \"mesh3d\"}], \"parcoords\": [{\"line\": {\"colorbar\": {\"outlinewidth\": 0, \"ticks\": \"\"}}, \"type\": \"parcoords\"}], \"pie\": [{\"automargin\": true, \"type\": \"pie\"}], \"scatter\": [{\"marker\": {\"colorbar\": {\"outlinewidth\": 0, \"ticks\": \"\"}}, \"type\": \"scatter\"}], \"scatter3d\": [{\"line\": {\"colorbar\": {\"outlinewidth\": 0, \"ticks\": \"\"}}, \"marker\": {\"colorbar\": {\"outlinewidth\": 0, \"ticks\": \"\"}}, \"type\": \"scatter3d\"}], \"scattercarpet\": [{\"marker\": {\"colorbar\": {\"outlinewidth\": 0, \"ticks\": \"\"}}, \"type\": \"scattercarpet\"}], \"scattergeo\": [{\"marker\": {\"colorbar\": {\"outlinewidth\": 0, \"ticks\": \"\"}}, \"type\": \"scattergeo\"}], \"scattergl\": [{\"marker\": {\"colorbar\": {\"outlinewidth\": 0, \"ticks\": \"\"}}, \"type\": \"scattergl\"}], \"scattermapbox\": [{\"marker\": {\"colorbar\": {\"outlinewidth\": 0, \"ticks\": \"\"}}, \"type\": \"scattermapbox\"}], \"scatterpolar\": [{\"marker\": {\"colorbar\": {\"outlinewidth\": 0, \"ticks\": \"\"}}, \"type\": \"scatterpolar\"}], \"scatterpolargl\": [{\"marker\": {\"colorbar\": {\"outlinewidth\": 0, \"ticks\": \"\"}}, \"type\": \"scatterpolargl\"}], \"scatterternary\": [{\"marker\": {\"colorbar\": {\"outlinewidth\": 0, \"ticks\": \"\"}}, \"type\": \"scatterternary\"}], \"surface\": [{\"colorbar\": {\"outlinewidth\": 0, \"ticks\": \"\"}, \"colorscale\": [[0.0, \"#0d0887\"], [0.1111111111111111, \"#46039f\"], [0.2222222222222222, \"#7201a8\"], [0.3333333333333333, \"#9c179e\"], [0.4444444444444444, \"#bd3786\"], [0.5555555555555556, \"#d8576b\"], [0.6666666666666666, \"#ed7953\"], [0.7777777777777778, \"#fb9f3a\"], [0.8888888888888888, \"#fdca26\"], [1.0, \"#f0f921\"]], \"type\": \"surface\"}], \"table\": [{\"cells\": {\"fill\": {\"color\": \"#EBF0F8\"}, \"line\": {\"color\": \"white\"}}, \"header\": {\"fill\": {\"color\": \"#C8D4E3\"}, \"line\": {\"color\": \"white\"}}, \"type\": \"table\"}]}, \"layout\": {\"annotationdefaults\": {\"arrowcolor\": \"#2a3f5f\", \"arrowhead\": 0, \"arrowwidth\": 1}, \"coloraxis\": {\"colorbar\": {\"outlinewidth\": 0, \"ticks\": \"\"}}, \"colorscale\": {\"diverging\": [[0, \"#8e0152\"], [0.1, \"#c51b7d\"], [0.2, \"#de77ae\"], [0.3, \"#f1b6da\"], [0.4, \"#fde0ef\"], [0.5, \"#f7f7f7\"], [0.6, \"#e6f5d0\"], [0.7, \"#b8e186\"], [0.8, \"#7fbc41\"], [0.9, \"#4d9221\"], [1, \"#276419\"]], \"sequential\": [[0.0, \"#0d0887\"], [0.1111111111111111, \"#46039f\"], [0.2222222222222222, \"#7201a8\"], [0.3333333333333333, \"#9c179e\"], [0.4444444444444444, \"#bd3786\"], [0.5555555555555556, \"#d8576b\"], [0.6666666666666666, \"#ed7953\"], [0.7777777777777778, \"#fb9f3a\"], [0.8888888888888888, \"#fdca26\"], [1.0, \"#f0f921\"]], \"sequentialminus\": [[0.0, \"#0d0887\"], [0.1111111111111111, \"#46039f\"], [0.2222222222222222, \"#7201a8\"], [0.3333333333333333, \"#9c179e\"], [0.4444444444444444, \"#bd3786\"], [0.5555555555555556, \"#d8576b\"], [0.6666666666666666, \"#ed7953\"], [0.7777777777777778, \"#fb9f3a\"], [0.8888888888888888, \"#fdca26\"], [1.0, \"#f0f921\"]]}, \"colorway\": [\"#636efa\", \"#EF553B\", \"#00cc96\", \"#ab63fa\", \"#FFA15A\", \"#19d3f3\", \"#FF6692\", \"#B6E880\", \"#FF97FF\", \"#FECB52\"], \"font\": {\"color\": \"#2a3f5f\"}, \"geo\": {\"bgcolor\": \"white\", \"lakecolor\": \"white\", \"landcolor\": \"#E5ECF6\", \"showlakes\": true, \"showland\": true, \"subunitcolor\": \"white\"}, \"hoverlabel\": {\"align\": \"left\"}, \"hovermode\": \"closest\", \"mapbox\": {\"style\": \"light\"}, \"paper_bgcolor\": \"white\", \"plot_bgcolor\": \"#E5ECF6\", \"polar\": {\"angularaxis\": {\"gridcolor\": \"white\", \"linecolor\": \"white\", \"ticks\": \"\"}, \"bgcolor\": \"#E5ECF6\", \"radialaxis\": {\"gridcolor\": \"white\", \"linecolor\": \"white\", \"ticks\": \"\"}}, \"scene\": {\"xaxis\": {\"backgroundcolor\": \"#E5ECF6\", \"gridcolor\": \"white\", \"gridwidth\": 2, \"linecolor\": \"white\", \"showbackground\": true, \"ticks\": \"\", \"zerolinecolor\": \"white\"}, \"yaxis\": {\"backgroundcolor\": \"#E5ECF6\", \"gridcolor\": \"white\", \"gridwidth\": 2, \"linecolor\": \"white\", \"showbackground\": true, \"ticks\": \"\", \"zerolinecolor\": \"white\"}, \"zaxis\": {\"backgroundcolor\": \"#E5ECF6\", \"gridcolor\": \"white\", \"gridwidth\": 2, \"linecolor\": \"white\", \"showbackground\": true, \"ticks\": \"\", \"zerolinecolor\": \"white\"}}, \"shapedefaults\": {\"line\": {\"color\": \"#2a3f5f\"}}, \"ternary\": {\"aaxis\": {\"gridcolor\": \"white\", \"linecolor\": \"white\", \"ticks\": \"\"}, \"baxis\": {\"gridcolor\": \"white\", \"linecolor\": \"white\", \"ticks\": \"\"}, \"bgcolor\": \"#E5ECF6\", \"caxis\": {\"gridcolor\": \"white\", \"linecolor\": \"white\", \"ticks\": \"\"}}, \"title\": {\"x\": 0.05}, \"xaxis\": {\"automargin\": true, \"gridcolor\": \"white\", \"linecolor\": \"white\", \"ticks\": \"\", \"title\": {\"standoff\": 15}, \"zerolinecolor\": \"white\", \"zerolinewidth\": 2}, \"yaxis\": {\"automargin\": true, \"gridcolor\": \"white\", \"linecolor\": \"white\", \"ticks\": \"\", \"title\": {\"standoff\": 15}, \"zerolinecolor\": \"white\", \"zerolinewidth\": 2}}}, \"title\": {\"text\": \"\\u9ec3\\u91d1\\u50f9\\u683c\\u8207\\u5eab\\u5b58\\u91cf\"}, \"xaxis\": {\"anchor\": \"y\", \"domain\": [0.0, 0.94], \"matches\": \"x2\", \"showticklabels\": false}, \"xaxis2\": {\"anchor\": \"y3\", \"domain\": [0.0, 0.94]}, \"yaxis\": {\"anchor\": \"x\", \"domain\": [0.5, 1.0]}, \"yaxis2\": {\"anchor\": \"x\", \"overlaying\": \"y\", \"side\": \"right\"}, \"yaxis3\": {\"anchor\": \"x2\", \"domain\": [0.0, 0.5]}, \"yaxis4\": {\"anchor\": \"x2\", \"overlaying\": \"y3\", \"side\": \"right\"}},\n",
       "                        {\"responsive\": true}\n",
       "                    ).then(function(){\n",
       "                            \n",
       "var gd = document.getElementById('10601bd5-ad9c-4864-a3c3-d1cf9dc77d27');\n",
       "var x = new MutationObserver(function (mutations, observer) {{\n",
       "        var display = window.getComputedStyle(gd).display;\n",
       "        if (!display || display === 'none') {{\n",
       "            console.log([gd, 'removed!']);\n",
       "            Plotly.purge(gd);\n",
       "            observer.disconnect();\n",
       "        }}\n",
       "}});\n",
       "\n",
       "// Listen for the removal of the full notebook cells\n",
       "var notebookContainer = gd.closest('#notebook-container');\n",
       "if (notebookContainer) {{\n",
       "    x.observe(notebookContainer, {childList: true});\n",
       "}}\n",
       "\n",
       "// Listen for the clearing of the current output cell\n",
       "var outputEl = gd.closest('.output');\n",
       "if (outputEl) {{\n",
       "    x.observe(outputEl, {childList: true});\n",
       "}}\n",
       "\n",
       "                        })\n",
       "                };\n",
       "                });\n",
       "            </script>\n",
       "        </div>"
      ]
     },
     "metadata": {},
     "output_type": "display_data"
    }
   ],
   "source": [
    "PlotKBar(df.tail(120),*df.columns)"
   ]
  },
  {
   "cell_type": "code",
   "execution_count": null,
   "metadata": {
    "ExecuteTime": {
     "start_time": "2022-06-09T04:07:03.724Z"
    }
   },
   "outputs": [],
   "source": [
    "!pip install -U kaleido"
   ]
  },
  {
   "cell_type": "code",
   "execution_count": 17,
   "metadata": {
    "ExecuteTime": {
     "end_time": "2022-06-09T03:59:03.091615Z",
     "start_time": "2022-06-09T03:59:03.076623Z"
    }
   },
   "outputs": [],
   "source": [
    "import plotly"
   ]
  },
  {
   "cell_type": "code",
   "execution_count": 19,
   "metadata": {
    "ExecuteTime": {
     "end_time": "2022-06-09T03:59:36.223365Z",
     "start_time": "2022-06-09T03:59:36.210002Z"
    }
   },
   "outputs": [],
   "source": [
    "plotly.io.orca.config.executable = r'C:\\users\\kevin\\appdata\\local\\programs\\python\\python37\\lib\\site-packages'\n",
    "plotly.io.orca.config.save()"
   ]
  },
  {
   "cell_type": "code",
   "execution_count": 16,
   "metadata": {
    "ExecuteTime": {
     "end_time": "2022-06-09T03:58:56.917054Z",
     "start_time": "2022-06-09T03:58:55.583699Z"
    }
   },
   "outputs": [
    {
     "name": "stdout",
     "output_type": "stream",
     "text": [
      "Name: orca\n",
      "Version: 1.6\n",
      "Summary: Python library for task orchestration\n",
      "Home-page: https://github.com/udst/orca\n",
      "Author: UrbanSim Inc.\n",
      "Author-email: info@urbansim.com\n",
      "License: BSD\n",
      "Location: c:\\users\\kevin\\appdata\\local\\programs\\python\\python37\\lib\\site-packages\n",
      "Requires: tables, pandas, toolz\n",
      "Required-by: \n"
     ]
    }
   ],
   "source": [
    "!pip show orca"
   ]
  }
 ],
 "metadata": {
  "hide_input": false,
  "kernelspec": {
   "display_name": "Python 3",
   "language": "python",
   "name": "python3"
  },
  "language_info": {
   "codemirror_mode": {
    "name": "ipython",
    "version": 3
   },
   "file_extension": ".py",
   "mimetype": "text/x-python",
   "name": "python",
   "nbconvert_exporter": "python",
   "pygments_lexer": "ipython3",
   "version": "3.7.8"
  },
  "toc": {
   "base_numbering": 1,
   "nav_menu": {},
   "number_sections": true,
   "sideBar": true,
   "skip_h1_title": false,
   "title_cell": "Table of Contents",
   "title_sidebar": "Contents",
   "toc_cell": false,
   "toc_position": {},
   "toc_section_display": true,
   "toc_window_display": false
  },
  "varInspector": {
   "cols": {
    "lenName": 16,
    "lenType": 16,
    "lenVar": 40
   },
   "kernels_config": {
    "python": {
     "delete_cmd_postfix": "",
     "delete_cmd_prefix": "del ",
     "library": "var_list.py",
     "varRefreshCmd": "print(var_dic_list())"
    },
    "r": {
     "delete_cmd_postfix": ") ",
     "delete_cmd_prefix": "rm(",
     "library": "var_list.r",
     "varRefreshCmd": "cat(var_dic_list()) "
    }
   },
   "types_to_exclude": [
    "module",
    "function",
    "builtin_function_or_method",
    "instance",
    "_Feature"
   ],
   "window_display": false
  }
 },
 "nbformat": 4,
 "nbformat_minor": 4
}
