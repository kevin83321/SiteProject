{
 "cells": [
  {
   "cell_type": "code",
   "execution_count": 1,
   "metadata": {
    "ExecuteTime": {
     "end_time": "2022-06-29T00:55:43.849961Z",
     "start_time": "2022-06-29T00:55:41.653673Z"
    }
   },
   "outputs": [],
   "source": [
    "import shioaji as sj\n",
    "# from pymongo import MongoClient\n",
    "from datetime import datetime, timedelta\n",
    "from pandas import DataFrame, to_datetime\n",
    "import numpy as np\n",
    "from Messenger.LineMessenger import LineMessenger as Line\n",
    "from time import sleep\n",
    "import pytz\n",
    "\n",
    "import warnings\n",
    "warnings.filterwarnings(\"ignore\")\n",
    "\n",
    "from DataIO import *\n",
    "from Utils import *\n",
    "\n",
    "from prettytable import PrettyTable\n",
    "import json\n",
    "import os \n",
    "parent = os.path.dirname(os.path.abspath(\"__file__\"))\n",
    "StrongPath = os.path.join(parent, 'StrongTickers')\n",
    "if not os.path.isdir(StrongPath):\n",
    "    os.makedirs(StrongPath)\n",
    "trade_result_path = os.path.join(parent, \"TradeRecord\")\n",
    "if not os.path.isdir(trade_result_path):\n",
    "    os.makedirs(trade_result_path)"
   ]
  },
  {
   "cell_type": "code",
   "execution_count": 2,
   "metadata": {
    "ExecuteTime": {
     "end_time": "2022-06-29T00:56:02.181794Z",
     "start_time": "2022-06-29T00:56:01.851653Z"
    },
    "code_folding": [
     63,
     93,
     147,
     227,
     277,
     416,
     440
    ]
   },
   "outputs": [],
   "source": [
    "class DataObject:\n",
    "    \n",
    "    opening = False\n",
    "    closing = False\n",
    "    pre_time = \"09:00:00\"\n",
    "    name:str=\"\"\n",
    "    pre_volume:int = 0\n",
    "    pre_close:int = 0\n",
    "    total_v:int = 0\n",
    "    q20_data:dict = {}\n",
    "    q80_data:dict = {} \n",
    "    open_threshold:float = 0\n",
    "    _api = None\n",
    "    symbol:str = \"\"\n",
    "    refPrice:float = 0\n",
    "    entry_percent:float = .06\n",
    "    exit_percent:float = .09\n",
    "    sl_ratio:float = .03\n",
    "    short_sl_ratio:float = .02\n",
    "    v_threshold:float = .01\n",
    "    entry_threshold:float = 0\n",
    "    exit_threshold:float = 0\n",
    "    max_ret:float = 0\n",
    "    tmp_ret:float = 0\n",
    "    pos = 0\n",
    "    traded = 0\n",
    "    entry = 0\n",
    "    entry_time = \"\"\n",
    "    trade_value = 0\n",
    "    order = None\n",
    "    onOrderProcess = False\n",
    "\n",
    "    preHigh = None\n",
    "    preLow = None\n",
    "    sl_threshold = 0\n",
    "    \n",
    "    open_l = None\n",
    "    open_h = None\n",
    "    \n",
    "    long_traded = 0\n",
    "    short_traded = 0\n",
    "    \n",
    "    pnl:float = 0\n",
    "    \n",
    "    def __init__(self, contract, open_threshold:float, api=None, PreData:dict=None,\n",
    "                 v_threshold:float=.01, entry_percent:float=.06, exit_percent:float=.09, \n",
    "                 takeprofit:float=.6, start_moving_take = .015, sl_ratio:float=.02, max_size:float = 1):\n",
    "        self.contract = contract\n",
    "        self.open_threshold = open_threshold\n",
    "        self.entry_percent = entry_percent\n",
    "        self.exit_percent = exit_percent\n",
    "        self.takeprofit = takeprofit\n",
    "        self.start_moving_take = start_moving_take\n",
    "        self.sl_ratio = sl_ratio\n",
    "        self.v_threshold = v_threshold\n",
    "        self._initialByContract(contract)\n",
    "        self.max_size = max_size\n",
    "        self._api = api\n",
    "        self.first_5mink = {'open':None, 'high':0,'low':9999, 'close':0}\n",
    "        if PreData:\n",
    "            self.preHigh = PreData['PreHigh']\n",
    "            self.preLow = PreData['PreLow']\n",
    "        \n",
    "    def _initialByContract(self, contract):\n",
    "        self.symbol = contract.code\n",
    "        self.refPrice = contract.reference\n",
    "        self.entry_threshold = self.refPrice * (1 + self.entry_percent)\n",
    "        self.exit_threshold = self.refPrice * (1 + self.exit_percent)\n",
    "        self.name = contract.name\n",
    "        self.barG = BarGenerator(self.symbol, callback=self.updateSignalWithBar)#, date=date)\n",
    "        \n",
    "    def updateQ20Dict(self, data:dict={}):\n",
    "#         print(data)\n",
    "        if data is None:return\n",
    "        if data['simulate'] :return\n",
    "        if data['symbol'] != self.symbol: return\n",
    "        self.q20_data = data\n",
    "        self.q20_data['timeStr'] = self.q20_data['datetime'].strftime(\"%H:%M:%S\")\n",
    "#         total_volume += qty\n",
    "        self.updateSignal()\n",
    "        self.updateStatus()\n",
    "        try:\n",
    "            tick = TickData(time=data['datetime'], close=data['close'],volume=data['qty'])\n",
    "            self.barG.updateBar(tick)\n",
    "        except Exception as e:\n",
    "            print(f\"update Tick and Bar, Error :{e}\")\n",
    "    \n",
    "    def updateQ80Dict(self, data:dict):\n",
    "\n",
    "#         print(data)\n",
    "        if data['symbol'] != self.symbol: return\n",
    "        self.q80_data = data\n",
    "    \n",
    "    def updateOrderDeal(self, stat, data):\n",
    "        \n",
    "        if not (self.closing or self.opening): return \n",
    "        signal_time = datetime.now().strftime(\"%Y-%m-%d %H:%M:%S.%f\")\n",
    "        if stat == sj.constant.OrderState.TFTOrder:\n",
    "            if data['status']['cancel_quantity'] == data['order']['quantity']:\n",
    "                self.opening = self.closing = onOrderProcess = False\n",
    "                return\n",
    "        elif stat == sj.constant.OrderState.TFTDeal:\n",
    "            self.pos += (1 if data['action'] == sj.constant.Action.Buy else -1) * data['quantity']\n",
    "            if self.pos:\n",
    "                self.entry = data['price']\n",
    "                print(f\"{self.symbol} current pos = {self.pos} with entry price = {self.entry}\")\n",
    "                self.sl_threshold = self.entry * (1 - self.sl_ratio * np.sign(self.pos))\n",
    "                self.entry_time = signal_time\n",
    "                self.opening = False\n",
    "                if self.pos < 0:\n",
    "                    self.short_sl_ratio = max(self.open_h / self.entry - 1, self.sl_ratio)\n",
    "                    self.sl_threshold = self.entry * (1 - self.short_sl_ratio * np.sign(self.pos))\n",
    "            else:\n",
    "                exit = data['price']\n",
    "#                 signal_time = datetime.now().strftime(\"%Y-%m-%d %H:%M:%S.%f\")\n",
    "                print(f\"{self.symbol}, exit price : {exit}\")\n",
    "#                 tmp_pnl = (exit - self.entry) * 1000 * (1 if data['action'] == sj.constant.Action.Sell else -1)\n",
    "#                 tmp_pnl -= int(get_commission(self.entry if data['action'] == sj.constant.Action.Sell else exit)) # 進場成本\n",
    "#                 tmp_pnl -= int(get_commission(exit if data['action'] == sj.constant.Action.Sell else self.entry, direction='EXIT', dayTrade=True)) # 出場成本\n",
    "                tmp_pnl = self.calculatePnL(self.entry, exit, data['action'])\n",
    "                tmp_ret = tmp_pnl / (self.entry * 1000) # - 1\n",
    "                self.pnl += tmp_pnl\n",
    "\n",
    "                cover_text = '\\n\\n---------------PnL Summary--------------\\n'\n",
    "                cover_text = f'時間 : {datetime.now().strftime(\"%Y-%m-%d %H:%M:%S\")}\\n'\n",
    "                cover_text += f'Exit Position of {self.symbol} {self.name}\\n'\n",
    "                cover_text += f'Entry : {self.entry} at {self.entry_time.split(\".\")[0]}\\n'\n",
    "                cover_text += f'Exit : {exit} at {signal_time.split(\".\")[0]}\\n'\n",
    "                cover_text += f'Partial PnL with Cost : {round(tmp_pnl)}\\n'\n",
    "                cover_text += f'Total PnL with Cost : {round(self.pnl)}\\n'\n",
    "                cover_text += f'Total Ret with Cost : {round(self.tmp_ret * 100, 2)}%\\n'\n",
    "                cover_text += f'Total PnL with Cost of max size \"{self.max_size}\": {self.max_size * round(self.pnl)}\\n'\n",
    "                cover_text += f'Trade Value: {self.entry * 1000}\\n'\n",
    "                Line.sendMessage(cover_text)\n",
    "                print('\\n---------------PnL Summary--------------')\n",
    "                print(cover_text)\n",
    "                if data['action'] == sj.constant.Action.Buy:\n",
    "                    self.short_traded = 1\n",
    "                else:\n",
    "                    self.long_traded = 1\n",
    "                self.traded = (self.long_traded and self.short_traded) or self.pnl > 0\n",
    "                self.closing = False\n",
    "                self.max_ret = self.tmp_ret = 0\n",
    "                self.entry_time = \"\"\n",
    "                self.trade_value += (self.entry if data['action'] == sj.constant.Action.Sell else exit) * 1000\n",
    "                self.entry = 0\n",
    "        \n",
    "    def calculatePnL(self, entry, exit, side=None, simulate=False, pos = 0):\n",
    "        tmp_pnl = 0\n",
    "        if pos:\n",
    "            tmp_pnl += (exit - entry) * 1000 * pos\n",
    "            tmp_pnl -= int(get_commission(entry if pos > 0 else exit)) # 進場成本\n",
    "            tmp_pnl -= int(get_commission(exit if pos > 0 else entry, direction='EXIT', dayTrade=True)) # 出場成本\n",
    "        else:\n",
    "            if simulate:\n",
    "                tmp_pnl += (exit - entry) * 1000 * (1 if side == 'S' else -1)\n",
    "                tmp_pnl -= int(get_commission(entry if side == 'S' else exit)) # 進場成本\n",
    "                tmp_pnl -= int(get_commission(exit if side == 'S' else entry, direction='EXIT', dayTrade=True)) # 出場成本\n",
    "            else:\n",
    "                tmp_pnl += (exit - entry) * 1000 * (1 if side == sj.constant.Action.Sell else -1)\n",
    "                tmp_pnl -= int(get_commission(entry if side == sj.constant.Action.Sell else exit)) # 進場成本\n",
    "                tmp_pnl -= int(get_commission(exit if side == sj.constant.Action.Sell else entry, direction='EXIT', dayTrade=True)) # 出場成本\n",
    "        return tmp_pnl\n",
    "    \n",
    "    def updateStatus(self):\n",
    "        \"\"\"\n",
    "        Chech position profit loss\n",
    "        \"\"\"\n",
    "        if not self.pos: return\n",
    "        if self.traded: return\n",
    "        if self.closing or self.opening: \n",
    "            return\n",
    "        close = self.q20_data['close']\n",
    "        tmp_pnl = self.calculatePnL(self.entry, close, pos=np.sign(self.pos), simulate=False)#, simulate=False)\n",
    "        if self.pos > 0:\n",
    "            self.tmp_ret = ((close / self.entry) - 1) * np.sign(self.pos)\n",
    "        else:\n",
    "            self.tmp_ret = (tmp_pnl / (self.entry * 1000))# - 1\n",
    "#         self.tmp_ret = ((close / self.entry) - 1) * self.pos\n",
    "        \n",
    "        if self.tmp_ret > self.max_ret:\n",
    "            self.sl_threshold = close * (1 - self.sl_ratio * np.sign(self.pos))\n",
    "#             self.sl_threshold = self.entry * (1 - self.sl_ratio * self.pos)\n",
    "            if self.pos < 0:\n",
    "                self.sl_threshold = close * (1 - self.short_sl_ratio * np.sign(self.pos))\n",
    "                if self.max_ret >= self.sl_ratio:\n",
    "                    self.short_sl_ratio = self.sl_ratio\n",
    "                    self.sl_threshold = close * (1 - self.sl_ratio * np.sign(self.pos))\n",
    "#                 self.sl_threshold = min(self.sl_threshold, (self.open_h + self.open_l) / 2)\n",
    "        self.max_ret = max(self.max_ret, self.tmp_ret)\n",
    "        # print(self.symbol, self.tmp_ret, self.max_ret, close, self.pos)\n",
    "        \n",
    "        do_exit_take = False\n",
    "        if self.pos > 0:\n",
    "            do_exit_take = (self.tmp_ret >= 0.01)\n",
    "        elif self.pos < 0:\n",
    "            if not self.long_traded:\n",
    "                do_exit_take = (self.tmp_ret >= 0.01)\n",
    "            try:\n",
    "                if (self.entry_time.split(' ')[1] >= \"12:00:00.000000\"):\n",
    "                    do_exit_take = (self.tmp_ret >= 0.01)\n",
    "            except:\n",
    "                if (self.entry_time.split(' ')[0] >= \"12:00:00.000000\"):\n",
    "                    do_exit_take = (self.tmp_ret >= 0.01)\n",
    "#         do_exit_take = (self.tmp_ret >= 0.01) and ((self.entry_time.split(' ')[1] >= \"12:00:00.000000\") or (self.pos > 0))\n",
    "#         do_exit_take = self.tmp_ret >= .01\n",
    "#         if self.max_ret >= self.start_moving_take:\n",
    "#             do_exit_take = (self.tmp_ret / self.max_ret) <= (self.takeprofit) if self.max_ret else False\n",
    "        do_exit_stop = close > self.sl_threshold if self.pos == -1 else close < self.sl_threshold\n",
    "#         print(close > self.sl_threshold if self.pos == -1 else close < self.sl_threshold, (close * self.pos) > (self.sl_threshold * self.pos))\n",
    "        do_exit = close >= self.exit_threshold if self.pos > 0 else close <= (self.refPrice * (1 - self.exit_percent))\n",
    "        exit_end = self.q20_data['timeStr'] >= '13:00:00:000000'\n",
    "        if any([do_exit, do_exit_take, do_exit_stop, exit_end]):\n",
    "            print(f\"{self.symbol} Exit with condition : do_exit : {do_exit}, do_exit_take :{do_exit_take}, do_exit_stop : {do_exit_stop}, exit_end : {exit_end}\")\n",
    "#             print(self.tmp_ret >= 0.01, self.entry_time.split(' ')[1] >= \"12:00:00.000000\", self.pos == 1)\n",
    "            self.closing=True\n",
    "            self.DoTrade('S' if self.pos > 0 else 'B', True)\n",
    "            exit_string = \"停利\"\n",
    "            if do_exit_stop:\n",
    "                exit_string = \"停損\"\n",
    "            if do_exit:\n",
    "                exit_string = \"最佳出場位置\"\n",
    "            if exit_end:\n",
    "                exit_string = \"提前出場\"\n",
    "            self.sendNotifyExit(self.q20_data['timeStr'], self.symbol, self.name,\n",
    "                             close, self.q20_data['pct_chg'], exit_string)\n",
    "    \n",
    "    def updateSignal(self):\n",
    "        try:\n",
    "            if not self.q20_data : return\n",
    "            if self.pos: return\n",
    "            if self.long_traded or self.traded: return\n",
    "            totalV = self.q20_data['totalQty']\n",
    "            close = self.q20_data['close']\n",
    "            volume = self.q20_data['qty']\n",
    "            if self.q20_data['timeStr'] != self.pre_time:\n",
    "                self.total_v = volume\n",
    "                self.pre_time = self.q20_data['timeStr']\n",
    "                self.pre_volume = totalV\n",
    "            else:\n",
    "                self.total_v += volume\n",
    "            if not self.pre_close: \n",
    "                self.pre_close = close\n",
    "                if self.first_5mink['open'] is None:\n",
    "                    self.first_5mink['open'] = close\n",
    "                self.first_5mink['high'] = max(self.first_5mink['high'], close)\n",
    "                self.first_5mink['low'] = min(self.first_5mink['low'], close)\n",
    "                self.first_5mink['close'] = close\n",
    "                self.pre_volume = totalV\n",
    "                return\n",
    "\n",
    "            self.pre_volume = totalV\n",
    "            signal_type = \"\"\n",
    "            if self.q20_data['timeStr'] < '09:05:00:000000':\n",
    "                self.first_5mink['high'] = max(self.first_5mink['high'], close)\n",
    "                self.first_5mink['low'] = min(self.first_5mink['low'], close)\n",
    "                self.first_5mink['close'] = close\n",
    "\n",
    "            else: \n",
    "                if self.q20_data['timeStr'] >= '13:00:00:000000': return\n",
    "                if all([not self.closing, not self.opening]):\n",
    "                    sig = 0\n",
    "                    if close >= max(self.first_5mink['open'], self.first_5mink['close'], self.preHigh if self.preHigh else 0) * 1.005 and close <= self.entry_threshold:\n",
    "                        print(\"Entry Long signal with Cross Over\")\n",
    "                        signal_type = \"跟上起飛的節奏\"\n",
    "                        sig = 1\n",
    "                    if sig and not self.opening:\n",
    "                        self.opening = True\n",
    "                        self.DoTrade('B' if sig > 0 else 'S', True)\n",
    "                        self.sendNotify(self.q20_data['datetime'].strftime(\"%H:%M:%S.%f\"), self.symbol, self.name,\n",
    "                                        close, self.q20_data['pct_chg'], 'B' if sig > 0 else 'S',\n",
    "                                        signal_type = signal_type)\n",
    "            self.pre_close = close\n",
    "        except Exception as e:\n",
    "            print(f\"Update signal of {self.symbol}, Error : {e}\")\n",
    "            \n",
    "        \n",
    "    def updateSignalWithBar(self, update_bar):\n",
    "        try:\n",
    "            signal_type = \"\"\n",
    "            if not self.q20_data : return\n",
    "            if len(self.barG.bars) < 2:\n",
    "                return\n",
    "            if len(self.barG.bars) >= 3 and not (self.open_h or self.open_l):\n",
    "                self.open_h = max(self.barG.highs[:2])\n",
    "                self.open_l = min(self.barG.lows[:2])\n",
    "                print(f\"{self.symbol}, open_h : {self.open_h}, open_l : {self.open_l}\")\n",
    "            if not (self.open_h or self.open_l): return\n",
    "            if self.pos: return\n",
    "            if self.short_traded or self.traded: return\n",
    "            if self.q20_data['timeStr'] >= '13:00:00:000000': return\n",
    "            price = self.q20_data['close']\n",
    "            sig = 0\n",
    "#             print(update_bar)\n",
    "            if self.open_l:\n",
    "                if price < self.open_l and self.q20_data['timeStr'] >= \"12:00:00.000000\" and not self.short_traded:\n",
    "                    if price > self.refPrice * (1 - self.entry_percent):\n",
    "                        print(f\"Entry Short signal with price touch for {self.symbol}\")\n",
    "                        signal_type = \"尾盤追殺\"\n",
    "                        sig = -1\n",
    "                elif update_bar:\n",
    "                    \n",
    "#                     print(update_bar['close'], self.open_l, update_bar['low'], self.refPrice)\n",
    "                    if update_bar['close'] < self.open_l and not self.short_traded: # update_bar['open']\n",
    "                        if price > self.refPrice * (1 - self.entry_percent):\n",
    "                            if self.open_h >=  self.refPrice * (1 + self.exit_percent):return\n",
    "                            print(f\"5m Bar CLose :{update_bar['close']}, open low : {self.open_l}\")\n",
    "                            print(\"Entry Short signal with price low open threshold\")\n",
    "                            signal_type = \"破開盤底等跳水\"\n",
    "                            sig = -1\n",
    "                    elif update_bar['close'] > self.open_l and update_bar['low'] < self.open_l and not self.long_traded:\n",
    "                        if price < self.refPrice * (1 + self.entry_percent):\n",
    "                            print(\"Entry Long signal with V Turn\")\n",
    "                            signal_type = \"V轉做多\"\n",
    "                            sig = 1\n",
    "            if sig and not self.opening:\n",
    "                self.opening = True\n",
    "                self.DoTrade('B' if sig > 0 else 'S', True)\n",
    "                self.sendNotify(self.q20_data['timeStr'], self.symbol, self.name,\n",
    "                                price, self.q20_data['pct_chg'], 'B' if sig > 0 else 'S', \n",
    "                                signal_type = signal_type)\n",
    "        except Exception as e:\n",
    "            print(f\"Update signal with bar of {self.symbol}, Error : {e}\")\n",
    "        \n",
    "        \n",
    "    def DoTrade(self, side, simulate=False):\n",
    "        try:\n",
    "            close = self.q20_data['close']\n",
    "            #=========\n",
    "            # RealTime\n",
    "            #=========\n",
    "            if not simulate:\n",
    "                if not self._api:return\n",
    "                order_price = self.q80_data['ask1'] if side == 'B' else self.q80_data['bid1']\n",
    "                print(f\"{self.symbol}, close : {close}, entry price : {order_price}\")\n",
    "                if abs(order_price / close - 1) >= .005:\n",
    "                    order_price = close\n",
    "                order = self._api.Order(\n",
    "                    price=order_price,\n",
    "                    quantity=1,\n",
    "                    action=sj.constant.Action.Buy if side == 'B' else sj.constant.Action.Sell,\n",
    "                    price_type=sj.constant.StockPriceType.LMT,\n",
    "                    order_type=sj.constant.TFTOrderType.ROD,\n",
    "                    first_sell=sj.constant.StockFirstSell.Yes,# if side == 'S' else sj.constant.StockFirstSell.No,\n",
    "                )\n",
    "                self.order = self._api.place_order(self.contract, order)\n",
    "                if self.order.status.status in [sj.constant.Status.PendingSubmit, sj.constant.Status.Submitted]:\n",
    "                    if not self.pos:\n",
    "                        self.opening = True\n",
    "                    else:\n",
    "                        self.closing = True\n",
    "            #=========\n",
    "            # Simulate\n",
    "            #=========\n",
    "            else:\n",
    "                if not any([self.opening, self.closing]):return\n",
    "#                 if self.pos: return\n",
    "                self.pos += 1 if side == 'B' else -1\n",
    "                signal_time = self.q20_data[\"timeStr\"]#.strftime(\"%H:%M:%S.%f\")\n",
    "                if self.pos == 0:\n",
    "                    self.traded = True\n",
    "                    exit = self.q80_data['ask1'] if side == 'B' else self.q80_data['bid1']\n",
    "                    print(f\"{self.symbol}, close : {close}, exit price : {exit}\")\n",
    "                    if abs(exit / close - 1) >= .005:\n",
    "                        exit = close\n",
    "                    tmp_pnl = (exit - self.entry) * 1000 * (1 if side == 'S' else -1)\n",
    "                    tmp_pnl -= int(get_commission(self.entry if side == 'S' else exit)) # 進場成本\n",
    "                    tmp_pnl -= int(get_commission(exit if side == 'S' else self.entry, direction='EXIT', dayTrade=True)) # 出場成本\n",
    "                    tmp_ret = tmp_pnl / (self.entry * 1000) # - 1\n",
    "                    self.pnl += tmp_pnl\n",
    "                    self.trade_value += self.entry * 1000\n",
    "\n",
    "\n",
    "                    cover_text = '\\n\\n---------------PnL Summary--------------\\n'\n",
    "                    cover_text = f'時間 : {datetime.now().strftime(\"%Y-%m-%d %H:%M:%S.%f\")}\\n'\n",
    "                    cover_text += f'Exit Position of {self.symbol} {self.name}\\n'\n",
    "                    cover_text += f'Entry : {self.entry} at {self.entry_time}\\n'\n",
    "                    cover_text += f'Exit : {exit} at {signal_time}\\n'\n",
    "                    cover_text += f'Total PnL with Cost : {round(tmp_pnl)}\\n'\n",
    "                    cover_text += f'Total Ret with Cost : {round(tmp_ret * 100, 2)}%\\n'\n",
    "                    cover_text += f'Total PnL with Cost of max size \"{self.max_size}\": {self.max_size * round(tmp_pnl)}\\n'\n",
    "                    cover_text += f'Trade Value: {self.entry * 1000}\\n'\n",
    "                    Line.sendMessage(cover_text)\n",
    "#                     print('\\n---------------PnL Summary--------------')\n",
    "                    print(cover_text)\n",
    "\n",
    "    #                 cover_text = '\\n\\n---------------PnL Summary--------------\\n'\n",
    "    #                 cover_text = f'時間 : {datetime.now().strftime(\"%Y-%m-%d %H:%M:%S.%f\")}\\n'\n",
    "    #                 cover_text += f'Exit Position of {self.symbol}\\n'\n",
    "    #                 cover_text += f'Entry : {self.entry} at {self.entry_time}\\n'\n",
    "    #                 cover_text += f'Exit : {exit} at {signal_time}\\n'\n",
    "    #                 cover_text += f'Partial PnL with Cost : {round(tmp_pnl)}\\n'\n",
    "    #                 cover_text += f'Total PnL with Cost : {round(tmp_pnl)}\\n'\n",
    "    #                 cover_text += f'Total Ret with Cost : {round(tmp_ret * 100, 2)}%\\n'\n",
    "    #                 cover_text += f'Total PnL with Cost of max size \"{self.max_size}\": {self.max_size * round(tmp_pnl)}\\n'\n",
    "    #                 cover_text += f'Trade Value: {round(self.entry * 1000)}\\n'\n",
    "    #                 Line.sendMessage(cover_text)\n",
    "    #                 print('\\n---------------PnL Summary--------------')\n",
    "    #                 print(f'Exit Position of {self.contract.code}')\n",
    "    #                 print(f'Entry : {self.entry} at {self.entry_time}')\n",
    "    #                 print(f'Exit : {exit} at {signal_time}')\n",
    "    #                 print(f'Total PnL with Cost : {round(tmp_pnl)}')\n",
    "    #                 print(f'Total Ret with Cost : {round(tmp_ret * 100, 2)}%')\n",
    "    #                 print(f'Total PnL with Cost of max size {self.max_size}: {self.max_size * round(tmp_pnl)}\\n')\n",
    "\n",
    "                    self.entry = 0\n",
    "                    self.closing = False\n",
    "                    return\n",
    "                self.entry = self.q80_data['ask1'] if side == 'B' else self.q80_data['bid1']\n",
    "                print(f\"{self.symbol}, close : {close}, entry price : {self.entry}\")\n",
    "                if abs(self.entry / close - 1) >= .005:\n",
    "                    self.entry = close\n",
    "                self.sl_threshold = self.entry * (1 - self.sl_ratio)\n",
    "                self.entry_time = signal_time\n",
    "                self.opening = False\n",
    "        except Exception as e:\n",
    "            print(f\"Trade of {self.symbol}, Error : {e}\")\n",
    "    def sendNotify(self, dateStr, idx, name, \n",
    "                   close, Ret, Side=\"B\", signal_type=\"\"):#, TVRatio, EVRatio):\n",
    "        try:\n",
    "            text = f'時間 : {dateStr}\\n'\n",
    "            text += f'股票代號/名稱 : {idx}/{name}\\n'\n",
    "            if Side == \"B\":\n",
    "                text += f'觸發條件 : 突破第一個5分K高點\\n'\n",
    "                text += f'進場方向 : 做多\\n'\n",
    "            else:\n",
    "                text += f'觸發條件 : 突破第一個5分K低點\\n'\n",
    "                text += f'進場方向 : 做空\\n'\n",
    "            text += f'成交價 : {close}\\n'\n",
    "            \n",
    "            \n",
    "            # 漲跌幅量\n",
    "            text += f'漲跌幅 : {Ret} %\\n'\n",
    "            # text += f'量比(總/估) {TVRatio}/{EVRatio}\\n'\n",
    "            # text += '其他提醒 : \\n'\n",
    "            text += f'訊號類型 : {signal_type}\\n'\n",
    "            \n",
    "            Line.sendMessage(text)\n",
    "        except Exception as e:\n",
    "            print(e)\n",
    "\n",
    "    def sendNotifyExit(self, dateStr, idx, name, \n",
    "                   close, Ret, exit_string=\"\"):\n",
    "        try:\n",
    "            text = f'時間 : {dateStr}\\n'\n",
    "            text += f'股票代號/名稱 : {idx}/{name}\\n'\n",
    "            text += f'觸發出場條件 : \\n\\t已達到( {exit_string} )條件囉\\n'\n",
    "            text += f'成交價 : {close}\\n'\n",
    "            \n",
    "            # 漲跌幅量\n",
    "            text += f'漲跌幅 : {Ret} %\\n'\n",
    "            # text += f'量比(總/估) {TVRatio}/{EVRatio}\\n'\n",
    "            # text += '其他提醒 : \\n'\n",
    "            \n",
    "            Line.sendMessage(text)\n",
    "        except Exception as e:\n",
    "            print('send Exit, Error : ' + e)"
   ]
  },
  {
   "cell_type": "code",
   "execution_count": 3,
   "metadata": {
    "ExecuteTime": {
     "end_time": "2022-06-29T00:56:03.201403Z",
     "start_time": "2022-06-29T00:56:03.194971Z"
    },
    "scrolled": true
   },
   "outputs": [],
   "source": [
    "trade_dt = datetime.today() # datetime(2022,1,11) # \n",
    "# trade_dt = datetime(2022,5,11) # \n",
    "trade_dtStr = trade_dt.strftime(\"%Y-%m-%d\")\n",
    "open_thresholds = readStrongTicker(trade_dtStr)"
   ]
  },
  {
   "cell_type": "code",
   "execution_count": 4,
   "metadata": {
    "ExecuteTime": {
     "end_time": "2022-06-29T00:56:06.546229Z",
     "start_time": "2022-06-29T00:56:04.257964Z"
    }
   },
   "outputs": [
    {
     "name": "stdout",
     "output_type": "stream",
     "text": [
      "Response Code: 0 | Event Code: 0 | Info: host '203.66.91.161:80', hostname '203.66.91.161:80' IP 203.66.91.161:80 (host 1 of 1) (host connection attempt 1 of 1) (total connection attempt 1 of 1) | Event: Session up\n"
     ]
    },
    {
     "data": {
      "text/plain": [
       "True"
      ]
     },
     "execution_count": 4,
     "metadata": {},
     "output_type": "execute_result"
    }
   ],
   "source": [
    "api = sj.Shioaji()\n",
    "\n",
    "api.login(\"F128497445\", \"89118217k\")\n",
    "api.activate_ca(os.path.join(parent, 'Sinopac.pfx'), 'j7629864', 'F128497445')"
   ]
  },
  {
   "cell_type": "code",
   "execution_count": 5,
   "metadata": {
    "ExecuteTime": {
     "end_time": "2022-06-29T00:56:07.471233Z",
     "start_time": "2022-06-29T00:56:07.437662Z"
    },
    "code_folding": [
     2,
     24
    ]
   },
   "outputs": [],
   "source": [
    "from shioaji import TickSTKv1, Exchange, BidAskSTKv1, TickFOPv1, BidAskFOPv1\n",
    "\n",
    "def q20_callback(exchange:Exchange, tick:[TickSTKv1, TickFOPv1]):\n",
    "    try:\n",
    "        NotifyTickers[tick.code] = NotifyTickers.get(tick.code,\n",
    "                                                DataObject(tmp_contract, open_threshold=tmp_contract.reference, \n",
    "                                                api=api, max_size = max_size_map[tick.code], PreData=open_thresholds[tick.code]))\n",
    "\n",
    "        NotifyTickers[tick.code].updateQ20Dict(dict(\n",
    "            symbol=tick.code,\n",
    "            datetime=tick.datetime,\n",
    "            open=float(tick.open),\n",
    "            high=float(tick.high),\n",
    "            low=float(tick.low),\n",
    "            close=float(tick.close),\n",
    "            avg_price=float(tick.avg_price),\n",
    "            qty=int(tick.volume),\n",
    "            totalQty=int(tick.total_volume),\n",
    "            pct_chg=float(tick.pct_chg),\n",
    "            simulate=bool(tick.simtrade),\n",
    "        ))\n",
    "    except Exception as e:\n",
    "        print(e)\n",
    "\n",
    "def q80_callback(exchange:Exchange, tick:[BidAskSTKv1, BidAskFOPv1]):\n",
    "    try:\n",
    "        NotifyTickers[tick.code] = NotifyTickers.get(tick.code,\n",
    "                                                DataObject(tmp_contract, open_threshold=tmp_contract.reference, \n",
    "                                                api=api, max_size = max_size_map[tick.code], PreData=open_thresholds[tick.code]))\n",
    "\n",
    "        NotifyTickers[tick.code].updateQ80Dict(dict(\n",
    "            symbol = tick.code,\n",
    "            datetime = tick.datetime,\n",
    "            bid1 = float(tick.bid_price[0]),\n",
    "            bid2 = float(tick.bid_price[1]),\n",
    "            bid3 = float(tick.bid_price[2]),\n",
    "            bid4 = float(tick.bid_price[3]),\n",
    "            bid5 = float(tick.bid_price[4]),\n",
    "            bidQty1 = float(tick.bid_volume[0]),\n",
    "            bidQty2 = float(tick.bid_volume[1]),\n",
    "            bidQty3 = float(tick.bid_volume[2]),\n",
    "            bidQty4 = float(tick.bid_volume[3]),\n",
    "            bidQty5 = float(tick.bid_volume[4]),\n",
    "            askQty1 = float(tick.ask_volume[0]),\n",
    "            askQty2 = float(tick.ask_volume[1]),\n",
    "            askQty3 = float(tick.ask_volume[2]),\n",
    "            askQty4 = float(tick.ask_volume[3]),\n",
    "            askQty5 = float(tick.ask_volume[4]),\n",
    "            ask1 = float(tick.ask_price[0]),\n",
    "            ask2 = float(tick.ask_price[1]),\n",
    "            ask3 = float(tick.ask_price[2]),\n",
    "            ask4 = float(tick.ask_price[3]),\n",
    "            ask5 = float(tick.ask_price[4]),\n",
    "        ))\n",
    "    except Exception as e:\n",
    "        print(e)\n",
    "    \n",
    "api.quote.set_on_tick_stk_v1_callback(q20_callback)\n",
    "api.quote.set_on_bidask_stk_v1_callback(q80_callback)\n",
    "api.quote.set_on_bidask_fop_v1_callback(q80_callback)\n",
    "api.quote.set_on_tick_fop_v1_callback(q20_callback)\n",
    "\n",
    "def place_cb(stat, msg):\n",
    "    try:\n",
    "        if stat == sj.constant.OrderState.TFTOrder:\n",
    "            if msg['order']['order_cond'] == 'Cash':\n",
    "                if msg['contract']['code'] in NotifyTickers.keys():\n",
    "                    NotifyTickers[msg['contract']['code']].updateOrderDeal(stat, msg)\n",
    "        else:\n",
    "            if msg['order_cond'] == 'Cash':\n",
    "                if msg['code'] in NotifyTickers.keys():\n",
    "                    NotifyTickers[msg['code']].updateOrderDeal(stat, msg)\n",
    "    except:\n",
    "        pass\n",
    "    print(f\"Order Status : {stat}, Order Data : {msg} \\n\")\n",
    "api.set_order_callback(place_cb)"
   ]
  },
  {
   "cell_type": "code",
   "execution_count": 6,
   "metadata": {
    "ExecuteTime": {
     "end_time": "2022-06-29T00:56:20.422140Z",
     "start_time": "2022-06-29T00:56:10.054519Z"
    },
    "scrolled": true
   },
   "outputs": [
    {
     "name": "stdout",
     "output_type": "stream",
     "text": [
      "1760 最大倉位 : 21, 昨收 : {'PreClose': 117.5, 'PreHigh': 117.5, 'PreLow': 108.0}\n",
      "8421 最大倉位 : 128, 昨收 : {'PreClose': 19.5, 'PreHigh': 19.5, 'PreLow': 17.75}\n"
     ]
    }
   ],
   "source": [
    "# remove can't daytrade ticker\n",
    "tmp_ticker_list = list(open_thresholds.keys())\n",
    "for ticker in tmp_ticker_list:\n",
    "#     print(ticker)\n",
    "    tmp_contract = api.Contracts.Stocks[str(ticker)]\n",
    "#     print(tmp_contract, tmp_contract.day_trade)\n",
    "    if tmp_contract.day_trade == sj.constant.DayTrade.Yes:continue\n",
    "    open_thresholds.pop(ticker)\n",
    "    \n",
    "writeTradableTicker(trade_dtStr, open_thresholds)\n",
    "    \n",
    "# seperate capital for each ticker\n",
    "total_capital = 5e6\n",
    "seperated_capital = int(total_capital / len(open_thresholds.keys()))\n",
    "max_size_map = {}\n",
    "for k, v in open_thresholds.items():\n",
    "    max_pos = int(seperated_capital / (v['PreClose'] * 1000))\n",
    "    print(f'{k} 最大倉位 : {max_pos}, 昨收 : {v}')\n",
    "    max_size_map[k] = max_pos"
   ]
  },
  {
   "cell_type": "code",
   "execution_count": 7,
   "metadata": {
    "ExecuteTime": {
     "end_time": "2022-06-29T00:56:24.706439Z",
     "start_time": "2022-06-29T00:56:24.331922Z"
    }
   },
   "outputs": [
    {
     "data": {
      "text/plain": [
       "200"
      ]
     },
     "execution_count": 7,
     "metadata": {},
     "output_type": "execute_result"
    }
   ],
   "source": [
    "tradable_text_table = createTradableTable(open_thresholds, max_size_map)\n",
    "text = f'\\n【{trade_dtStr}】當沖策略標的\\n\\n'\n",
    "text += tradable_text_table.get_string()\n",
    "Line.sendMessage(text)"
   ]
  },
  {
   "cell_type": "code",
   "execution_count": 8,
   "metadata": {
    "ExecuteTime": {
     "end_time": "2022-06-29T00:56:26.952016Z",
     "start_time": "2022-06-29T00:56:26.934142Z"
    },
    "code_folding": [],
    "scrolled": true
   },
   "outputs": [
    {
     "name": "stdout",
     "output_type": "stream",
     "text": [
      "Tradable Ticker : 1760\n",
      "Tradable Ticker : 8421\n"
     ]
    }
   ],
   "source": [
    "NotifyTickers = {}\n",
    "for i in range(125):\n",
    "    if i < len(open_thresholds.keys()):\n",
    "        ticker = sorted(open_thresholds.keys())[i]\n",
    "        if open_thresholds[ticker]['PreClose']>1000:continue\n",
    "        tmp_contract = api.Contracts.Stocks[ticker]\n",
    "        if tmp_contract.day_trade  != sj.constant.DayTrade.No:\n",
    "            print(\"Tradable Ticker : \" + ticker)\n",
    "            # tmp_contract = api1.Contracts.Futures[ticker]\n",
    "#             NotifyTickers[ticker] = NotifyTickers.get(ticker,\n",
    "#                                                       DataObject(tmp_contract, open_threshold=tmp_contract.reference, \n",
    "#                                                                 api=api, max_size = max_size_map[ticker], PreData=open_thresholds[ticker]))\n",
    "            NotifyTickers[ticker] = DataObject(tmp_contract, open_threshold=tmp_contract.reference, \n",
    "                                                                api=api, max_size = max_size_map[ticker], PreData=open_thresholds[ticker])\n",
    "            \n",
    "            api.quote.subscribe(\n",
    "                tmp_contract, \n",
    "                quote_type = sj.constant.QuoteType.Tick, # or 'tick'\n",
    "                version = sj.constant.QuoteVersion.v1 # or 'v1'\n",
    "            )\n",
    "            api.quote.subscribe(\n",
    "                tmp_contract, \n",
    "                quote_type = sj.constant.QuoteType.BidAsk, # or 'tick'\n",
    "                version = sj.constant.QuoteVersion.v1 # or 'v1'\n",
    "            )"
   ]
  },
  {
   "cell_type": "code",
   "execution_count": 77,
   "metadata": {
    "ExecuteTime": {
     "end_time": "2022-06-17T05:34:37.172607Z",
     "start_time": "2022-06-17T05:34:37.163384Z"
    }
   },
   "outputs": [
    {
     "data": {
      "text/plain": [
       "{}"
      ]
     },
     "execution_count": 77,
     "metadata": {},
     "output_type": "execute_result"
    }
   ],
   "source": [
    "NotifyTickers['4503'].q20_data"
   ]
  },
  {
   "cell_type": "code",
   "execution_count": null,
   "metadata": {
    "ExecuteTime": {
     "start_time": "2022-06-29T00:56:29.658Z"
    },
    "scrolled": true
   },
   "outputs": [
    {
     "name": "stdout",
     "output_type": "stream",
     "text": [
      "Entry Long signal with Cross Over\n",
      "1760, close : 120.0, entry price : 120.0\n",
      "Entry Long signal with Cross Over\n",
      "8421, close : 19.6, entry price : 0.0\n",
      "1760 Exit with condition : do_exit : False, do_exit_take :True, do_exit_stop : False, exit_end : False\n",
      "1760, close : 121.5, exit price : 121.0\n",
      "Trade of 1760, Error : 'DataObject' object has no attribute 'trade'\n",
      "8421 Exit with condition : do_exit : False, do_exit_take :True, do_exit_stop : False, exit_end : False\n",
      "8421, close : 19.8, exit price : 19.7\n",
      "Trade of 8421, Error : 'DataObject' object has no attribute 'trade'\n"
     ]
    }
   ],
   "source": [
    "while 1:\n",
    "    try:\n",
    "        sleep(1)\n",
    "    except:\n",
    "        break"
   ]
  },
  {
   "cell_type": "code",
   "execution_count": 15,
   "metadata": {
    "ExecuteTime": {
     "end_time": "2022-06-28T05:09:12.559112Z",
     "start_time": "2022-06-28T05:09:12.546814Z"
    },
    "scrolled": true
   },
   "outputs": [],
   "source": [
    "for ticker in NotifyTickers.keys():\n",
    "    api.quote.unsubscribe(\n",
    "        NotifyTickers[ticker].contract, \n",
    "        quote_type = sj.constant.QuoteType.Tick, # or 'tick'\n",
    "        version = sj.constant.QuoteVersion.v1 # or 'v1'\n",
    "    )\n",
    "    api.quote.unsubscribe(\n",
    "        NotifyTickers[ticker].contract, \n",
    "        quote_type = sj.constant.QuoteType.BidAsk, # or 'tick'\n",
    "        version = sj.constant.QuoteVersion.v1 # or 'v1'\n",
    "    )"
   ]
  },
  {
   "cell_type": "code",
   "execution_count": null,
   "metadata": {},
   "outputs": [],
   "source": []
  },
  {
   "cell_type": "code",
   "execution_count": 25,
   "metadata": {
    "ExecuteTime": {
     "end_time": "2022-06-28T05:10:54.074658Z",
     "start_time": "2022-06-28T05:10:54.052133Z"
    }
   },
   "outputs": [
    {
     "name": "stdout",
     "output_type": "stream",
     "text": [
      "{'contract': Stock(exchange=<Exchange.TSE: 'TSE'>, code='1517', symbol='TSE1517', name='利奇', category='05', unit=1000, limit_up=26.05, limit_down=21.35, reference=23.7, update_date='2022/06/28', margin_trading_balance=313, short_selling_balance=93, day_trade=<DayTrade.Yes: 'Yes'>), 'open_threshold': 23.7, 'entry_percent': 0.06, 'exit_percent': 0.09, 'takeprofit': 0.6, 'start_moving_take': 0.015, 'sl_ratio': 0.02, 'v_threshold': 0.01, 'symbol': '1517', 'refPrice': 23.7, 'entry_threshold': 25.122, 'exit_threshold': 25.833000000000002, 'name': '利奇', 'barG': <Utils.BarGenerator object at 0x124f5a250>, 'max_size': 12, '_api': <shioaji.shioaji.Shioaji object at 0x124c4a450>, 'first_5mink': {'open': 23.65, 'high': 23.7, 'low': 23.45, 'close': 23.45}, 'preHigh': 23.7, 'preLow': 22.1, 'q80_data': {'symbol': '1517', 'datetime': datetime.datetime(2022, 6, 28, 12, 7, 1, 291226), 'bid1': 23.7, 'bid2': 23.65, 'bid3': 23.6, 'bid4': 23.55, 'bid5': 23.5, 'bidQty1': 7.0, 'bidQty2': 1.0, 'bidQty3': 4.0, 'bidQty4': 9.0, 'bidQty5': 20.0, 'askQty1': 12.0, 'askQty2': 13.0, 'askQty3': 11.0, 'askQty4': 21.0, 'askQty5': 98.0, 'ask1': 23.8, 'ask2': 23.85, 'ask3': 23.9, 'ask4': 23.95, 'ask5': 24.0}, 'q20_data': {'symbol': '1517', 'datetime': datetime.datetime(2022, 6, 28, 12, 7, 1, 210823), 'open': 23.65, 'high': 24.5, 'low': 23.2, 'close': 23.75, 'avg_price': 23.78, 'qty': 1, 'totalQty': 4141, 'pct_chg': 0.21, 'simulate': False, 'timeStr': '12:07:01'}, 'total_v': 2, 'pre_time': '09:12:15', 'pre_volume': 929, 'pre_close': 23.85, 'open_h': 23.7, 'open_l': 23.3, 'opening': False, 'pos': 0, 'entry': 0, 'sl_threshold': 23.618000000000002, 'entry_time': '09:12:15', 'tmp_ret': 0.01048218029350112, 'max_ret': 0.01048218029350112, 'closing': False, 'traded': True, 'pnl': 96.99999999999929} \n",
      "\n",
      "{'contract': Stock(exchange=<Exchange.TSE: 'TSE'>, code='2388', symbol='TSE2388', name='威盛', category='24', unit=1000, limit_up=60.0, limit_down=49.15, reference=54.6, update_date='2022/06/28', margin_trading_balance=456, short_selling_balance=13, day_trade=<DayTrade.Yes: 'Yes'>), 'open_threshold': 54.6, 'entry_percent': 0.06, 'exit_percent': 0.09, 'takeprofit': 0.6, 'start_moving_take': 0.015, 'sl_ratio': 0.02, 'v_threshold': 0.01, 'symbol': '2388', 'refPrice': 54.6, 'entry_threshold': 57.876000000000005, 'exit_threshold': 59.514, 'name': '威盛', 'barG': <Utils.BarGenerator object at 0x124f2ced0>, 'max_size': 5, '_api': <shioaji.shioaji.Shioaji object at 0x124c4a450>, 'first_5mink': {'open': 56.0, 'high': 56.0, 'low': 54.6, 'close': 54.8}, 'preHigh': 54.6, 'preLow': 52.7, 'q80_data': {'symbol': '2388', 'datetime': datetime.datetime(2022, 6, 28, 12, 7, 0, 928131), 'bid1': 54.6, 'bid2': 54.5, 'bid3': 54.4, 'bid4': 54.3, 'bid5': 54.2, 'bidQty1': 60.0, 'bidQty2': 76.0, 'bidQty3': 55.0, 'bidQty4': 104.0, 'bidQty5': 65.0, 'askQty1': 8.0, 'askQty2': 22.0, 'askQty3': 49.0, 'askQty4': 38.0, 'askQty5': 37.0, 'ask1': 54.8, 'ask2': 54.9, 'ask3': 55.0, 'ask4': 55.1, 'ask5': 55.2}, 'q20_data': {'symbol': '2388', 'datetime': datetime.datetime(2022, 6, 28, 12, 6, 55, 635793), 'open': 56.0, 'high': 56.5, 'low': 53.9, 'close': 54.7, 'avg_price': 55.13, 'qty': 4, 'totalQty': 27988, 'pct_chg': 0.18, 'simulate': False, 'timeStr': '12:06:55'}, 'total_v': 3, 'pre_time': '09:15:00', 'pre_volume': 8411, 'pre_close': 55.2, 'open_h': 56.0, 'open_l': 54.6, 'opening': False, 'pos': 0, 'entry': 0, 'sl_threshold': 54.488, 'entry_time': '09:15:00', 'tmp_ret': -0.01449275362318847, 'max_ret': 0.007246376811594235, 'closing': False, 'traded': True, 'pnl': -1037.0000000000043} \n",
      "\n",
      "{'contract': Stock(exchange=<Exchange.TSE: 'TSE'>, code='2498', symbol='TSE2498', name='宏達電', category='27', unit=1000, limit_up=63.5, limit_down=52.1, reference=57.8, update_date='2022/06/28', margin_trading_balance=409, short_selling_balance=405, day_trade=<DayTrade.Yes: 'Yes'>), 'open_threshold': 57.8, 'entry_percent': 0.06, 'exit_percent': 0.09, 'takeprofit': 0.6, 'start_moving_take': 0.015, 'sl_ratio': 0.02, 'v_threshold': 0.01, 'symbol': '2498', 'refPrice': 57.8, 'entry_threshold': 61.268, 'exit_threshold': 63.002, 'name': '宏達電', 'barG': <Utils.BarGenerator object at 0x124f16f50>, 'max_size': 5, '_api': <shioaji.shioaji.Shioaji object at 0x124c4a450>, 'first_5mink': {'open': 60.0, 'high': 60.1, 'low': 58.1, 'close': 58.5}, 'preHigh': 57.8, 'preLow': 56.1, 'q80_data': {'symbol': '2498', 'datetime': datetime.datetime(2022, 6, 28, 12, 7, 1, 986567), 'bid1': 58.6, 'bid2': 58.5, 'bid3': 58.4, 'bid4': 58.3, 'bid5': 58.2, 'bidQty1': 208.0, 'bidQty2': 168.0, 'bidQty3': 424.0, 'bidQty4': 228.0, 'bidQty5': 235.0, 'askQty1': 18.0, 'askQty2': 61.0, 'askQty3': 156.0, 'askQty4': 58.0, 'askQty5': 78.0, 'ask1': 58.8, 'ask2': 58.9, 'ask3': 59.0, 'ask4': 59.1, 'ask5': 59.2}, 'q20_data': {'symbol': '2498', 'datetime': datetime.datetime(2022, 6, 28, 12, 6, 58, 741877), 'open': 60.0, 'high': 60.4, 'low': 57.4, 'close': 58.7, 'avg_price': 58.95, 'qty': 1, 'totalQty': 127014, 'pct_chg': 1.55, 'simulate': False, 'timeStr': '12:06:58'}, 'total_v': 1, 'pre_time': '09:15:00', 'pre_volume': 37106, 'pre_close': 59.2, 'open_h': 60.1, 'open_l': 58.1, 'opening': False, 'pos': 0, 'entry': 0, 'sl_threshold': 58.604, 'entry_time': '09:15:00', 'tmp_ret': 0.010135135135135087, 'max_ret': 0.010135135135135087, 'closing': False, 'traded': True, 'pnl': 242.0} \n",
      "\n",
      "{'contract': Stock(exchange=<Exchange.TSE: 'TSE'>, code='2615', symbol='TSE2615', name='萬海', category='15', unit=1000, limit_up=140.5, limit_down=115.5, reference=128.0, update_date='2022/06/28', margin_trading_balance=1337, short_selling_balance=117, day_trade=<DayTrade.Yes: 'Yes'>), 'open_threshold': 128.0, 'entry_percent': 0.06, 'exit_percent': 0.09, 'takeprofit': 0.6, 'start_moving_take': 0.015, 'sl_ratio': 0.02, 'v_threshold': 0.01, 'symbol': '2615', 'refPrice': 128.0, 'entry_threshold': 135.68, 'exit_threshold': 139.52, 'name': '萬海', 'barG': <Utils.BarGenerator object at 0x124f06a90>, 'max_size': 2, '_api': <shioaji.shioaji.Shioaji object at 0x124c4a450>, 'first_5mink': {'open': 126.5, 'high': 126.5, 'low': 123.0, 'close': 125.5}, 'preHigh': 128.0, 'preLow': 119.5, 'q80_data': {'symbol': '2615', 'datetime': datetime.datetime(2022, 6, 28, 12, 6, 57, 749632), 'bid1': 125.5, 'bid2': 125.0, 'bid3': 124.5, 'bid4': 124.0, 'bid5': 123.5, 'bidQty1': 119.0, 'bidQty2': 321.0, 'bidQty3': 280.0, 'bidQty4': 306.0, 'bidQty5': 379.0, 'askQty1': 276.0, 'askQty2': 505.0, 'askQty3': 442.0, 'askQty4': 354.0, 'askQty5': 431.0, 'ask1': 126.0, 'ask2': 126.5, 'ask3': 127.0, 'ask4': 127.5, 'ask5': 128.0}, 'q20_data': {'symbol': '2615', 'datetime': datetime.datetime(2022, 6, 28, 12, 6, 23, 369039), 'open': 126.5, 'high': 126.5, 'low': 122.0, 'close': 126.0, 'avg_price': 124.58, 'qty': 1, 'totalQty': 27116, 'pct_chg': -1.56, 'simulate': False, 'timeStr': '12:06:23'}, 'total_v': 1, 'pre_time': '12:06:23', 'pre_volume': 27116, 'pre_close': 126.0, 'open_h': 126.5, 'open_l': 123.0} \n",
      "\n",
      "{'contract': Stock(exchange=<Exchange.TSE: 'TSE'>, code='2636', symbol='TSE2636', name='台驊投控', category='15', unit=1000, limit_up=106.0, limit_down=87.2, reference=96.8, update_date='2022/06/28', margin_trading_balance=742, short_selling_balance=56, day_trade=<DayTrade.Yes: 'Yes'>), 'open_threshold': 96.8, 'entry_percent': 0.06, 'exit_percent': 0.09, 'takeprofit': 0.6, 'start_moving_take': 0.015, 'sl_ratio': 0.02, 'v_threshold': 0.01, 'symbol': '2636', 'refPrice': 96.8, 'entry_threshold': 102.608, 'exit_threshold': 105.512, 'name': '台驊投控', 'barG': <Utils.BarGenerator object at 0x124f19a10>, 'max_size': 3, '_api': <shioaji.shioaji.Shioaji object at 0x124c4a450>, 'first_5mink': {'open': 95.5, 'high': 95.8, 'low': 94.5, 'close': 95.8}, 'preHigh': 96.8, 'preLow': 90.2, 'q80_data': {'symbol': '2636', 'datetime': datetime.datetime(2022, 6, 28, 12, 7, 1, 239976), 'bid1': 93.5, 'bid2': 93.4, 'bid3': 93.3, 'bid4': 93.2, 'bid5': 93.1, 'bidQty1': 7.0, 'bidQty2': 5.0, 'bidQty3': 11.0, 'bidQty4': 15.0, 'bidQty5': 23.0, 'askQty1': 16.0, 'askQty2': 3.0, 'askQty3': 10.0, 'askQty4': 17.0, 'askQty5': 33.0, 'ask1': 93.6, 'ask2': 93.7, 'ask3': 93.8, 'ask4': 93.9, 'ask5': 94.0}, 'q20_data': {'symbol': '2636', 'datetime': datetime.datetime(2022, 6, 28, 12, 6, 59, 805470), 'open': 95.5, 'high': 96.2, 'low': 91.3, 'close': 93.5, 'avg_price': 93.57, 'qty': 1, 'totalQty': 7710, 'pct_chg': -3.4, 'simulate': False, 'timeStr': '12:06:59'}, 'total_v': 1, 'pre_time': '09:25:04', 'pre_volume': 2477, 'pre_close': 94.1, 'open_h': 96.2, 'open_l': 94.5, 'opening': False, 'pos': 0, 'entry': 0, 'sl_threshold': 92.21799999999999, 'entry_time': '09:25:04', 'tmp_ret': -0.00434643995749203, 'max_ret': 0, 'closing': False, 'traded': True, 'pnl': -509.0000000000085} \n",
      "\n",
      "{'contract': Stock(exchange=<Exchange.OTC: 'OTC'>, code='2736', symbol='OTC2736', name='富野', category='16', unit=1000, limit_up=32.55, limit_down=26.65, reference=29.6, update_date='2022/06/28', margin_trading_balance=44, short_selling_balance=3, day_trade=<DayTrade.Yes: 'Yes'>), 'open_threshold': 29.6, 'entry_percent': 0.06, 'exit_percent': 0.09, 'takeprofit': 0.6, 'start_moving_take': 0.015, 'sl_ratio': 0.02, 'v_threshold': 0.01, 'symbol': '2736', 'refPrice': 29.6, 'entry_threshold': 31.376000000000005, 'exit_threshold': 32.264, 'name': '富野', 'barG': <Utils.BarGenerator object at 0x124f54390>, 'max_size': 9, '_api': <shioaji.shioaji.Shioaji object at 0x124c4a450>, 'first_5mink': {'open': 29.0, 'high': 29.75, 'low': 28.95, 'close': 29.15}, 'preHigh': 29.6, 'preLow': 26.6, 'q80_data': {'symbol': '2736', 'datetime': datetime.datetime(2022, 6, 28, 12, 6, 56, 521552), 'bid1': 28.35, 'bid2': 28.3, 'bid3': 28.25, 'bid4': 28.2, 'bid5': 28.15, 'bidQty1': 5.0, 'bidQty2': 12.0, 'bidQty3': 46.0, 'bidQty4': 45.0, 'bidQty5': 26.0, 'askQty1': 12.0, 'askQty2': 11.0, 'askQty3': 60.0, 'askQty4': 28.0, 'askQty5': 9.0, 'ask1': 28.45, 'ask2': 28.5, 'ask3': 28.55, 'ask4': 28.6, 'ask5': 28.65}, 'q20_data': {'symbol': '2736', 'datetime': datetime.datetime(2022, 6, 28, 12, 6, 47, 165628), 'open': 29.0, 'high': 29.9, 'low': 28.05, 'close': 28.4, 'avg_price': 28.97, 'qty': 1, 'totalQty': 14358, 'pct_chg': -4.05, 'simulate': False, 'timeStr': '12:06:47'}, 'total_v': 27, 'pre_time': '09:06:30', 'pre_volume': 2956, 'pre_close': 29.75, 'opening': False, 'pos': 0, 'entry': 0, 'sl_threshold': 29.302, 'entry_time': '09:06:30', 'tmp_ret': -0.015126050420168013, 'max_ret': 0.005042016806722671, 'open_h': 29.9, 'open_l': 28.95, 'closing': False, 'traded': True, 'pnl': -576.9999999999993} \n",
      "\n",
      "{'contract': Stock(exchange=<Exchange.TSE: 'TSE'>, code='3062', symbol='TSE3062', name='建漢', category='27', unit=1000, limit_up=28.15, limit_down=23.05, reference=25.6, update_date='2022/06/28', margin_trading_balance=438, short_selling_balance=121, day_trade=<DayTrade.Yes: 'Yes'>), 'open_threshold': 25.6, 'entry_percent': 0.06, 'exit_percent': 0.09, 'takeprofit': 0.6, 'start_moving_take': 0.015, 'sl_ratio': 0.02, 'v_threshold': 0.01, 'symbol': '3062', 'refPrice': 25.6, 'entry_threshold': 27.136000000000003, 'exit_threshold': 27.904000000000003, 'name': '建漢', 'barG': <Utils.BarGenerator object at 0x124f54bd0>, 'max_size': 11, '_api': <shioaji.shioaji.Shioaji object at 0x124c4a450>, 'first_5mink': {'open': 25.1, 'high': 25.3, 'low': 25.0, 'close': 25.25}, 'preHigh': 25.95, 'preLow': 23.9, 'q80_data': {'symbol': '3062', 'datetime': datetime.datetime(2022, 6, 28, 12, 6, 44, 244203), 'bid1': 25.65, 'bid2': 25.6, 'bid3': 25.55, 'bid4': 25.5, 'bid5': 25.45, 'bidQty1': 17.0, 'bidQty2': 73.0, 'bidQty3': 18.0, 'bidQty4': 50.0, 'bidQty5': 45.0, 'askQty1': 35.0, 'askQty2': 21.0, 'askQty3': 25.0, 'askQty4': 26.0, 'askQty5': 20.0, 'ask1': 25.7, 'ask2': 25.75, 'ask3': 25.8, 'ask4': 25.85, 'ask5': 25.9}, 'q20_data': {'symbol': '3062', 'datetime': datetime.datetime(2022, 6, 28, 12, 5, 37, 40318), 'open': 25.1, 'high': 26.0, 'low': 24.9, 'close': 25.65, 'avg_price': 25.37, 'qty': 1, 'totalQty': 4913, 'pct_chg': 0.19, 'simulate': False, 'timeStr': '12:05:37'}, 'total_v': 1, 'pre_time': '09:25:01', 'pre_volume': 1749, 'pre_close': 25.1, 'open_h': 25.4, 'open_l': 25.0, 'opening': False, 'pos': 0, 'entry': 0, 'sl_threshold': 24.941, 'entry_time': '09:25:01', 'tmp_ret': 0.011928429423459175, 'max_ret': 0.011928429423459175, 'closing': False, 'traded': True, 'pnl': 141.0} \n",
      "\n",
      "{'contract': Stock(exchange=<Exchange.OTC: 'OTC'>, code='3205', symbol='OTC3205', name='佰研', category='22', unit=1000, limit_up=39.45, limit_down=32.35, reference=35.9, update_date='2022/06/28', margin_trading_balance=14, day_trade=<DayTrade.Yes: 'Yes'>), 'open_threshold': 35.9, 'entry_percent': 0.06, 'exit_percent': 0.09, 'takeprofit': 0.6, 'start_moving_take': 0.015, 'sl_ratio': 0.02, 'v_threshold': 0.01, 'symbol': '3205', 'refPrice': 35.9, 'entry_threshold': 38.054, 'exit_threshold': 39.131, 'name': '佰研', 'barG': <Utils.BarGenerator object at 0x124f23d90>, 'max_size': 8, '_api': <shioaji.shioaji.Shioaji object at 0x124c4a450>, 'first_5mink': {'open': 38.0, 'high': 38.0, 'low': 36.7, 'close': 37.1}, 'preHigh': 35.9, 'preLow': 33.45, 'q80_data': {'symbol': '3205', 'datetime': datetime.datetime(2022, 6, 28, 12, 6, 57, 360708), 'bid1': 37.95, 'bid2': 37.9, 'bid3': 37.85, 'bid4': 37.8, 'bid5': 37.75, 'bidQty1': 2.0, 'bidQty2': 4.0, 'bidQty3': 2.0, 'bidQty4': 7.0, 'bidQty5': 38.0, 'askQty1': 8.0, 'askQty2': 5.0, 'askQty3': 1.0, 'askQty4': 5.0, 'askQty5': 16.0, 'ask1': 38.0, 'ask2': 38.05, 'ask3': 38.1, 'ask4': 38.2, 'ask5': 38.25}, 'q20_data': {'symbol': '3205', 'datetime': datetime.datetime(2022, 6, 28, 12, 6, 52, 653680), 'open': 38.0, 'high': 39.45, 'low': 36.5, 'close': 37.95, 'avg_price': 38.26, 'qty': 1, 'totalQty': 13463, 'pct_chg': 5.71, 'simulate': False, 'timeStr': '12:06:52'}, 'total_v': 1, 'pre_time': '11:50:00', 'pre_volume': 12422, 'pre_close': 37.3, 'open_h': 38.5, 'open_l': 36.7, 'opening': False, 'pos': 0, 'entry': 0, 'sl_threshold': 36.995, 'entry_time': '11:50:00', 'tmp_ret': 0.010709504685408211, 'max_ret': 0.010709504685408211, 'closing': False, 'traded': True, 'pnl': 236.99999999999858} \n",
      "\n",
      "{'contract': Stock(exchange=<Exchange.TSE: 'TSE'>, code='3443', symbol='TSE3443', name='創意', category='24', unit=1000, limit_up=587.0, limit_down=481.0, reference=534.0, update_date='2022/06/28', margin_trading_balance=165, short_selling_balance=2, day_trade=<DayTrade.Yes: 'Yes'>), 'open_threshold': 534.0, 'entry_percent': 0.06, 'exit_percent': 0.09, 'takeprofit': 0.6, 'start_moving_take': 0.015, 'sl_ratio': 0.02, 'v_threshold': 0.01, 'symbol': '3443', 'refPrice': 534.0, 'entry_threshold': 566.0400000000001, 'exit_threshold': 582.0600000000001, 'name': '創意', 'barG': <Utils.BarGenerator object at 0x124ef8d90>, 'max_size': 0, '_api': <shioaji.shioaji.Shioaji object at 0x124c4a450>, 'first_5mink': {'open': 534.0, 'high': 534.0, 'low': 526.0, 'close': 533.0}, 'preHigh': 534.0, 'preLow': 500.0, 'q80_data': {'symbol': '3443', 'datetime': datetime.datetime(2022, 6, 28, 12, 6, 47, 835789), 'bid1': 522.0, 'bid2': 521.0, 'bid3': 520.0, 'bid4': 519.0, 'bid5': 518.0, 'bidQty1': 5.0, 'bidQty2': 21.0, 'bidQty3': 26.0, 'bidQty4': 22.0, 'bidQty5': 20.0, 'askQty1': 3.0, 'askQty2': 5.0, 'askQty3': 4.0, 'askQty4': 8.0, 'askQty5': 7.0, 'ask1': 523.0, 'ask2': 524.0, 'ask3': 525.0, 'ask4': 526.0, 'ask5': 527.0}, 'q20_data': {'symbol': '3443', 'datetime': datetime.datetime(2022, 6, 28, 12, 6, 32, 837236), 'open': 534.0, 'high': 538.0, 'low': 519.0, 'close': 523.0, 'avg_price': 528.54, 'qty': 1, 'totalQty': 3188, 'pct_chg': -2.05, 'simulate': False, 'timeStr': '12:06:32'}, 'total_v': 1, 'pre_time': '09:08:27', 'pre_volume': 570, 'pre_close': 537.0, 'opening': False, 'pos': 0, 'entry': 0, 'sl_threshold': 527.24, 'entry_time': '09:08:27', 'tmp_ret': -0.01862197392923648, 'max_ret': 0.0018621973929235924, 'open_h': 538.0, 'open_l': 526.0, 'closing': False, 'traded': True, 'pnl': -12306.0} \n",
      "\n",
      "{'contract': Stock(exchange=<Exchange.OTC: 'OTC'>, code='3624', symbol='OTC3624', name='光頡', category='28', unit=1000, limit_up=75.2, limit_down=61.6, reference=68.4, update_date='2022/06/28', margin_trading_balance=234, short_selling_balance=28, day_trade=<DayTrade.Yes: 'Yes'>), 'open_threshold': 68.4, 'entry_percent': 0.06, 'exit_percent': 0.09, 'takeprofit': 0.6, 'start_moving_take': 0.015, 'sl_ratio': 0.02, 'v_threshold': 0.01, 'symbol': '3624', 'refPrice': 68.4, 'entry_threshold': 72.504, 'exit_threshold': 74.55600000000001, 'name': '光頡', 'barG': <Utils.BarGenerator object at 0x124f26290>, 'max_size': 4, '_api': <shioaji.shioaji.Shioaji object at 0x124c4a450>, 'first_5mink': {'open': 68.2, 'high': 68.2, 'low': 66.6, 'close': 66.9}, 'preHigh': 68.5, 'preLow': 63.0, 'q80_data': {'symbol': '3624', 'datetime': datetime.datetime(2022, 6, 28, 12, 7, 1, 224136), 'bid1': 64.6, 'bid2': 64.5, 'bid3': 64.4, 'bid4': 64.3, 'bid5': 64.2, 'bidQty1': 1.0, 'bidQty2': 8.0, 'bidQty3': 25.0, 'bidQty4': 29.0, 'bidQty5': 42.0, 'askQty1': 6.0, 'askQty2': 8.0, 'askQty3': 32.0, 'askQty4': 141.0, 'askQty5': 9.0, 'ask1': 64.7, 'ask2': 64.8, 'ask3': 64.9, 'ask4': 65.0, 'ask5': 65.1}, 'q20_data': {'symbol': '3624', 'datetime': datetime.datetime(2022, 6, 28, 12, 5, 58, 446006), 'open': 68.2, 'high': 68.2, 'low': 64.1, 'close': 64.6, 'avg_price': 65.62, 'qty': 1, 'totalQty': 5729, 'pct_chg': -5.55, 'simulate': False, 'timeStr': '12:05:58'}, 'total_v': 1, 'pre_time': '09:15:00', 'pre_volume': 2217, 'pre_close': 65.8, 'open_h': 68.2, 'open_l': 66.0, 'opening': False, 'pos': 0, 'entry': 0, 'sl_threshold': 64.484, 'entry_time': '09:15:00', 'tmp_ret': -0.004331306990881459, 'max_ret': 0, 'closing': False, 'traded': True, 'pnl': -385.0000000000085} \n",
      "\n",
      "{'contract': Stock(exchange=<Exchange.OTC: 'OTC'>, code='5371', symbol='OTC5371', name='中光電', category='26', unit=1000, limit_up=63.0, limit_down=51.6, reference=57.3, update_date='2022/06/28', margin_trading_balance=550, short_selling_balance=12, day_trade=<DayTrade.Yes: 'Yes'>), 'open_threshold': 57.3, 'entry_percent': 0.06, 'exit_percent': 0.09, 'takeprofit': 0.6, 'start_moving_take': 0.015, 'sl_ratio': 0.02, 'v_threshold': 0.01, 'symbol': '5371', 'refPrice': 57.3, 'entry_threshold': 60.738, 'exit_threshold': 62.457, 'name': '中光電', 'barG': <Utils.BarGenerator object at 0x124f16050>, 'max_size': 5, '_api': <shioaji.shioaji.Shioaji object at 0x124c4a450>, 'first_5mink': {'open': 57.7, 'high': 58.2, 'low': 56.2, 'close': 56.3}, 'preHigh': 57.3, 'preLow': 53.7, 'q80_data': {'symbol': '5371', 'datetime': datetime.datetime(2022, 6, 28, 12, 6, 54, 319695), 'bid1': 55.2, 'bid2': 55.1, 'bid3': 55.0, 'bid4': 54.9, 'bid5': 54.8, 'bidQty1': 56.0, 'bidQty2': 66.0, 'bidQty3': 80.0, 'bidQty4': 41.0, 'bidQty5': 24.0, 'askQty1': 9.0, 'askQty2': 7.0, 'askQty3': 13.0, 'askQty4': 11.0, 'askQty5': 7.0, 'ask1': 55.3, 'ask2': 55.4, 'ask3': 55.5, 'ask4': 55.6, 'ask5': 55.7}, 'q20_data': {'symbol': '5371', 'datetime': datetime.datetime(2022, 6, 28, 12, 6, 54, 319695), 'open': 57.7, 'high': 58.2, 'low': 55.1, 'close': 55.3, 'avg_price': 56.24, 'qty': 1, 'totalQty': 5590, 'pct_chg': -3.49, 'simulate': False, 'timeStr': '12:06:54'}, 'total_v': 4, 'pre_time': '09:15:07', 'pre_volume': 2822, 'pre_close': 55.7, 'open_h': 58.2, 'open_l': 56.2, 'opening': False, 'pos': 0, 'entry': 0, 'sl_threshold': 54.586, 'entry_time': '09:15:07', 'tmp_ret': -0.006122082585278174, 'max_ret': 0, 'closing': False, 'traded': True, 'pnl': -340.9999999999943} \n",
      "\n",
      "{'contract': Stock(exchange=<Exchange.OTC: 'OTC'>, code='6118', symbol='OTC6118', name='建達', category='29', unit=1000, limit_up=30.9, limit_down=25.3, reference=28.1, update_date='2022/06/28', margin_trading_balance=155, short_selling_balance=97, day_trade=<DayTrade.Yes: 'Yes'>), 'open_threshold': 28.1, 'entry_percent': 0.06, 'exit_percent': 0.09, 'takeprofit': 0.6, 'start_moving_take': 0.015, 'sl_ratio': 0.02, 'v_threshold': 0.01, 'symbol': '6118', 'refPrice': 28.1, 'entry_threshold': 29.786, 'exit_threshold': 30.629000000000005, 'name': '建達', 'barG': <Utils.BarGenerator object at 0x124f39fd0>, 'max_size': 10, '_api': <shioaji.shioaji.Shioaji object at 0x124c4a450>, 'first_5mink': {'open': 29.0, 'high': 29.0, 'low': 28.0, 'close': 28.0}, 'preHigh': 28.1, 'preLow': 26.45, 'q80_data': {'symbol': '6118', 'datetime': datetime.datetime(2022, 6, 28, 12, 6, 58, 509510), 'bid1': 29.4, 'bid2': 29.35, 'bid3': 29.3, 'bid4': 29.25, 'bid5': 29.2, 'bidQty1': 1.0, 'bidQty2': 4.0, 'bidQty3': 1.0, 'bidQty4': 6.0, 'bidQty5': 17.0, 'askQty1': 14.0, 'askQty2': 4.0, 'askQty3': 26.0, 'askQty4': 33.0, 'askQty5': 3.0, 'ask1': 29.45, 'ask2': 29.5, 'ask3': 29.55, 'ask4': 29.6, 'ask5': 29.65}, 'q20_data': {'symbol': '6118', 'datetime': datetime.datetime(2022, 6, 28, 12, 6, 36, 502926), 'open': 29.0, 'high': 30.45, 'low': 28.0, 'close': 29.45, 'avg_price': 29.13, 'qty': 1, 'totalQty': 18335, 'pct_chg': 4.8, 'simulate': False, 'timeStr': '12:06:36'}, 'total_v': 49, 'pre_time': '09:17:18', 'pre_volume': 5219, 'pre_close': 29.15, 'open_h': 29.1, 'open_l': 28.0, 'opening': False, 'pos': 0, 'entry': 0, 'sl_threshold': 28.860999999999997, 'entry_time': '09:17:18', 'tmp_ret': 0.010291595197255532, 'max_ret': 0.010291595197255532, 'closing': False, 'traded': True, 'pnl': 124.0} \n",
      "\n",
      "{'contract': Stock(exchange=<Exchange.OTC: 'OTC'>, code='6129', symbol='OTC6129', name='普誠', category='24', unit=1000, limit_up=37.8, limit_down=31.0, reference=34.4, update_date='2022/06/28', margin_trading_balance=83, short_selling_balance=3, day_trade=<DayTrade.Yes: 'Yes'>), 'open_threshold': 34.4, 'entry_percent': 0.06, 'exit_percent': 0.09, 'takeprofit': 0.6, 'start_moving_take': 0.015, 'sl_ratio': 0.02, 'v_threshold': 0.01, 'symbol': '6129', 'refPrice': 34.4, 'entry_threshold': 36.464, 'exit_threshold': 37.496, 'name': '普誠', 'barG': <Utils.BarGenerator object at 0x124ee9710>, 'max_size': 8, '_api': <shioaji.shioaji.Shioaji object at 0x124c4a450>, 'first_5mink': {'open': 34.4, 'high': 34.5, 'low': 34.1, 'close': 34.15}, 'preHigh': 34.4, 'preLow': 31.75, 'q80_data': {'symbol': '6129', 'datetime': datetime.datetime(2022, 6, 28, 12, 6, 51, 395074), 'bid1': 33.35, 'bid2': 33.3, 'bid3': 33.25, 'bid4': 33.2, 'bid5': 33.15, 'bidQty1': 3.0, 'bidQty2': 32.0, 'bidQty3': 36.0, 'bidQty4': 56.0, 'bidQty5': 20.0, 'askQty1': 1.0, 'askQty2': 1.0, 'askQty3': 7.0, 'askQty4': 4.0, 'askQty5': 14.0, 'ask1': 33.4, 'ask2': 33.45, 'ask3': 33.5, 'ask4': 33.55, 'ask5': 33.6}, 'q20_data': {'symbol': '6129', 'datetime': datetime.datetime(2022, 6, 28, 12, 4, 8, 511399), 'open': 34.4, 'high': 34.5, 'low': 33.25, 'close': 33.4, 'avg_price': 33.91, 'qty': 1, 'totalQty': 5501, 'pct_chg': -2.9, 'simulate': False, 'timeStr': '12:04:08'}, 'total_v': 10, 'pre_time': '09:15:01', 'pre_volume': 2613, 'pre_close': 34.2, 'open_h': 34.5, 'open_l': 34.1, 'opening': False, 'pos': 0, 'entry': 0, 'sl_threshold': 33.565, 'entry_time': '09:15:01', 'tmp_ret': -0.020437956204379604, 'max_ret': 0, 'closing': False, 'traded': True, 'pnl': -795.9999999999986} \n",
      "\n",
      "{'contract': Stock(exchange=<Exchange.TSE: 'TSE'>, code='6235', symbol='TSE6235', name='華孚', category='25', unit=1000, limit_up=52.2, limit_down=42.75, reference=47.5, update_date='2022/06/28', margin_trading_balance=180, short_selling_balance=352, day_trade=<DayTrade.Yes: 'Yes'>), 'open_threshold': 47.5, 'entry_percent': 0.06, 'exit_percent': 0.09, 'takeprofit': 0.6, 'start_moving_take': 0.015, 'sl_ratio': 0.02, 'v_threshold': 0.01, 'symbol': '6235', 'refPrice': 47.5, 'entry_threshold': 50.35, 'exit_threshold': 51.775000000000006, 'name': '華孚', 'barG': <Utils.BarGenerator object at 0x124eefa10>, 'max_size': 6, '_api': <shioaji.shioaji.Shioaji object at 0x124c4a450>, 'first_5mink': {'open': 47.5, 'high': 47.8, 'low': 46.55, 'close': 46.9}, 'preHigh': 47.5, 'preLow': 43.45, 'q80_data': {'symbol': '6235', 'datetime': datetime.datetime(2022, 6, 28, 12, 7, 1, 847522), 'bid1': 44.1, 'bid2': 44.05, 'bid3': 44.0, 'bid4': 43.95, 'bid5': 43.9, 'bidQty1': 18.0, 'bidQty2': 79.0, 'bidQty3': 90.0, 'bidQty4': 57.0, 'bidQty5': 45.0, 'askQty1': 9.0, 'askQty2': 21.0, 'askQty3': 43.0, 'askQty4': 17.0, 'askQty5': 29.0, 'ask1': 44.2, 'ask2': 44.25, 'ask3': 44.3, 'ask4': 44.35, 'ask5': 44.4}, 'q20_data': {'symbol': '6235', 'datetime': datetime.datetime(2022, 6, 28, 12, 7, 1, 847522), 'open': 47.5, 'high': 47.8, 'low': 43.75, 'close': 44.15, 'avg_price': 45.86, 'qty': 3, 'totalQty': 44898, 'pct_chg': -7.05, 'simulate': False, 'timeStr': '12:07:01'}, 'total_v': 37, 'pre_time': '09:08:05', 'pre_volume': 7534, 'pre_close': 47.75, 'opening': False, 'pos': 0, 'entry': 0, 'sl_threshold': 46.843999999999994, 'entry_time': '09:08:05', 'tmp_ret': -0.019895287958115238, 'max_ret': 0.0010471204188480243, 'open_h': 47.8, 'open_l': 46.55, 'closing': False, 'traded': True, 'pnl': -1154.0000000000027} \n",
      "\n",
      "{'contract': Stock(exchange=<Exchange.OTC: 'OTC'>, code='6237', symbol='OTC6237', name='驊訊', category='24', unit=1000, limit_up=61.2, limit_down=50.2, reference=55.7, update_date='2022/06/28', margin_trading_balance=1114, short_selling_balance=47, day_trade=<DayTrade.Yes: 'Yes'>), 'open_threshold': 55.7, 'entry_percent': 0.06, 'exit_percent': 0.09, 'takeprofit': 0.6, 'start_moving_take': 0.015, 'sl_ratio': 0.02, 'v_threshold': 0.01, 'symbol': '6237', 'refPrice': 55.7, 'entry_threshold': 59.04200000000001, 'exit_threshold': 60.71300000000001, 'name': '驊訊', 'barG': <Utils.BarGenerator object at 0x124f23190>, 'max_size': 5, '_api': <shioaji.shioaji.Shioaji object at 0x124c4a450>, 'first_5mink': {'open': 57.2, 'high': 57.3, 'low': 55.2, 'close': 55.2}, 'preHigh': 55.7, 'preLow': 52.3, 'q80_data': {'symbol': '6237', 'datetime': datetime.datetime(2022, 6, 28, 12, 7, 0, 732316), 'bid1': 53.9, 'bid2': 53.8, 'bid3': 53.7, 'bid4': 53.6, 'bid5': 53.5, 'bidQty1': 3.0, 'bidQty2': 8.0, 'bidQty3': 19.0, 'bidQty4': 9.0, 'bidQty5': 24.0, 'askQty1': 11.0, 'askQty2': 5.0, 'askQty3': 9.0, 'askQty4': 22.0, 'askQty5': 16.0, 'ask1': 54.3, 'ask2': 54.4, 'ask3': 54.5, 'ask4': 54.6, 'ask5': 54.7}, 'q20_data': {'symbol': '6237', 'datetime': datetime.datetime(2022, 6, 28, 12, 6, 57, 304267), 'open': 57.2, 'high': 57.3, 'low': 52.9, 'close': 54.2, 'avg_price': 54.67, 'qty': 5, 'totalQty': 5727, 'pct_chg': -2.69, 'simulate': False, 'timeStr': '12:06:57'}, 'total_v': 1, 'pre_time': '09:15:00', 'pre_volume': 1883, 'pre_close': 54.8, 'open_h': 57.3, 'open_l': 54.5, 'opening': False, 'pos': 0, 'entry': 0, 'sl_threshold': 54.291999999999994, 'entry_time': '09:15:00', 'tmp_ret': 0.010948905109489093, 'max_ret': 0.010948905109489093, 'closing': False, 'traded': True, 'pnl': 360.00000000000136} \n",
      "\n",
      "{'contract': Stock(exchange=<Exchange.TSE: 'TSE'>, code='6477', symbol='TSE6477', name='安集', category='26', unit=1000, limit_up=58.0, limit_down=47.55, reference=52.8, update_date='2022/06/28', margin_trading_balance=423, short_selling_balance=59, day_trade=<DayTrade.Yes: 'Yes'>), 'open_threshold': 52.8, 'entry_percent': 0.06, 'exit_percent': 0.09, 'takeprofit': 0.6, 'start_moving_take': 0.015, 'sl_ratio': 0.02, 'v_threshold': 0.01, 'symbol': '6477', 'refPrice': 52.8, 'entry_threshold': 55.967999999999996, 'exit_threshold': 57.552, 'name': '安集', 'barG': <Utils.BarGenerator object at 0x124eefc50>, 'max_size': 5, '_api': <shioaji.shioaji.Shioaji object at 0x124c4a450>, 'first_5mink': {'open': 53.9, 'high': 54.4, 'low': 53.2, 'close': 53.8}, 'preHigh': 52.8, 'preLow': 50.1, 'q80_data': {'symbol': '6477', 'datetime': datetime.datetime(2022, 6, 28, 12, 7, 0, 640544), 'bid1': 53.5, 'bid2': 53.4, 'bid3': 53.3, 'bid4': 53.2, 'bid5': 53.1, 'bidQty1': 16.0, 'bidQty2': 23.0, 'bidQty3': 87.0, 'bidQty4': 36.0, 'bidQty5': 42.0, 'askQty1': 4.0, 'askQty2': 45.0, 'askQty3': 79.0, 'askQty4': 83.0, 'askQty5': 233.0, 'ask1': 53.6, 'ask2': 53.7, 'ask3': 53.8, 'ask4': 53.9, 'ask5': 54.0}, 'q20_data': {'symbol': '6477', 'datetime': datetime.datetime(2022, 6, 28, 12, 6, 58, 690440), 'open': 53.9, 'high': 55.4, 'low': 52.5, 'close': 53.6, 'avg_price': 53.99, 'qty': 1, 'totalQty': 25893, 'pct_chg': 1.51, 'simulate': False, 'timeStr': '12:06:58'}, 'total_v': 1, 'pre_time': '09:05:27', 'pre_volume': 3660, 'pre_close': 54.2, 'opening': False, 'pos': 0, 'entry': 0, 'sl_threshold': 53.70399999999999, 'entry_time': '09:05:27', 'tmp_ret': 0.011070110701106861, 'max_ret': 0.011070110701106861, 'closing': False, 'traded': True, 'pnl': 362.9999999999943, 'open_h': 55.4, 'open_l': 53.2} \n",
      "\n",
      "{'contract': Stock(exchange=<Exchange.TSE: 'TSE'>, code='8028', symbol='TSE8028', name='昇陽半導體', category='24', unit=1000, limit_up=76.8, limit_down=63.0, reference=69.9, update_date='2022/06/28', margin_trading_balance=285, short_selling_balance=24, day_trade=<DayTrade.Yes: 'Yes'>), 'open_threshold': 69.9, 'entry_percent': 0.06, 'exit_percent': 0.09, 'takeprofit': 0.6, 'start_moving_take': 0.015, 'sl_ratio': 0.02, 'v_threshold': 0.01, 'symbol': '8028', 'refPrice': 69.9, 'entry_threshold': 74.09400000000001, 'exit_threshold': 76.19100000000002, 'name': '昇陽半導體', 'barG': <Utils.BarGenerator object at 0x124f4b810>, 'max_size': 4, '_api': <shioaji.shioaji.Shioaji object at 0x124c4a450>, 'first_5mink': {'open': 69.3, 'high': 70.6, 'low': 68.9, 'close': 70.3}, 'preHigh': 69.9, 'preLow': 64.3, 'q80_data': {'symbol': '8028', 'datetime': datetime.datetime(2022, 6, 28, 12, 7, 0, 975816), 'bid1': 70.9, 'bid2': 70.8, 'bid3': 70.7, 'bid4': 70.6, 'bid5': 70.5, 'bidQty1': 5.0, 'bidQty2': 11.0, 'bidQty3': 23.0, 'bidQty4': 18.0, 'bidQty5': 46.0, 'askQty1': 11.0, 'askQty2': 22.0, 'askQty3': 40.0, 'askQty4': 56.0, 'askQty5': 73.0, 'ask1': 71.0, 'ask2': 71.1, 'ask3': 71.2, 'ask4': 71.3, 'ask5': 71.4}, 'q20_data': {'symbol': '8028', 'datetime': datetime.datetime(2022, 6, 28, 12, 6, 57, 516579), 'open': 69.3, 'high': 71.8, 'low': 68.9, 'close': 71.0, 'avg_price': 70.56, 'qty': 2, 'totalQty': 22667, 'pct_chg': 1.57, 'simulate': False, 'timeStr': '12:06:57'}, 'total_v': 53, 'pre_time': '09:07:14', 'pre_volume': 3422, 'pre_close': 70.7, 'opening': False, 'pos': 0, 'entry': 0, 'sl_threshold': 69.776, 'entry_time': '09:07:14', 'tmp_ret': -0.012747875354107485, 'max_ret': 0.008498583569405138, 'open_h': 70.8, 'open_l': 68.9, 'closing': False, 'traded': True, 'pnl': -1202.9999999999914} \n",
      "\n"
     ]
    }
   ],
   "source": [
    "single_pnl = 0\n",
    "max_pnl = 0\n",
    "ticker_list = []\n",
    "pnl_list = []\n",
    "max_pnl_list = []\n",
    "max_size_list = []\n",
    "ret_list = []\n",
    "est_total_value = 0\n",
    "est_single_value = 0\n",
    "for d in NotifyTickers.values():\n",
    "    print(d.__dict__, '\\n')\n",
    "    if d.long_traded or d.short_traded or d.traded:\n",
    "        ticker_list.append(d.symbol)\n",
    "        pnl_list.append(int(d.pnl))\n",
    "        max_size_list.append(d.max_size)\n",
    "        max_pnl_list.append(int(d.pnl * d.max_size))\n",
    "        ret_list.append(str(round(d.tmp_ret * 100, 2)) + \"%\")\n",
    "        est_single_value += d.trade_value # d.open_threshold * 1000\n",
    "        est_total_value += d.trade_value * int(d.max_size / 2) # d.open_threshold * 1000 * d.max_size\n",
    "        # print(d.symbol, int(d.pnl), str(round(d.tmp_ret * 100, 2)) + \"%\", d.max_size, int(d.pnl * d.max_size))\n",
    "        single_pnl += d.pnl\n",
    "        max_pnl += d.pnl * d.max_size\n",
    "\n",
    "ticker_list.append(\"合計\")\n",
    "pnl_list.append(int(single_pnl))\n",
    "max_size_list.append(est_total_value)\n",
    "max_pnl_list.append(int(max_pnl))\n",
    "ret_list.append((str(round((max_pnl / est_total_value) * 100, 2)) + \"%\") if est_total_value else \"0%\")"
   ]
  },
  {
   "cell_type": "code",
   "execution_count": 26,
   "metadata": {
    "ExecuteTime": {
     "end_time": "2022-06-28T05:10:55.472658Z",
     "start_time": "2022-06-28T05:10:55.462232Z"
    }
   },
   "outputs": [],
   "source": [
    "\n",
    "def createSummaryTable(tickers, pnl_list:list=None, max_pnl_list:list=None, max_size_list:list=None, ret_list:list=None):\n",
    "    try:\n",
    "        table = PrettyTable()\n",
    "        table.add_column('代號', tickers)\n",
    "        table.add_column(\"損益\", pnl_list)\n",
    "        table.add_column(\"報酬率\", ret_list)\n",
    "        table.add_column(\"最大倉位\", max_size_list)\n",
    "        table.add_column(\"最大倉損益\", max_pnl_list)\n",
    "        table.align = 'r'\n",
    "    except Exception as e:\n",
    "        print(e)\n",
    "    else:\n",
    "        return table\n",
    "    \n",
    "sum_table = createSummaryTable(ticker_list, pnl_list, max_pnl_list, max_size_list, ret_list)"
   ]
  },
  {
   "cell_type": "code",
   "execution_count": 27,
   "metadata": {
    "ExecuteTime": {
     "end_time": "2022-06-28T05:10:56.201039Z",
     "start_time": "2022-06-28T05:10:56.187419Z"
    },
    "scrolled": true
   },
   "outputs": [
    {
     "data": {
      "text/plain": [
       "['',\n",
       " '【2022-06-28】策略損益',\n",
       " '總損益(單部位) : -16744',\n",
       " '成交量(單部位) : 0',\n",
       " '總報酬(單部位) : 0%',\n",
       " '',\n",
       " '總損益(最大倉) : -22578',\n",
       " '成交量(最大倉) : 0',\n",
       " '總報酬(最大倉) : 0%',\n",
       " '']"
      ]
     },
     "execution_count": 27,
     "metadata": {},
     "output_type": "execute_result"
    }
   ],
   "source": [
    "text = f'\\n【{trade_dtStr}】策略損益\\n'\n",
    "text += f'總損益(單部位) : {int(single_pnl)}\\n'\n",
    "text += f'成交量(單部位) : {est_single_value}\\n'\n",
    "text += f'總報酬(單部位) : {str(round((int(single_pnl) / est_single_value) * 100, 2)) if est_single_value else \"0\"}%\\n\\n'\n",
    "\n",
    "text += f'總損益(最大倉) : {int(max_pnl)}\\n'\n",
    "text += f'成交量(最大倉) : {est_total_value}\\n'\n",
    "text += f'總報酬(最大倉) : {str(round((int(max_pnl) / est_total_value) * 100, 2)) if est_total_value else \"0\"}%\\n'\n",
    "text.split('\\n')#.replace('\\n', '<br>')"
   ]
  },
  {
   "cell_type": "code",
   "execution_count": 28,
   "metadata": {
    "ExecuteTime": {
     "end_time": "2022-06-28T05:11:57.500721Z",
     "start_time": "2022-06-28T05:11:57.491074Z"
    }
   },
   "outputs": [],
   "source": [
    "with open(os.path.join(trade_result_path,f'{trade_dtStr}_ResultTable.html'), 'w') as f:\n",
    "    f.write(sum_table.get_html_string())"
   ]
  },
  {
   "cell_type": "code",
   "execution_count": 17,
   "metadata": {
    "ExecuteTime": {
     "end_time": "2022-06-02T05:11:49.968987Z",
     "start_time": "2022-06-02T05:11:49.725549Z"
    }
   },
   "outputs": [
    {
     "data": {
      "text/plain": [
       "200"
      ]
     },
     "execution_count": 17,
     "metadata": {},
     "output_type": "execute_result"
    }
   ],
   "source": [
    "Line.sendMessage(text)"
   ]
  },
  {
   "cell_type": "code",
   "execution_count": 29,
   "metadata": {
    "ExecuteTime": {
     "end_time": "2022-06-28T05:12:07.804121Z",
     "start_time": "2022-06-28T05:12:07.747011Z"
    },
    "code_folding": [
     70,
     96,
     120
    ]
   },
   "outputs": [],
   "source": [
    "def CreateTradeRecord(api, trade_dtStr, dayTrade = True):\n",
    "    col_names = {\n",
    "        'date':\"交易日期\",\n",
    "        'cond':'委託種類',\n",
    "        'code':\"商品代碼\",\n",
    "        'quantity':\"數量\",\n",
    "        'price':'進場價格',\n",
    "        'cost':'進場成本',\n",
    "        'dseq':'委託單號',\n",
    "        'rep_margintrading_amt':\"融資金額\",\n",
    "        'rep_collateral':\"擔保品\",\n",
    "        'rep_margin':'保證金',\n",
    "        'fee':'進場手續費',\n",
    "        'interest':'利息',\n",
    "        'tax':'交易稅',\n",
    "        'shortselling_fee':\"借券費\",\n",
    "        'currency':\"幣別\",\n",
    "        'trade_type':\"交易別\",\n",
    "        'exit_price':\"出場價格\",\n",
    "        \"pnl\":\"淨損益\",\n",
    "        \"pr_ratio\":\"報酬率\"\n",
    "    }\n",
    "#     if dayTrade:\n",
    "#         col_names.update({\"pr_ratio\":\"報酬率\"})\n",
    "    #=====================\n",
    "    # 從 API 讀取交易紀錄\n",
    "    #=====================\n",
    "    pnls_sum = api.list_profit_loss(api.stock_account, trade_dtStr, trade_dtStr)\n",
    "    \n",
    "    details = []\n",
    "    for pnl in pnls_sum:\n",
    "        for detail in api.list_profit_loss_detail(api.stock_account, pnl['id']):\n",
    "            d = detail.dict()\n",
    "            \n",
    "            if d['trade_type'] == \"DayTrade\" and dayTrade:\n",
    "                d.update({\n",
    "                    'exit_price':pnl['price'],\n",
    "                    'pnl':pnl['pnl'],\n",
    "                    'pr_ratio':pnl['pr_ratio']\n",
    "                })\n",
    "                details.append(d)\n",
    "            elif d['trade_type'] != \"DayTrade\" and not dayTrade:\n",
    "                d.update({\n",
    "                    'exit_price':pnl['price'],\n",
    "                    'pnl':pnl['pnl'],\n",
    "                    'pr_ratio':pnl['pr_ratio']\n",
    "                })\n",
    "                details.append(d)\n",
    "            \n",
    "    #=====================\n",
    "    # 計算交易明細\n",
    "    #=====================            \n",
    "    df_Record = DataFrame(details)\n",
    "    if not df_Record.empty:\n",
    "#         print(df_Record)\n",
    "        df_Record = df_Record.rename(columns=col_names)\n",
    "        df_Record['報酬率'] = (df_Record['報酬率'] * 100).apply(lambda x: str(round(x,2)))+\"%\"\n",
    "\n",
    "        df_Record['獲利'] = (df_Record['出場價格'] - df_Record['進場價格']) * 1000 * df_Record['數量']\n",
    "        df_Record['交易稅'] = (df_Record['出場價格'] * df_Record['數量'] * 3 * (.5 if dayTrade else 1)).fillna(0).apply(lambda x: int(x))\n",
    "        df_Record['出場手續費'] = round(df_Record['出場價格'] * 1.425)\n",
    "        df_Record['總交易成本'] = df_Record['交易稅'] + df_Record['進場手續費'] + df_Record['出場手續費']\n",
    "        if not dayTrade:\n",
    "            df_Record['總交易成本'] += df_Record['利息']\n",
    "        \n",
    "        df_Record['總損益(自結)'] = df_Record['獲利'] - df_Record['總交易成本']\n",
    "    \n",
    "    #=====================\n",
    "    # 計算總和\n",
    "    #=====================\n",
    "    summary = {\n",
    "        '交易日期':\"合計\",\n",
    "        '委託種類':\"\",\n",
    "        \"商品代碼\":\"\",\n",
    "        \"數量\":0,\n",
    "        '進場價格':\"\",\n",
    "        '進場成本':0,\n",
    "        '委託單號':\"\",\n",
    "        \"融資金額\":0,\n",
    "        \"擔保品\":0,\n",
    "        '保證金':0,\n",
    "        '進場手續費':0,\n",
    "        '利息':0,\n",
    "        '交易稅':0,\n",
    "        \"借券費\":0,\n",
    "        \"幣別\":\"NTD\",\n",
    "        \"交易別\":\"\",\n",
    "        \"出場價格\":\"\",\n",
    "        \"淨損益\":0,\n",
    "        \"報酬率\":\"0%\",\n",
    "        \"獲利\":0,\n",
    "        \"出場手續費\":0,\n",
    "        \"總交易成本\":0,\n",
    "        \"總損益(自結)\":0,\n",
    "\n",
    "    }\n",
    "    if not df_Record.empty:\n",
    "        summary.update({\n",
    "            \"數量\":int(df_Record['數量'].sum()),\n",
    "            '進場成本':int((df_Record['進場價格'] * df_Record[\"數量\"] * 1000).sum()),\n",
    "            \"融資金額\":int(df_Record['融資金額'].sum()),\n",
    "            \"擔保品\":int(df_Record['擔保品'].sum()),\n",
    "            '保證金':int(df_Record['保證金'].sum()),\n",
    "            '進場手續費':int(df_Record['進場手續費'].sum()),\n",
    "            '利息':int(df_Record['利息'].sum()),\n",
    "            '交易稅':int(df_Record['交易稅'].sum()),\n",
    "            \"借券費\":int(df_Record['借券費'].sum()),\n",
    "            \"淨損益\":int(df_Record['淨損益'].sum()),\n",
    "            \"獲利\":int(df_Record['獲利'].sum()),\n",
    "            \"出場手續費\":int(df_Record['出場手續費'].sum()),\n",
    "            \"總交易成本\":int(df_Record['總交易成本'].sum()),\n",
    "            \"總損益(自結)\":int(df_Record['總損益(自結)'].sum()),\n",
    "        })\n",
    "        summary['報酬率'] = f\"{round(summary['總損益(自結)'] / summary['進場成本'] * 100, 2)}%\"\n",
    "    summary_df = DataFrame([summary])\n",
    "    \n",
    "    #=====================\n",
    "    # 計算總和\n",
    "    #=====================\n",
    "    final_Record = summary_df\n",
    "    if not df_Record.empty:\n",
    "        final_Record = df_Record.append(summary_df)\n",
    "    final_Record = final_Record[\"交易日期,委託種類,交易別,商品代碼,委託單號,數量,進場價格,進場成本,出場價格,融資金額,擔保品,保證金,利息,借券費,進場手續費,出場手續費,交易稅,獲利,總交易成本,淨損益,總損益(自結),報酬率\".split(',')]\n",
    "    extra_file_name = '當沖' if dayTrade else '隔日沖'\n",
    "    file_name = os.path.join(trade_result_path, f\"{trade_dtStr}_TradingRecord_{extra_file_name}.csv\")\n",
    "#     print(file_name)\n",
    "    final_Record.to_csv(file_name, encoding='utf-8-sig',index=False)"
   ]
  },
  {
   "cell_type": "code",
   "execution_count": 34,
   "metadata": {
    "ExecuteTime": {
     "end_time": "2022-06-28T05:17:41.973001Z",
     "start_time": "2022-06-28T05:17:41.381543Z"
    }
   },
   "outputs": [],
   "source": [
    "## temp_str = \"2022-03-\"\n",
    "CreateTradeRecord(api, trade_dtStr)\n",
    "CreateTradeRecord(api, trade_dtStr, False)"
   ]
  },
  {
   "cell_type": "markdown",
   "metadata": {},
   "source": [
    "# Cross Day Trade"
   ]
  },
  {
   "cell_type": "code",
   "execution_count": 32,
   "metadata": {
    "ExecuteTime": {
     "end_time": "2022-06-28T05:17:38.967909Z",
     "start_time": "2022-06-28T05:17:38.946808Z"
    },
    "code_folding": [
     0,
     30
    ]
   },
   "outputs": [],
   "source": [
    "def EntryCrossDayTrade(api, ticker, qty=1, Fixing=False):\n",
    "    tmp_contract = api.Contracts.Stocks[ticker]\n",
    "    snap = api.snapshots([tmp_contract])[0]\n",
    "\n",
    "    order_price = tmp_contract.limit_up\n",
    "#     if snap.buy_volume < snap.sell_volume:\n",
    "#         order_price = snap.buy_price\n",
    "#     else:\n",
    "#         order_price = snap.sell_price\n",
    "    orders = []\n",
    "    if tmp_contract.margin_trading_balance <= 0:# and order_price > 100:\n",
    "        print(ticker, tmp_contract['name'], '無法進行資買')\n",
    "        return\n",
    "    for i in range(qty):\n",
    "        order = api.Order(\n",
    "                price=order_price,\n",
    "                quantity=1,\n",
    "                action=sj.constant.Action.Buy,\n",
    "                price_type=sj.constant.StockPriceType.LMT,\n",
    "                order_type=sj.constant.TFTOrderType.ROD,\n",
    "                first_sell=sj.constant.StockFirstSell.Yes,# if side == 'S' else sj.constant.StockFirstSell.No,\n",
    "                order_cond=sj.constant.StockOrderCond.MarginTrading if tmp_contract.margin_trading_balance > 0 else sj.constant.StockOrderCond.Cash,\n",
    "                order_lot=sj.constant.TFTStockOrderLot.Common if not Fixing else sj.constant.TFTStockOrderLot.Fixing,\n",
    "            )\n",
    "        tmp_order = api.place_order(tmp_contract, order)\n",
    "        if tmp_order.status.status == \"Failed\":\n",
    "            print(ticker, tmp_order, '\\n')\n",
    "        orders.append(tmp_order)\n",
    "    return orders\n",
    "\n",
    "def ExitCrossDayTrade(api, ticker, qty=1, Fixing=False):\n",
    "    tmp_contract = api.Contracts.Stocks[ticker]\n",
    "    snap = api.snapshots([tmp_contract])[0]\n",
    "\n",
    "    order_price = snap.close\n",
    "    if snap.buy_volume < snap.sell_volume:\n",
    "        order_price = snap.buy_price\n",
    "    else:\n",
    "        order_price = snap.sell_price\n",
    "    orders = []\n",
    "    for i in range(qty):\n",
    "        order = api.Order(\n",
    "                price=order_price,\n",
    "                quantity=1,\n",
    "                action=sj.constant.Action.Sell,\n",
    "                price_type=sj.constant.StockPriceType.LMT,\n",
    "                order_type=sj.constant.TFTOrderType.ROD,\n",
    "                first_sell=sj.constant.StockFirstSell.Yes,# if side == 'S' else sj.constant.StockFirstSell.No,\n",
    "                order_cond=sj.constant.StockOrderCond.MarginTrading if tmp_contract.margin_trading_balance > 0 else sj.constant.StockOrderCond.Cash,\n",
    "                order_lot=sj.constant.TFTStockOrderLot.Common if not Fixing else sj.constant.TFTStockOrderLot.Fixing,\n",
    "            )\n",
    "        tmp_order = api.place_order(tmp_contract, order)\n",
    "        if tmp_order.status.status == \"Failed\":\n",
    "            print(ticker, tmp_order, '\\n')\n",
    "        orders.append(tmp_order)\n",
    "    return orders"
   ]
  },
  {
   "cell_type": "code",
   "execution_count": 33,
   "metadata": {
    "ExecuteTime": {
     "end_time": "2022-06-28T05:17:39.742844Z",
     "start_time": "2022-06-28T05:17:39.736773Z"
    },
    "scrolled": true
   },
   "outputs": [],
   "source": [
    "CrossDayOrders = {}"
   ]
  },
  {
   "cell_type": "code",
   "execution_count": 31,
   "metadata": {
    "ExecuteTime": {
     "end_time": "2022-06-28T05:17:37.908606Z",
     "start_time": "2022-06-28T05:17:34.541964Z"
    }
   },
   "outputs": [
    {
     "name": "stdout",
     "output_type": "stream",
     "text": [
      "Response Code: 0 | Event Code: 0 | Info: host '203.66.91.161:80', hostname '203.66.91.161:80' IP 203.66.91.161:80 (host 1 of 1) (host connection attempt 1 of 1) (total connection attempt 1 of 1) | Event: Session up\n"
     ]
    },
    {
     "data": {
      "text/plain": [
       "True"
      ]
     },
     "execution_count": 31,
     "metadata": {},
     "output_type": "execute_result"
    }
   ],
   "source": [
    "# api.logout()\n",
    "api = sj.Shioaji()\n",
    "\n",
    "api.login(\"F128497445\", \"89118217k\")\n",
    "api.activate_ca(os.path.join(parent, 'Sinopac.pfx'), 'j7629864', 'F128497445')"
   ]
  },
  {
   "cell_type": "markdown",
   "metadata": {},
   "source": [
    "## Entry"
   ]
  },
  {
   "cell_type": "code",
   "execution_count": 35,
   "metadata": {
    "ExecuteTime": {
     "end_time": "2022-06-28T05:26:57.870897Z",
     "start_time": "2022-06-28T05:26:56.972695Z"
    },
    "scrolled": true
   },
   "outputs": [
    {
     "name": "stdout",
     "output_type": "stream",
     "text": [
      "OrderState.TFTOrder {'operation': {'op_type': 'New', 'op_code': '00', 'op_msg': ''}, 'order': {'id': 'e3124cc0', 'seqno': '066723', 'ordno': 'IG191', 'account': {'account_type': 'S', 'person_id': '', 'broker_id': '9A92', 'account_id': '0231901', 'signed': True}, 'action': 'Buy', 'price': 14.85, 'quantity': 1, 'order_type': 'ROD', 'price_type': 'LMT', 'order_cond': 'MarginTrading', 'order_lot': 'Common', 'custom_field': ''}, 'status': {'id': 'e3124cc0', 'exchange_ts': 1656394017, 'modified_price': 0.0, 'cancel_quantity': 0, 'order_quantity': 1, 'web_id': '137'}, 'contract': {'security_type': 'STK', 'exchange': 'TSE', 'code': '2427', 'symbol': '', 'name': '', 'currency': 'TWD'}}\n",
      "OrderState.TFTOrder {'operation': {'op_type': 'New', 'op_code': '00', 'op_msg': ''}, 'order': {'id': '487838f4', 'seqno': '066724', 'ordno': 'IG192', 'account': {'account_type': 'S', 'person_id': '', 'broker_id': '9A92', 'account_id': '0231901', 'signed': True}, 'action': 'Buy', 'price': 22.85, 'quantity': 1, 'order_type': 'ROD', 'price_type': 'LMT', 'order_cond': 'MarginTrading', 'order_lot': 'Common', 'custom_field': ''}, 'status': {'id': '487838f4', 'exchange_ts': 1656394017, 'modified_price': 0.0, 'cancel_quantity': 0, 'order_quantity': 1, 'web_id': '137'}, 'contract': {'security_type': 'STK', 'exchange': 'TSE', 'code': '3038', 'symbol': '', 'name': '', 'currency': 'TWD'}}\n",
      "OrderState.TFTOrder {'operation': {'op_type': 'New', 'op_code': '00', 'op_msg': ''}, 'order': {'id': '0fced377', 'seqno': '066726', 'ordno': 'IG193', 'account': {'account_type': 'S', 'person_id': '', 'broker_id': '9A92', 'account_id': '0231901', 'signed': True}, 'action': 'Buy', 'price': 13.55, 'quantity': 1, 'order_type': 'ROD', 'price_type': 'LMT', 'order_cond': 'MarginTrading', 'order_lot': 'Common', 'custom_field': ''}, 'status': {'id': '0fced377', 'exchange_ts': 1656394017, 'modified_price': 0.0, 'cancel_quantity': 0, 'order_quantity': 1, 'web_id': '137'}, 'contract': {'security_type': 'STK', 'exchange': 'TSE', 'code': '3047', 'symbol': '', 'name': '', 'currency': 'TWD'}}\n"
     ]
    }
   ],
   "source": [
    "for ticker in '2427,3038,3047'.split(','):\n",
    "    if len(ticker) > 0:\n",
    "        CrossDayOrders[ticker] = EntryCrossDayTrade(api, ticker, 1) # 盤中\n",
    "#         CrossDayOrders[ticker] = EntryCrossDayTrade(api, ticker, 1, True) # 盤後定價"
   ]
  },
  {
   "cell_type": "code",
   "execution_count": 29,
   "metadata": {
    "ExecuteTime": {
     "end_time": "2022-06-20T06:50:05.206098Z",
     "start_time": "2022-06-20T06:50:05.141246Z"
    }
   },
   "outputs": [],
   "source": [
    "api.update_status()"
   ]
  },
  {
   "cell_type": "code",
   "execution_count": 30,
   "metadata": {
    "ExecuteTime": {
     "end_time": "2022-06-20T06:50:05.982975Z",
     "start_time": "2022-06-20T06:50:05.966762Z"
    },
    "scrolled": true
   },
   "outputs": [
    {
     "data": {
      "text/plain": [
       "[Trade(contract=Stock(exchange=<Exchange.OTC: 'OTC'>, code='4541', symbol='OTC4541', name='晟田', category='20', unit=1000, limit_up=30.9, limit_down=25.3, reference=28.1, update_date='2022/06/20', margin_trading_balance=173, day_trade=<DayTrade.Yes: 'Yes'>), order=Order(action=<Action.Buy: 'Buy'>, price=30.9, quantity=1, id='e8a775ba', seqno='218157', ordno='II643', account=Account(account_type=<AccountType.Stock: 'S'>, person_id='F128497445', broker_id='9A92', account_id='0231901', signed=True), price_type=<StockPriceType.LMT: 'LMT'>, order_type=<FuturesOrderType.ROD: 'ROD'>, order_cond=<StockOrderCond.MarginTrading: 'MarginTrading'>, first_sell=<StockFirstSell.Yes: 'true'>), status=OrderStatus(id='e8a775ba', status=<Status.Filled: 'Filled'>, status_code='00', web_id='137', order_datetime=datetime.datetime(2022, 6, 20, 13, 27, 45), deal_quantity=1, deals=[])),\n",
       " Trade(contract=Stock(exchange=<Exchange.OTC: 'OTC'>, code='8421', symbol='OTC8421', name='旭源', category='20', unit=1000, limit_up=22.0, limit_down=18.0, reference=20.0, update_date='2022/06/20', margin_trading_balance=33, day_trade=<DayTrade.Yes: 'Yes'>), order=Order(action=<Action.Buy: 'Buy'>, price=22.0, quantity=1, id='bec143ee', seqno='218159', ordno='II644', account=Account(account_type=<AccountType.Stock: 'S'>, person_id='F128497445', broker_id='9A92', account_id='0231901', signed=True), price_type=<StockPriceType.LMT: 'LMT'>, order_type=<FuturesOrderType.ROD: 'ROD'>, order_cond=<StockOrderCond.MarginTrading: 'MarginTrading'>, first_sell=<StockFirstSell.Yes: 'true'>), status=OrderStatus(id='bec143ee', status=<Status.Filled: 'Filled'>, status_code='00', web_id='137', order_datetime=datetime.datetime(2022, 6, 20, 13, 27, 45), deal_quantity=1, deals=[])),\n",
       " Trade(contract=Contract(security_type=<SecurityType.Stock: 'STK'>, exchange=<Exchange.OTC: 'OTC'>, code='4503'), order=Order(action=<Action.Sell: 'Sell'>, price=42.65, quantity=1, id='0609bff8', seqno='829903', ordno='IA533', account=Account(account_type=<AccountType.Stock: 'S'>, person_id='F128497445', broker_id='9A92', account_id='0231901', signed=True), price_type=<StockPriceType.LMT: 'LMT'>, order_type=<FuturesOrderType.ROD: 'ROD'>, order_cond=<StockOrderCond.MarginTrading: 'MarginTrading'>), status=OrderStatus(id='0609bff8', status=<Status.Filled: 'Filled'>, status_code='00', web_id='144', order_datetime=datetime.datetime(2022, 6, 20, 8, 47, 15), modified_price=39.75, deal_quantity=1, deals=[])),\n",
       " Trade(contract=Contract(security_type=<SecurityType.Stock: 'STK'>, exchange=<Exchange.TSE: 'TSE'>, code='4906'), order=Order(action=<Action.Sell: 'Sell'>, price=30.15, quantity=2, id='6c03b55d', seqno='731905', ordno='IB085', account=Account(account_type=<AccountType.Stock: 'S'>, person_id='F128497445', broker_id='9A92', account_id='0231901', signed=True), price_type=<StockPriceType.LMT: 'LMT'>, order_type=<FuturesOrderType.ROD: 'ROD'>, order_cond=<StockOrderCond.MarginTrading: 'MarginTrading'>), status=OrderStatus(id='6c03b55d', status=<Status.Filled: 'Filled'>, status_code='00', web_id='144', order_datetime=datetime.datetime(2022, 6, 20, 9, 3, 6), modified_price=30.0, deal_quantity=2, deals=[]))]"
      ]
     },
     "execution_count": 30,
     "metadata": {},
     "output_type": "execute_result"
    }
   ],
   "source": [
    "api.list_trades()"
   ]
  },
  {
   "cell_type": "markdown",
   "metadata": {},
   "source": [
    "## Exit"
   ]
  },
  {
   "cell_type": "code",
   "execution_count": 27,
   "metadata": {
    "ExecuteTime": {
     "end_time": "2022-04-18T05:41:12.507033Z",
     "start_time": "2022-04-18T05:41:12.140984Z"
    },
    "scrolled": true
   },
   "outputs": [
    {
     "name": "stdout",
     "output_type": "stream",
     "text": [
      "Order Status : TFTORDER, Order Data : {'operation': {'op_type': 'New', 'op_code': '88', 'op_msg': '融資賣出餘股數不足，餘股數 0 股（自辦）'}, 'order': {'id': 'b11f544b', 'seqno': '081598', 'ordno': 'I0000', 'account': {'account_type': 'S', 'person_id': '', 'broker_id': '9A92', 'account_id': '0231901', 'signed': True}, 'action': 'Sell', 'price': 58.9, 'quantity': 1, 'order_type': 'ROD', 'price_type': 'LMT', 'order_cond': 'MarginTrading', 'order_lot': 'Fixing', 'custom_field': ''}, 'status': {'id': 'b11f544b', 'exchange_ts': 1650261720, 'modified_price': 0.0, 'cancel_quantity': 0, 'order_quantity': 0, 'web_id': '137'}, 'contract': {'security_type': 'STK', 'exchange': 'TSE', 'code': '6217', 'symbol': '', 'name': '', 'currency': 'TWD'}} \n",
      "\n",
      "Order Status : TFTORDER, Order Data : {'operation': {'op_type': 'New', 'op_code': '88', 'op_msg': '融資賣出餘股數不足，餘股數 0 股（自辦）'}, 'order': {'id': 'f8f9b234', 'seqno': '081600', 'ordno': 'I0000', 'account': {'account_type': 'S', 'person_id': '', 'broker_id': '9A92', 'account_id': '0231901', 'signed': True}, 'action': 'Sell', 'price': 56.8, 'quantity': 1, 'order_type': 'ROD', 'price_type': 'LMT', 'order_cond': 'MarginTrading', 'order_lot': 'Fixing', 'custom_field': ''}, 'status': {'id': 'f8f9b234', 'exchange_ts': 1650261720, 'modified_price': 0.0, 'cancel_quantity': 0, 'order_quantity': 0, 'web_id': '137'}, 'contract': {'security_type': 'STK', 'exchange': 'TSE', 'code': '6598', 'symbol': '', 'name': '', 'currency': 'TWD'}} \n",
      "\n",
      "Order Status : TFTORDER, Order Data : {'operation': {'op_type': 'New', 'op_code': '88', 'op_msg': '融資賣出餘股數不足，餘股數 0 股（自辦）'}, 'order': {'id': '6fc13d00', 'seqno': '081601', 'ordno': 'I0000', 'account': {'account_type': 'S', 'person_id': '', 'broker_id': '9A92', 'account_id': '0231901', 'signed': True}, 'action': 'Sell', 'price': 95.7, 'quantity': 1, 'order_type': 'ROD', 'price_type': 'LMT', 'order_cond': 'MarginTrading', 'order_lot': 'Fixing', 'custom_field': ''}, 'status': {'id': '6fc13d00', 'exchange_ts': 1650261720, 'modified_price': 0.0, 'cancel_quantity': 0, 'order_quantity': 0, 'web_id': '137'}, 'contract': {'security_type': 'STK', 'exchange': 'TSE', 'code': '2637', 'symbol': '', 'name': '', 'currency': 'TWD'}} \n",
      "\n",
      "Order Status : TFTORDER, Order Data : {'operation': {'op_type': 'New', 'op_code': '00', 'op_msg': ''}, 'order': {'id': '8a72e2f1', 'seqno': '081599', 'ordno': 'IJ697', 'account': {'account_type': 'S', 'person_id': '', 'broker_id': '9A92', 'account_id': '0231901', 'signed': True}, 'action': 'Sell', 'price': 235.0, 'quantity': 1, 'order_type': 'ROD', 'price_type': 'LMT', 'order_cond': 'Cash', 'order_lot': 'Fixing', 'custom_field': ''}, 'status': {'id': '8a72e2f1', 'exchange_ts': 1650261720, 'modified_price': 0.0, 'cancel_quantity': 0, 'order_quantity': 1, 'web_id': '137'}, 'contract': {'security_type': 'STK', 'exchange': 'TSE', 'code': '6712', 'symbol': '', 'name': '', 'currency': 'TWD'}} \n",
      "\n",
      "Order Status : TFTORDER, Order Data : {'operation': {'op_type': 'New', 'op_code': '88', 'op_msg': '該證券不得融券賣出'}, 'order': {'id': 'c225ea8d', 'seqno': '097118', 'ordno': 'I0000', 'account': {'account_type': 'S', 'person_id': '', 'broker_id': '9A92', 'account_id': '0231901', 'signed': True}, 'action': 'Sell', 'price': 58.9, 'quantity': 1, 'order_type': 'ROD', 'price_type': 'LMT', 'order_cond': 'ShortSelling', 'order_lot': 'Fixing', 'custom_field': ''}, 'status': {'id': 'c225ea8d', 'exchange_ts': 1650261986, 'modified_price': 0.0, 'cancel_quantity': 0, 'order_quantity': 0, 'web_id': '129'}, 'contract': {'security_type': 'STK', 'exchange': 'TSE', 'code': '6217', 'symbol': '', 'name': '', 'currency': 'TWD'}} \n",
      "\n",
      "Order Status : TFTORDER, Order Data : {'operation': {'op_type': 'New', 'op_code': '00', 'op_msg': ''}, 'order': {'id': '907dbbbd', 'seqno': '098437', 'ordno': 'IJ724', 'account': {'account_type': 'S', 'person_id': '', 'broker_id': '9A92', 'account_id': '0231901', 'signed': True}, 'action': 'Sell', 'price': 95.8, 'quantity': 1, 'order_type': 'ROD', 'price_type': 'LMT', 'order_cond': 'ShortSelling', 'order_lot': 'Fixing', 'custom_field': ''}, 'status': {'id': '907dbbbd', 'exchange_ts': 1650262001, 'modified_price': 0.0, 'cancel_quantity': 0, 'order_quantity': 1, 'web_id': '129'}, 'contract': {'security_type': 'STK', 'exchange': 'TSE', 'code': '2637', 'symbol': '', 'name': '', 'currency': 'TWD'}} \n",
      "\n",
      "Order Status : TFTORDER, Order Data : {'operation': {'op_type': 'New', 'op_code': '88', 'op_msg': '該證券不得融券賣出'}, 'order': {'id': '60755eb1', 'seqno': '100134', 'ordno': 'I0000', 'account': {'account_type': 'S', 'person_id': '', 'broker_id': '9A92', 'account_id': '0231901', 'signed': True}, 'action': 'Sell', 'price': 56.8, 'quantity': 1, 'order_type': 'ROD', 'price_type': 'LMT', 'order_cond': 'ShortSelling', 'order_lot': 'Fixing', 'custom_field': ''}, 'status': {'id': '60755eb1', 'exchange_ts': 1650262023, 'modified_price': 0.0, 'cancel_quantity': 0, 'order_quantity': 0, 'web_id': '129'}, 'contract': {'security_type': 'STK', 'exchange': 'TSE', 'code': '6598', 'symbol': '', 'name': '', 'currency': 'TWD'}} \n",
      "\n"
     ]
    }
   ],
   "source": [
    "for ticker in ''.split(','):\n",
    "    if len(ticker) > 0:\n",
    "#         CrossDayOrders[ticker] = ExitCrossDayTrade(api, ticker, 1) # 盤中\n",
    "        CrossDayOrders[ticker] = ExitCrossDayTrade(api, ticker, 1, True) # 盤後定價"
   ]
  }
 ],
 "metadata": {
  "hide_input": false,
  "kernelspec": {
   "display_name": "Python 3",
   "language": "python",
   "name": "python3"
  },
  "toc": {
   "base_numbering": 1,
   "nav_menu": {},
   "number_sections": true,
   "sideBar": true,
   "skip_h1_title": false,
   "title_cell": "Table of Contents",
   "title_sidebar": "Contents",
   "toc_cell": false,
   "toc_position": {},
   "toc_section_display": true,
   "toc_window_display": false
  },
  "varInspector": {
   "cols": {
    "lenName": 16,
    "lenType": 16,
    "lenVar": 40
   },
   "kernels_config": {
    "python": {
     "delete_cmd_postfix": "",
     "delete_cmd_prefix": "del ",
     "library": "var_list.py",
     "varRefreshCmd": "print(var_dic_list())"
    },
    "r": {
     "delete_cmd_postfix": ") ",
     "delete_cmd_prefix": "rm(",
     "library": "var_list.r",
     "varRefreshCmd": "cat(var_dic_list()) "
    }
   },
   "types_to_exclude": [
    "module",
    "function",
    "builtin_function_or_method",
    "instance",
    "_Feature"
   ],
   "window_display": false
  }
 },
 "nbformat": 4,
 "nbformat_minor": 4
}
