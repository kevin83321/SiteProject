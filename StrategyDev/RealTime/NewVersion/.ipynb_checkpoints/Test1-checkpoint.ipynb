{
 "cells": [
  {
   "cell_type": "code",
   "execution_count": 2,
   "metadata": {
    "ExecuteTime": {
     "end_time": "2022-06-20T00:24:09.529338Z",
     "start_time": "2022-06-20T00:24:09.517456Z"
    }
   },
   "outputs": [],
   "source": [
    "import shioaji as sj\n",
    "# from pymongo import MongoClient\n",
    "from datetime import datetime, timedelta\n",
    "from pandas import DataFrame, to_datetime\n",
    "import numpy as np\n",
    "from Messenger.LineMessenger import LineMessenger as Line\n",
    "from time import sleep\n",
    "import pytz\n",
    "\n",
    "import warnings\n",
    "warnings.filterwarnings(\"ignore\")\n",
    "\n",
    "from DataIO import *\n",
    "from Utils import *\n",
    "\n",
    "from prettytable import PrettyTable\n",
    "import json\n",
    "import os \n",
    "parent = os.path.dirname(os.path.abspath(\"__file__\"))\n",
    "StrongPath = os.path.join(parent, 'StrongTickers')\n",
    "if not os.path.isdir(StrongPath):\n",
    "    os.makedirs(StrongPath)\n",
    "trade_result_path = os.path.join(parent, \"TradeRecord\")\n",
    "if not os.path.isdir(trade_result_path):\n",
    "    os.makedirs(trade_result_path)"
   ]
  },
  {
   "cell_type": "code",
   "execution_count": 5,
   "metadata": {
    "ExecuteTime": {
     "end_time": "2022-06-20T00:24:31.342007Z",
     "start_time": "2022-06-20T00:24:31.212769Z"
    },
    "code_folding": [
     63,
     93,
     147
    ]
   },
   "outputs": [],
   "source": [
    "class DataObject:\n",
    "    \n",
    "    opening = False\n",
    "    closing = False\n",
    "    pre_time = \"09:00:00\"\n",
    "    name:str=\"\"\n",
    "    pre_volume:int = 0\n",
    "    pre_close:int = 0\n",
    "    total_v:int = 0\n",
    "    q20_data:dict = {}\n",
    "    q80_data:dict = {} \n",
    "    open_threshold:float = 0\n",
    "    _api = None\n",
    "    symbol:str = \"\"\n",
    "    refPrice:float = 0\n",
    "    entry_percent:float = .06\n",
    "    exit_percent:float = .09\n",
    "    sl_ratio:float = .03\n",
    "    short_sl_ratio:float = .02\n",
    "    v_threshold:float = .01\n",
    "    entry_threshold:float = 0\n",
    "    exit_threshold:float = 0\n",
    "    max_ret:float = 0\n",
    "    tmp_ret:float = 0\n",
    "    pos = 0\n",
    "    traded = 0\n",
    "    entry = 0\n",
    "    entry_time = \"\"\n",
    "    trade_value = 0\n",
    "    order = None\n",
    "    onOrderProcess = False\n",
    "\n",
    "    preHigh = None\n",
    "    preLow = None\n",
    "    sl_threshold = 0\n",
    "    \n",
    "    open_l = None\n",
    "    open_h = None\n",
    "    \n",
    "    long_traded = 0\n",
    "    short_traded = 0\n",
    "    \n",
    "    pnl:float = 0\n",
    "    \n",
    "    def __init__(self, contract, open_threshold:float, api=None, PreData:dict=None,\n",
    "                 v_threshold:float=.01, entry_percent:float=.06, exit_percent:float=.09, \n",
    "                 takeprofit:float=.6, start_moving_take = .015, sl_ratio:float=.02, max_size:float = 1):\n",
    "        self.contract = contract\n",
    "        self.open_threshold = open_threshold\n",
    "        self.entry_percent = entry_percent\n",
    "        self.exit_percent = exit_percent\n",
    "        self.takeprofit = takeprofit\n",
    "        self.start_moving_take = start_moving_take\n",
    "        self.sl_ratio = sl_ratio\n",
    "        self.v_threshold = v_threshold\n",
    "        self._initialByContract(contract)\n",
    "        self.max_size = max_size\n",
    "        self._api = api\n",
    "        self.first_5mink = {'open':None, 'high':0,'low':9999, 'close':0}\n",
    "        if PreData:\n",
    "            self.preHigh = PreData['PreHigh']\n",
    "            self.preLow = PreData['PreLow']\n",
    "        \n",
    "    def _initialByContract(self, contract):\n",
    "        self.symbol = contract.code\n",
    "        self.refPrice = contract.reference\n",
    "        self.entry_threshold = self.refPrice * (1 + self.entry_percent)\n",
    "        self.exit_threshold = self.refPrice * (1 + self.exit_percent)\n",
    "        self.name = contract.name\n",
    "        self.barG = BarGenerator(self.symbol, callback=self.updateSignalWithBar)#, date=date)\n",
    "        \n",
    "    def updateQ20Dict(self, data:dict={}):\n",
    "#         print(data)\n",
    "        if data is None:return\n",
    "        if data['simulate'] :return\n",
    "        if data['symbol'] != self.symbol: return\n",
    "        self.q20_data = data\n",
    "        self.q20_data['timeStr'] = self.q20_data['datetime'].strftime(\"%H:%M:%S\")\n",
    "#         total_volume += qty\n",
    "        self.updateSignal()\n",
    "        self.updateStatus()\n",
    "        try:\n",
    "            tick = TickData(time=data['datetime'], close=data['close'],volume=data['qty'])\n",
    "            self.barG.updateBar(tick)\n",
    "        except Exception as e:\n",
    "            print(f\"update Tick and Bar, Error :{e}\")\n",
    "    \n",
    "    def updateQ80Dict(self, data:dict):\n",
    "\n",
    "#         print(data)\n",
    "        if data['symbol'] != self.symbol: return\n",
    "        self.q80_data = data\n",
    "    \n",
    "    def updateOrderDeal(self, stat, data):\n",
    "        \n",
    "        if not (self.closing or self.opening): return \n",
    "        signal_time = datetime.now().strftime(\"%Y-%m-%d %H:%M:%S.%f\")\n",
    "        if stat == sj.constant.OrderState.TFTOrder:\n",
    "            if data['status']['cancel_quantity'] == data['order']['quantity']:\n",
    "                self.opening = self.closing = onOrderProcess = False\n",
    "                return\n",
    "        elif stat == sj.constant.OrderState.TFTDeal:\n",
    "            self.pos += (1 if data['action'] == sj.constant.Action.Buy else -1) * data['quantity']\n",
    "            if self.pos:\n",
    "                self.entry = data['price']\n",
    "                print(f\"{self.symbol} current pos = {self.pos} with entry price = {self.entry}\")\n",
    "                self.sl_threshold = self.entry * (1 - self.sl_ratio * np.sign(self.pos))\n",
    "                self.entry_time = signal_time\n",
    "                self.opening = False\n",
    "                if self.pos < 0:\n",
    "                    self.short_sl_ratio = max(self.open_h / self.entry - 1, self.sl_ratio)\n",
    "                    self.sl_threshold = self.entry * (1 - self.short_sl_ratio * np.sign(self.pos))\n",
    "            else:\n",
    "                exit = data['price']\n",
    "#                 signal_time = datetime.now().strftime(\"%Y-%m-%d %H:%M:%S.%f\")\n",
    "                print(f\"{self.symbol}, exit price : {exit}\")\n",
    "#                 tmp_pnl = (exit - self.entry) * 1000 * (1 if data['action'] == sj.constant.Action.Sell else -1)\n",
    "#                 tmp_pnl -= int(get_commission(self.entry if data['action'] == sj.constant.Action.Sell else exit)) # 進場成本\n",
    "#                 tmp_pnl -= int(get_commission(exit if data['action'] == sj.constant.Action.Sell else self.entry, direction='EXIT', dayTrade=True)) # 出場成本\n",
    "                tmp_pnl = self.calculatePnL(self.entry, exit, data['action'])\n",
    "                tmp_ret = tmp_pnl / (self.entry * 1000) # - 1\n",
    "                self.pnl += tmp_pnl\n",
    "\n",
    "                cover_text = '\\n\\n---------------PnL Summary--------------\\n'\n",
    "                cover_text = f'時間 : {datetime.now().strftime(\"%Y-%m-%d %H:%M:%S\")}\\n'\n",
    "                cover_text += f'Exit Position of {self.symbol} {self.name}\\n'\n",
    "                cover_text += f'Entry : {self.entry} at {self.entry_time.split(\".\")[0]}\\n'\n",
    "                cover_text += f'Exit : {exit} at {signal_time.split(\".\")[0]}\\n'\n",
    "                cover_text += f'Partial PnL with Cost : {round(tmp_pnl)}\\n'\n",
    "                cover_text += f'Total PnL with Cost : {round(self.pnl)}\\n'\n",
    "                cover_text += f'Total Ret with Cost : {round(self.tmp_ret * 100, 2)}%\\n'\n",
    "                cover_text += f'Total PnL with Cost of max size \"{self.max_size}\": {self.max_size * round(self.pnl)}\\n'\n",
    "                cover_text += f'Trade Value: {self.entry * 1000}\\n'\n",
    "                Line.sendMessage(cover_text)\n",
    "                print('\\n---------------PnL Summary--------------')\n",
    "                print(cover_text)\n",
    "                if data['action'] == sj.constant.Action.Buy:\n",
    "                    self.short_traded = 1\n",
    "                else:\n",
    "                    self.long_traded = 1\n",
    "                self.traded = (self.long_traded and self.short_traded) or self.pnl > 0\n",
    "                self.closing = False\n",
    "                self.max_ret = self.tmp_ret = 0\n",
    "                self.entry_time = \"\"\n",
    "                self.trade_value += (self.entry if data['action'] == sj.constant.Action.Sell else exit) * 1000\n",
    "                self.entry = 0\n",
    "        \n",
    "    def calculatePnL(self, entry, exit, side=None, simulate=False, pos = 0):\n",
    "        tmp_pnl = 0\n",
    "        if pos:\n",
    "            tmp_pnl += (exit - entry) * 1000 * pos\n",
    "            tmp_pnl -= int(get_commission(entry if pos > 0 else exit)) # 進場成本\n",
    "            tmp_pnl -= int(get_commission(exit if pos > 0 else entry, direction='EXIT', dayTrade=True)) # 出場成本\n",
    "        else:\n",
    "            if simulate:\n",
    "                tmp_pnl += (exit - entry) * 1000 * (1 if side == 'S' else -1)\n",
    "                tmp_pnl -= int(get_commission(entry if side == 'S' else exit)) # 進場成本\n",
    "                tmp_pnl -= int(get_commission(exit if side == 'S' else entry, direction='EXIT', dayTrade=True)) # 出場成本\n",
    "            else:\n",
    "                tmp_pnl += (exit - entry) * 1000 * (1 if side == sj.constant.Action.Sell else -1)\n",
    "                tmp_pnl -= int(get_commission(entry if side == sj.constant.Action.Sell else exit)) # 進場成本\n",
    "                tmp_pnl -= int(get_commission(exit if side == sj.constant.Action.Sell else entry, direction='EXIT', dayTrade=True)) # 出場成本\n",
    "        return tmp_pnl\n",
    "    \n",
    "    def updateStatus(self):\n",
    "        \"\"\"\n",
    "        Chech position profit loss\n",
    "        \"\"\"\n",
    "        if not self.pos: return\n",
    "        if self.traded: return\n",
    "        if self.closing or self.opening: \n",
    "            return\n",
    "        close = self.q20_data['close']\n",
    "        tmp_pnl = self.calculatePnL(self.entry, close, pos=np.sign(self.pos), simulate=False)#, simulate=False)\n",
    "        if self.pos > 0:\n",
    "            self.tmp_ret = ((close / self.entry) - 1) * np.sign(self.pos)\n",
    "        else:\n",
    "            self.tmp_ret = (tmp_pnl / (self.entry * 1000))# - 1\n",
    "#         self.tmp_ret = ((close / self.entry) - 1) * self.pos\n",
    "        \n",
    "        if self.tmp_ret > self.max_ret:\n",
    "            self.sl_threshold = close * (1 - self.sl_ratio * np.sign(self.pos))\n",
    "#             self.sl_threshold = self.entry * (1 - self.sl_ratio * self.pos)\n",
    "            if self.pos < 0:\n",
    "                self.sl_threshold = close * (1 - self.short_sl_ratio * np.sign(self.pos))\n",
    "                if self.max_ret >= self.sl_ratio:\n",
    "                    self.short_sl_ratio = self.sl_ratio\n",
    "                    self.sl_threshold = close * (1 - self.sl_ratio * np.sign(self.pos))\n",
    "#                 self.sl_threshold = min(self.sl_threshold, (self.open_h + self.open_l) / 2)\n",
    "        self.max_ret = max(self.max_ret, self.tmp_ret)\n",
    "        # print(self.symbol, self.tmp_ret, self.max_ret, close, self.pos)\n",
    "        \n",
    "        do_exit_take = False\n",
    "        if self.pos > 0:\n",
    "            do_exit_take = (self.tmp_ret >= 0.01)\n",
    "        elif self.pos < 0:\n",
    "            if not self.long_traded:\n",
    "                do_exit_take = (self.tmp_ret >= 0.01)\n",
    "            try:\n",
    "                if (self.entry_time.split(' ')[1] >= \"12:00:00.000000\"):\n",
    "                    do_exit_take = (self.tmp_ret >= 0.01)\n",
    "            except:\n",
    "                if (self.entry_time.split(' ')[0] >= \"12:00:00.000000\"):\n",
    "                    do_exit_take = (self.tmp_ret >= 0.01)\n",
    "#         do_exit_take = (self.tmp_ret >= 0.01) and ((self.entry_time.split(' ')[1] >= \"12:00:00.000000\") or (self.pos > 0))\n",
    "#         do_exit_take = self.tmp_ret >= .01\n",
    "#         if self.max_ret >= self.start_moving_take:\n",
    "#             do_exit_take = (self.tmp_ret / self.max_ret) <= (self.takeprofit) if self.max_ret else False\n",
    "        do_exit_stop = close > self.sl_threshold if self.pos == -1 else close < self.sl_threshold\n",
    "#         print(close > self.sl_threshold if self.pos == -1 else close < self.sl_threshold, (close * self.pos) > (self.sl_threshold * self.pos))\n",
    "        do_exit = close >= self.exit_threshold if self.pos > 0 else close <= (self.refPrice * (1 - self.exit_percent))\n",
    "        exit_end = self.q20_data['timeStr'] >= '13:00:00:000000'\n",
    "        if any([do_exit, do_exit_take, do_exit_stop, exit_end]):\n",
    "            print(f\"{self.symbol} Exit with condition : do_exit : {do_exit}, do_exit_take :{do_exit_take}, do_exit_stop : {do_exit_stop}, exit_end : {exit_end}\")\n",
    "#             print(self.tmp_ret >= 0.01, self.entry_time.split(' ')[1] >= \"12:00:00.000000\", self.pos == 1)\n",
    "            self.closing=True\n",
    "            self.DoTrade('S' if self.pos > 0 else 'B', True)\n",
    "            exit_string = \"停利\"\n",
    "            if do_exit_stop:\n",
    "                exit_string = \"停損\"\n",
    "            if do_exit:\n",
    "                exit_string = \"最佳出場位置\"\n",
    "            if exit_end:\n",
    "                exit_string = \"提前出場\"\n",
    "            self.sendNotifyExit(self.q20_data['timeStr'], self.symbol, self.name,\n",
    "                             close, self.q20_data['pct_chg'], exit_string)\n",
    "    \n",
    "    def updateSignal(self):\n",
    "        try:\n",
    "            if not self.q20_data : return\n",
    "            if self.pos: return\n",
    "            if self.long_traded or self.traded: return\n",
    "            totalV = self.q20_data['totalQty']\n",
    "            close = self.q20_data['close']\n",
    "            volume = self.q20_data['qty']\n",
    "            if self.q20_data['timeStr'] != self.pre_time:\n",
    "                self.total_v = volume\n",
    "                self.pre_time = self.q20_data['timeStr']\n",
    "                self.pre_volume = totalV\n",
    "            else:\n",
    "                self.total_v += volume\n",
    "            if not self.pre_close: \n",
    "                self.pre_close = close\n",
    "                if self.first_5mink['open'] is None:\n",
    "                    self.first_5mink['open'] = close\n",
    "                self.first_5mink['high'] = max(self.first_5mink['high'], close)\n",
    "                self.first_5mink['low'] = min(self.first_5mink['low'], close)\n",
    "                self.first_5mink['close'] = close\n",
    "                self.pre_volume = totalV\n",
    "                return\n",
    "\n",
    "            self.pre_volume = totalV\n",
    "            signal_type = \"\"\n",
    "            if self.q20_data['timeStr'] < '09:05:00:000000':\n",
    "                self.first_5mink['high'] = max(self.first_5mink['high'], close)\n",
    "                self.first_5mink['low'] = min(self.first_5mink['low'], close)\n",
    "                self.first_5mink['close'] = close\n",
    "\n",
    "            else: \n",
    "                if self.q20_data['timeStr'] >= '13:00:00:000000': return\n",
    "                if all([not self.closing, not self.opening]):\n",
    "                    sig = 0\n",
    "                    if close >= max(self.first_5mink['open'], self.first_5mink['close'], self.preHigh if self.preHigh else 0) * 1.005 and close <= self.entry_threshold:\n",
    "                        print(\"Entry Long signal with Cross Over\")\n",
    "                        signal_type = \"跟上起飛的節奏\"\n",
    "                        sig = 1\n",
    "                    if sig and not self.opening:\n",
    "                        self.opening = True\n",
    "                        self.DoTrade('B' if sig > 0 else 'S', True)\n",
    "                        self.sendNotify(self.q20_data['datetime'].strftime(\"%H:%M:%S.%f\"), self.symbol, self.name,\n",
    "                                        close, self.q20_data['pct_chg'], 'B' if sig > 0 else 'S',\n",
    "                                        signal_type = signal_type)\n",
    "            self.pre_close = close\n",
    "        except Exception as e:\n",
    "            print(f\"Update signal of {self.symbol}, Error : {e}\")\n",
    "            \n",
    "        \n",
    "    def updateSignalWithBar(self, update_bar):\n",
    "        try:\n",
    "            signal_type = \"\"\n",
    "            if not self.q20_data : return\n",
    "            if len(self.barG.bars) < 2:\n",
    "                return\n",
    "            if len(self.barG.bars) >= 3 and not (self.open_h or self.open_l):\n",
    "                self.open_h = max(self.barG.highs[:2])\n",
    "                self.open_l = min(self.barG.lows[:2])\n",
    "                print(f\"{self.symbol}, open_h : {self.open_h}, open_l : {self.open_l}\")\n",
    "            if not (self.open_h or self.open_l): return\n",
    "            if self.pos: return\n",
    "            if self.short_traded or self.traded: return\n",
    "            if self.q20_data['timeStr'] >= '13:00:00:000000': return\n",
    "            price = self.q20_data['close']\n",
    "            sig = 0\n",
    "#             print(update_bar)\n",
    "            if self.open_l:\n",
    "                if price < self.open_l and self.q20_data['timeStr'] >= \"12:00:00.000000\" and not self.short_traded:\n",
    "                    if price > self.refPrice * (1 - self.entry_percent):\n",
    "                        print(f\"Entry Short signal with price touch for {self.symbol}\")\n",
    "                        signal_type = \"尾盤追殺\"\n",
    "                        sig = -1\n",
    "                elif update_bar:\n",
    "                    \n",
    "#                     print(update_bar['close'], self.open_l, update_bar['low'], self.refPrice)\n",
    "                    if update_bar['close'] < self.open_l and not self.short_traded: # update_bar['open']\n",
    "                        if price > self.refPrice * (1 - self.entry_percent):\n",
    "                            if self.open_h >=  self.refPrice * (1 + self.exit_percent):return\n",
    "                            print(f\"5m Bar CLose :{update_bar['close']}, open low : {self.open_l}\")\n",
    "                            print(\"Entry Short signal with price low open threshold\")\n",
    "                            signal_type = \"破開盤底等跳水\"\n",
    "                            sig = -1\n",
    "                    elif update_bar['close'] > self.open_l and update_bar['low'] < self.open_l and not self.long_traded:\n",
    "                        if price < self.refPrice * (1 + self.entry_percent):\n",
    "                            print(\"Entry Long signal with V Turn\")\n",
    "                            signal_type = \"V轉做多\"\n",
    "                            sig = 1\n",
    "            if sig and not self.opening:\n",
    "                self.opening = True\n",
    "                self.DoTrade('B' if sig > 0 else 'S', True)\n",
    "                self.sendNotify(self.q20_data['timeStr'], self.symbol, self.name,\n",
    "                                price, self.q20_data['pct_chg'], 'B' if sig > 0 else 'S', \n",
    "                                signal_type = signal_type)\n",
    "        except Exception as e:\n",
    "            print(f\"Update signal with bar of {self.symbol}, Error : {e}\")\n",
    "        \n",
    "        \n",
    "    def DoTrade(self, side, simulate=False):\n",
    "        try:\n",
    "            close = self.q20_data['close']\n",
    "            #=========\n",
    "            # RealTime\n",
    "            #=========\n",
    "            if not simulate:\n",
    "                if not self._api:return\n",
    "                order_price = self.q80_data['ask1'] if side == 'B' else self.q80_data['bid1']\n",
    "                print(f\"{self.symbol}, close : {close}, entry price : {order_price}\")\n",
    "                if abs(order_price / close - 1) >= .005:\n",
    "                    order_price = close\n",
    "                order = self._api.Order(\n",
    "                    price=order_price,\n",
    "                    quantity=1,\n",
    "                    action=sj.constant.Action.Buy if side == 'B' else sj.constant.Action.Sell,\n",
    "                    price_type=sj.constant.StockPriceType.LMT,\n",
    "                    order_type=sj.constant.TFTOrderType.ROD,\n",
    "                    first_sell=sj.constant.StockFirstSell.Yes,# if side == 'S' else sj.constant.StockFirstSell.No,\n",
    "                )\n",
    "                self.order = self._api.place_order(self.contract, order)\n",
    "                if self.order.status.status in [sj.constant.Status.PendingSubmit, sj.constant.Status.Submitted]:\n",
    "                    if not self.pos:\n",
    "                        self.opening = True\n",
    "                    else:\n",
    "                        self.closing = True\n",
    "            #=========\n",
    "            # Simulate\n",
    "            #=========\n",
    "            else:\n",
    "                if not any([self.opening, self.closing]):return\n",
    "                if self.pos: return\n",
    "                self.pos += 1 if side == 'B' else -1\n",
    "                signal_time = self.q20_data[\"timeStr\"]#.strftime(\"%H:%M:%S.%f\")\n",
    "                if self.pos == 0:\n",
    "                    self.traded = True\n",
    "                    exit = self.q80_data['ask1'] if side == 'B' else self.q80_data['bid1']\n",
    "                    print(f\"{self.symbol}, close : {close}, exit price : {exit}\")\n",
    "                    if abs(exit / close - 1) >= .005:\n",
    "                        exit = close\n",
    "                    tmp_pnl = (exit - self.entry) * 1000 * (1 if side == 'S' else -1)\n",
    "                    tmp_pnl -= int(get_commission(self.entry if side == 'S' else exit)) # 進場成本\n",
    "                    tmp_pnl -= int(get_commission(exit if side == 'S' else self.entry, direction='EXIT', dayTrade=True)) # 出場成本\n",
    "                    tmp_ret = tmp_pnl / (self.entry * 1000) # - 1\n",
    "                    self.pnl += tmp_pnl\n",
    "\n",
    "\n",
    "                    cover_text = '\\n\\n---------------PnL Summary--------------\\n'\n",
    "                    cover_text = f'時間 : {datetime.now().strftime(\"%Y-%m-%d %H:%M:%S.%f\")}\\n'\n",
    "                    cover_text += f'Exit Position of {self.symbol} {self.name}\\n'\n",
    "                    cover_text += f'Entry : {self.entry} at {self.entry_time}\\n'\n",
    "                    cover_text += f'Exit : {exit} at {signal_time}\\n'\n",
    "                    cover_text += f'Total PnL with Cost : {round(tmp_pnl)}\\n'\n",
    "                    cover_text += f'Total Ret with Cost : {round(tmp_ret * 100, 2)}%\\n'\n",
    "                    cover_text += f'Total PnL with Cost of max size \"{self.max_size}\": {self.max_size * round(tmp_pnl)}\\n'\n",
    "                    cover_text += f'Trade Value: {self.entry * 1000}\\n'\n",
    "                    Line.sendMessage(cover_text)\n",
    "#                     print('\\n---------------PnL Summary--------------')\n",
    "                    print(cover_text)\n",
    "\n",
    "    #                 cover_text = '\\n\\n---------------PnL Summary--------------\\n'\n",
    "    #                 cover_text = f'時間 : {datetime.now().strftime(\"%Y-%m-%d %H:%M:%S.%f\")}\\n'\n",
    "    #                 cover_text += f'Exit Position of {self.symbol}\\n'\n",
    "    #                 cover_text += f'Entry : {self.entry} at {self.entry_time}\\n'\n",
    "    #                 cover_text += f'Exit : {exit} at {signal_time}\\n'\n",
    "    #                 cover_text += f'Partial PnL with Cost : {round(tmp_pnl)}\\n'\n",
    "    #                 cover_text += f'Total PnL with Cost : {round(tmp_pnl)}\\n'\n",
    "    #                 cover_text += f'Total Ret with Cost : {round(tmp_ret * 100, 2)}%\\n'\n",
    "    #                 cover_text += f'Total PnL with Cost of max size \"{self.max_size}\": {self.max_size * round(tmp_pnl)}\\n'\n",
    "    #                 cover_text += f'Trade Value: {round(self.entry * 1000)}\\n'\n",
    "    #                 Line.sendMessage(cover_text)\n",
    "    #                 print('\\n---------------PnL Summary--------------')\n",
    "    #                 print(f'Exit Position of {self.contract.code}')\n",
    "    #                 print(f'Entry : {self.entry} at {self.entry_time}')\n",
    "    #                 print(f'Exit : {exit} at {signal_time}')\n",
    "    #                 print(f'Total PnL with Cost : {round(tmp_pnl)}')\n",
    "    #                 print(f'Total Ret with Cost : {round(tmp_ret * 100, 2)}%')\n",
    "    #                 print(f'Total PnL with Cost of max size {self.max_size}: {self.max_size * round(tmp_pnl)}\\n')\n",
    "\n",
    "                    self.entry = 0\n",
    "                    self.closing = False\n",
    "                    return\n",
    "                self.entry = self.q80_data['ask1'] if side == 'B' else self.q80_data['bid1']\n",
    "                print(f\"{self.symbol}, close : {close}, entry price : {self.entry}\")\n",
    "                if abs(self.entry / close - 1) >= .005:\n",
    "                    self.entry = close\n",
    "                self.sl_threshold = self.entry * (1 - self.sl_ratio)\n",
    "                self.entry_time = signal_time\n",
    "                self.opening = False\n",
    "        except Exception as e:\n",
    "            print(f\"Trade of {self.symbol}, Error : {e}\")\n",
    "    def sendNotify(self, dateStr, idx, name, \n",
    "                   close, Ret, Side=\"B\", signal_type=\"\"):#, TVRatio, EVRatio):\n",
    "        try:\n",
    "            text = f'時間 : {dateStr}\\n'\n",
    "            text += f'股票代號/名稱 : {idx}/{name}\\n'\n",
    "            if Side == \"B\":\n",
    "                text += f'觸發條件 : 突破第一個5分K高點\\n'\n",
    "                text += f'進場方向 : 做多\\n'\n",
    "            else:\n",
    "                text += f'觸發條件 : 突破第一個5分K低點\\n'\n",
    "                text += f'進場方向 : 做空\\n'\n",
    "            text += f'成交價 : {close}\\n'\n",
    "            \n",
    "            \n",
    "            # 漲跌幅量\n",
    "            text += f'漲跌幅 : {Ret} %\\n'\n",
    "            # text += f'量比(總/估) {TVRatio}/{EVRatio}\\n'\n",
    "            # text += '其他提醒 : \\n'\n",
    "            text += f'訊號類型 : {signal_type}\\n'\n",
    "            \n",
    "            Line.sendMessage(text)\n",
    "        except Exception as e:\n",
    "            print(e)\n",
    "\n",
    "    def sendNotifyExit(self, dateStr, idx, name, \n",
    "                   close, Ret, exit_string=\"\"):\n",
    "        try:\n",
    "            text = f'時間 : {dateStr}\\n'\n",
    "            text += f'股票代號/名稱 : {idx}/{name}\\n'\n",
    "            text += f'觸發出場條件 : \\n\\t已達到( {exit_string} )條件囉\\n'\n",
    "            text += f'成交價 : {close}\\n'\n",
    "            \n",
    "            # 漲跌幅量\n",
    "            text += f'漲跌幅 : {Ret} %\\n'\n",
    "            # text += f'量比(總/估) {TVRatio}/{EVRatio}\\n'\n",
    "            # text += '其他提醒 : \\n'\n",
    "            \n",
    "            Line.sendMessage(text)\n",
    "        except Exception as e:\n",
    "            print('send Exit, Error : ' + e)"
   ]
  },
  {
   "cell_type": "code",
   "execution_count": 6,
   "metadata": {
    "ExecuteTime": {
     "end_time": "2022-06-20T00:24:33.707402Z",
     "start_time": "2022-06-20T00:24:33.700583Z"
    },
    "scrolled": true
   },
   "outputs": [],
   "source": [
    "trade_dt = datetime.today() # datetime(2022,1,11) # \n",
    "# trade_dt = datetime(2022,5,11) # \n",
    "trade_dtStr = trade_dt.strftime(\"%Y-%m-%d\")\n",
    "open_thresholds = readStrongTicker(trade_dtStr)"
   ]
  },
  {
   "cell_type": "code",
   "execution_count": 7,
   "metadata": {
    "ExecuteTime": {
     "end_time": "2022-06-20T00:24:45.034110Z",
     "start_time": "2022-06-20T00:24:36.475311Z"
    }
   },
   "outputs": [
    {
     "name": "stdout",
     "output_type": "stream",
     "text": [
      "Response Code: 0 | Event Code: 0 | Info: host '203.66.91.161:80', hostname '203.66.91.161:80' IP 203.66.91.161:80 (host 1 of 1) (host connection attempt 1 of 1) (total connection attempt 1 of 1) | Event: Session up\n"
     ]
    },
    {
     "data": {
      "text/plain": [
       "True"
      ]
     },
     "execution_count": 7,
     "metadata": {},
     "output_type": "execute_result"
    }
   ],
   "source": [
    "api = sj.Shioaji()\n",
    "\n",
    "api.login(\"F128497445\", \"89118217k\")\n",
    "api.activate_ca(os.path.join(parent, 'Sinopac.pfx'), 'j7629864', 'F128497445')"
   ]
  },
  {
   "cell_type": "code",
   "execution_count": 8,
   "metadata": {
    "ExecuteTime": {
     "end_time": "2022-06-20T00:24:47.331287Z",
     "start_time": "2022-06-20T00:24:47.147486Z"
    },
    "code_folding": []
   },
   "outputs": [],
   "source": [
    "from shioaji import TickSTKv1, Exchange, BidAskSTKv1, TickFOPv1, BidAskFOPv1\n",
    "\n",
    "def q20_callback(exchange:Exchange, tick:[TickSTKv1, TickFOPv1]):\n",
    "    try:\n",
    "        NotifyTickers[tick.code] = NotifyTickers.get(tick.code,\n",
    "                                                DataObject(tmp_contract, open_threshold=tmp_contract.reference, \n",
    "                                                api=api, max_size = max_size_map[tick.code], PreData=open_thresholds[tick.code]))\n",
    "\n",
    "        NotifyTickers[tick.code].updateQ20Dict(dict(\n",
    "            symbol=tick.code,\n",
    "            datetime=tick.datetime,\n",
    "            open=float(tick.open),\n",
    "            high=float(tick.high),\n",
    "            low=float(tick.low),\n",
    "            close=float(tick.close),\n",
    "            avg_price=float(tick.avg_price),\n",
    "            qty=int(tick.volume),\n",
    "            totalQty=int(tick.total_volume),\n",
    "            pct_chg=float(tick.pct_chg),\n",
    "            simulate=bool(tick.simtrade),\n",
    "        ))\n",
    "    except Exception as e:\n",
    "        print(e)\n",
    "\n",
    "def q80_callback(exchange:Exchange, tick:[BidAskSTKv1, BidAskFOPv1]):\n",
    "    try:\n",
    "        NotifyTickers[tick.code] = NotifyTickers.get(tick.code,\n",
    "                                                DataObject(tmp_contract, open_threshold=tmp_contract.reference, \n",
    "                                                api=api, max_size = max_size_map[tick.code], PreData=open_thresholds[tick.code]))\n",
    "\n",
    "        NotifyTickers[tick.code].updateQ80Dict(dict(\n",
    "            symbol = tick.code,\n",
    "            datetime = tick.datetime,\n",
    "            bid1 = float(tick.bid_price[0]),\n",
    "            bid2 = float(tick.bid_price[1]),\n",
    "            bid3 = float(tick.bid_price[2]),\n",
    "            bid4 = float(tick.bid_price[3]),\n",
    "            bid5 = float(tick.bid_price[4]),\n",
    "            bidQty1 = float(tick.bid_volume[0]),\n",
    "            bidQty2 = float(tick.bid_volume[1]),\n",
    "            bidQty3 = float(tick.bid_volume[2]),\n",
    "            bidQty4 = float(tick.bid_volume[3]),\n",
    "            bidQty5 = float(tick.bid_volume[4]),\n",
    "            askQty1 = float(tick.ask_volume[0]),\n",
    "            askQty2 = float(tick.ask_volume[1]),\n",
    "            askQty3 = float(tick.ask_volume[2]),\n",
    "            askQty4 = float(tick.ask_volume[3]),\n",
    "            askQty5 = float(tick.ask_volume[4]),\n",
    "            ask1 = float(tick.ask_price[0]),\n",
    "            ask2 = float(tick.ask_price[1]),\n",
    "            ask3 = float(tick.ask_price[2]),\n",
    "            ask4 = float(tick.ask_price[3]),\n",
    "            ask5 = float(tick.ask_price[4]),\n",
    "        ))\n",
    "    except Exception as e:\n",
    "        print(e)\n",
    "    \n",
    "api.quote.set_on_tick_stk_v1_callback(q20_callback)\n",
    "api.quote.set_on_bidask_stk_v1_callback(q80_callback)\n",
    "api.quote.set_on_bidask_fop_v1_callback(q80_callback)\n",
    "api.quote.set_on_tick_fop_v1_callback(q20_callback)\n",
    "\n",
    "def place_cb(stat, msg):\n",
    "    try:\n",
    "        if stat == sj.constant.OrderState.TFTOrder:\n",
    "            if msg['order']['order_cond'] == 'Cash':\n",
    "                if msg['contract']['code'] in NotifyTickers.keys():\n",
    "                    NotifyTickers[msg['contract']['code']].updateOrderDeal(stat, msg)\n",
    "        else:\n",
    "            if msg['order_cond'] == 'Cash':\n",
    "                if msg['code'] in NotifyTickers.keys():\n",
    "                    NotifyTickers[msg['code']].updateOrderDeal(stat, msg)\n",
    "    except:\n",
    "        pass\n",
    "    print(f\"Order Status : {stat}, Order Data : {msg} \\n\")\n",
    "api.set_order_callback(place_cb)"
   ]
  },
  {
   "cell_type": "code",
   "execution_count": 9,
   "metadata": {
    "ExecuteTime": {
     "end_time": "2022-06-20T00:24:53.973942Z",
     "start_time": "2022-06-20T00:24:49.536866Z"
    },
    "scrolled": true
   },
   "outputs": [
    {
     "name": "stdout",
     "output_type": "stream",
     "text": [
      "2634 最大倉位 : 26, 昨收 : {'PreClose': 38.2, 'PreHigh': 38.2, 'PreLow': 34.05}\n",
      "8222 最大倉位 : 58, 昨收 : {'PreClose': 17.15, 'PreHigh': 17.15, 'PreLow': 15.35}\n",
      "4541 最大倉位 : 35, 昨收 : {'PreClose': 28.1, 'PreHigh': 28.1, 'PreLow': 25.3}\n",
      "6114 最大倉位 : 31, 昨收 : {'PreClose': 31.55, 'PreHigh': 31.55, 'PreLow': 27.7}\n",
      "8421 最大倉位 : 50, 昨收 : {'PreClose': 20.0, 'PreHigh': 20.0, 'PreLow': 18.0}\n"
     ]
    }
   ],
   "source": [
    "# remove can't daytrade ticker\n",
    "tmp_ticker_list = list(open_thresholds.keys())\n",
    "for ticker in tmp_ticker_list:\n",
    "#     print(ticker)\n",
    "    tmp_contract = api.Contracts.Stocks[str(ticker)]\n",
    "#     print(tmp_contract, tmp_contract.day_trade)\n",
    "    if tmp_contract.day_trade == sj.constant.DayTrade.Yes:continue\n",
    "    open_thresholds.pop(ticker)\n",
    "    \n",
    "writeTradableTicker(trade_dtStr, open_thresholds)\n",
    "    \n",
    "# seperate capital for each ticker\n",
    "total_capital = 5e6\n",
    "seperated_capital = int(total_capital / len(open_thresholds.keys()))\n",
    "max_size_map = {}\n",
    "for k, v in open_thresholds.items():\n",
    "    max_pos = int(seperated_capital / (v['PreClose'] * 1000))\n",
    "    print(f'{k} 最大倉位 : {max_pos}, 昨收 : {v}')\n",
    "    max_size_map[k] = max_pos"
   ]
  },
  {
   "cell_type": "code",
   "execution_count": 10,
   "metadata": {
    "ExecuteTime": {
     "end_time": "2022-06-20T00:24:56.728804Z",
     "start_time": "2022-06-20T00:24:56.093524Z"
    }
   },
   "outputs": [
    {
     "data": {
      "text/plain": [
       "200"
      ]
     },
     "execution_count": 10,
     "metadata": {},
     "output_type": "execute_result"
    }
   ],
   "source": [
    "tradable_text_table = createTradableTable(open_thresholds, max_size_map)\n",
    "text = f'\\n【{trade_dtStr}】當沖策略標的\\n\\n'\n",
    "text += tradable_text_table.get_string()\n",
    "Line.sendMessage(text)"
   ]
  },
  {
   "cell_type": "code",
   "execution_count": 11,
   "metadata": {
    "ExecuteTime": {
     "end_time": "2022-06-20T00:24:58.390462Z",
     "start_time": "2022-06-20T00:24:58.356112Z"
    },
    "code_folding": [],
    "scrolled": true
   },
   "outputs": [
    {
     "name": "stdout",
     "output_type": "stream",
     "text": [
      "Tradable Ticker : 2634\n",
      "Tradable Ticker : 4541\n",
      "Tradable Ticker : 6114\n",
      "Tradable Ticker : 8222\n",
      "Response Code: 200 | Event Code: 16 | Info: TIC/v1/STK/*/TSE/2634 | Event: Subscribe or Unsubscribe okTradable Ticker : 8421\n",
      "\n",
      "Response Code: 200 | Event Code: 16 | Info: QUO/v1/STK/*/TSE/2634 | Event: Subscribe or Unsubscribe ok\n",
      "Response Code: 200 | Event Code: 16 | Info: TIC/v1/STK/*/OTC/4541 | Event: Subscribe or Unsubscribe ok\n",
      "Response Code: 200 | Event Code: 16 | Info: QUO/v1/STK/*/OTC/4541 | Event: Subscribe or Unsubscribe ok\n",
      "Response Code: 200 | Event Code: 16 | Info: TIC/v1/STK/*/OTC/6114 | Event: Subscribe or Unsubscribe ok\n",
      "Response Code: 200 | Event Code: 16 | Info: QUO/v1/STK/*/OTC/6114 | Event: Subscribe or Unsubscribe ok\n",
      "Response Code: 200 | Event Code: 16 | Info: TIC/v1/STK/*/TSE/8222 | Event: Subscribe or Unsubscribe ok\n",
      "Response Code: 200 | Event Code: 16 | Info: QUO/v1/STK/*/TSE/8222 | Event: Subscribe or Unsubscribe ok"
     ]
    }
   ],
   "source": [
    "NotifyTickers = {}\n",
    "for i in range(125):\n",
    "    if i < len(open_thresholds.keys()):\n",
    "        ticker = sorted(open_thresholds.keys())[i]\n",
    "        if open_thresholds[ticker]['PreClose']>1000:continue\n",
    "        tmp_contract = api.Contracts.Stocks[ticker]\n",
    "        if tmp_contract.day_trade  != sj.constant.DayTrade.No:\n",
    "            print(\"Tradable Ticker : \" + ticker)\n",
    "            # tmp_contract = api1.Contracts.Futures[ticker]\n",
    "#             NotifyTickers[ticker] = NotifyTickers.get(ticker,\n",
    "#                                                       DataObject(tmp_contract, open_threshold=tmp_contract.reference, \n",
    "#                                                                 api=api, max_size = max_size_map[ticker], PreData=open_thresholds[ticker]))\n",
    "            NotifyTickers[ticker] = DataObject(tmp_contract, open_threshold=tmp_contract.reference, \n",
    "                                                                api=api, max_size = max_size_map[ticker], PreData=open_thresholds[ticker])\n",
    "            \n",
    "            api.quote.subscribe(\n",
    "                tmp_contract, \n",
    "                quote_type = sj.constant.QuoteType.Tick, # or 'tick'\n",
    "                version = sj.constant.QuoteVersion.v1 # or 'v1'\n",
    "            )\n",
    "            api.quote.subscribe(\n",
    "                tmp_contract, \n",
    "                quote_type = sj.constant.QuoteType.BidAsk, # or 'tick'\n",
    "                version = sj.constant.QuoteVersion.v1 # or 'v1'\n",
    "            )"
   ]
  },
  {
   "cell_type": "code",
   "execution_count": 77,
   "metadata": {
    "ExecuteTime": {
     "end_time": "2022-06-17T05:34:37.172607Z",
     "start_time": "2022-06-17T05:34:37.163384Z"
    }
   },
   "outputs": [
    {
     "data": {
      "text/plain": [
       "{}"
      ]
     },
     "execution_count": 77,
     "metadata": {},
     "output_type": "execute_result"
    }
   ],
   "source": [
    "NotifyTickers['4503'].q20_data"
   ]
  },
  {
   "cell_type": "code",
   "execution_count": null,
   "metadata": {
    "ExecuteTime": {
     "start_time": "2022-06-20T00:25:09.965Z"
    },
    "scrolled": true
   },
   "outputs": [
    {
     "name": "stdout",
     "output_type": "stream",
     "text": [
      "Order Status : TFTORDER, Order Data : {'operation': {'op_type': 'New', 'op_code': '00', 'op_msg': ''}, 'order': {'id': '0609bff8', 'seqno': '829903', 'ordno': 'IA533', 'account': {'account_type': 'S', 'person_id': '', 'broker_id': '9A92', 'account_id': '0231901', 'signed': True}, 'action': 'Sell', 'price': 42.65, 'quantity': 1, 'order_type': 'ROD', 'price_type': 'LMT', 'order_cond': 'MarginTrading', 'order_lot': 'Common', 'custom_field': ''}, 'status': {'id': '0609bff8', 'exchange_ts': 1655686035, 'modified_price': 0.0, 'cancel_quantity': 0, 'order_quantity': 1, 'web_id': '144'}, 'contract': {'security_type': 'STK', 'exchange': 'OTC', 'code': '4503', 'symbol': '', 'name': '', 'currency': 'TWD'}} \n",
      "\n",
      "Order Status : TFTORDER, Order Data : {'operation': {'op_type': 'New', 'op_code': '00', 'op_msg': ''}, 'order': {'id': '6c03b55d', 'seqno': '731905', 'ordno': 'IB085', 'account': {'account_type': 'S', 'person_id': '', 'broker_id': '9A92', 'account_id': '0231901', 'signed': True}, 'action': 'Sell', 'price': 30.15, 'quantity': 2, 'order_type': 'ROD', 'price_type': 'LMT', 'order_cond': 'MarginTrading', 'order_lot': 'Common', 'custom_field': ''}, 'status': {'id': '6c03b55d', 'exchange_ts': 1655686986, 'modified_price': 0.0, 'cancel_quantity': 0, 'order_quantity': 2, 'web_id': '144'}, 'contract': {'security_type': 'STK', 'exchange': 'TSE', 'code': '4906', 'symbol': '', 'name': '', 'currency': 'TWD'}} \n",
      "\n",
      "Order Status : TFTORDER, Order Data : {'operation': {'op_type': 'UpdatePrice', 'op_code': '00', 'op_msg': ''}, 'order': {'id': '6c03b55d', 'seqno': '731905', 'ordno': 'IB085', 'account': {'account_type': 'S', 'person_id': '', 'broker_id': '9A92', 'account_id': '0231901', 'signed': True}, 'action': 'Sell', 'price': 30.0, 'quantity': 2, 'order_type': 'ROD', 'price_type': 'LMT', 'order_cond': 'MarginTrading', 'order_lot': 'Common', 'custom_field': ''}, 'status': {'id': '6c03b55d', 'exchange_ts': 1655687076, 'modified_price': 30.0, 'cancel_quantity': 0, 'order_quantity': 2, 'web_id': '144'}, 'contract': {'security_type': 'STK', 'exchange': 'TSE', 'code': '4906', 'symbol': '', 'name': '', 'currency': 'TWD'}} \n",
      "\n",
      "Order Status : TFTDEAL, Order Data : {'trade_id': '6c03b55d', 'seqno': '731905', 'ordno': 'IB085', 'exchange_seq': '109096', 'broker_id': '9A92', 'account_id': '0231901', 'action': 'Sell', 'code': '4906', 'order_cond': 'MarginTrading', 'order_lot': 'Common', 'price': 30.0, 'quantity': 1, 'web_id': '144', 'custom_field': '', 'ts': 1655687076} \n",
      "\n",
      "Order Status : TFTDEAL, Order Data : {'trade_id': '6c03b55d', 'seqno': '731905', 'ordno': 'IB085', 'exchange_seq': '109097', 'broker_id': '9A92', 'account_id': '0231901', 'action': 'Sell', 'code': '4906', 'order_cond': 'MarginTrading', 'order_lot': 'Common', 'price': 30.0, 'quantity': 1, 'web_id': '144', 'custom_field': '', 'ts': 1655687076} \n",
      "\n",
      "4541, open_h : 30.1, open_l : 28.5\n",
      "{'symbol': '4541', 'time': datetime.datetime(2022, 6, 20, 9, 6, 34, 937143), 'open': 29.75, 'high': 29.95, 'low': 29.1, 'close': 29.3, 'volume': 1761}\n",
      "6114, open_h : 32.65, open_l : 30.9\n",
      "{'symbol': '6114', 'time': datetime.datetime(2022, 6, 20, 9, 5, 1, 80595), 'open': 32.3, 'high': 32.35, 'low': 30.9, 'close': 31.25, 'volume': 1764}\n",
      "2634, open_h : 39.5, open_l : 37.9\n",
      "{'symbol': '2634', 'time': datetime.datetime(2022, 6, 20, 9, 6, 27, 795166), 'open': 39.45, 'high': 39.45, 'low': 38.6, 'close': 38.85, 'volume': 9658}\n",
      "8421, open_h : 21.0, open_l : 20.25\n",
      "{'symbol': '8421', 'time': datetime.datetime(2022, 6, 20, 9, 5, 1, 14557), 'open': 20.6, 'high': 20.7, 'low': 20.25, 'close': 20.55, 'volume': 1258}\n",
      "8222, open_h : 18.85, open_l : 18.0\n",
      "{'symbol': '8222', 'time': datetime.datetime(2022, 6, 20, 9, 5, 1, 770501), 'open': 18.85, 'high': 18.85, 'low': 18.85, 'close': 18.85, 'volume': 832}\n",
      "Entry Long signal with Cross Over\n",
      "8421, close : 20.95, entry price : 0.0\n",
      "Response Code: 0 | Event Code: 12 | Info: solClient.c:12194                    (70000eb82000) Session '(c0,s1)_sinopac' keep-alive on tcp_TxRx detected session down, client name 'PYAPI/F128497445/0620/002436/603928/61.218.28.226', VPN name 'sinopac', peer address 'hostname '203.66.91.161:80' IP 2 | Event: Session reconnecting\n",
      "Response Code: 0 | Event Code: 13 | Info: host '203.66.91.161:80', hostname '203.66.91.161:80' IP 203.66.91.161:80 (host 1 of 1) (host connection attempt 1 of 1) (total reconnection attempt 1 of 10) | Event: Session reconnected\n",
      "8421 Exit with condition : do_exit : False, do_exit_take :True, do_exit_stop : False, exit_end : False\n",
      "{'symbol': '2634', 'time': datetime.datetime(2022, 6, 20, 9, 10, 0, 160822), 'open': 38.9, 'high': 39.0, 'low': 38.45, 'close': 38.9, 'volume': 10163}\n",
      "{'symbol': '6114', 'time': datetime.datetime(2022, 6, 20, 9, 10, 0, 245775), 'open': 31.25, 'high': 31.55, 'low': 31.0, 'close': 31.3, 'volume': 426}\n",
      "{'symbol': '4541', 'time': datetime.datetime(2022, 6, 20, 9, 10, 0, 63306), 'open': 29.3, 'high': 29.45, 'low': 28.75, 'close': 29.2, 'volume': 928}\n",
      "{'symbol': '8222', 'time': datetime.datetime(2022, 6, 20, 9, 10, 7, 112203), 'open': 18.85, 'high': 18.85, 'low': 18.85, 'close': 18.85, 'volume': 263}\n",
      "Response Code: 0 | Event Code: 12 | Info: solClient.c:12194                    (70000eb82000) Session '(c0,s1)_sinopac' keep-alive on tcp_TxRx detected session down, client name 'PYAPI/F128497445/0620/002436/603928/61.218.28.226', VPN name 'sinopac', peer address 'hostname '203.66.91.161:80' IP 2 | Event: Session reconnecting\n",
      "Session Down.\n",
      "Response Code: 0 | Event Code: 1 | Info: solClientOS.c:4470                   (70000eb82000) TCP connection failure for fd 63, error = Network is unreachable (51) | Event: Session down\n"
     ]
    }
   ],
   "source": [
    "while 1:\n",
    "    try:\n",
    "        sleep(1)\n",
    "    except:\n",
    "        break"
   ]
  },
  {
   "cell_type": "code",
   "execution_count": 19,
   "metadata": {
    "ExecuteTime": {
     "end_time": "2022-06-15T05:47:09.322254Z",
     "start_time": "2022-06-15T05:47:09.304665Z"
    },
    "scrolled": true
   },
   "outputs": [
    {
     "name": "stdout",
     "output_type": "stream",
     "text": [
      "Response Code: 200 | Event Code: 16 | Info: TIC/v1/STK/*/OTC/3324 | Event: Subscribe or Unsubscribe ok\n",
      "Response Code: 200 | Event Code: 16 | Info: QUO/v1/STK/*/OTC/3324 | Event: Subscribe or Unsubscribe ok\n",
      "Response Code: 200 | Event Code: 16 | Info: TIC/v1/STK/*/OTC/3558 | Event: Subscribe or Unsubscribe ok\n",
      "Response Code: 200 | Event Code: 16 | Info: QUO/v1/STK/*/OTC/3558 | Event: Subscribe or Unsubscribe ok\n"
     ]
    }
   ],
   "source": [
    "for ticker in NotifyTickers.keys():\n",
    "    api.quote.unsubscribe(\n",
    "        NotifyTickers[ticker].contract, \n",
    "        quote_type = sj.constant.QuoteType.Tick, # or 'tick'\n",
    "        version = sj.constant.QuoteVersion.v1 # or 'v1'\n",
    "    )\n",
    "    api.quote.unsubscribe(\n",
    "        NotifyTickers[ticker].contract, \n",
    "        quote_type = sj.constant.QuoteType.BidAsk, # or 'tick'\n",
    "        version = sj.constant.QuoteVersion.v1 # or 'v1'\n",
    "    )"
   ]
  },
  {
   "cell_type": "code",
   "execution_count": null,
   "metadata": {},
   "outputs": [],
   "source": []
  },
  {
   "cell_type": "code",
   "execution_count": 20,
   "metadata": {
    "ExecuteTime": {
     "end_time": "2022-06-15T05:47:13.902662Z",
     "start_time": "2022-06-15T05:47:13.888190Z"
    }
   },
   "outputs": [],
   "source": [
    "single_pnl = 0\n",
    "max_pnl = 0\n",
    "ticker_list = []\n",
    "pnl_list = []\n",
    "max_pnl_list = []\n",
    "max_size_list = []\n",
    "ret_list = []\n",
    "est_total_value = 0\n",
    "est_single_value = 0\n",
    "for d in NotifyTickers.values():\n",
    "    if d.long_traded or d.short_traded:\n",
    "        ticker_list.append(d.symbol)\n",
    "        pnl_list.append(int(d.pnl))\n",
    "        max_size_list.append(d.max_size)\n",
    "        max_pnl_list.append(int(d.pnl * d.max_size))\n",
    "        ret_list.append(str(round(d.tmp_ret * 100, 2)) + \"%\")\n",
    "        est_single_value += d.trade_value # d.open_threshold * 1000\n",
    "        est_total_value += d.trade_value * int(d.max_size / 2) # d.open_threshold * 1000 * d.max_size\n",
    "        # print(d.symbol, int(d.pnl), str(round(d.tmp_ret * 100, 2)) + \"%\", d.max_size, int(d.pnl * d.max_size))\n",
    "        single_pnl += d.pnl\n",
    "        max_pnl += d.pnl * d.max_size\n",
    "\n",
    "ticker_list.append(\"合計\")\n",
    "pnl_list.append(int(single_pnl))\n",
    "max_size_list.append(est_total_value)\n",
    "max_pnl_list.append(int(max_pnl))\n",
    "ret_list.append((str(round((max_pnl / est_total_value) * 100, 2)) + \"%\") if est_total_value else \"0%\")"
   ]
  },
  {
   "cell_type": "code",
   "execution_count": 21,
   "metadata": {
    "ExecuteTime": {
     "end_time": "2022-06-15T05:47:15.109274Z",
     "start_time": "2022-06-15T05:47:15.097062Z"
    }
   },
   "outputs": [],
   "source": [
    "\n",
    "def createSummaryTable(tickers, pnl_list:list=None, max_pnl_list:list=None, max_size_list:list=None, ret_list:list=None):\n",
    "    try:\n",
    "        table = PrettyTable()\n",
    "        table.add_column('代號', tickers)\n",
    "        table.add_column(\"損益\", pnl_list)\n",
    "        table.add_column(\"報酬率\", ret_list)\n",
    "        table.add_column(\"最大倉位\", max_size_list)\n",
    "        table.add_column(\"最大倉損益\", max_pnl_list)\n",
    "        table.align = 'r'\n",
    "    except Exception as e:\n",
    "        print(e)\n",
    "    else:\n",
    "        return table\n",
    "    \n",
    "sum_table = createSummaryTable(ticker_list, pnl_list, max_pnl_list, max_size_list, ret_list)"
   ]
  },
  {
   "cell_type": "code",
   "execution_count": 22,
   "metadata": {
    "ExecuteTime": {
     "end_time": "2022-06-15T05:47:16.682377Z",
     "start_time": "2022-06-15T05:47:16.658295Z"
    },
    "scrolled": true
   },
   "outputs": [
    {
     "data": {
      "text/plain": [
       "['',\n",
       " '【2022-06-15】策略損益',\n",
       " '總損益(單部位) : 0',\n",
       " '成交量(單部位) : 0',\n",
       " '總報酬(單部位) : 0%',\n",
       " '',\n",
       " '總損益(最大倉) : 0',\n",
       " '成交量(最大倉) : 0',\n",
       " '總報酬(最大倉) : 0%',\n",
       " '']"
      ]
     },
     "execution_count": 22,
     "metadata": {},
     "output_type": "execute_result"
    }
   ],
   "source": [
    "text = f'\\n【{trade_dtStr}】策略損益\\n'\n",
    "text += f'總損益(單部位) : {int(single_pnl)}\\n'\n",
    "text += f'成交量(單部位) : {est_single_value}\\n'\n",
    "text += f'總報酬(單部位) : {str(round((int(single_pnl) / est_single_value) * 100, 2)) if est_single_value else \"0\"}%\\n\\n'\n",
    "\n",
    "text += f'總損益(最大倉) : {int(max_pnl)}\\n'\n",
    "text += f'成交量(最大倉) : {est_total_value}\\n'\n",
    "text += f'總報酬(最大倉) : {str(round((int(max_pnl) / est_total_value) * 100, 2)) if est_total_value else \"0\"}%\\n'\n",
    "text.split('\\n')#.replace('\\n', '<br>')"
   ]
  },
  {
   "cell_type": "code",
   "execution_count": 23,
   "metadata": {
    "ExecuteTime": {
     "end_time": "2022-06-15T05:47:19.848268Z",
     "start_time": "2022-06-15T05:47:19.840821Z"
    }
   },
   "outputs": [],
   "source": [
    "with open(os.path.join(trade_result_path,f'{trade_dtStr}_ResultTable.html'), 'w') as f:\n",
    "    f.write(sum_table.get_html_string())"
   ]
  },
  {
   "cell_type": "code",
   "execution_count": 17,
   "metadata": {
    "ExecuteTime": {
     "end_time": "2022-06-02T05:11:49.968987Z",
     "start_time": "2022-06-02T05:11:49.725549Z"
    }
   },
   "outputs": [
    {
     "data": {
      "text/plain": [
       "200"
      ]
     },
     "execution_count": 17,
     "metadata": {},
     "output_type": "execute_result"
    }
   ],
   "source": [
    "Line.sendMessage(text)"
   ]
  },
  {
   "cell_type": "code",
   "execution_count": 45,
   "metadata": {
    "ExecuteTime": {
     "end_time": "2022-06-17T05:25:50.048142Z",
     "start_time": "2022-06-17T05:25:50.006633Z"
    },
    "code_folding": [
     70,
     96,
     120
    ]
   },
   "outputs": [],
   "source": [
    "def CreateTradeRecord(api, trade_dtStr, dayTrade = True):\n",
    "    col_names = {\n",
    "        'date':\"交易日期\",\n",
    "        'cond':'委託種類',\n",
    "        'code':\"商品代碼\",\n",
    "        'quantity':\"數量\",\n",
    "        'price':'進場價格',\n",
    "        'cost':'進場成本',\n",
    "        'dseq':'委託單號',\n",
    "        'rep_margintrading_amt':\"融資金額\",\n",
    "        'rep_collateral':\"擔保品\",\n",
    "        'rep_margin':'保證金',\n",
    "        'fee':'進場手續費',\n",
    "        'interest':'利息',\n",
    "        'tax':'交易稅',\n",
    "        'shortselling_fee':\"借券費\",\n",
    "        'currency':\"幣別\",\n",
    "        'trade_type':\"交易別\",\n",
    "        'exit_price':\"出場價格\",\n",
    "        \"pnl\":\"淨損益\",\n",
    "        \"pr_ratio\":\"報酬率\"\n",
    "    }\n",
    "#     if dayTrade:\n",
    "#         col_names.update({\"pr_ratio\":\"報酬率\"})\n",
    "    #=====================\n",
    "    # 從 API 讀取交易紀錄\n",
    "    #=====================\n",
    "    pnls_sum = api.list_profit_loss(api.stock_account, trade_dtStr, trade_dtStr)\n",
    "    \n",
    "    details = []\n",
    "    for pnl in pnls_sum:\n",
    "        for detail in api.list_profit_loss_detail(api.stock_account, pnl['id']):\n",
    "            d = detail.dict()\n",
    "            \n",
    "            if d['trade_type'] == \"DayTrade\" and dayTrade:\n",
    "                d.update({\n",
    "                    'exit_price':pnl['price'],\n",
    "                    'pnl':pnl['pnl'],\n",
    "                    'pr_ratio':pnl['pr_ratio']\n",
    "                })\n",
    "                details.append(d)\n",
    "            elif d['trade_type'] != \"DayTrade\" and not dayTrade:\n",
    "                d.update({\n",
    "                    'exit_price':pnl['price'],\n",
    "                    'pnl':pnl['pnl'],\n",
    "                    'pr_ratio':pnl['pr_ratio']\n",
    "                })\n",
    "                details.append(d)\n",
    "            \n",
    "    #=====================\n",
    "    # 計算交易明細\n",
    "    #=====================            \n",
    "    df_Record = DataFrame(details)\n",
    "    if not df_Record.empty:\n",
    "#         print(df_Record)\n",
    "        df_Record = df_Record.rename(columns=col_names)\n",
    "        df_Record['報酬率'] = (df_Record['報酬率'] * 100).apply(lambda x: str(round(x,2)))+\"%\"\n",
    "\n",
    "        df_Record['獲利'] = (df_Record['出場價格'] - df_Record['進場價格']) * 1000 * df_Record['數量']\n",
    "        df_Record['交易稅'] = (df_Record['出場價格'] * df_Record['數量'] * 3 * (.5 if dayTrade else 1)).fillna(0).apply(lambda x: int(x))\n",
    "        df_Record['出場手續費'] = round(df_Record['出場價格'] * 1.425)\n",
    "        df_Record['總交易成本'] = df_Record['交易稅'] + df_Record['進場手續費'] + df_Record['出場手續費']\n",
    "        if not dayTrade:\n",
    "            df_Record['總交易成本'] += df_Record['利息']\n",
    "        \n",
    "        df_Record['總損益(自結)'] = df_Record['獲利'] - df_Record['總交易成本']\n",
    "    \n",
    "    #=====================\n",
    "    # 計算總和\n",
    "    #=====================\n",
    "    summary = {\n",
    "        '交易日期':\"合計\",\n",
    "        '委託種類':\"\",\n",
    "        \"商品代碼\":\"\",\n",
    "        \"數量\":0,\n",
    "        '進場價格':\"\",\n",
    "        '進場成本':0,\n",
    "        '委託單號':\"\",\n",
    "        \"融資金額\":0,\n",
    "        \"擔保品\":0,\n",
    "        '保證金':0,\n",
    "        '進場手續費':0,\n",
    "        '利息':0,\n",
    "        '交易稅':0,\n",
    "        \"借券費\":0,\n",
    "        \"幣別\":\"NTD\",\n",
    "        \"交易別\":\"\",\n",
    "        \"出場價格\":\"\",\n",
    "        \"淨損益\":0,\n",
    "        \"報酬率\":\"0%\",\n",
    "        \"獲利\":0,\n",
    "        \"出場手續費\":0,\n",
    "        \"總交易成本\":0,\n",
    "        \"總損益(自結)\":0,\n",
    "\n",
    "    }\n",
    "    if not df_Record.empty:\n",
    "        summary.update({\n",
    "            \"數量\":int(df_Record['數量'].sum()),\n",
    "            '進場成本':int((df_Record['進場價格'] * df_Record[\"數量\"] * 1000).sum()),\n",
    "            \"融資金額\":int(df_Record['融資金額'].sum()),\n",
    "            \"擔保品\":int(df_Record['擔保品'].sum()),\n",
    "            '保證金':int(df_Record['保證金'].sum()),\n",
    "            '進場手續費':int(df_Record['進場手續費'].sum()),\n",
    "            '利息':int(df_Record['利息'].sum()),\n",
    "            '交易稅':int(df_Record['交易稅'].sum()),\n",
    "            \"借券費\":int(df_Record['借券費'].sum()),\n",
    "            \"淨損益\":int(df_Record['淨損益'].sum()),\n",
    "            \"獲利\":int(df_Record['獲利'].sum()),\n",
    "            \"出場手續費\":int(df_Record['出場手續費'].sum()),\n",
    "            \"總交易成本\":int(df_Record['總交易成本'].sum()),\n",
    "            \"總損益(自結)\":int(df_Record['總損益(自結)'].sum()),\n",
    "        })\n",
    "        summary['報酬率'] = f\"{round(summary['總損益(自結)'] / summary['進場成本'] * 100, 2)}%\"\n",
    "    summary_df = DataFrame([summary])\n",
    "    \n",
    "    #=====================\n",
    "    # 計算總和\n",
    "    #=====================\n",
    "    final_Record = summary_df\n",
    "    if not df_Record.empty:\n",
    "        final_Record = df_Record.append(summary_df)\n",
    "    final_Record = final_Record[\"交易日期,委託種類,交易別,商品代碼,委託單號,數量,進場價格,進場成本,出場價格,融資金額,擔保品,保證金,利息,借券費,進場手續費,出場手續費,交易稅,獲利,總交易成本,淨損益,總損益(自結),報酬率\".split(',')]\n",
    "    extra_file_name = '當沖' if dayTrade else '隔日沖'\n",
    "    file_name = os.path.join(trade_result_path, f\"{trade_dtStr}_TradingRecord_{extra_file_name}.csv\")\n",
    "#     print(file_name)\n",
    "    final_Record.to_csv(file_name, encoding='utf-8-sig',index=False)"
   ]
  },
  {
   "cell_type": "code",
   "execution_count": 46,
   "metadata": {
    "ExecuteTime": {
     "end_time": "2022-06-17T05:25:51.683060Z",
     "start_time": "2022-06-17T05:25:51.204944Z"
    }
   },
   "outputs": [],
   "source": [
    "## temp_str = \"2022-03-\"\n",
    "CreateTradeRecord(api, trade_dtStr)\n",
    "CreateTradeRecord(api, trade_dtStr, False)"
   ]
  },
  {
   "cell_type": "markdown",
   "metadata": {},
   "source": [
    "# Cross Day Trade"
   ]
  },
  {
   "cell_type": "code",
   "execution_count": 47,
   "metadata": {
    "ExecuteTime": {
     "end_time": "2022-06-17T05:25:53.481327Z",
     "start_time": "2022-06-17T05:25:53.459789Z"
    },
    "code_folding": [
     0,
     30
    ]
   },
   "outputs": [],
   "source": [
    "def EntryCrossDayTrade(api, ticker, qty=1, Fixing=False):\n",
    "    tmp_contract = api.Contracts.Stocks[ticker]\n",
    "    snap = api.snapshots([tmp_contract])[0]\n",
    "\n",
    "    order_price = tmp_contract.limit_up\n",
    "#     if snap.buy_volume < snap.sell_volume:\n",
    "#         order_price = snap.buy_price\n",
    "#     else:\n",
    "#         order_price = snap.sell_price\n",
    "    orders = []\n",
    "    if tmp_contract.margin_trading_balance <= 0:# and order_price > 100:\n",
    "        print(ticker, tmp_contract['name'], '無法進行資買')\n",
    "        return\n",
    "    for i in range(qty):\n",
    "        order = api.Order(\n",
    "                price=order_price,\n",
    "                quantity=1,\n",
    "                action=sj.constant.Action.Buy,\n",
    "                price_type=sj.constant.StockPriceType.LMT,\n",
    "                order_type=sj.constant.TFTOrderType.ROD,\n",
    "                first_sell=sj.constant.StockFirstSell.Yes,# if side == 'S' else sj.constant.StockFirstSell.No,\n",
    "                order_cond=sj.constant.StockOrderCond.MarginTrading if tmp_contract.margin_trading_balance > 0 else sj.constant.StockOrderCond.Cash,\n",
    "                order_lot=sj.constant.TFTStockOrderLot.Common if not Fixing else sj.constant.TFTStockOrderLot.Fixing,\n",
    "            )\n",
    "        tmp_order = api.place_order(tmp_contract, order)\n",
    "        if tmp_order.status.status == \"Failed\":\n",
    "            print(ticker, tmp_order, '\\n')\n",
    "        orders.append(tmp_order)\n",
    "    return orders\n",
    "\n",
    "def ExitCrossDayTrade(api, ticker, qty=1, Fixing=False):\n",
    "    tmp_contract = api.Contracts.Stocks[ticker]\n",
    "    snap = api.snapshots([tmp_contract])[0]\n",
    "\n",
    "    order_price = snap.close\n",
    "    if snap.buy_volume < snap.sell_volume:\n",
    "        order_price = snap.buy_price\n",
    "    else:\n",
    "        order_price = snap.sell_price\n",
    "    orders = []\n",
    "    for i in range(qty):\n",
    "        order = api.Order(\n",
    "                price=order_price,\n",
    "                quantity=1,\n",
    "                action=sj.constant.Action.Sell,\n",
    "                price_type=sj.constant.StockPriceType.LMT,\n",
    "                order_type=sj.constant.TFTOrderType.ROD,\n",
    "                first_sell=sj.constant.StockFirstSell.Yes,# if side == 'S' else sj.constant.StockFirstSell.No,\n",
    "                order_cond=sj.constant.StockOrderCond.MarginTrading if tmp_contract.margin_trading_balance > 0 else sj.constant.StockOrderCond.Cash,\n",
    "                order_lot=sj.constant.TFTStockOrderLot.Common if not Fixing else sj.constant.TFTStockOrderLot.Fixing,\n",
    "            )\n",
    "        tmp_order = api.place_order(tmp_contract, order)\n",
    "        if tmp_order.status.status == \"Failed\":\n",
    "            print(ticker, tmp_order, '\\n')\n",
    "        orders.append(tmp_order)\n",
    "    return orders"
   ]
  },
  {
   "cell_type": "code",
   "execution_count": 48,
   "metadata": {
    "ExecuteTime": {
     "end_time": "2022-06-17T05:25:54.170623Z",
     "start_time": "2022-06-17T05:25:54.163929Z"
    },
    "scrolled": true
   },
   "outputs": [],
   "source": [
    "CrossDayOrders = {}"
   ]
  },
  {
   "cell_type": "code",
   "execution_count": 22,
   "metadata": {
    "ExecuteTime": {
     "end_time": "2022-05-13T05:52:36.020008Z",
     "start_time": "2022-05-13T05:52:34.629757Z"
    }
   },
   "outputs": [
    {
     "name": "stdout",
     "output_type": "stream",
     "text": [
      "Response Code: 0 | Event Code: 0 | Info: host '203.66.91.161:80', hostname '203.66.91.161:80' IP 203.66.91.161:80 (host 1 of 1) (host connection attempt 1 of 1) (total connection attempt 1 of 1) | Event: Session up\n"
     ]
    },
    {
     "data": {
      "text/plain": [
       "True"
      ]
     },
     "execution_count": 22,
     "metadata": {},
     "output_type": "execute_result"
    }
   ],
   "source": [
    "api.logout()\n",
    "api = sj.Shioaji()\n",
    "\n",
    "api.login(\"F128497445\", \"89118217k\")\n",
    "api.activate_ca(os.path.join(parent, 'Sinopac.pfx'), 'j7629864', 'F128497445')"
   ]
  },
  {
   "cell_type": "markdown",
   "metadata": {},
   "source": [
    "## Entry"
   ]
  },
  {
   "cell_type": "code",
   "execution_count": 50,
   "metadata": {
    "ExecuteTime": {
     "end_time": "2022-06-17T05:26:15.589514Z",
     "start_time": "2022-06-17T05:26:15.495433Z"
    },
    "scrolled": true
   },
   "outputs": [
    {
     "name": "stdout",
     "output_type": "stream",
     "text": [
      "Order Status : TFTORDER, Order Data : {'operation': {'op_type': 'New', 'op_code': '00', 'op_msg': ''}, 'order': {'id': '441d421d', 'seqno': '104503', 'ordno': 'IJ353', 'account': {'account_type': 'S', 'person_id': '', 'broker_id': '9A92', 'account_id': '0231901', 'signed': True}, 'action': 'Buy', 'price': 46.55, 'quantity': 1, 'order_type': 'ROD', 'price_type': 'LMT', 'order_cond': 'MarginTrading', 'order_lot': 'Common', 'custom_field': ''}, 'status': {'id': '441d421d', 'exchange_ts': 1655443575, 'modified_price': 0.0, 'cancel_quantity': 0, 'order_quantity': 1, 'web_id': '137'}, 'contract': {'security_type': 'STK', 'exchange': 'OTC', 'code': '4503', 'symbol': '', 'name': '', 'currency': 'TWD'}} \n",
      "\n"
     ]
    }
   ],
   "source": [
    "for ticker in '4503'.split(','):\n",
    "    if len(ticker) > 0:\n",
    "        CrossDayOrders[ticker] = EntryCrossDayTrade(api, ticker, 1) # 盤中\n",
    "#         CrossDayOrders[ticker] = EntryCrossDayTrade(api, ticker, 1, True) # 盤後定價"
   ]
  },
  {
   "cell_type": "code",
   "execution_count": 30,
   "metadata": {
    "ExecuteTime": {
     "end_time": "2022-06-15T06:49:54.943243Z",
     "start_time": "2022-06-15T06:49:54.866089Z"
    }
   },
   "outputs": [],
   "source": [
    "api.update_status()"
   ]
  },
  {
   "cell_type": "code",
   "execution_count": 31,
   "metadata": {
    "ExecuteTime": {
     "end_time": "2022-06-15T06:49:55.495251Z",
     "start_time": "2022-06-15T06:49:55.479563Z"
    },
    "scrolled": true
   },
   "outputs": [
    {
     "data": {
      "text/plain": [
       "[Trade(contract=Stock(exchange=<Exchange.TSE: 'TSE'>, code='2206', symbol='TSE2206', name='三陽工業', category='12', unit=1000, limit_up=35.2, limit_down=28.8, reference=32.0, update_date='2022/06/15', margin_trading_balance=439, short_selling_balance=23, day_trade=<DayTrade.Yes: 'Yes'>), order=Order(action=<Action.Buy: 'Buy'>, price=32.85, quantity=1, id='c99f24cb', seqno='637846', ordno='IG597', account=Account(account_type=<AccountType.Stock: 'S'>, person_id='F128497445', broker_id='9A92', account_id='0231901', signed=True), price_type=<StockPriceType.LMT: 'LMT'>, order_type=<FuturesOrderType.ROD: 'ROD'>, order_lot=<TFTStockOrderLot.Fixing: 'Fixing'>, order_cond=<StockOrderCond.MarginTrading: 'MarginTrading'>, first_sell=<StockFirstSell.Yes: 'true'>), status=OrderStatus(id='c99f24cb', status=<Status.Submitted: 'Submitted'>, status_code='00', web_id='137', order_datetime=datetime.datetime(2022, 6, 15, 14, 2), order_quantity=1, deals=[])),\n",
       " Trade(contract=Stock(exchange=<Exchange.TSE: 'TSE'>, code='1236', symbol='TSE1236', name='宏亞', category='02', unit=1000, limit_up=33.2, limit_down=27.2, reference=30.2, update_date='2022/06/15', margin_trading_balance=58, short_selling_balance=16, day_trade=<DayTrade.Yes: 'Yes'>), order=Order(action=<Action.Buy: 'Buy'>, price=29.5, quantity=1, id='0a9f355b', seqno='637847', ordno='IG598', account=Account(account_type=<AccountType.Stock: 'S'>, person_id='F128497445', broker_id='9A92', account_id='0231901', signed=True), price_type=<StockPriceType.LMT: 'LMT'>, order_type=<FuturesOrderType.ROD: 'ROD'>, order_lot=<TFTStockOrderLot.Fixing: 'Fixing'>, order_cond=<StockOrderCond.MarginTrading: 'MarginTrading'>, first_sell=<StockFirstSell.Yes: 'true'>), status=OrderStatus(id='0a9f355b', status=<Status.Filled: 'Filled'>, status_code='00', web_id='137', order_datetime=datetime.datetime(2022, 6, 15, 14, 2), deal_quantity=1, deals=[Deal(seq='928132', price=29.5, quantity=1, ts=1655274600)])),\n",
       " Trade(contract=Contract(security_type=<SecurityType.Stock: 'STK'>, exchange=<Exchange.OTC: 'OTC'>, code='5353'), order=Order(action=<Action.Sell: 'Sell'>, price=24.45, quantity=1, id='512d9863', seqno='120209', ordno='IA404', account=Account(account_type=<AccountType.Stock: 'S'>, person_id='F128497445', broker_id='9A92', account_id='0231901', signed=True), price_type=<StockPriceType.LMT: 'LMT'>, order_type=<FuturesOrderType.ROD: 'ROD'>, order_cond=<StockOrderCond.MarginTrading: 'MarginTrading'>), status=OrderStatus(id='512d9863', status=<Status.Filled: 'Filled'>, status_code='00', web_id='144', order_datetime=datetime.datetime(2022, 6, 15, 8, 32, 43), deal_quantity=1, deals=[]))]"
      ]
     },
     "execution_count": 31,
     "metadata": {},
     "output_type": "execute_result"
    }
   ],
   "source": [
    "api.list_trades()"
   ]
  },
  {
   "cell_type": "markdown",
   "metadata": {},
   "source": [
    "## Exit"
   ]
  },
  {
   "cell_type": "code",
   "execution_count": 27,
   "metadata": {
    "ExecuteTime": {
     "end_time": "2022-04-18T05:41:12.507033Z",
     "start_time": "2022-04-18T05:41:12.140984Z"
    },
    "scrolled": true
   },
   "outputs": [
    {
     "name": "stdout",
     "output_type": "stream",
     "text": [
      "Order Status : TFTORDER, Order Data : {'operation': {'op_type': 'New', 'op_code': '88', 'op_msg': '融資賣出餘股數不足，餘股數 0 股（自辦）'}, 'order': {'id': 'b11f544b', 'seqno': '081598', 'ordno': 'I0000', 'account': {'account_type': 'S', 'person_id': '', 'broker_id': '9A92', 'account_id': '0231901', 'signed': True}, 'action': 'Sell', 'price': 58.9, 'quantity': 1, 'order_type': 'ROD', 'price_type': 'LMT', 'order_cond': 'MarginTrading', 'order_lot': 'Fixing', 'custom_field': ''}, 'status': {'id': 'b11f544b', 'exchange_ts': 1650261720, 'modified_price': 0.0, 'cancel_quantity': 0, 'order_quantity': 0, 'web_id': '137'}, 'contract': {'security_type': 'STK', 'exchange': 'TSE', 'code': '6217', 'symbol': '', 'name': '', 'currency': 'TWD'}} \n",
      "\n",
      "Order Status : TFTORDER, Order Data : {'operation': {'op_type': 'New', 'op_code': '88', 'op_msg': '融資賣出餘股數不足，餘股數 0 股（自辦）'}, 'order': {'id': 'f8f9b234', 'seqno': '081600', 'ordno': 'I0000', 'account': {'account_type': 'S', 'person_id': '', 'broker_id': '9A92', 'account_id': '0231901', 'signed': True}, 'action': 'Sell', 'price': 56.8, 'quantity': 1, 'order_type': 'ROD', 'price_type': 'LMT', 'order_cond': 'MarginTrading', 'order_lot': 'Fixing', 'custom_field': ''}, 'status': {'id': 'f8f9b234', 'exchange_ts': 1650261720, 'modified_price': 0.0, 'cancel_quantity': 0, 'order_quantity': 0, 'web_id': '137'}, 'contract': {'security_type': 'STK', 'exchange': 'TSE', 'code': '6598', 'symbol': '', 'name': '', 'currency': 'TWD'}} \n",
      "\n",
      "Order Status : TFTORDER, Order Data : {'operation': {'op_type': 'New', 'op_code': '88', 'op_msg': '融資賣出餘股數不足，餘股數 0 股（自辦）'}, 'order': {'id': '6fc13d00', 'seqno': '081601', 'ordno': 'I0000', 'account': {'account_type': 'S', 'person_id': '', 'broker_id': '9A92', 'account_id': '0231901', 'signed': True}, 'action': 'Sell', 'price': 95.7, 'quantity': 1, 'order_type': 'ROD', 'price_type': 'LMT', 'order_cond': 'MarginTrading', 'order_lot': 'Fixing', 'custom_field': ''}, 'status': {'id': '6fc13d00', 'exchange_ts': 1650261720, 'modified_price': 0.0, 'cancel_quantity': 0, 'order_quantity': 0, 'web_id': '137'}, 'contract': {'security_type': 'STK', 'exchange': 'TSE', 'code': '2637', 'symbol': '', 'name': '', 'currency': 'TWD'}} \n",
      "\n",
      "Order Status : TFTORDER, Order Data : {'operation': {'op_type': 'New', 'op_code': '00', 'op_msg': ''}, 'order': {'id': '8a72e2f1', 'seqno': '081599', 'ordno': 'IJ697', 'account': {'account_type': 'S', 'person_id': '', 'broker_id': '9A92', 'account_id': '0231901', 'signed': True}, 'action': 'Sell', 'price': 235.0, 'quantity': 1, 'order_type': 'ROD', 'price_type': 'LMT', 'order_cond': 'Cash', 'order_lot': 'Fixing', 'custom_field': ''}, 'status': {'id': '8a72e2f1', 'exchange_ts': 1650261720, 'modified_price': 0.0, 'cancel_quantity': 0, 'order_quantity': 1, 'web_id': '137'}, 'contract': {'security_type': 'STK', 'exchange': 'TSE', 'code': '6712', 'symbol': '', 'name': '', 'currency': 'TWD'}} \n",
      "\n",
      "Order Status : TFTORDER, Order Data : {'operation': {'op_type': 'New', 'op_code': '88', 'op_msg': '該證券不得融券賣出'}, 'order': {'id': 'c225ea8d', 'seqno': '097118', 'ordno': 'I0000', 'account': {'account_type': 'S', 'person_id': '', 'broker_id': '9A92', 'account_id': '0231901', 'signed': True}, 'action': 'Sell', 'price': 58.9, 'quantity': 1, 'order_type': 'ROD', 'price_type': 'LMT', 'order_cond': 'ShortSelling', 'order_lot': 'Fixing', 'custom_field': ''}, 'status': {'id': 'c225ea8d', 'exchange_ts': 1650261986, 'modified_price': 0.0, 'cancel_quantity': 0, 'order_quantity': 0, 'web_id': '129'}, 'contract': {'security_type': 'STK', 'exchange': 'TSE', 'code': '6217', 'symbol': '', 'name': '', 'currency': 'TWD'}} \n",
      "\n",
      "Order Status : TFTORDER, Order Data : {'operation': {'op_type': 'New', 'op_code': '00', 'op_msg': ''}, 'order': {'id': '907dbbbd', 'seqno': '098437', 'ordno': 'IJ724', 'account': {'account_type': 'S', 'person_id': '', 'broker_id': '9A92', 'account_id': '0231901', 'signed': True}, 'action': 'Sell', 'price': 95.8, 'quantity': 1, 'order_type': 'ROD', 'price_type': 'LMT', 'order_cond': 'ShortSelling', 'order_lot': 'Fixing', 'custom_field': ''}, 'status': {'id': '907dbbbd', 'exchange_ts': 1650262001, 'modified_price': 0.0, 'cancel_quantity': 0, 'order_quantity': 1, 'web_id': '129'}, 'contract': {'security_type': 'STK', 'exchange': 'TSE', 'code': '2637', 'symbol': '', 'name': '', 'currency': 'TWD'}} \n",
      "\n",
      "Order Status : TFTORDER, Order Data : {'operation': {'op_type': 'New', 'op_code': '88', 'op_msg': '該證券不得融券賣出'}, 'order': {'id': '60755eb1', 'seqno': '100134', 'ordno': 'I0000', 'account': {'account_type': 'S', 'person_id': '', 'broker_id': '9A92', 'account_id': '0231901', 'signed': True}, 'action': 'Sell', 'price': 56.8, 'quantity': 1, 'order_type': 'ROD', 'price_type': 'LMT', 'order_cond': 'ShortSelling', 'order_lot': 'Fixing', 'custom_field': ''}, 'status': {'id': '60755eb1', 'exchange_ts': 1650262023, 'modified_price': 0.0, 'cancel_quantity': 0, 'order_quantity': 0, 'web_id': '129'}, 'contract': {'security_type': 'STK', 'exchange': 'TSE', 'code': '6598', 'symbol': '', 'name': '', 'currency': 'TWD'}} \n",
      "\n"
     ]
    }
   ],
   "source": [
    "for ticker in ''.split(','):\n",
    "    if len(ticker) > 0:\n",
    "#         CrossDayOrders[ticker] = ExitCrossDayTrade(api, ticker, 1) # 盤中\n",
    "        CrossDayOrders[ticker] = ExitCrossDayTrade(api, ticker, 1, True) # 盤後定價"
   ]
  }
 ],
 "metadata": {
  "hide_input": false,
  "kernelspec": {
   "display_name": "Python 3",
   "language": "python",
   "name": "python3"
  },
  "toc": {
   "base_numbering": 1,
   "nav_menu": {},
   "number_sections": true,
   "sideBar": true,
   "skip_h1_title": false,
   "title_cell": "Table of Contents",
   "title_sidebar": "Contents",
   "toc_cell": false,
   "toc_position": {},
   "toc_section_display": true,
   "toc_window_display": false
  },
  "varInspector": {
   "cols": {
    "lenName": 16,
    "lenType": 16,
    "lenVar": 40
   },
   "kernels_config": {
    "python": {
     "delete_cmd_postfix": "",
     "delete_cmd_prefix": "del ",
     "library": "var_list.py",
     "varRefreshCmd": "print(var_dic_list())"
    },
    "r": {
     "delete_cmd_postfix": ") ",
     "delete_cmd_prefix": "rm(",
     "library": "var_list.r",
     "varRefreshCmd": "cat(var_dic_list()) "
    }
   },
   "types_to_exclude": [
    "module",
    "function",
    "builtin_function_or_method",
    "instance",
    "_Feature"
   ],
   "window_display": false
  }
 },
 "nbformat": 4,
 "nbformat_minor": 4
}
