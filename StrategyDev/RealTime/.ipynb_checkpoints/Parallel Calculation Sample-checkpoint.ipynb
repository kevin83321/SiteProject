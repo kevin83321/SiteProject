{
 "cells": [
  {
   "cell_type": "code",
   "execution_count": 7,
   "metadata": {
    "ExecuteTime": {
     "end_time": "2022-01-20T12:18:06.037462Z",
     "start_time": "2022-01-20T12:18:06.034461Z"
    }
   },
   "outputs": [],
   "source": [
    "from concurrent.futures import ThreadPoolExecutor\n",
    "from time import time\n",
    "import random"
   ]
  },
  {
   "cell_type": "code",
   "execution_count": 21,
   "metadata": {
    "ExecuteTime": {
     "end_time": "2022-01-20T12:24:19.731910Z",
     "start_time": "2022-01-20T12:24:19.727905Z"
    }
   },
   "outputs": [],
   "source": [
    "def loopFunc(steps):\n",
    "    total = 0\n",
    "    for i in range(steps):\n",
    "        total += random.Random().normalvariate(0,1)\n",
    "    return total"
   ]
  },
  {
   "cell_type": "code",
   "execution_count": 44,
   "metadata": {
    "ExecuteTime": {
     "end_time": "2022-01-20T12:47:05.671383Z",
     "start_time": "2022-01-20T12:47:05.666383Z"
    }
   },
   "outputs": [],
   "source": [
    "total_steps = 100\n",
    "total_times = 10000"
   ]
  },
  {
   "cell_type": "markdown",
   "metadata": {},
   "source": [
    "# 逐次計算"
   ]
  },
  {
   "cell_type": "code",
   "execution_count": 45,
   "metadata": {
    "ExecuteTime": {
     "end_time": "2022-01-20T12:49:51.754966Z",
     "start_time": "2022-01-20T12:47:07.175554Z"
    }
   },
   "outputs": [
    {
     "name": "stdout",
     "output_type": "stream",
     "text": [
      "20.5 s ± 534 ms per loop (mean ± std. dev. of 7 runs, 1 loop each)\n"
     ]
    }
   ],
   "source": [
    "%%timeit\n",
    "# start_time = time()\n",
    "\n",
    "result = []\n",
    "for i in range(total_times):\n",
    "    result.append(loopFunc(total_steps))\n",
    "# end_time = time()\n",
    "# duration = end_time - start_time\n",
    "# print(f\"{total_times} times for {total_steps} steps used {duration} sec(s)\")"
   ]
  },
  {
   "cell_type": "markdown",
   "metadata": {},
   "source": [
    "# 平行計算"
   ]
  },
  {
   "cell_type": "code",
   "execution_count": 46,
   "metadata": {
    "ExecuteTime": {
     "end_time": "2022-01-20T12:52:35.053661Z",
     "start_time": "2022-01-20T12:49:51.877957Z"
    }
   },
   "outputs": [
    {
     "name": "stdout",
     "output_type": "stream",
     "text": [
      "20.2 s ± 375 ms per loop (mean ± std. dev. of 7 runs, 1 loop each)\n"
     ]
    }
   ],
   "source": [
    "%%timeit\n",
    "# start_time = time()\n",
    "with ThreadPoolExecutor(4) as executor:\n",
    "    exes = [executor.submit(loopFunc, total_steps) for i in range(total_times)] # 建立執行續\n",
    "    result = [exe.result() for exe in exes] # 執行每個執行緒內容，並將之存在list之內\n",
    "# end_time = time()\n",
    "# duration = end_time - start_time\n",
    "# print(f\"{total_times} times for {total_steps} steps used {duration} sec(s)\")"
   ]
  }
 ],
 "metadata": {
  "hide_input": false,
  "kernelspec": {
   "display_name": "Python 3",
   "language": "python",
   "name": "python3"
  },
  "language_info": {
   "codemirror_mode": {
    "name": "ipython",
    "version": 3
   },
   "file_extension": ".py",
   "mimetype": "text/x-python",
   "name": "python",
   "nbconvert_exporter": "python",
   "pygments_lexer": "ipython3",
   "version": "3.7.8"
  },
  "toc": {
   "base_numbering": 1,
   "nav_menu": {},
   "number_sections": true,
   "sideBar": true,
   "skip_h1_title": false,
   "title_cell": "Table of Contents",
   "title_sidebar": "Contents",
   "toc_cell": false,
   "toc_position": {},
   "toc_section_display": true,
   "toc_window_display": false
  },
  "varInspector": {
   "cols": {
    "lenName": 16,
    "lenType": 16,
    "lenVar": 40
   },
   "kernels_config": {
    "python": {
     "delete_cmd_postfix": "",
     "delete_cmd_prefix": "del ",
     "library": "var_list.py",
     "varRefreshCmd": "print(var_dic_list())"
    },
    "r": {
     "delete_cmd_postfix": ") ",
     "delete_cmd_prefix": "rm(",
     "library": "var_list.r",
     "varRefreshCmd": "cat(var_dic_list()) "
    }
   },
   "types_to_exclude": [
    "module",
    "function",
    "builtin_function_or_method",
    "instance",
    "_Feature"
   ],
   "window_display": false
  }
 },
 "nbformat": 4,
 "nbformat_minor": 4
}
