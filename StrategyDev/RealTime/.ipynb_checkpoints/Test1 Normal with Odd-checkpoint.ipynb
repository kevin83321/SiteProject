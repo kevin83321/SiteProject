{
 "cells": [
  {
   "cell_type": "code",
   "execution_count": 1,
   "metadata": {
    "ExecuteTime": {
     "end_time": "2022-10-25T03:20:58.609230Z",
     "start_time": "2022-10-25T03:20:57.783040Z"
    }
   },
   "outputs": [],
   "source": [
    "import shioaji as sj\n",
    "from pymongo import MongoClient\n",
    "from datetime import datetime, timedelta\n",
    "from pandas import DataFrame\n",
    "import numpy as np\n",
    "from Messenger.LineMessenger import LineMessenger as Line\n",
    "from time import sleep\n",
    "\n",
    "import warnings\n",
    "warnings.filterwarnings(\"ignore\")\n",
    "\n",
    "from prettytable import PrettyTable\n",
    "import json\n",
    "import os \n",
    "parent = os.path.dirname(os.path.abspath(\"__file__\"))\n",
    "StrongPath = os.path.join(parent, 'StrongTickers')\n",
    "if not os.path.isdir(StrongPath):\n",
    "    os.makedirs(StrongPath)\n",
    "\n",
    "setting = {\n",
    "    'user':'kevin83321',\n",
    "    'pwd':'j7629864',\n",
    "    'ip':'192.168.2.173',\n",
    "    'port':'49153'\n",
    "}"
   ]
  },
  {
   "cell_type": "code",
   "execution_count": 2,
   "metadata": {
    "ExecuteTime": {
     "end_time": "2022-10-25T03:20:59.381680Z",
     "start_time": "2022-10-25T03:20:59.360683Z"
    },
    "code_folding": [
     0,
     14
    ]
   },
   "outputs": [],
   "source": [
    "def get_minimum_tick(cost):\n",
    "    if cost < 10:\n",
    "        return 0.01\n",
    "    elif cost < 50:\n",
    "        return 0.05\n",
    "    elif cost < 100:\n",
    "        return 0.1\n",
    "    elif cost < 500:\n",
    "        return 0.5\n",
    "    elif cost < 1000:\n",
    "        return 1\n",
    "    else:\n",
    "        return 5\n",
    "    \n",
    "def get_commission(price:float, multiplier:int=1000, qty=1, Real:bool=True, direction:str='', dayTrade:bool=False):\n",
    "    \"\"\"\n",
    "    計算個別部位的單邊交易成本\n",
    "\n",
    "    Params:\n",
    "        symbol : 商品代碼\n",
    "        exchange : 交易所\n",
    "        cost : 交易價格\n",
    "        multiplier : 價格還原現金之乘數\n",
    "            例如:\n",
    "                股票 : 1張 = 1,000股，10元的股票還原現金價值，即為10 *1,000 = 10,000元\n",
    "                期貨 : 台指期1點200元，假設現在10,000點，則一口台股的價值為 200 * 10,000 = 2,000,000\n",
    "        qty : 買賣口數或張數\n",
    "        Real : 是否為實單, default = False\n",
    "        direction : 交易方向 進場(買賣)或出場\n",
    "            P.S. 股票交易的交易稅是出場才計算\n",
    "    \"\"\"\n",
    "    tick = get_minimum_tick(price)\n",
    "    commission = price * (0.1425 / 100) * multiplier * qty\n",
    "    commission = 20 if commission < 20 else commission\n",
    "    fee = price * (0.3 / 100) * multiplier * qty\n",
    "    if dayTrade:\n",
    "        fee /= 2\n",
    "    slide = tick * multiplier\n",
    "    tradeCost = commission * 0.6\n",
    "    if direction == 'EXIT' or direction == 0:\n",
    "        tradeCost += fee\n",
    "    if not Real:\n",
    "        tradeCost += slide * qty\n",
    "    return tradeCost"
   ]
  },
  {
   "cell_type": "code",
   "execution_count": 3,
   "metadata": {
    "ExecuteTime": {
     "end_time": "2022-10-25T03:21:00.385333Z",
     "start_time": "2022-10-25T03:21:00.372336Z"
    }
   },
   "outputs": [],
   "source": [
    "api = sj.Shioaji()"
   ]
  },
  {
   "cell_type": "code",
   "execution_count": 5,
   "metadata": {
    "ExecuteTime": {
     "end_time": "2022-10-25T03:21:10.525539Z",
     "start_time": "2022-10-25T03:21:08.292197Z"
    }
   },
   "outputs": [
    {
     "name": "stdout",
     "output_type": "stream",
     "text": [
      "Response Code: 0 | Event Code: 0 | Info: host '203.66.91.161:80', hostname '203.66.91.161:80' IP 203.66.91.161:80 (host 1 of 1) (host connection attempt 1 of 1) (total connection attempt 1 of 1) | Event: Session up\n"
     ]
    },
    {
     "data": {
      "text/plain": [
       "[FutureAccount(person_id='F128497445', broker_id='F002000', account_id='1473661', signed=True, username='鄭圳宏'),\n",
       " Account(account_type=<AccountType.H: 'H'>, person_id='F128497445', broker_id='9A92', account_id='0011645', username='鄭圳宏\\u3000\\u3000\\u3000\\u3000\\u3000\\u3000\\u3000\\u3000\\u3000\\u3000\\u3000\\u3000'),\n",
       " StockAccount(person_id='F128497445', broker_id='9A92', account_id='0231901', signed=True, username='鄭圳宏\\u3000\\u3000')]"
      ]
     },
     "execution_count": 5,
     "metadata": {},
     "output_type": "execute_result"
    }
   ],
   "source": [
    "api.login(\"F128497445\", \"89118217k\")"
   ]
  },
  {
   "cell_type": "code",
   "execution_count": 6,
   "metadata": {
    "ExecuteTime": {
     "end_time": "2022-10-25T03:21:12.755170Z",
     "start_time": "2022-10-25T03:21:12.745178Z"
    }
   },
   "outputs": [],
   "source": [
    "ODD_Data_BA = {}\n",
    "Tick_Data_BA = {}\n",
    "spread = {}"
   ]
  },
  {
   "cell_type": "code",
   "execution_count": 7,
   "metadata": {
    "ExecuteTime": {
     "end_time": "2022-10-25T03:21:14.395468Z",
     "start_time": "2022-10-25T03:21:14.356475Z"
    },
    "code_folding": []
   },
   "outputs": [],
   "source": [
    "from shioaji import TickSTKv1, Exchange, BidAskSTKv1, TickFOPv1, BidAskFOPv1\n",
    "\n",
    "# @api1.on_tick_stk_v1()\n",
    "# @api1.on_bidask_stk_v1()\n",
    "# @api1.on_bidask_fop_v1()\n",
    "# @api1.on_tick_fop_v1()\n",
    "\n",
    "\n",
    "def quote_callback(exchange:Exchange, tick:[TickSTKv1, BidAskSTKv1, TickFOPv1, BidAskFOPv1]):\n",
    "    try:\n",
    "        if type(tick) in [BidAskSTKv1, BidAskFOPv1] or 1:\n",
    "            data = dict(\n",
    "                symbol = tick.code,\n",
    "                datetime = tick.datetime,\n",
    "                bid1 = float(tick.bid_price[0]),\n",
    "                bid2 = float(tick.bid_price[1]),\n",
    "                bid3 = float(tick.bid_price[2]),\n",
    "                bid4 = float(tick.bid_price[3]),\n",
    "                bid5 = float(tick.bid_price[4]),\n",
    "                bidQty1 = float(tick.bid_volume[0]),\n",
    "                bidQty2 = float(tick.bid_volume[1]),\n",
    "                bidQty3 = float(tick.bid_volume[2]),\n",
    "                bidQty4 = float(tick.bid_volume[3]),\n",
    "                bidQty5 = float(tick.bid_volume[4]),\n",
    "                askQty1 = float(tick.ask_volume[0]),\n",
    "                askQty2 = float(tick.ask_volume[1]),\n",
    "                askQty3 = float(tick.ask_volume[2]),\n",
    "                askQty4 = float(tick.ask_volume[3]),\n",
    "                askQty5 = float(tick.ask_volume[4]),\n",
    "                ask1 = float(tick.ask_price[0]),\n",
    "                ask2 = float(tick.ask_price[1]),\n",
    "                ask3 = float(tick.ask_price[2]),\n",
    "                ask4 = float(tick.ask_price[3]),\n",
    "                ask5 = float(tick.ask_price[4]),\n",
    "                simulate=bool(tick.simtrade),\n",
    "                odd=bool(tick.intraday_odd)\n",
    "            )\n",
    "#             print(data)\n",
    "            if data['odd']:\n",
    "                ODD_Data_BA[tick.code] = ODD_Data_BA.get(tick.code, []) + [data]\n",
    "            else:\n",
    "                Tick_Data_BA[tick.code] = Tick_Data_BA.get(tick.code, []) + [data]\n",
    "            if tick.code in ODD_Data_BA.keys() and tick.code in Tick_Data_BA.keys():\n",
    "                NaOb_r = ODD_Data_BA[tick.code][-1]['bid1'] / Tick_Data_BA[tick.code][-1]['ask1'] - 1\n",
    "                NbOa_r = Tick_Data_BA[tick.code][-1]['bid1'] / ODD_Data_BA[tick.code][-1]['ask1'] - 1\n",
    "                NaOb_s = ODD_Data_BA[tick.code][-1]['bid1'] - Tick_Data_BA[tick.code][-1]['ask1']\n",
    "                NbOa_s = Tick_Data_BA[tick.code][-1]['bid1'] - ODD_Data_BA[tick.code][-1]['ask1']\n",
    "                spd_data = dict(\n",
    "                    symbol = tick.code,\n",
    "                    datetime = tick.datetime,\n",
    "                    NaOb_r=NaOb_r, # 價差比率，賣整買零\n",
    "                    NbOa_r=NbOa_r, # 價差比率，賣零買整\n",
    "                    NaOb_s=NaOb_s, # 價差，賣整買零\n",
    "                    NbOa_s=NbOa_s, # 價差，賣零買整\n",
    "                    bid1=Tick_Data_BA[tick.code][-1]['bid1'],\n",
    "                    ask1=Tick_Data_BA[tick.code][-1]['ask1'],\n",
    "                    odd_bid1=ODD_Data_BA[tick.code][-1]['bid1'],\n",
    "                    odd_ask1=ODD_Data_BA[tick.code][-1]['ask1'],\n",
    "                    bidQty1=Tick_Data_BA[tick.code][-1]['bidQty1'],\n",
    "                    askQty1=Tick_Data_BA[tick.code][-1]['askQty1'],\n",
    "                    odd_bidQty1=ODD_Data_BA[tick.code][-1]['bidQty1'],\n",
    "                    odd_askQty1=ODD_Data_BA[tick.code][-1]['askQty1'],\n",
    "                    simulate=data['simulate'],\n",
    "                    triggerbyOdd=data['odd'],\n",
    "                )\n",
    "                # print(spd_data, '\\n')\n",
    "                spread[tick.code] = spread.get(tick.code, []) + [spd_data]\n",
    "#             print(f\"Exchange : {exchange}, BidAsk : {NotifyTickers[ticker].q80_data}\\n\")\n",
    "    except Exception as e:\n",
    "        print(e)\n",
    "    \n",
    "api.quote.set_on_tick_stk_v1_callback(quote_callback)\n",
    "api.quote.set_on_bidask_stk_v1_callback(quote_callback)\n",
    "# api.quote.set_on_bidask_fop_v1_callback(quote_callback)\n",
    "# api.quote.set_on_tick_fop_v1_callback(quote_callback)\n",
    "\n",
    "def place_cb(stat, msg):\n",
    "#     NotifyTickers[msg['code']].updateOrderDeal(stat, msg)\n",
    "    print(f\"Order Status : {stat}, Order Data : {msg}\")\n",
    "    \n",
    "api.set_order_callback(place_cb)"
   ]
  },
  {
   "cell_type": "code",
   "execution_count": 8,
   "metadata": {
    "ExecuteTime": {
     "end_time": "2022-10-25T03:21:16.560367Z",
     "start_time": "2022-10-25T03:21:16.505367Z"
    },
    "code_folding": [],
    "scrolled": true
   },
   "outputs": [
    {
     "name": "stdout",
     "output_type": "stream",
     "text": [
      "Tradable Ticker : 2330\n",
      "Tradable Ticker : 2317\n",
      "Tradable Ticker : 2603\n",
      "Tradable Ticker : 2615\n",
      "Tradable Ticker : 2609\n",
      "Tradable Ticker : 2303\n",
      "Tradable Ticker : 0056\n",
      "Tradable Ticker : 0050\n",
      "Tradable Ticker : 3481\n",
      "Tradable Ticker : 1101\n",
      "Tradable Ticker : 2884\n",
      "Tradable Ticker : 006208\n",
      "Tradable Ticker : 2887\n",
      "Tradable Ticker : 2886\n",
      "Tradable Ticker : 2890\n",
      "Response Code: 200 | Event Code: 16 | Info: QUO/v1/STK/*/TSE/2330 | Event: Subscribe or Unsubscribe okTradable Ticker : 2409\n",
      "Tradable Ticker : 2891\n",
      "Tradable Ticker : 2883\n",
      "Tradable Ticker : 2812\n",
      "Tradable Ticker : 5880\n",
      "Tradable Ticker : 2892\n",
      "Tradable Ticker : 2610\n",
      "Tradable Ticker : 2618\n",
      "\n",
      "Response Code: 200 | Event Code: 16 | Info: QUO/v1/ODD/*/TSE/2330 | Event: Subscribe or Unsubscribe ok\n",
      "Response Code: 200 | Event Code: 16 | Info: QUO/v1/STK/*/TSE/2317 | Event: Subscribe or Unsubscribe ok\n",
      "Response Code: 200 | Event Code: 16 | Info: QUO/v1/ODD/*/TSE/2317 | Event: Subscribe or Unsubscribe ok\n",
      "Response Code: 200 | Event Code: 16 | Info: QUO/v1/STK/*/TSE/2603 | Event: Subscribe or Unsubscribe ok\n",
      "Response Code: 200 | Event Code: 16 | Info: QUO/v1/ODD/*/TSE/2603 | Event: Subscribe or Unsubscribe ok\n",
      "Response Code: 200 | Event Code: 16 | Info: QUO/v1/STK/*/TSE/2615 | Event: Subscribe or Unsubscribe ok\n",
      "Response Code: 200 | Event Code: 16 | Info: QUO/v1/ODD/*/TSE/2615 | Event: Subscribe or Unsubscribe ok\n",
      "Response Code: 200 | Event Code: 16 | Info: QUO/v1/STK/*/TSE/2609 | Event: Subscribe or Unsubscribe ok\n",
      "Response Code: 200 | Event Code: 16 | Info: QUO/v1/ODD/*/TSE/2609 | Event: Subscribe or Unsubscribe ok\n",
      "Response Code: 200 | Event Code: 16 | Info: QUO/v1/STK/*/TSE/2303 | Event: Subscribe or Unsubscribe ok\n",
      "Response Code: 200 | Event Code: 16 | Info: QUO/v1/ODD/*/TSE/2303 | Event: Subscribe or Unsubscribe ok\n",
      "Response Code: 200 | Event Code: 16 | Info: QUO/v1/STK/*/TSE/0056 | Event: Subscribe or Unsubscribe ok\n",
      "Response Code: 200 | Event Code: 16 | Info: QUO/v1/ODD/*/TSE/0056 | Event: Subscribe or Unsubscribe ok\n",
      "Response Code: 200 | Event Code: 16 | Info: QUO/v1/STK/*/TSE/0050 | Event: Subscribe or Unsubscribe ok\n",
      "Response Code: 200 | Event Code: 16 | Info: QUO/v1/ODD/*/TSE/0050 | Event: Subscribe or Unsubscribe ok\n",
      "Response Code: 200 | Event Code: 16 | Info: QUO/v1/STK/*/TSE/3481 | Event: Subscribe or Unsubscribe ok\n",
      "Response Code: 200 | Event Code: 16 | Info: QUO/v1/ODD/*/TSE/3481 | Event: Subscribe or Unsubscribe ok\n"
     ]
    }
   ],
   "source": [
    "# NotifyTickers = {}\n",
    "# for i in range(125):\n",
    "#     if i < len(open_thresholds.keys()):\n",
    "#         ticker = sorted(open_thresholds.keys())[i]\n",
    "for ticker in '2330,2317,2603,2615,2609,2303,0056,0050,3481,1101,2884,006208,2887,2886,2890,2409,2891,2883,2812,5880,2892,2610,2618,2882'.split(','):\n",
    "    tmp_contract = api.Contracts.Stocks[ticker]\n",
    "    if tmp_contract.day_trade != sj.constant.DayTrade.No:\n",
    "        print(\"Tradable Ticker : \" + ticker)\n",
    "        # tmp_contract = api1.Contracts.Futures[ticker]\n",
    "#             NotifyTickers[ticker] = NotifyTickers.get(ticker,\n",
    "#                                                       DataObject(tmp_contract, open_threshold=tmp_contract.reference, \n",
    "#                                                                 api=api, max_size = max_size_map[ticker], PreData=open_thresholds[ticker]))\n",
    "#             api.quote.subscribe(\n",
    "#                 tmp_contract, \n",
    "#                 quote_type = sj.constant.QuoteType.Tick, # or 'tick'\n",
    "#                 version = sj.constant.QuoteVersion.v1 # or 'v1'\n",
    "#             )\n",
    "        api.quote.subscribe(\n",
    "            tmp_contract, \n",
    "            quote_type = sj.constant.QuoteType.BidAsk, # or 'tick'\n",
    "            version = sj.constant.QuoteVersion.v1 # or 'v1'\n",
    "        )\n",
    "        api.quote.subscribe(\n",
    "            tmp_contract, \n",
    "            quote_type = sj.constant.QuoteType.BidAsk, # or 'tick'\n",
    "            version = sj.constant.QuoteVersion.v1, # or 'v1'\n",
    "            intraday_odd=True\n",
    "        )"
   ]
  },
  {
   "cell_type": "code",
   "execution_count": 9,
   "metadata": {
    "ExecuteTime": {
     "end_time": "2022-10-25T07:03:36.148639Z",
     "start_time": "2022-10-25T03:21:18.089167Z"
    },
    "scrolled": true
   },
   "outputs": [
    {
     "name": "stdout",
     "output_type": "stream",
     "text": [
      "float division by zero\n",
      "float division by zero\n",
      "float division by zero\n",
      "float division by zero\n",
      "float division by zero\n",
      "float division by zero\n",
      "float division by zero\n",
      "float division by zero\n",
      "float division by zero\n",
      "float division by zero\n",
      "float division by zero\n",
      "float division by zero\n",
      "float division by zero\n",
      "float division by zero\n",
      "float division by zero\n",
      "float division by zero\n",
      "float division by zero\n",
      "float division by zero\n",
      "float division by zero\n",
      "float division by zero\n",
      "float division by zero\n",
      "float division by zero\n",
      "float division by zero\n",
      "float division by zero\n",
      "float division by zero\n",
      "float division by zero\n",
      "float division by zero\n",
      "float division by zero\n",
      "float division by zero\n",
      "float division by zero\n",
      "float division by zero\n",
      "float division by zero\n",
      "float division by zero\n",
      "float division by zero\n",
      "float division by zero\n",
      "float division by zero\n",
      "float division by zero\n",
      "float division by zero\n",
      "float division by zero\n",
      "float division by zero\n",
      "float division by zero\n",
      "float division by zero\n",
      "float division by zero\n",
      "float division by zero\n",
      "float division by zero\n",
      "float division by zero\n",
      "float division by zero\n",
      "float division by zero\n",
      "float division by zero\n",
      "float division by zero\n",
      "float division by zero\n",
      "float division by zero\n",
      "float division by zero\n",
      "float division by zero\n",
      "float division by zero\n",
      "float division by zero\n",
      "float division by zero\n",
      "float division by zero\n",
      "float division by zero\n",
      "float division by zero\n",
      "float division by zero\n",
      "float division by zero\n",
      "float division by zero\n",
      "float division by zero\n",
      "float division by zero\n",
      "float division by zero\n",
      "float division by zero\n",
      "float division by zero\n",
      "float division by zero\n",
      "float division by zero\n",
      "float division by zero\n",
      "float division by zero\n",
      "float division by zero\n",
      "float division by zero\n",
      "float division by zero\n",
      "float division by zero\n",
      "float division by zero\n",
      "float division by zero\n",
      "float division by zero\n",
      "float division by zero\n",
      "float division by zero\n",
      "float division by zero\n"
     ]
    }
   ],
   "source": [
    "while 1:\n",
    "    try:\n",
    "        sleep(1)\n",
    "    except:\n",
    "        break"
   ]
  },
  {
   "cell_type": "code",
   "execution_count": 10,
   "metadata": {
    "ExecuteTime": {
     "end_time": "2022-10-25T07:03:45.975924Z",
     "start_time": "2022-10-25T07:03:45.916921Z"
    },
    "code_folding": [],
    "scrolled": true
   },
   "outputs": [
    {
     "name": "stdout",
     "output_type": "stream",
     "text": [
      "Tradable Ticker : 2330\n",
      "Tradable Ticker : 2317\n",
      "Tradable Ticker : 2603\n",
      "Tradable Ticker : 2615\n",
      "Tradable Ticker : 2609\n",
      "Tradable Ticker : 2303\n",
      "Tradable Ticker : 0056\n",
      "Tradable Ticker : 0050\n",
      "Tradable Ticker : 3481\n",
      "Tradable Ticker : 1101\n",
      "Tradable Ticker : 2884\n",
      "Tradable Ticker : 006208\n",
      "Tradable Ticker : 2887\n",
      "Tradable Ticker : 2886Response Code: 200 | Event Code: 16 | Info: QUO/v1/STK/*/TSE/2330 | Event: Subscribe or Unsubscribe ok\n",
      "Response Code: 200 | Event Code: 16 | Info: QUO/v1/ODD/*/TSE/2330 | Event: Subscribe or Unsubscribe ok\n",
      "Response Code: 200 | Event Code: 16 | Info: QUO/v1/STK/*/TSE/2317 | Event: Subscribe or Unsubscribe ok\n",
      "Response Code: 200 | Event Code: 16 | Info: QUO/v1/ODD/*/TSE/2317 | Event: Subscribe or Unsubscribe ok\n",
      "Tradable Ticker : 2890\n",
      "Tradable Ticker : 2409\n",
      "Tradable Ticker : 2891\n",
      "Tradable Ticker : 2883\n",
      "Tradable Ticker : 2812\n",
      "Tradable Ticker : 5880\n",
      "Tradable Ticker : 2892\n",
      "Tradable Ticker : 2610\n",
      "\n",
      "Tradable Ticker : 2618\n",
      "Tradable Ticker : 2882\n",
      "Response Code: 200 | Event Code: 16 | Info: QUO/v1/STK/*/TSE/2603 | Event: Subscribe or Unsubscribe ok\n",
      "Response Code: 200 | Event Code: 16 | Info: QUO/v1/ODD/*/TSE/2603 | Event: Subscribe or Unsubscribe ok\n",
      "Response Code: 200 | Event Code: 16 | Info: QUO/v1/STK/*/TSE/2615 | Event: Subscribe or Unsubscribe ok\n",
      "Response Code: 200 | Event Code: 16 | Info: QUO/v1/ODD/*/TSE/2615 | Event: Subscribe or Unsubscribe ok\n",
      "Response Code: 200 | Event Code: 16 | Info: QUO/v1/STK/*/TSE/2609 | Event: Subscribe or Unsubscribe ok\n",
      "Response Code: 200 | Event Code: 16 | Info: QUO/v1/ODD/*/TSE/2609 | Event: Subscribe or Unsubscribe ok\n",
      "Response Code: 200 | Event Code: 16 | Info: QUO/v1/STK/*/TSE/2303 | Event: Subscribe or Unsubscribe ok\n",
      "Response Code: 200 | Event Code: 16 | Info: QUO/v1/ODD/*/TSE/2303 | Event: Subscribe or Unsubscribe ok\n",
      "Response Code: 200 | Event Code: 16 | Info: QUO/v1/STK/*/TSE/0056 | Event: Subscribe or Unsubscribe ok\n",
      "Response Code: 200 | Event Code: 16 | Info: QUO/v1/ODD/*/TSE/0056 | Event: Subscribe or Unsubscribe ok\n",
      "Response Code: 200 | Event Code: 16 | Info: QUO/v1/STK/*/TSE/0050 | Event: Subscribe or Unsubscribe ok\n",
      "Response Code: 200 | Event Code: 16 | Info: QUO/v1/ODD/*/TSE/0050 | Event: Subscribe or Unsubscribe ok\n",
      "Response Code: 200 | Event Code: 16 | Info: QUO/v1/STK/*/TSE/3481 | Event: Subscribe or Unsubscribe ok\n",
      "Response Code: 200 | Event Code: 16 | Info: QUO/v1/ODD/*/TSE/3481 | Event: Subscribe or Unsubscribe ok\n",
      "Response Code: 200 | Event Code: 16 | Info: QUO/v1/STK/*/TSE/1101 | Event: Subscribe or Unsubscribe ok\n"
     ]
    }
   ],
   "source": [
    "NotifyTickers = {}\n",
    "# for i in range(125):\n",
    "#     if i < len(open_thresholds.keys()):\n",
    "#         ticker = sorted(open_thresholds.keys())[i]\n",
    "for ticker in '2330,2317,2603,2615,2609,2303,0056,0050,3481,1101,2884,006208,2887,2886,2890,2409,2891,2883,2812,5880,2892,2610,2618,2882'.split(','):\n",
    "    tmp_contract = api.Contracts.Stocks[ticker]\n",
    "    if tmp_contract.day_trade != sj.constant.DayTrade.No:\n",
    "        print(\"Tradable Ticker : \" + ticker)\n",
    "        # tmp_contract = api1.Contracts.Futures[ticker]\n",
    "#             NotifyTickers[ticker] = NotifyTickers.get(ticker,\n",
    "#                                                       DataObject(tmp_contract, open_threshold=tmp_contract.reference, \n",
    "#                                                                 api=api, max_size = max_size_map[ticker], PreData=open_thresholds[ticker]))\n",
    "#             api.quote.subscribe(\n",
    "#                 tmp_contract, \n",
    "#                 quote_type = sj.constant.QuoteType.Tick, # or 'tick'\n",
    "#                 version = sj.constant.QuoteVersion.v1 # or 'v1'\n",
    "#             )\n",
    "        api.quote.unsubscribe(\n",
    "            tmp_contract, \n",
    "            quote_type = sj.constant.QuoteType.BidAsk, # or 'tick'\n",
    "            version = sj.constant.QuoteVersion.v1 # or 'v1'\n",
    "        )\n",
    "        api.quote.unsubscribe(\n",
    "            tmp_contract, \n",
    "            quote_type = sj.constant.QuoteType.BidAsk, # or 'tick'\n",
    "            version = sj.constant.QuoteVersion.v1, # or 'v1'\n",
    "            intraday_odd=True\n",
    "        )"
   ]
  },
  {
   "cell_type": "code",
   "execution_count": 11,
   "metadata": {
    "ExecuteTime": {
     "end_time": "2022-10-25T07:03:55.893873Z",
     "start_time": "2022-10-25T07:03:55.866754Z"
    }
   },
   "outputs": [],
   "source": [
    "td = datetime.today()\n",
    "# td = datetime(2022,10,21)\n",
    "output_path = os.path.join(parent, 'Output', \"整零套利\", td.strftime(\"%Y%m%d\"))\n",
    "if not os.path.isdir(output_path):\n",
    "    os.makedirs(output_path)"
   ]
  },
  {
   "cell_type": "code",
   "execution_count": 12,
   "metadata": {
    "ExecuteTime": {
     "end_time": "2022-10-25T07:04:10.831178Z",
     "start_time": "2022-10-25T07:04:05.747456Z"
    }
   },
   "outputs": [],
   "source": [
    "for ticker, tmp_data in spread.items():\n",
    "    tmp_df = DataFrame(tmp_data)\n",
    "    tmp_df.to_csv(os.path.join(output_path, f'{ticker}_spread.csv'), index=False, encoding='utf-8')"
   ]
  },
  {
   "cell_type": "code",
   "execution_count": 13,
   "metadata": {
    "ExecuteTime": {
     "end_time": "2022-10-25T07:04:20.551943Z",
     "start_time": "2022-10-25T07:04:20.538944Z"
    }
   },
   "outputs": [
    {
     "data": {
      "text/plain": [
       "dict_keys(['2884', '0056', '1101', '006208', '0050', '2890', '2883', '2409', '2317', '2892', '2886', '2303', '2330', '2609', '2615', '2891', '2610', '2603', '2887', '5880', '3481', '2618', '2812'])"
      ]
     },
     "execution_count": 13,
     "metadata": {},
     "output_type": "execute_result"
    }
   ],
   "source": [
    "spread.keys()"
   ]
  },
  {
   "cell_type": "code",
   "execution_count": 24,
   "metadata": {
    "ExecuteTime": {
     "end_time": "2022-10-25T07:13:26.486154Z",
     "start_time": "2022-10-25T07:13:26.411160Z"
    }
   },
   "outputs": [
    {
     "data": {
      "text/html": [
       "<div>\n",
       "<style scoped>\n",
       "    .dataframe tbody tr th:only-of-type {\n",
       "        vertical-align: middle;\n",
       "    }\n",
       "\n",
       "    .dataframe tbody tr th {\n",
       "        vertical-align: top;\n",
       "    }\n",
       "\n",
       "    .dataframe thead th {\n",
       "        text-align: right;\n",
       "    }\n",
       "</style>\n",
       "<table border=\"1\" class=\"dataframe\">\n",
       "  <thead>\n",
       "    <tr style=\"text-align: right;\">\n",
       "      <th></th>\n",
       "      <th>symbol</th>\n",
       "      <th>datetime</th>\n",
       "      <th>NaOb_r</th>\n",
       "      <th>NbOa_r</th>\n",
       "      <th>NaOb_s</th>\n",
       "      <th>NbOa_s</th>\n",
       "      <th>bid1</th>\n",
       "      <th>ask1</th>\n",
       "      <th>odd_bid1</th>\n",
       "      <th>odd_ask1</th>\n",
       "      <th>bidQty1</th>\n",
       "      <th>askQty1</th>\n",
       "      <th>odd_bidQty1</th>\n",
       "      <th>odd_askQty1</th>\n",
       "      <th>simulate</th>\n",
       "      <th>triggerbyOdd</th>\n",
       "    </tr>\n",
       "  </thead>\n",
       "  <tbody>\n",
       "    <tr>\n",
       "      <th>638</th>\n",
       "      <td>006208</td>\n",
       "      <td>2022-10-25 11:28:09.120442</td>\n",
       "      <td>-0.004464</td>\n",
       "      <td>0.002688</td>\n",
       "      <td>-0.25</td>\n",
       "      <td>0.15</td>\n",
       "      <td>55.95</td>\n",
       "      <td>56.0</td>\n",
       "      <td>55.75</td>\n",
       "      <td>55.8</td>\n",
       "      <td>4.0</td>\n",
       "      <td>45.0</td>\n",
       "      <td>15744.0</td>\n",
       "      <td>9558.0</td>\n",
       "      <td>False</td>\n",
       "      <td>True</td>\n",
       "    </tr>\n",
       "  </tbody>\n",
       "</table>\n",
       "</div>"
      ],
      "text/plain": [
       "     symbol                   datetime    NaOb_r    NbOa_r  NaOb_s  NbOa_s  \\\n",
       "638  006208 2022-10-25 11:28:09.120442 -0.004464  0.002688   -0.25    0.15   \n",
       "\n",
       "      bid1  ask1  odd_bid1  odd_ask1  bidQty1  askQty1  odd_bidQty1  \\\n",
       "638  55.95  56.0     55.75      55.8      4.0     45.0      15744.0   \n",
       "\n",
       "     odd_askQty1  simulate  triggerbyOdd  \n",
       "638       9558.0     False          True  "
      ]
     },
     "execution_count": 24,
     "metadata": {},
     "output_type": "execute_result"
    }
   ],
   "source": [
    "tmp_df = DataFrame(spread['006208'])\n",
    "\n",
    "tmp_df[((tmp_df.NaOb_r >= 0.0025) | (tmp_df.NbOa_r >= 0.0025)) & (tmp_df.simulate != True) & (tmp_df.triggerbyOdd)]"
   ]
  }
 ],
 "metadata": {
  "hide_input": false,
  "kernelspec": {
   "display_name": "Python 3",
   "language": "python",
   "name": "python3"
  },
  "language_info": {
   "codemirror_mode": {
    "name": "ipython",
    "version": 3
   },
   "file_extension": ".py",
   "mimetype": "text/x-python",
   "name": "python",
   "nbconvert_exporter": "python",
   "pygments_lexer": "ipython3",
   "version": "3.7.8"
  },
  "toc": {
   "base_numbering": 1,
   "nav_menu": {},
   "number_sections": true,
   "sideBar": true,
   "skip_h1_title": false,
   "title_cell": "Table of Contents",
   "title_sidebar": "Contents",
   "toc_cell": false,
   "toc_position": {},
   "toc_section_display": true,
   "toc_window_display": false
  },
  "varInspector": {
   "cols": {
    "lenName": 16,
    "lenType": 16,
    "lenVar": 40
   },
   "kernels_config": {
    "python": {
     "delete_cmd_postfix": "",
     "delete_cmd_prefix": "del ",
     "library": "var_list.py",
     "varRefreshCmd": "print(var_dic_list())"
    },
    "r": {
     "delete_cmd_postfix": ") ",
     "delete_cmd_prefix": "rm(",
     "library": "var_list.r",
     "varRefreshCmd": "cat(var_dic_list()) "
    }
   },
   "types_to_exclude": [
    "module",
    "function",
    "builtin_function_or_method",
    "instance",
    "_Feature"
   ],
   "window_display": false
  }
 },
 "nbformat": 4,
 "nbformat_minor": 4
}
