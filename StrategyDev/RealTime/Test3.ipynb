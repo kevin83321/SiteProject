{
 "cells": [
  {
   "cell_type": "code",
   "execution_count": 1,
   "metadata": {
    "ExecuteTime": {
     "end_time": "2021-11-24T23:23:55.454355Z",
     "start_time": "2021-11-24T23:23:54.516630Z"
    }
   },
   "outputs": [],
   "source": [
    "import shioaji as sj\n",
    "from pymongo import MongoClient\n",
    "from datetime import datetime, timedelta\n",
    "from pandas import DataFrame\n",
    "import numpy as np\n",
    "\n",
    "import warnings\n",
    "warnings.filterwarnings(\"ignore\")"
   ]
  },
  {
   "cell_type": "code",
   "execution_count": 2,
   "metadata": {
    "ExecuteTime": {
     "end_time": "2021-11-24T23:23:56.637360Z",
     "start_time": "2021-11-24T23:23:56.631356Z"
    }
   },
   "outputs": [],
   "source": [
    "def getFollowedAssets(followedAssets=None):\n",
    "    try:\n",
    "        if followedAssets is None:\n",
    "#             self.logger.info('GetAssets')\n",
    "            table = getTable(setting, schema,'StockList')\n",
    "            updateDate = sorted(table.distinct('UpdateDate'))[-1]\n",
    "            datas = list(table.find({'Industry':{'$ne':''}}))\n",
    "            return [x['Ticker'] for x in datas if x['UpdateDate'] == updateDate]\n",
    "            # with open(os.path.join(parent, 'FollowedAssets.txt'), 'r') as f:\n",
    "            #     lines = f.readlines()[-1]\n",
    "            #     return lines.split(',')[1:]\n",
    "    except Exception as e:\n",
    "        print(e)\n",
    "        pass\n",
    "#         self.sendError('getFollowedAssets')\n",
    "    else:\n",
    "        return followedAssets"
   ]
  },
  {
   "cell_type": "code",
   "execution_count": 3,
   "metadata": {
    "ExecuteTime": {
     "end_time": "2021-11-24T23:23:57.884995Z",
     "start_time": "2021-11-24T23:23:57.850476Z"
    }
   },
   "outputs": [],
   "source": [
    "def getTable(setting, schema, table_name):\n",
    "    try:\n",
    "        user = setting['user']\n",
    "        pwd = setting['pwd']\n",
    "        ip = setting['ip']\n",
    "        port = setting['port']\n",
    "        client = MongoClient(f'mongodb://{user}:{pwd}@{ip}:{port}')\n",
    "        schema = client['admin'][schema]\n",
    "        table = schema[table_name]\n",
    "    except:\n",
    "        self.sendError('getTable')\n",
    "    return table\n",
    "setting = {\n",
    "    'user':'kevin83321',\n",
    "    'pwd':'j7629864',\n",
    "    'ip':'192.168.2.173',\n",
    "    'port':'49153'\n",
    "}\n",
    "schema = 'TWSE'\n",
    "# if table_name is None:\n",
    "table_name = 'historicalPrice'\n",
    "table = getTable(setting, schema, table_name)"
   ]
  },
  {
   "cell_type": "code",
   "execution_count": 4,
   "metadata": {
    "ExecuteTime": {
     "end_time": "2021-11-24T23:25:03.628119Z",
     "start_time": "2021-11-24T23:23:58.856080Z"
    }
   },
   "outputs": [],
   "source": [
    "end_date = datetime.today()\n",
    "entry_threshold=.06\n",
    "v_threshold = 1000\n",
    "_followedAssets = []\n",
    "open_thresholds = {}\n",
    "# tickers = self.getFollowedAssets(followedAssets)\n",
    "\n",
    "# end_date = datetime(2021,4,27) #.today()\n",
    "tickers = getFollowedAssets()\n",
    "end_date -= timedelta(1)\n",
    "start_date = end_date + timedelta(-60)\n",
    "table = getTable(setting, schema, table_name)\n",
    "datas = list(table.find({'Ticker':{'$in':tickers}, 'Date':{'$gte':start_date.strftime(\"%Y-%m-%d\"), '$lte':end_date.strftime(\"%Y-%m-%d\")}}))\n",
    "# datas = readStockDataInter(tickers,start_date, end_date)\n",
    "Master_df = DataFrame(datas)\n",
    "del Master_df['_id']\n",
    "\n",
    "df_map = {}\n",
    "for ticker in tickers:\n",
    "    df_map[ticker] = Master_df[Master_df.Ticker==ticker]\n",
    "\n",
    "possible_strong = {}\n",
    "\n",
    "for k, df in df_map.items():\n",
    "    if df.empty: continue\n",
    "    if df.shape[0] < 20: continue\n",
    "    # print(df)\n",
    "    df['Close'] = df.Close.apply(lambda x: float('nan') if '-' in str(x) else x).fillna(method='ffill').astype(float)\n",
    "    df['High'] = df.High.apply(lambda x: float('nan') if '-' in str(x) else x).fillna(method='ffill').astype(float)\n",
    "    df['Open'] = df.Open.apply(lambda x: float('nan') if '-' in str(x) else x).fillna(method='ffill').astype(float)\n",
    "    df['Low'] = df.Low.apply(lambda x: float('nan') if '-' in str(x) else x).fillna(method='ffill').astype(float)\n",
    "    df['Volume'] = df.Volume.apply(lambda x: 0 if '-' in str(x) else x).fillna(method='ffill').astype(float)\n",
    "    df['MA5'] = df.Close.rolling(5).mean()\n",
    "    df['MA10'] = df.Close.rolling(10).mean()\n",
    "    df['MA20'] = df.Close.rolling(20).mean()\n",
    "    df['DI'] = (df.High+df.Low+2*df.Close) / 4\n",
    "    df['Amp'] = (df.High-df.Low) / df.Low\n",
    "    df['AmpStd'] = df.Amp.rolling(5).std()\n",
    "    df['DiStd'] = df['DI'].rolling(10).std()\n",
    "    df['VMA5'] = df.Volume.rolling(5).mean()\n",
    "    # df['MA5Slope'] = df['MA5'].pct_change()\n",
    "    # df['MA10Slope'] = df['MA10'].pct_change()\n",
    "    # df['MA20Slope'] = df['MA20'].pct_change()\n",
    "    MAStd = np.std([df.MA5.iloc[-1]-df.MA10.iloc[-1],df.MA5.iloc[-1]-df.MA20.iloc[-1], df.MA10.iloc[-1]-df.MA20.iloc[-1]])\n",
    "    open_threshold = max(df['Close'].iloc[-5], df['Close'].iloc[-10], df['Close'].iloc[-20])\n",
    "    if (open_threshold / df['Close'].iloc[-1]) < (1 + entry_threshold) and (df.VMA5.iloc[-1]) / 1000 >= v_threshold:\n",
    "#             if df['MA5Slope'].iloc[-1] >= 0.01:# and df['MA10Slope'].iloc[-1] >= 0 and df['MA20Slope'].iloc[-1] >= 0:\n",
    "        temp_ma5 = np.mean(df['Close'].iloc[-4:].tolist() + [open_threshold])\n",
    "        possible_strong[k] = (open_threshold, MAStd, df.DiStd.iloc[-1]/df['Close'].iloc[-1], df.AmpStd.iloc[-1])\n",
    "        _followedAssets.append(k)\n",
    "        open_thresholds[k] = open_threshold"
   ]
  },
  {
   "cell_type": "code",
   "execution_count": 5,
   "metadata": {
    "ExecuteTime": {
     "end_time": "2021-11-24T23:20:40.632383Z",
     "start_time": "2021-11-24T23:20:40.623382Z"
    }
   },
   "outputs": [
    {
     "data": {
      "text/plain": [
       "526"
      ]
     },
     "execution_count": 5,
     "metadata": {},
     "output_type": "execute_result"
    }
   ],
   "source": [
    "len(open_thresholds.keys())"
   ]
  },
  {
   "cell_type": "code",
   "execution_count": 5,
   "metadata": {
    "ExecuteTime": {
     "end_time": "2021-11-24T23:29:56.341241Z",
     "start_time": "2021-11-24T23:29:56.269241Z"
    }
   },
   "outputs": [],
   "source": [
    "api1 = sj.Shioaji()"
   ]
  },
  {
   "cell_type": "code",
   "execution_count": 6,
   "metadata": {
    "ExecuteTime": {
     "end_time": "2021-11-24T23:30:00.864906Z",
     "start_time": "2021-11-24T23:29:59.481101Z"
    }
   },
   "outputs": [
    {
     "name": "stdout",
     "output_type": "stream",
     "text": [
      "Response Code: 0 | Event Code: 0 | Info: host '203.66.91.161:80', hostname '203.66.91.161:80' IP 203.66.91.161:80 (host 1 of 1) (host connection attempt 1 of 1) (total connection attempt 1 of 1) | Event: Session up\n"
     ]
    },
    {
     "data": {
      "text/plain": [
       "[FutureAccount(person_id='F128497445', broker_id='F002000', account_id='1473661', signed=True, username='鄭圳宏'),\n",
       " Account(account_type=<AccountType.H: 'H'>, person_id='F128497445', broker_id='9A92', account_id='0011645', username='鄭圳宏'),\n",
       " StockAccount(person_id='F128497445', broker_id='9A92', account_id='0231901', signed=True, username='鄭圳宏\\u3000\\u3000')]"
      ]
     },
     "execution_count": 6,
     "metadata": {},
     "output_type": "execute_result"
    }
   ],
   "source": [
    "api1.login(\"F128497445\", \"j7629864\")"
   ]
  },
  {
   "cell_type": "code",
   "execution_count": 7,
   "metadata": {
    "ExecuteTime": {
     "end_time": "2021-11-24T23:30:03.764755Z",
     "start_time": "2021-11-24T23:30:03.710751Z"
    }
   },
   "outputs": [],
   "source": [
    "from shioaji import TickSTKv1, Exchange\n",
    "\n",
    "@api1.on_tick_stk_v1()\n",
    "def quote_callback1(exchange: Exchange, tick:TickSTKv1):\n",
    "    print(f\"from api 1, Exchange: {exchange}, Tick: {tick}\")\n",
    "\n",
    "api1.quote.set_on_tick_stk_v1_callback(quote_callback1)"
   ]
  },
  {
   "cell_type": "code",
   "execution_count": 8,
   "metadata": {
    "ExecuteTime": {
     "end_time": "2021-11-24T23:30:11.713449Z",
     "start_time": "2021-11-24T23:30:08.714208Z"
    }
   },
   "outputs": [
    {
     "name": "stdout",
     "output_type": "stream",
     "text": [
      "3049\n",
      "3050Response Code: 200 | Event Code: 16 | Info: TIC/v1/STK/*/TSE/3049 | Event: Subscribe or Unsubscribe ok\n",
      "\n",
      "Response Code: 200 | Event Code: 16 | Info: QUO/v1/STK/*/TSE/3049 | Event: Subscribe or Unsubscribe ok\n",
      "3051\n",
      "3058\n",
      "3059\n",
      "3060\n",
      "3062\n",
      "3078\n",
      "3094\n",
      "3105Response Code: 200 | Event Code: 16 | Info: TIC/v1/STK/*/TSE/3050 | Event: Subscribe or Unsubscribe ok\n",
      "\n",
      "3122Response Code: 200 | Event Code: 16 | Info: QUO/v1/STK/*/TSE/3050 | Event: Subscribe or Unsubscribe ok\n",
      "\n",
      "Response Code: 200 | Event Code: 16 | Info: TIC/v1/STK/*/TSE/3051 | Event: Subscribe or Unsubscribe ok3138\n",
      "\n",
      "3141\n",
      "3149\n",
      "3167\n",
      "3169\n",
      "Response Code: 200 | Event Code: 16 | Info: QUO/v1/STK/*/TSE/3051 | Event: Subscribe or Unsubscribe ok3189\n",
      "\n",
      "3202Response Code: 200 | Event Code: 16 | Info: TIC/v1/STK/*/TSE/3058 | Event: Subscribe or Unsubscribe ok\n",
      "3221\n",
      "3224\n",
      "3227\n",
      "3231\n",
      "3260\n",
      "3264\n",
      "\n",
      "3289\n",
      "3290\n",
      "3305\n",
      "3312\n",
      "3317\n",
      "3324\n",
      "3338Response Code: 200 | Event Code: 16 | Info: QUO/v1/STK/*/TSE/3058 | Event: Subscribe or Unsubscribe ok\n",
      "3339\n",
      "\n",
      "Response Code: 200 | Event Code: 16 | Info: TIC/v1/STK/*/TSE/3059 | Event: Subscribe or Unsubscribe ok\n",
      "Response Code: 200 | Event Code: 16 | Info: QUO/v1/STK/*/TSE/3059 | Event: Subscribe or Unsubscribe ok\n",
      "3346Response Code: 200 | Event Code: 16 | Info: TIC/v1/STK/*/TSE/3060 | Event: Subscribe or Unsubscribe ok\n",
      "Response Code: 200 | Event Code: 16 | Info: QUO/v1/STK/*/TSE/3060 | Event: Subscribe or Unsubscribe ok\n",
      "\n",
      "3362Response Code: 200 | Event Code: 16 | Info: TIC/v1/STK/*/TSE/3062 | Event: Subscribe or Unsubscribe ok\n",
      "3363\n",
      "\n",
      "Response Code: 200 | Event Code: 16 | Info: QUO/v1/STK/*/TSE/3062 | Event: Subscribe or Unsubscribe ok3374\n",
      "\n",
      "3380Response Code: 200 | Event Code: 16 | Info: TIC/v1/STK/*/OTC/3078 | Event: Subscribe or Unsubscribe ok\n",
      "\n",
      "Response Code: 200 | Event Code: 16 | Info: QUO/v1/STK/*/OTC/3078 | Event: Subscribe or Unsubscribe ok\n",
      "3390Response Code: 200 | Event Code: 16 | Info: TIC/v1/STK/*/TSE/3094 | Event: Subscribe or Unsubscribe ok\n",
      "Response Code: 200 | Event Code: 16 | Info: QUO/v1/STK/*/TSE/3094 | Event: Subscribe or Unsubscribe ok\n",
      "Response Code: 200 | Event Code: 16 | Info: TIC/v1/STK/*/OTC/3105 | Event: Subscribe or Unsubscribe ok\n",
      "\n",
      "3402\n",
      "3406\n",
      "3419\n",
      "3437\n",
      "3441\n",
      "3443\n",
      "3444\n",
      "3455\n",
      "3481\n",
      "3483\n",
      "3484Response Code: 200 | Event Code: 16 | Info: QUO/v1/STK/*/OTC/3105 | Event: Subscribe or Unsubscribe ok\n",
      "\n",
      "Response Code: 200 | Event Code: 16 | Info: TIC/v1/STK/*/OTC/3122 | Event: Subscribe or Unsubscribe ok3489\n",
      "Response Code: 200 | Event Code: 16 | Info: QUO/v1/STK/*/OTC/3122 | Event: Subscribe or Unsubscribe ok\n",
      "Response Code: 200 | Event Code: 16 | Info: TIC/v1/STK/*/TSE/3138 | Event: Subscribe or Unsubscribe ok\n",
      "Response Code: 200 | Event Code: 16 | Info: QUO/v1/STK/*/TSE/3138 | Event: Subscribe or Unsubscribe ok\n",
      "Response Code: 200 | Event Code: 16 | Info: TIC/v1/STK/*/OTC/3141 | Event: Subscribe or Unsubscribe ok\n",
      "\n",
      "3490Response Code: 200 | Event Code: 16 | Info: QUO/v1/STK/*/OTC/3141 | Event: Subscribe or Unsubscribe ok\n",
      "Response Code: 200 | Event Code: 16 | Info: TIC/v1/STK/*/TSE/3149 | Event: Subscribe or Unsubscribe ok\n",
      "\n",
      "3491\n",
      "3499\n",
      "3508\n",
      "3526\n",
      "3530\n",
      "3532Response Code: 200 | Event Code: 16 | Info: QUO/v1/STK/*/TSE/3149 | Event: Subscribe or Unsubscribe ok\n",
      "Response Code: 200 | Event Code: 16 | Info: TIC/v1/STK/*/TSE/3167 | Event: Subscribe or Unsubscribe ok\n",
      "3533\n",
      "3545\n",
      "3550\n",
      "3551\n",
      "3556\n",
      "3567\n",
      "3583\n",
      "3588\n",
      "3591\n",
      "3596\n",
      "3605\n",
      "\n",
      "3607\n",
      "3624\n",
      "3625\n",
      "3630\n",
      "3653\n",
      "3665\n",
      "3672\n",
      "3673Response Code: 200 | Event Code: 16 | Info: QUO/v1/STK/*/TSE/3167 | Event: Subscribe or Unsubscribe ok\n",
      "Response Code: 200 | Event Code: 16 | Info: TIC/v1/STK/*/OTC/3169 | Event: Subscribe or Unsubscribe ok\n",
      "Response Code: 200 | Event Code: 16 | Info: QUO/v1/STK/*/OTC/3169 | Event: Subscribe or Unsubscribe ok\n",
      "Response Code: 200 | Event Code: 16 | Info: TIC/v1/STK/*/TSE/3189 | Event: Subscribe or Unsubscribe ok\n",
      "\n",
      "3682\n",
      "3685\n",
      "3694\n",
      "3701\n",
      "3702\n",
      "3704Response Code: 200 | Event Code: 16 | Info: QUO/v1/STK/*/TSE/3189 | Event: Subscribe or Unsubscribe ok\n",
      "Response Code: 200 | Event Code: 16 | Info: TIC/v1/STK/*/OTC/3202 | Event: Subscribe or Unsubscribe ok\n",
      "\n",
      "Response Code: 200 | Event Code: 16 | Info: QUO/v1/STK/*/OTC/3202 | Event: Subscribe or Unsubscribe ok\n",
      "Response Code: 200 | Event Code: 16 | Info: TIC/v1/STK/*/OTC/3221 | Event: Subscribe or Unsubscribe ok3706\n",
      "\n",
      "3709Response Code: 200 | Event Code: 16 | Info: QUO/v1/STK/*/OTC/3221 | Event: Subscribe or Unsubscribe ok\n",
      "\n",
      "Response Code: 200 | Event Code: 16 | Info: TIC/v1/STK/*/OTC/3224 | Event: Subscribe or Unsubscribe ok\n",
      "3711\n",
      "3714Response Code: 200 | Event Code: 16 | Info: QUO/v1/STK/*/OTC/3224 | Event: Subscribe or Unsubscribe ok\n",
      "\n",
      "4108Response Code: 200 | Event Code: 16 | Info: TIC/v1/STK/*/OTC/3227 | Event: Subscribe or Unsubscribe ok\n",
      "\n",
      "4123\n",
      "4128\n",
      "4142\n",
      "4303\n",
      "4306\n",
      "4426\n",
      "4513\n",
      "4714\n",
      "4721\n",
      "Response Code: 200 | Event Code: 16 | Info: QUO/v1/STK/*/OTC/3227 | Event: Subscribe or Unsubscribe ok\n",
      "Response Code: 200 | Event Code: 16 | Info: TIC/v1/STK/*/TSE/3231 | Event: Subscribe or Unsubscribe ok\n",
      "4726Response Code: 200 | Event Code: 16 | Info: QUO/v1/STK/*/TSE/3231 | Event: Subscribe or Unsubscribe ok\n",
      "\n",
      "4739\n",
      "4743\n",
      "4746\n",
      "4755Response Code: 200 | Event Code: 16 | Info: TIC/v1/STK/*/OTC/3260 | Event: Subscribe or Unsubscribe ok\n",
      "4904\n",
      "\n",
      "4906\n",
      "4908Response Code: 200 | Event Code: 16 | Info: QUO/v1/STK/*/OTC/3260 | Event: Subscribe or Unsubscribe ok\n",
      "\n",
      "4916\n",
      "4919\n",
      "Response Code: 200 | Event Code: 16 | Info: TIC/v1/STK/*/OTC/3264 | Event: Subscribe or Unsubscribe ok\n",
      "Response Code: 200 | Event Code: 16 | Info: QUO/v1/STK/*/OTC/3264 | Event: Subscribe or Unsubscribe ok\n",
      "4927Response Code: 200 | Event Code: 16 | Info: TIC/v1/STK/*/OTC/3289 | Event: Subscribe or Unsubscribe ok\n",
      "\n",
      "4934\n",
      "4938\n",
      "4952\n",
      "4956\n",
      "4958\n",
      "4960\n",
      "Response Code: 200 | Event Code: 16 | Info: QUO/v1/STK/*/OTC/3289 | Event: Subscribe or Unsubscribe ok\n",
      "Response Code: 200 | Event Code: 16 | Info: TIC/v1/STK/*/OTC/3290 | Event: Subscribe or Unsubscribe ok4961\n",
      "Response Code: 200 | Event Code: 16 | Info: QUO/v1/STK/*/OTC/3290 | Event: Subscribe or Unsubscribe ok\n",
      "4967\n",
      "\n",
      "4976\n",
      "4979\n",
      "4989\n",
      "5009\n",
      "5011\n",
      "5014\n",
      "5222\n",
      "Response Code: 200 | Event Code: 16 | Info: TIC/v1/STK/*/TSE/3305 | Event: Subscribe or Unsubscribe ok5230\n",
      "\n",
      "5243\n",
      "5258Response Code: 200 | Event Code: 16 | Info: QUO/v1/STK/*/TSE/3305 | Event: Subscribe or Unsubscribe ok\n",
      "Response Code: 200 | Event Code: 16 | Info: TIC/v1/STK/*/TSE/3312 | Event: Subscribe or Unsubscribe ok\n",
      "\n",
      "Response Code: 200 | Event Code: 16 | Info: QUO/v1/STK/*/TSE/3312 | Event: Subscribe or Unsubscribe ok\n",
      "Response Code: 200 | Event Code: 16 | Info: TIC/v1/STK/*/OTC/3317 | Event: Subscribe or Unsubscribe ok\n",
      "Response Code: 200 | Event Code: 16 | Info: QUO/v1/STK/*/OTC/3317 | Event: Subscribe or Unsubscribe ok\n",
      "Response Code: 200 | Event Code: 16 | Info: TIC/v1/STK/*/OTC/3324 | Event: Subscribe or Unsubscribe ok\n",
      "Response Code: 200 | Event Code: 16 | Info: QUO/v1/STK/*/OTC/3324 | Event: Subscribe or Unsubscribe ok\n",
      "Response Code: 200 | Event Code: 16 | Info: TIC/v1/STK/*/TSE/3338 | Event: Subscribe or Unsubscribe ok\n",
      "Response Code: 200 | Event Code: 16 | Info: QUO/v1/STK/*/TSE/3338 | Event: Subscribe or Unsubscribe ok\n",
      "Response Code: 200 | Event Code: 16 | Info: TIC/v1/STK/*/OTC/3339 | Event: Subscribe or Unsubscribe ok\n",
      "Response Code: 200 | Event Code: 16 | Info: QUO/v1/STK/*/OTC/3339 | Event: Subscribe or Unsubscribe ok\n",
      "Response Code: 200 | Event Code: 16 | Info: TIC/v1/STK/*/TSE/3346 | Event: Subscribe or Unsubscribe ok\n",
      "Response Code: 200 | Event Code: 16 | Info: QUO/v1/STK/*/TSE/3346 | Event: Subscribe or Unsubscribe ok\n",
      "Response Code: 200 | Event Code: 16 | Info: TIC/v1/STK/*/OTC/3362 | Event: Subscribe or Unsubscribe ok\n",
      "Response Code: 200 | Event Code: 16 | Info: QUO/v1/STK/*/OTC/3362 | Event: Subscribe or Unsubscribe ok\n",
      "Response Code: 200 | Event Code: 16 | Info: TIC/v1/STK/*/OTC/3363 | Event: Subscribe or Unsubscribe ok\n",
      "Response Code: 200 | Event Code: 16 | Info: QUO/v1/STK/*/OTC/3363 | Event: Subscribe or Unsubscribe ok\n",
      "Response Code: 200 | Event Code: 16 | Info: TIC/v1/STK/*/OTC/3374 | Event: Subscribe or Unsubscribe ok\n",
      "Response Code: 200 | Event Code: 16 | Info: QUO/v1/STK/*/OTC/3374 | Event: Subscribe or Unsubscribe ok\n",
      "Response Code: 200 | Event Code: 16 | Info: TIC/v1/STK/*/TSE/3380 | Event: Subscribe or Unsubscribe ok\n",
      "Response Code: 200 | Event Code: 16 | Info: QUO/v1/STK/*/TSE/3380 | Event: Subscribe or Unsubscribe ok\n",
      "Response Code: 200 | Event Code: 16 | Info: TIC/v1/STK/*/OTC/3390 | Event: Subscribe or Unsubscribe ok\n",
      "Response Code: 200 | Event Code: 16 | Info: QUO/v1/STK/*/OTC/3390 | Event: Subscribe or Unsubscribe ok\n",
      "Response Code: 200 | Event Code: 16 | Info: TIC/v1/STK/*/OTC/3402 | Event: Subscribe or Unsubscribe ok\n",
      "Response Code: 200 | Event Code: 16 | Info: QUO/v1/STK/*/OTC/3402 | Event: Subscribe or Unsubscribe ok\n"
     ]
    },
    {
     "name": "stdout",
     "output_type": "stream",
     "text": [
      "Response Code: 200 | Event Code: 16 | Info: TIC/v1/STK/*/TSE/3406 | Event: Subscribe or Unsubscribe ok\n",
      "Response Code: 200 | Event Code: 16 | Info: QUO/v1/STK/*/TSE/3406 | Event: Subscribe or Unsubscribe ok\n",
      "Response Code: 200 | Event Code: 16 | Info: TIC/v1/STK/*/TSE/3419 | Event: Subscribe or Unsubscribe ok\n",
      "Response Code: 200 | Event Code: 16 | Info: QUO/v1/STK/*/TSE/3419 | Event: Subscribe or Unsubscribe ok\n",
      "Response Code: 200 | Event Code: 16 | Info: TIC/v1/STK/*/TSE/3437 | Event: Subscribe or Unsubscribe ok\n",
      "Response Code: 200 | Event Code: 16 | Info: QUO/v1/STK/*/TSE/3437 | Event: Subscribe or Unsubscribe ok\n",
      "Response Code: 200 | Event Code: 16 | Info: TIC/v1/STK/*/OTC/3441 | Event: Subscribe or Unsubscribe ok\n",
      "Response Code: 200 | Event Code: 16 | Info: QUO/v1/STK/*/OTC/3441 | Event: Subscribe or Unsubscribe ok\n",
      "Response Code: 200 | Event Code: 16 | Info: TIC/v1/STK/*/TSE/3443 | Event: Subscribe or Unsubscribe ok\n",
      "Response Code: 200 | Event Code: 16 | Info: QUO/v1/STK/*/TSE/3443 | Event: Subscribe or Unsubscribe ok"
     ]
    }
   ],
   "source": [
    "for i in range(250,375):\n",
    "    ticker = sorted(open_thresholds.keys())[i]\n",
    "    api1.quote.subscribe(\n",
    "        api1.Contracts.Stocks[ticker], \n",
    "        quote_type = sj.constant.QuoteType.Tick, # or 'tick'\n",
    "        version = sj.constant.QuoteVersion.v1 # or 'v1'\n",
    "    )\n",
    "    api1.quote.subscribe(\n",
    "        api1.Contracts.Stocks[ticker], \n",
    "        quote_type = sj.constant.QuoteType.BidAsk, # or 'tick'\n",
    "        version = sj.constant.QuoteVersion.v1 # or 'v1'\n",
    "    )"
   ]
  }
 ],
 "metadata": {
  "hide_input": false,
  "kernelspec": {
   "display_name": "Python 3",
   "language": "python",
   "name": "python3"
  },
  "language_info": {
   "codemirror_mode": {
    "name": "ipython",
    "version": 3
   },
   "file_extension": ".py",
   "mimetype": "text/x-python",
   "name": "python",
   "nbconvert_exporter": "python",
   "pygments_lexer": "ipython3",
   "version": "3.7.8"
  },
  "toc": {
   "base_numbering": 1,
   "nav_menu": {},
   "number_sections": true,
   "sideBar": true,
   "skip_h1_title": false,
   "title_cell": "Table of Contents",
   "title_sidebar": "Contents",
   "toc_cell": false,
   "toc_position": {},
   "toc_section_display": true,
   "toc_window_display": false
  },
  "varInspector": {
   "cols": {
    "lenName": 16,
    "lenType": 16,
    "lenVar": 40
   },
   "kernels_config": {
    "python": {
     "delete_cmd_postfix": "",
     "delete_cmd_prefix": "del ",
     "library": "var_list.py",
     "varRefreshCmd": "print(var_dic_list())"
    },
    "r": {
     "delete_cmd_postfix": ") ",
     "delete_cmd_prefix": "rm(",
     "library": "var_list.r",
     "varRefreshCmd": "cat(var_dic_list()) "
    }
   },
   "types_to_exclude": [
    "module",
    "function",
    "builtin_function_or_method",
    "instance",
    "_Feature"
   ],
   "window_display": false
  }
 },
 "nbformat": 4,
 "nbformat_minor": 4
}
