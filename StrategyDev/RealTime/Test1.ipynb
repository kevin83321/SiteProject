{
 "cells": [
  {
   "cell_type": "code",
   "execution_count": 1,
   "metadata": {
    "ExecuteTime": {
     "end_time": "2022-01-04T14:12:26.532964Z",
     "start_time": "2022-01-04T14:12:24.976967Z"
    }
   },
   "outputs": [],
   "source": [
    "import shioaji as sj\n",
    "from pymongo import MongoClient\n",
    "from datetime import datetime, timedelta\n",
    "from pandas import DataFrame\n",
    "import numpy as np\n",
    "from Messenger.LineMessenger import LineMessenger as Line\n",
    "from time import sleep\n",
    "\n",
    "import warnings\n",
    "warnings.filterwarnings(\"ignore\")\n",
    "\n",
    "from prettytable import PrettyTable\n",
    "import json\n",
    "import os \n",
    "parent = os.path.dirname(os.path.abspath(\"__file__\"))\n",
    "StrongPath = os.path.join(parent, 'StrongTickers')\n",
    "if not os.path.isdir(StrongPath):\n",
    "    os.makedirs(StrongPath)\n",
    "\n",
    "setting = {\n",
    "    'user':'kevin83321',\n",
    "    'pwd':'j7629864',\n",
    "    'ip':'192.168.2.173',\n",
    "    'port':'49153'\n",
    "}"
   ]
  },
  {
   "cell_type": "code",
   "execution_count": 2,
   "metadata": {
    "ExecuteTime": {
     "end_time": "2022-01-04T14:12:27.264131Z",
     "start_time": "2022-01-04T14:12:27.254128Z"
    },
    "code_folding": [
     14
    ]
   },
   "outputs": [],
   "source": [
    "def get_minimum_tick(cost):\n",
    "    if cost < 10:\n",
    "        return 0.01\n",
    "    elif cost < 50:\n",
    "        return 0.05\n",
    "    elif cost < 100:\n",
    "        return 0.1\n",
    "    elif cost < 500:\n",
    "        return 0.5\n",
    "    elif cost < 1000:\n",
    "        return 1\n",
    "    else:\n",
    "        return 5\n",
    "    \n",
    "def get_commission(price:float, multiplier:int=1000, qty=1, Real:bool=True, direction:str='', dayTrade:bool=False):\n",
    "    \"\"\"\n",
    "    計算個別部位的單邊交易成本\n",
    "\n",
    "    Params:\n",
    "        symbol : 商品代碼\n",
    "        exchange : 交易所\n",
    "        cost : 交易價格\n",
    "        multiplier : 價格還原現金之乘數\n",
    "            例如:\n",
    "                股票 : 1張 = 1,000股，10元的股票還原現金價值，即為10 *1,000 = 10,000元\n",
    "                期貨 : 台指期1點200元，假設現在10,000點，則一口台股的價值為 200 * 10,000 = 2,000,000\n",
    "        qty : 買賣口數或張數\n",
    "        Real : 是否為實單, default = False\n",
    "        direction : 交易方向 進場(買賣)或出場\n",
    "            P.S. 股票交易的交易稅是出場才計算\n",
    "    \"\"\"\n",
    "    tick = get_minimum_tick(price)\n",
    "    commission = price * (0.1425 / 100) * multiplier * qty\n",
    "    commission = 20 if commission < 20 else commission\n",
    "    fee = price * (0.3 / 100) * multiplier * qty\n",
    "    if dayTrade:\n",
    "        fee /= 2\n",
    "    slide = tick * multiplier\n",
    "    tradeCost = commission * 0.6\n",
    "    if direction == 'EXIT' or direction == 0:\n",
    "        tradeCost += fee\n",
    "    if not Real:\n",
    "        tradeCost += slide * qty\n",
    "    return tradeCost"
   ]
  },
  {
   "cell_type": "code",
   "execution_count": 3,
   "metadata": {
    "ExecuteTime": {
     "end_time": "2022-01-04T14:12:28.378039Z",
     "start_time": "2022-01-04T14:12:28.319041Z"
    },
    "code_folding": [
     63,
     73,
     280,
     303
    ]
   },
   "outputs": [],
   "source": [
    "class DataObject:\n",
    "    \n",
    "    opening = False\n",
    "    closing = False\n",
    "    \n",
    "    name:str=\"\"\n",
    "    pre_time:str=\"09:00:00\"\n",
    "    pre_volume:int = 0\n",
    "    pre_close:int = 0\n",
    "    total_v:int = 0\n",
    "    q20_data:dict = {}\n",
    "    q80_data:dict = {} \n",
    "    open_threshold:float = 0\n",
    "    _api = None\n",
    "    symbol:str = \"\"\n",
    "    refPrice:float = 0\n",
    "    entry_percent:float = .06\n",
    "    exit_percent:float = .09\n",
    "    sl_ratio:float = .03\n",
    "    v_threshold:float = .01\n",
    "    entry_threshold:float = 0\n",
    "    exit_threshold:float = 0\n",
    "    max_ret:float = 0\n",
    "    tmp_ret:float = 0\n",
    "    pos = 0\n",
    "    traded = 0\n",
    "    entry = 0\n",
    "    entry_time = 0\n",
    "    order = None\n",
    "    onOrderProcess = False\n",
    "\n",
    "    preHigh = None\n",
    "    preLow = None\n",
    "    sl_threshold = 0\n",
    "    \n",
    "    pnl:float = 0\n",
    "    \n",
    "    def __init__(self, contract, open_threshold:float, api=None, PreData:dict=None,\n",
    "                 v_threshold:float=.01, entry_percent:float=.06, exit_percent:float=.09, \n",
    "                 takeprofit:float=.6, start_moving_take = .015, sl_ratio:float=.02, max_size:float = 1):\n",
    "        self.contract = contract\n",
    "        self.open_threshold = open_threshold\n",
    "        self.entry_percent = entry_percent\n",
    "        self.exit_percent = exit_percent\n",
    "        self.takeprofit = takeprofit\n",
    "        self.start_moving_take = start_moving_take\n",
    "        self.sl_ratio = sl_ratio\n",
    "        self.v_threshold = v_threshold\n",
    "        self._initialByContract(contract)\n",
    "        self.max_size = max_size\n",
    "        self._api = api\n",
    "        self.first_5mink = {'open':None, 'high':0,'low':9999, 'close':0}\n",
    "        if PreData:\n",
    "            self.preHigh = PreData['PreHigh']\n",
    "            self.preLow = PreData['PreLow']\n",
    "        \n",
    "    def _initialByContract(self, contract):\n",
    "        self.symbol = contract.code\n",
    "        self.refPrice = contract.reference\n",
    "        self.entry_threshold = self.refPrice * (1 + self.entry_percent)\n",
    "        self.exit_threshold = self.refPrice * (1 + self.exit_percent)\n",
    "        self.name = contract.name\n",
    "        \n",
    "    def updateQ20Dict(self, data:dict={}):\n",
    "\n",
    "        if data is None:return\n",
    "        if data['simulate'] :return\n",
    "        if data['symbol'] != self.symbol: return\n",
    "        self.q20_data = data\n",
    "        self.q20_data['timeStr'] = self.q20_data['datetime'].strftime(\"%H:%M:%S\")\n",
    "        self.updateSignal()\n",
    "        self.updateStatus()\n",
    "    \n",
    "    def updateQ80Dict(self, data:dict):\n",
    "\n",
    "        if data['symbol'] != self.symbol: return\n",
    "        self.q80_data = data\n",
    "    \n",
    "    def updateOrderDeal(self, stat, data):\n",
    "        if stat == sj.constant.OrderState.TFTOrder:\n",
    "            if data['status']['cancel_quantity'] == data['order']['quantity']:\n",
    "                self.opening = self.closing = onOrderProcess = False\n",
    "                return\n",
    "            self.opening = self.pos\n",
    "            self.closing = not self.pos\n",
    "        elif type(data) == sj.constant.OrderState.TFTDeal:\n",
    "            self.pos += (1 if data['action'] == sj.constant.Action.Buy else -1) * data['quantity']\n",
    "            self.entry = data['price']\n",
    "            if self.pos:\n",
    "                self.sl_threshold = self.entry * (1 - self.sl_ratio)\n",
    "                self.entry_time = signal_time\n",
    "                self.opening = False\n",
    "            else:\n",
    "                exit = data['price']\n",
    "                signal_time = datetime.now().strftime(\"%Y-%m-%d %H:%M:%S.%f\")\n",
    "                print(f\"{self.symbol}, close : {close}, exit price : {exit}\")\n",
    "                tmp_pnl = (exit - self.entry) * 1000 * (1 if side == 'S' else -1)\n",
    "                tmp_pnl -= int(get_commission(self.entry if side == 'S' else exit)) # 進場成本\n",
    "                tmp_pnl -= int(get_commission(exit if side == 'S' else self.entry, direction='EXIT', dayTrade=True)) # 出場成本\n",
    "                tmp_ret = tmp_pnl / (self.entry * 1000) # - 1\n",
    "                self.pnl += tmp_pnl\n",
    "\n",
    "\n",
    "                cover_text = '\\n\\n---------------PnL Summary--------------\\n'\n",
    "                cover_text = f'時間 : {datetime.now().strftime(\"%Y-%m-%d %H:%M:%S.%f\")}\\n'\n",
    "                cover_text += f'Exit Position of {self.symbol}\\n'\n",
    "                cover_text += f'Entry : {self.entry} at {self.entry_time}\\n'\n",
    "                cover_text += f'Exit : {exit} at {signal_time}\\n'\n",
    "                cover_text += f'Total PnL with Cost : {round(tmp_pnl)}\\n'\n",
    "                cover_text += f'Total Ret with Cost : {round(tmp_ret * 100, 2)}%\\n'\n",
    "                cover_text += f'Total PnL with Cost of max size \"{self.max_size}\": {self.max_size * round(tmp_pnl)}\\n'\n",
    "                cover_text += f'Trade Value: {self.entry * 1000}\\n'\n",
    "                Line.sendMessage(cover_text)\n",
    "                print('\\n---------------PnL Summary--------------')\n",
    "                print(f'Exit Position of {self.contract.code}')\n",
    "                print(f'Entry : {self.entry} at {self.entry_time}')\n",
    "                print(f'Exit : {exit} at {signal_time}')\n",
    "                print(f'Total PnL with Cost : {tmp_pnl}')\n",
    "                print(f'Total Ret with Cost : {round(tmp_ret * 100, 2)}%')\n",
    "                print(f'Total PnL with Cost of max size {self.max_size}: {self.max_size * tmp_pnl}\\n')\n",
    "                self.traded=True\n",
    "                self.closing = False\n",
    "    \n",
    "    def updateStatus(self):\n",
    "        \"\"\"\n",
    "        Chech position profit loss\n",
    "        \"\"\"\n",
    "        if not self.pos: return\n",
    "        if self.traded: return\n",
    "        if self.closing or self.opening: \n",
    "#             try:\n",
    "#                 self._api.update_status()\n",
    "#                 if self.order is not None:\n",
    "#                     if self.order.status.status in [sj.constant.Status.PendingSubmit, sj.constant.Status.Submitted]:\n",
    "#                         self.opening = True\n",
    "#             except:\n",
    "#                 pass\n",
    "            return\n",
    "        close = self.q20_data['close']\n",
    "        tmp_pnl = (close - self.entry) * 1000 * self.pos\n",
    "        tmp_pnl -= int(get_commission(self.entry if self.pos > 0 else close)) # 進場成本\n",
    "        tmp_pnl -= int(get_commission(close if self.pos > 0 else self.entry, direction='EXIT', dayTrade=True)) # 出場成本\n",
    "        tmp_ret = tmp_pnl / (self.entry * 1000)\n",
    "        self.tmp_ret = ((close / self.entry) - 1) * self.pos\n",
    "        \n",
    "        if self.tmp_ret > self.max_ret:\n",
    "            self.sl_threshold = close * (1 - self.sl_ratio)\n",
    "        self.max_ret = max(self.max_ret, self.tmp_ret)\n",
    "        # print(self.symbol, self.tmp_ret, self.max_ret, close, self.pos)\n",
    "        \n",
    "        do_exit_take = self.tmp_ret >= .01\n",
    "#         if self.max_ret >= self.start_moving_take:\n",
    "#             do_exit_take = (self.tmp_ret / self.max_ret) <= (self.takeprofit) if self.max_ret else False\n",
    "        do_exit_stop = close <= self.sl_threshold\n",
    "        do_exit = close >= self.exit_threshold if self.pos > 0 else close <= (self.refPrice * (1 - self.exit_percent))\n",
    "        exit_end = self.q20_data['timeStr'] >= '13:20:00:000000'\n",
    "        if any([do_exit, do_exit_take, do_exit_stop, exit_end]):\n",
    "            self.closing=True\n",
    "            self.DoTrade('S' if self.pos > 0 else 'B')\n",
    "            self.sendNotifyExit(self.q20_data['datetime'].strftime(\"%H:%M:%S.%f\"), self.symbol, self.name,\n",
    "                             close, self.q20_data['pct_chg'], do_exit_take or do_exit)\n",
    "    \n",
    "    def updateSignal(self):\n",
    "        # print(\"updateSignal\")\n",
    "        if not self.q20_data : return\n",
    "        if self.order: return\n",
    "        if self.pos: return\n",
    "        if self.traded: return\n",
    "        totalV = self.q20_data['totalQty']\n",
    "        close = self.q20_data['close']\n",
    "        volume = self.q20_data['qty']\n",
    "        if self.q20_data['timeStr'] != self.pre_time:\n",
    "            self.total_v = volume\n",
    "            self.pre_time = self.q20_data['timeStr']\n",
    "            self.pre_volume = totalV\n",
    "        else:\n",
    "            self.total_v += volume\n",
    "        if not self.pre_close: \n",
    "            self.pre_close = close\n",
    "            if self.first_5mink['open'] is None:\n",
    "                self.first_5mink['open'] = close\n",
    "            self.first_5mink['high'] = max(self.first_5mink['high'], close)\n",
    "            self.first_5mink['low'] = min(self.first_5mink['low'], close)\n",
    "            self.first_5mink['close'] = close\n",
    "            self.pre_volume = totalV\n",
    "            # print(self.symbol, self.first_5mink)\n",
    "            return\n",
    "        \n",
    "        # print(self.symbol, self.first_5mink, close)\n",
    "#         v_ratio = self.total_v / self.pre_volume\n",
    "        self.pre_volume = totalV\n",
    "        if self.q20_data['timeStr'] < '09:05:00:000000':\n",
    "            self.first_5mink['high'] = max(self.first_5mink['high'], close)\n",
    "            self.first_5mink['low'] = min(self.first_5mink['low'], close)\n",
    "            self.first_5mink['close'] = close\n",
    "        \n",
    "        else: \n",
    "            if self.q20_data['timeStr'] >= '13:00:00:000000': return\n",
    "            if all([not self.closing, not self.opening]):\n",
    "                sig = 0\n",
    "                if close >= max(self.first_5mink['open'], self.first_5mink['close'], self.preHigh if self.preHigh else 0) * 1.005 and close <= self.entry_threshold:\n",
    "                    sig = 1\n",
    "#                 elif close <= min(self.first_5mink['low'], self.preLow if self.preLow else 9999) * .99:\n",
    "#                     sig = -1\n",
    "                if sig and not self.opening:\n",
    "                    self.opening = True\n",
    "                    self.DoTrade('B' if sig > 0 else 'S')\n",
    "                    self.sendNotify(self.q20_data['datetime'].strftime(\"%H:%M:%S.%f\"), self.symbol, self.name,\n",
    "                                 close, self.q20_data['pct_chg'], 'B' if sig > 0 else 'S')\n",
    "            \n",
    "                \n",
    "        self.pre_close = close\n",
    "        \n",
    "        \n",
    "    def DoTrade(self, side):\n",
    "        close = self.q20_data['close']\n",
    "        #=========\n",
    "        # RealTime\n",
    "        #=========\n",
    "#         if not self._api:return\n",
    "#         order_price = self.q80_data['ask1'] if side == 'B' else self.q80_data['bid1']\n",
    "#         print(f\"{self.symbol}, close : {close}, entry price : {order_price}\")\n",
    "#         if abs(order_price / close - 1) >= .005:\n",
    "#             order_price = close\n",
    "#         order = self._api.Order(\n",
    "#             price=order_price,\n",
    "#             quantity=1,\n",
    "#             action=sj.constant.Action.Buy if side == 'B' else sj.constant.Action.Sell,\n",
    "#             price_type=sj.constant.StockPriceType.LMT,\n",
    "#             order_type=sj.constant.TFTOrderType.ROD,\n",
    "#             first_sell=sj.constant.StockFirstSell.Yes,# if side == 'S' else sj.constant.StockFirstSell.No,\n",
    "#         )\n",
    "#         self.order = self._api.place_order(self.contract, order)\n",
    "#         if self.order.status.status in [sj.constant.Status.PendingSubmit, sj.constant.Status.Submitted]:\n",
    "#             self.opening = True\n",
    "        \n",
    "        #=========\n",
    "        # Simulate\n",
    "        #=========\n",
    "        if not any([self.opening, self.closing]):return\n",
    "        if abs(self.pos) > 1: return\n",
    "        self.pos += 1 if side == 'B' else -1\n",
    "        signal_time = self.q20_data[\"datetime\"].strftime(\"%H:%M:%S.%f\")\n",
    "        if self.pos == 0:\n",
    "            self.traded = True\n",
    "            exit = self.q80_data['ask1'] if side == 'B' else self.q80_data['bid1']\n",
    "            print(f\"{self.symbol}, close : {close}, exit price : {exit}\")\n",
    "            if abs(exit / close - 1) >= .005:\n",
    "                exit = close\n",
    "            tmp_pnl = (exit - self.entry) * 1000 * (1 if side == 'S' else -1)\n",
    "            tmp_pnl -= int(get_commission(self.entry if side == 'S' else exit)) # 進場成本\n",
    "            tmp_pnl -= int(get_commission(exit if side == 'S' else self.entry, direction='EXIT', dayTrade=True)) # 出場成本\n",
    "            tmp_ret = tmp_pnl / (self.entry * 1000) # - 1\n",
    "            self.pnl += tmp_pnl\n",
    "            \n",
    "            \n",
    "            cover_text = '\\n\\n---------------PnL Summary--------------\\n'\n",
    "            cover_text = f'時間 : {datetime.now().strftime(\"%Y-%m-%d %H:%M:%S.%f\")}\\n'\n",
    "            cover_text += f'Exit Position of {self.symbol}\\n'\n",
    "            cover_text += f'Entry : {self.entry} at {self.entry_time}\\n'\n",
    "            cover_text += f'Exit : {exit} at {signal_time}\\n'\n",
    "            cover_text += f'Total PnL with Cost : {round(tmp_pnl)}\\n'\n",
    "            cover_text += f'Total Ret with Cost : {round(tmp_ret * 100, 2)}%\\n'\n",
    "            cover_text += f'Total PnL with Cost of max size \"{self.max_size}\": {self.max_size * round(tmp_pnl)}\\n'\n",
    "            cover_text += f'Trade Value: {self.entry * 1000}\\n'\n",
    "            Line.sendMessage(cover_text)\n",
    "            print('\\n---------------PnL Summary--------------')\n",
    "            print(f'Exit Position of {self.contract.code}')\n",
    "            print(f'Entry : {self.entry} at {self.entry_time}')\n",
    "            print(f'Exit : {exit} at {signal_time}')\n",
    "            print(f'Total PnL with Cost : {tmp_pnl}')\n",
    "            print(f'Total Ret with Cost : {round(tmp_ret * 100, 2)}%')\n",
    "            print(f'Total PnL with Cost of max size {self.max_size}: {self.max_size * tmp_pnl}\\n')\n",
    "            \n",
    "            self.entry = 0\n",
    "            self.closing = False\n",
    "            return\n",
    "        self.entry = self.q80_data['ask1'] if side == 'B' else self.q80_data['bid1']\n",
    "        print(f\"{self.symbol}, close : {close}, entry price : {self.entry}\")\n",
    "        if abs(self.entry / close - 1) >= .005:\n",
    "            self.entry = close\n",
    "        self.sl_threshold = self.entry * (1 - self.sl_ratio)\n",
    "        self.entry_time = signal_time\n",
    "        self.opening = False\n",
    "    \n",
    "    def sendNotify(self, dateStr, idx, name, \n",
    "                   close, Ret, Side=\"B\"):#, TVRatio, EVRatio):\n",
    "        try:\n",
    "            text = f'時間 : {dateStr}\\n'\n",
    "            text += f'股票代號/名稱 : {idx}/{name}\\n'\n",
    "            if Side == \"B\":\n",
    "                text += f'觸發條件 : 突破第一個5分K高點\\n'\n",
    "                text += f'進場方向 : 做多\\n'\n",
    "            else:\n",
    "                text += f'觸發條件 : 突破第一個5分K低點\\n'\n",
    "                text += f'進場方向 : 做空\\n'\n",
    "            text += f'成交價 : {close}\\n'\n",
    "            \n",
    "            \n",
    "            # 漲跌幅量\n",
    "            text += f'漲跌幅 : {Ret} %\\n'\n",
    "            # text += f'量比(總/估) {TVRatio}/{EVRatio}\\n'\n",
    "            # text += '其他提醒 : \\n'\n",
    "            \n",
    "            Line.sendMessage(text)\n",
    "        except Exception as e:\n",
    "            print(e)\n",
    "\n",
    "    def sendNotifyExit(self, dateStr, idx, name, \n",
    "                   close, Ret, takeprofit=False):\n",
    "        try:\n",
    "            text = f'時間 : {dateStr}\\n'\n",
    "            text += f'股票代號/名稱 : {idx}/{name}\\n'\n",
    "            text += f'觸發出場條件 : 若有持倉，已經達到({\"停利\" if takeprofit else \"停損\"})條件囉\\n'\n",
    "            text += f'成交價 : {close}\\n'\n",
    "            \n",
    "            # 漲跌幅量\n",
    "            text += f'漲跌幅 : {Ret} %\\n'\n",
    "            # text += f'量比(總/估) {TVRatio}/{EVRatio}\\n'\n",
    "            # text += '其他提醒 : \\n'\n",
    "            \n",
    "            Line.sendMessage(text)\n",
    "        except Exception as e:\n",
    "            print('send Exit, Error : ' + e)"
   ]
  },
  {
   "cell_type": "code",
   "execution_count": 4,
   "metadata": {
    "ExecuteTime": {
     "end_time": "2022-01-04T14:12:29.283077Z",
     "start_time": "2022-01-04T14:12:29.270060Z"
    },
    "code_folding": [
     0,
     13
    ]
   },
   "outputs": [],
   "source": [
    "def getFollowedAssets(followedAssets=None):\n",
    "    try:\n",
    "        if followedAssets is None:\n",
    "            table = getTable(setting, schema,'StockList')\n",
    "            updateDate = sorted(table.distinct('UpdateDate'))[-1]\n",
    "            datas = list(table.find({'Industry':{'$ne':''}}))\n",
    "            return [x['Ticker'] for x in datas if x['UpdateDate'] == updateDate]\n",
    "    except Exception as e:\n",
    "        print(e)\n",
    "        pass\n",
    "    else:\n",
    "        return followedAssets\n",
    "\n",
    "def getTable(setting, schema, table_name):\n",
    "    try:\n",
    "        user = setting['user']\n",
    "        pwd = setting['pwd']\n",
    "        ip = setting['ip']\n",
    "        port = setting['port']\n",
    "        client = MongoClient(f'mongodb://{user}:{pwd}@{ip}:{port}')\n",
    "        schema = client['admin'][schema]\n",
    "        table = schema[table_name]\n",
    "    except:\n",
    "        self.sendError('getTable')\n",
    "    return table\n",
    "\n",
    "schema = 'TWSE'\n",
    "# if table_name is None:\n",
    "table_name = 'historicalPrice'\n",
    "table = getTable(setting, schema, table_name)"
   ]
  },
  {
   "cell_type": "code",
   "execution_count": 5,
   "metadata": {
    "ExecuteTime": {
     "end_time": "2022-01-04T14:12:29.986076Z",
     "start_time": "2022-01-04T14:12:29.961078Z"
    },
    "code_folding": [
     12
    ]
   },
   "outputs": [],
   "source": [
    "def readStrongTicker(dtStr):\n",
    "    if os.path.isfile(os.path.join(StrongPath, f'{dtStr}_strongTicker.json')):\n",
    "        with open(os.path.join(StrongPath, f'{dtStr}_strongTicker.json'), 'r') as f:\n",
    "            tickers = json.load(f)\n",
    "            return tickers\n",
    "    else:\n",
    "        return {}\n",
    "\n",
    "def writeTradableTicker(dtStr, tickers):\n",
    "    with open(os.path.join(StrongPath, f'{dtStr}_tradableTicker.json'), 'w') as f:\n",
    "        json.dump(tickers,f)\n",
    "        \n",
    "def createTradableTable(open_thresholds:dict, max_size_map:dict):\n",
    "    \n",
    "    try:\n",
    "        tickers = []\n",
    "        max_pos_list = []\n",
    "        close_list = []\n",
    "        for ticker in open_thresholds.keys():\n",
    "            tickers.append(ticker)\n",
    "            close_list.append(open_thresholds[ticker]['PreClose'])\n",
    "            max_pos_list.append(max_size_map[ticker])\n",
    "        table = PrettyTable()\n",
    "        table.add_column('代號', tickers)\n",
    "        table.add_column(\"昨收\", close_list)\n",
    "        table.add_column(\"最大倉位\", max_pos_list)\n",
    "        table.align = 'r'\n",
    "    except Exception as e:\n",
    "        print(e)\n",
    "    else:\n",
    "        return table\n",
    "        \n",
    "def getStrongTickers(tradeDate = datetime.today(), entry_threshold=.06, v_threshold = 1000):\n",
    "\n",
    "    open_thresholds = readStrongTicker(tradeDate.strftime(\"%Y-%m-%d\"))\n",
    "#     print(open_thresholds)\n",
    "#     return\n",
    "    if not open_thresholds:\n",
    "#         _followedAssets = []\n",
    "#         open_thresholds = {}\n",
    "        # tickers = self.getFollowedAssets(followedAssets)\n",
    "\n",
    "        # end_date = datetime(2021,4,27) #.today()\n",
    "        tickers = getFollowedAssets()\n",
    "        end_date = tradeDate - timedelta(1)\n",
    "        start_date = end_date + timedelta(-60)\n",
    "        table = getTable(setting, schema, table_name)\n",
    "        datas = list(table.find({'Ticker':{'$in':tickers}, 'Date':{'$gte':start_date.strftime(\"%Y-%m-%d\"), '$lte':end_date.strftime(\"%Y-%m-%d\")}}))\n",
    "        # datas = readStockDataInter(tickers,start_date, end_date)\n",
    "        Master_df = DataFrame(datas)\n",
    "        del Master_df['_id']\n",
    "\n",
    "        df_map = {}\n",
    "        for ticker in tickers:\n",
    "            df_map[ticker] = Master_df[Master_df.Ticker==ticker]\n",
    "\n",
    "        possible_strong = {}\n",
    "\n",
    "        for k, df in df_map.items():\n",
    "            if df.empty: continue\n",
    "            if df.shape[0] < 20: continue\n",
    "            # print(df)\n",
    "            df['Close'] = df.Close.apply(lambda x: float('nan') if '-' in str(x) else x).fillna(method='ffill').astype(float)\n",
    "            df['High'] = df.High.apply(lambda x: float('nan') if '-' in str(x) else x).fillna(method='ffill').astype(float)\n",
    "            df['Open'] = df.Open.apply(lambda x: float('nan') if '-' in str(x) else x).fillna(method='ffill').astype(float)\n",
    "            df['Low'] = df.Low.apply(lambda x: float('nan') if '-' in str(x) else x).fillna(method='ffill').astype(float)\n",
    "            df['Volume'] = df.Volume.apply(lambda x: 0 if '-' in str(x) else x).fillna(method='ffill').astype(float)\n",
    "            df['MA5'] = df.Close.rolling(5).mean()\n",
    "            df['MA10'] = df.Close.rolling(10).mean()\n",
    "            df['MA20'] = df.Close.rolling(20).mean()\n",
    "            df['DI'] = (df.High+df.Low+2*df.Close) / 4\n",
    "            df['Amp'] = (df.High-df.Low) / df.Low\n",
    "            df['AmpStd'] = df.Amp.rolling(5).std()\n",
    "            df['DiStd'] = df['DI'].rolling(10).std()\n",
    "            df['VMA5'] = df.Volume.rolling(5).mean()\n",
    "            # df['MA5Slope'] = df['MA5'].pct_change()\n",
    "            # df['MA10Slope'] = df['MA10'].pct_change()\n",
    "            # df['MA20Slope'] = df['MA20'].pct_change()\n",
    "            MAStd = np.std([df.MA5.iloc[-1]-df.MA10.iloc[-1],df.MA5.iloc[-1]-df.MA20.iloc[-1], df.MA10.iloc[-1]-df.MA20.iloc[-1]])\n",
    "            open_threshold = max(df['Close'].iloc[-5], df['Close'].iloc[-10], df['Close'].iloc[-20])\n",
    "            ret_5day = df['Close'].iloc[-1] / df['Close'].iloc[-6] - 1\n",
    "            if df.VMA5.iloc[-1] / 1000 >= v_threshold and ret_5day >= .15:\n",
    "#             if (open_threshold / df['Close'].iloc[-1]) < (1 + entry_threshold) and (df.VMA5.iloc[-1]) / 1000 >= v_threshold:\n",
    "#         #             if df['MA5Slope'].iloc[-1] >= 0.01:# and df['MA10Slope'].iloc[-1] >= 0 and df['MA20Slope'].iloc[-1] >= 0:\n",
    "#                 temp_ma5 = np.mean(df['Close'].iloc[-4:].tolist() + [open_threshold])\n",
    "#                 possible_strong[k] = (open_threshold, MAStd, df.DiStd.iloc[-1]/df['Close'].iloc[-1], df.AmpStd.iloc[-1])\n",
    "#                 _followedAssets.append(k)\n",
    "                if df['Close'].iloc[-1] <= 100 and df['Close'].iloc[-1] >= 50:\n",
    "                    open_thresholds[k] = open_threshold\n",
    "        writeStrongTicker(tradeDate.strftime(\"%Y-%m-%d\"), open_thresholds)\n",
    "    return open_thresholds"
   ]
  },
  {
   "cell_type": "code",
   "execution_count": 6,
   "metadata": {
    "ExecuteTime": {
     "end_time": "2022-01-04T14:12:31.700062Z",
     "start_time": "2022-01-04T14:12:31.695057Z"
    },
    "scrolled": true
   },
   "outputs": [],
   "source": [
    "trade_dt = datetime.today() #datetime(2021,12,30)#\n",
    "trade_dtStr = trade_dt.strftime(\"%Y-%m-%d\")\n",
    "open_thresholds = readStrongTicker(trade_dtStr)\n",
    "\n",
    "# open_thresholds"
   ]
  },
  {
   "cell_type": "code",
   "execution_count": 7,
   "metadata": {
    "ExecuteTime": {
     "end_time": "2022-01-04T14:12:33.059088Z",
     "start_time": "2022-01-04T14:12:33.050087Z"
    }
   },
   "outputs": [
    {
     "data": {
      "text/plain": [
       "'2022-01-04'"
      ]
     },
     "execution_count": 7,
     "metadata": {},
     "output_type": "execute_result"
    }
   ],
   "source": [
    "trade_dtStr"
   ]
  },
  {
   "cell_type": "code",
   "execution_count": 8,
   "metadata": {
    "ExecuteTime": {
     "end_time": "2022-01-04T14:12:34.580174Z",
     "start_time": "2022-01-04T14:12:34.489183Z"
    }
   },
   "outputs": [],
   "source": [
    "api = sj.Shioaji()"
   ]
  },
  {
   "cell_type": "code",
   "execution_count": 9,
   "metadata": {
    "ExecuteTime": {
     "end_time": "2022-01-04T14:12:37.098846Z",
     "start_time": "2022-01-04T14:12:35.166180Z"
    }
   },
   "outputs": [
    {
     "name": "stdout",
     "output_type": "stream",
     "text": [
      "Response Code: 0 | Event Code: 0 | Info: host '203.66.91.161:80', hostname '203.66.91.161:80' IP 203.66.91.161:80 (host 1 of 1) (host connection attempt 1 of 1) (total connection attempt 1 of 1) | Event: Session up\n"
     ]
    },
    {
     "data": {
      "text/plain": [
       "[FutureAccount(person_id='F128497445', broker_id='F002000', account_id='1473661', signed=True, username='鄭圳宏'),\n",
       " Account(account_type=<AccountType.H: 'H'>, person_id='F128497445', broker_id='9A92', account_id='0011645', username='鄭圳宏'),\n",
       " StockAccount(person_id='F128497445', broker_id='9A92', account_id='0231901', signed=True, username='鄭圳宏\\u3000\\u3000')]"
      ]
     },
     "execution_count": 9,
     "metadata": {},
     "output_type": "execute_result"
    }
   ],
   "source": [
    "api.login(\"F128497445\", \"j7629864\")"
   ]
  },
  {
   "cell_type": "code",
   "execution_count": 10,
   "metadata": {
    "ExecuteTime": {
     "end_time": "2022-01-04T14:12:38.163279Z",
     "start_time": "2022-01-04T14:12:38.000287Z"
    },
    "code_folding": [
     6
    ]
   },
   "outputs": [],
   "source": [
    "from shioaji import TickSTKv1, Exchange, BidAskSTKv1, TickFOPv1, BidAskFOPv1\n",
    "\n",
    "# @api1.on_tick_stk_v1()\n",
    "# @api1.on_bidask_stk_v1()\n",
    "# @api1.on_bidask_fop_v1()\n",
    "# @api1.on_tick_fop_v1()\n",
    "def quote_callback(exchange:Exchange, tick:[TickSTKv1, BidAskSTKv1, TickFOPv1, BidAskFOPv1]):\n",
    "    try:\n",
    "        NotifyTickers[tick.code] = NotifyTickers.get(tick.code,\n",
    "                                                DataObject(tmp_contract, open_threshold=tmp_contract.reference, \n",
    "                                                api=api, max_size = max_size_map[tick.code], PreData=open_thresholds[tick.code]))\n",
    "        if type(tick) in [TickSTKv1, TickFOPv1]:\n",
    "            NotifyTickers[tick.code].updateQ20Dict(dict(\n",
    "                symbol=tick.code,\n",
    "                datetime=tick.datetime,\n",
    "                open=float(tick.open),\n",
    "                high=float(tick.high),\n",
    "                low=float(tick.low),\n",
    "                close=float(tick.close),\n",
    "                avg_price=float(tick.avg_price),\n",
    "                qty=int(tick.volume),\n",
    "                totalQty=int(tick.total_volume),\n",
    "                pct_chg=float(tick.pct_chg),\n",
    "                simulate=bool(tick.simtrade),\n",
    "            ))\n",
    "#             print(f\"Exchange : {exchange}, Tick:{NotifyTickers[ticker].q20_data}\\n\")\n",
    "        if type(tick) in [BidAskSTKv1, BidAskFOPv1]:\n",
    "            NotifyTickers[tick.code].updateQ80Dict(dict(\n",
    "                symbol = tick.code,\n",
    "                datetime = tick.datetime,\n",
    "                bid1 = float(tick.bid_price[0]),\n",
    "                bid2 = float(tick.bid_price[1]),\n",
    "                bid3 = float(tick.bid_price[2]),\n",
    "                bid4 = float(tick.bid_price[3]),\n",
    "                bid5 = float(tick.bid_price[4]),\n",
    "                bidQty1 = float(tick.bid_volume[0]),\n",
    "                bidQty2 = float(tick.bid_volume[1]),\n",
    "                bidQty3 = float(tick.bid_volume[2]),\n",
    "                bidQty4 = float(tick.bid_volume[3]),\n",
    "                bidQty5 = float(tick.bid_volume[4]),\n",
    "                askQty1 = float(tick.ask_volume[0]),\n",
    "                askQty2 = float(tick.ask_volume[1]),\n",
    "                askQty3 = float(tick.ask_volume[2]),\n",
    "                askQty4 = float(tick.ask_volume[3]),\n",
    "                askQty5 = float(tick.ask_volume[4]),\n",
    "                ask1 = float(tick.ask_price[0]),\n",
    "                ask2 = float(tick.ask_price[1]),\n",
    "                ask3 = float(tick.ask_price[2]),\n",
    "                ask4 = float(tick.ask_price[3]),\n",
    "                ask5 = float(tick.ask_price[4]),\n",
    "            ))\n",
    "#             print(f\"Exchange : {exchange}, BidAsk : {NotifyTickers[ticker].q80_data}\\n\")\n",
    "    except Exception as e:\n",
    "        print(e)\n",
    "    \n",
    "api.quote.set_on_tick_stk_v1_callback(quote_callback)\n",
    "api.quote.set_on_bidask_stk_v1_callback(quote_callback)\n",
    "api.quote.set_on_bidask_fop_v1_callback(quote_callback)\n",
    "api.quote.set_on_tick_fop_v1_callback(quote_callback)\n",
    "\n",
    "def place_cb(stat, msg):\n",
    "#     NotifyTickers[msg['code']].updateOrderDeal(stat, msg)\n",
    "    print(f\"Order Status : {stat}, Order Data : {msg}\")\n",
    "    \n",
    "api.set_order_callback(place_cb)"
   ]
  },
  {
   "cell_type": "code",
   "execution_count": 11,
   "metadata": {
    "ExecuteTime": {
     "end_time": "2022-01-04T14:12:46.210852Z",
     "start_time": "2022-01-04T14:12:39.246299Z"
    },
    "scrolled": true
   },
   "outputs": [
    {
     "name": "stdout",
     "output_type": "stream",
     "text": [
      "2323 最大倉位 : 36, 昨收 : {'PreClose': 12.55, 'PreHigh': 12.55, 'PreLow': 11.45}\n",
      "2359 最大倉位 : 17, 昨收 : {'PreClose': 26.25, 'PreHigh': 26.25, 'PreLow': 24.1}\n",
      "2495 最大倉位 : 21, 昨收 : {'PreClose': 20.9, 'PreHigh': 20.9, 'PreLow': 18.9}\n",
      "2614 最大倉位 : 12, 昨收 : {'PreClose': 36.35, 'PreHigh': 36.35, 'PreLow': 35.5}\n",
      "4720 最大倉位 : 25, 昨收 : {'PreClose': 17.8, 'PreHigh': 17.8, 'PreLow': 15.8}\n",
      "8104 最大倉位 : 5, 昨收 : {'PreClose': 81.4, 'PreHigh': 83.0, 'PreLow': 76.1}\n",
      "8261 最大倉位 : 3, 昨收 : {'PreClose': 123.0, 'PreHigh': 125.0, 'PreLow': 116.0}\n",
      "5299 最大倉位 : 2, 昨收 : {'PreClose': 212.0, 'PreHigh': 214.5, 'PreLow': 194.5}\n",
      "6156 最大倉位 : 18, 昨收 : {'PreClose': 24.3, 'PreHigh': 24.3, 'PreLow': 22.8}\n",
      "6532 最大倉位 : 7, 昨收 : {'PreClose': 62.1, 'PreHigh': 62.1, 'PreLow': 59.8}\n",
      "8450 最大倉位 : 7, 昨收 : {'PreClose': 56.9, 'PreHigh': 56.9, 'PreLow': 53.7}\n"
     ]
    }
   ],
   "source": [
    "# remove can't daytrade ticker\n",
    "tmp_ticker_list = list(open_thresholds.keys())\n",
    "for ticker in tmp_ticker_list:\n",
    "    tmp_contract = api.Contracts.Stocks[ticker]\n",
    "#     print(tmp_contract)\n",
    "    if tmp_contract.day_trade != sj.constant.DayTrade.No:continue\n",
    "    open_thresholds.pop(ticker)\n",
    "    \n",
    "writeTradableTicker(trade_dtStr, open_thresholds)\n",
    "    \n",
    "# seperate capital for each ticker\n",
    "total_capital = 5e6\n",
    "seperated_capital = int(total_capital / len(open_thresholds.keys()))\n",
    "max_size_map = {}\n",
    "for k, v in open_thresholds.items():\n",
    "    max_pos = int(seperated_capital / (v['PreClose'] * 1000))\n",
    "    print(f'{k} 最大倉位 : {max_pos}, 昨收 : {v}')\n",
    "    max_size_map[k] = max_pos"
   ]
  },
  {
   "cell_type": "code",
   "execution_count": 13,
   "metadata": {
    "ExecuteTime": {
     "end_time": "2022-01-03T13:05:26.016729Z",
     "start_time": "2022-01-03T13:05:25.824730Z"
    }
   },
   "outputs": [
    {
     "data": {
      "text/plain": [
       "200"
      ]
     },
     "execution_count": 13,
     "metadata": {},
     "output_type": "execute_result"
    }
   ],
   "source": [
    "tradable_text_table = createTradableTable(open_thresholds, max_size_map)\n",
    "text = f'\\n【{trade_dtStr}】當沖策略隔日挑選標的\\n\\n'\n",
    "text += tradable_text_table.get_string()\n",
    "Line.sendMessage(text)"
   ]
  },
  {
   "cell_type": "code",
   "execution_count": 17,
   "metadata": {
    "ExecuteTime": {
     "end_time": "2021-12-31T03:07:06.871958Z",
     "start_time": "2021-12-31T03:07:06.851960Z"
    },
    "code_folding": [],
    "scrolled": true
   },
   "outputs": [
    {
     "name": "stdout",
     "output_type": "stream",
     "text": [
      "Tradable Ticker : 1560\n",
      "Tradable Ticker : 1599\n",
      "Tradable Ticker : 1717\n",
      "Tradable Ticker : 1773\n",
      "Tradable Ticker : 2323\n",
      "Tradable Ticker : 2359\n",
      "Tradable Ticker : 2427\n",
      "Tradable Ticker : 3094\n",
      "Tradable Ticker : 3306\n",
      "Tradable Ticker : 3455\n",
      "Tradable Ticker : 3550\n",
      "Tradable Ticker : 3583\n",
      "Tradable Ticker : 3624\n",
      "Tradable Ticker : 3672\n",
      "Tradable Ticker : 4162\n",
      "Tradable Ticker : 4755\n",
      "Tradable Ticker : 5452\n",
      "Tradable Ticker : 6133\n",
      "Tradable Ticker : 6134\n",
      "Tradable Ticker : 6148\n",
      "Tradable Ticker : 6196\n",
      "Tradable Ticker : 6208\n",
      "Tradable Ticker : 6667\n",
      "Tradable Ticker : 6698\n",
      "Tradable Ticker : 8027\n",
      "Tradable Ticker : 8028\n",
      "Tradable Ticker : 8071\n",
      "Response Code: 200 | Event Code: 16 | Info: TIC/v1/STK/*/TSE/1560 | Event: Subscribe or Unsubscribe ok\n",
      "Response Code: 200 | Event Code: 16 | Info: QUO/v1/STK/*/TSE/1560 | Event: Subscribe or Unsubscribe ok\n",
      "Response Code: 200 | Event Code: 16 | Info: TIC/v1/STK/*/OTC/1599 | Event: Subscribe or Unsubscribe ok"
     ]
    }
   ],
   "source": [
    "NotifyTickers = {}\n",
    "for i in range(125):\n",
    "    if i < len(open_thresholds.keys()):\n",
    "        ticker = sorted(open_thresholds.keys())[i]\n",
    "        tmp_contract = api.Contracts.Stocks[ticker]\n",
    "        if tmp_contract.day_trade  != sj.constant.DayTrade.No:\n",
    "            print(\"Tradable Ticker : \" + ticker)\n",
    "            # tmp_contract = api1.Contracts.Futures[ticker]\n",
    "            NotifyTickers[ticker] = NotifyTickers.get(ticker,\n",
    "                                                      DataObject(tmp_contract, open_threshold=tmp_contract.reference, \n",
    "                                                                api=api, max_size = max_size_map[ticker], PreData=open_thresholds[ticker]))\n",
    "            api.quote.subscribe(\n",
    "                tmp_contract, \n",
    "                quote_type = sj.constant.QuoteType.Tick, # or 'tick'\n",
    "                version = sj.constant.QuoteVersion.v1 # or 'v1'\n",
    "            )\n",
    "            api.quote.subscribe(\n",
    "                tmp_contract, \n",
    "                quote_type = sj.constant.QuoteType.BidAsk, # or 'tick'\n",
    "                version = sj.constant.QuoteVersion.v1 # or 'v1'\n",
    "            )"
   ]
  },
  {
   "cell_type": "code",
   "execution_count": 18,
   "metadata": {
    "ExecuteTime": {
     "end_time": "2021-12-31T03:07:11.014452Z",
     "start_time": "2021-12-31T03:07:08.010781Z"
    }
   },
   "outputs": [],
   "source": [
    "while 1:\n",
    "    try:\n",
    "        sleep(1)\n",
    "    except:\n",
    "        break"
   ]
  },
  {
   "cell_type": "code",
   "execution_count": 19,
   "metadata": {
    "ExecuteTime": {
     "end_time": "2021-12-31T03:07:11.861829Z",
     "start_time": "2021-12-31T03:07:11.853826Z"
    }
   },
   "outputs": [],
   "source": [
    "single_pnl = 0\n",
    "max_pnl = 0\n",
    "ticker_list = []\n",
    "pnl_list = []\n",
    "max_pnl_list = []\n",
    "max_size_list = []\n",
    "ret_list = []\n",
    "est_total_value = 0\n",
    "est_single_value = 0\n",
    "for d in NotifyTickers.values():\n",
    "    ticker_list.append(d.symbol)\n",
    "    pnl_list.append(int(d.pnl))\n",
    "    max_size_list.append(d.max_size)\n",
    "    max_pnl_list.append(int(d.pnl * d.max_size))\n",
    "    ret_list.append(str(round(d.tmp_ret * 100, 2)) + \"%\")\n",
    "    est_single_value += d.open_threshold * 1000\n",
    "    est_total_value += d.open_threshold * 1000 * d.max_size\n",
    "    # print(d.symbol, int(d.pnl), str(round(d.tmp_ret * 100, 2)) + \"%\", d.max_size, int(d.pnl * d.max_size))\n",
    "    single_pnl += d.pnl\n",
    "    max_pnl += d.pnl * d.max_size\n",
    "\n",
    "ticker_list.append(\"合計\")\n",
    "pnl_list.append(int(single_pnl))\n",
    "max_size_list.append(est_total_value)\n",
    "max_pnl_list.append(int(max_pnl))\n",
    "ret_list.append(str(round((max_pnl / est_total_value) * 100, 2)) + \"%\")"
   ]
  },
  {
   "cell_type": "code",
   "execution_count": 20,
   "metadata": {
    "ExecuteTime": {
     "end_time": "2021-12-31T03:07:16.421791Z",
     "start_time": "2021-12-31T03:07:16.414793Z"
    }
   },
   "outputs": [],
   "source": [
    "\n",
    "def createSummaryTable(tickers, pnl_list:list=None, max_pnl_list:list=None, max_size_list:list=None, ret_list:list=None):\n",
    "    try:\n",
    "        table = PrettyTable()\n",
    "        table.add_column('代號', tickers)\n",
    "        table.add_column(\"損益\", pnl_list)\n",
    "        table.add_column(\"報酬率\", ret_list)\n",
    "        table.add_column(\"最大倉位\", max_size_list)\n",
    "        table.add_column(\"最大倉損益\", max_pnl_list)\n",
    "        table.align = 'r'\n",
    "    except Exception as e:\n",
    "        print(e)\n",
    "    else:\n",
    "        return table\n",
    "    \n",
    "sum_table = createSummaryTable(ticker_list, pnl_list, max_pnl_list, max_size_list, ret_list)"
   ]
  },
  {
   "cell_type": "code",
   "execution_count": null,
   "metadata": {},
   "outputs": [],
   "source": [
    "sum_table.get_string"
   ]
  },
  {
   "cell_type": "code",
   "execution_count": 16,
   "metadata": {
    "ExecuteTime": {
     "end_time": "2021-12-29T06:26:02.125827Z",
     "start_time": "2021-12-29T06:26:02.118831Z"
    }
   },
   "outputs": [
    {
     "data": {
      "text/plain": [
       "['',\n",
       " '【2021-12-29】策略損益',\n",
       " '總損益(單部位) : -3418',\n",
       " '成交量(單部位) : 578900.0',\n",
       " '總報酬(單部位) : -0.59%',\n",
       " '',\n",
       " '總損益(最大倉) : -26224',\n",
       " '成交量(最大倉) : 4651200.0',\n",
       " '總報酬(最大倉) : -0.56%',\n",
       " '']"
      ]
     },
     "execution_count": 16,
     "metadata": {},
     "output_type": "execute_result"
    }
   ],
   "source": [
    "text = f'\\n【{trade_dtStr}】策略損益\\n'\n",
    "text += f'總損益(單部位) : {int(single_pnl)}\\n'\n",
    "text += f'成交量(單部位) : {est_single_value}\\n'\n",
    "text += f'總報酬(單部位) : {str(round((int(single_pnl) / est_single_value) * 100, 2))}%\\n\\n'\n",
    "\n",
    "text += f'總損益(最大倉) : {int(max_pnl)}\\n'\n",
    "text += f'成交量(最大倉) : {est_total_value}\\n'\n",
    "text += f'總報酬(最大倉) : {str(round((int(max_pnl) / est_total_value) * 100, 2))}%\\n'\n",
    "text.split('\\n')#.replace('\\n', '<br>')"
   ]
  },
  {
   "cell_type": "code",
   "execution_count": 17,
   "metadata": {
    "ExecuteTime": {
     "end_time": "2021-12-29T06:26:04.956275Z",
     "start_time": "2021-12-29T06:26:04.950273Z"
    }
   },
   "outputs": [],
   "source": [
    "trade_result_path = os.path.join(parent, \"TradeRecord\")\n",
    "if not os.path.isdir(trade_result_path):\n",
    "    os.makedirs(trade_result_path)\n",
    "with open(os.path.join(trade_result_path,f'{trade_dtStr}_ResultTable.html'), 'w') as f:\n",
    "    f.write(sum_table.get_html_string())"
   ]
  },
  {
   "cell_type": "code",
   "execution_count": 18,
   "metadata": {
    "ExecuteTime": {
     "end_time": "2021-12-29T06:26:07.405570Z",
     "start_time": "2021-12-29T06:26:07.192571Z"
    }
   },
   "outputs": [
    {
     "data": {
      "text/plain": [
       "200"
      ]
     },
     "execution_count": 18,
     "metadata": {},
     "output_type": "execute_result"
    }
   ],
   "source": [
    "Line.sendMessage(text)"
   ]
  },
  {
   "cell_type": "code",
   "execution_count": 28,
   "metadata": {
    "ExecuteTime": {
     "end_time": "2021-12-31T03:15:20.864307Z",
     "start_time": "2021-12-31T03:15:20.855313Z"
    }
   },
   "outputs": [
    {
     "data": {
      "text/plain": [
       "{'1560': {'PreClose': 117.5, 'PreHigh': 117.5, 'PreLow': 107.0},\n",
       " '1599': {'PreClose': 50.3, 'PreHigh': 51.7, 'PreLow': 47.55},\n",
       " '1616': {'PreClose': 12.75, 'PreHigh': 12.75, 'PreLow': 11.6},\n",
       " '1717': {'PreClose': 40.55, 'PreHigh': 41.05, 'PreLow': 37.45},\n",
       " '1773': {'PreClose': 178.5, 'PreHigh': 178.5, 'PreLow': 163.0},\n",
       " '2323': {'PreClose': 10.45, 'PreHigh': 10.45, 'PreLow': 10.45},\n",
       " '2349': {'PreClose': 11.25, 'PreHigh': 11.25, 'PreLow': 10.4},\n",
       " '2359': {'PreClose': 21.75, 'PreHigh': 21.75, 'PreLow': 21.75},\n",
       " '2427': {'PreClose': 13.3, 'PreHigh': 13.35, 'PreLow': 12.15},\n",
       " '3094': {'PreClose': 46.05, 'PreHigh': 46.05, 'PreLow': 42.5},\n",
       " '3306': {'PreClose': 36.5, 'PreHigh': 36.5, 'PreLow': 34.0},\n",
       " '3455': {'PreClose': 83.6, 'PreHigh': 83.6, 'PreLow': 76.2},\n",
       " '3550': {'PreClose': 20.1, 'PreHigh': 20.5, 'PreLow': 19.4},\n",
       " '3583': {'PreClose': 98.2, 'PreHigh': 98.2, 'PreLow': 89.8},\n",
       " '3624': {'PreClose': 78.1, 'PreHigh': 78.8, 'PreLow': 72.3},\n",
       " '3672': {'PreClose': 49.35, 'PreHigh': 49.35, 'PreLow': 44.7},\n",
       " '4162': {'PreClose': 71.5, 'PreHigh': 71.5, 'PreLow': 68.9},\n",
       " '4755': {'PreClose': 178.0, 'PreHigh': 178.0, 'PreLow': 162.5},\n",
       " '5452': {'PreClose': 23.9, 'PreHigh': 25.3, 'PreLow': 23.3},\n",
       " '6133': {'PreClose': 11.3, 'PreHigh': 11.9, 'PreLow': 11.0},\n",
       " '6134': {'PreClose': 34.3, 'PreHigh': 34.3, 'PreLow': 32.2},\n",
       " '6148': {'PreClose': 15.4, 'PreHigh': 16.65, 'PreLow': 15.15},\n",
       " '6196': {'PreClose': 177.5, 'PreHigh': 177.5, 'PreLow': 162.5},\n",
       " '6208': {'PreClose': 63.4, 'PreHigh': 63.4, 'PreLow': 58.0},\n",
       " '6667': {'PreClose': 87.3, 'PreHigh': 87.3, 'PreLow': 78.9},\n",
       " '6698': {'PreClose': 58.9, 'PreHigh': 58.9, 'PreLow': 55.3},\n",
       " '8027': {'PreClose': 85.2, 'PreHigh': 85.5, 'PreLow': 78.9},\n",
       " '8028': {'PreClose': 57.8, 'PreHigh': 57.8, 'PreLow': 52.1},\n",
       " '8071': {'PreClose': 16.8, 'PreHigh': 16.8, 'PreLow': 15.4}}"
      ]
     },
     "execution_count": 28,
     "metadata": {},
     "output_type": "execute_result"
    }
   ],
   "source": [
    "readStrongTicker('2021-12-30')"
   ]
  }
 ],
 "metadata": {
  "hide_input": false,
  "kernelspec": {
   "display_name": "Python 3",
   "language": "python",
   "name": "python3"
  },
  "language_info": {
   "codemirror_mode": {
    "name": "ipython",
    "version": 3
   },
   "file_extension": ".py",
   "mimetype": "text/x-python",
   "name": "python",
   "nbconvert_exporter": "python",
   "pygments_lexer": "ipython3",
   "version": "3.7.8"
  },
  "toc": {
   "base_numbering": 1,
   "nav_menu": {},
   "number_sections": true,
   "sideBar": true,
   "skip_h1_title": false,
   "title_cell": "Table of Contents",
   "title_sidebar": "Contents",
   "toc_cell": false,
   "toc_position": {},
   "toc_section_display": true,
   "toc_window_display": false
  },
  "varInspector": {
   "cols": {
    "lenName": 16,
    "lenType": 16,
    "lenVar": 40
   },
   "kernels_config": {
    "python": {
     "delete_cmd_postfix": "",
     "delete_cmd_prefix": "del ",
     "library": "var_list.py",
     "varRefreshCmd": "print(var_dic_list())"
    },
    "r": {
     "delete_cmd_postfix": ") ",
     "delete_cmd_prefix": "rm(",
     "library": "var_list.r",
     "varRefreshCmd": "cat(var_dic_list()) "
    }
   },
   "types_to_exclude": [
    "module",
    "function",
    "builtin_function_or_method",
    "instance",
    "_Feature"
   ],
   "window_display": false
  }
 },
 "nbformat": 4,
 "nbformat_minor": 4
}
