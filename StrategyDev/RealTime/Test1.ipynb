{
 "cells": [
  {
   "cell_type": "code",
   "execution_count": 2,
   "metadata": {
    "ExecuteTime": {
     "end_time": "2021-11-25T17:21:33.537504Z",
     "start_time": "2021-11-25T17:21:33.528501Z"
    }
   },
   "outputs": [],
   "source": [
    "import shioaji as sj\n",
    "from pymongo import MongoClient\n",
    "from datetime import datetime, timedelta\n",
    "from pandas import DataFrame\n",
    "import numpy as np\n",
    "from Messenger.LineMessenger import LineMessenger as Line\n",
    "\n",
    "import warnings\n",
    "warnings.filterwarnings(\"ignore\")\n",
    "\n",
    "import json\n",
    "import os \n",
    "parent = os.path.dirname(os.path.abspath(\"__file__\"))\n",
    "StrongPath = os.path.join(parent, 'StrongTickers')\n",
    "if not os.path.isdir(StrongPath):\n",
    "    os.makedirs(StrongPath)\n",
    "\n",
    "setting = {\n",
    "    'user':'kevin83321',\n",
    "    'pwd':'j7629864',\n",
    "    'ip':'192.168.2.173',\n",
    "    'port':'49153'\n",
    "}"
   ]
  },
  {
   "cell_type": "code",
   "execution_count": 3,
   "metadata": {
    "ExecuteTime": {
     "end_time": "2021-11-25T17:21:35.522272Z",
     "start_time": "2021-11-25T17:21:35.502273Z"
    }
   },
   "outputs": [],
   "source": [
    "class DataObject:\n",
    "    \n",
    "    name:str=\"\"\n",
    "    pre_time:str=\"09:00:00\"\n",
    "    pre_volume:int = 0\n",
    "    pre_close:int = 0\n",
    "    total_v:int = 0\n",
    "    q20_data:dict = {}\n",
    "    q80_data:dict = {} \n",
    "    open_threshold:float = 0\n",
    "    _api = None\n",
    "    symbol:str = \"\"\n",
    "    refPrice:float = 0\n",
    "    entry_percent:float = .06\n",
    "    exit_percent:float = .09\n",
    "    sl_ratio:float = .03\n",
    "    v_threshold:float = .01\n",
    "    entry_threshold:float = 0\n",
    "    exit_threshold:float = 0\n",
    "    \n",
    "    def __init__(self, contract, open_threshold:float, api=None,\n",
    "                 v_threshold:float=.01, entry_percent:float=.06, exit_percent:float=.09, sl_ratio:float=.03):\n",
    "        self.open_threshold = open_threshold\n",
    "        self.entry_percent = entry_percent\n",
    "        self.exit_percent = exit_percent\n",
    "        self.sl_ratio = sl_ratio\n",
    "        self.v_threshold = v_threshold\n",
    "        self._initialByContract(contract)\n",
    "        self._api = api\n",
    "        \n",
    "    def _initialByContract(self, contract):\n",
    "        self.symbol = contract.code\n",
    "        self.refPrice = contract.reference\n",
    "        self.entry_threshold = self.refPrice * (1 + self.entry_percent)\n",
    "        self.exit_threshold = self.refPrice * (1 + self.exit_percent)\n",
    "        self.name = contract.name\n",
    "        \n",
    "    def updateQ20Dict(self, data:dict={}):\n",
    "        if data is None:return\n",
    "        self.q20_data = data\n",
    "        self.q20_data['timeStr'] = self.q20_data['datetime'].strftime(\"%H:%M:%S\")\n",
    "        self.updateSignal()\n",
    "    \n",
    "    def updateQ805Dict(self, data:dict):\n",
    "        pass\n",
    "    \n",
    "    def updatePos(self):\n",
    "        pass\n",
    "    \n",
    "    def updateStatus(self):\n",
    "        pass\n",
    "    \n",
    "    def updateSignal(self):\n",
    "        print(\"updateSignal\")\n",
    "        if not tick_data : return\n",
    "        totalV = self.q20_data['totalQty']\n",
    "        close = self.q20_data['close']\n",
    "        volume = self.q20_data['qty']\n",
    "        if self.q20_data['timeStr'] != self.pre_time:\n",
    "            self.total_v = volume\n",
    "            self.pre_time = self.q20_data['timeStr']\n",
    "        else:\n",
    "            self.total_v += volume\n",
    "        v_ratio = self.total_v / pre_volume\n",
    "        pre_volume = totalV\n",
    "        if not self.pre_close: \n",
    "            self.pre_close = close\n",
    "            return\n",
    "        \n",
    "        if close >= self.open_threshold and v_ratio >= v_threshold and close <= self.entry_threshold and self.pre_close < self.open_threshold:\n",
    "            self.sendNotify2(self.q20_data['datetime'].strftime(\"%H:%M:%S.%f\"), self.symbol, self.name,\n",
    "                             close, self.q20_data['pct_chg'])\n",
    "        self.pre_close = close\n",
    "        \n",
    "        \n",
    "    def DoTrade(self):\n",
    "        if not self._api:return\n",
    "    \n",
    "    def sendNotify2(self, dateStr, idx, name, \n",
    "                   close, Ret):#, TVRatio, EVRatio):\n",
    "        try:\n",
    "            text = f'時間 : {dateStr}\\n'\n",
    "            text += f'股票代號/名稱 : {idx}/{name}\\n'\n",
    "            text += f'觸發條件 : 秒內量增價漲\\n'\n",
    "            text += f'成交價 : {close}\\n'\n",
    "            \n",
    "            # 漲跌幅量\n",
    "            text += f'漲跌幅 : {Ret} %\\n'\n",
    "#             text += f'量比(總/估) {TVRatio}/{EVRatio}\\n'\n",
    "            # text += '其他提醒 : \\n'\n",
    "            \n",
    "            Line.sendMessage(text)\n",
    "#             self.last_pub_time[idx] += timedelta(seconds=self.adj_time)\n",
    "        except Exception as e:\n",
    "            print(e)\n",
    "#             self.sendError('sendNotify2')\n",
    "\n",
    "#     def sendNotifyExit(self, dateStr, idx, name, \n",
    "#                    close, Ret, TVRatio, EVRatio, takeprofit=False):\n",
    "#         try:\n",
    "#             text = f'時間 : {dateStr}\\n'\n",
    "#             text += f'股票代號/名稱 : {idx}/{name}\\n'\n",
    "#             text += f'觸發出場條件 : 若有持倉，已經達到({\"停利\" if takeprofit else \"停損\"})條件囉\\n'\n",
    "#             text += f'成交價 : {close}\\n'\n",
    "            \n",
    "#             # 漲跌幅量\n",
    "#             text += f'漲跌幅 : {Ret} %\\n'\n",
    "#             text += f'量比(總/估) {TVRatio}/{EVRatio}\\n'\n",
    "#             # text += '其他提醒 : \\n'\n",
    "            \n",
    "#             Line.sendMessage(text)\n",
    "#             self.last_pub_time[idx] += timedelta(seconds=self.adj_time)\n",
    "#         except:\n",
    "#             self.sendError('sendNotify')"
   ]
  },
  {
   "cell_type": "code",
   "execution_count": 4,
   "metadata": {
    "ExecuteTime": {
     "end_time": "2021-11-25T17:21:46.237664Z",
     "start_time": "2021-11-25T17:21:46.224664Z"
    },
    "code_folding": [
     0,
     13
    ]
   },
   "outputs": [],
   "source": [
    "def getFollowedAssets(followedAssets=None):\n",
    "    try:\n",
    "        if followedAssets is None:\n",
    "            table = getTable(setting, schema,'StockList')\n",
    "            updateDate = sorted(table.distinct('UpdateDate'))[-1]\n",
    "            datas = list(table.find({'Industry':{'$ne':''}}))\n",
    "            return [x['Ticker'] for x in datas if x['UpdateDate'] == updateDate]\n",
    "    except Exception as e:\n",
    "        print(e)\n",
    "        pass\n",
    "    else:\n",
    "        return followedAssets\n",
    "\n",
    "def getTable(setting, schema, table_name):\n",
    "    try:\n",
    "        user = setting['user']\n",
    "        pwd = setting['pwd']\n",
    "        ip = setting['ip']\n",
    "        port = setting['port']\n",
    "        client = MongoClient(f'mongodb://{user}:{pwd}@{ip}:{port}')\n",
    "        schema = client['admin'][schema]\n",
    "        table = schema[table_name]\n",
    "    except:\n",
    "        self.sendError('getTable')\n",
    "    return table\n",
    "\n",
    "\n",
    "\n",
    "schema = 'TWSE'\n",
    "# if table_name is None:\n",
    "table_name = 'historicalPrice'\n",
    "table = getTable(setting, schema, table_name)"
   ]
  },
  {
   "cell_type": "code",
   "execution_count": 20,
   "metadata": {
    "ExecuteTime": {
     "end_time": "2021-11-25T17:27:28.537621Z",
     "start_time": "2021-11-25T17:27:28.510616Z"
    },
    "code_folding": []
   },
   "outputs": [],
   "source": [
    "def readStrongTicker(dtStr):\n",
    "#     print(os.path.join(StrongPath, f'{dtStr}_strongTicker.json'))\n",
    "#     print(os.path.isfile(os.path.join(StrongPath, f'{dtStr}_strongTicker.json')))\n",
    "    if os.path.isfile(os.path.join(StrongPath, f'{dtStr}_strongTicker.json')):\n",
    "        with open(os.path.join(StrongPath, f'{dtStr}_strongTicker.json'), 'r') as f:\n",
    "            tickers = json.load(f)\n",
    "            return tickers\n",
    "    else:\n",
    "        return {}\n",
    "\n",
    "def writeStrongTicker(dtStr, tickers):\n",
    "    with open(os.path.join(StrongPath, f'{dtStr}_strongTicker.json'), 'w') as f:\n",
    "        json.dump(tickers,f)\n",
    "        \n",
    "def getStrongTickers(tradeDate = datetime.today(), entry_threshold=.06, v_threshold = 1000):\n",
    "\n",
    "    open_thresholds = readStrongTicker(tradeDate.strftime(\"%Y-%m-%d\"))\n",
    "#     print(open_thresholds)\n",
    "#     return\n",
    "    if not open_thresholds:\n",
    "#         _followedAssets = []\n",
    "#         open_thresholds = {}\n",
    "        # tickers = self.getFollowedAssets(followedAssets)\n",
    "\n",
    "        # end_date = datetime(2021,4,27) #.today()\n",
    "        tickers = getFollowedAssets()\n",
    "        end_date = tradeDate - timedelta(1)\n",
    "        start_date = end_date + timedelta(-60)\n",
    "        table = getTable(setting, schema, table_name)\n",
    "        datas = list(table.find({'Ticker':{'$in':tickers}, 'Date':{'$gte':start_date.strftime(\"%Y-%m-%d\"), '$lte':end_date.strftime(\"%Y-%m-%d\")}}))\n",
    "        # datas = readStockDataInter(tickers,start_date, end_date)\n",
    "        Master_df = DataFrame(datas)\n",
    "        del Master_df['_id']\n",
    "\n",
    "        df_map = {}\n",
    "        for ticker in tickers:\n",
    "            df_map[ticker] = Master_df[Master_df.Ticker==ticker]\n",
    "\n",
    "        possible_strong = {}\n",
    "\n",
    "        for k, df in df_map.items():\n",
    "            if df.empty: continue\n",
    "            if df.shape[0] < 20: continue\n",
    "            # print(df)\n",
    "            df['Close'] = df.Close.apply(lambda x: float('nan') if '-' in str(x) else x).fillna(method='ffill').astype(float)\n",
    "            df['High'] = df.High.apply(lambda x: float('nan') if '-' in str(x) else x).fillna(method='ffill').astype(float)\n",
    "            df['Open'] = df.Open.apply(lambda x: float('nan') if '-' in str(x) else x).fillna(method='ffill').astype(float)\n",
    "            df['Low'] = df.Low.apply(lambda x: float('nan') if '-' in str(x) else x).fillna(method='ffill').astype(float)\n",
    "            df['Volume'] = df.Volume.apply(lambda x: 0 if '-' in str(x) else x).fillna(method='ffill').astype(float)\n",
    "            df['MA5'] = df.Close.rolling(5).mean()\n",
    "            df['MA10'] = df.Close.rolling(10).mean()\n",
    "            df['MA20'] = df.Close.rolling(20).mean()\n",
    "            df['DI'] = (df.High+df.Low+2*df.Close) / 4\n",
    "            df['Amp'] = (df.High-df.Low) / df.Low\n",
    "            df['AmpStd'] = df.Amp.rolling(5).std()\n",
    "            df['DiStd'] = df['DI'].rolling(10).std()\n",
    "            df['VMA5'] = df.Volume.rolling(5).mean()\n",
    "            # df['MA5Slope'] = df['MA5'].pct_change()\n",
    "            # df['MA10Slope'] = df['MA10'].pct_change()\n",
    "            # df['MA20Slope'] = df['MA20'].pct_change()\n",
    "            MAStd = np.std([df.MA5.iloc[-1]-df.MA10.iloc[-1],df.MA5.iloc[-1]-df.MA20.iloc[-1], df.MA10.iloc[-1]-df.MA20.iloc[-1]])\n",
    "            open_threshold = max(df['Close'].iloc[-5], df['Close'].iloc[-10], df['Close'].iloc[-20])\n",
    "            if (open_threshold / df['Close'].iloc[-1]) < (1 + entry_threshold) and (df.VMA5.iloc[-1]) / 1000 >= v_threshold:\n",
    "        #             if df['MA5Slope'].iloc[-1] >= 0.01:# and df['MA10Slope'].iloc[-1] >= 0 and df['MA20Slope'].iloc[-1] >= 0:\n",
    "                temp_ma5 = np.mean(df['Close'].iloc[-4:].tolist() + [open_threshold])\n",
    "                possible_strong[k] = (open_threshold, MAStd, df.DiStd.iloc[-1]/df['Close'].iloc[-1], df.AmpStd.iloc[-1])\n",
    "#                 _followedAssets.append(k)\n",
    "                open_thresholds[k] = open_threshold\n",
    "        writeStrongTicker(tradeDate.strftime(\"%Y-%m-%d\"), open_thresholds)\n",
    "    return open_thresholds"
   ]
  },
  {
   "cell_type": "code",
   "execution_count": 22,
   "metadata": {
    "ExecuteTime": {
     "end_time": "2021-11-25T17:29:41.807074Z",
     "start_time": "2021-11-25T17:29:41.799073Z"
    }
   },
   "outputs": [
    {
     "data": {
      "text/plain": [
       "494"
      ]
     },
     "execution_count": 22,
     "metadata": {},
     "output_type": "execute_result"
    }
   ],
   "source": [
    "open_thresholds = getStrongTickers()\n",
    "len(open_thresholds.keys())"
   ]
  },
  {
   "cell_type": "code",
   "execution_count": 23,
   "metadata": {
    "ExecuteTime": {
     "end_time": "2021-11-25T17:31:11.887275Z",
     "start_time": "2021-11-25T17:31:11.799276Z"
    }
   },
   "outputs": [],
   "source": [
    "api1 = sj.Shioaji()"
   ]
  },
  {
   "cell_type": "code",
   "execution_count": 24,
   "metadata": {
    "ExecuteTime": {
     "end_time": "2021-11-25T17:31:14.319716Z",
     "start_time": "2021-11-25T17:31:12.648492Z"
    }
   },
   "outputs": [
    {
     "name": "stdout",
     "output_type": "stream",
     "text": [
      "Response Code: 0 | Event Code: 0 | Info: host '203.66.91.161:80', hostname '203.66.91.161:80' IP 203.66.91.161:80 (host 1 of 1) (host connection attempt 1 of 1) (total connection attempt 1 of 1) | Event: Session up\n"
     ]
    },
    {
     "data": {
      "text/plain": [
       "[FutureAccount(person_id='F128497445', broker_id='F002000', account_id='1473661', signed=True, username='鄭圳宏'),\n",
       " Account(account_type=<AccountType.H: 'H'>, person_id='F128497445', broker_id='9A92', account_id='0011645', username='鄭圳宏'),\n",
       " StockAccount(person_id='F128497445', broker_id='9A92', account_id='0231901', signed=True, username='鄭圳宏\\u3000\\u3000')]"
      ]
     },
     "execution_count": 24,
     "metadata": {},
     "output_type": "execute_result"
    }
   ],
   "source": [
    "api1.login(\"F128497445\", \"j7629864\")"
   ]
  },
  {
   "cell_type": "code",
   "execution_count": 25,
   "metadata": {
    "ExecuteTime": {
     "end_time": "2021-11-25T17:31:16.808773Z",
     "start_time": "2021-11-25T17:31:16.750771Z"
    },
    "code_folding": []
   },
   "outputs": [],
   "source": [
    "from shioaji import TickSTKv1, Exchange, BidAskSTKv1\n",
    "\n",
    "@api1.on_tick_stk_v1()\n",
    "@api1.on_bidask_stk_v1()\n",
    "def quote_callback(exchange:Exchange, tick:[TickSTKv1, BidAskSTKv1]):\n",
    "    if type(tick) is TickSTKv1:\n",
    "        NotifyTickers[ticker] = NotifyTickers.get(ticker, DataObject(tmp_contract, open_threshold=17655, api=api1))\n",
    "        NotifyTickers[ticker].updateQ20Dict(dict(\n",
    "            symbol=tick.code,\n",
    "            datetime=tick.datetime,\n",
    "            open=float(tick.open),\n",
    "            high=float(tick.high),\n",
    "            low=float(tick.low),\n",
    "            close=float(tick.close),\n",
    "            avg_price=float(tick.avg_price),\n",
    "            qty=int(tick.volume),\n",
    "            totalQty=int(tick.total_volume),\n",
    "            pct_chg=float(tick.pct_chg),\n",
    "            simulate=bool(tick.simtrade),\n",
    "        ))\n",
    "#         q20_dict[tick.code] = q20_dict.get(tick.code, [])\n",
    "#         q20_dict[tick.code].append()\n",
    "        print(f\"Exchange : {exchange}, Tick:{NotifyTickers[ticker].q20_data}\\n\")\n",
    "    if type(tick) is BidAskSTKv1:\n",
    "#         print(f\"Exchange : {exchange}, BidAsk:{tick}\")\n",
    "        NotifyTickers[ticker].updateQ80Dict(dict(\n",
    "            symbol = tick.code,\n",
    "            datetime = tick.datetime,\n",
    "            bid1 = float(tick.bid_price[0]),\n",
    "            bid2 = float(tick.bid_price[1]),\n",
    "            bid3 = float(tick.bid_price[2]),\n",
    "            bid4 = float(tick.bid_price[3]),\n",
    "            bid5 = float(tick.bid_price[4]),\n",
    "            bidQty1 = float(tick.bid_volume[0]),\n",
    "            bidQty2 = float(tick.bid_volume[1]),\n",
    "            bidQty3 = float(tick.bid_volume[2]),\n",
    "            bidQty4 = float(tick.bid_volume[3]),\n",
    "            bidQty5 = float(tick.bid_volume[4]),\n",
    "            askQty1 = float(tick.ask_volume[0]),\n",
    "            askQty2 = float(tick.ask_volume[1]),\n",
    "            askQty3 = float(tick.ask_volume[2]),\n",
    "            askQty4 = float(tick.ask_volume[3]),\n",
    "            askQty5 = float(tick.ask_volume[4]),\n",
    "            ask1 = float(tick.ask_price[0]),\n",
    "            ask2 = float(tick.ask_price[1]),\n",
    "            ask3 = float(tick.ask_price[2]),\n",
    "            ask4 = float(tick.ask_price[3]),\n",
    "            ask5 = float(tick.ask_price[4]),\n",
    "        ))\n",
    "#         q80_dict[tick.code] = dict(\n",
    "#             symbol = tick.code,\n",
    "#             datetime = tick.datetime,\n",
    "#             bid1 = float(tick.bid_price[0]),\n",
    "#             bid2 = float(tick.bid_price[1]),\n",
    "#             bid3 = float(tick.bid_price[2]),\n",
    "#             bid4 = float(tick.bid_price[3]),\n",
    "#             bid5 = float(tick.bid_price[4]),\n",
    "#             bidQty1 = float(tick.bid_volume[0]),\n",
    "#             bidQty2 = float(tick.bid_volume[1]),\n",
    "#             bidQty3 = float(tick.bid_volume[2]),\n",
    "#             bidQty4 = float(tick.bid_volume[3]),\n",
    "#             bidQty5 = float(tick.bid_volume[4]),\n",
    "#             askQty1 = float(tick.ask_volume[0]),\n",
    "#             askQty2 = float(tick.ask_volume[1]),\n",
    "#             askQty3 = float(tick.ask_volume[2]),\n",
    "#             askQty4 = float(tick.ask_volume[3]),\n",
    "#             askQty5 = float(tick.ask_volume[4]),\n",
    "#             ask1 = float(tick.ask_price[0]),\n",
    "#             ask2 = float(tick.ask_price[1]),\n",
    "#             ask3 = float(tick.ask_price[2]),\n",
    "#             ask4 = float(tick.ask_price[3]),\n",
    "#             ask5 = float(tick.ask_price[4]),\n",
    "#         )\n",
    "        print(f\"Exchange : {exchange}, bid ask : {NotifyTickers[ticker].q80_data}\\n\")\n",
    "        \n",
    "# def bidask_callback(exchange:Exchange, tick:BidAskSTKv1):\n",
    "#     print(f\"Exchange : {exchange}, Tick:{tick}\")\n",
    "    \n",
    "api1.quote.set_on_tick_stk_v1_callback(quote_callback)\n",
    "api1.quote.set_on_bidask_stk_v1_callback(quote_callback)"
   ]
  },
  {
   "cell_type": "code",
   "execution_count": 27,
   "metadata": {
    "ExecuteTime": {
     "end_time": "2021-11-25T17:31:57.677759Z",
     "start_time": "2021-11-25T17:31:57.666227Z"
    }
   },
   "outputs": [
    {
     "name": "stdout",
     "output_type": "stream",
     "text": [
      "Response Code: 200 | Event Code: 16 | Info: Subscription Already Exists - Topic 'TIC/v1/FOP/*/TFE/TXFL1' Subscribe: Response code: '400'; Flags: 'c';  | Event: Subscribe or Unsubscribe ok\n",
      "Response Code: 200 | Event Code: 16 | Info: Subscription Already Exists - Topic 'QUO/v1/FOP/*/TFE/TXFL1' Subscribe: Response code: '400'; Flags: 'c';  | Event: Subscribe or Unsubscribe ok\n"
     ]
    }
   ],
   "source": [
    "NotifyTickers = {}\n",
    "# for i in range(125):\n",
    "# ticker = sorted(open_thresholds.keys())[i]\n",
    "ticker = \"TXFL1\"\n",
    "# tmp_contract = api1.Contracts.Stocks[ticker]\n",
    "tmp_contract = api1.Contracts.Futures[ticker]\n",
    "NotifyTickers[ticker] = NotifyTickers.get(ticker, DataObject(tmp_contract, open_threshold=17655, api=api1))\n",
    "api1.quote.subscribe(\n",
    "    tmp_contract, \n",
    "    quote_type = sj.constant.QuoteType.Tick, # or 'tick'\n",
    "    version = sj.constant.QuoteVersion.v1 # or 'v1'\n",
    ")\n",
    "api1.quote.subscribe(\n",
    "    tmp_contract, \n",
    "    quote_type = sj.constant.QuoteType.BidAsk, # or 'tick'\n",
    "    version = sj.constant.QuoteVersion.v1 # or 'v1'\n",
    ")"
   ]
  }
 ],
 "metadata": {
  "hide_input": false,
  "kernelspec": {
   "display_name": "Python 3",
   "language": "python",
   "name": "python3"
  },
  "toc": {
   "base_numbering": 1,
   "nav_menu": {},
   "number_sections": true,
   "sideBar": true,
   "skip_h1_title": false,
   "title_cell": "Table of Contents",
   "title_sidebar": "Contents",
   "toc_cell": false,
   "toc_position": {},
   "toc_section_display": true,
   "toc_window_display": false
  },
  "varInspector": {
   "cols": {
    "lenName": 16,
    "lenType": 16,
    "lenVar": 40
   },
   "kernels_config": {
    "python": {
     "delete_cmd_postfix": "",
     "delete_cmd_prefix": "del ",
     "library": "var_list.py",
     "varRefreshCmd": "print(var_dic_list())"
    },
    "r": {
     "delete_cmd_postfix": ") ",
     "delete_cmd_prefix": "rm(",
     "library": "var_list.r",
     "varRefreshCmd": "cat(var_dic_list()) "
    }
   },
   "types_to_exclude": [
    "module",
    "function",
    "builtin_function_or_method",
    "instance",
    "_Feature"
   ],
   "window_display": false
  }
 },
 "nbformat": 4,
 "nbformat_minor": 4
}
