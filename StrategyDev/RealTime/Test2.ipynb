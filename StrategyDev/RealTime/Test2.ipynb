{
 "cells": [
  {
   "cell_type": "code",
   "execution_count": 1,
   "metadata": {
    "ExecuteTime": {
     "end_time": "2021-11-24T23:23:36.144725Z",
     "start_time": "2021-11-24T23:23:35.273731Z"
    }
   },
   "outputs": [],
   "source": [
    "import shioaji as sj\n",
    "from pymongo import MongoClient\n",
    "from datetime import datetime, timedelta\n",
    "from pandas import DataFrame\n",
    "import numpy as np\n",
    "\n",
    "import warnings\n",
    "warnings.filterwarnings(\"ignore\")"
   ]
  },
  {
   "cell_type": "code",
   "execution_count": 2,
   "metadata": {
    "ExecuteTime": {
     "end_time": "2021-11-24T23:23:39.105920Z",
     "start_time": "2021-11-24T23:23:39.099916Z"
    }
   },
   "outputs": [],
   "source": [
    "def getFollowedAssets(followedAssets=None):\n",
    "    try:\n",
    "        if followedAssets is None:\n",
    "#             self.logger.info('GetAssets')\n",
    "            table = getTable(setting, schema,'StockList')\n",
    "            updateDate = sorted(table.distinct('UpdateDate'))[-1]\n",
    "            datas = list(table.find({'Industry':{'$ne':''}}))\n",
    "            return [x['Ticker'] for x in datas if x['UpdateDate'] == updateDate]\n",
    "            # with open(os.path.join(parent, 'FollowedAssets.txt'), 'r') as f:\n",
    "            #     lines = f.readlines()[-1]\n",
    "            #     return lines.split(',')[1:]\n",
    "    except Exception as e:\n",
    "        print(e)\n",
    "        pass\n",
    "#         self.sendError('getFollowedAssets')\n",
    "    else:\n",
    "        return followedAssets"
   ]
  },
  {
   "cell_type": "code",
   "execution_count": 3,
   "metadata": {
    "ExecuteTime": {
     "end_time": "2021-11-24T23:23:41.147003Z",
     "start_time": "2021-11-24T23:23:41.127940Z"
    }
   },
   "outputs": [],
   "source": [
    "def getTable(setting, schema, table_name):\n",
    "    try:\n",
    "        user = setting['user']\n",
    "        pwd = setting['pwd']\n",
    "        ip = setting['ip']\n",
    "        port = setting['port']\n",
    "        client = MongoClient(f'mongodb://{user}:{pwd}@{ip}:{port}')\n",
    "        schema = client['admin'][schema]\n",
    "        table = schema[table_name]\n",
    "    except:\n",
    "        self.sendError('getTable')\n",
    "    return table\n",
    "setting = {\n",
    "    'user':'kevin83321',\n",
    "    'pwd':'j7629864',\n",
    "    'ip':'192.168.2.173',\n",
    "    'port':'49153'\n",
    "}\n",
    "schema = 'TWSE'\n",
    "# if table_name is None:\n",
    "table_name = 'historicalPrice'\n",
    "table = getTable(setting, schema, table_name)"
   ]
  },
  {
   "cell_type": "code",
   "execution_count": 4,
   "metadata": {
    "ExecuteTime": {
     "end_time": "2021-11-24T23:24:38.294391Z",
     "start_time": "2021-11-24T23:23:44.341654Z"
    }
   },
   "outputs": [],
   "source": [
    "end_date = datetime.today()\n",
    "entry_threshold=.06\n",
    "v_threshold = 1000\n",
    "_followedAssets = []\n",
    "open_thresholds = {}\n",
    "# tickers = self.getFollowedAssets(followedAssets)\n",
    "\n",
    "# end_date = datetime(2021,4,27) #.today()\n",
    "tickers = getFollowedAssets()\n",
    "end_date -= timedelta(1)\n",
    "start_date = end_date + timedelta(-60)\n",
    "table = getTable(setting, schema, table_name)\n",
    "datas = list(table.find({'Ticker':{'$in':tickers}, 'Date':{'$gte':start_date.strftime(\"%Y-%m-%d\"), '$lte':end_date.strftime(\"%Y-%m-%d\")}}))\n",
    "# datas = readStockDataInter(tickers,start_date, end_date)\n",
    "Master_df = DataFrame(datas)\n",
    "del Master_df['_id']\n",
    "\n",
    "df_map = {}\n",
    "for ticker in tickers:\n",
    "    df_map[ticker] = Master_df[Master_df.Ticker==ticker]\n",
    "\n",
    "possible_strong = {}\n",
    "\n",
    "for k, df in df_map.items():\n",
    "    if df.empty: continue\n",
    "    if df.shape[0] < 20: continue\n",
    "    # print(df)\n",
    "    df['Close'] = df.Close.apply(lambda x: float('nan') if '-' in str(x) else x).fillna(method='ffill').astype(float)\n",
    "    df['High'] = df.High.apply(lambda x: float('nan') if '-' in str(x) else x).fillna(method='ffill').astype(float)\n",
    "    df['Open'] = df.Open.apply(lambda x: float('nan') if '-' in str(x) else x).fillna(method='ffill').astype(float)\n",
    "    df['Low'] = df.Low.apply(lambda x: float('nan') if '-' in str(x) else x).fillna(method='ffill').astype(float)\n",
    "    df['Volume'] = df.Volume.apply(lambda x: 0 if '-' in str(x) else x).fillna(method='ffill').astype(float)\n",
    "    df['MA5'] = df.Close.rolling(5).mean()\n",
    "    df['MA10'] = df.Close.rolling(10).mean()\n",
    "    df['MA20'] = df.Close.rolling(20).mean()\n",
    "    df['DI'] = (df.High+df.Low+2*df.Close) / 4\n",
    "    df['Amp'] = (df.High-df.Low) / df.Low\n",
    "    df['AmpStd'] = df.Amp.rolling(5).std()\n",
    "    df['DiStd'] = df['DI'].rolling(10).std()\n",
    "    df['VMA5'] = df.Volume.rolling(5).mean()\n",
    "    # df['MA5Slope'] = df['MA5'].pct_change()\n",
    "    # df['MA10Slope'] = df['MA10'].pct_change()\n",
    "    # df['MA20Slope'] = df['MA20'].pct_change()\n",
    "    MAStd = np.std([df.MA5.iloc[-1]-df.MA10.iloc[-1],df.MA5.iloc[-1]-df.MA20.iloc[-1], df.MA10.iloc[-1]-df.MA20.iloc[-1]])\n",
    "    open_threshold = max(df['Close'].iloc[-5], df['Close'].iloc[-10], df['Close'].iloc[-20])\n",
    "    if (open_threshold / df['Close'].iloc[-1]) < (1 + entry_threshold) and (df.VMA5.iloc[-1]) / 1000 >= v_threshold:\n",
    "#             if df['MA5Slope'].iloc[-1] >= 0.01:# and df['MA10Slope'].iloc[-1] >= 0 and df['MA20Slope'].iloc[-1] >= 0:\n",
    "        temp_ma5 = np.mean(df['Close'].iloc[-4:].tolist() + [open_threshold])\n",
    "        possible_strong[k] = (open_threshold, MAStd, df.DiStd.iloc[-1]/df['Close'].iloc[-1], df.AmpStd.iloc[-1])\n",
    "        _followedAssets.append(k)\n",
    "        open_thresholds[k] = open_threshold"
   ]
  },
  {
   "cell_type": "code",
   "execution_count": 5,
   "metadata": {
    "ExecuteTime": {
     "end_time": "2021-11-24T23:20:40.632383Z",
     "start_time": "2021-11-24T23:20:40.623382Z"
    }
   },
   "outputs": [
    {
     "data": {
      "text/plain": [
       "526"
      ]
     },
     "execution_count": 5,
     "metadata": {},
     "output_type": "execute_result"
    }
   ],
   "source": [
    "len(open_thresholds.keys())"
   ]
  },
  {
   "cell_type": "code",
   "execution_count": 6,
   "metadata": {
    "ExecuteTime": {
     "end_time": "2021-11-24T23:28:55.389744Z",
     "start_time": "2021-11-24T23:28:55.308763Z"
    }
   },
   "outputs": [],
   "source": [
    "api1 = sj.Shioaji()"
   ]
  },
  {
   "cell_type": "code",
   "execution_count": 7,
   "metadata": {
    "ExecuteTime": {
     "end_time": "2021-11-24T23:29:01.309367Z",
     "start_time": "2021-11-24T23:28:59.952797Z"
    }
   },
   "outputs": [
    {
     "name": "stdout",
     "output_type": "stream",
     "text": [
      "Response Code: 0 | Event Code: 0 | Info: host '203.66.91.161:80', hostname '203.66.91.161:80' IP 203.66.91.161:80 (host 1 of 1) (host connection attempt 1 of 1) (total connection attempt 1 of 1) | Event: Session up\n"
     ]
    },
    {
     "data": {
      "text/plain": [
       "[FutureAccount(person_id='F128497445', broker_id='F002000', account_id='1473661', signed=True, username='鄭圳宏'),\n",
       " Account(account_type=<AccountType.H: 'H'>, person_id='F128497445', broker_id='9A92', account_id='0011645', username='鄭圳宏'),\n",
       " StockAccount(person_id='F128497445', broker_id='9A92', account_id='0231901', signed=True, username='鄭圳宏\\u3000\\u3000')]"
      ]
     },
     "execution_count": 7,
     "metadata": {},
     "output_type": "execute_result"
    }
   ],
   "source": [
    "api1.login(\"F128497445\", \"j7629864\")"
   ]
  },
  {
   "cell_type": "code",
   "execution_count": 8,
   "metadata": {
    "ExecuteTime": {
     "end_time": "2021-11-24T23:29:05.165962Z",
     "start_time": "2021-11-24T23:29:05.155970Z"
    }
   },
   "outputs": [],
   "source": [
    "from shioaji import TickSTKv1, Exchange\n",
    "\n",
    "@api1.on_tick_stk_v1()\n",
    "def quote_callback1(exchange: Exchange, tick:TickSTKv1):\n",
    "    print(f\"from api 1, Exchange: {exchange}, Tick: {tick}\")\n",
    "\n",
    "api1.quote.set_on_tick_stk_v1_callback(quote_callback1)"
   ]
  },
  {
   "cell_type": "code",
   "execution_count": 9,
   "metadata": {
    "ExecuteTime": {
     "end_time": "2021-11-24T23:29:14.022037Z",
     "start_time": "2021-11-24T23:29:10.028220Z"
    }
   },
   "outputs": [
    {
     "name": "stdout",
     "output_type": "stream",
     "text": [
      "2363\n",
      "2368Response Code: 200 | Event Code: 16 | Info: TIC/v1/STK/*/TSE/2363 | Event: Subscribe or Unsubscribe ok\n",
      "\n",
      "2369\n",
      "2371Response Code: 200 | Event Code: 16 | Info: QUO/v1/STK/*/TSE/2363 | Event: Subscribe or Unsubscribe ok\n",
      "Response Code: 200 | Event Code: 16 | Info: TIC/v1/STK/*/TSE/2368 | Event: Subscribe or Unsubscribe ok\n",
      "\n",
      "Response Code: 200 | Event Code: 16 | Info: QUO/v1/STK/*/TSE/2368 | Event: Subscribe or Unsubscribe ok\n",
      "Response Code: 200 | Event Code: 16 | Info: TIC/v1/STK/*/TSE/2369 | Event: Subscribe or Unsubscribe ok\n",
      "2374Response Code: 200 | Event Code: 16 | Info: QUO/v1/STK/*/TSE/2369 | Event: Subscribe or Unsubscribe ok\n",
      "2375\n",
      "2376\n",
      "\n",
      "2377\n",
      "2379\n",
      "2380\n",
      "2382\n",
      "2383\n",
      "2385\n",
      "2388Response Code: 200 | Event Code: 16 | Info: TIC/v1/STK/*/TSE/2371 | Event: Subscribe or Unsubscribe ok\n",
      "Response Code: 200 | Event Code: 16 | Info: QUO/v1/STK/*/TSE/2371 | Event: Subscribe or Unsubscribe ok\n",
      "\n",
      "2390Response Code: 200 | Event Code: 16 | Info: TIC/v1/STK/*/TSE/2374 | Event: Subscribe or Unsubscribe ok\n",
      "Response Code: 200 | Event Code: 16 | Info: QUO/v1/STK/*/TSE/2374 | Event: Subscribe or Unsubscribe ok\n",
      "Response Code: 200 | Event Code: 16 | Info: TIC/v1/STK/*/TSE/2375 | Event: Subscribe or Unsubscribe ok\n",
      "Response Code: 200 | Event Code: 16 | Info: QUO/v1/STK/*/TSE/2375 | Event: Subscribe or Unsubscribe ok\n",
      "Response Code: 200 | Event Code: 16 | Info: TIC/v1/STK/*/TSE/2376 | Event: Subscribe or Unsubscribe ok\n",
      "\n",
      "Response Code: 200 | Event Code: 16 | Info: QUO/v1/STK/*/TSE/2376 | Event: Subscribe or Unsubscribe ok\n",
      "2392Response Code: 200 | Event Code: 16 | Info: TIC/v1/STK/*/TSE/2377 | Event: Subscribe or Unsubscribe ok\n",
      "Response Code: 200 | Event Code: 16 | Info: QUO/v1/STK/*/TSE/2377 | Event: Subscribe or Unsubscribe ok\n",
      "Response Code: 200 | Event Code: 16 | Info: TIC/v1/STK/*/TSE/2379 | Event: Subscribe or Unsubscribe ok\n",
      "Response Code: 200 | Event Code: 16 | Info: QUO/v1/STK/*/TSE/2379 | Event: Subscribe or Unsubscribe ok\n",
      "\n",
      "Response Code: 200 | Event Code: 16 | Info: TIC/v1/STK/*/TSE/2380 | Event: Subscribe or Unsubscribe ok\n",
      "Response Code: 200 | Event Code: 16 | Info: QUO/v1/STK/*/TSE/2380 | Event: Subscribe or Unsubscribe ok\n",
      "Response Code: 200 | Event Code: 16 | Info: TIC/v1/STK/*/TSE/2382 | Event: Subscribe or Unsubscribe ok\n",
      "Response Code: 200 | Event Code: 16 | Info: QUO/v1/STK/*/TSE/2382 | Event: Subscribe or Unsubscribe ok\n",
      "Response Code: 200 | Event Code: 16 | Info: TIC/v1/STK/*/TSE/2383 | Event: Subscribe or Unsubscribe ok\n",
      "Response Code: 200 | Event Code: 16 | Info: QUO/v1/STK/*/TSE/2383 | Event: Subscribe or Unsubscribe ok\n",
      "Response Code: 200 | Event Code: 16 | Info: TIC/v1/STK/*/TSE/2385 | Event: Subscribe or Unsubscribe ok\n",
      "2393Response Code: 200 | Event Code: 16 | Info: QUO/v1/STK/*/TSE/2385 | Event: Subscribe or Unsubscribe ok\n",
      "\n",
      "2399Response Code: 200 | Event Code: 16 | Info: TIC/v1/STK/*/TSE/2388 | Event: Subscribe or Unsubscribe ok\n",
      "\n",
      "Response Code: 200 | Event Code: 16 | Info: QUO/v1/STK/*/TSE/2388 | Event: Subscribe or Unsubscribe ok\n",
      "Response Code: 200 | Event Code: 16 | Info: TIC/v1/STK/*/TSE/2390 | Event: Subscribe or Unsubscribe ok\n",
      "Response Code: 200 | Event Code: 16 | Info: QUO/v1/STK/*/TSE/2390 | Event: Subscribe or Unsubscribe ok\n",
      "2401\n",
      "Response Code: 200 | Event Code: 16 | Info: TIC/v1/STK/*/TSE/2392 | Event: Subscribe or Unsubscribe ok\n",
      "Response Code: 200 | Event Code: 16 | Info: QUO/v1/STK/*/TSE/2392 | Event: Subscribe or Unsubscribe ok\n",
      "Response Code: 200 | Event Code: 16 | Info: TIC/v1/STK/*/TSE/2393 | Event: Subscribe or Unsubscribe ok2406\n",
      "\n",
      "Response Code: 200 | Event Code: 16 | Info: QUO/v1/STK/*/TSE/2393 | Event: Subscribe or Unsubscribe ok2408\n",
      "\n",
      "Response Code: 200 | Event Code: 16 | Info: TIC/v1/STK/*/TSE/2399 | Event: Subscribe or Unsubscribe ok\n",
      "Response Code: 200 | Event Code: 16 | Info: QUO/v1/STK/*/TSE/2399 | Event: Subscribe or Unsubscribe ok\n",
      "2409Response Code: 200 | Event Code: 16 | Info: TIC/v1/STK/*/TSE/2401 | Event: Subscribe or Unsubscribe ok\n",
      "Response Code: 200 | Event Code: 16 | Info: QUO/v1/STK/*/TSE/2401 | Event: Subscribe or Unsubscribe ok\n",
      "Response Code: 200 | Event Code: 16 | Info: TIC/v1/STK/*/TSE/2406 | Event: Subscribe or Unsubscribe ok\n",
      "Response Code: 200 | Event Code: 16 | Info: QUO/v1/STK/*/TSE/2406 | Event: Subscribe or Unsubscribe ok\n",
      "Response Code: 200 | Event Code: 16 | Info: TIC/v1/STK/*/TSE/2408 | Event: Subscribe or Unsubscribe ok\n",
      "Response Code: 200 | Event Code: 16 | Info: QUO/v1/STK/*/TSE/2408 | Event: Subscribe or Unsubscribe ok\n",
      "\n",
      "2412\n",
      "2415\n",
      "2419Response Code: 200 | Event Code: 16 | Info: TIC/v1/STK/*/TSE/2409 | Event: Subscribe or Unsubscribe ok\n",
      "Response Code: 200 | Event Code: 16 | Info: QUO/v1/STK/*/TSE/2409 | Event: Subscribe or Unsubscribe ok\n",
      "\n",
      "2420\n",
      "Response Code: 200 | Event Code: 16 | Info: TIC/v1/STK/*/TSE/2412 | Event: Subscribe or Unsubscribe ok\n",
      "Response Code: 200 | Event Code: 16 | Info: QUO/v1/STK/*/TSE/2412 | Event: Subscribe or Unsubscribe ok\n",
      "2421Response Code: 200 | Event Code: 16 | Info: TIC/v1/STK/*/TSE/2415 | Event: Subscribe or Unsubscribe ok\n",
      "Response Code: 200 | Event Code: 16 | Info: QUO/v1/STK/*/TSE/2415 | Event: Subscribe or Unsubscribe ok\n",
      "\n",
      "Response Code: 200 | Event Code: 16 | Info: TIC/v1/STK/*/TSE/2419 | Event: Subscribe or Unsubscribe ok\n",
      "Response Code: 200 | Event Code: 16 | Info: QUO/v1/STK/*/TSE/2419 | Event: Subscribe or Unsubscribe ok\n",
      "2426Response Code: 200 | Event Code: 16 | Info: TIC/v1/STK/*/TSE/2420 | Event: Subscribe or Unsubscribe ok\n",
      "Response Code: 200 | Event Code: 16 | Info: QUO/v1/STK/*/TSE/2420 | Event: Subscribe or Unsubscribe ok\n",
      "Response Code: 200 | Event Code: 16 | Info: TIC/v1/STK/*/TSE/2421 | Event: Subscribe or Unsubscribe ok\n",
      "Response Code: 200 | Event Code: 16 | Info: QUO/v1/STK/*/TSE/2421 | Event: Subscribe or Unsubscribe ok\n",
      "2428\n",
      "\n",
      "2431Response Code: 200 | Event Code: 16 | Info: TIC/v1/STK/*/TSE/2426 | Event: Subscribe or Unsubscribe ok\n",
      "Response Code: 200 | Event Code: 16 | Info: QUO/v1/STK/*/TSE/2426 | Event: Subscribe or Unsubscribe ok\n",
      "Response Code: 200 | Event Code: 16 | Info: TIC/v1/STK/*/TSE/2428 | Event: Subscribe or Unsubscribe ok\n",
      "Response Code: 200 | Event Code: 16 | Info: QUO/v1/STK/*/TSE/2428 | Event: Subscribe or Unsubscribe ok\n",
      "\n",
      "2436\n",
      "2440\n",
      "Response Code: 200 | Event Code: 16 | Info: TIC/v1/STK/*/TSE/2431 | Event: Subscribe or Unsubscribe ok\n",
      "2441Response Code: 200 | Event Code: 16 | Info: QUO/v1/STK/*/TSE/2431 | Event: Subscribe or Unsubscribe ok\n",
      "Response Code: 200 | Event Code: 16 | Info: TIC/v1/STK/*/TSE/2436 | Event: Subscribe or Unsubscribe ok\n",
      "\n",
      "Response Code: 200 | Event Code: 16 | Info: QUO/v1/STK/*/TSE/2436 | Event: Subscribe or Unsubscribe ok\n",
      "Response Code: 200 | Event Code: 16 | Info: TIC/v1/STK/*/TSE/2440 | Event: Subscribe or Unsubscribe ok\n",
      "Response Code: 200 | Event Code: 16 | Info: QUO/v1/STK/*/TSE/2440 | Event: Subscribe or Unsubscribe ok\n",
      "2442\n",
      "Response Code: 200 | Event Code: 16 | Info: TIC/v1/STK/*/TSE/2441 | Event: Subscribe or Unsubscribe ok\n",
      "Response Code: 200 | Event Code: 16 | Info: QUO/v1/STK/*/TSE/2441 | Event: Subscribe or Unsubscribe ok\n",
      "2449Response Code: 200 | Event Code: 16 | Info: TIC/v1/STK/*/TSE/2442 | Event: Subscribe or Unsubscribe ok\n",
      "\n",
      "Response Code: 200 | Event Code: 16 | Info: QUO/v1/STK/*/TSE/2442 | Event: Subscribe or Unsubscribe ok\n",
      "2451\n",
      "Response Code: 200 | Event Code: 16 | Info: TIC/v1/STK/*/TSE/2449 | Event: Subscribe or Unsubscribe ok\n",
      "Response Code: 200 | Event Code: 16 | Info: QUO/v1/STK/*/TSE/2449 | Event: Subscribe or Unsubscribe ok\n",
      "2454\n",
      "2455\n",
      "2456\n",
      "2457\n",
      "2458\n",
      "2460\n",
      "2461\n",
      "2472\n",
      "2474\n",
      "2476\n",
      "2478\n",
      "2481\n",
      "2482\n",
      "2484\n",
      "2485Response Code: 200 | Event Code: 16 | Info: TIC/v1/STK/*/TSE/2451 | Event: Subscribe or Unsubscribe ok\n",
      "\n",
      "Response Code: 200 | Event Code: 16 | Info: QUO/v1/STK/*/TSE/2451 | Event: Subscribe or Unsubscribe ok\n",
      "2486Response Code: 200 | Event Code: 16 | Info: TIC/v1/STK/*/TSE/2454 | Event: Subscribe or Unsubscribe ok\n",
      "Response Code: 200 | Event Code: 16 | Info: QUO/v1/STK/*/TSE/2454 | Event: Subscribe or Unsubscribe ok\n",
      "\n",
      "2489\n",
      "2492\n",
      "2497\n",
      "2504\n",
      "2511\n",
      "2515\n",
      "2520\n",
      "2534\n",
      "Response Code: 200 | Event Code: 16 | Info: TIC/v1/STK/*/TSE/2455 | Event: Subscribe or Unsubscribe ok2537\n",
      "\n",
      "Response Code: 200 | Event Code: 16 | Info: QUO/v1/STK/*/TSE/2455 | Event: Subscribe or Unsubscribe ok\n",
      "2538Response Code: 200 | Event Code: 16 | Info: TIC/v1/STK/*/TSE/2456 | Event: Subscribe or Unsubscribe ok\n",
      "\n",
      "Response Code: 200 | Event Code: 16 | Info: QUO/v1/STK/*/TSE/2456 | Event: Subscribe or Unsubscribe ok\n",
      "2542\n",
      "2547Response Code: 200 | Event Code: 16 | Info: TIC/v1/STK/*/TSE/2457 | Event: Subscribe or Unsubscribe ok\n",
      "2601\n",
      "\n",
      "2603\n",
      "2605\n",
      "2606\n",
      "2607\n",
      "2609\n",
      "2610\n",
      "2612\n",
      "Response Code: 200 | Event Code: 16 | Info: QUO/v1/STK/*/TSE/2457 | Event: Subscribe or Unsubscribe ok2614\n",
      "\n",
      "2615Response Code: 200 | Event Code: 16 | Info: TIC/v1/STK/*/TSE/2458 | Event: Subscribe or Unsubscribe ok\n"
     ]
    },
    {
     "name": "stdout",
     "output_type": "stream",
     "text": [
      "Response Code: 200 | Event Code: 16 | Info: QUO/v1/STK/*/TSE/2458 | Event: Subscribe or Unsubscribe ok\n",
      "\n",
      "2617Response Code: 200 | Event Code: 16 | Info: TIC/v1/STK/*/TSE/2460 | Event: Subscribe or Unsubscribe ok\n",
      "\n",
      "2618\n",
      "2633\n",
      "2634\n",
      "2636\n",
      "2637\n",
      "2641\n",
      "2801Response Code: 200 | Event Code: 16 | Info: QUO/v1/STK/*/TSE/2460 | Event: Subscribe or Unsubscribe ok\n",
      "\n",
      "Response Code: 200 | Event Code: 16 | Info: TIC/v1/STK/*/TSE/2461 | Event: Subscribe or Unsubscribe ok2809\n",
      "2812\n",
      "2820\n",
      "2823\n",
      "2834\n",
      "2838\n",
      "2841\n",
      "2845\n",
      "2855\n",
      "\n",
      "2867\n",
      "2880\n",
      "2881\n",
      "2882\n",
      "2883\n",
      "2884\n",
      "2885\n",
      "2886Response Code: 200 | Event Code: 16 | Info: QUO/v1/STK/*/TSE/2461 | Event: Subscribe or Unsubscribe ok\n",
      "\n",
      "Response Code: 200 | Event Code: 16 | Info: TIC/v1/STK/*/TSE/2472 | Event: Subscribe or Unsubscribe ok\n",
      "Response Code: 200 | Event Code: 16 | Info: QUO/v1/STK/*/TSE/2472 | Event: Subscribe or Unsubscribe ok\n",
      "2887\n",
      "2888\n",
      "Response Code: 200 | Event Code: 16 | Info: TIC/v1/STK/*/TSE/2474 | Event: Subscribe or Unsubscribe ok\n",
      "2889Response Code: 200 | Event Code: 16 | Info: QUO/v1/STK/*/TSE/2474 | Event: Subscribe or Unsubscribe ok\n",
      "\n",
      "2890\n",
      "2891\n",
      "2892\n",
      "2897\n",
      "2912\n",
      "2913Response Code: 200 | Event Code: 16 | Info: TIC/v1/STK/*/TSE/2476 | Event: Subscribe or Unsubscribe ok\n",
      "Response Code: 200 | Event Code: 16 | Info: QUO/v1/STK/*/TSE/2476 | Event: Subscribe or Unsubscribe ok\n",
      "3006\n",
      "3011\n",
      "3014\n",
      "3016\n",
      "3017\n",
      "3019\n",
      "3021\n",
      "3027\n",
      "\n",
      "3031Response Code: 200 | Event Code: 16 | Info: TIC/v1/STK/*/TSE/2478 | Event: Subscribe or Unsubscribe ok\n",
      "\n",
      "3033\n",
      "3034\n",
      "3037\n",
      "3042Response Code: 200 | Event Code: 16 | Info: QUO/v1/STK/*/TSE/2478 | Event: Subscribe or Unsubscribe ok\n",
      "3044\n",
      "3045\n",
      "3046\n",
      "\n",
      "Response Code: 200 | Event Code: 16 | Info: TIC/v1/STK/*/TSE/2481 | Event: Subscribe or Unsubscribe ok\n",
      "Response Code: 200 | Event Code: 16 | Info: QUO/v1/STK/*/TSE/2481 | Event: Subscribe or Unsubscribe ok\n",
      "Response Code: 200 | Event Code: 16 | Info: TIC/v1/STK/*/TSE/2482 | Event: Subscribe or Unsubscribe ok\n",
      "Response Code: 200 | Event Code: 16 | Info: QUO/v1/STK/*/TSE/2482 | Event: Subscribe or Unsubscribe ok\n",
      "Response Code: 200 | Event Code: 16 | Info: TIC/v1/STK/*/TSE/2484 | Event: Subscribe or Unsubscribe ok\n",
      "Response Code: 200 | Event Code: 16 | Info: QUO/v1/STK/*/TSE/2484 | Event: Subscribe or Unsubscribe ok\n",
      "Response Code: 200 | Event Code: 16 | Info: TIC/v1/STK/*/TSE/2485 | Event: Subscribe or Unsubscribe ok\n",
      "Response Code: 200 | Event Code: 16 | Info: QUO/v1/STK/*/TSE/2485 | Event: Subscribe or Unsubscribe ok\n"
     ]
    }
   ],
   "source": [
    "for i in range(126,250):\n",
    "    ticker = sorted(open_thresholds.keys())[i]\n",
    "#     print(ticker)\n",
    "    api1.quote.subscribe(\n",
    "        api1.Contracts.Stocks[ticker], \n",
    "        quote_type = sj.constant.QuoteType.Tick, # or 'tick'\n",
    "        version = sj.constant.QuoteVersion.v1 # or 'v1'\n",
    "    )\n",
    "    api1.quote.subscribe(\n",
    "        api1.Contracts.Stocks[ticker], \n",
    "        quote_type = sj.constant.QuoteType.BidAsk, # or 'tick'\n",
    "        version = sj.constant.QuoteVersion.v1 # or 'v1'\n",
    "    )"
   ]
  }
 ],
 "metadata": {
  "hide_input": false,
  "kernelspec": {
   "display_name": "Python 3",
   "language": "python",
   "name": "python3"
  },
  "language_info": {
   "codemirror_mode": {
    "name": "ipython",
    "version": 3
   },
   "file_extension": ".py",
   "mimetype": "text/x-python",
   "name": "python",
   "nbconvert_exporter": "python",
   "pygments_lexer": "ipython3",
   "version": "3.7.8"
  },
  "toc": {
   "base_numbering": 1,
   "nav_menu": {},
   "number_sections": true,
   "sideBar": true,
   "skip_h1_title": false,
   "title_cell": "Table of Contents",
   "title_sidebar": "Contents",
   "toc_cell": false,
   "toc_position": {},
   "toc_section_display": true,
   "toc_window_display": false
  },
  "varInspector": {
   "cols": {
    "lenName": 16,
    "lenType": 16,
    "lenVar": 40
   },
   "kernels_config": {
    "python": {
     "delete_cmd_postfix": "",
     "delete_cmd_prefix": "del ",
     "library": "var_list.py",
     "varRefreshCmd": "print(var_dic_list())"
    },
    "r": {
     "delete_cmd_postfix": ") ",
     "delete_cmd_prefix": "rm(",
     "library": "var_list.r",
     "varRefreshCmd": "cat(var_dic_list()) "
    }
   },
   "types_to_exclude": [
    "module",
    "function",
    "builtin_function_or_method",
    "instance",
    "_Feature"
   ],
   "window_display": false
  }
 },
 "nbformat": 4,
 "nbformat_minor": 4
}
