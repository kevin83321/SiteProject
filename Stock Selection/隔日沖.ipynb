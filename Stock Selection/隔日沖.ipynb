{
 "cells": [
  {
   "cell_type": "code",
   "execution_count": 1,
   "metadata": {
    "ExecuteTime": {
     "end_time": "2022-11-03T02:36:18.089374Z",
     "start_time": "2022-11-03T02:36:17.257375Z"
    },
    "scrolled": true
   },
   "outputs": [
    {
     "name": "stderr",
     "output_type": "stream",
     "text": [
      "c:\\users\\kevin\\appdata\\local\\programs\\python\\python37\\lib\\site-packages\\mpl_finance.py:22: DeprecationWarning: \n",
      "\n",
      "  =================================================================\n",
      "\n",
      "   WARNING: `mpl_finance` is deprecated:\n",
      "\n",
      "    Please use `mplfinance` instead (no hyphen, no underscore).\n",
      "\n",
      "    To install: `pip install --upgrade mplfinance` \n",
      "\n",
      "   For more information, see: https://pypi.org/project/mplfinance/\n",
      "\n",
      "  =================================================================\n",
      "\n",
      "  category=DeprecationWarning)\n"
     ]
    }
   ],
   "source": [
    "__updated__ = '2021-12-28 21:30:56'\n",
    "import warnings\n",
    "warnings.filterwarnings(\"ignore\")\n",
    "\n",
    "from Calculator import Calculator as Calc\n",
    "# from PlotTools import createPlot\n",
    "from utils import (\n",
    "    pd, np, getSchema, getDateBeforeTrade, \n",
    "    saveRecommand, timedelta, GetException,\n",
    "    sendResultTable, VolumeFilter, PriceFilter,\n",
    "    changedType, datetime\n",
    ")\n",
    "import os\n",
    "parent = os.path.dirname(os.path.abspath(\"__file__\"))\n",
    "output_path = os.path.join(parent, 'StrongResearch', 'CrossDayTrade_v3')\n",
    "if not os.path.isdir(output_path):\n",
    "    os.makedirs(output_path)\n",
    "    \n"
   ]
  },
  {
   "cell_type": "code",
   "execution_count": 2,
   "metadata": {
    "ExecuteTime": {
     "end_time": "2022-11-03T02:36:19.155326Z",
     "start_time": "2022-11-03T02:36:19.141332Z"
    },
    "code_folding": [
     0
    ]
   },
   "outputs": [],
   "source": [
    "def getLimit(price, pct=0.1, trend=\"U\"):\n",
    "    tmp_price = price\n",
    "    if trend == \"U\":\n",
    "        while 1:\n",
    "            tick = Calc.get_minimum_tick(tmp_price)\n",
    "            tmp_price += tick\n",
    "            if (tmp_price/price) > 1 + pct:\n",
    "                tmp_price -= tick\n",
    "                break\n",
    "    elif trend == \"D\":\n",
    "        while 1:\n",
    "            tick = Calc.get_minimum_tick(tmp_price)\n",
    "            tmp_price -= tick\n",
    "            if (tmp_price/price) < 1 - pct:\n",
    "                tmp_price += tick\n",
    "                break\n",
    "            \n",
    "    return round(tmp_price, 2)"
   ]
  },
  {
   "cell_type": "code",
   "execution_count": 21,
   "metadata": {
    "ExecuteTime": {
     "end_time": "2022-11-04T02:53:49.815433Z",
     "start_time": "2022-11-04T02:53:49.773440Z"
    },
    "code_folding": []
   },
   "outputs": [],
   "source": [
    "def BacktestCrossDayTradeV3(td= datetime.today(), tp_ratio=.02, sl_ratio=.05):\n",
    "    try:\n",
    "        if td.isocalendar()[-1] > 5:\n",
    "            tdStr = td.strftime(\"%Y-%m-%d\")\n",
    "            print(f\"It\\'s Holiday {tdStr}\")\n",
    "            return\n",
    "        td, last = getDateBeforeTrade(td.replace(hour=18))\n",
    "        pre_1y = td + timedelta(-365)\n",
    "        tdStr = td.strftime(\"%Y-%m-%d\")\n",
    "        print(f\"=============Start Backtest {tdStr}==================\")\n",
    "        # setup data\n",
    "        schema = getSchema('TWSE')\n",
    "        table = schema['StockList']\n",
    "        last_date = sorted(table.distinct(\"UpdateDate\"))[-1]\n",
    "        info_data = dict((x['Ticker'], x['Industry']+f\"({x['Market'][-1]})\") for x in table.find({\"UpdateDate\":{\"$eq\":last_date}, \"Industry\" :{\"$ne\":\"\"}}))\n",
    "\n",
    "        schema = getSchema('TWSE')\n",
    "        table = schema['historicalPrice']\n",
    "        \n",
    "        test_data = list(table.find({'Date':{'$gte':td.strftime('%Y-%m-%d'), '$lte':td.strftime('%Y-%m-%d')}, \"Ticker\" :{\"$eq\":\"2330\"}}))\n",
    "        if not test_data:\n",
    "            print(f\"It\\'s Holiday {tdStr}\")\n",
    "            return\n",
    "        data = list(table.find({'Date':{'$gte':last.strftime('%Y-%m-%d'), '$lte':td.strftime('%Y-%m-%d')}, \"Ticker\" :{\"$in\":list(info_data.keys())}}))\n",
    "        df = pd.DataFrame(data)\n",
    "        if len(df.Date.unique()) <= 1:\n",
    "            data = list(table.find({'Date':{'$gte':(td+timedelta(-30)).strftime('%Y-%m-%d'), '$lte':td.strftime('%Y-%m-%d')}, \"Ticker\" :{\"$in\":list(info_data.keys())}}))\n",
    "            df = pd.DataFrame(data)\n",
    "            df = df[df.Date.isin(sorted(df.Date.unique())[-2:])]\n",
    "            for col in 'Open,High,Low,Close,Volume'.split(','):\n",
    "                df[col] = df[col].apply(changedType)\n",
    "        \n",
    "        print(\"Start Stock Picking\")\n",
    "        StrongTickers = []\n",
    "        for ticker in list(info_data.keys()):\n",
    "            try:\n",
    "#                 print(\"Check\", ticker)\n",
    "                temp_data = list(table.find({'Date':{'$gte':pre_1y.strftime('%Y-%m-%d'), '$lte':last.strftime('%Y-%m-%d')}, \"Ticker\" :{\"$eq\":ticker}}))\n",
    "                temp_df = pd.DataFrame(temp_data)\n",
    "                for col in 'Open,High,Low,Close,Volume'.split(','):\n",
    "                    temp_df[col] = temp_df[col].apply(changedType)\n",
    "                temp_df = Calc.MA(temp_df, [5, 10, 20, 60])\n",
    "                \n",
    "                uplimit = getLimit(temp_df.Close.iloc[-4], .1)\n",
    "#                 dnlimit = getLimit(temp_df.Close.iloc[-], sl_ratio, trend=\"D\")\n",
    "                \n",
    "                last_2_bar = temp_df.Close.iloc[-2] < temp_df.Open.iloc[-2]\n",
    "                last_1_bar = temp_df.Close.iloc[-1] < temp_df.Open.iloc[-1]\n",
    "                long_trend = temp_df.MA5.iloc[-1] > temp_df.MA10.iloc[-1] and temp_df.MA10.iloc[-1] > temp_df.MA20.iloc[-1] and temp_df.MA20.iloc[-1] > temp_df.MA60.iloc[-1]\n",
    "                test_ma5 = temp_df.Close.iloc[-1] > temp_df.MA5.iloc[-1] and temp_df.Close.iloc[-2] > temp_df.MA5.iloc[-2] and temp_df.Close.iloc[-3] > temp_df.MA5.iloc[-3]\n",
    "                slope_60 = temp_df.MA60.iloc[-1] > temp_df.MA60.iloc[-2]\n",
    "                if temp_df.Close.iloc[-3] >= uplimit and last_2_bar and last_1_bar and long_trend and test_ma5 and slope_60:\n",
    "                    print(\"Check\", ticker)\n",
    "#                 if temp_df.High.iloc[-1] >= uplimit and temp_df.Volume.iloc[-2] / 1000 >= 1000: #  and temp_df['LowRet'].iloc[-1] > -.05\n",
    "                    StrongTickers.append(ticker)\n",
    "            except KeyboardInterrupt:\n",
    "                raise KeyboardInterrupt\n",
    "            except:\n",
    "                print(GetException())\n",
    "                pass\n",
    "        print(td, StrongTickers)\n",
    "        with open(os.path.join(output_path, f'{td.strftime(\"%Y%m%d\")}_StrongTicker.csv'), 'w', encoding='utf-8') as f:\n",
    "            for ticker in StrongTickers:\n",
    "                f.writelines(ticker + '\\n')\n",
    "#         for ticker in StrongTickers:\n",
    "#             tmp_df = df[df.Ticker == ticker]\n",
    "#             entry_ = tmp_df.Close.iloc[-2]\n",
    "            \n",
    "        selected = StrongTickers\n",
    "#         selected = []\n",
    "#         for ticker in list(info_data.keys()):\n",
    "#         #     print(ticker)\n",
    "#             try:\n",
    "#                 tmp_data = list(table.find({'Date':{'$gte':pre_1y.strftime('%Y-%m-%d'), '$lte':td.strftime('%Y-%m-%d')}, \"Ticker\" :{\"$eq\":ticker}}))\n",
    "\n",
    "#                 tmp_df = pd.DataFrame(tmp_data)\n",
    "#                 for col in 'Open,High,Low,Close,Volume'.split(','):\n",
    "#                     tmp_df[col] = tmp_df[col].apply(changedType)\n",
    "\n",
    "#                 tmp_df = Calc.MA(tmp_df, [5,10,20])\n",
    "#                 tmp_df['Adj V'] = tmp_df.Volume.apply(lambda x: int(x/1000))\n",
    "#                 if tmp_df['Adj V'].iloc[-1] < 1000:\n",
    "#                     continue\n",
    "#                 tmp_df['VMA5'] = tmp_df['Adj V'].rolling(5).mean()\n",
    "#                 tmp_df['VMA10'] = tmp_df['Adj V'].rolling(10).mean()\n",
    "#                 tmp_df['VMA20'] = tmp_df['Adj V'].rolling(20).mean()\n",
    "\n",
    "#                 tmp_df['VSlope5'] = tmp_df['VMA5'].pct_change()\n",
    "#                 tmp_df['VSlope10'] = tmp_df['VMA10'].pct_change()\n",
    "#                 tmp_df['VSlope20'] = tmp_df['VMA20'].pct_change()\n",
    "\n",
    "#                 tmp_df['Slope5'] = tmp_df['MA5'].pct_change()\n",
    "#                 tmp_df['Slope10'] = tmp_df['MA10'].pct_change()\n",
    "#                 tmp_df['Slope20'] = tmp_df['MA20'].pct_change()\n",
    "#                 tmp_df['HC'] = tmp_df['High'] / tmp_df['Close'].shift(1) - 1\n",
    "#                 tmp_df['HCMA'] = tmp_df['HC'].rolling(5).mean()# >= .05\n",
    "#                 v_slope_condi = tmp_df.VSlope10.iloc[-1] > 0 and tmp_df.VSlope20.iloc[-1] > 0 and tmp_df.VSlope5.iloc[-1] > 0\n",
    "#                 p_slope_condi = tmp_df.Slope10.iloc[-1] > 0 and tmp_df.Slope20.iloc[-1] > 0\n",
    "#                 tr_condi = tmp_df['HCMA'].iloc[-1] >= .05\n",
    "#                 v_condi = min(tmp_df['VMA5'].iloc[-1], tmp_df['VMA20'].iloc[-1]) >= 5000\n",
    "#                 p_condi = tmp_df.Close.iloc[-1] < 500\n",
    "#                 pct_condi = tmp_df['Close'].pct_change().iloc[-1] >= .06\n",
    "# #                 k_condi_1 = not ((tmp_df['Close'].iloc[-1] < tmp_df['Open'].iloc[-1] or tmp_df['Close'].pct_change().iloc[-1] < 0) and tmp_df['Adj V'].pct_change().iloc[-1] < 0)\n",
    "# #                 k_condi_2 = not (tmp_df['Close'].iloc[-1] < tmp_df['Open'].iloc[-1] and round(tmp_df['Adj V'].pct_change().iloc[-1],2) >= 1)\n",
    "# #                 k_condi = all([k_condi_1, k_condi_2])\n",
    "#                 tmp_tick = Calc.get_minimum_tick(tmp_df.Close.iloc[-1])\n",
    "#                 limit_condi = True\n",
    "#                 if (tmp_df.Close.iloc[-1] + tmp_tick) / tmp_df.Close.iloc[-2] > 1.1:\n",
    "#                     limit_condi = False\n",
    "#                 if (tmp_df.Close.iloc[-1] - tmp_tick) / tmp_df.Close.iloc[-2] < 0.9:\n",
    "#                     limit_condi = False\n",
    "#                 if v_slope_condi and p_slope_condi and tr_condi and v_condi and p_condi and limit_condi and pct_condi: #  and k_condi\n",
    "#                     selected.append(ticker)\n",
    "#             except:\n",
    "#                 pass\n",
    "#         print(selected, len(selected), '\\n')\n",
    "        if selected:\n",
    "            ShowProfitable(selected, StrongTickers)\n",
    "            CalculateBacktestResult(td, df, selected, StrongTickers, tp_ratio, sl_ratio)\n",
    "        else:\n",
    "            print(\"沒有符合條件的標的\")\n",
    "    except KeyboardInterrupt:\n",
    "        raise KeyboardInterrupt\n",
    "    except Exception as e:\n",
    "        print(f\"It\\'s Holiday {tdStr}, {e}\")\n",
    "        print(GetException())\n",
    "        pass"
   ]
  },
  {
   "cell_type": "code",
   "execution_count": 11,
   "metadata": {
    "ExecuteTime": {
     "end_time": "2022-11-04T00:57:03.573416Z",
     "start_time": "2022-11-04T00:57:03.543417Z"
    },
    "code_folding": [
     0,
     7
    ]
   },
   "outputs": [],
   "source": [
    "def ShowProfitable(selected, StrongTickers):\n",
    "    profitable = list(set(selected).intersection(StrongTickers))\n",
    "    unprofitable = list(set(selected).difference(StrongTickers))\n",
    "    \n",
    "    print('profitable',profitable, len(profitable))\n",
    "    print('unprofitable',unprofitable, len(unprofitable))\n",
    "\n",
    "def CalculateBacktestResult(td, df, selected, StrongTickers, tp_ratio=.02, sl_ratio=.05):\n",
    "    try:\n",
    "#         print(td, StrongTickers)\n",
    "        with open(os.path.join(output_path, f'{td.strftime(\"%Y%m%d\")}_ProfitLoss.csv'), 'w', encoding='utf-8') as f:\n",
    "            f.writelines('Ticker,P/L,OpenRet,HighRet,LowRet,CloseRet,pnl\\n')#,TakeProfit,StopLoss\n",
    "            print('Ticker,P/L,Open,High,Low,Close,pnl,TakeProfit,StopLoss\\n')\n",
    "            total_pnl = 0\n",
    "            num_win = 0\n",
    "            total_trade_value = 0\n",
    "            for col in 'Open,High,Low,Close,Volume'.split(','):\n",
    "                df[col] = df[col].apply(changedType)\n",
    "            for ticker in StrongTickers:\n",
    "                temp_df = df[df.Ticker==ticker]\n",
    "#                 print(temp_df.Close.iloc[-2], type(temp_df.Close.iloc[-2]))\n",
    "                uplimit = getLimit(temp_df.Close.iloc[-2], tp_ratio)\n",
    "                upRet = (uplimit / temp_df.Close.iloc[-2] - 1) * 100\n",
    "                dnlimit = getLimit(temp_df.Close.iloc[-2], sl_ratio, trend=\"D\")\n",
    "                dnRet = (dnlimit / temp_df.Close.iloc[-2] - 1) * 100\n",
    "\n",
    "                temp_df['HighRet'] = (temp_df.High.iloc[-1] / temp_df.Close.iloc[-2] - 1) * 100\n",
    "                temp_df['Ret'] = (temp_df.Close.iloc[-1] / temp_df.Close.iloc[-2] - 1) * 100\n",
    "                temp_df['LowRet'] = (temp_df.Low.iloc[-1] / temp_df.Close.iloc[-2] - 1) * 100\n",
    "                temp_df['OpenRet'] = (temp_df.Open.iloc[-1] / temp_df.Close.iloc[-2] - 1) * 100\n",
    "\n",
    "                earning = 0\n",
    "                exit = 0\n",
    "                if temp_df['Open'].iloc[-1] >= uplimit:\n",
    "                    exit = temp_df['Open'].iloc[-1]\n",
    "                elif temp_df['Low'].iloc[-1] >= uplimit:\n",
    "                    exit = temp_df['Low'].iloc[-1]\n",
    "                elif temp_df['High'].iloc[-1] >= uplimit:\n",
    "                    exit = uplimit\n",
    "                if exit:\n",
    "                    num_win += 1\n",
    "\n",
    "                if not exit:\n",
    "                    if temp_df['Open'].iloc[-1] <= dnlimit:\n",
    "                        exit = temp_df['Open'].iloc[-1]\n",
    "                    elif temp_df['High'].iloc[-1] <= dnlimit:\n",
    "                        exit = temp_df['High'].iloc[-1]\n",
    "                    elif temp_df['Low'].iloc[-1] <= dnlimit:\n",
    "                        exit = dnlimit # temp_df.Close.iloc[-2] * (1 - .05)\n",
    "                    else:\n",
    "                        exit = temp_df['Close'].iloc[-1]\n",
    "                print(f\"{ticker}, take profit price :{uplimit}, stop loss price:{dnlimit}, entry : {temp_df.Close.iloc[-2]}. exit : {exit}\")\n",
    "\n",
    "                earning = int((exit - temp_df.Close.iloc[-2]) * 1000)\n",
    "                earning -= round(temp_df.Close.iloc[-2] * 1.425)\n",
    "                earning -= round(exit * 4.425)\n",
    "\n",
    "                pnl = 'profit' if earning > 0 else 'loss'\n",
    "                total_pnl += earning \n",
    "                total_trade_value += temp_df.Close.iloc[-2] * 1000\n",
    "                text = f\"{ticker},{pnl},{round(temp_df['OpenRet'].iloc[-1], 2)}%,{round(temp_df['HighRet'].iloc[-1], 2)}%,{round(temp_df['LowRet'].iloc[-1], 2)}%,{round(temp_df['Ret'].iloc[-1], 2)}%,{earning}\\n\"\n",
    "    #             text = f\"{ticker},{pnl},{round(temp_df['Open'].iloc[-1], 2)},{round(temp_df['High'].iloc[-1], 2)},{round(temp_df['Low'].iloc[-1], 2)},{round(temp_df['Close'].iloc[-1], 2)},{earning},{uplimit},{dnlimit}\\n\"\n",
    "                f.writelines(text)\n",
    "                text = f\"股票={ticker},損/益={pnl},隔日開盤={temp_df['Open'].iloc[-1]},隔日最高={temp_df['High'].iloc[-1]},隔日收盤={temp_df['Close'].iloc[-1]},隔日最低={temp_df['Low'].iloc[-1]},損益金額={earning},漲停價={uplimit},跌停價={dnlimit}\\n\"\n",
    "                print(text)\n",
    "            total_ret = round((total_pnl / total_trade_value) * 100, 2)\n",
    "            win_probability = round(num_win / len(selected)*100, 2)\n",
    "            f.writelines(f\"total,{win_probability}%,,,,{total_ret}%,{total_pnl},{total_trade_value}\\n\")\n",
    "            print(f\"total,勝率={win_probability}%,,,總報酬率={total_ret}%,,總損益={total_pnl},總交易金額={total_trade_value}\\n\")\n",
    "    except Exception as e:\n",
    "        print(\"CalculateBacktestResult, Error :\",e)\n",
    "        print(GetException())"
   ]
  },
  {
   "cell_type": "code",
   "execution_count": 22,
   "metadata": {
    "ExecuteTime": {
     "end_time": "2022-11-04T02:55:57.835417Z",
     "start_time": "2022-11-04T02:53:50.001444Z"
    },
    "scrolled": true
   },
   "outputs": [
    {
     "name": "stdout",
     "output_type": "stream",
     "text": [
      "It's Holiday 2020-08-01\n",
      "It's Holiday 2020-08-02\n",
      "2020-08-03 18:00:00\n",
      "=============Start Backtest 2020-08-03==================\n",
      "Start Stock Picking\n",
      " In (<ipython-input-21-1fcecfae481a>, Line 41 'temp_df[col] = temp_df[col].apply(changedType)') : 'Open'\n",
      " In (<ipython-input-21-1fcecfae481a>, Line 41 'temp_df[col] = temp_df[col].apply(changedType)') : 'Open'\n",
      " In (<ipython-input-21-1fcecfae481a>, Line 41 'temp_df[col] = temp_df[col].apply(changedType)') : 'Open'\n",
      " In (<ipython-input-21-1fcecfae481a>, Line 41 'temp_df[col] = temp_df[col].apply(changedType)') : 'Open'\n",
      "Check 3694\n",
      " In (<ipython-input-21-1fcecfae481a>, Line 41 'temp_df[col] = temp_df[col].apply(changedType)') : 'Open'\n",
      "Check 6405\n",
      " In (<ipython-input-21-1fcecfae481a>, Line 41 'temp_df[col] = temp_df[col].apply(changedType)') : 'Open'\n",
      " In (<ipython-input-21-1fcecfae481a>, Line 41 'temp_df[col] = temp_df[col].apply(changedType)') : 'Open'\n",
      " In (<ipython-input-21-1fcecfae481a>, Line 41 'temp_df[col] = temp_df[col].apply(changedType)') : 'Open'\n",
      " In (<ipython-input-21-1fcecfae481a>, Line 41 'temp_df[col] = temp_df[col].apply(changedType)') : 'Open'\n",
      "Check 8467\n",
      " In (<ipython-input-21-1fcecfae481a>, Line 41 'temp_df[col] = temp_df[col].apply(changedType)') : 'Open'\n",
      " In (<ipython-input-21-1fcecfae481a>, Line 41 'temp_df[col] = temp_df[col].apply(changedType)') : 'Open'\n",
      " In (<ipython-input-21-1fcecfae481a>, Line 41 'temp_df[col] = temp_df[col].apply(changedType)') : 'Open'\n"
     ]
    }
   ],
   "source": [
    "# for date in pd.date_range(datetime(2021, 7, 1), datetime.today()):\n",
    "# for date in pd.date_range(datetime(2018, 1, 2), datetime(2021,12,31)):# datetime(2020,12,31)\n",
    "for date in pd.date_range(datetime(2020, 8, 1), datetime(2021,12,31)):# datetime(2020,12,31)\n",
    "    try:\n",
    "        BacktestCrossDayTradeV3(date, .02, .025)\n",
    "    except KeyboardInterrupt:\n",
    "        break"
   ]
  },
  {
   "cell_type": "code",
   "execution_count": 20,
   "metadata": {
    "ExecuteTime": {
     "end_time": "2022-11-03T02:34:17.171914Z",
     "start_time": "2022-11-03T02:33:38.238208Z"
    },
    "scrolled": true
   },
   "outputs": [
    {
     "name": "stdout",
     "output_type": "stream",
     "text": [
      "2020-07-28 18:00:00\n",
      "=============Start Backtest 2020-07-28==================\n",
      "profitable ['3413', '5487', '6449', '6208', '2383', '1418'] 6\n",
      "unprofitable [] 0\n",
      "Ticker,P/L,Open,High,Low,Close,pnl,TakeProfit,StopLoss\n",
      "\n",
      "8.91 <class 'numpy.float64'>\n",
      "1418, take profit price :9.08, stop loss price:8.69, entry : 8.91. exit : 8.8\n",
      "股票=1418,損/益=loss,隔日開盤=8.91,隔日最高=8.91,隔日收盤=8.8,隔日最低=8.8,損益金額=-161,漲停價=9.08,跌停價=8.69\n",
      "\n",
      "169.5 <class 'numpy.float64'>\n",
      "2383, take profit price :172.5, stop loss price:165.5, entry : 169.5. exit : 172.5\n",
      "股票=2383,損/益=profit,隔日開盤=171.0,隔日最高=175.0,隔日收盤=167.0,隔日最低=165.5,損益金額=1995,漲停價=172.5,跌停價=165.5\n",
      "\n",
      "209.0 <class 'numpy.float64'>\n",
      "3413, take profit price :213.0, stop loss price:204.0, entry : 209.0. exit : 213.0\n",
      "股票=3413,損/益=profit,隔日開盤=211.5,隔日最高=217.0,隔日收盤=202.5,隔日最低=201.0,損益金額=2759,漲停價=213.0,跌停價=204.0\n",
      "\n",
      "38.8 <class 'numpy.float64'>\n",
      "6449, take profit price :39.55, stop loss price:37.85, entry : 38.8. exit : 39.55\n",
      "股票=6449,損/益=profit,隔日開盤=39.35,隔日最高=39.65,隔日收盤=36.7,隔日最低=35.65,損益金額=520,漲停價=39.55,跌停價=37.85\n",
      "\n",
      "36.05 <class 'numpy.float64'>\n",
      "5487, take profit price :36.75, stop loss price:35.15, entry : 36.05. exit : 35.15\n",
      "股票=5487,損/益=loss,隔日開盤=35.8,隔日最高=36.2,隔日收盤=35.1,隔日最低=35.0,損益金額=-1106,漲停價=36.75,跌停價=35.15\n",
      "\n",
      "37.3 <class 'numpy.float64'>\n",
      "6208, take profit price :38.0, stop loss price:36.4, entry : 37.3. exit : 38.0\n",
      "股票=6208,損/益=profit,隔日開盤=37.5,隔日最高=38.6,隔日收盤=35.0,隔日最低=34.45,損益金額=479,漲停價=38.0,跌停價=36.4\n",
      "\n",
      "total,勝率=66.67%,,,總報酬率=0.9%,,總損益=4486,總交易金額=499560.0\n",
      "\n"
     ]
    }
   ],
   "source": [
    "# for date in pd.date_range(datetime(2021, 7, 1), datetime.today()):\n",
    "#     try:\n",
    "date = datetime(2020,7,28)\n",
    "BacktestCrossDayTradeV3(date, .02, .025)\n",
    "#     except KeyboardInterrupt:\n",
    "#         break"
   ]
  },
  {
   "cell_type": "code",
   "execution_count": 6,
   "metadata": {
    "ExecuteTime": {
     "end_time": "2022-11-01T08:56:16.984698Z",
     "start_time": "2022-11-01T08:56:16.231750Z"
    }
   },
   "outputs": [],
   "source": [
    "pnl_cum = []\n",
    "for back_date in pd.date_range(datetime(2018,1,1), datetime.today()):#\n",
    "# for back_date in pd.date_range(datetime(2021,8,1), datetime(2022,8,31)):#.today()\n",
    "    dtStr = back_date.strftime(\"%Y%m%d\")\n",
    "    f_path = os.path.join(output_path, f\"{dtStr}_ProfitLoss.csv\")\n",
    "    if os.path.isfile(f_path):\n",
    "        try:\n",
    "            with open(f_path, 'r') as f:\n",
    "                lines = f.readlines()\n",
    "#                 print(dtStr, lines[-1])\n",
    "                pnl_cum.append({\n",
    "                    \"Date\":back_date.strftime(\"%Y-%m-%d\"),\n",
    "                    \"PnL\":int(lines[-1].split(',')[-2]),\n",
    "                    \"TradeValue\":int(float(lines[-1].split(',')[-1]))\n",
    "                })\n",
    "        except:\n",
    "            print(lines[-1])\n",
    "            "
   ]
  },
  {
   "cell_type": "code",
   "execution_count": 14,
   "metadata": {
    "ExecuteTime": {
     "end_time": "2022-11-01T08:58:49.084471Z",
     "start_time": "2022-11-01T08:58:49.071471Z"
    },
    "scrolled": false
   },
   "outputs": [],
   "source": [
    "pnl_df = pd.DataFrame(pnl_cum).set_index('Date')#.PnL.cumsum().plot(figsize=(16,8))"
   ]
  },
  {
   "cell_type": "code",
   "execution_count": 18,
   "metadata": {
    "ExecuteTime": {
     "end_time": "2022-11-01T09:00:56.547336Z",
     "start_time": "2022-11-01T09:00:56.527341Z"
    }
   },
   "outputs": [
    {
     "data": {
      "text/plain": [
       "(76, 53, 0.5891472868217055)"
      ]
     },
     "execution_count": 18,
     "metadata": {},
     "output_type": "execute_result"
    }
   ],
   "source": [
    "pnl_df[pnl_df.PnL>0].shape[0], pnl_df[pnl_df.PnL<=0].shape[0], pnl_df[pnl_df.PnL>0].shape[0] / pnl_df.shape[0]"
   ]
  },
  {
   "cell_type": "code",
   "execution_count": 13,
   "metadata": {
    "ExecuteTime": {
     "end_time": "2022-11-01T08:58:49.084471Z",
     "start_time": "2022-11-01T08:58:49.071471Z"
    },
    "scrolled": false
   },
   "outputs": [
    {
     "data": {
      "text/html": [
       "<div>\n",
       "<style scoped>\n",
       "    .dataframe tbody tr th:only-of-type {\n",
       "        vertical-align: middle;\n",
       "    }\n",
       "\n",
       "    .dataframe tbody tr th {\n",
       "        vertical-align: top;\n",
       "    }\n",
       "\n",
       "    .dataframe thead th {\n",
       "        text-align: right;\n",
       "    }\n",
       "</style>\n",
       "<table border=\"1\" class=\"dataframe\">\n",
       "  <thead>\n",
       "    <tr style=\"text-align: right;\">\n",
       "      <th></th>\n",
       "      <th>PnL</th>\n",
       "      <th>TradeValue</th>\n",
       "    </tr>\n",
       "    <tr>\n",
       "      <th>Date</th>\n",
       "      <th></th>\n",
       "      <th></th>\n",
       "    </tr>\n",
       "  </thead>\n",
       "  <tbody>\n",
       "    <tr>\n",
       "      <th>2018-01-03</th>\n",
       "      <td>1119</td>\n",
       "      <td>55550</td>\n",
       "    </tr>\n",
       "    <tr>\n",
       "      <th>2018-01-08</th>\n",
       "      <td>415</td>\n",
       "      <td>31200</td>\n",
       "    </tr>\n",
       "    <tr>\n",
       "      <th>2018-01-11</th>\n",
       "      <td>309</td>\n",
       "      <td>23600</td>\n",
       "    </tr>\n",
       "    <tr>\n",
       "      <th>2018-01-12</th>\n",
       "      <td>-3747</td>\n",
       "      <td>130000</td>\n",
       "    </tr>\n",
       "    <tr>\n",
       "      <th>2018-01-17</th>\n",
       "      <td>1669</td>\n",
       "      <td>123200</td>\n",
       "    </tr>\n",
       "    <tr>\n",
       "      <th>...</th>\n",
       "      <td>...</td>\n",
       "      <td>...</td>\n",
       "    </tr>\n",
       "    <tr>\n",
       "      <th>2019-10-17</th>\n",
       "      <td>172</td>\n",
       "      <td>13000</td>\n",
       "    </tr>\n",
       "    <tr>\n",
       "      <th>2019-10-18</th>\n",
       "      <td>-3133</td>\n",
       "      <td>110000</td>\n",
       "    </tr>\n",
       "    <tr>\n",
       "      <th>2019-10-25</th>\n",
       "      <td>761</td>\n",
       "      <td>57100</td>\n",
       "    </tr>\n",
       "    <tr>\n",
       "      <th>2019-10-28</th>\n",
       "      <td>1325</td>\n",
       "      <td>96800</td>\n",
       "    </tr>\n",
       "    <tr>\n",
       "      <th>2019-10-29</th>\n",
       "      <td>-1859</td>\n",
       "      <td>62500</td>\n",
       "    </tr>\n",
       "  </tbody>\n",
       "</table>\n",
       "<p>129 rows × 2 columns</p>\n",
       "</div>"
      ],
      "text/plain": [
       "             PnL  TradeValue\n",
       "Date                        \n",
       "2018-01-03  1119       55550\n",
       "2018-01-08   415       31200\n",
       "2018-01-11   309       23600\n",
       "2018-01-12 -3747      130000\n",
       "2018-01-17  1669      123200\n",
       "...          ...         ...\n",
       "2019-10-17   172       13000\n",
       "2019-10-18 -3133      110000\n",
       "2019-10-25   761       57100\n",
       "2019-10-28  1325       96800\n",
       "2019-10-29 -1859       62500\n",
       "\n",
       "[129 rows x 2 columns]"
      ]
     },
     "execution_count": 13,
     "metadata": {},
     "output_type": "execute_result"
    }
   ],
   "source": [
    "pd.DataFrame(pnl_cum).set_index('Date')#.cumsum().plot(figsize=(16,8))"
   ]
  },
  {
   "cell_type": "code",
   "execution_count": 7,
   "metadata": {
    "ExecuteTime": {
     "end_time": "2022-11-01T08:56:18.888641Z",
     "start_time": "2022-11-01T08:56:18.594648Z"
    },
    "scrolled": false
   },
   "outputs": [
    {
     "data": {
      "text/plain": [
       "<matplotlib.axes._subplots.AxesSubplot at 0x236c39b6508>"
      ]
     },
     "execution_count": 7,
     "metadata": {},
     "output_type": "execute_result"
    },
    {
     "data": {
      "image/png": "[encoded data removed]",
      "text/plain": [
       "<Figure size 1152x576 with 1 Axes>"
      ]
     },
     "metadata": {
      "needs_background": "light"
     },
     "output_type": "display_data"
    }
   ],
   "source": [
    "pd.DataFrame(pnl_cum).set_index('Date').PnL.cumsum().plot(figsize=(16,8))"
   ]
  },
  {
   "cell_type": "code",
   "execution_count": 8,
   "metadata": {
    "ExecuteTime": {
     "end_time": "2022-11-01T08:57:18.842637Z",
     "start_time": "2022-11-01T08:57:18.607956Z"
    },
    "scrolled": false
   },
   "outputs": [
    {
     "data": {
      "text/plain": [
       "<matplotlib.axes._subplots.AxesSubplot at 0x236c3da1ac8>"
      ]
     },
     "execution_count": 8,
     "metadata": {},
     "output_type": "execute_result"
    },
    {
     "data": {
      "image/png": "[encoded data removed]",
      "text/plain": [
       "<Figure size 1152x576 with 1 Axes>"
      ]
     },
     "metadata": {
      "needs_background": "light"
     },
     "output_type": "display_data"
    }
   ],
   "source": [
    "pd.DataFrame(pnl_cum).set_index('Date').TradeValue.plot(figsize=(16,8))"
   ]
  },
  {
   "cell_type": "code",
   "execution_count": 30,
   "metadata": {
    "ExecuteTime": {
     "end_time": "2022-03-19T16:11:54.522872Z",
     "start_time": "2022-03-19T16:11:53.211658Z"
    }
   },
   "outputs": [
    {
     "name": "stdout",
     "output_type": "stream",
     "text": [
      "Date\n",
      "2007-01-03       1\n",
      "2007-01-04       2\n",
      "2007-01-05       3\n",
      "2007-01-08       6\n",
      "2007-01-09       7\n",
      "              ... \n",
      "2017-04-25    3766\n",
      "2017-04-26    3767\n",
      "2017-04-27    3768\n",
      "2017-04-28    3769\n",
      "2017-05-01    3772\n",
      "Name: date_id, Length: 2600, dtype: int64\n"
     ]
    },
    {
     "data": {
      "text/plain": [
       "<AxesSubplot:xlabel='Date'>"
      ]
     },
     "execution_count": 30,
     "metadata": {},
     "output_type": "execute_result"
    },
    {
     "data": {
      "image/png": "[encoded data removed]",
      "text/plain": [
       "<Figure size 432x288 with 1 Axes>"
      ]
     },
     "metadata": {
      "needs_background": "light"
     },
     "output_type": "display_data"
    }
   ],
   "source": [
    "# import pandas as pd\n",
    "# import quandl as qdl\n",
    "from pandas_datareader import data as web\n",
    "from scipy.stats import linregress\n",
    "\n",
    "# get AAPL 10 years data\n",
    "\n",
    "# data = qdl.get(\"WIKI/AAPL\", start_date=\"2007-01-01\", end_date=\"2017-05-01\")\n",
    "data = web.DataReader(\"AAPL\",'yahoo',\"2007-01-01\", \"2017-05-01\")\n",
    "# print(data)\n",
    "data0 = data.copy()\n",
    "\n",
    "data0['date_id'] = ((data0.index.date - data0.index.date.min())).astype('timedelta64[D]')\n",
    "data0['date_id'] = data0['date_id'].dt.days + 1\n",
    "\n",
    "# high trend line\n",
    "print(data0['date_id'])\n",
    "data1 = data0.copy()\n",
    "\n",
    "while len(data1)>3:\n",
    "\n",
    "    reg = linregress(\n",
    "                    x=data1['date_id'],\n",
    "                    y=data1['High'],\n",
    "                    )\n",
    "    data1 = data1.loc[data1['High'] > reg[0] * data1['date_id'] + reg[1]]\n",
    "\n",
    "reg = linregress(\n",
    "                    x=data1['date_id'],\n",
    "                    y=data1['High'],\n",
    "                    )\n",
    "\n",
    "data0['high_trend'] = reg[0] * data0['date_id'] + reg[1]\n",
    "\n",
    "# low trend line\n",
    "\n",
    "data1 = data0.copy()\n",
    "\n",
    "while len(data1)>3:\n",
    "\n",
    "    reg = linregress(\n",
    "                    x=data1['date_id'],\n",
    "                    y=data1['Low'],\n",
    "                    )\n",
    "    data1 = data1.loc[data1['Low'] < reg[0] * data1['date_id'] + reg[1]]\n",
    "\n",
    "reg = linregress(\n",
    "                    x=data1['date_id'],\n",
    "                    y=data1['Low'],\n",
    "                    )\n",
    "\n",
    "data0['low_trend'] = reg[0] * data0['date_id'] + reg[1]\n",
    "\n",
    "# plot\n",
    "\n",
    "data0['Adj Close'].plot()\n",
    "data0['high_trend'].plot()\n",
    "data0['low_trend'].plot()"
   ]
  }
 ],
 "metadata": {
  "hide_input": false,
  "kernelspec": {
   "display_name": "Python 3",
   "language": "python",
   "name": "python3"
  },
  "language_info": {
   "codemirror_mode": {
    "name": "ipython",
    "version": 3
   },
   "file_extension": ".py",
   "mimetype": "text/x-python",
   "name": "python",
   "nbconvert_exporter": "python",
   "pygments_lexer": "ipython3",
   "version": "3.7.8"
  },
  "toc": {
   "base_numbering": 1,
   "nav_menu": {},
   "number_sections": true,
   "sideBar": true,
   "skip_h1_title": false,
   "title_cell": "Table of Contents",
   "title_sidebar": "Contents",
   "toc_cell": false,
   "toc_position": {},
   "toc_section_display": true,
   "toc_window_display": false
  },
  "varInspector": {
   "cols": {
    "lenName": 16,
    "lenType": 16,
    "lenVar": 40
   },
   "kernels_config": {
    "python": {
     "delete_cmd_postfix": "",
     "delete_cmd_prefix": "del ",
     "library": "var_list.py",
     "varRefreshCmd": "print(var_dic_list())"
    },
    "r": {
     "delete_cmd_postfix": ") ",
     "delete_cmd_prefix": "rm(",
     "library": "var_list.r",
     "varRefreshCmd": "cat(var_dic_list()) "
    }
   },
   "types_to_exclude": [
    "module",
    "function",
    "builtin_function_or_method",
    "instance",
    "_Feature"
   ],
   "window_display": false
  }
 },
 "nbformat": 4,
 "nbformat_minor": 4
}
