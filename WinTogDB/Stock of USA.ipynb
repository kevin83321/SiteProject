{
 "cells": [
  {
   "cell_type": "code",
   "execution_count": 8,
   "metadata": {
    "ExecuteTime": {
     "end_time": "2021-07-31T16:17:02.338746Z",
     "start_time": "2021-07-31T16:17:02.334744Z"
    }
   },
   "outputs": [],
   "source": [
    "import requests\n",
    "from datetime import datetime\n",
    "from time import sleep"
   ]
  },
  {
   "cell_type": "markdown",
   "metadata": {},
   "source": [
    "# Listed Company"
   ]
  },
  {
   "cell_type": "code",
   "execution_count": 11,
   "metadata": {
    "ExecuteTime": {
     "end_time": "2021-08-01T06:45:29.876348Z",
     "start_time": "2021-08-01T06:45:29.861343Z"
    },
    "code_folding": [
     0,
     17
    ]
   },
   "outputs": [],
   "source": [
    "def changeIntoSQLForm(data):\n",
    "    td = datetime.today()\n",
    "    d, t = td.strftime('%Y/%m/%d %H:%M:%S').split(' ')\n",
    "    return {\n",
    "        'UPDATE_USER_ID':\"'Kevin'\",\n",
    "        'UPDATE_DATE':f\"'{d}'\",\n",
    "        'UPDATE_TIME':f\"'{t}'\",\n",
    "        'UPDATE_PROG_CD':\"''\", \n",
    "        'EXCHANGE':\"'US'\", \n",
    "        'ASSETS_TYPE':\"'STOCK'\", #  if data['AssetType'] == '股票' else f\"'{data['AssetType']}'\", #data['AssetType'] \n",
    "        'SYMBOL_CODE':f\"'{data['symbol']}'\", \n",
    "        'SYMBOL_ATTR':\"'Listed'\", \n",
    "        'SYMBOL_NAME':f\"'{data['name']}'\", \n",
    "        'IS_ORDER':1, \n",
    "        'PUBLIC_DATE':\"\" # f\"'{data['IssueDate'].replace('-', '/')}'\"\n",
    "    }\n",
    "\n",
    "def GetListedEquity():\n",
    "    # list data\n",
    "    headers = {\n",
    "        'authority': 'api.nasdaq.com',\n",
    "        'scheme': 'https',\n",
    "        'accept': 'text/html,application/xhtml+xml,application/xml;q=0.9,image/avif,image/webp,image/apng,*/*;q=0.8,application/signed-exchange;v=b3;q=0.9',\n",
    "        'accept-encoding': 'gzip, deflate, br',\n",
    "        'accept-language': 'zh-TW,zh;q=0.9,en-US;q=0.8,en;q=0.7',\n",
    "        'cache-control': 'max-age=0',\n",
    "#         'cookie': '_gcl_au=1.1.1008954664.1627204346; _mkto_trk=id:303-QKM-463&token:_mch-nasdaq.com-1627204346890-46481; _hjid=74654464-4581-403c-bc69-7ae21c27e432; _cc_id=bf331ff6feef96763df28fd6c239d04; panoramaId_expiry=1627809160074; panoramaId=e716bc542755bbf487a0c5317c7c16d5393898caa596af37aa0ba9186a2065b8; OptanonAlertBoxClosed=2021-07-25T09:13:32.051Z; recentlyViewedList=AAPL|Stocks; bfp_sn_rf_8b2087b102c9e3e5ffed1c1478ed8b78=Direct/External; bfp_sn_rt_8b2087b102c9e3e5ffed1c1478ed8b78=1627204827127; AKA_A2=A; _gid=GA1.2.1881567235.1627402915; entryUrl=https://www.nasdaq.com/market-activity/stocks/aapl; entryReferringURL=https://www.nasdaq.com/market-activity/stocks/aapl; OptanonConsent=isGpcEnabled=0&datestamp=Wed+Jul+28+2021+00%3A21%3A56+GMT%2B0800+(%E5%8F%B0%E5%8C%97%E6%A8%99%E6%BA%96%E6%99%82%E9%96%93)&version=6.20.0&isIABGlobal=false&hosts=&landingPath=NotLandingPage&groups=C0004%3A0%2CC0001%3A1%2CC0003%3A0%2CC0002%3A0&AwaitingReconsent=false&geolocation=TW%3BNWT; ak_bmsc=B4B1427C2B4F95CE876713034F2C76B2~000000000000000000000000000000~YAAQd4pFy/6PZ+V6AQAAhM7F6AxEscCmz1MQ8h4wIrX7l1VHQ8Q1UI080qdUUO20Vt0dOMCrQUod0Kerb41LdgFmn2lj8nuVNLeq+YESQgt9yB1SnNCwMDH13Ni/ooqsgIknzA8Hj3Izb/UUPmCSXBfdoFtU4DcwcebERSjUNnNlHgPvgNrTpcGDwwT2pnAJnpFws8YtAVXPi/FZ3RIfudmUVo1HBKSHNBB2TcfOdCToSPnSq64N/HtmhDx+JjoJzx71I9gCF3qSfNu7sw3pVb9rdpFiHckeB/C9LSdPm0hfBy9+Sh4on1NSHKdYjJySH3jsKp7kqo9uYpokG9UieGCDhpbVmTpy3Lzifr2es+GVBtw6gogLeWUEsJKfS0TnbbrIGi+H+47qqAd8kIX1tf/L7X9gRG2ruory/VnLpFO1Y1r/rv/4CWpcJzW52vGhUoSiwilUTi6il3jGyUNvl4Y7vt0oBFtl2Fa8+j/c6SsgMUv37UWv/pCzOA==; _uetsid=c3edf4a0eef611eb861b29cb63eca5d2; _uetvid=6e077640ed2811ebbde611664179ad3a; _ga_4VZJSZ76VC=GS1.1.1627402917.2.0.1627402917.60; _ga=GA1.2.758909213.1627204346; _hjAbsoluteSessionInProgress=1; secondUrl=https://www.nasdaq.com/market-activity/stocks/aapl; RT=\"z=1&dm=nasdaq.com&si=c0a73e8f-c753-4c80-b202-d374af4d1fc6&ss=krizt18y&sl=1&tt=41x&bcn=%2F%2F684d0d3d.akstat.io%2F&ld=39vfr4\"; bfp_sn_pl=1627402917|1_789222109324; NSC_W.OEBR.DPN.7070=ffffffffc3a0f70e45525d5f4f58455e445a4a422dae; bm_sv=52E2C35272F886540417AC249EE6D6C9~JkSCEsGTMPDM4u59EWi9QcIE9QC4P4eCToyvqxvIslIuvgdbfUndnO4m/rdpRvr4+pfmZgosulBX+1isPLiGzqx1Rr3nVZo5jIdkYZGQQKEnSfJ4fHP0dFW8MqnI4mW8hYEi19rrqkNzvalIpsS6f2NWyvWICQWIwLcWzz7T3sw=',\n",
    "        'sec-ch-ua': '\" Not;A Brand\";v=\"99\", \"Google Chrome\";v=\"91\", \"Chromium\";v=\"91\"',\n",
    "        'sec-ch-ua-mobile': '?0',\n",
    "        'sec-fetch-dest': 'document',\n",
    "        'sec-fetch-mode': 'navigate',\n",
    "        'sec-fetch-site': 'none',\n",
    "        'sec-fetch-user': '?1',\n",
    "        'upgrade-insecure-requests': '1',\n",
    "        'user-agent': 'Mozilla/5.0 (Windows NT 10.0; Win64; x64) AppleWebKit/537.36 (KHTML, like Gecko) Chrome/91.0.4472.164 Safari/537.36'\n",
    "    }\n",
    "\n",
    "    url = 'https://api.nasdaq.com/api/screener/stocks?tableonly=false&limit=0&offset=0'\n",
    "    js = requests.get(url, headers=headers)\n",
    "    data = js.json()\n",
    "    # cols = data['data']['table']['headers']\n",
    "    return data['data']['table']['rows']\n",
    "\n",
    "def GetEquityProfile(data):\n",
    "    # sub stock profile\n",
    "    symbol = data[\"symbol\"]\n",
    "    profile_url_root = f'https://api.nasdaq.com/api/company/{symbol}/company-profile'\n",
    "    headers_profile = {\n",
    "        'authority': 'api.nasdaq.com',\n",
    "        # :method: GET\n",
    "        # :path: /api/company/AAPL/company-profile\n",
    "        # :scheme: https\n",
    "        'accept': 'application/json, text/plain, */*',\n",
    "        'accept-encoding': 'gzip, deflate, br',\n",
    "        'accept-language': 'zh-TW,zh;q=0.9,en-US;q=0.8,en;q=0.7',\n",
    "        'origin': 'https://www.nasdaq.com',\n",
    "        'referer': 'https://www.nasdaq.com/',\n",
    "        'sec-ch-ua': '\" Not;A Brand\";v=\"99\", \"Google Chrome\";v=\"91\", \"Chromium\";v=\"91\"',\n",
    "        'sec-ch-ua-mobile': '?0',\n",
    "        'sec-fetch-dest': 'empty',\n",
    "        'sec-fetch-mode': 'cors',\n",
    "        'sec-fetch-site': 'same-site',\n",
    "        'user-agent': 'Mozilla/5.0 (Windows NT 10.0; Win64; x64) AppleWebKit/537.36 (KHTML, like Gecko) Chrome/91.0.4472.164 Safari/537.36'\n",
    "    }\n",
    "    profile_js = requests.get(profile_url_root, headers=headers_profile)\n",
    "    profile_data = profile_js.json()\n",
    "    profile_detail = profile_data['data']\n",
    "    return {'INDUSTRY': profile_detail['Industry']['value'] if profile_detail != None else \"\"} "
   ]
  },
  {
   "cell_type": "code",
   "execution_count": 3,
   "metadata": {
    "ExecuteTime": {
     "end_time": "2021-07-31T16:16:16.255375Z",
     "start_time": "2021-07-31T16:16:16.106380Z"
    }
   },
   "outputs": [],
   "source": [
    "# cols = data['data']['table']['headers']\n",
    "rows = GetListedEquity()#data['data']['table']['rows']"
   ]
  },
  {
   "cell_type": "code",
   "execution_count": 13,
   "metadata": {
    "ExecuteTime": {
     "end_time": "2021-08-01T09:13:44.628396Z",
     "start_time": "2021-08-01T06:46:23.263882Z"
    }
   },
   "outputs": [
    {
     "name": "stdout",
     "output_type": "stream",
     "text": [
      "{'symbol': 'PHM', 'name': 'PulteGroup, Inc. Common Stock', 'lastsale': '$54.87', 'netchange': '-0.19', 'pctchange': '-0.345%', 'marketCap': '14,240,098,890', 'url': '/market-activity/stocks/phm', 'INDUSTRY': None}\n",
      "{'symbol': 'MQ', 'name': 'Marqeta, Inc. Class A Common Stock', 'lastsale': '$26.83', 'netchange': '-0.85', 'pctchange': '-3.071%', 'marketCap': '14,226,497,524', 'url': '/market-activity/stocks/mq', 'INDUSTRY': None}\n",
      "{'symbol': 'SJM', 'name': 'J.M. Smucker Company (The) New Common Stock', 'lastsale': '$131.11', 'netchange': '-0.28', 'pctchange': '-0.213%', 'marketCap': '14,207,315,467', 'url': '/market-activity/stocks/sjm', 'INDUSTRY': 'Packaged Foods'}\n",
      "{'symbol': 'AKO/A', 'name': 'Embotelladora Andina S.A.', 'lastsale': '$11.50', 'netchange': '-0.336', 'pctchange': '-2.839%', 'marketCap': 'NA', 'url': '/market-activity/stocks/ako/a'}\n",
      "{'symbol': 'AKO/B', 'name': 'Embotelladora Andina S.A.', 'lastsale': '$14.22', 'netchange': '0.335', 'pctchange': '2.413%', 'marketCap': 'NA', 'url': '/market-activity/stocks/ako/b'}\n",
      "{'symbol': 'BF/A', 'name': 'Brown Forman Corporation', 'lastsale': '$66.89', 'netchange': '0.29', 'pctchange': '0.435%', 'marketCap': 'NA', 'url': '/market-activity/stocks/bf/a'}\n",
      "{'symbol': 'BF/B', 'name': 'Brown Forman Corporation', 'lastsale': '$70.92', 'netchange': '-0.54', 'pctchange': '-0.756%', 'marketCap': 'NA', 'url': '/market-activity/stocks/bf/b'}\n",
      "{'symbol': 'BIO/B', 'name': 'Bio-Rad Laboratories, Inc.', 'lastsale': '$697.76', 'netchange': 'UNCH', 'pctchange': '--', 'marketCap': 'NA', 'url': '/market-activity/stocks/bio/b'}\n",
      "{'symbol': 'BRK/A', 'name': 'Berkshire Hathaway Inc.', 'lastsale': '$418900.00', 'netchange': '-1776.00', 'pctchange': '-0.422%', 'marketCap': 'NA', 'url': '/market-activity/stocks/brk/a'}\n",
      "{'symbol': 'BRK/B', 'name': 'Berkshire Hathaway Inc.', 'lastsale': '$278.29', 'netchange': '-1.47', 'pctchange': '-0.525%', 'marketCap': 'NA', 'url': '/market-activity/stocks/brk/b'}\n",
      "{'symbol': 'BWL/A', 'name': 'Bowl America, Inc.', 'lastsale': '$9.07', 'netchange': '0.10', 'pctchange': '1.115%', 'marketCap': 'NA', 'url': '/market-activity/stocks/bwl/a'}\n",
      "{'symbol': 'CRD/A', 'name': 'Crawford & Company', 'lastsale': '$10.57', 'netchange': '-0.08', 'pctchange': '-0.751%', 'marketCap': 'NA', 'url': '/market-activity/stocks/crd/a'}\n",
      "{'symbol': 'CRD/B', 'name': 'Crawford & Company', 'lastsale': '$10.35', 'netchange': '-0.05', 'pctchange': '-0.481%', 'marketCap': 'NA', 'url': '/market-activity/stocks/crd/b'}\n",
      "{'symbol': 'HEI/A', 'name': 'Heico Corporation', 'lastsale': '$121.29', 'netchange': '-1.70', 'pctchange': '-1.382%', 'marketCap': 'NA', 'url': '/market-activity/stocks/hei/a'}\n",
      "{'symbol': 'HVT/A', 'name': 'Haverty Furniture Companies, Inc.', 'lastsale': '$37.00', 'netchange': 'UNCH', 'pctchange': '--', 'marketCap': 'NA', 'url': '/market-activity/stocks/hvt/a'}\n",
      "{'symbol': 'JW/A', 'name': 'John Wiley & Sons, Inc.', 'lastsale': '$58.78', 'netchange': '-0.48', 'pctchange': '-0.81%', 'marketCap': 'NA', 'url': '/market-activity/stocks/jw/a'}\n",
      "{'symbol': 'JW/B', 'name': 'John Wiley & Sons, Inc.', 'lastsale': '$58.66', 'netchange': '-0.37', 'pctchange': '-0.627%', 'marketCap': 'NA', 'url': '/market-activity/stocks/jw/b'}\n",
      "{'symbol': 'RDS/B', 'name': 'Royal Dutch Shell PLC', 'lastsale': '$39.55', 'netchange': '-0.37', 'pctchange': '-0.927%', 'marketCap': 'NA', 'url': '/market-activity/stocks/rds/b'}\n",
      "{'symbol': 'STZ/B', 'name': 'Constellation Brands Inc', 'lastsale': '$226.70', 'netchange': 'UNCH', 'pctchange': '--', 'marketCap': 'NA', 'url': '/market-activity/stocks/stz/b'}\n",
      "{'symbol': 'WSO/B', 'name': 'Watsco, Inc.', 'lastsale': '$292.01', 'netchange': 'UNCH', 'pctchange': '--', 'marketCap': 'NA', 'url': '/market-activity/stocks/wso/b'}\n"
     ]
    }
   ],
   "source": [
    "datas = []\n",
    "for data in rows:\n",
    "    try:\n",
    "        data.update(GetEquityProfile(data))\n",
    "        datas.append(data)\n",
    "        sleep(1)\n",
    "    except:\n",
    "        print(data)"
   ]
  },
  {
   "cell_type": "code",
   "execution_count": 12,
   "metadata": {
    "ExecuteTime": {
     "end_time": "2021-07-27T16:34:51.393337Z",
     "start_time": "2021-07-27T16:34:51.309798Z"
    }
   },
   "outputs": [],
   "source": [
    "# sub stock profile\n",
    "symbol = \"AAPL\"\n",
    "profile_url_root = f'https://api.nasdaq.com/api/company/{symbol}/company-profile'\n",
    "headers_profile = {\n",
    "    'authority': 'api.nasdaq.com',\n",
    "    # :method: GET\n",
    "    # :path: /api/company/AAPL/company-profile\n",
    "    # :scheme: https\n",
    "    'accept': 'application/json, text/plain, */*',\n",
    "    'accept-encoding': 'gzip, deflate, br',\n",
    "    'accept-language': 'zh-TW,zh;q=0.9,en-US;q=0.8,en;q=0.7',\n",
    "    'origin': 'https://www.nasdaq.com',\n",
    "    'referer': 'https://www.nasdaq.com/',\n",
    "    'sec-ch-ua': '\" Not;A Brand\";v=\"99\", \"Google Chrome\";v=\"91\", \"Chromium\";v=\"91\"',\n",
    "    'sec-ch-ua-mobile': '?0',\n",
    "    'sec-fetch-dest': 'empty',\n",
    "    'sec-fetch-mode': 'cors',\n",
    "    'sec-fetch-site': 'same-site',\n",
    "    'user-agent': 'Mozilla/5.0 (Windows NT 10.0; Win64; x64) AppleWebKit/537.36 (KHTML, like Gecko) Chrome/91.0.4472.164 Safari/537.36'\n",
    "}\n",
    "profile_js = requests.get(profile_url_root, headers=headers_profile)\n",
    "profile_data = profile_js.json()"
   ]
  },
  {
   "cell_type": "code",
   "execution_count": 15,
   "metadata": {
    "ExecuteTime": {
     "end_time": "2021-07-27T16:35:20.033924Z",
     "start_time": "2021-07-27T16:35:20.027920Z"
    }
   },
   "outputs": [
    {
     "data": {
      "text/plain": [
       "{'ModuleTitle': {'label': 'Module Title', 'value': 'Company Description'},\n",
       " 'CompanyName': {'label': 'Company Name', 'value': 'Apple Inc.'},\n",
       " 'Symbol': {'label': 'Symbol', 'value': 'AAPL'},\n",
       " 'Address': {'label': 'Address',\n",
       "  'value': 'ONE APPLE PARK WAY, CUPERTINO, California, 95014, United States'},\n",
       " 'Phone': {'label': 'Phone', 'value': '+1 408 996-1010'},\n",
       " 'Industry': {'label': 'Industry', 'value': 'Computer Manufacturing'},\n",
       " 'Sector': {'label': 'Sector', 'value': 'Technology'},\n",
       " 'Region': {'label': 'Region', 'value': 'North America'},\n",
       " 'CompanyDescription': {'label': 'Company Description',\n",
       "  'value': \"Apple designs a wide variety of consumer electronic devices, including smartphones (iPhone), tablets (iPad), PCs (Mac), smartwatches (Apple Watch), and TV boxes (Apple TV), among others. The iPhone makes up the majority of Apple's total revenue. In addition, Apple offers its customers a variety of services such as Apple Music, iCloud, Apple Care, Apple TV+, Apple Arcade, Apple Card, and Apple Pay, among others. Apple's products run internally developed software and semiconductors, and the firm is well known for its integration of hardware, software and services. Apple's products are distributed online as well as through company-owned stores and third-party retailers. The company generates roughly 40% of its revenue from the Americas, with the remainder earned internationally.\"},\n",
       " 'CompanyUrl': {'label': 'Company Url', 'value': 'https://www.apple.com'},\n",
       " 'KeyExecutives': {'label': 'Key Executives',\n",
       "  'value': [{'name': 'Jeffrey E. Williams',\n",
       "    'title': 'Chief Operating Officer'},\n",
       "   {'name': 'Kevin M. Lynch', 'title': 'Vice President-Technology'},\n",
       "   {'name': 'Luca Maestri',\n",
       "    'title': 'Chief Financial Officer & Senior Vice President'},\n",
       "   {'name': 'Timothy Donald Cook',\n",
       "    'title': 'Chief Executive Officer & Director'}]}}"
      ]
     },
     "execution_count": 15,
     "metadata": {},
     "output_type": "execute_result"
    }
   ],
   "source": [
    "profile_detail = profile_data['data']\n",
    "profile_detail"
   ]
  },
  {
   "cell_type": "markdown",
   "metadata": {},
   "source": [
    "# Historical Data"
   ]
  },
  {
   "cell_type": "code",
   "execution_count": 2,
   "metadata": {
    "ExecuteTime": {
     "end_time": "2021-07-31T09:14:26.344461Z",
     "start_time": "2021-07-31T09:14:24.896847Z"
    }
   },
   "outputs": [],
   "source": [
    "start_date = \"2010-01-01\" # 1971-02-05\n",
    "end_date = \"2021-07-29\"\n",
    "symbol = \"AAPL\"\n",
    "url = f\"https://api.nasdaq.com/api/quote/{symbol}/historical?assetclass=stocks&fromdate={start_date}&limit=18&todate={end_date}\"\n",
    "\n",
    "headers = {\n",
    "    'authority': 'api.nasdaq.com',\n",
    "    'method': 'GET',\n",
    "#     'path': '/api/quote/AAPL/historical?assetclass=stocks&fromdate=2011-07-29&limit=18&todate=2021-07-29',/\n",
    "    'scheme': 'https',\n",
    "    'accept': 'application/json, text/plain, */*',\n",
    "    'accept-encoding': 'gzip, deflate, br',\n",
    "    'accept-language': 'zh-TW,zh;q=0.9,en-US;q=0.8,en;q=0.7',\n",
    "    'origin': 'https://www.nasdaq.com',\n",
    "    'referer': 'https://www.nasdaq.com/',\n",
    "    'sec-ch-ua': '\" Not;A Brand\";v=\"99\", \"Google Chrome\";v=\"91\", \"Chromium\";v=\"91\"',\n",
    "    'sec-ch-ua-mobile': '?0',\n",
    "    'sec-fetch-dest': 'empty',\n",
    "    'sec-fetch-mode': 'cors',\n",
    "    'sec-fetch-site': 'same-site',\n",
    "    'user-agent': 'Mozilla/5.0 (Windows NT 10.0; Win64; x64) AppleWebKit/537.36 (KHTML, like Gecko) Chrome/91.0.4472.164 Safari/537.36'\n",
    "}\n",
    "\n",
    "res = requests.get(url, headers=headers)"
   ]
  },
  {
   "cell_type": "code",
   "execution_count": 3,
   "metadata": {
    "ExecuteTime": {
     "end_time": "2021-07-31T09:14:26.830659Z",
     "start_time": "2021-07-31T09:14:26.826998Z"
    }
   },
   "outputs": [],
   "source": [
    "js = res.json()"
   ]
  },
  {
   "cell_type": "code",
   "execution_count": 4,
   "metadata": {
    "ExecuteTime": {
     "end_time": "2021-07-31T09:14:27.734012Z",
     "start_time": "2021-07-31T09:14:27.730011Z"
    }
   },
   "outputs": [],
   "source": [
    "cols = js['data']['tradesTable']['headers']\n",
    "rows = js['data']['tradesTable']['rows']"
   ]
  },
  {
   "cell_type": "code",
   "execution_count": 11,
   "metadata": {
    "ExecuteTime": {
     "end_time": "2021-07-31T09:17:28.457176Z",
     "start_time": "2021-07-31T09:17:28.446177Z"
    }
   },
   "outputs": [],
   "source": [
    "def changeToFloat(x):\n",
    "    try:\n",
    "        return float(str(x).replace(',','').replace('$',''))\n",
    "    except:\n",
    "        return x\n",
    "    \n",
    "def Update_data_dict(data):\n",
    "    for k in data.keys():\n",
    "        data[k] = changeToFloat(data[k])\n",
    "    return data\n",
    "\n",
    "def ChangeIntoCasForm(data, asset_type, ticker):\n",
    "    update_date, update_time = datetime.today().strftime('%Y/%m/%d %H:%M:%S').split(' ')\n",
    "    m, d, y = data['date'].split('/')\n",
    "    trade_date = '/'.join([y, m, d])\n",
    "    return {\n",
    "        'exchange': 'US',\n",
    "        'assets_type': 'Stock', # if asset_type == '股票' else 'ETF',\n",
    "        'symbol_code': ticker,\n",
    "        'kline_period': '1440',\n",
    "        'kline_datetime': trade_date, # data['Date'].replace('-', '/'),\n",
    "        'close_price': str(data['close']),\n",
    "        'high_price': str(data['high']),\n",
    "        'low_price': str(data['low']),\n",
    "        'open_price': str(data['open']),\n",
    "        'pkno': None,\n",
    "        'trans_volume': str(data['volume']),\n",
    "        'update_date': update_date,\n",
    "        'update_time': update_time,\n",
    "        'update_user_id': 'Kevin',\n",
    "    }"
   ]
  },
  {
   "cell_type": "code",
   "execution_count": 12,
   "metadata": {
    "ExecuteTime": {
     "end_time": "2021-07-31T09:17:30.093259Z",
     "start_time": "2021-07-31T09:17:30.086258Z"
    }
   },
   "outputs": [
    {
     "data": {
      "text/plain": [
       "{'exchange': 'US',\n",
       " 'assets_type': 'Stock',\n",
       " 'symbol_code': 'AAPL',\n",
       " 'kline_period': '1440',\n",
       " 'kline_datetime': '2021/07/29',\n",
       " 'close_price': '145.64',\n",
       " 'high_price': '146.55',\n",
       " 'low_price': '144.58',\n",
       " 'open_price': '144.685',\n",
       " 'pkno': None,\n",
       " 'trans_volume': '56699480.0',\n",
       " 'update_date': '2021/07/31',\n",
       " 'update_time': '17:17:30',\n",
       " 'update_user_id': 'Kevin'}"
      ]
     },
     "execution_count": 12,
     "metadata": {},
     "output_type": "execute_result"
    }
   ],
   "source": [
    "ChangeIntoCasForm(Update_data_dict(rows[0]), \"Stock\", symbol)"
   ]
  }
 ],
 "metadata": {
  "hide_input": false,
  "kernelspec": {
   "display_name": "Python 3",
   "language": "python",
   "name": "python3"
  },
  "toc": {
   "base_numbering": 1,
   "nav_menu": {},
   "number_sections": true,
   "sideBar": true,
   "skip_h1_title": false,
   "title_cell": "Table of Contents",
   "title_sidebar": "Contents",
   "toc_cell": false,
   "toc_position": {},
   "toc_section_display": true,
   "toc_window_display": false
  },
  "varInspector": {
   "cols": {
    "lenName": 16,
    "lenType": 16,
    "lenVar": 40
   },
   "kernels_config": {
    "python": {
     "delete_cmd_postfix": "",
     "delete_cmd_prefix": "del ",
     "library": "var_list.py",
     "varRefreshCmd": "print(var_dic_list())"
    },
    "r": {
     "delete_cmd_postfix": ") ",
     "delete_cmd_prefix": "rm(",
     "library": "var_list.r",
     "varRefreshCmd": "cat(var_dic_list()) "
    }
   },
   "types_to_exclude": [
    "module",
    "function",
    "builtin_function_or_method",
    "instance",
    "_Feature"
   ],
   "window_display": false
  }
 },
 "nbformat": 4,
 "nbformat_minor": 4
}
